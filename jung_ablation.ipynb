{
 "cells": [
  {
   "cell_type": "code",
   "execution_count": 1,
   "id": "f288a283",
   "metadata": {},
   "outputs": [
    {
     "name": "stderr",
     "output_type": "stream",
     "text": [
      "/home/users/lewinsda/.conda/envs/daniel_thesis_2/lib/python3.9/site-packages/tqdm/auto.py:22: TqdmWarning: IProgress not found. Please update jupyter and ipywidgets. See https://ipywidgets.readthedocs.io/en/stable/user_install.html\n",
      "  from .autonotebook import tqdm as notebook_tqdm\n"
     ]
    }
   ],
   "source": [
    "import numpy as np\n",
    "import pandas as pd\n",
    "import matplotlib.pyplot as plt\n",
    "import seaborn as sns\n",
    "import torch\n",
    "from test_model import test_model\n",
    "from sklearn.metrics import confusion_matrix, ConfusionMatrixDisplay\n",
    "from sc_sharp import scSHARP\n",
    "import utilities\n",
    "from sklearn import preprocessing"
   ]
  },
  {
   "cell_type": "code",
   "execution_count": 27,
   "id": "685e4687",
   "metadata": {},
   "outputs": [],
   "source": [
    "# create new dge without markers, Sycp1, Mllt10, Spaca1  highest in SPC attribution scores\n",
    "old_counts = pd.read_csv(\"/home/groups/ConradLab/daniel/sharp_data/jung/counts.csv\", index_col=0)\n",
    "new_counts = old_counts.drop([\"Mllt10\", \"Sycp1\", \"Spaca1\"], axis=1)\n",
    "new_counts.to_csv(\"/home/groups/ConradLab/daniel/sharp_data/jung_ablation/ablated_counts.csv\")"
   ]
  },
  {
   "cell_type": "code",
   "execution_count": 19,
   "id": "dc1a795a",
   "metadata": {},
   "outputs": [
    {
     "name": "stdout",
     "output_type": "stream",
     "text": [
      "[0.34682080149650574, 0.323699414730072, 0.24710983037948608, 0.42052024602890015, 0.44075143337249756]\n"
     ]
    },
    {
     "name": "stderr",
     "output_type": "stream",
     "text": [
      "/home/users/lewinsda/scSHARP/utilities.py:187: UserWarning: To copy construct from a tensor, it is recommended to use sourceTensor.clone().detach() or sourceTensor.clone().detach().requires_grad_(True), rather than torch.tensor(sourceTensor).\n",
      "  return float((torch.tensor(preds) == torch.tensor(real)).type(torch.FloatTensor).mean().numpy())\n"
     ]
    },
    {
     "data": {
      "text/html": [
       "<div>\n",
       "<style scoped>\n",
       "    .dataframe tbody tr th:only-of-type {\n",
       "        vertical-align: middle;\n",
       "    }\n",
       "\n",
       "    .dataframe tbody tr th {\n",
       "        vertical-align: top;\n",
       "    }\n",
       "\n",
       "    .dataframe thead th {\n",
       "        text-align: right;\n",
       "    }\n",
       "</style>\n",
       "<table border=\"1\" class=\"dataframe\">\n",
       "  <thead>\n",
       "    <tr style=\"text-align: right;\">\n",
       "      <th></th>\n",
       "      <th>data_name</th>\n",
       "      <th>method</th>\n",
       "      <th>total_accuracy</th>\n",
       "      <th>train_accuracy</th>\n",
       "      <th>test_accuracy</th>\n",
       "      <th>total_sd</th>\n",
       "      <th>train_sd</th>\n",
       "      <th>test_sd</th>\n",
       "    </tr>\n",
       "  </thead>\n",
       "  <tbody>\n",
       "    <tr>\n",
       "      <th>0</th>\n",
       "      <td>jung</td>\n",
       "      <td>GCN</td>\n",
       "      <td>0.355780</td>\n",
       "      <td>0.357276</td>\n",
       "      <td>0.334783</td>\n",
       "      <td>0.077991</td>\n",
       "      <td>0.088887</td>\n",
       "      <td>0.104935</td>\n",
       "    </tr>\n",
       "    <tr>\n",
       "      <th>1</th>\n",
       "      <td>jung</td>\n",
       "      <td>Max Col.</td>\n",
       "      <td>0.807803</td>\n",
       "      <td>0.865325</td>\n",
       "      <td>0.000000</td>\n",
       "      <td>0.000000</td>\n",
       "      <td>0.000000</td>\n",
       "      <td>0.000000</td>\n",
       "    </tr>\n",
       "    <tr>\n",
       "      <th>2</th>\n",
       "      <td>jung</td>\n",
       "      <td>Confident Labels</td>\n",
       "      <td>NaN</td>\n",
       "      <td>0.865325</td>\n",
       "      <td>NaN</td>\n",
       "      <td>0.000000</td>\n",
       "      <td>0.000000</td>\n",
       "      <td>0.000000</td>\n",
       "    </tr>\n",
       "    <tr>\n",
       "      <th>3</th>\n",
       "      <td>jung</td>\n",
       "      <td>sctype</td>\n",
       "      <td>0.848266</td>\n",
       "      <td>0.863777</td>\n",
       "      <td>0.630435</td>\n",
       "      <td>0.000000</td>\n",
       "      <td>0.000000</td>\n",
       "      <td>0.000000</td>\n",
       "    </tr>\n",
       "    <tr>\n",
       "      <th>4</th>\n",
       "      <td>jung</td>\n",
       "      <td>scsorter</td>\n",
       "      <td>0.774566</td>\n",
       "      <td>0.828173</td>\n",
       "      <td>0.021739</td>\n",
       "      <td>0.000000</td>\n",
       "      <td>0.000000</td>\n",
       "      <td>0.000000</td>\n",
       "    </tr>\n",
       "    <tr>\n",
       "      <th>5</th>\n",
       "      <td>jung</td>\n",
       "      <td>scina</td>\n",
       "      <td>0.539017</td>\n",
       "      <td>0.577399</td>\n",
       "      <td>0.000000</td>\n",
       "      <td>0.000000</td>\n",
       "      <td>0.000000</td>\n",
       "      <td>0.000000</td>\n",
       "    </tr>\n",
       "    <tr>\n",
       "      <th>6</th>\n",
       "      <td>jung</td>\n",
       "      <td>Tool Avg.</td>\n",
       "      <td>0.720617</td>\n",
       "      <td>0.756450</td>\n",
       "      <td>0.217391</td>\n",
       "      <td>0.161529</td>\n",
       "      <td>0.156081</td>\n",
       "      <td>0.357871</td>\n",
       "    </tr>\n",
       "  </tbody>\n",
       "</table>\n",
       "</div>"
      ],
      "text/plain": [
       "  data_name            method  total_accuracy  train_accuracy  test_accuracy  \\\n",
       "0      jung               GCN        0.355780        0.357276       0.334783   \n",
       "1      jung          Max Col.        0.807803        0.865325       0.000000   \n",
       "2      jung  Confident Labels             NaN        0.865325            NaN   \n",
       "3      jung            sctype        0.848266        0.863777       0.630435   \n",
       "4      jung          scsorter        0.774566        0.828173       0.021739   \n",
       "5      jung             scina        0.539017        0.577399       0.000000   \n",
       "6      jung         Tool Avg.        0.720617        0.756450       0.217391   \n",
       "\n",
       "   total_sd  train_sd   test_sd  \n",
       "0  0.077991  0.088887  0.104935  \n",
       "1  0.000000  0.000000  0.000000  \n",
       "2  0.000000  0.000000  0.000000  \n",
       "3  0.000000  0.000000  0.000000  \n",
       "4  0.000000  0.000000  0.000000  \n",
       "5  0.000000  0.000000  0.000000  \n",
       "6  0.161529  0.156081  0.357871  "
      ]
     },
     "execution_count": 19,
     "metadata": {},
     "output_type": "execute_result"
    }
   ],
   "source": [
    "data_folders = [\"/home/groups/ConradLab/daniel/sharp_data/jung/\"]\n",
    "tools = [\"sctype\",\"scsorter\",\"scina\"]\n",
    "votes_necessary = .51\n",
    "model_file = \"configs/2_25.txt\"\n",
    "neighbors = 2\n",
    "batch_size=20\n",
    "training_epochs=0\n",
    "random_inits = 5\n",
    "counts=\"counts.csv\"\n",
    "meta=\"labels.csv\"\n",
    "meta_col = 0\n",
    "results = test_model(data_folders, tools, votes_necessary, model_file, neighbors, batch_size, training_epochs, random_inits, counts=counts, meta=meta, meta_col=meta_col)\n",
    "results"
   ]
  },
  {
   "cell_type": "code",
   "execution_count": 28,
   "id": "4941ea04",
   "metadata": {},
   "outputs": [
    {
     "name": "stdout",
     "output_type": "stream",
     "text": [
      "[0.37716764211654663, 0.32225432991981506, 0.24566474556922913, 0.411849707365036, 0.4017341136932373]\n"
     ]
    },
    {
     "name": "stderr",
     "output_type": "stream",
     "text": [
      "/home/users/lewinsda/scSHARP/utilities.py:187: UserWarning: To copy construct from a tensor, it is recommended to use sourceTensor.clone().detach() or sourceTensor.clone().detach().requires_grad_(True), rather than torch.tensor(sourceTensor).\n",
      "  return float((torch.tensor(preds) == torch.tensor(real)).type(torch.FloatTensor).mean().numpy())\n"
     ]
    },
    {
     "data": {
      "text/html": [
       "<div>\n",
       "<style scoped>\n",
       "    .dataframe tbody tr th:only-of-type {\n",
       "        vertical-align: middle;\n",
       "    }\n",
       "\n",
       "    .dataframe tbody tr th {\n",
       "        vertical-align: top;\n",
       "    }\n",
       "\n",
       "    .dataframe thead th {\n",
       "        text-align: right;\n",
       "    }\n",
       "</style>\n",
       "<table border=\"1\" class=\"dataframe\">\n",
       "  <thead>\n",
       "    <tr style=\"text-align: right;\">\n",
       "      <th></th>\n",
       "      <th>data_name</th>\n",
       "      <th>method</th>\n",
       "      <th>total_accuracy</th>\n",
       "      <th>train_accuracy</th>\n",
       "      <th>test_accuracy</th>\n",
       "      <th>total_sd</th>\n",
       "      <th>train_sd</th>\n",
       "      <th>test_sd</th>\n",
       "    </tr>\n",
       "  </thead>\n",
       "  <tbody>\n",
       "    <tr>\n",
       "      <th>0</th>\n",
       "      <td>jung_ablation</td>\n",
       "      <td>GCN</td>\n",
       "      <td>0.351734</td>\n",
       "      <td>0.354899</td>\n",
       "      <td>0.310204</td>\n",
       "      <td>0.068703</td>\n",
       "      <td>0.081766</td>\n",
       "      <td>0.127775</td>\n",
       "    </tr>\n",
       "    <tr>\n",
       "      <th>1</th>\n",
       "      <td>jung_ablation</td>\n",
       "      <td>Max Col.</td>\n",
       "      <td>0.793353</td>\n",
       "      <td>0.853810</td>\n",
       "      <td>0.000000</td>\n",
       "      <td>0.000000</td>\n",
       "      <td>0.000000</td>\n",
       "      <td>0.000000</td>\n",
       "    </tr>\n",
       "    <tr>\n",
       "      <th>2</th>\n",
       "      <td>jung_ablation</td>\n",
       "      <td>Confident Labels</td>\n",
       "      <td>NaN</td>\n",
       "      <td>0.853810</td>\n",
       "      <td>NaN</td>\n",
       "      <td>0.000000</td>\n",
       "      <td>0.000000</td>\n",
       "      <td>0.000000</td>\n",
       "    </tr>\n",
       "    <tr>\n",
       "      <th>3</th>\n",
       "      <td>jung_ablation</td>\n",
       "      <td>sctype</td>\n",
       "      <td>0.650289</td>\n",
       "      <td>0.692068</td>\n",
       "      <td>0.102041</td>\n",
       "      <td>0.000000</td>\n",
       "      <td>0.000000</td>\n",
       "      <td>0.000000</td>\n",
       "    </tr>\n",
       "    <tr>\n",
       "      <th>4</th>\n",
       "      <td>jung_ablation</td>\n",
       "      <td>scsorter</td>\n",
       "      <td>0.783237</td>\n",
       "      <td>0.827372</td>\n",
       "      <td>0.204082</td>\n",
       "      <td>0.000000</td>\n",
       "      <td>0.000000</td>\n",
       "      <td>0.000000</td>\n",
       "    </tr>\n",
       "    <tr>\n",
       "      <th>5</th>\n",
       "      <td>jung_ablation</td>\n",
       "      <td>scina</td>\n",
       "      <td>0.540462</td>\n",
       "      <td>0.581649</td>\n",
       "      <td>0.000000</td>\n",
       "      <td>0.000000</td>\n",
       "      <td>0.000000</td>\n",
       "      <td>0.000000</td>\n",
       "    </tr>\n",
       "    <tr>\n",
       "      <th>6</th>\n",
       "      <td>jung_ablation</td>\n",
       "      <td>Tool Avg.</td>\n",
       "      <td>0.657996</td>\n",
       "      <td>0.700363</td>\n",
       "      <td>0.102041</td>\n",
       "      <td>0.121571</td>\n",
       "      <td>0.123071</td>\n",
       "      <td>0.102041</td>\n",
       "    </tr>\n",
       "  </tbody>\n",
       "</table>\n",
       "</div>"
      ],
      "text/plain": [
       "       data_name            method  total_accuracy  train_accuracy  \\\n",
       "0  jung_ablation               GCN        0.351734        0.354899   \n",
       "1  jung_ablation          Max Col.        0.793353        0.853810   \n",
       "2  jung_ablation  Confident Labels             NaN        0.853810   \n",
       "3  jung_ablation            sctype        0.650289        0.692068   \n",
       "4  jung_ablation          scsorter        0.783237        0.827372   \n",
       "5  jung_ablation             scina        0.540462        0.581649   \n",
       "6  jung_ablation         Tool Avg.        0.657996        0.700363   \n",
       "\n",
       "   test_accuracy  total_sd  train_sd   test_sd  \n",
       "0       0.310204  0.068703  0.081766  0.127775  \n",
       "1       0.000000  0.000000  0.000000  0.000000  \n",
       "2            NaN  0.000000  0.000000  0.000000  \n",
       "3       0.102041  0.000000  0.000000  0.000000  \n",
       "4       0.204082  0.000000  0.000000  0.000000  \n",
       "5       0.000000  0.000000  0.000000  0.000000  \n",
       "6       0.102041  0.121571  0.123071  0.102041  "
      ]
     },
     "execution_count": 28,
     "metadata": {},
     "output_type": "execute_result"
    }
   ],
   "source": [
    "data_folders = [\"/home/groups/ConradLab/daniel/sharp_data/jung_ablation/\"]\n",
    "tools = [\"sctype\",\"scsorter\",\"scina\"]\n",
    "votes_necessary = .51\n",
    "model_file = \"configs/2_25.txt\"\n",
    "neighbors = 2\n",
    "batch_size=20\n",
    "training_epochs=0\n",
    "random_inits = 5\n",
    "counts=\"ablated_counts.csv\"\n",
    "meta=\"labels.csv\"\n",
    "meta_col = 0\n",
    "results = test_model(data_folders, tools, votes_necessary, model_file, neighbors, batch_size, training_epochs, random_inits, counts=counts, meta=meta, meta_col=meta_col)\n",
    "results"
   ]
  },
  {
   "cell_type": "code",
   "execution_count": 29,
   "id": "ab165e3e",
   "metadata": {},
   "outputs": [
    {
     "data": {
      "text/plain": [
       "Index(['spc', 'spd', 'spg'], dtype='object')"
      ]
     },
     "execution_count": 29,
     "metadata": {},
     "output_type": "execute_result"
    }
   ],
   "source": [
    "real_labels = pd.read_csv(\"/home/groups/ConradLab/daniel/sharp_data/jung/labels.csv\", index_col=0).iloc[:,0]\n",
    "real_labels,keys = pd.factorize(real_labels, sort=True)\n",
    "keys"
   ]
  },
  {
   "cell_type": "code",
   "execution_count": 30,
   "id": "2661ee88",
   "metadata": {},
   "outputs": [],
   "source": [
    "#train GCN on full data\n",
    "data_path = \"/home/groups/ConradLab/daniel/sharp_data/jung_ablation/counts.csv\"\n",
    "tool_preds = \"/home/groups/ConradLab/daniel/sharp_data/jung_ablation/preds.csv\"\n",
    "tool_list = [\"scina\", \"scsorter\", \"sctype\"]\n",
    "marker_path = \"/home/groups/ConradLab/daniel/sharp_data/jung_ablation/markers.txt\"\n",
    "neighbors=2\n",
    "config=\"configs/2_25.txt\"\n",
    "sharp = scSHARP(data_path, tool_preds, tool_list, marker_path, neighbors, config)"
   ]
  },
  {
   "cell_type": "code",
   "execution_count": 31,
   "id": "3aec6075",
   "metadata": {},
   "outputs": [
    {
     "name": "stdout",
     "output_type": "stream",
     "text": [
      "Loss in epoch 0 = 16.733681\n",
      "Loss in epoch 10 = 0.021175\n",
      "Loss in epoch 20 = 0.005412\n",
      "Loss in epoch 30 = 0.002761\n",
      "Loss in epoch 40 = 0.001529\n",
      "Loss in epoch 50 = 0.000878\n",
      "Loss in epoch 60 = 0.000655\n",
      "Loss in epoch 70 = 0.000523\n",
      "Loss in epoch 80 = 0.000295\n",
      "Loss in epoch 90 = 0.000324\n",
      "Loss in epoch 100 = 0.000210\n",
      "Loss in epoch 110 = 0.000134\n",
      "Loss in epoch 120 = 0.000204\n",
      "Loss in epoch 130 = 0.000083\n",
      "Loss in epoch 140 = 0.000080\n"
     ]
    }
   ],
   "source": [
    "preds, train_nodes, test_nodes, keep_cells = sharp.run_prediction(training_epochs=150, thresh=0.51, batch_size=20, seed=8)"
   ]
  },
  {
   "cell_type": "code",
   "execution_count": 32,
   "id": "84c16f55",
   "metadata": {},
   "outputs": [
    {
     "data": {
      "text/plain": [
       "(0.8540462255477905,\n",
       " array([[155,  85,   4],\n",
       "        [ 11, 145,   0],\n",
       "        [  1,   0, 291]]),\n",
       " 0.8538102507591248,\n",
       " array([[126,  80,   2],\n",
       "        [ 11, 140,   0],\n",
       "        [  1,   0, 283]]),\n",
       " 0.8571428656578064,\n",
       " array([[29,  5,  2],\n",
       "        [ 0,  5,  0],\n",
       "        [ 0,  0,  8]]))"
      ]
     },
     "execution_count": 32,
     "metadata": {},
     "output_type": "execute_result"
    }
   ],
   "source": [
    "results = utilities.validation_metrics(torch.tensor(real_labels[keep_cells]), preds.cpu(), train_nodes, test_nodes)\n",
    "results"
   ]
  },
  {
   "cell_type": "code",
   "execution_count": 33,
   "id": "be4746f1",
   "metadata": {},
   "outputs": [
    {
     "name": "stderr",
     "output_type": "stream",
     "text": [
      "/home/users/lewinsda/.conda/envs/daniel_thesis_2/lib/python3.9/site-packages/captum/_utils/gradient.py:57: UserWarning: Input Tensor 0 did not already require gradients, required_grads has been set automatically.\n",
      "  warnings.warn(\n",
      "/home/users/lewinsda/.conda/envs/daniel_thesis_2/lib/python3.9/site-packages/captum/attr/_core/deep_lift.py:336: UserWarning: Setting forward, backward hooks and attributes on non-linear\n",
      "               activations. The hooks and attributes will be removed\n",
      "            after the attribution is finished\n",
      "  warnings.warn(\n"
     ]
    }
   ],
   "source": [
    "# run interpretation\n",
    "int_df = sharp.run_interpretation()\n",
    "\n",
    "int_df.columns = keys\n",
    "reorg_keys = [\"spg\",\"spc\",\"spd\"]\n",
    "int_df = int_df[reorg_keys]\n",
    "int_df = int_df.abs()\n",
    "scale_int_df = pd.DataFrame(preprocessing.scale(int_df, with_mean=False))\n",
    "scale_int_df.columns = int_df.columns\n",
    "scale_int_df.index = int_df.index"
   ]
  },
  {
   "cell_type": "code",
   "execution_count": 25,
   "id": "d78ed51a",
   "metadata": {},
   "outputs": [
    {
     "data": {
      "text/html": [
       "<div>\n",
       "<style scoped>\n",
       "    .dataframe tbody tr th:only-of-type {\n",
       "        vertical-align: middle;\n",
       "    }\n",
       "\n",
       "    .dataframe tbody tr th {\n",
       "        vertical-align: top;\n",
       "    }\n",
       "\n",
       "    .dataframe thead th {\n",
       "        text-align: right;\n",
       "    }\n",
       "</style>\n",
       "<table border=\"1\" class=\"dataframe\">\n",
       "  <thead>\n",
       "    <tr style=\"text-align: right;\">\n",
       "      <th></th>\n",
       "      <th>spg</th>\n",
       "      <th>spc</th>\n",
       "      <th>spd</th>\n",
       "    </tr>\n",
       "  </thead>\n",
       "  <tbody>\n",
       "    <tr>\n",
       "      <th>Insl6</th>\n",
       "      <td>0.012821</td>\n",
       "      <td>4.028460</td>\n",
       "      <td>0.821032</td>\n",
       "    </tr>\n",
       "    <tr>\n",
       "      <th>Piwil1</th>\n",
       "      <td>0.030983</td>\n",
       "      <td>5.246641</td>\n",
       "      <td>0.183192</td>\n",
       "    </tr>\n",
       "    <tr>\n",
       "      <th>Pttg1</th>\n",
       "      <td>0.568294</td>\n",
       "      <td>2.913338</td>\n",
       "      <td>0.207213</td>\n",
       "    </tr>\n",
       "    <tr>\n",
       "      <th>Spag6</th>\n",
       "      <td>0.017112</td>\n",
       "      <td>6.091677</td>\n",
       "      <td>0.823921</td>\n",
       "    </tr>\n",
       "    <tr>\n",
       "      <th>Mllt10</th>\n",
       "      <td>0.485223</td>\n",
       "      <td>2.129012</td>\n",
       "      <td>0.030639</td>\n",
       "    </tr>\n",
       "    <tr>\n",
       "      <th>Aurka</th>\n",
       "      <td>0.043988</td>\n",
       "      <td>1.406065</td>\n",
       "      <td>0.120309</td>\n",
       "    </tr>\n",
       "  </tbody>\n",
       "</table>\n",
       "</div>"
      ],
      "text/plain": [
       "             spg       spc       spd\n",
       "Insl6   0.012821  4.028460  0.821032\n",
       "Piwil1  0.030983  5.246641  0.183192\n",
       "Pttg1   0.568294  2.913338  0.207213\n",
       "Spag6   0.017112  6.091677  0.823921\n",
       "Mllt10  0.485223  2.129012  0.030639\n",
       "Aurka   0.043988  1.406065  0.120309"
      ]
     },
     "execution_count": 25,
     "metadata": {},
     "output_type": "execute_result"
    }
   ],
   "source": [
    "scale_int_df.loc[[\"Insl6\",\"Piwil1\",\"Pttg1\",\"Spag6\",\"Mllt10\",\"Aurka\"]]"
   ]
  },
  {
   "cell_type": "code",
   "execution_count": 34,
   "id": "a56e4656",
   "metadata": {},
   "outputs": [
    {
     "data": {
      "text/html": [
       "<div>\n",
       "<style scoped>\n",
       "    .dataframe tbody tr th:only-of-type {\n",
       "        vertical-align: middle;\n",
       "    }\n",
       "\n",
       "    .dataframe tbody tr th {\n",
       "        vertical-align: top;\n",
       "    }\n",
       "\n",
       "    .dataframe thead th {\n",
       "        text-align: right;\n",
       "    }\n",
       "</style>\n",
       "<table border=\"1\" class=\"dataframe\">\n",
       "  <thead>\n",
       "    <tr style=\"text-align: right;\">\n",
       "      <th></th>\n",
       "      <th>spg</th>\n",
       "      <th>spc</th>\n",
       "      <th>spd</th>\n",
       "    </tr>\n",
       "  </thead>\n",
       "  <tbody>\n",
       "    <tr>\n",
       "      <th>Mllt10</th>\n",
       "      <td>0.532958</td>\n",
       "      <td>1.819915</td>\n",
       "      <td>0.030861</td>\n",
       "    </tr>\n",
       "    <tr>\n",
       "      <th>Sycp1</th>\n",
       "      <td>4.856812</td>\n",
       "      <td>0.068200</td>\n",
       "      <td>0.111642</td>\n",
       "    </tr>\n",
       "    <tr>\n",
       "      <th>Spaca1</th>\n",
       "      <td>0.021091</td>\n",
       "      <td>0.449129</td>\n",
       "      <td>3.249248</td>\n",
       "    </tr>\n",
       "  </tbody>\n",
       "</table>\n",
       "</div>"
      ],
      "text/plain": [
       "             spg       spc       spd\n",
       "Mllt10  0.532958  1.819915  0.030861\n",
       "Sycp1   4.856812  0.068200  0.111642\n",
       "Spaca1  0.021091  0.449129  3.249248"
      ]
     },
     "execution_count": 34,
     "metadata": {},
     "output_type": "execute_result"
    }
   ],
   "source": [
    "scale_int_df.loc[[\"Mllt10\", \"Sycp1\", \"Spaca1\"]]"
   ]
  },
  {
   "cell_type": "code",
   "execution_count": null,
   "id": "bd16f2b7",
   "metadata": {},
   "outputs": [],
   "source": []
  },
  {
   "cell_type": "code",
   "execution_count": 35,
   "id": "ba53433b",
   "metadata": {
    "scrolled": true
   },
   "outputs": [
    {
     "data": {
      "text/plain": [
       "[]"
      ]
     },
     "execution_count": 35,
     "metadata": {},
     "output_type": "execute_result"
    },
    {
     "data": {
      "image/png": "[encoded data removed]",
      "text/plain": [
       "<Figure size 842.4x595.44 with 2 Axes>"
      ]
     },
     "metadata": {},
     "output_type": "display_data"
    }
   ],
   "source": [
    "# actual markers heatmap\n",
    "markers = ['Dazl','Sycp1','Insl6','Piwil1','Pttg1','Spag6','Mllt10','Aurka','Acrv1','Spaca1','Tsga8','Tssk6']\n",
    "sns.set(rc={'figure.figsize':(11.7,8.27)})\n",
    "#scale_int_df = np.arcsinh(scale_int_df)\n",
    "ax = sns.heatmap(scale_int_df.loc[markers,:])\n",
    "ax.set(xlabel=\"Cell Type\")\n",
    "plt.plot()"
   ]
  },
  {
   "cell_type": "code",
   "execution_count": 38,
   "id": "6d756a17",
   "metadata": {},
   "outputs": [
    {
     "data": {
      "text/html": [
       "<div>\n",
       "<style scoped>\n",
       "    .dataframe tbody tr th:only-of-type {\n",
       "        vertical-align: middle;\n",
       "    }\n",
       "\n",
       "    .dataframe tbody tr th {\n",
       "        vertical-align: top;\n",
       "    }\n",
       "\n",
       "    .dataframe thead th {\n",
       "        text-align: right;\n",
       "    }\n",
       "</style>\n",
       "<table border=\"1\" class=\"dataframe\">\n",
       "  <thead>\n",
       "    <tr style=\"text-align: right;\">\n",
       "      <th></th>\n",
       "      <th>spg</th>\n",
       "      <th>spc</th>\n",
       "      <th>spd</th>\n",
       "    </tr>\n",
       "  </thead>\n",
       "  <tbody>\n",
       "    <tr>\n",
       "      <th>Mllt10</th>\n",
       "      <td>0.204443</td>\n",
       "      <td>3.554583</td>\n",
       "      <td>0.128367</td>\n",
       "    </tr>\n",
       "    <tr>\n",
       "      <th>Sycp1</th>\n",
       "      <td>4.868067</td>\n",
       "      <td>1.394191</td>\n",
       "      <td>0.117887</td>\n",
       "    </tr>\n",
       "    <tr>\n",
       "      <th>Spaca1</th>\n",
       "      <td>0.030794</td>\n",
       "      <td>0.821353</td>\n",
       "      <td>5.755235</td>\n",
       "    </tr>\n",
       "  </tbody>\n",
       "</table>\n",
       "</div>"
      ],
      "text/plain": [
       "             spg       spc       spd\n",
       "Mllt10  0.204443  3.554583  0.128367\n",
       "Sycp1   4.868067  1.394191  0.117887\n",
       "Spaca1  0.030794  0.821353  5.755235"
      ]
     },
     "execution_count": 38,
     "metadata": {},
     "output_type": "execute_result"
    }
   ],
   "source": [
    "real_attributions = pd.read_csv(\"jung_interpretation.csv\", index_col=0)\n",
    "real_attributions.loc[[\"Mllt10\", \"Sycp1\", \"Spaca1\"]]"
   ]
  },
  {
   "cell_type": "code",
   "execution_count": 49,
   "id": "8ba11afd",
   "metadata": {},
   "outputs": [
    {
     "data": {
      "text/html": [
       "<div>\n",
       "<style scoped>\n",
       "    .dataframe tbody tr th:only-of-type {\n",
       "        vertical-align: middle;\n",
       "    }\n",
       "\n",
       "    .dataframe tbody tr th {\n",
       "        vertical-align: top;\n",
       "    }\n",
       "\n",
       "    .dataframe thead th {\n",
       "        text-align: right;\n",
       "    }\n",
       "</style>\n",
       "<table border=\"1\" class=\"dataframe\">\n",
       "  <thead>\n",
       "    <tr style=\"text-align: right;\">\n",
       "      <th></th>\n",
       "      <th>spg</th>\n",
       "      <th>spc</th>\n",
       "      <th>spd</th>\n",
       "    </tr>\n",
       "  </thead>\n",
       "  <tbody>\n",
       "    <tr>\n",
       "      <th>Mllt10</th>\n",
       "      <td>0.532958</td>\n",
       "      <td>1.819915</td>\n",
       "      <td>0.030861</td>\n",
       "    </tr>\n",
       "    <tr>\n",
       "      <th>Sycp1</th>\n",
       "      <td>4.856812</td>\n",
       "      <td>0.068200</td>\n",
       "      <td>0.111642</td>\n",
       "    </tr>\n",
       "    <tr>\n",
       "      <th>Spaca1</th>\n",
       "      <td>0.021091</td>\n",
       "      <td>0.449129</td>\n",
       "      <td>3.249248</td>\n",
       "    </tr>\n",
       "  </tbody>\n",
       "</table>\n",
       "</div>"
      ],
      "text/plain": [
       "             spg       spc       spd\n",
       "Mllt10  0.532958  1.819915  0.030861\n",
       "Sycp1   4.856812  0.068200  0.111642\n",
       "Spaca1  0.021091  0.449129  3.249248"
      ]
     },
     "execution_count": 49,
     "metadata": {},
     "output_type": "execute_result"
    }
   ],
   "source": [
    "scale_int_df.loc[[\"Mllt10\", \"Sycp1\", \"Spaca1\"]]"
   ]
  },
  {
   "cell_type": "code",
   "execution_count": 58,
   "id": "18338c4b",
   "metadata": {},
   "outputs": [
    {
     "name": "stderr",
     "output_type": "stream",
     "text": [
      "/home/users/lewinsda/.conda/envs/daniel_thesis_2/lib/python3.9/site-packages/seaborn/_decorators.py:36: FutureWarning: Pass the following variables as keyword args: x, y. From version 0.12, the only valid positional argument will be `data`, and passing other arguments without an explicit keyword will result in an error or misinterpretation.\n",
      "  warnings.warn(\n"
     ]
    },
    {
     "data": {
      "text/plain": [
       "<AxesSubplot:>"
      ]
     },
     "execution_count": 58,
     "metadata": {},
     "output_type": "execute_result"
    },
    {
     "data": {
      "image/png": "[encoded data removed]",
      "text/plain": [
       "<Figure size 842.4x595.44 with 1 Axes>"
      ]
     },
     "metadata": {},
     "output_type": "display_data"
    }
   ],
   "source": [
    "genes = [\"Mllt10\", \"Sycp1\", \"Spaca1\"]\n",
    "real_atts = real_attributions.loc[genes, \"spg\"].tolist()\n",
    "real_atts += real_attributions.loc[genes, \"spc\"].tolist()\n",
    "real_atts += real_attributions.loc[genes, \"spd\"].tolist()\n",
    "cell_types = [\"spg\", \"spg\", \"spg\", \"spc\", \"spc\", \"spc\", \"spd\", \"spd\", \"spd\"]\n",
    "#genes = [\"Mllt10\", \"Sycp1\", \"Spaca1\"]\n",
    "ablat_stat = [\"pre_ablation\"]*9\n",
    "real_atts += scale_int_df.loc[genes, \"spg\"].tolist()\n",
    "real_atts += scale_int_df.loc[genes, \"spc\"].tolist()\n",
    "real_atts += scale_int_df.loc[genes, \"spd\"].tolist()\n",
    "cell_types += [\"spg\", \"spg\", \"spg\", \"spc\", \"spc\", \"spc\", \"spd\", \"spd\", \"spd\"]\n",
    "ablat_stat += [\"post_ablation\"]*9\n",
    "sns.scatterplot(cell_types, real_atts, hue = genes*6, style=ablat_stat, s=100)"
   ]
  },
  {
   "cell_type": "code",
   "execution_count": 45,
   "id": "5681ea62",
   "metadata": {},
   "outputs": [
    {
     "name": "stdout",
     "output_type": "stream",
     "text": [
      "[0.2044431423932693, 4.868067061526274, 0.0307944594974599, 3.554583234724321, 1.3941909342311036, 0.8213530789176412, 0.1283665335204788, 0.117886747351661, 5.755234691979765]\n"
     ]
    },
    {
     "data": {
      "text/plain": [
       "<AxesSubplot:>"
      ]
     },
     "execution_count": 45,
     "metadata": {},
     "output_type": "execute_result"
    },
    {
     "data": {
      "image/png": "[encoded data removed]",
      "text/plain": [
       "<Figure size 842.4x595.44 with 1 Axes>"
      ]
     },
     "metadata": {},
     "output_type": "display_data"
    }
   ],
   "source": [
    "genes = [\"Mllt10\", \"Sycp1\", \"Spaca1\"]\n",
    "real_atts = real_attributions.loc[genes, \"spg\"].tolist()\n",
    "real_atts += real_attributions.loc[genes, \"spc\"].tolist()\n",
    "real_atts += real_attributions.loc[genes, \"spd\"].tolist()\n",
    "cell_types = [\"spg\", \"spg\", \"spg\", \"spc\", \"spc\", \"spc\", \"spd\", \"spd\", \"spd\"]\n",
    "print(real_atts)\n",
    "sns.scatterplot(cell_types, real_atts, hue = genes*3)"
   ]
  },
  {
   "cell_type": "code",
   "execution_count": 46,
   "id": "37f7b7c5",
   "metadata": {},
   "outputs": [
    {
     "name": "stdout",
     "output_type": "stream",
     "text": [
      "[0.5329581209193015, 4.856811917085795, 0.021090529866430886, 1.819914771214336, 0.0682002801664343, 0.4491287555407786, 0.030861161470596546, 0.11164191484320236, 3.2492482198400445]\n"
     ]
    },
    {
     "name": "stderr",
     "output_type": "stream",
     "text": [
      "/home/users/lewinsda/.conda/envs/daniel_thesis_2/lib/python3.9/site-packages/seaborn/_decorators.py:36: FutureWarning: Pass the following variables as keyword args: x, y. From version 0.12, the only valid positional argument will be `data`, and passing other arguments without an explicit keyword will result in an error or misinterpretation.\n",
      "  warnings.warn(\n"
     ]
    },
    {
     "data": {
      "text/plain": [
       "<AxesSubplot:>"
      ]
     },
     "execution_count": 46,
     "metadata": {},
     "output_type": "execute_result"
    },
    {
     "data": {
      "image/png": "[encoded data removed]",
      "text/plain": [
       "<Figure size 842.4x595.44 with 1 Axes>"
      ]
     },
     "metadata": {},
     "output_type": "display_data"
    }
   ],
   "source": [
    "genes = [\"Mllt10\", \"Sycp1\", \"Spaca1\"]\n",
    "real_atts = scale_int_df.loc[genes, \"spg\"].tolist()\n",
    "real_atts += scale_int_df.loc[genes, \"spc\"].tolist()\n",
    "real_atts += scale_int_df.loc[genes, \"spd\"].tolist()\n",
    "cell_types = [\"spg\", \"spg\", \"spg\", \"spc\", \"spc\", \"spc\", \"spd\", \"spd\", \"spd\"]\n",
    "print(real_atts)\n",
    "sns.scatterplot(cell_types, real_atts, hue = genes*3)"
   ]
  },
  {
   "cell_type": "code",
   "execution_count": 57,
   "id": "5c59b87c",
   "metadata": {},
   "outputs": [
    {
     "name": "stderr",
     "output_type": "stream",
     "text": [
      "/home/users/lewinsda/.conda/envs/daniel_thesis_2/lib/python3.9/site-packages/seaborn/_decorators.py:36: FutureWarning: Pass the following variables as keyword args: x, y. From version 0.12, the only valid positional argument will be `data`, and passing other arguments without an explicit keyword will result in an error or misinterpretation.\n",
      "  warnings.warn(\n"
     ]
    },
    {
     "data": {
      "text/plain": [
       "<AxesSubplot:>"
      ]
     },
     "execution_count": 57,
     "metadata": {},
     "output_type": "execute_result"
    },
    {
     "data": {
      "image/png": "[encoded data removed]",
      "text/plain": [
       "<Figure size 842.4x595.44 with 1 Axes>"
      ]
     },
     "metadata": {},
     "output_type": "display_data"
    }
   ],
   "source": []
  }
 ],
 "metadata": {
  "kernelspec": {
   "display_name": "daniel_thesis",
   "language": "python",
   "name": "daniel_thesis_2"
  },
  "language_info": {
   "codemirror_mode": {
    "name": "ipython",
    "version": 3
   },
   "file_extension": ".py",
   "mimetype": "text/x-python",
   "name": "python",
   "nbconvert_exporter": "python",
   "pygments_lexer": "ipython3",
   "version": "3.9.7"
  }
 },
 "nbformat": 4,
 "nbformat_minor": 5
}
