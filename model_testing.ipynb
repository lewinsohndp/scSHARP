{
 "cells": [
  {
   "cell_type": "code",
   "execution_count": 1,
   "id": "ae5d0b85",
   "metadata": {},
   "outputs": [
    {
     "name": "stderr",
     "output_type": "stream",
     "text": [
      "/home/users/lewinsda/.conda/envs/daniel_thesis_2/lib/python3.9/site-packages/tqdm/auto.py:22: TqdmWarning: IProgress not found. Please update jupyter and ipywidgets. See https://ipywidgets.readthedocs.io/en/stable/user_install.html\n",
      "  from .autonotebook import tqdm as notebook_tqdm\n"
     ]
    }
   ],
   "source": [
    "import numpy as np\n",
    "import pandas as pd\n",
    "import torch\n",
    "from gcn_model import GCNModel\n",
    "import utilities\n",
    "from test_model import test_model\n",
    "import os\n",
    "import statistics"
   ]
  },
  {
   "cell_type": "code",
   "execution_count": 2,
   "id": "ed56d706",
   "metadata": {},
   "outputs": [],
   "source": [
    "data_folder = \"/home/groups/ConradLab/daniel/sharp_data/sharp_sims/splat_0.7_de_rq/\"\n",
    "# get labels\n",
    "data_path = data_folder + \"query_counts.csv\"\n",
    "tools = [\"sctype\",\"scsorter\",\"scina\",\"singler\", \"scpred\"]\n",
    "#tools = [\"scsorter\",\"scina\",\"singler\"]\n",
    "ref_path = data_folder + \"ref_counts.csv\"\n",
    "ref_label_path = data_folder + \"ref_labels.csv\"\n",
    "marker_path = data_folder + \"markers.txt\"\n",
    "if os.path.exists(data_folder + \"preds.csv\"):\n",
    "    all_labels = pd.read_csv(data_folder + \"preds.csv\", index_col=0)\n",
    "    if all_labels.shape[1] != len(tools): \n",
    "        all_labels = all_labels[tools]\n",
    "        #raise Exception(\"wrong amount of tools in file\")\n",
    "else:\n",
    "    all_labels = utilities.label_counts(data_path,tools,ref_path,ref_label_path,marker_path)\n",
    "\n",
    "# read in dataset\n",
    "X = pd.read_csv(data_path, index_col=0)\n",
    "X, keep_cells = utilities.preprocess(np.array(X), scale=False, comps=500)\n",
    "\n",
    "all_labels = all_labels.loc[keep_cells,:]\n",
    "\n",
    "_,marker_names = utilities.read_marker_file(marker_path)\n",
    "\n",
    "all_labels_factored = utilities.factorize_df(all_labels, marker_names)\n",
    "encoded_labels = utilities.encode_predictions(all_labels_factored)\n",
    "\n",
    "meta_path = data_folder + \"query_meta.csv\"\n",
    "metadata = pd.read_csv(meta_path, index_col=0)\n",
    "real_y = pd.factorize(metadata['Group'], sort=True)[0]\n",
    "real_y = real_y[keep_cells]\n",
    "\n",
    "confident_labels = utilities.get_consensus_labels(encoded_labels, necessary_vote = 3)\n",
    "\n",
    "train_nodes = np.where(confident_labels != -1)[0]\n",
    "test_nodes = np.where(confident_labels == -1)[0]\n",
    "\n"
   ]
  },
  {
   "cell_type": "code",
   "execution_count": 3,
   "id": "01173e56",
   "metadata": {},
   "outputs": [],
   "source": [
    "dataset  = torch.utils.data.TensorDataset(torch.tensor(X), torch.tensor(confident_labels))\n",
    "dataloader = torch.utils.data.DataLoader(dataset, batch_size=65, shuffle=True)\n",
    "\n",
    "test_dataset  = torch.utils.data.TensorDataset(torch.tensor(X), torch.tensor(real_y))\n",
    "test_dataloader = torch.utils.data.DataLoader(test_dataset, batch_size=65, shuffle=False)\n"
   ]
  },
  {
   "cell_type": "code",
   "execution_count": 4,
   "id": "dc7541c5",
   "metadata": {},
   "outputs": [
    {
     "name": "stdout",
     "output_type": "stream",
     "text": [
      "Loss in epoch 0 = 21.533558\n",
      "Loss in epoch 10 = 0.016814\n",
      "Loss in epoch 20 = 0.003902\n",
      "Loss in epoch 30 = 0.001146\n",
      "Loss in epoch 40 = 0.000203\n",
      "Loss in epoch 50 = 0.000174\n",
      "Loss in epoch 60 = 0.000103\n",
      "Loss in epoch 70 = 0.000127\n",
      "Loss in epoch 80 = 0.000067\n",
      "Loss in epoch 90 = 0.000067\n",
      "Loss in epoch 100 = 0.000063\n",
      "Loss in epoch 110 = 0.000029\n",
      "Loss in epoch 120 = 0.000033\n",
      "Loss in epoch 130 = 0.000034\n",
      "Loss in epoch 140 = 0.000021\n"
     ]
    }
   ],
   "source": [
    "m = GCNModel(\"configs/4_60.txt\", 2, dropout=0.0)\n",
    "m.train(dataloader, 150)"
   ]
  },
  {
   "cell_type": "code",
   "execution_count": 5,
   "id": "bd3c5fec",
   "metadata": {},
   "outputs": [
    {
     "data": {
      "text/plain": [
       "(0.955955982208252,\n",
       " array([[214,   8,   5,   5],\n",
       "        [  0, 266,   2,   0],\n",
       "        [  1,   4, 225,   4],\n",
       "        [  2,   7,   6, 250]]),\n",
       " 0.9724972248077393,\n",
       " array([[178,   6,   2,   2],\n",
       "        [  0, 264,   2,   0],\n",
       "        [  1,   2, 211,   1],\n",
       "        [  0,   5,   4, 231]]),\n",
       " 0.7888888716697693,\n",
       " array([[36,  2,  3,  3],\n",
       "        [ 0,  2,  0,  0],\n",
       "        [ 0,  2, 14,  3],\n",
       "        [ 2,  2,  2, 19]]))"
      ]
     },
     "execution_count": 5,
     "metadata": {},
     "output_type": "execute_result"
    }
   ],
   "source": [
    "m.validation_metrics(test_dataloader, train_nodes, test_nodes)"
   ]
  },
  {
   "cell_type": "code",
   "execution_count": 7,
   "id": "ff178405",
   "metadata": {},
   "outputs": [
    {
     "name": "stdout",
     "output_type": "stream",
     "text": [
      "0\n",
      "1\n",
      "2\n",
      "3\n",
      "4\n",
      "0.5400000035762786\n",
      "0.06507355297733373\n"
     ]
    }
   ],
   "source": [
    "test_accuracy = [0]*5\n",
    "for i in range(5):\n",
    "    print(i)\n",
    "    m = GCNModel(\"configs/4_60.txt\", 2, dropout=0.1)\n",
    "    m.train(dataloader, 150, verbose=False)\n",
    "    _,_,_,_,acc,_ = m.validation_metrics(test_dataloader, train_nodes, test_nodes)\n",
    "    test_accuracy[i] = acc\n",
    "print(statistics.mean(test_accuracy))\n",
    "print(statistics.stdev(test_accuracy))"
   ]
  }
 ],
 "metadata": {
  "kernelspec": {
   "display_name": "daniel_thesis",
   "language": "python",
   "name": "daniel_thesis_2"
  },
  "language_info": {
   "codemirror_mode": {
    "name": "ipython",
    "version": 3
   },
   "file_extension": ".py",
   "mimetype": "text/x-python",
   "name": "python",
   "nbconvert_exporter": "python",
   "pygments_lexer": "ipython3",
   "version": "3.9.7"
  }
 },
 "nbformat": 4,
 "nbformat_minor": 5
}
