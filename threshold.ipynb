{
 "cells": [
  {
   "cell_type": "code",
   "execution_count": 19,
   "metadata": {},
   "outputs": [],
   "source": [
    "import numpy as np\n",
    "import pandas as pd\n",
    "import matplotlib.pyplot as plt\n",
    "import os\n",
    "import utilities\n",
    "from gcn_model import GCNModel\n",
    "import torch"
   ]
  },
  {
   "cell_type": "code",
   "execution_count": 18,
   "metadata": {},
   "outputs": [],
   "source": [
    "data_folder = \"simulations/splat_0.7_de_rq/\"\n",
    "# get labels\n",
    "data_path = data_folder + \"query_counts.csv\"\n",
    "tools = [\"sctype\",\"scsorter\",\"scina\",\"singler\", \"scpred\"]\n",
    "#tools = [\"scsorter\",\"scina\",\"singler\"]\n",
    "ref_path = data_folder + \"ref_counts.csv\"\n",
    "ref_label_path = data_folder + \"ref_labels.csv\"\n",
    "marker_path = data_folder + \"markers.txt\"\n",
    "if os.path.exists(data_folder + \"preds.csv\"):\n",
    "    all_labels = pd.read_csv(data_folder + \"preds.csv\", index_col=0)\n",
    "    if all_labels.shape[1] != len(tools): \n",
    "        all_labels = all_labels[tools]\n",
    "        #raise Exception(\"wrong amount of tools in file\")\n",
    "else:\n",
    "    all_labels = utilities.label_counts(data_path,tools,ref_path,ref_label_path,marker_path)\n",
    "\n",
    "# read in dataset\n",
    "X = pd.read_csv(data_path, index_col=0)\n",
    "X, keep_cells,_,_ = utilities.preprocess(np.array(X), scale=False, comps=500)\n",
    "\n",
    "all_labels = all_labels.loc[keep_cells,:]\n",
    "\n",
    "_,marker_names = utilities.read_marker_file(marker_path)\n",
    "\n",
    "all_labels_factored = utilities.factorize_df(all_labels, marker_names)\n",
    "encoded_labels = utilities.encode_predictions(all_labels_factored)\n",
    "\n",
    "meta_path = data_folder + \"query_meta.csv\"\n",
    "metadata = pd.read_csv(meta_path, index_col=0)\n",
    "real_y = pd.factorize(metadata['Group'], sort=True)[0]\n",
    "real_y = real_y[keep_cells]"
   ]
  },
  {
   "cell_type": "code",
   "execution_count": 11,
   "metadata": {},
   "outputs": [
    {
     "data": {
      "text/plain": [
       "array([0.01, 0.11, 0.21, 0.31, 0.41, 0.51, 0.61, 0.71, 0.81, 0.91])"
      ]
     },
     "execution_count": 11,
     "metadata": {},
     "output_type": "execute_result"
    }
   ],
   "source": [
    "np.arange(0.01,1,0.1)"
   ]
  },
  {
   "cell_type": "code",
   "execution_count": 15,
   "metadata": {},
   "outputs": [],
   "source": [
    "thresh = []\n",
    "conf_acc = []\n",
    "conf_cells = []\n",
    "for i in np.arange(0.01,1,0.1):\n",
    "    thresh.append(i)\n",
    "    confident_labels = utilities.get_consensus_labels(encoded_labels, necessary_vote = i)\n",
    "    train_nodes = np.where(confident_labels != -1)[0]\n",
    "    test_nodes = np.where(confident_labels == -1)[0]\n",
    "    conf_cells.append(len(train_nodes))\n",
    "    conf_acc.append(utilities.pred_accuracy(confident_labels[train_nodes], real_y[train_nodes]))\n"
   ]
  },
  {
   "cell_type": "code",
   "execution_count": 16,
   "metadata": {},
   "outputs": [
    {
     "data": {
      "text/plain": [
       "<matplotlib.collections.PathCollection at 0x7f888a9e1550>"
      ]
     },
     "execution_count": 16,
     "metadata": {},
     "output_type": "execute_result"
    },
    {
     "data": {
      "image/png": "[encoded data removed]",
      "text/plain": [
       "<Figure size 432x288 with 1 Axes>"
      ]
     },
     "metadata": {
      "needs_background": "light"
     },
     "output_type": "display_data"
    }
   ],
   "source": [
    "plt.scatter(thresh, conf_acc)"
   ]
  },
  {
   "cell_type": "code",
   "execution_count": 17,
   "metadata": {},
   "outputs": [
    {
     "data": {
      "text/plain": [
       "<matplotlib.collections.PathCollection at 0x7f888aae6df0>"
      ]
     },
     "execution_count": 17,
     "metadata": {},
     "output_type": "execute_result"
    },
    {
     "data": {
      "image/png": "[encoded data removed]",
      "text/plain": [
       "<Figure size 432x288 with 1 Axes>"
      ]
     },
     "metadata": {
      "needs_background": "light"
     },
     "output_type": "display_data"
    }
   ],
   "source": [
    "plt.scatter(thresh, conf_cells)"
   ]
  },
  {
   "cell_type": "code",
   "execution_count": 22,
   "metadata": {},
   "outputs": [],
   "source": [
    "thresh = []\n",
    "accs = []\n",
    "for i in np.arange(0.31,1,0.1):\n",
    "    thresh.append(i)\n",
    "    confident_labels = utilities.get_consensus_labels(encoded_labels, necessary_vote = i)\n",
    "    train_nodes = np.where(confident_labels != -1)[0]\n",
    "    test_nodes = np.where(confident_labels == -1)[0]\n",
    "\n",
    "    dataset  = torch.utils.data.TensorDataset(torch.tensor(X), torch.tensor(confident_labels))\n",
    "    dataloader = torch.utils.data.DataLoader(dataset, batch_size=50, shuffle=True)\n",
    "\n",
    "    test_dataset  = torch.utils.data.TensorDataset(torch.tensor(X), torch.tensor(real_y))\n",
    "    test_dataloader = torch.utils.data.DataLoader(test_dataset, batch_size=50, shuffle=False)\n",
    "\n",
    "    m = GCNModel(\"configs/2_40.txt\", 2, dropout=0.0)\n",
    "    m.train(dataloader, 100, verbose=False)\n",
    "\n",
    "    acc,_,_,_,_,_ = m.validation_metrics(test_dataloader, train_nodes, test_nodes)\n",
    "    accs.append(acc)"
   ]
  },
  {
   "cell_type": "code",
   "execution_count": 23,
   "metadata": {},
   "outputs": [
    {
     "data": {
      "text/plain": [
       "<matplotlib.collections.PathCollection at 0x7f88830b3880>"
      ]
     },
     "execution_count": 23,
     "metadata": {},
     "output_type": "execute_result"
    },
    {
     "data": {
      "image/png": "[encoded data removed]",
      "text/plain": [
       "<Figure size 432x288 with 1 Axes>"
      ]
     },
     "metadata": {
      "needs_background": "light"
     },
     "output_type": "display_data"
    }
   ],
   "source": [
    "plt.scatter(thresh, accs)"
   ]
  },
  {
   "cell_type": "code",
   "execution_count": 30,
   "metadata": {},
   "outputs": [],
   "source": [
    "thresh = []\n",
    "accs = []\n",
    "for i in np.arange(0.31,1,0.1):\n",
    "    thresh.append(i)\n",
    "\n",
    "    # use these as validation set \n",
    "    ultra_confident_labels = utilities.get_consensus_labels(encoded_labels, necessary_vote = .9)\n",
    "    ultra_val_nodes = np.where(ultra_confident_labels != -1)[0]\n",
    "\n",
    "    confident_labels = utilities.get_consensus_labels(encoded_labels, necessary_vote = i)\n",
    "    confident_labels[ultra_val_nodes] = -1\n",
    "    train_nodes = np.where(confident_labels != -1)[0]\n",
    "    test_nodes = np.where(confident_labels == -1)[0]\n",
    "\n",
    "    dataset  = torch.utils.data.TensorDataset(torch.tensor(X), torch.tensor(confident_labels))\n",
    "    dataloader = torch.utils.data.DataLoader(dataset, batch_size=50, shuffle=True)\n",
    "\n",
    "    test_dataset  = torch.utils.data.TensorDataset(torch.tensor(X), torch.tensor(ultra_confident_labels))\n",
    "    test_dataloader = torch.utils.data.DataLoader(test_dataset, batch_size=50, shuffle=False)\n",
    "\n",
    "    m = GCNModel(\"configs/2_40.txt\", 2, dropout=0.0)\n",
    "    m.train(dataloader, 50, verbose=False)\n",
    "\n",
    "    _,_,acc,_,_,_ = m.validation_metrics(test_dataloader, ultra_val_nodes, test_nodes)\n",
    "    accs.append(acc)"
   ]
  },
  {
   "cell_type": "code",
   "execution_count": 31,
   "metadata": {},
   "outputs": [
    {
     "data": {
      "text/plain": [
       "<matplotlib.collections.PathCollection at 0x7f887df35520>"
      ]
     },
     "execution_count": 31,
     "metadata": {},
     "output_type": "execute_result"
    },
    {
     "data": {
      "image/png": "[encoded data removed]",
      "text/plain": [
       "<Figure size 432x288 with 1 Axes>"
      ]
     },
     "metadata": {
      "needs_background": "light"
     },
     "output_type": "display_data"
    }
   ],
   "source": [
    "plt.scatter(thresh, accs)"
   ]
  }
 ],
 "metadata": {
  "kernelspec": {
   "display_name": "Python 3.9.7 ('thesis')",
   "language": "python",
   "name": "python3"
  },
  "language_info": {
   "codemirror_mode": {
    "name": "ipython",
    "version": 3
   },
   "file_extension": ".py",
   "mimetype": "text/x-python",
   "name": "python",
   "nbconvert_exporter": "python",
   "pygments_lexer": "ipython3",
   "version": "3.9.7"
  },
  "orig_nbformat": 4,
  "vscode": {
   "interpreter": {
    "hash": "9e461d02738fd757bc3d2933f9434d370f54d79aa7bbf71ca755487c9a10e111"
   }
  }
 },
 "nbformat": 4,
 "nbformat_minor": 2
}
