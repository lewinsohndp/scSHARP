{
 "cells": [
  {
   "cell_type": "code",
   "execution_count": 1,
   "metadata": {},
   "outputs": [],
   "source": [
    "import numpy as np\n",
    "import pandas as pd\n",
    "import matplotlib.pyplot as plt\n",
    "import os\n",
    "import utilities\n",
    "from gcn_model import GCNModel\n",
    "import torch\n",
    "from sklearn.metrics import confusion_matrix"
   ]
  },
  {
   "cell_type": "code",
   "execution_count": 2,
   "metadata": {},
   "outputs": [],
   "source": [
    "data_folder = \"simulations/splat_0.7_de_rq/\"\n",
    "#data_folder = \"/home/groups/ConradLab/daniel/sharp_data/sharp_sims/splat_0.7_de_rq_v3/\"\n",
    "#data_folder = \"/home/groups/ConradLab/daniel/sharp_data/pbmc_proto/\"\n",
    "# get labels\n",
    "data_path = data_folder + \"query_counts.csv\"\n",
    "tools = [\"sctype\",\"scsorter\",\"scina\",\"singler\", \"scpred\"]\n",
    "#tools = [\"scsorter\",\"scina\",\"singler\"]\n",
    "ref_path = data_folder + \"ref_counts.csv\"\n",
    "ref_label_path = data_folder + \"ref_labels.csv\"\n",
    "marker_path = data_folder + \"markers.txt\"\n",
    "if os.path.exists(data_folder + \"preds.csv\"):\n",
    "    all_labels = pd.read_csv(data_folder + \"preds.csv\", index_col=0)\n",
    "    if all_labels.shape[1] != len(tools): \n",
    "        all_labels = all_labels[tools]\n",
    "        #raise Exception(\"wrong amount of tools in file\")\n",
    "else:\n",
    "    all_labels = utilities.label_counts(data_path,tools,ref_path,ref_label_path,marker_path)\n",
    "\n",
    "# read in dataset\n",
    "X = pd.read_csv(data_path, index_col=0)\n",
    "X, keep_cells,_,_ = utilities.preprocess(np.array(X), scale=False, comps=500)\n",
    "\n",
    "all_labels = all_labels.loc[keep_cells,:]\n",
    "\n",
    "_,marker_names = utilities.read_marker_file(marker_path)\n",
    "\n",
    "all_labels_factored = utilities.factorize_df(all_labels, marker_names)\n",
    "encoded_labels = utilities.encode_predictions(all_labels_factored)\n",
    "\n",
    "meta_path = data_folder + \"query_meta.csv\"\n",
    "metadata = pd.read_csv(meta_path, index_col=0)\n",
    "real_y = pd.factorize(metadata['Group'], sort=True)[0]\n",
    "real_y = real_y[keep_cells]"
   ]
  },
  {
   "cell_type": "code",
   "execution_count": 3,
   "metadata": {},
   "outputs": [
    {
     "data": {
      "text/plain": [
       "array([[1.        , 1.        , 0.95918369, 1.        , 0.81632656],\n",
       "       [1.        , 1.        , 0.97354496, 1.        , 0.78835976],\n",
       "       [1.        , 1.        , 0.93129772, 1.        , 0.87022901],\n",
       "       [1.        , 1.        , 1.        , 1.        , 0.76543212]])"
      ]
     },
     "execution_count": 3,
     "metadata": {},
     "output_type": "execute_result"
    }
   ],
   "source": [
    "# get tool weights by cell\n",
    "confident_labels = utilities.get_consensus_labels(encoded_labels, necessary_vote = .9)\n",
    "train_nodes = np.where(confident_labels != -1)[0]\n",
    "test_nodes = np.where(confident_labels == -1)[0]\n",
    "weights = np.zeros((4,5))\n",
    "for type in [0,1,2,3]:\n",
    "    \n",
    "    type_indices = np.where(confident_labels[train_nodes]==type)[0]\n",
    "    for i, tool in enumerate(tools):\n",
    "        weights[type,i] = utilities.pred_accuracy(all_labels_factored[tool].to_numpy()[train_nodes][type_indices], confident_labels[train_nodes][type_indices])\n",
    "weights"
   ]
  },
  {
   "cell_type": "code",
   "execution_count": 6,
   "metadata": {},
   "outputs": [
    {
     "name": "stdout",
     "output_type": "stream",
     "text": [
      "multiple maxes\n",
      "multiple maxes\n",
      "multiple maxes\n",
      "multiple maxes\n",
      "multiple maxes\n",
      "multiple maxes\n",
      "multiple maxes\n",
      "multiple maxes\n",
      "multiple maxes\n",
      "multiple maxes\n",
      "multiple maxes\n",
      "multiple maxes\n",
      "multiple maxes\n",
      "multiple maxes\n",
      "multiple maxes\n",
      "multiple maxes\n",
      "multiple maxes\n",
      "multiple maxes\n",
      "multiple maxes\n",
      "multiple maxes\n",
      "multiple maxes\n",
      "multiple maxes\n",
      "multiple maxes\n",
      "multiple maxes\n",
      "multiple maxes\n",
      "multiple maxes\n",
      "multiple maxes\n",
      "multiple maxes\n",
      "multiple maxes\n",
      "multiple maxes\n",
      "multiple maxes\n",
      "multiple maxes\n",
      "multiple maxes\n",
      "multiple maxes\n",
      "multiple maxes\n",
      "multiple maxes\n",
      "multiple maxes\n",
      "multiple maxes\n",
      "multiple maxes\n",
      "multiple maxes\n",
      "multiple maxes\n",
      "multiple maxes\n",
      "multiple maxes\n",
      "multiple maxes\n",
      "multiple maxes\n",
      "multiple maxes\n",
      "multiple maxes\n",
      "multiple maxes\n",
      "multiple maxes\n",
      "multiple maxes\n",
      "multiple maxes\n",
      "multiple maxes\n",
      "multiple maxes\n"
     ]
    },
    {
     "data": {
      "text/plain": [
       "array([[0.        , 4.76190472, 0.        , 0.        ],\n",
       "       [0.        , 2.76190472, 0.        , 2.        ],\n",
       "       [1.        , 1.97354496, 0.        , 1.78835976],\n",
       "       ...,\n",
       "       [0.        , 0.        , 4.80152673, 0.        ],\n",
       "       [0.        , 1.        , 0.        , 3.76543212],\n",
       "       [0.        , 3.97354496, 0.        , 0.78835976]])"
      ]
     },
     "execution_count": 6,
     "metadata": {},
     "output_type": "execute_result"
    }
   ],
   "source": [
    "utilities.weighted_encode(all_labels_factored, encoded_labels, weights,.5)"
   ]
  },
  {
   "cell_type": "code",
   "execution_count": 11,
   "metadata": {},
   "outputs": [
    {
     "data": {
      "text/plain": [
       "array([0.01, 0.11, 0.21, 0.31, 0.41, 0.51, 0.61, 0.71, 0.81, 0.91])"
      ]
     },
     "execution_count": 11,
     "metadata": {},
     "output_type": "execute_result"
    }
   ],
   "source": [
    "np.arange(0.01,1,0.1)"
   ]
  },
  {
   "cell_type": "code",
   "execution_count": 3,
   "metadata": {},
   "outputs": [],
   "source": [
    "thresh = []\n",
    "conf_acc = []\n",
    "conf_cells = []\n",
    "for i in np.arange(0.01,1,0.1):\n",
    "    thresh.append(i)\n",
    "    confident_labels = utilities.get_consensus_labels(encoded_labels, necessary_vote = i)\n",
    "    train_nodes = np.where(confident_labels != -1)[0]\n",
    "    test_nodes = np.where(confident_labels == -1)[0]\n",
    "    conf_cells.append(len(train_nodes))\n",
    "    conf_acc.append(utilities.pred_accuracy(confident_labels[train_nodes], real_y[train_nodes]))\n"
   ]
  },
  {
   "cell_type": "code",
   "execution_count": 4,
   "metadata": {},
   "outputs": [
    {
     "data": {
      "text/plain": [
       "<matplotlib.collections.PathCollection at 0x7f134b65a460>"
      ]
     },
     "execution_count": 4,
     "metadata": {},
     "output_type": "execute_result"
    },
    {
     "data": {
      "image/png": "[encoded data removed]",
      "text/plain": [
       "<Figure size 432x288 with 1 Axes>"
      ]
     },
     "metadata": {
      "needs_background": "light"
     },
     "output_type": "display_data"
    }
   ],
   "source": [
    "plt.scatter(thresh, conf_acc)"
   ]
  },
  {
   "cell_type": "code",
   "execution_count": 5,
   "metadata": {},
   "outputs": [
    {
     "data": {
      "text/plain": [
       "<matplotlib.collections.PathCollection at 0x7f134fb5ddf0>"
      ]
     },
     "execution_count": 5,
     "metadata": {},
     "output_type": "execute_result"
    },
    {
     "data": {
      "image/png": "[encoded data removed]",
      "text/plain": [
       "<Figure size 432x288 with 1 Axes>"
      ]
     },
     "metadata": {
      "needs_background": "light"
     },
     "output_type": "display_data"
    }
   ],
   "source": [
    "plt.scatter(thresh, conf_cells)"
   ]
  },
  {
   "cell_type": "code",
   "execution_count": 6,
   "metadata": {},
   "outputs": [],
   "source": [
    "thresh = []\n",
    "accs = []\n",
    "for i in np.arange(0.31,1,0.1):\n",
    "    thresh.append(i)\n",
    "    confident_labels = utilities.get_consensus_labels(encoded_labels, necessary_vote = i)\n",
    "    train_nodes = np.where(confident_labels != -1)[0]\n",
    "    test_nodes = np.where(confident_labels == -1)[0]\n",
    "\n",
    "    dataset  = torch.utils.data.TensorDataset(torch.tensor(X), torch.tensor(confident_labels))\n",
    "    dataloader = torch.utils.data.DataLoader(dataset, batch_size=50, shuffle=True)\n",
    "\n",
    "    test_dataset  = torch.utils.data.TensorDataset(torch.tensor(X), torch.tensor(real_y))\n",
    "    test_dataloader = torch.utils.data.DataLoader(test_dataset, batch_size=50, shuffle=False)\n",
    "\n",
    "    m = GCNModel(\"configs/2_40_5.txt\", 2, dropout=0.0)\n",
    "    m.train(dataloader, 100, verbose=False)\n",
    "\n",
    "    acc,_,_,_,_,_ = m.validation_metrics(test_dataloader, train_nodes, test_nodes)\n",
    "    accs.append(acc)"
   ]
  },
  {
   "cell_type": "code",
   "execution_count": 7,
   "metadata": {},
   "outputs": [
    {
     "data": {
      "text/plain": [
       "<matplotlib.collections.PathCollection at 0x7f138bfff0a0>"
      ]
     },
     "execution_count": 7,
     "metadata": {},
     "output_type": "execute_result"
    },
    {
     "data": {
      "image/png": "[encoded data removed]",
      "text/plain": [
       "<Figure size 432x288 with 1 Axes>"
      ]
     },
     "metadata": {
      "needs_background": "light"
     },
     "output_type": "display_data"
    }
   ],
   "source": [
    "plt.scatter(thresh, accs)"
   ]
  },
  {
   "cell_type": "code",
   "execution_count": 8,
   "metadata": {},
   "outputs": [],
   "source": [
    "thresh = []\n",
    "accs = []\n",
    "for i in np.arange(0.31,1,0.1):\n",
    "    thresh.append(i)\n",
    "\n",
    "    # use these as validation set \n",
    "    ultra_confident_labels = utilities.get_consensus_labels(encoded_labels, necessary_vote = .9)\n",
    "    ultra_val_nodes = np.where(ultra_confident_labels != -1)[0]\n",
    "\n",
    "    confident_labels = utilities.get_consensus_labels(encoded_labels, necessary_vote = i)\n",
    "    confident_labels[ultra_val_nodes] = -1\n",
    "    train_nodes = np.where(confident_labels != -1)[0]\n",
    "    test_nodes = np.where(confident_labels == -1)[0]\n",
    "\n",
    "    dataset  = torch.utils.data.TensorDataset(torch.tensor(X), torch.tensor(confident_labels))\n",
    "    dataloader = torch.utils.data.DataLoader(dataset, batch_size=50, shuffle=True)\n",
    "\n",
    "    test_dataset  = torch.utils.data.TensorDataset(torch.tensor(X), torch.tensor(ultra_confident_labels))\n",
    "    test_dataloader = torch.utils.data.DataLoader(test_dataset, batch_size=50, shuffle=False)\n",
    "\n",
    "    m = GCNModel(\"configs/2_40_5.txt\", 2, dropout=0.0)\n",
    "    m.train(dataloader, 50, verbose=False)\n",
    "\n",
    "    _,_,acc,_,_,_ = m.validation_metrics(test_dataloader, ultra_val_nodes, test_nodes)\n",
    "    accs.append(acc)"
   ]
  },
  {
   "cell_type": "code",
   "execution_count": 9,
   "metadata": {},
   "outputs": [
    {
     "data": {
      "text/plain": [
       "<matplotlib.collections.PathCollection at 0x7f134beaa700>"
      ]
     },
     "execution_count": 9,
     "metadata": {},
     "output_type": "execute_result"
    },
    {
     "data": {
      "image/png": "[encoded data removed]",
      "text/plain": [
       "<Figure size 432x288 with 1 Axes>"
      ]
     },
     "metadata": {
      "needs_background": "light"
     },
     "output_type": "display_data"
    }
   ],
   "source": [
    "plt.scatter(thresh, accs)"
   ]
  },
  {
   "cell_type": "code",
   "execution_count": 8,
   "metadata": {},
   "outputs": [
    {
     "data": {
      "text/plain": [
       "array([[ 49,   0,   0,   0],\n",
       "       [  0, 189,   0,   0],\n",
       "       [  0,   0, 131,   0],\n",
       "       [  0,   0,   0,  81]])"
      ]
     },
     "execution_count": 8,
     "metadata": {},
     "output_type": "execute_result"
    }
   ],
   "source": [
    "confident_labels = utilities.get_consensus_labels(encoded_labels, necessary_vote = .9)\n",
    "train_nodes = np.where(confident_labels != -1)[0]\n",
    "test_nodes = np.where(confident_labels == -1)[0]\n",
    "confusion_matrix(real_y[train_nodes], confident_labels[train_nodes])"
   ]
  },
  {
   "cell_type": "code",
   "execution_count": 9,
   "metadata": {},
   "outputs": [
    {
     "data": {
      "text/plain": [
       "array([[ 49,   0,   0,   0],\n",
       "       [  0, 189,   0,   0],\n",
       "       [  0,   0, 131,   0],\n",
       "       [  0,   0,   0,  81]])"
      ]
     },
     "execution_count": 9,
     "metadata": {},
     "output_type": "execute_result"
    }
   ],
   "source": [
    "confusion_matrix(real_y[train_nodes], all_labels_factored['sctype'].to_numpy()[train_nodes])"
   ]
  },
  {
   "cell_type": "code",
   "execution_count": 10,
   "metadata": {},
   "outputs": [
    {
     "name": "stdout",
     "output_type": "stream",
     "text": [
      "0.9591836929321289\n",
      "1.0\n",
      "1.0\n",
      "1.0\n",
      "0.8163265585899353\n"
     ]
    }
   ],
   "source": [
    "type_indices = np.where(confident_labels[train_nodes]==0)[0]\n",
    "print(utilities.pred_accuracy(all_labels_factored['scina'].to_numpy()[train_nodes][type_indices], confident_labels[train_nodes][type_indices]))\n",
    "print(utilities.pred_accuracy(all_labels_factored['scsorter'].to_numpy()[train_nodes][type_indices], confident_labels[train_nodes][type_indices]))\n",
    "print(utilities.pred_accuracy(all_labels_factored['sctype'].to_numpy()[train_nodes][type_indices], confident_labels[train_nodes][type_indices]))\n",
    "print(utilities.pred_accuracy(all_labels_factored['singler'].to_numpy()[train_nodes][type_indices], confident_labels[train_nodes][type_indices]))\n",
    "print(utilities.pred_accuracy(all_labels_factored['scpred'].to_numpy()[train_nodes][type_indices], confident_labels[train_nodes][type_indices]))\n"
   ]
  },
  {
   "cell_type": "code",
   "execution_count": 55,
   "metadata": {},
   "outputs": [
    {
     "name": "stdout",
     "output_type": "stream",
     "text": [
      "0.3405994474887848\n"
     ]
    }
   ],
   "source": [
    "for i in np.unique(confident_labels[train_nodes]):\n",
    "    type_indices = np.where(confident_labels[train_nodes]==i)[0]\n",
    "    print(utilities.pred_accuracy(all_labels_factored['scina'].to_numpy()[train_nodes][type_indices], real_y[train_nodes][type_indices]))\n",
    "    break"
   ]
  },
  {
   "cell_type": "code",
   "execution_count": 33,
   "metadata": {},
   "outputs": [
    {
     "data": {
      "text/plain": [
       "array([0.88786954, 0.87971455, 0.47196737, 0.83792049, 0.73598367])"
      ]
     },
     "execution_count": 33,
     "metadata": {},
     "output_type": "execute_result"
    }
   ],
   "source": [
    "scores = np.zeros(len(tools))\n",
    "for i, tool in enumerate(tools):\n",
    "    scores[i] = utilities.pred_accuracy(all_labels_factored[tool].to_numpy()[train_nodes], confident_labels[train_nodes])\n",
    "scores"
   ]
  }
 ],
 "metadata": {
  "kernelspec": {
   "display_name": "Python 3.9.7 ('thesis')",
   "language": "python",
   "name": "python3"
  },
  "language_info": {
   "codemirror_mode": {
    "name": "ipython",
    "version": 3
   },
   "file_extension": ".py",
   "mimetype": "text/x-python",
   "name": "python",
   "nbconvert_exporter": "python",
   "pygments_lexer": "ipython3",
   "version": "3.9.7"
  },
  "vscode": {
   "interpreter": {
    "hash": "9e461d02738fd757bc3d2933f9434d370f54d79aa7bbf71ca755487c9a10e111"
   }
  }
 },
 "nbformat": 4,
 "nbformat_minor": 2
}
