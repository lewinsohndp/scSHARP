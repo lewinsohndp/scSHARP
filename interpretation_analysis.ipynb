{
 "cells": [
  {
   "cell_type": "code",
   "execution_count": 1,
   "metadata": {},
   "outputs": [
    {
     "name": "stderr",
     "output_type": "stream",
     "text": [
      "/home/users/lewinsda/.conda/envs/daniel_thesis_2/lib/python3.9/site-packages/tqdm/auto.py:22: TqdmWarning: IProgress not found. Please update jupyter and ipywidgets. See https://ipywidgets.readthedocs.io/en/stable/user_install.html\n",
      "  from .autonotebook import tqdm as notebook_tqdm\n"
     ]
    }
   ],
   "source": [
    "import numpy as np\n",
    "import pandas as pd\n",
    "import torch\n",
    "from gcn_model import GCNModel\n",
    "import utilities\n",
    "from test_model import test_model\n",
    "import os\n",
    "import statistics\n",
    "import matplotlib.pyplot as plt\n",
    "from sklearn.metrics import confusion_matrix\n",
    "from captum.attr import IntegratedGradients, DeepLift\n",
    "import seaborn as sns"
   ]
  },
  {
   "cell_type": "code",
   "execution_count": 2,
   "metadata": {},
   "outputs": [],
   "source": [
    "data_folder = \"/home/groups/ConradLab/daniel/sharp_data/sharp_sims/splat_0.7_de_rq/\"\n",
    "#data_folder = \"simulations/splat_0.7_de_rq/\"\n",
    "# get labels\n",
    "data_path = data_folder + \"query_counts.csv\"\n",
    "tools = [\"sctype\",\"scsorter\",\"scina\",\"singler\", \"scpred\"]\n",
    "#tools = [\"scsorter\",\"scina\",\"singler\"]\n",
    "ref_path = data_folder + \"ref_counts.csv\"\n",
    "ref_label_path = data_folder + \"ref_labels.csv\"\n",
    "marker_path = data_folder + \"markers.txt\"\n",
    "if os.path.exists(data_folder + \"preds.csv\"):\n",
    "    all_labels = pd.read_csv(data_folder + \"preds.csv\", index_col=0)\n",
    "    if all_labels.shape[1] != len(tools): \n",
    "        all_labels = all_labels[tools]\n",
    "        #raise Exception(\"wrong amount of tools in file\")\n",
    "else:\n",
    "    all_labels = utilities.label_counts(data_path,tools,ref_path,ref_label_path,marker_path)\n",
    "\n",
    "# read in dataset\n",
    "counts = pd.read_csv(data_path, index_col=0)\n",
    "X, keep_cells, keep_genes, rpca = utilities.preprocess(np.array(counts), scale=False, comps=500)\n",
    "\n",
    "all_labels = all_labels.loc[keep_cells,:]\n",
    "\n",
    "_,marker_names = utilities.read_marker_file(marker_path)\n",
    "\n",
    "all_labels_factored = utilities.factorize_df(all_labels, marker_names)\n",
    "encoded_labels = utilities.encode_predictions(all_labels_factored)\n",
    "\n",
    "meta_path = data_folder + \"query_meta.csv\"\n",
    "metadata = pd.read_csv(meta_path, index_col=0)\n",
    "real_y = pd.factorize(metadata['Group'], sort=True)[0]\n",
    "real_y = real_y[keep_cells]\n",
    "\n",
    "confident_labels = utilities.get_consensus_labels(encoded_labels, necessary_vote = 3)\n",
    "\n",
    "train_nodes = np.where(confident_labels != -1)[0]\n",
    "test_nodes = np.where(confident_labels == -1)[0]\n"
   ]
  },
  {
   "cell_type": "code",
   "execution_count": 3,
   "metadata": {},
   "outputs": [],
   "source": [
    "dataset  = torch.utils.data.TensorDataset(torch.tensor(X), torch.tensor(confident_labels))\n",
    "dataloader = torch.utils.data.DataLoader(dataset, batch_size=50, shuffle=True)\n",
    "\n",
    "test_dataset  = torch.utils.data.TensorDataset(torch.tensor(X), torch.tensor(real_y))\n",
    "test_dataloader = torch.utils.data.DataLoader(test_dataset, batch_size=50, shuffle=False)\n"
   ]
  },
  {
   "cell_type": "code",
   "execution_count": 4,
   "metadata": {},
   "outputs": [
    {
     "name": "stdout",
     "output_type": "stream",
     "text": [
      "Loss in epoch 0 = 25.950359\n",
      "Loss in epoch 10 = 0.075396\n",
      "Loss in epoch 20 = 0.018048\n",
      "Loss in epoch 30 = 0.007761\n",
      "Loss in epoch 40 = 0.004706\n",
      "Loss in epoch 50 = 0.002872\n",
      "Loss in epoch 60 = 0.002204\n",
      "Loss in epoch 70 = 0.001309\n",
      "Loss in epoch 80 = 0.000935\n",
      "Loss in epoch 90 = 0.000925\n",
      "Loss in epoch 100 = 0.000644\n",
      "Loss in epoch 110 = 0.000432\n",
      "Loss in epoch 120 = 0.000394\n",
      "Loss in epoch 130 = 0.000356\n",
      "Loss in epoch 140 = 0.000312\n"
     ]
    }
   ],
   "source": [
    "m = GCNModel(\"configs/2_40.txt\", 2, dropout=0.0)\n",
    "m.train(dataloader, 150)"
   ]
  },
  {
   "cell_type": "code",
   "execution_count": 5,
   "metadata": {},
   "outputs": [
    {
     "data": {
      "text/plain": [
       "(0.955955982208252,\n",
       " array([[212,   9,   5,   6],\n",
       "        [  0, 265,   3,   0],\n",
       "        [  1,   4, 226,   3],\n",
       "        [  2,   6,   5, 252]]),\n",
       " 0.9724972248077393,\n",
       " array([[178,   6,   2,   2],\n",
       "        [  0, 264,   2,   0],\n",
       "        [  1,   2, 211,   1],\n",
       "        [  0,   5,   4, 231]]),\n",
       " 0.7888888716697693,\n",
       " array([[34,  3,  3,  4],\n",
       "        [ 0,  1,  1,  0],\n",
       "        [ 0,  2, 15,  2],\n",
       "        [ 2,  1,  1, 21]]))"
      ]
     },
     "execution_count": 5,
     "metadata": {},
     "output_type": "execute_result"
    }
   ],
   "source": [
    "m.validation_metrics(test_dataloader, train_nodes, test_nodes)"
   ]
  },
  {
   "cell_type": "code",
   "execution_count": 6,
   "metadata": {},
   "outputs": [],
   "source": [
    "preds,_ = m.predict(test_dataloader)\n",
    "final_preds = preds.max(dim=1)[1]"
   ]
  },
  {
   "cell_type": "code",
   "execution_count": 7,
   "metadata": {},
   "outputs": [],
   "source": [
    " genes = counts.columns.to_numpy()[keep_genes]"
   ]
  },
  {
   "cell_type": "code",
   "execution_count": 8,
   "metadata": {},
   "outputs": [
    {
     "name": "stderr",
     "output_type": "stream",
     "text": [
      "/home/users/lewinsda/.conda/envs/daniel_thesis_2/lib/python3.9/site-packages/captum/_utils/gradient.py:57: UserWarning: Input Tensor 0 did not already require gradients, required_grads has been set automatically.\n",
      "  warnings.warn(\n",
      "/home/users/lewinsda/.conda/envs/daniel_thesis_2/lib/python3.9/site-packages/captum/attr/_core/deep_lift.py:336: UserWarning: Setting forward, backward hooks and attributes on non-linear\n",
      "               activations. The hooks and attributes will be removed\n",
      "            after the attribution is finished\n",
      "  warnings.warn(\n"
     ]
    }
   ],
   "source": [
    "int_df = utilities.run_interpretation(m, X, rpca, final_preds, counts.columns.to_numpy()[keep_genes])"
   ]
  },
  {
   "cell_type": "code",
   "execution_count": 9,
   "metadata": {},
   "outputs": [
    {
     "ename": "AttributeError",
     "evalue": "'numpy.ndarray' object has no attribute 'count'",
     "output_type": "error",
     "traceback": [
      "\u001b[0;31m---------------------------------------------------------------------------\u001b[0m",
      "\u001b[0;31mAttributeError\u001b[0m                            Traceback (most recent call last)",
      "Input \u001b[0;32mIn [9]\u001b[0m, in \u001b[0;36m<cell line: 1>\u001b[0;34m()\u001b[0m\n\u001b[0;32m----> 1\u001b[0m repeated \u001b[38;5;241m=\u001b[39m \u001b[38;5;28mlist\u001b[39m(\u001b[38;5;28mset\u001b[39m([x \u001b[38;5;28;01mfor\u001b[39;00m x \u001b[38;5;129;01min\u001b[39;00m keep_genes \u001b[38;5;28;01mif\u001b[39;00m keep_genes\u001b[38;5;241m.\u001b[39mcount(x) \u001b[38;5;241m>\u001b[39m \u001b[38;5;241m1\u001b[39m]))\n",
      "Input \u001b[0;32mIn [9]\u001b[0m, in \u001b[0;36m<listcomp>\u001b[0;34m(.0)\u001b[0m\n\u001b[0;32m----> 1\u001b[0m repeated \u001b[38;5;241m=\u001b[39m \u001b[38;5;28mlist\u001b[39m(\u001b[38;5;28mset\u001b[39m([x \u001b[38;5;28;01mfor\u001b[39;00m x \u001b[38;5;129;01min\u001b[39;00m keep_genes \u001b[38;5;28;01mif\u001b[39;00m \u001b[43mkeep_genes\u001b[49m\u001b[38;5;241;43m.\u001b[39;49m\u001b[43mcount\u001b[49m(x) \u001b[38;5;241m>\u001b[39m \u001b[38;5;241m1\u001b[39m]))\n",
      "\u001b[0;31mAttributeError\u001b[0m: 'numpy.ndarray' object has no attribute 'count'"
     ]
    }
   ],
   "source": [
    "repeated = list(set([x for x in keep_genes if keep_genes.count(x) > 1]))"
   ]
  },
  {
   "cell_type": "code",
   "execution_count": null,
   "metadata": {},
   "outputs": [],
   "source": [
    "int_df.loc[repeated,:]"
   ]
  },
  {
   "cell_type": "code",
   "execution_count": 10,
   "metadata": {},
   "outputs": [
    {
     "data": {
      "text/plain": [
       "[Text(0.5, 15.0, 'Cell Type')]"
      ]
     },
     "execution_count": 10,
     "metadata": {},
     "output_type": "execute_result"
    },
    {
     "data": {
      "image/png": "[encoded data removed]",
      "text/plain": [
       "<Figure size 432x288 with 2 Axes>"
      ]
     },
     "metadata": {
      "needs_background": "light"
     },
     "output_type": "display_data"
    }
   ],
   "source": [
    "keep_genes = int_df.sort_values(0, ascending=False).head(5).index.tolist()\n",
    "keep_genes += int_df.sort_values(1, ascending=False).head(5).index.tolist()\n",
    "keep_genes += int_df.sort_values(2, ascending=False).head(5).index.tolist()\n",
    "keep_genes += int_df.sort_values(3, ascending=False).head(5).index.tolist()\n",
    "ax = sns.heatmap(int_df.loc[keep_genes,:])\n",
    "ax.set(xlabel=\"Cell Type\")"
   ]
  },
  {
   "cell_type": "code",
   "execution_count": 19,
   "metadata": {},
   "outputs": [
    {
     "data": {
      "text/plain": [
       "'#cor_loadings = torch.tensor(rpca.components_.T * np.sqrt(rpca.explained_variance_))\\n#gene_att_scores = torch.mm(cor_loadings, mean_attributions)\\ngene_att_scores = rpca.inverse_transform(mean_attributions.T)\\n#gene_att_scores = gene_att_scores.numpy()\\natt_df = pd.DataFrame(gene_att_scores.T)\\natt_df.index = genes\\natt_df.columns = prediction_names'"
      ]
     },
     "execution_count": 19,
     "metadata": {},
     "output_type": "execute_result"
    }
   ],
   "source": [
    "predictions = final_preds.cpu()\n",
    "prediction_names = predictions.unique().tolist()\n",
    "classes = [None]*len(prediction_names)\n",
    "for i, pred in enumerate(prediction_names):\n",
    "    classes[i] = np.where(predictions == pred)[0]\n",
    "\n",
    "# fix adding eval mode\n",
    "\n",
    "dl = DeepLift(m)\n",
    "baseline = torch.FloatTensor(np.full(X.shape, X.min()))\n",
    "\n",
    "attributions = np.zeros((len(prediction_names), X.shape[0], X.shape[1]))\n",
    "\n",
    "for i, pred_name in enumerate(prediction_names):\n",
    "    attributions[i] = dl.attribute(torch.FloatTensor(X).to(m.device), baseline.to(m.device), target=pred_name, return_convergence_delta=True)[0].cpu().detach()\n",
    "\n",
    "mean_attributions = np.zeros((len(prediction_names), X.shape[1]))\n",
    "for i in range(attributions.shape[0]):\n",
    "    mean_attributions[i] = torch.mean(torch.tensor(attributions[i]), 0)\n",
    "\n",
    "mean_attributions = torch.FloatTensor(mean_attributions.T)\n",
    "\n",
    "#cor_loadings = torch.tensor(rpca.components_.T * np.sqrt(rpca.explained_variance_))\n",
    "gene_att_scores = torch.mm(torch.tensor(rpca.components_.T), mean_attributions)\n",
    "gene_att_scores = gene_att_scores.numpy()\n",
    "att_df = pd.DataFrame(gene_att_scores)\n",
    "att_df.index = genes\n",
    "att_df.columns = prediction_names\n",
    "\n",
    "\"\"\"#cor_loadings = torch.tensor(rpca.components_.T * np.sqrt(rpca.explained_variance_))\n",
    "#gene_att_scores = torch.mm(cor_loadings, mean_attributions)\n",
    "gene_att_scores = rpca.inverse_transform(mean_attributions.T)\n",
    "#gene_att_scores = gene_att_scores.numpy()\n",
    "att_df = pd.DataFrame(gene_att_scores.T)\n",
    "att_df.index = genes\n",
    "att_df.columns = prediction_names\"\"\"\n"
   ]
  },
  {
   "cell_type": "code",
   "execution_count": 20,
   "metadata": {},
   "outputs": [
    {
     "data": {
      "text/plain": [
       "[Text(0.5, 15.0, 'Cell Type')]"
      ]
     },
     "execution_count": 20,
     "metadata": {},
     "output_type": "execute_result"
    },
    {
     "data": {
      "image/png": "[encoded data removed]",
      "text/plain": [
       "<Figure size 432x288 with 2 Axes>"
      ]
     },
     "metadata": {
      "needs_background": "light"
     },
     "output_type": "display_data"
    }
   ],
   "source": [
    "keep_genes = att_df.sort_values(0, ascending=False).head(5).index.tolist()\n",
    "keep_genes += att_df.sort_values(1, ascending=False).head(5).index.tolist()\n",
    "keep_genes += att_df.sort_values(2, ascending=False).head(5).index.tolist()\n",
    "keep_genes += att_df.sort_values(3, ascending=False).head(5).index.tolist()\n",
    "ax = sns.heatmap(att_df.loc[keep_genes,:])\n",
    "ax.set(xlabel=\"Cell Type\")"
   ]
  },
  {
   "cell_type": "code",
   "execution_count": 14,
   "metadata": {},
   "outputs": [
    {
     "data": {
      "text/html": [
       "<div>\n",
       "<style scoped>\n",
       "    .dataframe tbody tr th:only-of-type {\n",
       "        vertical-align: middle;\n",
       "    }\n",
       "\n",
       "    .dataframe tbody tr th {\n",
       "        vertical-align: top;\n",
       "    }\n",
       "\n",
       "    .dataframe thead th {\n",
       "        text-align: right;\n",
       "    }\n",
       "</style>\n",
       "<table border=\"1\" class=\"dataframe\">\n",
       "  <thead>\n",
       "    <tr style=\"text-align: right;\">\n",
       "      <th></th>\n",
       "      <th>Gene1</th>\n",
       "      <th>Gene3</th>\n",
       "      <th>Gene5</th>\n",
       "      <th>Gene6</th>\n",
       "      <th>Gene7</th>\n",
       "      <th>Gene10</th>\n",
       "      <th>Gene13</th>\n",
       "      <th>Gene15</th>\n",
       "      <th>Gene16</th>\n",
       "      <th>Gene17</th>\n",
       "      <th>...</th>\n",
       "      <th>Gene33676</th>\n",
       "      <th>Gene33680</th>\n",
       "      <th>Gene33681</th>\n",
       "      <th>Gene33683</th>\n",
       "      <th>Gene33685</th>\n",
       "      <th>Gene33686</th>\n",
       "      <th>Gene33688</th>\n",
       "      <th>Gene33689</th>\n",
       "      <th>Gene33692</th>\n",
       "      <th>Gene33694</th>\n",
       "    </tr>\n",
       "  </thead>\n",
       "  <tbody>\n",
       "    <tr>\n",
       "      <th>0</th>\n",
       "      <td>0.091549</td>\n",
       "      <td>0.110342</td>\n",
       "      <td>0.254197</td>\n",
       "      <td>0.158839</td>\n",
       "      <td>-0.007777</td>\n",
       "      <td>0.025821</td>\n",
       "      <td>0.012084</td>\n",
       "      <td>0.156339</td>\n",
       "      <td>0.024493</td>\n",
       "      <td>0.087815</td>\n",
       "      <td>...</td>\n",
       "      <td>0.006866</td>\n",
       "      <td>0.052088</td>\n",
       "      <td>0.053696</td>\n",
       "      <td>-0.071210</td>\n",
       "      <td>0.025926</td>\n",
       "      <td>0.048481</td>\n",
       "      <td>0.001699</td>\n",
       "      <td>0.078209</td>\n",
       "      <td>-0.011545</td>\n",
       "      <td>0.041869</td>\n",
       "    </tr>\n",
       "    <tr>\n",
       "      <th>1</th>\n",
       "      <td>-0.024155</td>\n",
       "      <td>0.020672</td>\n",
       "      <td>-0.229949</td>\n",
       "      <td>0.240513</td>\n",
       "      <td>0.062770</td>\n",
       "      <td>0.250236</td>\n",
       "      <td>-0.037406</td>\n",
       "      <td>0.107607</td>\n",
       "      <td>0.052058</td>\n",
       "      <td>-0.001336</td>\n",
       "      <td>...</td>\n",
       "      <td>-0.010013</td>\n",
       "      <td>0.173700</td>\n",
       "      <td>0.059649</td>\n",
       "      <td>0.020704</td>\n",
       "      <td>0.251783</td>\n",
       "      <td>0.009329</td>\n",
       "      <td>0.022649</td>\n",
       "      <td>-0.058494</td>\n",
       "      <td>0.026689</td>\n",
       "      <td>0.127228</td>\n",
       "    </tr>\n",
       "    <tr>\n",
       "      <th>2</th>\n",
       "      <td>-0.015921</td>\n",
       "      <td>0.138411</td>\n",
       "      <td>0.173271</td>\n",
       "      <td>0.101951</td>\n",
       "      <td>-0.045552</td>\n",
       "      <td>0.068225</td>\n",
       "      <td>0.090106</td>\n",
       "      <td>0.397352</td>\n",
       "      <td>-0.061237</td>\n",
       "      <td>-0.035668</td>\n",
       "      <td>...</td>\n",
       "      <td>-0.022034</td>\n",
       "      <td>-0.151399</td>\n",
       "      <td>-0.029236</td>\n",
       "      <td>0.053762</td>\n",
       "      <td>-0.120678</td>\n",
       "      <td>-0.038079</td>\n",
       "      <td>0.026232</td>\n",
       "      <td>0.087235</td>\n",
       "      <td>-0.011987</td>\n",
       "      <td>-0.076107</td>\n",
       "    </tr>\n",
       "    <tr>\n",
       "      <th>3</th>\n",
       "      <td>0.001854</td>\n",
       "      <td>-0.293263</td>\n",
       "      <td>0.090203</td>\n",
       "      <td>0.613330</td>\n",
       "      <td>0.033012</td>\n",
       "      <td>0.149187</td>\n",
       "      <td>-0.078745</td>\n",
       "      <td>1.252827</td>\n",
       "      <td>0.043387</td>\n",
       "      <td>0.140687</td>\n",
       "      <td>...</td>\n",
       "      <td>0.089199</td>\n",
       "      <td>0.010187</td>\n",
       "      <td>-0.047533</td>\n",
       "      <td>0.088055</td>\n",
       "      <td>-0.011141</td>\n",
       "      <td>-0.000757</td>\n",
       "      <td>-0.034545</td>\n",
       "      <td>-0.224339</td>\n",
       "      <td>0.060846</td>\n",
       "      <td>-0.067400</td>\n",
       "    </tr>\n",
       "  </tbody>\n",
       "</table>\n",
       "<p>4 rows × 16196 columns</p>\n",
       "</div>"
      ],
      "text/plain": [
       "      Gene1     Gene3     Gene5     Gene6     Gene7    Gene10    Gene13  \\\n",
       "0  0.091549  0.110342  0.254197  0.158839 -0.007777  0.025821  0.012084   \n",
       "1 -0.024155  0.020672 -0.229949  0.240513  0.062770  0.250236 -0.037406   \n",
       "2 -0.015921  0.138411  0.173271  0.101951 -0.045552  0.068225  0.090106   \n",
       "3  0.001854 -0.293263  0.090203  0.613330  0.033012  0.149187 -0.078745   \n",
       "\n",
       "     Gene15    Gene16    Gene17  ...  Gene33676  Gene33680  Gene33681  \\\n",
       "0  0.156339  0.024493  0.087815  ...   0.006866   0.052088   0.053696   \n",
       "1  0.107607  0.052058 -0.001336  ...  -0.010013   0.173700   0.059649   \n",
       "2  0.397352 -0.061237 -0.035668  ...  -0.022034  -0.151399  -0.029236   \n",
       "3  1.252827  0.043387  0.140687  ...   0.089199   0.010187  -0.047533   \n",
       "\n",
       "   Gene33683  Gene33685  Gene33686  Gene33688  Gene33689  Gene33692  Gene33694  \n",
       "0  -0.071210   0.025926   0.048481   0.001699   0.078209  -0.011545   0.041869  \n",
       "1   0.020704   0.251783   0.009329   0.022649  -0.058494   0.026689   0.127228  \n",
       "2   0.053762  -0.120678  -0.038079   0.026232   0.087235  -0.011987  -0.076107  \n",
       "3   0.088055  -0.011141  -0.000757  -0.034545  -0.224339   0.060846  -0.067400  \n",
       "\n",
       "[4 rows x 16196 columns]"
      ]
     },
     "execution_count": 14,
     "metadata": {},
     "output_type": "execute_result"
    }
   ],
   "source": [
    "att_df.head()"
   ]
  },
  {
   "cell_type": "code",
   "execution_count": 15,
   "metadata": {},
   "outputs": [
    {
     "data": {
      "text/html": [
       "<div>\n",
       "<style scoped>\n",
       "    .dataframe tbody tr th:only-of-type {\n",
       "        vertical-align: middle;\n",
       "    }\n",
       "\n",
       "    .dataframe tbody tr th {\n",
       "        vertical-align: top;\n",
       "    }\n",
       "\n",
       "    .dataframe thead th {\n",
       "        text-align: right;\n",
       "    }\n",
       "</style>\n",
       "<table border=\"1\" class=\"dataframe\">\n",
       "  <thead>\n",
       "    <tr style=\"text-align: right;\">\n",
       "      <th></th>\n",
       "      <th>0</th>\n",
       "      <th>1</th>\n",
       "      <th>2</th>\n",
       "      <th>3</th>\n",
       "    </tr>\n",
       "  </thead>\n",
       "  <tbody>\n",
       "    <tr>\n",
       "      <th>Gene1</th>\n",
       "      <td>0.107672</td>\n",
       "      <td>-0.086372</td>\n",
       "      <td>-0.016295</td>\n",
       "      <td>-0.053542</td>\n",
       "    </tr>\n",
       "    <tr>\n",
       "      <th>Gene3</th>\n",
       "      <td>0.050712</td>\n",
       "      <td>-0.166249</td>\n",
       "      <td>0.272642</td>\n",
       "      <td>-0.308062</td>\n",
       "    </tr>\n",
       "    <tr>\n",
       "      <th>Gene5</th>\n",
       "      <td>0.129275</td>\n",
       "      <td>-0.590020</td>\n",
       "      <td>0.357630</td>\n",
       "      <td>0.132777</td>\n",
       "    </tr>\n",
       "    <tr>\n",
       "      <th>Gene6</th>\n",
       "      <td>-0.065439</td>\n",
       "      <td>-0.149175</td>\n",
       "      <td>0.074644</td>\n",
       "      <td>0.605267</td>\n",
       "    </tr>\n",
       "    <tr>\n",
       "      <th>Gene7</th>\n",
       "      <td>-0.020787</td>\n",
       "      <td>0.091659</td>\n",
       "      <td>-0.078057</td>\n",
       "      <td>0.012324</td>\n",
       "    </tr>\n",
       "  </tbody>\n",
       "</table>\n",
       "</div>"
      ],
      "text/plain": [
       "              0         1         2         3\n",
       "Gene1  0.107672 -0.086372 -0.016295 -0.053542\n",
       "Gene3  0.050712 -0.166249  0.272642 -0.308062\n",
       "Gene5  0.129275 -0.590020  0.357630  0.132777\n",
       "Gene6 -0.065439 -0.149175  0.074644  0.605267\n",
       "Gene7 -0.020787  0.091659 -0.078057  0.012324"
      ]
     },
     "execution_count": 15,
     "metadata": {},
     "output_type": "execute_result"
    }
   ],
   "source": [
    "int_df.head()"
   ]
  },
  {
   "cell_type": "code",
   "execution_count": 68,
   "metadata": {},
   "outputs": [
    {
     "data": {
      "text/plain": [
       "2.875029"
      ]
     },
     "execution_count": 68,
     "metadata": {},
     "output_type": "execute_result"
    }
   ],
   "source": [
    "np.std(X[:,2])"
   ]
  },
  {
   "cell_type": "code",
   "execution_count": 20,
   "metadata": {},
   "outputs": [
    {
     "data": {
      "text/plain": [
       "-11.208897"
      ]
     },
     "execution_count": 20,
     "metadata": {},
     "output_type": "execute_result"
    }
   ],
   "source": [
    "X.min()"
   ]
  },
  {
   "cell_type": "code",
   "execution_count": 16,
   "metadata": {},
   "outputs": [],
   "source": [
    "final_preds = preds.max(dim=1)[1].cpu()\n",
    "zero_class = np.where(final_preds  == 0)[0]\n",
    "one_class = np.where(final_preds  == 1)[0]\n",
    "two_class = np.where(final_preds  == 2)[0]\n",
    "three_class = np.where(final_preds  == 3)[0]"
   ]
  },
  {
   "cell_type": "code",
   "execution_count": 17,
   "metadata": {},
   "outputs": [],
   "source": [
    "ig = IntegratedGradients(m)\n",
    "dl = DeepLift(m)\n",
    "#baseline = torch.FloatTensor(np.zeros((999,500)))\n",
    "baseline = torch.FloatTensor(np.full((999,500), X.min()))"
   ]
  },
  {
   "cell_type": "code",
   "execution_count": 15,
   "metadata": {},
   "outputs": [
    {
     "name": "stderr",
     "output_type": "stream",
     "text": [
      "/Users/daniel/miniconda3/envs/thesis/lib/python3.9/site-packages/captum/_utils/gradient.py:57: UserWarning: Input Tensor 0 did not already require gradients, required_grads has been set automatically.\n",
      "  warnings.warn(\n",
      "/Users/daniel/miniconda3/envs/thesis/lib/python3.9/site-packages/captum/attr/_core/deep_lift.py:336: UserWarning: Setting forward, backward hooks and attributes on non-linear\n",
      "               activations. The hooks and attributes will be removed\n",
      "            after the attribution is finished\n",
      "  warnings.warn(\n"
     ]
    }
   ],
   "source": [
    "attributions, delta = dl.attribute(torch.FloatTensor(X).to(model.device), baseline.to(model.device), target=1, return_convergence_delta=True)\n",
    "#attributions, delta = dl.attribute(torch.FloatTensor(X[zero_class,:]), baseline[zero_class,:], target=0, return_convergence_delta=True)"
   ]
  },
  {
   "cell_type": "code",
   "execution_count": 13,
   "metadata": {},
   "outputs": [
    {
     "data": {
      "text/plain": [
       "Text(0, 0.5, 'Attribution Score')"
      ]
     },
     "execution_count": 13,
     "metadata": {},
     "output_type": "execute_result"
    },
    {
     "data": {
      "image/png": "[encoded data removed]",
      "text/plain": [
       "<Figure size 432x288 with 1 Axes>"
      ]
     },
     "metadata": {
      "needs_background": "light"
     },
     "output_type": "display_data"
    }
   ],
   "source": [
    "plt.scatter(range(10),torch.mean(attributions, 0).detach()[0:10])\n",
    "plt.xlabel(\"PCs\")\n",
    "plt.ylabel(\"Attribution Score\")"
   ]
  },
  {
   "cell_type": "code",
   "execution_count": 103,
   "metadata": {},
   "outputs": [
    {
     "name": "stderr",
     "output_type": "stream",
     "text": [
      "/Users/daniel/miniconda3/envs/thesis/lib/python3.9/site-packages/captum/_utils/gradient.py:57: UserWarning: Input Tensor 0 did not already require gradients, required_grads has been set automatically.\n",
      "  warnings.warn(\n",
      "/Users/daniel/miniconda3/envs/thesis/lib/python3.9/site-packages/captum/attr/_core/deep_lift.py:336: UserWarning: Setting forward, backward hooks and attributes on non-linear\n",
      "               activations. The hooks and attributes will be removed\n",
      "            after the attribution is finished\n",
      "  warnings.warn(\n"
     ]
    }
   ],
   "source": [
    "attributions, delta = dl.attribute(torch.FloatTensor(X[one_class,:]), baseline[one_class,:], target=1, return_convergence_delta=True)"
   ]
  },
  {
   "cell_type": "code",
   "execution_count": 104,
   "metadata": {},
   "outputs": [
    {
     "data": {
      "text/plain": [
       "<matplotlib.collections.PathCollection at 0x7f81ac1cc9a0>"
      ]
     },
     "execution_count": 104,
     "metadata": {},
     "output_type": "execute_result"
    },
    {
     "data": {
      "image/png": "[encoded data removed]",
      "text/plain": [
       "<Figure size 432x288 with 1 Axes>"
      ]
     },
     "metadata": {
      "needs_background": "light"
     },
     "output_type": "display_data"
    }
   ],
   "source": [
    "plt.scatter(range(10),torch.mean(attributions, 0).detach()[0:10])"
   ]
  },
  {
   "cell_type": "code",
   "execution_count": 84,
   "metadata": {},
   "outputs": [
    {
     "data": {
      "text/plain": [
       "<matplotlib.collections.PathCollection at 0x7f81ab51c310>"
      ]
     },
     "execution_count": 84,
     "metadata": {},
     "output_type": "execute_result"
    },
    {
     "data": {
      "image/png": "[encoded data removed]",
      "text/plain": [
       "<Figure size 432x288 with 1 Axes>"
      ]
     },
     "metadata": {
      "needs_background": "light"
     },
     "output_type": "display_data"
    }
   ],
   "source": [
    "plt.scatter(range(10),torch.mean(attributions[one_class], 0).detach()[0:10])"
   ]
  },
  {
   "cell_type": "code",
   "execution_count": 60,
   "metadata": {},
   "outputs": [
    {
     "data": {
      "text/plain": [
       "<matplotlib.collections.PathCollection at 0x7f81acfa40a0>"
      ]
     },
     "execution_count": 60,
     "metadata": {},
     "output_type": "execute_result"
    },
    {
     "data": {
      "image/png": "[encoded data removed]",
      "text/plain": [
       "<Figure size 432x288 with 1 Axes>"
      ]
     },
     "metadata": {
      "needs_background": "light"
     },
     "output_type": "display_data"
    }
   ],
   "source": [
    "plt.scatter(range(10),torch.mean(attributions[two_class], 0).detach()[0:10])"
   ]
  },
  {
   "cell_type": "code",
   "execution_count": 52,
   "metadata": {},
   "outputs": [
    {
     "data": {
      "text/plain": [
       "<matplotlib.collections.PathCollection at 0x7f81af1a8670>"
      ]
     },
     "execution_count": 52,
     "metadata": {},
     "output_type": "execute_result"
    },
    {
     "data": {
      "image/png": "[encoded data removed]",
      "text/plain": [
       "<Figure size 432x288 with 1 Axes>"
      ]
     },
     "metadata": {
      "needs_background": "light"
     },
     "output_type": "display_data"
    }
   ],
   "source": [
    "plt.scatter(range(10),torch.mean(attributions[three_class], 0).detach()[0:10])"
   ]
  },
  {
   "cell_type": "code",
   "execution_count": 14,
   "metadata": {},
   "outputs": [
    {
     "data": {
      "text/plain": [
       "(500, 16196)"
      ]
     },
     "execution_count": 14,
     "metadata": {},
     "output_type": "execute_result"
    }
   ],
   "source": [
    "rpca.components_.shape"
   ]
  },
  {
   "cell_type": "code",
   "execution_count": 19,
   "metadata": {},
   "outputs": [
    {
     "data": {
      "text/plain": [
       "(16196,)"
      ]
     },
     "execution_count": 19,
     "metadata": {},
     "output_type": "execute_result"
    }
   ],
   "source": [
    "counts.columns.to_numpy()[keep_genes].shape"
   ]
  },
  {
   "cell_type": "code",
   "execution_count": 21,
   "metadata": {},
   "outputs": [],
   "source": [
    "gene_loadings = pd.DataFrame(rpca.components_)\n",
    "gene_loadings.columns = counts.columns.to_numpy()[keep_genes]"
   ]
  },
  {
   "cell_type": "code",
   "execution_count": 28,
   "metadata": {},
   "outputs": [
    {
     "data": {
      "text/plain": [
       "0     0.004840\n",
       "1    -0.035565\n",
       "2    -0.113855\n",
       "3    -0.102661\n",
       "4    -0.008345\n",
       "5     0.007263\n",
       "6    -0.022828\n",
       "7     0.031805\n",
       "8    -0.011725\n",
       "9    -0.024238\n",
       "10    0.006533\n",
       "Name: Gene33251, dtype: float32"
      ]
     },
     "execution_count": 28,
     "metadata": {},
     "output_type": "execute_result"
    }
   ],
   "source": [
    "gene_loadings.loc[0:10,'Gene33251']"
   ]
  },
  {
   "cell_type": "code",
   "execution_count": 108,
   "metadata": {},
   "outputs": [],
   "source": [
    "loadings = rpca.components_.T * np.sqrt(rpca.explained_variance_)\n",
    "loadings = pd.DataFrame(loadings)\n",
    "loadings.index = counts.columns.to_numpy()[keep_genes]"
   ]
  },
  {
   "cell_type": "code",
   "execution_count": 32,
   "metadata": {},
   "outputs": [
    {
     "data": {
      "text/plain": [
       "0    -0.309388\n",
       "1     0.521862\n",
       "2     0.010022\n",
       "3     0.009407\n",
       "4     0.013707\n",
       "5     0.018611\n",
       "6     0.043402\n",
       "7     0.231917\n",
       "8     0.221386\n",
       "9     0.075824\n",
       "10   -0.122973\n",
       "Name: Gene15787, dtype: float32"
      ]
     },
     "execution_count": 32,
     "metadata": {},
     "output_type": "execute_result"
    }
   ],
   "source": [
    "loadings.loc[\"Gene15787\", 0:10]"
   ]
  },
  {
   "cell_type": "code",
   "execution_count": 38,
   "metadata": {},
   "outputs": [],
   "source": [
    "markers,marker_names = utilities.read_marker_file(marker_path)\n",
    "markers = np.array(markers).flatten()"
   ]
  },
  {
   "cell_type": "code",
   "execution_count": 109,
   "metadata": {},
   "outputs": [],
   "source": [
    "marker_loadings = loadings.loc[markers,0:10]"
   ]
  },
  {
   "cell_type": "code",
   "execution_count": 133,
   "metadata": {},
   "outputs": [
    {
     "data": {
      "text/plain": [
       "[Text(0.5, 15.0, 'PCs')]"
      ]
     },
     "execution_count": 133,
     "metadata": {},
     "output_type": "execute_result"
    },
    {
     "data": {
      "image/png": "[encoded data removed]",
      "text/plain": [
       "<Figure size 432x288 with 2 Axes>"
      ]
     },
     "metadata": {
      "needs_background": "light"
     },
     "output_type": "display_data"
    }
   ],
   "source": [
    "ax = sns.heatmap(marker_loadings)\n",
    "ax.set(xlabel=\"PCs\")"
   ]
  },
  {
   "cell_type": "code",
   "execution_count": 146,
   "metadata": {},
   "outputs": [
    {
     "data": {
      "text/html": [
       "<div>\n",
       "<style scoped>\n",
       "    .dataframe tbody tr th:only-of-type {\n",
       "        vertical-align: middle;\n",
       "    }\n",
       "\n",
       "    .dataframe tbody tr th {\n",
       "        vertical-align: top;\n",
       "    }\n",
       "\n",
       "    .dataframe thead th {\n",
       "        text-align: right;\n",
       "    }\n",
       "</style>\n",
       "<table border=\"1\" class=\"dataframe\">\n",
       "  <thead>\n",
       "    <tr style=\"text-align: right;\">\n",
       "      <th></th>\n",
       "      <th>0</th>\n",
       "      <th>1</th>\n",
       "      <th>2</th>\n",
       "      <th>3</th>\n",
       "      <th>4</th>\n",
       "      <th>5</th>\n",
       "      <th>6</th>\n",
       "      <th>7</th>\n",
       "      <th>8</th>\n",
       "      <th>9</th>\n",
       "      <th>...</th>\n",
       "      <th>490</th>\n",
       "      <th>491</th>\n",
       "      <th>492</th>\n",
       "      <th>493</th>\n",
       "      <th>494</th>\n",
       "      <th>495</th>\n",
       "      <th>496</th>\n",
       "      <th>497</th>\n",
       "      <th>498</th>\n",
       "      <th>499</th>\n",
       "    </tr>\n",
       "  </thead>\n",
       "  <tbody>\n",
       "    <tr>\n",
       "      <th>Gene2824</th>\n",
       "      <td>-0.030389</td>\n",
       "      <td>-0.134653</td>\n",
       "      <td>-0.431570</td>\n",
       "      <td>-0.482103</td>\n",
       "      <td>-0.077810</td>\n",
       "      <td>0.007452</td>\n",
       "      <td>0.070467</td>\n",
       "      <td>-0.038607</td>\n",
       "      <td>-0.061512</td>\n",
       "      <td>-0.039248</td>\n",
       "      <td>...</td>\n",
       "      <td>0.025529</td>\n",
       "      <td>-0.012375</td>\n",
       "      <td>-0.006256</td>\n",
       "      <td>0.005197</td>\n",
       "      <td>-0.000649</td>\n",
       "      <td>0.010497</td>\n",
       "      <td>0.020930</td>\n",
       "      <td>-0.001483</td>\n",
       "      <td>0.004677</td>\n",
       "      <td>0.000138</td>\n",
       "    </tr>\n",
       "    <tr>\n",
       "      <th>Gene3807</th>\n",
       "      <td>-0.259905</td>\n",
       "      <td>0.266721</td>\n",
       "      <td>0.128262</td>\n",
       "      <td>-0.467179</td>\n",
       "      <td>0.154272</td>\n",
       "      <td>0.128886</td>\n",
       "      <td>0.075562</td>\n",
       "      <td>-0.045308</td>\n",
       "      <td>0.231807</td>\n",
       "      <td>0.027786</td>\n",
       "      <td>...</td>\n",
       "      <td>0.000091</td>\n",
       "      <td>0.002283</td>\n",
       "      <td>0.004371</td>\n",
       "      <td>-0.003246</td>\n",
       "      <td>0.002959</td>\n",
       "      <td>-0.006272</td>\n",
       "      <td>-0.005379</td>\n",
       "      <td>0.004767</td>\n",
       "      <td>0.005523</td>\n",
       "      <td>-0.007533</td>\n",
       "    </tr>\n",
       "    <tr>\n",
       "      <th>Gene13270</th>\n",
       "      <td>-0.103867</td>\n",
       "      <td>-0.006636</td>\n",
       "      <td>-0.263336</td>\n",
       "      <td>-0.413329</td>\n",
       "      <td>0.065628</td>\n",
       "      <td>0.028404</td>\n",
       "      <td>-0.081050</td>\n",
       "      <td>0.009837</td>\n",
       "      <td>-0.082032</td>\n",
       "      <td>0.040661</td>\n",
       "      <td>...</td>\n",
       "      <td>-0.010611</td>\n",
       "      <td>-0.001757</td>\n",
       "      <td>-0.008131</td>\n",
       "      <td>0.017732</td>\n",
       "      <td>-0.015530</td>\n",
       "      <td>-0.027058</td>\n",
       "      <td>-0.011388</td>\n",
       "      <td>-0.020035</td>\n",
       "      <td>-0.011571</td>\n",
       "      <td>-0.001437</td>\n",
       "    </tr>\n",
       "    <tr>\n",
       "      <th>Gene32664</th>\n",
       "      <td>-0.042116</td>\n",
       "      <td>-0.291827</td>\n",
       "      <td>-0.499444</td>\n",
       "      <td>-0.397128</td>\n",
       "      <td>-0.064490</td>\n",
       "      <td>-0.092352</td>\n",
       "      <td>-0.030651</td>\n",
       "      <td>-0.122825</td>\n",
       "      <td>-0.035783</td>\n",
       "      <td>-0.020604</td>\n",
       "      <td>...</td>\n",
       "      <td>0.009920</td>\n",
       "      <td>-0.019484</td>\n",
       "      <td>0.017952</td>\n",
       "      <td>-0.003843</td>\n",
       "      <td>0.011547</td>\n",
       "      <td>0.013118</td>\n",
       "      <td>-0.002215</td>\n",
       "      <td>0.001066</td>\n",
       "      <td>0.002965</td>\n",
       "      <td>-0.001634</td>\n",
       "    </tr>\n",
       "    <tr>\n",
       "      <th>Gene7622</th>\n",
       "      <td>-0.168869</td>\n",
       "      <td>0.385449</td>\n",
       "      <td>-0.162479</td>\n",
       "      <td>-0.395037</td>\n",
       "      <td>0.104476</td>\n",
       "      <td>-0.027622</td>\n",
       "      <td>0.068395</td>\n",
       "      <td>0.011744</td>\n",
       "      <td>-0.033714</td>\n",
       "      <td>-0.035294</td>\n",
       "      <td>...</td>\n",
       "      <td>0.014375</td>\n",
       "      <td>0.019073</td>\n",
       "      <td>-0.002713</td>\n",
       "      <td>-0.007774</td>\n",
       "      <td>0.017390</td>\n",
       "      <td>0.019618</td>\n",
       "      <td>0.021789</td>\n",
       "      <td>-0.012914</td>\n",
       "      <td>0.012310</td>\n",
       "      <td>0.005767</td>\n",
       "    </tr>\n",
       "    <tr>\n",
       "      <th>...</th>\n",
       "      <td>...</td>\n",
       "      <td>...</td>\n",
       "      <td>...</td>\n",
       "      <td>...</td>\n",
       "      <td>...</td>\n",
       "      <td>...</td>\n",
       "      <td>...</td>\n",
       "      <td>...</td>\n",
       "      <td>...</td>\n",
       "      <td>...</td>\n",
       "      <td>...</td>\n",
       "      <td>...</td>\n",
       "      <td>...</td>\n",
       "      <td>...</td>\n",
       "      <td>...</td>\n",
       "      <td>...</td>\n",
       "      <td>...</td>\n",
       "      <td>...</td>\n",
       "      <td>...</td>\n",
       "      <td>...</td>\n",
       "      <td>...</td>\n",
       "    </tr>\n",
       "    <tr>\n",
       "      <th>Gene20643</th>\n",
       "      <td>-0.036167</td>\n",
       "      <td>0.027197</td>\n",
       "      <td>-0.003510</td>\n",
       "      <td>-0.088774</td>\n",
       "      <td>0.003864</td>\n",
       "      <td>-0.029087</td>\n",
       "      <td>0.024841</td>\n",
       "      <td>-0.016773</td>\n",
       "      <td>-0.028010</td>\n",
       "      <td>-0.028049</td>\n",
       "      <td>...</td>\n",
       "      <td>-0.010267</td>\n",
       "      <td>-0.015310</td>\n",
       "      <td>0.002371</td>\n",
       "      <td>-0.005969</td>\n",
       "      <td>0.019837</td>\n",
       "      <td>-0.023367</td>\n",
       "      <td>0.007743</td>\n",
       "      <td>0.000808</td>\n",
       "      <td>-0.023577</td>\n",
       "      <td>-0.005140</td>\n",
       "    </tr>\n",
       "    <tr>\n",
       "      <th>Gene9169</th>\n",
       "      <td>-0.055109</td>\n",
       "      <td>-0.057626</td>\n",
       "      <td>-0.121381</td>\n",
       "      <td>-0.087011</td>\n",
       "      <td>-0.088591</td>\n",
       "      <td>-0.018188</td>\n",
       "      <td>-0.007271</td>\n",
       "      <td>0.021926</td>\n",
       "      <td>-0.008090</td>\n",
       "      <td>-0.040637</td>\n",
       "      <td>...</td>\n",
       "      <td>-0.007399</td>\n",
       "      <td>0.000587</td>\n",
       "      <td>0.012931</td>\n",
       "      <td>-0.005040</td>\n",
       "      <td>-0.006804</td>\n",
       "      <td>0.001533</td>\n",
       "      <td>-0.008896</td>\n",
       "      <td>0.015401</td>\n",
       "      <td>-0.009113</td>\n",
       "      <td>-0.000836</td>\n",
       "    </tr>\n",
       "    <tr>\n",
       "      <th>Gene9748</th>\n",
       "      <td>0.015640</td>\n",
       "      <td>-0.030233</td>\n",
       "      <td>-0.096465</td>\n",
       "      <td>-0.086164</td>\n",
       "      <td>-0.017547</td>\n",
       "      <td>-0.005664</td>\n",
       "      <td>-0.017838</td>\n",
       "      <td>0.009511</td>\n",
       "      <td>-0.002405</td>\n",
       "      <td>0.000323</td>\n",
       "      <td>...</td>\n",
       "      <td>-0.027464</td>\n",
       "      <td>-0.012351</td>\n",
       "      <td>-0.006952</td>\n",
       "      <td>0.012318</td>\n",
       "      <td>-0.007905</td>\n",
       "      <td>-0.018538</td>\n",
       "      <td>0.013956</td>\n",
       "      <td>-0.003171</td>\n",
       "      <td>0.007708</td>\n",
       "      <td>-0.001179</td>\n",
       "    </tr>\n",
       "    <tr>\n",
       "      <th>Gene18260</th>\n",
       "      <td>-0.060836</td>\n",
       "      <td>-0.057527</td>\n",
       "      <td>0.041546</td>\n",
       "      <td>-0.083281</td>\n",
       "      <td>-0.038561</td>\n",
       "      <td>-0.007019</td>\n",
       "      <td>0.023524</td>\n",
       "      <td>0.009897</td>\n",
       "      <td>-0.018659</td>\n",
       "      <td>-0.004083</td>\n",
       "      <td>...</td>\n",
       "      <td>-0.002739</td>\n",
       "      <td>0.005561</td>\n",
       "      <td>-0.003191</td>\n",
       "      <td>0.033260</td>\n",
       "      <td>-0.033564</td>\n",
       "      <td>-0.006189</td>\n",
       "      <td>0.009069</td>\n",
       "      <td>0.023487</td>\n",
       "      <td>0.012815</td>\n",
       "      <td>0.032318</td>\n",
       "    </tr>\n",
       "    <tr>\n",
       "      <th>Gene26322</th>\n",
       "      <td>-0.040321</td>\n",
       "      <td>-0.038034</td>\n",
       "      <td>-0.108392</td>\n",
       "      <td>-0.083262</td>\n",
       "      <td>-0.014992</td>\n",
       "      <td>0.017431</td>\n",
       "      <td>0.015760</td>\n",
       "      <td>0.043629</td>\n",
       "      <td>-0.005077</td>\n",
       "      <td>0.005106</td>\n",
       "      <td>...</td>\n",
       "      <td>-0.018685</td>\n",
       "      <td>0.002041</td>\n",
       "      <td>0.038660</td>\n",
       "      <td>0.013181</td>\n",
       "      <td>0.009085</td>\n",
       "      <td>0.006691</td>\n",
       "      <td>-0.049355</td>\n",
       "      <td>0.007119</td>\n",
       "      <td>0.025997</td>\n",
       "      <td>0.035073</td>\n",
       "    </tr>\n",
       "  </tbody>\n",
       "</table>\n",
       "<p>70 rows × 500 columns</p>\n",
       "</div>"
      ],
      "text/plain": [
       "                0         1         2         3         4         5    \\\n",
       "Gene2824  -0.030389 -0.134653 -0.431570 -0.482103 -0.077810  0.007452   \n",
       "Gene3807  -0.259905  0.266721  0.128262 -0.467179  0.154272  0.128886   \n",
       "Gene13270 -0.103867 -0.006636 -0.263336 -0.413329  0.065628  0.028404   \n",
       "Gene32664 -0.042116 -0.291827 -0.499444 -0.397128 -0.064490 -0.092352   \n",
       "Gene7622  -0.168869  0.385449 -0.162479 -0.395037  0.104476 -0.027622   \n",
       "...             ...       ...       ...       ...       ...       ...   \n",
       "Gene20643 -0.036167  0.027197 -0.003510 -0.088774  0.003864 -0.029087   \n",
       "Gene9169  -0.055109 -0.057626 -0.121381 -0.087011 -0.088591 -0.018188   \n",
       "Gene9748   0.015640 -0.030233 -0.096465 -0.086164 -0.017547 -0.005664   \n",
       "Gene18260 -0.060836 -0.057527  0.041546 -0.083281 -0.038561 -0.007019   \n",
       "Gene26322 -0.040321 -0.038034 -0.108392 -0.083262 -0.014992  0.017431   \n",
       "\n",
       "                6         7         8         9    ...       490       491  \\\n",
       "Gene2824   0.070467 -0.038607 -0.061512 -0.039248  ...  0.025529 -0.012375   \n",
       "Gene3807   0.075562 -0.045308  0.231807  0.027786  ...  0.000091  0.002283   \n",
       "Gene13270 -0.081050  0.009837 -0.082032  0.040661  ... -0.010611 -0.001757   \n",
       "Gene32664 -0.030651 -0.122825 -0.035783 -0.020604  ...  0.009920 -0.019484   \n",
       "Gene7622   0.068395  0.011744 -0.033714 -0.035294  ...  0.014375  0.019073   \n",
       "...             ...       ...       ...       ...  ...       ...       ...   \n",
       "Gene20643  0.024841 -0.016773 -0.028010 -0.028049  ... -0.010267 -0.015310   \n",
       "Gene9169  -0.007271  0.021926 -0.008090 -0.040637  ... -0.007399  0.000587   \n",
       "Gene9748  -0.017838  0.009511 -0.002405  0.000323  ... -0.027464 -0.012351   \n",
       "Gene18260  0.023524  0.009897 -0.018659 -0.004083  ... -0.002739  0.005561   \n",
       "Gene26322  0.015760  0.043629 -0.005077  0.005106  ... -0.018685  0.002041   \n",
       "\n",
       "                492       493       494       495       496       497  \\\n",
       "Gene2824  -0.006256  0.005197 -0.000649  0.010497  0.020930 -0.001483   \n",
       "Gene3807   0.004371 -0.003246  0.002959 -0.006272 -0.005379  0.004767   \n",
       "Gene13270 -0.008131  0.017732 -0.015530 -0.027058 -0.011388 -0.020035   \n",
       "Gene32664  0.017952 -0.003843  0.011547  0.013118 -0.002215  0.001066   \n",
       "Gene7622  -0.002713 -0.007774  0.017390  0.019618  0.021789 -0.012914   \n",
       "...             ...       ...       ...       ...       ...       ...   \n",
       "Gene20643  0.002371 -0.005969  0.019837 -0.023367  0.007743  0.000808   \n",
       "Gene9169   0.012931 -0.005040 -0.006804  0.001533 -0.008896  0.015401   \n",
       "Gene9748  -0.006952  0.012318 -0.007905 -0.018538  0.013956 -0.003171   \n",
       "Gene18260 -0.003191  0.033260 -0.033564 -0.006189  0.009069  0.023487   \n",
       "Gene26322  0.038660  0.013181  0.009085  0.006691 -0.049355  0.007119   \n",
       "\n",
       "                498       499  \n",
       "Gene2824   0.004677  0.000138  \n",
       "Gene3807   0.005523 -0.007533  \n",
       "Gene13270 -0.011571 -0.001437  \n",
       "Gene32664  0.002965 -0.001634  \n",
       "Gene7622   0.012310  0.005767  \n",
       "...             ...       ...  \n",
       "Gene20643 -0.023577 -0.005140  \n",
       "Gene9169  -0.009113 -0.000836  \n",
       "Gene9748   0.007708 -0.001179  \n",
       "Gene18260  0.012815  0.032318  \n",
       "Gene26322  0.025997  0.035073  \n",
       "\n",
       "[70 rows x 500 columns]"
      ]
     },
     "execution_count": 146,
     "metadata": {},
     "output_type": "execute_result"
    }
   ],
   "source": [
    "loadings.sort_values(3, ascending=True).head(70)"
   ]
  },
  {
   "cell_type": "code",
   "execution_count": 16,
   "metadata": {},
   "outputs": [],
   "source": [
    "# just add other cell attribute scores to atts and final thing will have all\n",
    "atts = torch.mean(attributions, 0).detach().reshape(-1,1)\n",
    "#atts = torch.mean(attributions, 0).detach()\n",
    "cor_loadings = torch.tensor(rpca.components_.T * np.sqrt(rpca.explained_variance_))\n",
    "gene_att_scores = torch.mm(cor_loadings, atts)"
   ]
  },
  {
   "cell_type": "code",
   "execution_count": 17,
   "metadata": {},
   "outputs": [],
   "source": [
    "gene_att_scores = gene_att_scores.flatten()\n",
    "att_df = pd.Series(gene_att_scores)\n",
    "att_df.index = counts.columns.to_numpy()[keep_genes]"
   ]
  },
  {
   "cell_type": "code",
   "execution_count": 18,
   "metadata": {},
   "outputs": [
    {
     "data": {
      "text/plain": [
       "Gene1       -0.048788\n",
       "Gene3       -0.232205\n",
       "Gene5       -0.382508\n",
       "Gene6       -0.097748\n",
       "Gene7        0.029013\n",
       "               ...   \n",
       "Gene33686    0.013296\n",
       "Gene33688    0.032047\n",
       "Gene33689   -0.012375\n",
       "Gene33692   -0.018728\n",
       "Gene33694    0.292694\n",
       "Length: 16196, dtype: float32"
      ]
     },
     "execution_count": 18,
     "metadata": {},
     "output_type": "execute_result"
    }
   ],
   "source": [
    "att_df"
   ]
  },
  {
   "cell_type": "code",
   "execution_count": 170,
   "metadata": {},
   "outputs": [
    {
     "data": {
      "text/plain": [
       "Gene33251    7.650831\n",
       "Gene32664    6.724886\n",
       "Gene3437     6.579436\n",
       "Gene2824     5.992122\n",
       "Gene21874    5.549821\n",
       "Gene13270    5.483960\n",
       "Gene15390    4.301842\n",
       "Gene30144    4.269047\n",
       "Gene10522    3.916987\n",
       "Gene5428     3.863543\n",
       "Gene12062    3.489607\n",
       "Gene21301    3.141086\n",
       "Gene1647     2.596230\n",
       "Gene9169     2.577055\n",
       "Gene12493    2.375039\n",
       "Gene9551     2.332636\n",
       "Gene26322    2.266294\n",
       "Gene5346     2.196276\n",
       "Gene7622     2.083753\n",
       "Gene15163    1.924784\n",
       "Gene21705    1.907392\n",
       "Gene14297    1.758702\n",
       "Gene12114    1.753427\n",
       "Gene2422     1.753110\n",
       "Gene27590    1.739917\n",
       "Gene9748     1.732573\n",
       "Gene4100     1.685508\n",
       "Gene32040    1.621864\n",
       "Gene11391    1.536887\n",
       "Gene11981    1.461981\n",
       "Gene14507    1.453266\n",
       "Gene7848     1.345779\n",
       "Gene16411    1.312423\n",
       "Gene23896    1.270719\n",
       "Gene24532    1.263320\n",
       "Gene1626     1.238265\n",
       "Gene1399     1.205447\n",
       "Gene21191    1.193966\n",
       "Gene20382    1.168571\n",
       "Gene1962     1.140689\n",
       "Gene14896    1.094061\n",
       "Gene7745     1.088285\n",
       "Gene18224    1.083453\n",
       "Gene25351    1.070551\n",
       "Gene903      1.061026\n",
       "Gene11548    1.049606\n",
       "Gene8482     1.033687\n",
       "Gene927      1.029443\n",
       "Gene1521     1.026303\n",
       "Gene14771    1.025484\n",
       "dtype: float32"
      ]
     },
     "execution_count": 170,
     "metadata": {},
     "output_type": "execute_result"
    }
   ],
   "source": [
    "att_df.sort_values(ascending=False).iloc[0:50]"
   ]
  }
 ],
 "metadata": {
  "kernelspec": {
   "display_name": "daniel_thesis",
   "language": "python",
   "name": "daniel_thesis_2"
  },
  "language_info": {
   "codemirror_mode": {
    "name": "ipython",
    "version": 3
   },
   "file_extension": ".py",
   "mimetype": "text/x-python",
   "name": "python",
   "nbconvert_exporter": "python",
   "pygments_lexer": "ipython3",
   "version": "3.9.7"
  },
  "vscode": {
   "interpreter": {
    "hash": "9e461d02738fd757bc3d2933f9434d370f54d79aa7bbf71ca755487c9a10e111"
   }
  }
 },
 "nbformat": 4,
 "nbformat_minor": 2
}
