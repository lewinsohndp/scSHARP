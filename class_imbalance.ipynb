{
 "cells": [
  {
   "cell_type": "code",
   "execution_count": 76,
   "id": "6a5fd2d5",
   "metadata": {},
   "outputs": [],
   "source": [
    "import numpy as np\n",
    "import pandas as pd\n",
    "import torch\n",
    "from gcn_model import GCNModel\n",
    "import utilities\n",
    "from test_model import test_model\n",
    "import os\n",
    "import statistics\n",
    "import matplotlib.pyplot as plt\n",
    "from sklearn.metrics import confusion_matrix\n",
    "import random"
   ]
  },
  {
   "cell_type": "code",
   "execution_count": 77,
   "id": "21fc28bd",
   "metadata": {},
   "outputs": [],
   "source": [
    "data_folder = \"/home/groups/ConradLab/daniel/sharp_data/sharp_sims/splat_0.7_de_rq_v3/\"\n",
    "# get labels\n",
    "data_path = data_folder + \"query_counts.csv\"\n",
    "tools = [\"sctype\",\"scsorter\",\"scina\",\"singler\", \"scpred\"]\n",
    "#tools = [\"scsorter\",\"scina\",\"singler\"]\n",
    "ref_path = data_folder + \"ref_counts.csv\"\n",
    "ref_label_path = data_folder + \"ref_labels.csv\"\n",
    "marker_path = data_folder + \"markers.txt\"\n",
    "if os.path.exists(data_folder + \"preds.csv\"):\n",
    "    all_labels = pd.read_csv(data_folder + \"preds.csv\", index_col=0)\n",
    "    if all_labels.shape[1] != len(tools): \n",
    "        all_labels = all_labels[tools]\n",
    "        #raise Exception(\"wrong amount of tools in file\")\n",
    "else:\n",
    "    all_labels = utilities.label_counts(data_path,tools,ref_path,ref_label_path,marker_path)\n",
    "\n",
    "# read in dataset\n",
    "X = pd.read_csv(data_path, index_col=0)\n",
    "X, keep_cells = utilities.preprocess(np.array(X), scale=False, comps=500)\n",
    "\n",
    "all_labels = all_labels.loc[keep_cells,:]\n",
    "\n",
    "_,marker_names = utilities.read_marker_file(marker_path)\n",
    "\n",
    "all_labels_factored = utilities.factorize_df(all_labels, marker_names)\n",
    "encoded_labels = utilities.encode_predictions(all_labels_factored)\n",
    "\n",
    "meta_path = data_folder + \"query_meta.csv\"\n",
    "metadata = pd.read_csv(meta_path, index_col=0)\n",
    "real_y = pd.factorize(metadata['Group'], sort=True)[0]\n",
    "real_y = real_y[keep_cells]\n",
    "\n",
    "confident_labels = utilities.get_consensus_labels(encoded_labels, necessary_vote = 3)\n",
    "\n",
    "train_nodes = np.where(confident_labels != -1)[0]\n",
    "test_nodes = np.where(confident_labels == -1)[0]"
   ]
  },
  {
   "cell_type": "code",
   "execution_count": 39,
   "id": "ad39fe14",
   "metadata": {},
   "outputs": [
    {
     "data": {
      "text/plain": [
       "43"
      ]
     },
     "execution_count": 39,
     "metadata": {},
     "output_type": "execute_result"
    }
   ],
   "source": [
    "len(test_nodes)"
   ]
  },
  {
   "cell_type": "code",
   "execution_count": 78,
   "id": "ea3d60d5",
   "metadata": {},
   "outputs": [
    {
     "data": {
      "text/plain": [
       "array([[357,   8,   7,   0],\n",
       "       [  0, 281,   1,   0],\n",
       "       [  1,   0, 187,   0],\n",
       "       [  2,   8,   4,  10]])"
      ]
     },
     "execution_count": 78,
     "metadata": {},
     "output_type": "execute_result"
    }
   ],
   "source": [
    "confusion_matrix(real_y[train_nodes], confident_labels[train_nodes])"
   ]
  },
  {
   "cell_type": "code",
   "execution_count": 79,
   "id": "a5429394",
   "metadata": {},
   "outputs": [
    {
     "data": {
      "text/plain": [
       "array([[  0,   0,   0,   0,   0],\n",
       "       [236, 126,  20,  37,   5],\n",
       "       [ 99,   6, 165,  14,   5],\n",
       "       [ 49,   8,   7, 133,   2],\n",
       "       [ 51,   7,   5,  10,  15]])"
      ]
     },
     "execution_count": 79,
     "metadata": {},
     "output_type": "execute_result"
    }
   ],
   "source": [
    "confusion_matrix(real_y, all_labels_factored[\"scina\"])"
   ]
  },
  {
   "cell_type": "code",
   "execution_count": 80,
   "id": "49d8a2f6",
   "metadata": {},
   "outputs": [
    {
     "data": {
      "text/plain": [
       "array([[400,  13,  11,   0],\n",
       "       [  7, 270,  12,   0],\n",
       "       [  9,   8, 182,   0],\n",
       "       [ 19,  48,  21,   0]])"
      ]
     },
     "execution_count": 80,
     "metadata": {},
     "output_type": "execute_result"
    }
   ],
   "source": [
    "confusion_matrix(real_y, all_labels_factored[\"sctype\"])"
   ]
  },
  {
   "cell_type": "code",
   "execution_count": 81,
   "id": "9eddb618",
   "metadata": {},
   "outputs": [
    {
     "data": {
      "text/plain": [
       "array([[280, 106,  30,   8],\n",
       "       [  0, 289,   0,   0],\n",
       "       [  0,   3, 196,   0],\n",
       "       [  2,  16,   6,  64]])"
      ]
     },
     "execution_count": 81,
     "metadata": {},
     "output_type": "execute_result"
    }
   ],
   "source": [
    "confusion_matrix(real_y, all_labels_factored[\"singler\"])"
   ]
  },
  {
   "cell_type": "code",
   "execution_count": 82,
   "id": "9a63d0a8",
   "metadata": {},
   "outputs": [
    {
     "data": {
      "text/plain": [
       "array([[  0,   0,   0,   0,   0],\n",
       "       [ 34, 351,  18,  21,   0],\n",
       "       [ 35,  13, 210,  31,   0],\n",
       "       [ 28,   6,  17, 148,   0],\n",
       "       [ 36,  13,  19,  20,   0]])"
      ]
     },
     "execution_count": 82,
     "metadata": {},
     "output_type": "execute_result"
    }
   ],
   "source": [
    "confusion_matrix(real_y, all_labels_factored[\"scpred\"])"
   ]
  },
  {
   "cell_type": "code",
   "execution_count": 83,
   "id": "e996ac9f",
   "metadata": {},
   "outputs": [
    {
     "data": {
      "text/plain": [
       "array([[333,  46,  23,  22],\n",
       "       [  3, 279,   4,   3],\n",
       "       [  4,   8, 175,  12],\n",
       "       [  5,  14,   6,  63]])"
      ]
     },
     "execution_count": 83,
     "metadata": {},
     "output_type": "execute_result"
    }
   ],
   "source": [
    "confusion_matrix(real_y, all_labels_factored[\"scsorter\"])"
   ]
  },
  {
   "cell_type": "code",
   "execution_count": 41,
   "id": "0f96b50f",
   "metadata": {},
   "outputs": [
    {
     "name": "stdout",
     "output_type": "stream",
     "text": [
      "0.8298298120498657\n",
      "0.9319319128990173\n",
      "0.9069069027900696\n",
      "0.9479479193687439\n",
      "0.8608608841896057\n"
     ]
    },
    {
     "name": "stderr",
     "output_type": "stream",
     "text": [
      "/home/users/lewinsda/scSHARP/utilities.py:181: UserWarning: To copy construct from a tensor, it is recommended to use sourceTensor.clone().detach() or sourceTensor.clone().detach().requires_grad_(True), rather than torch.tensor(sourceTensor).\n",
      "  return float((torch.tensor(preds) == torch.tensor(real)).type(torch.FloatTensor).mean().numpy())\n"
     ]
    },
    {
     "data": {
      "text/plain": [
       "0.9649649858474731"
      ]
     },
     "execution_count": 41,
     "metadata": {},
     "output_type": "execute_result"
    }
   ],
   "source": [
    "print(utilities.pred_accuracy(all_labels_factored['scina'], real_y))\n",
    "print(utilities.pred_accuracy(all_labels_factored['sctype'], real_y))\n",
    "print(utilities.pred_accuracy(all_labels_factored['scsorter'], real_y))\n",
    "print(utilities.pred_accuracy(all_labels_factored['singler'], real_y))\n",
    "print(utilities.pred_accuracy(all_labels_factored['scpred'], real_y))\n",
    "max_pred = torch.tensor(encoded_labels).max(dim=1)[1]\n",
    "utilities.pred_accuracy(max_pred, real_y)"
   ]
  },
  {
   "cell_type": "code",
   "execution_count": 42,
   "id": "bfdb8d4b",
   "metadata": {},
   "outputs": [
    {
     "name": "stdout",
     "output_type": "stream",
     "text": [
      "0.04651162773370743\n",
      "0.302325576543808\n",
      "0.5581395626068115\n",
      "0.6976743936538696\n",
      "0.1860465109348297\n",
      "0.5116279125213623\n"
     ]
    }
   ],
   "source": [
    "print(utilities.pred_accuracy(np.array(all_labels_factored['scina'][test_nodes]), real_y[test_nodes]))\n",
    "print(utilities.pred_accuracy(np.array(all_labels_factored['sctype'][test_nodes]), real_y[test_nodes]))\n",
    "print(utilities.pred_accuracy(np.array(all_labels_factored['scsorter'][test_nodes]), real_y[test_nodes]))\n",
    "print(utilities.pred_accuracy(np.array(all_labels_factored['singler'][test_nodes]), real_y[test_nodes]))\n",
    "print(utilities.pred_accuracy(np.array(all_labels_factored['scpred'][test_nodes]), real_y[test_nodes]))\n",
    "max_pred = torch.tensor(encoded_labels).max(dim=1)[1]\n",
    "print(utilities.pred_accuracy(max_pred[test_nodes], real_y[test_nodes]))"
   ]
  },
  {
   "cell_type": "code",
   "execution_count": 43,
   "id": "22e8997c",
   "metadata": {},
   "outputs": [],
   "source": [
    "dataset  = torch.utils.data.TensorDataset(torch.tensor(X), torch.tensor(confident_labels))\n",
    "dataloader = torch.utils.data.DataLoader(dataset, batch_size=50, shuffle=True)\n",
    "\n",
    "test_dataset  = torch.utils.data.TensorDataset(torch.tensor(X), torch.tensor(real_y))\n",
    "test_dataloader = torch.utils.data.DataLoader(test_dataset, batch_size=50, shuffle=False)"
   ]
  },
  {
   "cell_type": "code",
   "execution_count": 44,
   "id": "880d8814",
   "metadata": {},
   "outputs": [
    {
     "name": "stdout",
     "output_type": "stream",
     "text": [
      "Loss in epoch 0 = 24.393032\n",
      "Loss in epoch 10 = 0.060813\n",
      "Loss in epoch 20 = 0.012397\n",
      "Loss in epoch 30 = 0.007144\n",
      "Loss in epoch 40 = 0.003823\n",
      "Loss in epoch 50 = 0.002240\n",
      "Loss in epoch 60 = 0.001888\n",
      "Loss in epoch 70 = 0.001163\n",
      "Loss in epoch 80 = 0.000829\n",
      "Loss in epoch 90 = 0.000842\n",
      "Loss in epoch 100 = 0.000439\n",
      "Loss in epoch 110 = 0.000487\n",
      "Loss in epoch 120 = 0.000420\n",
      "Loss in epoch 130 = 0.000350\n",
      "Loss in epoch 140 = 0.000689\n"
     ]
    }
   ],
   "source": [
    "m = GCNModel(\"configs/2_40.txt\", 2, dropout=0.0)\n",
    "m.train(dataloader, 150)"
   ]
  },
  {
   "cell_type": "code",
   "execution_count": 45,
   "id": "2864aad4",
   "metadata": {},
   "outputs": [
    {
     "data": {
      "text/plain": [
       "(0.9699699878692627,\n",
       " array([[421,   1,   2,   0],\n",
       "        [  0, 288,   0,   0],\n",
       "        [  0,   0, 198,   1],\n",
       "        [  8,   3,  15,  62]]),\n",
       " 0.9853556752204895,\n",
       " array([[413,   1,   2,   0],\n",
       "        [  0, 286,   0,   0],\n",
       "        [  0,   0, 198,   1],\n",
       "        [  4,   1,   5,  45]]),\n",
       " 0.6279069781303406,\n",
       " array([[ 8,  0,  0,  0],\n",
       "        [ 0,  2,  0,  0],\n",
       "        [ 0,  0,  0,  0],\n",
       "        [ 4,  2, 10, 17]]))"
      ]
     },
     "execution_count": 45,
     "metadata": {},
     "output_type": "execute_result"
    }
   ],
   "source": [
    "m.validation_metrics(test_dataloader, train_nodes, test_nodes)"
   ]
  },
  {
   "cell_type": "code",
   "execution_count": null,
   "id": "f3f88011",
   "metadata": {},
   "outputs": [],
   "source": [
    "# add copies of confidently labelled cell type 4 to boost numbers"
   ]
  },
  {
   "cell_type": "code",
   "execution_count": 59,
   "id": "7e9ffe6f",
   "metadata": {},
   "outputs": [
    {
     "data": {
      "text/plain": [
       "(999, 500)"
      ]
     },
     "execution_count": 59,
     "metadata": {},
     "output_type": "execute_result"
    }
   ],
   "source": [
    "X.shape"
   ]
  },
  {
   "cell_type": "code",
   "execution_count": 60,
   "id": "77647105",
   "metadata": {},
   "outputs": [
    {
     "data": {
      "text/plain": [
       "array([[-5.661688  , -2.7192438 ,  1.2781072 , ...,  0.3024522 ,\n",
       "         0.32953277,  2.059688  ],\n",
       "       [ 5.551842  ,  4.5610647 ,  1.7842762 , ...,  0.58477086,\n",
       "         0.43750235,  1.3204188 ],\n",
       "       [ 5.095987  ,  3.1165342 ,  5.7744884 , ..., -1.1838729 ,\n",
       "         0.24187106, -0.04682564],\n",
       "       ...,\n",
       "       [-1.3873566 , -1.4106914 ,  1.9305731 , ..., -1.2444688 ,\n",
       "        -0.38206223, -0.56642795],\n",
       "       [-1.5110993 , -0.22504108,  1.521301  , ...,  0.25146037,\n",
       "        -1.7881571 ,  0.6317005 ],\n",
       "       [ 4.829648  ,  3.8642364 ,  3.1150396 , ...,  0.01267185,\n",
       "        -0.1364863 ,  1.3072101 ]], dtype=float32)"
      ]
     },
     "execution_count": 60,
     "metadata": {},
     "output_type": "execute_result"
    }
   ],
   "source": [
    "conf_four_cells = np.where(confident_labels == 3)[0]\n",
    "X[conf_four_cells,:]"
   ]
  },
  {
   "cell_type": "code",
   "execution_count": 61,
   "id": "2fdd0dce",
   "metadata": {},
   "outputs": [
    {
     "data": {
      "text/plain": [
       "(92, 500)"
      ]
     },
     "execution_count": 61,
     "metadata": {},
     "output_type": "execute_result"
    }
   ],
   "source": [
    "repeated_four = np.tile(X[conf_four_cells,:], (2,1))\n",
    "repeated_four.shape"
   ]
  },
  {
   "cell_type": "code",
   "execution_count": 62,
   "id": "cb563ef5",
   "metadata": {},
   "outputs": [
    {
     "data": {
      "text/plain": [
       "1.9519283509764285"
      ]
     },
     "execution_count": 62,
     "metadata": {},
     "output_type": "execute_result"
    }
   ],
   "source": [
    "test = np.array(X[confident_labels==0,18], dtype=\"float64\")\n",
    "statistics.stdev(test)"
   ]
  },
  {
   "cell_type": "code",
   "execution_count": 63,
   "id": "c78c8a26",
   "metadata": {},
   "outputs": [],
   "source": [
    "random_mat = np.zeros(repeated_four.shape)\n",
    "for i in range(X.shape[1]):\n",
    "    temp_sd = statistics.stdev(np.array(X[confident_labels==0,i], dtype=\"float64\"))\n",
    "    random_column = np.random.normal(0,temp_sd, repeated_four.shape[0])\n",
    "    random_mat[:,i] = random_column"
   ]
  },
  {
   "cell_type": "code",
   "execution_count": 64,
   "id": "b1945283",
   "metadata": {},
   "outputs": [
    {
     "data": {
      "text/plain": [
       "array([[-4.65346652e+00, -1.00392066e+00,  8.88266010e-01, ...,\n",
       "        -1.38436306e+00, -1.11398303e+00, -1.15993156e+00],\n",
       "       [ 2.09293517e+00,  1.96142170e-01, -6.12993509e-01, ...,\n",
       "         1.27789133e+00,  4.57666604e-01,  3.60618482e-01],\n",
       "       [-5.29424811e+00,  6.43562607e-02,  2.12086386e+00, ...,\n",
       "        -8.32679063e-02,  2.76405603e-01,  2.58014296e-02],\n",
       "       ...,\n",
       "       [ 4.91545371e+00,  1.89572213e+00,  2.15827891e+00, ...,\n",
       "         1.91989216e-01, -2.54953900e-02,  3.52407708e-01],\n",
       "       [ 6.75285044e+00, -1.90097268e+00, -9.09240298e-01, ...,\n",
       "         1.51190948e+00,  1.22089246e+00, -4.97614741e-01],\n",
       "       [-6.63780164e-01, -1.56258455e+00, -1.27789867e+00, ...,\n",
       "        -1.32820775e+00,  1.22304758e-03, -4.77185170e-01]])"
      ]
     },
     "execution_count": 64,
     "metadata": {},
     "output_type": "execute_result"
    }
   ],
   "source": [
    "random_mat"
   ]
  },
  {
   "cell_type": "code",
   "execution_count": 65,
   "id": "f6be8d0b",
   "metadata": {
    "scrolled": true
   },
   "outputs": [
    {
     "data": {
      "text/plain": [
       "array([[-10.31515437,  -3.72316443,   2.16637318, ...,  -1.08191085,\n",
       "         -0.78445026,   0.89975653],\n",
       "       [  7.64477738,   4.75720689,   1.17128274, ...,   1.86266219,\n",
       "          0.89516896,   1.68103732],\n",
       "       [ -0.19826127,   3.18089049,   7.89535231, ...,  -1.26714084,\n",
       "          0.51827666,  -0.02102421],\n",
       "       ...,\n",
       "       [  3.52809707,   0.48503075,   4.08885202, ...,  -1.05247959,\n",
       "         -0.40755762,  -0.21402024],\n",
       "       [  5.2417511 ,  -2.12601376,   0.61206073, ...,   1.76336985,\n",
       "         -0.56726464,   0.13408577],\n",
       "       [  4.16586785,   2.3016518 ,   1.83714092, ...,  -1.3155359 ,\n",
       "         -0.13526326,   0.83002492]])"
      ]
     },
     "execution_count": 65,
     "metadata": {},
     "output_type": "execute_result"
    }
   ],
   "source": [
    "#repeated_four = repeated_four + np.random.normal(0, 4, repeated_four.shape)\n",
    "repeated_four = repeated_four + random_mat\n",
    "repeated_four"
   ]
  },
  {
   "cell_type": "code",
   "execution_count": 66,
   "id": "56668524",
   "metadata": {},
   "outputs": [
    {
     "data": {
      "text/plain": [
       "(1091, 500)"
      ]
     },
     "execution_count": 66,
     "metadata": {},
     "output_type": "execute_result"
    }
   ],
   "source": [
    "X_extended = np.concatenate((X, repeated_four), axis=0)\n",
    "X_extended.shape"
   ]
  },
  {
   "cell_type": "code",
   "execution_count": 67,
   "id": "7ab764e7",
   "metadata": {},
   "outputs": [
    {
     "data": {
      "text/plain": [
       "(999,)"
      ]
     },
     "execution_count": 67,
     "metadata": {},
     "output_type": "execute_result"
    }
   ],
   "source": [
    "confident_labels.shape"
   ]
  },
  {
   "cell_type": "code",
   "execution_count": 68,
   "id": "536ad531",
   "metadata": {},
   "outputs": [
    {
     "data": {
      "text/plain": [
       "(1091,)"
      ]
     },
     "execution_count": 68,
     "metadata": {},
     "output_type": "execute_result"
    }
   ],
   "source": [
    "extended_conf_labels = np.concatenate((confident_labels, np.array([3]*92)))\n",
    "extended_conf_labels.shape"
   ]
  },
  {
   "cell_type": "code",
   "execution_count": 69,
   "id": "dfe5241a",
   "metadata": {},
   "outputs": [
    {
     "data": {
      "text/plain": [
       "(1091,)"
      ]
     },
     "execution_count": 69,
     "metadata": {},
     "output_type": "execute_result"
    }
   ],
   "source": [
    "extended_real_y = np.concatenate((real_y, np.array([3]*92)))\n",
    "extended_real_y.shape"
   ]
  },
  {
   "cell_type": "code",
   "execution_count": 70,
   "id": "db8a07db",
   "metadata": {},
   "outputs": [],
   "source": [
    "# mix in fake nodes\n",
    "random.seed(8)\n",
    "shuffled = list(range(len(extended_real_y)))\n",
    "random.shuffle(shuffled)\n",
    "extended_real_y = extended_real_y[shuffled]\n",
    "extended_conf_labels = extended_conf_labels[shuffled]\n",
    "X_extended = X_extended[shuffled,:]\n",
    "train_nodes = np.where(extended_conf_labels != -1)[0]\n",
    "test_nodes = np.where(extended_conf_labels == -1)[0]"
   ]
  },
  {
   "cell_type": "code",
   "execution_count": 71,
   "id": "16b880b3",
   "metadata": {},
   "outputs": [
    {
     "data": {
      "text/plain": [
       "43"
      ]
     },
     "execution_count": 71,
     "metadata": {},
     "output_type": "execute_result"
    }
   ],
   "source": [
    "len(test_nodes)"
   ]
  },
  {
   "cell_type": "code",
   "execution_count": 72,
   "id": "b40b5168",
   "metadata": {},
   "outputs": [
    {
     "data": {
      "text/plain": [
       "array([ 1.,  0.,  0.,  1.,  0.,  0.,  3.,  0.,  1.,  0.,  0.,  1.,  0.,\n",
       "        2.,  2.,  3.,  0.,  1.,  2., -1.,  2.,  2.,  3.,  2.,  0.,  0.,\n",
       "        3.,  1.,  1.,  3.,  3.,  3.,  0.,  2.,  0.,  3.,  1.,  0.,  0.,\n",
       "        0.,  1.,  3.,  0.,  3.,  1.,  0.,  2.,  0.,  3.,  2.,  0.,  1.,\n",
       "        1.,  2.,  1.,  2.,  2.,  2.,  3.,  0.,  0.,  3.,  0.,  1.,  0.,\n",
       "        1.,  2.,  1.,  2.,  0.,  3.,  1., -1.,  2.,  2.,  1.,  0.,  2.,\n",
       "        3., -1.,  1., -1.,  1.,  0.,  2.,  2.,  0.,  0.,  2.,  2.,  0.,\n",
       "        1.,  3.,  0.,  1.,  2.,  0.,  1.,  1.])"
      ]
     },
     "execution_count": 72,
     "metadata": {},
     "output_type": "execute_result"
    }
   ],
   "source": [
    "extended_conf_labels[1:100]"
   ]
  },
  {
   "cell_type": "code",
   "execution_count": 73,
   "id": "989e7ed8",
   "metadata": {},
   "outputs": [],
   "source": [
    "dataset  = torch.utils.data.TensorDataset(torch.tensor(X_extended), torch.tensor(extended_conf_labels))\n",
    "dataloader = torch.utils.data.DataLoader(dataset, batch_size=50, shuffle=True)\n",
    "\n",
    "test_dataset  = torch.utils.data.TensorDataset(torch.tensor(X_extended), torch.tensor(extended_real_y))\n",
    "test_dataloader = torch.utils.data.DataLoader(test_dataset, batch_size=50, shuffle=False)"
   ]
  },
  {
   "cell_type": "code",
   "execution_count": 74,
   "id": "baaa1765",
   "metadata": {
    "scrolled": true
   },
   "outputs": [
    {
     "name": "stdout",
     "output_type": "stream",
     "text": [
      "Loss in epoch 0 = 27.671219\n",
      "Loss in epoch 10 = 0.084420\n",
      "Loss in epoch 20 = 0.013673\n",
      "Loss in epoch 30 = 0.007804\n",
      "Loss in epoch 40 = 0.003306\n",
      "Loss in epoch 50 = 0.002280\n",
      "Loss in epoch 60 = 0.001337\n",
      "Loss in epoch 70 = 0.001127\n",
      "Loss in epoch 80 = 0.001028\n",
      "Loss in epoch 90 = 0.000634\n",
      "Loss in epoch 100 = 0.000479\n",
      "Loss in epoch 110 = 0.000367\n",
      "Loss in epoch 120 = 0.000379\n",
      "Loss in epoch 130 = 0.000268\n",
      "Loss in epoch 140 = 0.000334\n"
     ]
    }
   ],
   "source": [
    "m = GCNModel(\"configs/2_40.txt\", 2, dropout=0.0)\n",
    "m.train(dataloader, 150)"
   ]
  },
  {
   "cell_type": "code",
   "execution_count": 75,
   "id": "d05d37d3",
   "metadata": {},
   "outputs": [
    {
     "data": {
      "text/plain": [
       "(0.9715856909751892,\n",
       " array([[421,   1,   2,   0],\n",
       "        [  0, 287,   1,   0],\n",
       "        [  0,   0, 198,   1],\n",
       "        [  7,   4,  15, 154]]),\n",
       " 0.9866412281990051,\n",
       " array([[413,   1,   2,   0],\n",
       "        [  0, 286,   0,   0],\n",
       "        [  0,   0, 198,   1],\n",
       "        [  4,   1,   5, 137]]),\n",
       " 0.604651153087616,\n",
       " array([[ 8,  0,  0,  0],\n",
       "        [ 0,  1,  1,  0],\n",
       "        [ 0,  0,  0,  0],\n",
       "        [ 3,  3, 10, 17]]))"
      ]
     },
     "execution_count": 75,
     "metadata": {},
     "output_type": "execute_result"
    }
   ],
   "source": [
    "m.validation_metrics(test_dataloader, train_nodes, test_nodes)"
   ]
  }
 ],
 "metadata": {
  "kernelspec": {
   "display_name": "daniel_thesis",
   "language": "python",
   "name": "daniel_thesis_2"
  },
  "language_info": {
   "codemirror_mode": {
    "name": "ipython",
    "version": 3
   },
   "file_extension": ".py",
   "mimetype": "text/x-python",
   "name": "python",
   "nbconvert_exporter": "python",
   "pygments_lexer": "ipython3",
   "version": "3.9.7"
  }
 },
 "nbformat": 4,
 "nbformat_minor": 5
}
