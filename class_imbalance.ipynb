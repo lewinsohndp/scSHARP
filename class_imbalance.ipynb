{
 "cells": [
  {
   "cell_type": "code",
   "execution_count": 1,
   "id": "c8f80e85",
   "metadata": {},
   "outputs": [
    {
     "name": "stderr",
     "output_type": "stream",
     "text": [
      "/home/users/lewinsda/.conda/envs/daniel_thesis_2/lib/python3.9/site-packages/tqdm/auto.py:22: TqdmWarning: IProgress not found. Please update jupyter and ipywidgets. See https://ipywidgets.readthedocs.io/en/stable/user_install.html\n",
      "  from .autonotebook import tqdm as notebook_tqdm\n"
     ]
    }
   ],
   "source": [
    "import numpy as np\n",
    "import pandas as pd\n",
    "import torch\n",
    "from gcn_model import GCNModel\n",
    "import utilities\n",
    "from test_model import test_model\n",
    "import os\n",
    "import statistics\n",
    "import matplotlib.pyplot as plt\n",
    "from sklearn.metrics import confusion_matrix\n",
    "import random"
   ]
  },
  {
   "cell_type": "code",
   "execution_count": 57,
   "id": "19afc513",
   "metadata": {},
   "outputs": [],
   "source": [
    "data_folder = \"/home/groups/ConradLab/daniel/sharp_data/sharp_sims/splat_0.7_de_rq_v3/\"\n",
    "# get labels\n",
    "data_path = data_folder + \"query_counts.csv\"\n",
    "tools = [\"sctype\",\"scsorter\",\"scina\",\"singler\", \"scpred\"]\n",
    "#tools = [\"scsorter\",\"scina\",\"singler\", \"sctype\"]\n",
    "ref_path = data_folder + \"ref_counts.csv\"\n",
    "ref_label_path = data_folder + \"ref_labels.csv\"\n",
    "marker_path = data_folder + \"markers.txt\"\n",
    "if os.path.exists(data_folder + \"preds.csv\"):\n",
    "    all_labels = pd.read_csv(data_folder + \"preds.csv\", index_col=0)\n",
    "    if all_labels.shape[1] != len(tools): \n",
    "        all_labels = all_labels[tools]\n",
    "        #raise Exception(\"wrong amount of tools in file\")\n",
    "else:\n",
    "    all_labels = utilities.label_counts(data_path,tools,ref_path,ref_label_path,marker_path)\n",
    "\n",
    "# read in dataset\n",
    "X = pd.read_csv(data_path, index_col=0)\n",
    "X, keep_cells, keep_genes, pca_obj = utilities.preprocess(np.array(X), scale=False, comps=500)\n",
    "\n",
    "all_labels = all_labels.loc[keep_cells,:]\n",
    "\n",
    "_,marker_names = utilities.read_marker_file(marker_path)\n",
    "\n",
    "all_labels_factored = utilities.factorize_df(all_labels, marker_names)\n",
    "encoded_labels = utilities.encode_predictions(all_labels_factored)\n",
    "\n",
    "meta_path = data_folder + \"query_meta.csv\"\n",
    "metadata = pd.read_csv(meta_path, index_col=0)\n",
    "real_y = pd.factorize(metadata['Group'], sort=True)[0]\n",
    "real_y = real_y[keep_cells]\n",
    "\n",
    "confident_labels = utilities.get_consensus_labels(encoded_labels, necessary_vote = .51)\n",
    "\n",
    "train_nodes = np.where(confident_labels != -1)[0]\n",
    "test_nodes = np.where(confident_labels == -1)[0]"
   ]
  },
  {
   "cell_type": "code",
   "execution_count": 58,
   "id": "2f79f17a",
   "metadata": {},
   "outputs": [
    {
     "data": {
      "text/plain": [
       "98"
      ]
     },
     "execution_count": 58,
     "metadata": {},
     "output_type": "execute_result"
    }
   ],
   "source": [
    "len(test_nodes)"
   ]
  },
  {
   "cell_type": "code",
   "execution_count": 48,
   "id": "231515fd",
   "metadata": {},
   "outputs": [
    {
     "data": {
      "text/plain": [
       "array([[0., 1., 2., 1.],\n",
       "       [0., 2., 0., 1.],\n",
       "       [0., 1., 0., 3.],\n",
       "       [0., 0., 1., 2.],\n",
       "       [0., 1., 0., 3.],\n",
       "       [1., 0., 1., 1.],\n",
       "       [2., 0., 2., 0.],\n",
       "       [1., 1., 0., 2.],\n",
       "       [0., 2., 0., 1.],\n",
       "       [0., 2., 0., 1.],\n",
       "       [2., 0., 0., 2.],\n",
       "       [0., 2., 1., 0.],\n",
       "       [1., 0., 0., 2.],\n",
       "       [0., 0., 1., 2.],\n",
       "       [0., 0., 1., 3.],\n",
       "       [0., 1., 2., 0.],\n",
       "       [0., 2., 1., 1.],\n",
       "       [0., 0., 2., 2.],\n",
       "       [1., 0., 0., 2.],\n",
       "       [0., 2., 0., 1.],\n",
       "       [0., 1., 0., 2.],\n",
       "       [0., 0., 2., 1.],\n",
       "       [1., 0., 0., 2.],\n",
       "       [0., 0., 2., 2.],\n",
       "       [0., 1., 0., 3.],\n",
       "       [0., 4., 0., 0.],\n",
       "       [1., 0., 0., 2.],\n",
       "       [0., 0., 1., 3.],\n",
       "       [0., 2., 1., 1.],\n",
       "       [0., 1., 0., 2.],\n",
       "       [0., 1., 0., 2.],\n",
       "       [0., 2., 1., 0.],\n",
       "       [2., 0., 0., 2.],\n",
       "       [0., 1., 0., 2.],\n",
       "       [3., 0., 0., 1.],\n",
       "       [1., 1., 2., 0.],\n",
       "       [2., 0., 1., 0.],\n",
       "       [0., 1., 0., 2.],\n",
       "       [0., 2., 0., 1.],\n",
       "       [0., 1., 0., 2.],\n",
       "       [0., 2., 0., 1.],\n",
       "       [0., 1., 3., 0.],\n",
       "       [0., 2., 0., 2.],\n",
       "       [0., 2., 0., 1.],\n",
       "       [0., 1., 1., 2.],\n",
       "       [1., 3., 0., 0.],\n",
       "       [1., 0., 0., 2.],\n",
       "       [0., 0., 2., 1.],\n",
       "       [0., 1., 0., 2.],\n",
       "       [0., 1., 0., 3.],\n",
       "       [0., 1., 1., 1.],\n",
       "       [0., 1., 0., 3.],\n",
       "       [0., 1., 1., 2.],\n",
       "       [0., 0., 1., 2.],\n",
       "       [0., 2., 0., 2.],\n",
       "       [0., 0., 1., 2.],\n",
       "       [0., 2., 0., 1.],\n",
       "       [0., 1., 0., 2.],\n",
       "       [0., 1., 0., 3.],\n",
       "       [0., 1., 0., 2.],\n",
       "       [0., 1., 0., 3.],\n",
       "       [0., 1., 1., 1.],\n",
       "       [2., 1., 1., 0.],\n",
       "       [0., 1., 1., 2.],\n",
       "       [0., 2., 0., 2.],\n",
       "       [1., 0., 0., 2.],\n",
       "       [0., 1., 0., 2.],\n",
       "       [0., 1., 0., 2.],\n",
       "       [0., 3., 0., 1.],\n",
       "       [0., 1., 1., 2.],\n",
       "       [2., 0., 0., 2.],\n",
       "       [1., 0., 0., 2.],\n",
       "       [0., 0., 1., 2.],\n",
       "       [0., 1., 0., 3.],\n",
       "       [0., 1., 0., 2.],\n",
       "       [1., 0., 0., 2.],\n",
       "       [1., 0., 1., 2.],\n",
       "       [0., 1., 0., 2.],\n",
       "       [0., 4., 0., 0.],\n",
       "       [1., 0., 0., 2.],\n",
       "       [0., 1., 0., 2.],\n",
       "       [0., 1., 2., 1.],\n",
       "       [1., 2., 0., 0.],\n",
       "       [2., 0., 0., 1.],\n",
       "       [0., 1., 0., 2.],\n",
       "       [0., 0., 1., 2.],\n",
       "       [0., 1., 0., 2.],\n",
       "       [1., 0., 0., 2.]])"
      ]
     },
     "execution_count": 48,
     "metadata": {},
     "output_type": "execute_result"
    }
   ],
   "source": [
    "encoded_labels[real_y==3]"
   ]
  },
  {
   "cell_type": "code",
   "execution_count": 49,
   "id": "a086f457",
   "metadata": {},
   "outputs": [
    {
     "data": {
      "text/plain": [
       "array([[342,  20,   6,   2],\n",
       "       [  1, 283,   1,   0],\n",
       "       [  1,   1, 187,   0],\n",
       "       [  3,  15,   4,  42]])"
      ]
     },
     "execution_count": 49,
     "metadata": {},
     "output_type": "execute_result"
    }
   ],
   "source": [
    "confusion_matrix(real_y[train_nodes], confident_labels[train_nodes])"
   ]
  },
  {
   "cell_type": "code",
   "execution_count": 50,
   "id": "6a8be1f5",
   "metadata": {},
   "outputs": [
    {
     "data": {
      "text/plain": [
       "array([[  0,   0,   0,   0,   0],\n",
       "       [236, 126,  20,  37,   5],\n",
       "       [ 99,   6, 165,  14,   5],\n",
       "       [ 49,   8,   7, 133,   2],\n",
       "       [ 51,   7,   5,  10,  15]])"
      ]
     },
     "execution_count": 50,
     "metadata": {},
     "output_type": "execute_result"
    }
   ],
   "source": [
    "confusion_matrix(real_y, all_labels_factored[\"scina\"])"
   ]
  },
  {
   "cell_type": "code",
   "execution_count": 7,
   "id": "cc795f06",
   "metadata": {},
   "outputs": [
    {
     "data": {
      "text/plain": [
       "array([[400,  13,  11,   0],\n",
       "       [  7, 270,  12,   0],\n",
       "       [  9,   8, 182,   0],\n",
       "       [ 19,  48,  21,   0]])"
      ]
     },
     "execution_count": 7,
     "metadata": {},
     "output_type": "execute_result"
    }
   ],
   "source": [
    "confusion_matrix(real_y, all_labels_factored[\"sctype\"])"
   ]
  },
  {
   "cell_type": "code",
   "execution_count": 8,
   "id": "5b24bbc2",
   "metadata": {},
   "outputs": [
    {
     "data": {
      "text/plain": [
       "array([[280, 106,  30,   8],\n",
       "       [  0, 289,   0,   0],\n",
       "       [  0,   3, 196,   0],\n",
       "       [  2,  16,   6,  64]])"
      ]
     },
     "execution_count": 8,
     "metadata": {},
     "output_type": "execute_result"
    }
   ],
   "source": [
    "confusion_matrix(real_y, all_labels_factored[\"singler\"])"
   ]
  },
  {
   "cell_type": "code",
   "execution_count": 9,
   "id": "ce5b04b6",
   "metadata": {},
   "outputs": [
    {
     "data": {
      "text/plain": [
       "array([[  0,   0,   0,   0,   0],\n",
       "       [ 34, 351,  18,  21,   0],\n",
       "       [ 35,  13, 210,  31,   0],\n",
       "       [ 28,   6,  17, 148,   0],\n",
       "       [ 36,  13,  19,  20,   0]])"
      ]
     },
     "execution_count": 9,
     "metadata": {},
     "output_type": "execute_result"
    }
   ],
   "source": [
    "confusion_matrix(real_y, all_labels_factored[\"scpred\"])"
   ]
  },
  {
   "cell_type": "code",
   "execution_count": 10,
   "id": "f9d32118",
   "metadata": {},
   "outputs": [
    {
     "data": {
      "text/plain": [
       "array([[333,  46,  23,  22],\n",
       "       [  3, 279,   4,   3],\n",
       "       [  4,   8, 175,  12],\n",
       "       [  5,  14,   6,  63]])"
      ]
     },
     "execution_count": 10,
     "metadata": {},
     "output_type": "execute_result"
    }
   ],
   "source": [
    "confusion_matrix(real_y, all_labels_factored[\"scsorter\"])"
   ]
  },
  {
   "cell_type": "code",
   "execution_count": 59,
   "id": "dcc37339",
   "metadata": {},
   "outputs": [
    {
     "name": "stdout",
     "output_type": "stream",
     "text": [
      "0.4390000104904175\n",
      "0.8519999980926514\n",
      "0.8500000238418579\n",
      "0.8289999961853027\n",
      "0.7089999914169312\n"
     ]
    },
    {
     "name": "stderr",
     "output_type": "stream",
     "text": [
      "/home/users/lewinsda/scSHARP/utilities.py:184: UserWarning: To copy construct from a tensor, it is recommended to use sourceTensor.clone().detach() or sourceTensor.clone().detach().requires_grad_(True), rather than torch.tensor(sourceTensor).\n",
      "  return float((torch.tensor(preds) == torch.tensor(real)).type(torch.FloatTensor).mean().numpy())\n"
     ]
    },
    {
     "data": {
      "text/plain": [
       "0.9150000214576721"
      ]
     },
     "execution_count": 59,
     "metadata": {},
     "output_type": "execute_result"
    }
   ],
   "source": [
    "print(utilities.pred_accuracy(all_labels_factored['scina'], real_y))\n",
    "print(utilities.pred_accuracy(all_labels_factored['sctype'], real_y))\n",
    "print(utilities.pred_accuracy(all_labels_factored['scsorter'], real_y))\n",
    "print(utilities.pred_accuracy(all_labels_factored['singler'], real_y))\n",
    "print(utilities.pred_accuracy(all_labels_factored['scpred'], real_y))\n",
    "max_pred = torch.tensor(encoded_labels).max(dim=1)[1]\n",
    "utilities.pred_accuracy(max_pred, real_y)"
   ]
  },
  {
   "cell_type": "code",
   "execution_count": 53,
   "id": "b03a5147",
   "metadata": {},
   "outputs": [
    {
     "name": "stdout",
     "output_type": "stream",
     "text": [
      "0.1304347813129425\n",
      "0.5652173757553101\n",
      "0.3586956560611725\n",
      "0.5652173757553101\n",
      "0.6195651888847351\n"
     ]
    }
   ],
   "source": [
    "print(utilities.pred_accuracy(np.array(all_labels_factored['scina'][test_nodes]), real_y[test_nodes]))\n",
    "print(utilities.pred_accuracy(np.array(all_labels_factored['sctype'][test_nodes]), real_y[test_nodes]))\n",
    "print(utilities.pred_accuracy(np.array(all_labels_factored['scsorter'][test_nodes]), real_y[test_nodes]))\n",
    "print(utilities.pred_accuracy(np.array(all_labels_factored['singler'][test_nodes]), real_y[test_nodes]))\n",
    "#print(utilities.pred_accuracy(np.array(all_labels_factored['scpred'][test_nodes]), real_y[test_nodes]))\n",
    "max_pred = torch.tensor(encoded_labels).max(dim=1)[1]\n",
    "print(utilities.pred_accuracy(max_pred[test_nodes], real_y[test_nodes]))"
   ]
  },
  {
   "cell_type": "code",
   "execution_count": 54,
   "id": "2710004c",
   "metadata": {},
   "outputs": [],
   "source": [
    "dataset  = torch.utils.data.TensorDataset(torch.tensor(X), torch.tensor(confident_labels))\n",
    "dataloader = torch.utils.data.DataLoader(dataset, batch_size=50, shuffle=True)\n",
    "\n",
    "test_dataset  = torch.utils.data.TensorDataset(torch.tensor(X), torch.tensor(real_y))\n",
    "test_dataloader = torch.utils.data.DataLoader(test_dataset, batch_size=50, shuffle=False)"
   ]
  },
  {
   "cell_type": "code",
   "execution_count": 55,
   "id": "9b28277f",
   "metadata": {},
   "outputs": [
    {
     "name": "stdout",
     "output_type": "stream",
     "text": [
      "Loss in epoch 0 = 24.592543\n",
      "Loss in epoch 10 = 0.062802\n",
      "Loss in epoch 20 = 0.016492\n",
      "Loss in epoch 30 = 0.011047\n",
      "Loss in epoch 40 = 0.004784\n",
      "Loss in epoch 50 = 0.002630\n",
      "Loss in epoch 60 = 0.001744\n",
      "Loss in epoch 70 = 0.001202\n",
      "Loss in epoch 80 = 0.001645\n",
      "Loss in epoch 90 = 0.000840\n",
      "Loss in epoch 100 = 0.000533\n",
      "Loss in epoch 110 = 0.000649\n",
      "Loss in epoch 120 = 0.000449\n",
      "Loss in epoch 130 = 0.000303\n",
      "Loss in epoch 140 = 0.000302\n"
     ]
    }
   ],
   "source": [
    "m = GCNModel(\"configs/2_40.txt\", 2, dropout=0.0)\n",
    "m.train(dataloader, 150)"
   ]
  },
  {
   "cell_type": "code",
   "execution_count": 56,
   "id": "94c28590",
   "metadata": {},
   "outputs": [
    {
     "data": {
      "text/plain": [
       "(0.925000011920929,\n",
       " array([[390,  25,   7,   2],\n",
       "        [  1, 286,   2,   0],\n",
       "        [  1,   1, 197,   0],\n",
       "        [  6,  22,   8,  52]]),\n",
       " 0.9405286312103271,\n",
       " array([[342,  20,   6,   2],\n",
       "        [  1, 283,   1,   0],\n",
       "        [  1,   1, 187,   0],\n",
       "        [  3,  15,   4,  42]]),\n",
       " 0.77173912525177,\n",
       " array([[48,  5,  1,  0],\n",
       "        [ 0,  3,  1,  0],\n",
       "        [ 0,  0, 10,  0],\n",
       "        [ 3,  7,  4, 10]]))"
      ]
     },
     "execution_count": 56,
     "metadata": {},
     "output_type": "execute_result"
    }
   ],
   "source": [
    "m.validation_metrics(test_dataloader, train_nodes, test_nodes)"
   ]
  },
  {
   "cell_type": "code",
   "execution_count": null,
   "id": "cba01074",
   "metadata": {},
   "outputs": [],
   "source": [
    "# add copies of confidently labelled cell type 4 to boost numbers"
   ]
  },
  {
   "cell_type": "code",
   "execution_count": 28,
   "id": "04073855",
   "metadata": {},
   "outputs": [
    {
     "data": {
      "text/plain": [
       "(1000, 500)"
      ]
     },
     "execution_count": 28,
     "metadata": {},
     "output_type": "execute_result"
    }
   ],
   "source": [
    "X.shape"
   ]
  },
  {
   "cell_type": "code",
   "execution_count": 29,
   "id": "c66fd0f9",
   "metadata": {},
   "outputs": [
    {
     "data": {
      "text/plain": [
       "array([[ 2.540359  ,  0.32933518,  4.0460124 , ...,  1.7700831 ,\n",
       "        -0.56088966, -0.5383885 ],\n",
       "       [-0.24325468, -0.06944561,  2.0636573 , ...,  0.48108217,\n",
       "        -0.1444801 , -0.9558514 ],\n",
       "       [-5.470358  , -0.8024255 ,  0.4330117 , ..., -0.23332869,\n",
       "         0.29994816,  0.54539615],\n",
       "       ...,\n",
       "       [ 3.7671275 ,  2.113782  ,  0.7602452 , ..., -0.8004527 ,\n",
       "         1.1425638 ,  0.40496314],\n",
       "       [-2.958261  , -1.6363332 ,  1.5049648 , ...,  0.4195115 ,\n",
       "        -0.30215836, -1.1410402 ],\n",
       "       [-1.6742705 , -0.24646087,  0.88787675, ..., -0.167398  ,\n",
       "        -0.0692627 ,  0.33483595]], dtype=float32)"
      ]
     },
     "execution_count": 29,
     "metadata": {},
     "output_type": "execute_result"
    }
   ],
   "source": [
    "conf_four_cells = np.where(confident_labels == 3)[0]\n",
    "X[conf_four_cells,:]"
   ]
  },
  {
   "cell_type": "code",
   "execution_count": 30,
   "id": "ca4c5d83",
   "metadata": {},
   "outputs": [
    {
     "data": {
      "text/plain": [
       "(48, 500)"
      ]
     },
     "execution_count": 30,
     "metadata": {},
     "output_type": "execute_result"
    }
   ],
   "source": [
    "repeated_four = np.tile(X[conf_four_cells,:], (2,1))\n",
    "repeated_four.shape"
   ]
  },
  {
   "cell_type": "code",
   "execution_count": 31,
   "id": "0cb55b81",
   "metadata": {},
   "outputs": [
    {
     "data": {
      "text/plain": [
       "1.9222024599210852"
      ]
     },
     "execution_count": 31,
     "metadata": {},
     "output_type": "execute_result"
    }
   ],
   "source": [
    "test = np.array(X[confident_labels==0,18], dtype=\"float64\")\n",
    "statistics.stdev(test)"
   ]
  },
  {
   "cell_type": "code",
   "execution_count": 32,
   "id": "72034ce0",
   "metadata": {},
   "outputs": [],
   "source": [
    "random_mat = np.zeros(repeated_four.shape)\n",
    "for i in range(X.shape[1]):\n",
    "    temp_sd = statistics.stdev(np.array(X[confident_labels==0,i], dtype=\"float64\"))\n",
    "    random_column = np.random.normal(0,temp_sd, repeated_four.shape[0])\n",
    "    random_mat[:,i] = random_column"
   ]
  },
  {
   "cell_type": "code",
   "execution_count": 33,
   "id": "bd668372",
   "metadata": {},
   "outputs": [
    {
     "data": {
      "text/plain": [
       "array([[-1.24235393e+00, -8.59261115e-01, -1.40901609e+00, ...,\n",
       "         7.59488836e-01, -1.59615285e-03,  1.31556647e+00],\n",
       "       [ 2.70436280e+00, -1.32602598e-01, -1.90457422e+00, ...,\n",
       "         1.08755049e+00, -3.43271236e-01,  5.18055733e-01],\n",
       "       [ 2.00321669e+00, -1.38146048e+00,  8.41548703e-01, ...,\n",
       "         3.73329329e-01,  1.26370590e+00, -2.38368101e-01],\n",
       "       ...,\n",
       "       [-6.69574155e+00, -4.92453626e-01,  7.10593196e-01, ...,\n",
       "        -4.96285943e-01, -2.25956939e-01, -7.90175762e-02],\n",
       "       [-5.88930010e+00,  6.40525581e-01,  7.85815853e-01, ...,\n",
       "        -4.62410951e-01, -1.02095044e+00, -3.44951853e-01],\n",
       "       [-6.55653351e+00,  1.53147037e+00, -3.71055408e+00, ...,\n",
       "        -6.52639707e-01, -1.06145691e-01, -9.54565514e-01]])"
      ]
     },
     "execution_count": 33,
     "metadata": {},
     "output_type": "execute_result"
    }
   ],
   "source": [
    "random_mat"
   ]
  },
  {
   "cell_type": "code",
   "execution_count": 34,
   "id": "be6d1569",
   "metadata": {
    "scrolled": true
   },
   "outputs": [
    {
     "data": {
      "text/plain": [
       "array([[ 1.29800509, -0.52992593,  2.63699631, ...,  2.52957191,\n",
       "        -0.56248581,  0.77717798],\n",
       "       [ 2.46110812, -0.20204821,  0.15908307, ...,  1.56863266,\n",
       "        -0.48775133, -0.43779564],\n",
       "       [-3.46714121, -2.18388599,  1.27456041, ...,  0.14000064,\n",
       "         1.56365405,  0.30702805],\n",
       "       ...,\n",
       "       [-2.92861404,  1.6213283 ,  1.4708384 , ..., -1.29673865,\n",
       "         0.91660688,  0.32594556],\n",
       "       [-8.84756111, -0.99580765,  2.29078068, ..., -0.04289945,\n",
       "        -1.32310879, -1.48599206],\n",
       "       [-8.23080402,  1.2850095 , -2.82267733, ..., -0.82003771,\n",
       "        -0.17540839, -0.61972957]])"
      ]
     },
     "execution_count": 34,
     "metadata": {},
     "output_type": "execute_result"
    }
   ],
   "source": [
    "#repeated_four = repeated_four + np.random.normal(0, 4, repeated_four.shape)\n",
    "repeated_four = repeated_four + random_mat\n",
    "repeated_four"
   ]
  },
  {
   "cell_type": "code",
   "execution_count": 35,
   "id": "4b5b0144",
   "metadata": {},
   "outputs": [
    {
     "data": {
      "text/plain": [
       "(1048, 500)"
      ]
     },
     "execution_count": 35,
     "metadata": {},
     "output_type": "execute_result"
    }
   ],
   "source": [
    "X_extended = np.concatenate((X, repeated_four), axis=0)\n",
    "X_extended.shape"
   ]
  },
  {
   "cell_type": "code",
   "execution_count": 36,
   "id": "4c754039",
   "metadata": {},
   "outputs": [
    {
     "data": {
      "text/plain": [
       "(1000,)"
      ]
     },
     "execution_count": 36,
     "metadata": {},
     "output_type": "execute_result"
    }
   ],
   "source": [
    "confident_labels.shape"
   ]
  },
  {
   "cell_type": "code",
   "execution_count": 38,
   "id": "fe7e3f0d",
   "metadata": {},
   "outputs": [
    {
     "data": {
      "text/plain": [
       "(1048,)"
      ]
     },
     "execution_count": 38,
     "metadata": {},
     "output_type": "execute_result"
    }
   ],
   "source": [
    "extended_conf_labels = np.concatenate((confident_labels, np.array([3]*48)))\n",
    "extended_conf_labels.shape"
   ]
  },
  {
   "cell_type": "code",
   "execution_count": 39,
   "id": "596886d3",
   "metadata": {},
   "outputs": [
    {
     "data": {
      "text/plain": [
       "(1048,)"
      ]
     },
     "execution_count": 39,
     "metadata": {},
     "output_type": "execute_result"
    }
   ],
   "source": [
    "extended_real_y = np.concatenate((real_y, np.array([3]*48)))\n",
    "extended_real_y.shape"
   ]
  },
  {
   "cell_type": "code",
   "execution_count": 40,
   "id": "d7c3ccce",
   "metadata": {},
   "outputs": [],
   "source": [
    "# mix in fake nodes\n",
    "random.seed(8)\n",
    "shuffled = list(range(len(extended_real_y)))\n",
    "random.shuffle(shuffled)\n",
    "extended_real_y = extended_real_y[shuffled]\n",
    "extended_conf_labels = extended_conf_labels[shuffled]\n",
    "X_extended = X_extended[shuffled,:]\n",
    "train_nodes = np.where(extended_conf_labels != -1)[0]\n",
    "test_nodes = np.where(extended_conf_labels == -1)[0]"
   ]
  },
  {
   "cell_type": "code",
   "execution_count": 41,
   "id": "1329853c",
   "metadata": {},
   "outputs": [
    {
     "data": {
      "text/plain": [
       "98"
      ]
     },
     "execution_count": 41,
     "metadata": {},
     "output_type": "execute_result"
    }
   ],
   "source": [
    "len(test_nodes)"
   ]
  },
  {
   "cell_type": "code",
   "execution_count": 42,
   "id": "ba764edc",
   "metadata": {},
   "outputs": [
    {
     "data": {
      "text/plain": [
       "array([ 0.,  0.,  1.,  3.,  2.,  0.,  2.,  2.,  1.,  2.,  2.,  2.,  1.,\n",
       "        0.,  2.,  1.,  1.,  1.,  1.,  1.,  0., -1.,  0.,  1.,  0.,  3.,\n",
       "        1.,  3.,  2.,  0.,  0.,  2.,  2.,  1.,  0.,  2.,  1.,  1.,  1.,\n",
       "        0.,  1.,  0.,  0.,  0.,  1.,  0., -1.,  0.,  1.,  1.,  1.,  0.,\n",
       "        1.,  2.,  3.,  1.,  2.,  0.,  0.,  0.,  1.,  1.,  0.,  2.,  0.,\n",
       "        2., -1.,  0., -1.,  2.,  1.,  1.,  1.,  1.,  1.,  0.,  1.,  1.,\n",
       "        2.,  1.,  1.,  0.,  0.,  2.,  1., -1.,  2., -1.,  0.,  1.,  0.,\n",
       "        1.,  0., -1.,  0.,  2.,  1.,  0.,  1.])"
      ]
     },
     "execution_count": 42,
     "metadata": {},
     "output_type": "execute_result"
    }
   ],
   "source": [
    "extended_conf_labels[1:100]"
   ]
  },
  {
   "cell_type": "code",
   "execution_count": 43,
   "id": "b15d6dd9",
   "metadata": {},
   "outputs": [],
   "source": [
    "dataset  = torch.utils.data.TensorDataset(torch.tensor(X_extended), torch.tensor(extended_conf_labels))\n",
    "dataloader = torch.utils.data.DataLoader(dataset, batch_size=50, shuffle=True)\n",
    "\n",
    "test_dataset  = torch.utils.data.TensorDataset(torch.tensor(X_extended), torch.tensor(extended_real_y))\n",
    "test_dataloader = torch.utils.data.DataLoader(test_dataset, batch_size=50, shuffle=False)"
   ]
  },
  {
   "cell_type": "code",
   "execution_count": 44,
   "id": "fd73bd30",
   "metadata": {
    "scrolled": true
   },
   "outputs": [
    {
     "name": "stdout",
     "output_type": "stream",
     "text": [
      "Loss in epoch 0 = 26.924913\n",
      "Loss in epoch 10 = 0.080819\n",
      "Loss in epoch 20 = 0.017143\n",
      "Loss in epoch 30 = 0.006573\n",
      "Loss in epoch 40 = 0.004491\n",
      "Loss in epoch 50 = 0.003160\n",
      "Loss in epoch 60 = 0.002770\n",
      "Loss in epoch 70 = 0.001824\n",
      "Loss in epoch 80 = 0.000823\n",
      "Loss in epoch 90 = 0.000830\n",
      "Loss in epoch 100 = 0.000607\n",
      "Loss in epoch 110 = 0.000862\n",
      "Loss in epoch 120 = 0.000488\n",
      "Loss in epoch 130 = 0.000279\n",
      "Loss in epoch 140 = 0.000210\n"
     ]
    }
   ],
   "source": [
    "m = GCNModel(\"configs/2_40.txt\", 2, dropout=0.0)\n",
    "m.train(dataloader, 150)"
   ]
  },
  {
   "cell_type": "code",
   "execution_count": 45,
   "id": "9fd32d7c",
   "metadata": {},
   "outputs": [
    {
     "data": {
      "text/plain": [
       "(0.9179389476776123,\n",
       " array([[397,  18,   8,   1],\n",
       "        [  1, 286,   2,   0],\n",
       "        [  3,   0, 196,   0],\n",
       "        [  9,  24,  20,  83]]),\n",
       " 0.9547368288040161,\n",
       " array([[363,  13,   7,   1],\n",
       "        [  0, 283,   1,   0],\n",
       "        [  1,   0, 190,   0],\n",
       "        [  3,  11,   6,  71]]),\n",
       " 0.5612244606018066,\n",
       " array([[34,  5,  1,  0],\n",
       "        [ 1,  3,  1,  0],\n",
       "        [ 2,  0,  6,  0],\n",
       "        [ 6, 13, 14, 12]]))"
      ]
     },
     "execution_count": 45,
     "metadata": {},
     "output_type": "execute_result"
    }
   ],
   "source": [
    "m.validation_metrics(test_dataloader, train_nodes, test_nodes)"
   ]
  }
 ],
 "metadata": {
  "kernelspec": {
   "display_name": "daniel_thesis",
   "language": "python",
   "name": "daniel_thesis_2"
  },
  "language_info": {
   "codemirror_mode": {
    "name": "ipython",
    "version": 3
   },
   "file_extension": ".py",
   "mimetype": "text/x-python",
   "name": "python",
   "nbconvert_exporter": "python",
   "pygments_lexer": "ipython3",
   "version": "3.9.7"
  }
 },
 "nbformat": 4,
 "nbformat_minor": 5
}
