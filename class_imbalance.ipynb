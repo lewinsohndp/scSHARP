{
 "cells": [
  {
   "cell_type": "code",
   "execution_count": 1,
   "id": "c8f80e85",
   "metadata": {},
   "outputs": [
    {
     "name": "stderr",
     "output_type": "stream",
     "text": [
      "/home/users/lewinsda/.conda/envs/daniel_thesis_2/lib/python3.9/site-packages/tqdm/auto.py:22: TqdmWarning: IProgress not found. Please update jupyter and ipywidgets. See https://ipywidgets.readthedocs.io/en/stable/user_install.html\n",
      "  from .autonotebook import tqdm as notebook_tqdm\n"
     ]
    }
   ],
   "source": [
    "import numpy as np\n",
    "import pandas as pd\n",
    "import torch\n",
    "from gcn_model import GCNModel\n",
    "import utilities\n",
    "from test_model import test_model\n",
    "import os\n",
    "import statistics\n",
    "import matplotlib.pyplot as plt\n",
    "from sklearn.metrics import confusion_matrix\n",
    "import random"
   ]
  },
  {
   "cell_type": "code",
   "execution_count": 4,
   "id": "19afc513",
   "metadata": {},
   "outputs": [],
   "source": [
    "data_folder = \"/home/groups/ConradLab/daniel/sharp_data/sharp_sims/splat_0.7_de_rq_v3/\"\n",
    "# get labels\n",
    "data_path = data_folder + \"query_counts.csv\"\n",
    "tools = [\"sctype\",\"scsorter\",\"scina\",\"singler\", \"scpred\"]\n",
    "#tools = [\"scsorter\",\"scina\",\"singler\", \"scpred\"]\n",
    "ref_path = data_folder + \"ref_counts.csv\"\n",
    "ref_label_path = data_folder + \"ref_labels.csv\"\n",
    "marker_path = data_folder + \"markers.txt\"\n",
    "if os.path.exists(data_folder + \"preds.csv\"):\n",
    "    all_labels = pd.read_csv(data_folder + \"preds.csv\", index_col=0)\n",
    "    if all_labels.shape[1] != len(tools): \n",
    "        all_labels = all_labels[tools]\n",
    "        #raise Exception(\"wrong amount of tools in file\")\n",
    "else:\n",
    "    all_labels = utilities.label_counts(data_path,tools,ref_path,ref_label_path,marker_path)\n",
    "\n",
    "# read in dataset\n",
    "X = pd.read_csv(data_path, index_col=0)\n",
    "X, keep_cells, keep_genes, pca_obj = utilities.preprocess(np.array(X), scale=False, comps=500)\n",
    "\n",
    "all_labels = all_labels.loc[keep_cells,:]\n",
    "\n",
    "_,marker_names = utilities.read_marker_file(marker_path)\n",
    "\n",
    "all_labels_factored = utilities.factorize_df(all_labels, marker_names)\n",
    "encoded_labels = utilities.encode_predictions(all_labels_factored)\n",
    "\n",
    "meta_path = data_folder + \"query_meta.csv\"\n",
    "metadata = pd.read_csv(meta_path, index_col=0)\n",
    "real_y = pd.factorize(metadata['Group'], sort=True)[0]\n",
    "real_y = real_y[keep_cells]\n",
    "\n",
    "confident_labels = utilities.get_consensus_labels(encoded_labels, necessary_vote = .51)\n",
    "\n",
    "train_nodes = np.where(confident_labels != -1)[0]\n",
    "test_nodes = np.where(confident_labels == -1)[0]"
   ]
  },
  {
   "cell_type": "code",
   "execution_count": 5,
   "id": "2f79f17a",
   "metadata": {},
   "outputs": [
    {
     "data": {
      "text/plain": [
       "98"
      ]
     },
     "execution_count": 5,
     "metadata": {},
     "output_type": "execute_result"
    }
   ],
   "source": [
    "len(test_nodes)"
   ]
  },
  {
   "cell_type": "code",
   "execution_count": 6,
   "id": "a086f457",
   "metadata": {},
   "outputs": [
    {
     "data": {
      "text/plain": [
       "array([[363,  13,   7,   1],\n",
       "       [  0, 283,   1,   0],\n",
       "       [  1,   0, 190,   0],\n",
       "       [  3,  11,   6,  23]])"
      ]
     },
     "execution_count": 6,
     "metadata": {},
     "output_type": "execute_result"
    }
   ],
   "source": [
    "confusion_matrix(real_y[train_nodes], confident_labels[train_nodes])"
   ]
  },
  {
   "cell_type": "code",
   "execution_count": 7,
   "id": "6a8be1f5",
   "metadata": {},
   "outputs": [
    {
     "data": {
      "text/plain": [
       "array([[  0,   0,   0,   0,   0],\n",
       "       [236, 126,  20,  37,   5],\n",
       "       [ 99,   6, 165,  14,   5],\n",
       "       [ 49,   8,   7, 133,   2],\n",
       "       [ 51,   7,   5,  10,  15]])"
      ]
     },
     "execution_count": 7,
     "metadata": {},
     "output_type": "execute_result"
    }
   ],
   "source": [
    "confusion_matrix(real_y, all_labels_factored[\"scina\"])"
   ]
  },
  {
   "cell_type": "code",
   "execution_count": 8,
   "id": "cc795f06",
   "metadata": {},
   "outputs": [
    {
     "data": {
      "text/plain": [
       "array([[400,  13,  11,   0],\n",
       "       [  7, 270,  12,   0],\n",
       "       [  9,   8, 182,   0],\n",
       "       [ 19,  48,  21,   0]])"
      ]
     },
     "execution_count": 8,
     "metadata": {},
     "output_type": "execute_result"
    }
   ],
   "source": [
    "confusion_matrix(real_y, all_labels_factored[\"sctype\"])"
   ]
  },
  {
   "cell_type": "code",
   "execution_count": 9,
   "id": "5b24bbc2",
   "metadata": {},
   "outputs": [
    {
     "data": {
      "text/plain": [
       "array([[280, 106,  30,   8],\n",
       "       [  0, 289,   0,   0],\n",
       "       [  0,   3, 196,   0],\n",
       "       [  2,  16,   6,  64]])"
      ]
     },
     "execution_count": 9,
     "metadata": {},
     "output_type": "execute_result"
    }
   ],
   "source": [
    "confusion_matrix(real_y, all_labels_factored[\"singler\"])"
   ]
  },
  {
   "cell_type": "code",
   "execution_count": 10,
   "id": "ce5b04b6",
   "metadata": {},
   "outputs": [
    {
     "data": {
      "text/plain": [
       "array([[  0,   0,   0,   0,   0],\n",
       "       [ 34, 351,  18,  21,   0],\n",
       "       [ 35,  13, 210,  31,   0],\n",
       "       [ 28,   6,  17, 148,   0],\n",
       "       [ 36,  13,  19,  20,   0]])"
      ]
     },
     "execution_count": 10,
     "metadata": {},
     "output_type": "execute_result"
    }
   ],
   "source": [
    "confusion_matrix(real_y, all_labels_factored[\"scpred\"])"
   ]
  },
  {
   "cell_type": "code",
   "execution_count": 11,
   "id": "f9d32118",
   "metadata": {},
   "outputs": [
    {
     "data": {
      "text/plain": [
       "array([[333,  46,  23,  22],\n",
       "       [  3, 279,   4,   3],\n",
       "       [  4,   8, 175,  12],\n",
       "       [  5,  14,   6,  63]])"
      ]
     },
     "execution_count": 11,
     "metadata": {},
     "output_type": "execute_result"
    }
   ],
   "source": [
    "confusion_matrix(real_y, all_labels_factored[\"scsorter\"])"
   ]
  },
  {
   "cell_type": "code",
   "execution_count": 12,
   "id": "dcc37339",
   "metadata": {},
   "outputs": [
    {
     "name": "stdout",
     "output_type": "stream",
     "text": [
      "0.4390000104904175\n",
      "0.8519999980926514\n",
      "0.8500000238418579\n",
      "0.8289999961853027\n",
      "0.7089999914169312\n"
     ]
    },
    {
     "name": "stderr",
     "output_type": "stream",
     "text": [
      "/home/users/lewinsda/scSHARP/utilities.py:184: UserWarning: To copy construct from a tensor, it is recommended to use sourceTensor.clone().detach() or sourceTensor.clone().detach().requires_grad_(True), rather than torch.tensor(sourceTensor).\n",
      "  return float((torch.tensor(preds) == torch.tensor(real)).type(torch.FloatTensor).mean().numpy())\n"
     ]
    },
    {
     "data": {
      "text/plain": [
       "0.9150000214576721"
      ]
     },
     "execution_count": 12,
     "metadata": {},
     "output_type": "execute_result"
    }
   ],
   "source": [
    "print(utilities.pred_accuracy(all_labels_factored['scina'], real_y))\n",
    "print(utilities.pred_accuracy(all_labels_factored['sctype'], real_y))\n",
    "print(utilities.pred_accuracy(all_labels_factored['scsorter'], real_y))\n",
    "print(utilities.pred_accuracy(all_labels_factored['singler'], real_y))\n",
    "print(utilities.pred_accuracy(all_labels_factored['scpred'], real_y))\n",
    "max_pred = torch.tensor(encoded_labels).max(dim=1)[1]\n",
    "utilities.pred_accuracy(max_pred, real_y)"
   ]
  },
  {
   "cell_type": "code",
   "execution_count": 13,
   "id": "b03a5147",
   "metadata": {},
   "outputs": [
    {
     "name": "stdout",
     "output_type": "stream",
     "text": [
      "0.06122449040412903\n",
      "0.3877550959587097\n",
      "0.47959184646606445\n",
      "0.5102040767669678\n",
      "0.30612245202064514\n",
      "0.5714285969734192\n"
     ]
    }
   ],
   "source": [
    "print(utilities.pred_accuracy(np.array(all_labels_factored['scina'][test_nodes]), real_y[test_nodes]))\n",
    "print(utilities.pred_accuracy(np.array(all_labels_factored['sctype'][test_nodes]), real_y[test_nodes]))\n",
    "print(utilities.pred_accuracy(np.array(all_labels_factored['scsorter'][test_nodes]), real_y[test_nodes]))\n",
    "print(utilities.pred_accuracy(np.array(all_labels_factored['singler'][test_nodes]), real_y[test_nodes]))\n",
    "print(utilities.pred_accuracy(np.array(all_labels_factored['scpred'][test_nodes]), real_y[test_nodes]))\n",
    "max_pred = torch.tensor(encoded_labels).max(dim=1)[1]\n",
    "print(utilities.pred_accuracy(max_pred[test_nodes], real_y[test_nodes]))"
   ]
  },
  {
   "cell_type": "code",
   "execution_count": 14,
   "id": "2710004c",
   "metadata": {},
   "outputs": [],
   "source": [
    "dataset  = torch.utils.data.TensorDataset(torch.tensor(X), torch.tensor(confident_labels))\n",
    "dataloader = torch.utils.data.DataLoader(dataset, batch_size=50, shuffle=True)\n",
    "\n",
    "test_dataset  = torch.utils.data.TensorDataset(torch.tensor(X), torch.tensor(real_y))\n",
    "test_dataloader = torch.utils.data.DataLoader(test_dataset, batch_size=50, shuffle=False)"
   ]
  },
  {
   "cell_type": "code",
   "execution_count": 15,
   "id": "9b28277f",
   "metadata": {},
   "outputs": [
    {
     "name": "stdout",
     "output_type": "stream",
     "text": [
      "Loss in epoch 0 = 24.191776\n",
      "Loss in epoch 10 = 0.065547\n",
      "Loss in epoch 20 = 0.014039\n",
      "Loss in epoch 30 = 0.008595\n",
      "Loss in epoch 40 = 0.003326\n",
      "Loss in epoch 50 = 0.002783\n",
      "Loss in epoch 60 = 0.001524\n",
      "Loss in epoch 70 = 0.001250\n",
      "Loss in epoch 80 = 0.001006\n",
      "Loss in epoch 90 = 0.000867\n",
      "Loss in epoch 100 = 0.000544\n",
      "Loss in epoch 110 = 0.000711\n",
      "Loss in epoch 120 = 0.000522\n",
      "Loss in epoch 130 = 0.000329\n",
      "Loss in epoch 140 = 0.000275\n"
     ]
    }
   ],
   "source": [
    "m = GCNModel(\"configs/2_40.txt\", 2, dropout=0.0)\n",
    "m.train(dataloader, 150)"
   ]
  },
  {
   "cell_type": "code",
   "execution_count": 17,
   "id": "94c28590",
   "metadata": {},
   "outputs": [
    {
     "data": {
      "text/plain": [
       "(0.906000018119812,\n",
       " array([[399,  16,   8,   1],\n",
       "        [  1, 285,   3,   0],\n",
       "        [  2,   2, 195,   0],\n",
       "        [ 13,  32,  16,  27]]),\n",
       " 0.9523281455039978,\n",
       " array([[363,  13,   7,   1],\n",
       "        [  0, 283,   1,   0],\n",
       "        [  1,   0, 190,   0],\n",
       "        [  3,  11,   6,  23]]),\n",
       " 0.47959184646606445,\n",
       " array([[36,  3,  1,  0],\n",
       "        [ 1,  2,  2,  0],\n",
       "        [ 1,  2,  5,  0],\n",
       "        [10, 21, 10,  4]]))"
      ]
     },
     "execution_count": 17,
     "metadata": {},
     "output_type": "execute_result"
    }
   ],
   "source": [
    "m.validation_metrics(test_dataloader, train_nodes, test_nodes)"
   ]
  },
  {
   "cell_type": "code",
   "execution_count": 53,
   "id": "dc798995",
   "metadata": {},
   "outputs": [
    {
     "data": {
      "text/plain": [
       "array([[0.36875001, 0.91562498, 0.98124999, 0.77187502, 0.90312499],\n",
       "       [0.59430605, 0.9857651 , 0.94661921, 0.9857651 , 0.75800711],\n",
       "       [0.72928178, 0.95027626, 0.95580113, 0.99447513, 0.77900553],\n",
       "       [1.        , 1.        , 0.        , 1.        , 0.        ]])"
      ]
     },
     "execution_count": 53,
     "metadata": {},
     "output_type": "execute_result"
    }
   ],
   "source": [
    "# get tool weights by cell\n",
    "ultra_confident_labels = utilities.get_consensus_labels(encoded_labels, necessary_vote = .7)\n",
    "ultra_conf_nodes = np.where(ultra_confident_labels != -1)[0]\n",
    "weights = np.zeros((4,5))\n",
    "for type in [0,1,2,3]:\n",
    "    \n",
    "    type_indices = np.where(confident_labels[ultra_conf_nodes]==type)[0]\n",
    "    for i, tool in enumerate(all_labels_factored.columns):\n",
    "        weights[type,i] = utilities.pred_accuracy(all_labels_factored[tool].to_numpy()[ultra_conf_nodes][type_indices], confident_labels[ultra_conf_nodes][type_indices])\n",
    "weights"
   ]
  },
  {
   "cell_type": "code",
   "execution_count": 81,
   "id": "3a191eac",
   "metadata": {},
   "outputs": [
    {
     "name": "stdout",
     "output_type": "stream",
     "text": [
      "0.5362134575843811\n",
      "0.9491741061210632\n",
      "0.9567979574203491\n",
      "0.9008894562721252\n",
      "0.817026674747467\n"
     ]
    }
   ],
   "source": [
    "for i, tool in enumerate(all_labels_factored.columns):\n",
    "        print(utilities.pred_accuracy(all_labels_factored[tool].to_numpy()[ultra_conf_nodes], confident_labels[ultra_conf_nodes]))"
   ]
  },
  {
   "cell_type": "code",
   "execution_count": 82,
   "id": "b8d5e2b7",
   "metadata": {},
   "outputs": [
    {
     "name": "stdout",
     "output_type": "stream",
     "text": [
      "Index(['scina', 'scsorter', 'sctype', 'singler', 'scpred'], dtype='object')\n"
     ]
    }
   ],
   "source": [
    "print(all_labels_factored.columns)"
   ]
  },
  {
   "cell_type": "code",
   "execution_count": 54,
   "id": "cd3f275c",
   "metadata": {},
   "outputs": [
    {
     "name": "stdout",
     "output_type": "stream",
     "text": [
      "multiple maxes\n",
      "multiple maxes\n",
      "multiple maxes\n",
      "multiple maxes\n",
      "multiple maxes\n",
      "multiple maxes\n",
      "multiple maxes\n",
      "multiple maxes\n",
      "multiple maxes\n",
      "multiple maxes\n",
      "multiple maxes\n",
      "multiple maxes\n",
      "multiple maxes\n",
      "multiple maxes\n",
      "multiple maxes\n",
      "multiple maxes\n",
      "multiple maxes\n",
      "multiple maxes\n",
      "multiple maxes\n",
      "multiple maxes\n",
      "multiple maxes\n",
      "multiple maxes\n",
      "multiple maxes\n",
      "multiple maxes\n",
      "multiple maxes\n",
      "multiple maxes\n",
      "multiple maxes\n",
      "multiple maxes\n",
      "multiple maxes\n",
      "multiple maxes\n",
      "multiple maxes\n",
      "multiple maxes\n",
      "multiple maxes\n",
      "multiple maxes\n",
      "multiple maxes\n",
      "multiple maxes\n",
      "multiple maxes\n",
      "multiple maxes\n",
      "multiple maxes\n",
      "multiple maxes\n",
      "multiple maxes\n",
      "multiple maxes\n",
      "multiple maxes\n",
      "multiple maxes\n",
      "multiple maxes\n",
      "multiple maxes\n",
      "multiple maxes\n",
      "multiple maxes\n",
      "multiple maxes\n"
     ]
    }
   ],
   "source": [
    "new_encoded = utilities.weighted_encode(all_labels_factored, encoded_labels, weights)\n",
    "confident_labels = utilities.get_consensus_labels(encoded_labels, necessary_vote = .51)\n",
    "\n",
    "train_nodes = np.where(confident_labels != -1)[0]\n",
    "test_nodes = np.where(confident_labels == -1)[0]"
   ]
  },
  {
   "cell_type": "code",
   "execution_count": 79,
   "id": "0a897ed9",
   "metadata": {},
   "outputs": [
    {
     "data": {
      "text/plain": [
       "scina      -1\n",
       "scsorter    3\n",
       "sctype      1\n",
       "singler     1\n",
       "scpred      2\n",
       "Name: 53, dtype: int64"
      ]
     },
     "execution_count": 79,
     "metadata": {},
     "output_type": "execute_result"
    }
   ],
   "source": [
    "all_labels_factored.iloc[three,:].iloc[8,:]"
   ]
  },
  {
   "cell_type": "code",
   "execution_count": 76,
   "id": "e186db79",
   "metadata": {},
   "outputs": [
    {
     "data": {
      "text/plain": [
       "array([1., 2., 0., 2.])"
      ]
     },
     "execution_count": 76,
     "metadata": {},
     "output_type": "execute_result"
    }
   ],
   "source": [
    "encoded_labels[three][7]"
   ]
  },
  {
   "cell_type": "code",
   "execution_count": 77,
   "id": "a8809ba6",
   "metadata": {},
   "outputs": [
    {
     "data": {
      "text/plain": [
       "array([0., 0., 0., 0.])"
      ]
     },
     "execution_count": 77,
     "metadata": {},
     "output_type": "execute_result"
    }
   ],
   "source": [
    "new_encoded[three][7]"
   ]
  },
  {
   "cell_type": "code",
   "execution_count": 78,
   "id": "b397fcc3",
   "metadata": {},
   "outputs": [
    {
     "data": {
      "text/plain": [
       "-1.0"
      ]
     },
     "execution_count": 78,
     "metadata": {},
     "output_type": "execute_result"
    }
   ],
   "source": [
    "confident_labels[three][7]"
   ]
  },
  {
   "cell_type": "code",
   "execution_count": 60,
   "id": "9d47edad",
   "metadata": {},
   "outputs": [
    {
     "data": {
      "text/plain": [
       "98"
      ]
     },
     "execution_count": 60,
     "metadata": {},
     "output_type": "execute_result"
    }
   ],
   "source": [
    "len(test_nodes)"
   ]
  },
  {
   "cell_type": "code",
   "execution_count": 62,
   "id": "cc04bf8b",
   "metadata": {},
   "outputs": [
    {
     "data": {
      "text/plain": [
       "array([[363,  13,   7,   1],\n",
       "       [  0, 283,   1,   0],\n",
       "       [  1,   0, 190,   0],\n",
       "       [  3,  11,   6,  23]])"
      ]
     },
     "execution_count": 62,
     "metadata": {},
     "output_type": "execute_result"
    }
   ],
   "source": [
    "confusion_matrix(real_y[train_nodes], confident_labels[train_nodes])"
   ]
  },
  {
   "cell_type": "code",
   "execution_count": null,
   "id": "92265add",
   "metadata": {},
   "outputs": [],
   "source": [
    "dataset  = torch.utils.data.TensorDataset(torch.tensor(X), torch.tensor(confident_labels))\n",
    "dataloader = torch.utils.data.DataLoader(dataset, batch_size=50, shuffle=True)\n",
    "\n",
    "test_dataset  = torch.utils.data.TensorDataset(torch.tensor(X), torch.tensor(real_y))\n",
    "test_dataloader = torch.utils.data.DataLoader(test_dataset, batch_size=50, shuffle=False)"
   ]
  },
  {
   "cell_type": "code",
   "execution_count": null,
   "id": "b1ea1a4e",
   "metadata": {},
   "outputs": [],
   "source": [
    "m = GCNModel(\"configs/2_40.txt\", 2, dropout=0.0)\n",
    "m.train(dataloader, 150)"
   ]
  },
  {
   "cell_type": "code",
   "execution_count": null,
   "id": "4eb920e1",
   "metadata": {},
   "outputs": [],
   "source": [
    "m.validation_metrics(test_dataloader, train_nodes, test_nodes)"
   ]
  },
  {
   "cell_type": "code",
   "execution_count": null,
   "id": "cba01074",
   "metadata": {},
   "outputs": [],
   "source": [
    "# add copies of confidently labelled cell type 4 to boost numbers"
   ]
  },
  {
   "cell_type": "code",
   "execution_count": 28,
   "id": "04073855",
   "metadata": {},
   "outputs": [
    {
     "data": {
      "text/plain": [
       "(1000, 500)"
      ]
     },
     "execution_count": 28,
     "metadata": {},
     "output_type": "execute_result"
    }
   ],
   "source": [
    "X.shape"
   ]
  },
  {
   "cell_type": "code",
   "execution_count": 29,
   "id": "c66fd0f9",
   "metadata": {},
   "outputs": [
    {
     "data": {
      "text/plain": [
       "array([[ 2.540359  ,  0.32933518,  4.0460124 , ...,  1.7700831 ,\n",
       "        -0.56088966, -0.5383885 ],\n",
       "       [-0.24325468, -0.06944561,  2.0636573 , ...,  0.48108217,\n",
       "        -0.1444801 , -0.9558514 ],\n",
       "       [-5.470358  , -0.8024255 ,  0.4330117 , ..., -0.23332869,\n",
       "         0.29994816,  0.54539615],\n",
       "       ...,\n",
       "       [ 3.7671275 ,  2.113782  ,  0.7602452 , ..., -0.8004527 ,\n",
       "         1.1425638 ,  0.40496314],\n",
       "       [-2.958261  , -1.6363332 ,  1.5049648 , ...,  0.4195115 ,\n",
       "        -0.30215836, -1.1410402 ],\n",
       "       [-1.6742705 , -0.24646087,  0.88787675, ..., -0.167398  ,\n",
       "        -0.0692627 ,  0.33483595]], dtype=float32)"
      ]
     },
     "execution_count": 29,
     "metadata": {},
     "output_type": "execute_result"
    }
   ],
   "source": [
    "conf_four_cells = np.where(confident_labels == 3)[0]\n",
    "X[conf_four_cells,:]"
   ]
  },
  {
   "cell_type": "code",
   "execution_count": 30,
   "id": "ca4c5d83",
   "metadata": {},
   "outputs": [
    {
     "data": {
      "text/plain": [
       "(48, 500)"
      ]
     },
     "execution_count": 30,
     "metadata": {},
     "output_type": "execute_result"
    }
   ],
   "source": [
    "repeated_four = np.tile(X[conf_four_cells,:], (2,1))\n",
    "repeated_four.shape"
   ]
  },
  {
   "cell_type": "code",
   "execution_count": 31,
   "id": "0cb55b81",
   "metadata": {},
   "outputs": [
    {
     "data": {
      "text/plain": [
       "1.9222024599210852"
      ]
     },
     "execution_count": 31,
     "metadata": {},
     "output_type": "execute_result"
    }
   ],
   "source": [
    "test = np.array(X[confident_labels==0,18], dtype=\"float64\")\n",
    "statistics.stdev(test)"
   ]
  },
  {
   "cell_type": "code",
   "execution_count": 32,
   "id": "72034ce0",
   "metadata": {},
   "outputs": [],
   "source": [
    "random_mat = np.zeros(repeated_four.shape)\n",
    "for i in range(X.shape[1]):\n",
    "    temp_sd = statistics.stdev(np.array(X[confident_labels==0,i], dtype=\"float64\"))\n",
    "    random_column = np.random.normal(0,temp_sd, repeated_four.shape[0])\n",
    "    random_mat[:,i] = random_column"
   ]
  },
  {
   "cell_type": "code",
   "execution_count": 33,
   "id": "bd668372",
   "metadata": {},
   "outputs": [
    {
     "data": {
      "text/plain": [
       "array([[-1.24235393e+00, -8.59261115e-01, -1.40901609e+00, ...,\n",
       "         7.59488836e-01, -1.59615285e-03,  1.31556647e+00],\n",
       "       [ 2.70436280e+00, -1.32602598e-01, -1.90457422e+00, ...,\n",
       "         1.08755049e+00, -3.43271236e-01,  5.18055733e-01],\n",
       "       [ 2.00321669e+00, -1.38146048e+00,  8.41548703e-01, ...,\n",
       "         3.73329329e-01,  1.26370590e+00, -2.38368101e-01],\n",
       "       ...,\n",
       "       [-6.69574155e+00, -4.92453626e-01,  7.10593196e-01, ...,\n",
       "        -4.96285943e-01, -2.25956939e-01, -7.90175762e-02],\n",
       "       [-5.88930010e+00,  6.40525581e-01,  7.85815853e-01, ...,\n",
       "        -4.62410951e-01, -1.02095044e+00, -3.44951853e-01],\n",
       "       [-6.55653351e+00,  1.53147037e+00, -3.71055408e+00, ...,\n",
       "        -6.52639707e-01, -1.06145691e-01, -9.54565514e-01]])"
      ]
     },
     "execution_count": 33,
     "metadata": {},
     "output_type": "execute_result"
    }
   ],
   "source": [
    "random_mat"
   ]
  },
  {
   "cell_type": "code",
   "execution_count": 34,
   "id": "be6d1569",
   "metadata": {
    "scrolled": true
   },
   "outputs": [
    {
     "data": {
      "text/plain": [
       "array([[ 1.29800509, -0.52992593,  2.63699631, ...,  2.52957191,\n",
       "        -0.56248581,  0.77717798],\n",
       "       [ 2.46110812, -0.20204821,  0.15908307, ...,  1.56863266,\n",
       "        -0.48775133, -0.43779564],\n",
       "       [-3.46714121, -2.18388599,  1.27456041, ...,  0.14000064,\n",
       "         1.56365405,  0.30702805],\n",
       "       ...,\n",
       "       [-2.92861404,  1.6213283 ,  1.4708384 , ..., -1.29673865,\n",
       "         0.91660688,  0.32594556],\n",
       "       [-8.84756111, -0.99580765,  2.29078068, ..., -0.04289945,\n",
       "        -1.32310879, -1.48599206],\n",
       "       [-8.23080402,  1.2850095 , -2.82267733, ..., -0.82003771,\n",
       "        -0.17540839, -0.61972957]])"
      ]
     },
     "execution_count": 34,
     "metadata": {},
     "output_type": "execute_result"
    }
   ],
   "source": [
    "#repeated_four = repeated_four + np.random.normal(0, 4, repeated_four.shape)\n",
    "repeated_four = repeated_four + random_mat\n",
    "repeated_four"
   ]
  },
  {
   "cell_type": "code",
   "execution_count": 35,
   "id": "4b5b0144",
   "metadata": {},
   "outputs": [
    {
     "data": {
      "text/plain": [
       "(1048, 500)"
      ]
     },
     "execution_count": 35,
     "metadata": {},
     "output_type": "execute_result"
    }
   ],
   "source": [
    "X_extended = np.concatenate((X, repeated_four), axis=0)\n",
    "X_extended.shape"
   ]
  },
  {
   "cell_type": "code",
   "execution_count": 36,
   "id": "4c754039",
   "metadata": {},
   "outputs": [
    {
     "data": {
      "text/plain": [
       "(1000,)"
      ]
     },
     "execution_count": 36,
     "metadata": {},
     "output_type": "execute_result"
    }
   ],
   "source": [
    "confident_labels.shape"
   ]
  },
  {
   "cell_type": "code",
   "execution_count": 38,
   "id": "fe7e3f0d",
   "metadata": {},
   "outputs": [
    {
     "data": {
      "text/plain": [
       "(1048,)"
      ]
     },
     "execution_count": 38,
     "metadata": {},
     "output_type": "execute_result"
    }
   ],
   "source": [
    "extended_conf_labels = np.concatenate((confident_labels, np.array([3]*48)))\n",
    "extended_conf_labels.shape"
   ]
  },
  {
   "cell_type": "code",
   "execution_count": 39,
   "id": "596886d3",
   "metadata": {},
   "outputs": [
    {
     "data": {
      "text/plain": [
       "(1048,)"
      ]
     },
     "execution_count": 39,
     "metadata": {},
     "output_type": "execute_result"
    }
   ],
   "source": [
    "extended_real_y = np.concatenate((real_y, np.array([3]*48)))\n",
    "extended_real_y.shape"
   ]
  },
  {
   "cell_type": "code",
   "execution_count": 40,
   "id": "d7c3ccce",
   "metadata": {},
   "outputs": [],
   "source": [
    "# mix in fake nodes\n",
    "random.seed(8)\n",
    "shuffled = list(range(len(extended_real_y)))\n",
    "random.shuffle(shuffled)\n",
    "extended_real_y = extended_real_y[shuffled]\n",
    "extended_conf_labels = extended_conf_labels[shuffled]\n",
    "X_extended = X_extended[shuffled,:]\n",
    "train_nodes = np.where(extended_conf_labels != -1)[0]\n",
    "test_nodes = np.where(extended_conf_labels == -1)[0]"
   ]
  },
  {
   "cell_type": "code",
   "execution_count": 41,
   "id": "1329853c",
   "metadata": {},
   "outputs": [
    {
     "data": {
      "text/plain": [
       "98"
      ]
     },
     "execution_count": 41,
     "metadata": {},
     "output_type": "execute_result"
    }
   ],
   "source": [
    "len(test_nodes)"
   ]
  },
  {
   "cell_type": "code",
   "execution_count": 42,
   "id": "ba764edc",
   "metadata": {},
   "outputs": [
    {
     "data": {
      "text/plain": [
       "array([ 0.,  0.,  1.,  3.,  2.,  0.,  2.,  2.,  1.,  2.,  2.,  2.,  1.,\n",
       "        0.,  2.,  1.,  1.,  1.,  1.,  1.,  0., -1.,  0.,  1.,  0.,  3.,\n",
       "        1.,  3.,  2.,  0.,  0.,  2.,  2.,  1.,  0.,  2.,  1.,  1.,  1.,\n",
       "        0.,  1.,  0.,  0.,  0.,  1.,  0., -1.,  0.,  1.,  1.,  1.,  0.,\n",
       "        1.,  2.,  3.,  1.,  2.,  0.,  0.,  0.,  1.,  1.,  0.,  2.,  0.,\n",
       "        2., -1.,  0., -1.,  2.,  1.,  1.,  1.,  1.,  1.,  0.,  1.,  1.,\n",
       "        2.,  1.,  1.,  0.,  0.,  2.,  1., -1.,  2., -1.,  0.,  1.,  0.,\n",
       "        1.,  0., -1.,  0.,  2.,  1.,  0.,  1.])"
      ]
     },
     "execution_count": 42,
     "metadata": {},
     "output_type": "execute_result"
    }
   ],
   "source": [
    "extended_conf_labels[1:100]"
   ]
  },
  {
   "cell_type": "code",
   "execution_count": 43,
   "id": "b15d6dd9",
   "metadata": {},
   "outputs": [],
   "source": [
    "dataset  = torch.utils.data.TensorDataset(torch.tensor(X_extended), torch.tensor(extended_conf_labels))\n",
    "dataloader = torch.utils.data.DataLoader(dataset, batch_size=50, shuffle=True)\n",
    "\n",
    "test_dataset  = torch.utils.data.TensorDataset(torch.tensor(X_extended), torch.tensor(extended_real_y))\n",
    "test_dataloader = torch.utils.data.DataLoader(test_dataset, batch_size=50, shuffle=False)"
   ]
  },
  {
   "cell_type": "code",
   "execution_count": 44,
   "id": "fd73bd30",
   "metadata": {
    "scrolled": true
   },
   "outputs": [
    {
     "name": "stdout",
     "output_type": "stream",
     "text": [
      "Loss in epoch 0 = 26.924913\n",
      "Loss in epoch 10 = 0.080819\n",
      "Loss in epoch 20 = 0.017143\n",
      "Loss in epoch 30 = 0.006573\n",
      "Loss in epoch 40 = 0.004491\n",
      "Loss in epoch 50 = 0.003160\n",
      "Loss in epoch 60 = 0.002770\n",
      "Loss in epoch 70 = 0.001824\n",
      "Loss in epoch 80 = 0.000823\n",
      "Loss in epoch 90 = 0.000830\n",
      "Loss in epoch 100 = 0.000607\n",
      "Loss in epoch 110 = 0.000862\n",
      "Loss in epoch 120 = 0.000488\n",
      "Loss in epoch 130 = 0.000279\n",
      "Loss in epoch 140 = 0.000210\n"
     ]
    }
   ],
   "source": [
    "m = GCNModel(\"configs/2_40.txt\", 2, dropout=0.0)\n",
    "m.train(dataloader, 150)"
   ]
  },
  {
   "cell_type": "code",
   "execution_count": 45,
   "id": "9fd32d7c",
   "metadata": {},
   "outputs": [
    {
     "data": {
      "text/plain": [
       "(0.9179389476776123,\n",
       " array([[397,  18,   8,   1],\n",
       "        [  1, 286,   2,   0],\n",
       "        [  3,   0, 196,   0],\n",
       "        [  9,  24,  20,  83]]),\n",
       " 0.9547368288040161,\n",
       " array([[363,  13,   7,   1],\n",
       "        [  0, 283,   1,   0],\n",
       "        [  1,   0, 190,   0],\n",
       "        [  3,  11,   6,  71]]),\n",
       " 0.5612244606018066,\n",
       " array([[34,  5,  1,  0],\n",
       "        [ 1,  3,  1,  0],\n",
       "        [ 2,  0,  6,  0],\n",
       "        [ 6, 13, 14, 12]]))"
      ]
     },
     "execution_count": 45,
     "metadata": {},
     "output_type": "execute_result"
    }
   ],
   "source": [
    "m.validation_metrics(test_dataloader, train_nodes, test_nodes)"
   ]
  }
 ],
 "metadata": {
  "kernelspec": {
   "display_name": "daniel_thesis",
   "language": "python",
   "name": "daniel_thesis_2"
  },
  "language_info": {
   "codemirror_mode": {
    "name": "ipython",
    "version": 3
   },
   "file_extension": ".py",
   "mimetype": "text/x-python",
   "name": "python",
   "nbconvert_exporter": "python",
   "pygments_lexer": "ipython3",
   "version": "3.9.7"
  }
 },
 "nbformat": 4,
 "nbformat_minor": 5
}
