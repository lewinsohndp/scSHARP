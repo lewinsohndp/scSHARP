{
 "cells": [
  {
   "cell_type": "code",
   "execution_count": 5,
   "id": "8f3ce6b4",
   "metadata": {},
   "outputs": [],
   "source": [
    "import numpy as np\n",
    "import pandas as pd\n",
    "import torch\n",
    "from sc_sharp import scSHARP\n",
    "from test_model import test_model\n",
    "import utilities\n",
    "import matplotlib.pyplot as plt\n",
    "import seaborn as sns\n",
    "from sklearn import preprocessing\n",
    "import statistics"
   ]
  },
  {
   "cell_type": "code",
   "execution_count": 5,
   "id": "457e908d",
   "metadata": {},
   "outputs": [
    {
     "data": {
      "text/html": [
       "<div>\n",
       "<style scoped>\n",
       "    .dataframe tbody tr th:only-of-type {\n",
       "        vertical-align: middle;\n",
       "    }\n",
       "\n",
       "    .dataframe tbody tr th {\n",
       "        vertical-align: top;\n",
       "    }\n",
       "\n",
       "    .dataframe thead th {\n",
       "        text-align: right;\n",
       "    }\n",
       "</style>\n",
       "<table border=\"1\" class=\"dataframe\">\n",
       "  <thead>\n",
       "    <tr style=\"text-align: right;\">\n",
       "      <th></th>\n",
       "      <th>Total Accuracy</th>\n",
       "      <th>Val Accuracy</th>\n",
       "      <th>Test Accuracy</th>\n",
       "      <th>Total SD</th>\n",
       "      <th>Val SD</th>\n",
       "      <th>Test SD</th>\n",
       "      <th>Config</th>\n",
       "      <th>Dropout</th>\n",
       "      <th>Batch</th>\n",
       "      <th>Neighbors</th>\n",
       "      <th>GCN Layers</th>\n",
       "      <th>Final Embedding</th>\n",
       "    </tr>\n",
       "    <tr>\n",
       "      <th>0</th>\n",
       "      <th></th>\n",
       "      <th></th>\n",
       "      <th></th>\n",
       "      <th></th>\n",
       "      <th></th>\n",
       "      <th></th>\n",
       "      <th></th>\n",
       "      <th></th>\n",
       "      <th></th>\n",
       "      <th></th>\n",
       "      <th></th>\n",
       "      <th></th>\n",
       "    </tr>\n",
       "  </thead>\n",
       "  <tbody>\n",
       "    <tr>\n",
       "      <th>98</th>\n",
       "      <td>0.959807</td>\n",
       "      <td>0.941689</td>\n",
       "      <td>0.0</td>\n",
       "      <td>0.000524</td>\n",
       "      <td>0.002700</td>\n",
       "      <td>0.0</td>\n",
       "      <td>2_40.txt</td>\n",
       "      <td>0.0</td>\n",
       "      <td>50</td>\n",
       "      <td>5</td>\n",
       "      <td>2</td>\n",
       "      <td>40</td>\n",
       "    </tr>\n",
       "    <tr>\n",
       "      <th>16</th>\n",
       "      <td>0.959729</td>\n",
       "      <td>0.941287</td>\n",
       "      <td>0.0</td>\n",
       "      <td>0.001116</td>\n",
       "      <td>0.005750</td>\n",
       "      <td>0.0</td>\n",
       "      <td>2_25.txt</td>\n",
       "      <td>0.0</td>\n",
       "      <td>95</td>\n",
       "      <td>2</td>\n",
       "      <td>2</td>\n",
       "      <td>25</td>\n",
       "    </tr>\n",
       "    <tr>\n",
       "      <th>4</th>\n",
       "      <td>0.959625</td>\n",
       "      <td>0.940751</td>\n",
       "      <td>0.0</td>\n",
       "      <td>0.000812</td>\n",
       "      <td>0.004182</td>\n",
       "      <td>0.0</td>\n",
       "      <td>2_25.txt</td>\n",
       "      <td>0.0</td>\n",
       "      <td>35</td>\n",
       "      <td>2</td>\n",
       "      <td>2</td>\n",
       "      <td>25</td>\n",
       "    </tr>\n",
       "    <tr>\n",
       "      <th>161</th>\n",
       "      <td>0.959625</td>\n",
       "      <td>0.940751</td>\n",
       "      <td>0.0</td>\n",
       "      <td>0.000793</td>\n",
       "      <td>0.004085</td>\n",
       "      <td>0.0</td>\n",
       "      <td>2_60.txt</td>\n",
       "      <td>0.0</td>\n",
       "      <td>95</td>\n",
       "      <td>5</td>\n",
       "      <td>2</td>\n",
       "      <td>60</td>\n",
       "    </tr>\n",
       "    <tr>\n",
       "      <th>154</th>\n",
       "      <td>0.959443</td>\n",
       "      <td>0.939812</td>\n",
       "      <td>0.0</td>\n",
       "      <td>0.001093</td>\n",
       "      <td>0.005633</td>\n",
       "      <td>0.0</td>\n",
       "      <td>2_60.txt</td>\n",
       "      <td>0.0</td>\n",
       "      <td>65</td>\n",
       "      <td>2</td>\n",
       "      <td>2</td>\n",
       "      <td>60</td>\n",
       "    </tr>\n",
       "    <tr>\n",
       "      <th>157</th>\n",
       "      <td>0.959157</td>\n",
       "      <td>0.939812</td>\n",
       "      <td>0.0</td>\n",
       "      <td>0.001011</td>\n",
       "      <td>0.002230</td>\n",
       "      <td>0.0</td>\n",
       "      <td>2_60.txt</td>\n",
       "      <td>0.0</td>\n",
       "      <td>80</td>\n",
       "      <td>2</td>\n",
       "      <td>2</td>\n",
       "      <td>60</td>\n",
       "    </tr>\n",
       "    <tr>\n",
       "      <th>107</th>\n",
       "      <td>0.959339</td>\n",
       "      <td>0.939276</td>\n",
       "      <td>0.0</td>\n",
       "      <td>0.000736</td>\n",
       "      <td>0.003794</td>\n",
       "      <td>0.0</td>\n",
       "      <td>2_40.txt</td>\n",
       "      <td>0.0</td>\n",
       "      <td>95</td>\n",
       "      <td>5</td>\n",
       "      <td>2</td>\n",
       "      <td>40</td>\n",
       "    </tr>\n",
       "    <tr>\n",
       "      <th>139</th>\n",
       "      <td>0.959079</td>\n",
       "      <td>0.939142</td>\n",
       "      <td>0.0</td>\n",
       "      <td>0.000859</td>\n",
       "      <td>0.002543</td>\n",
       "      <td>0.0</td>\n",
       "      <td>2_15.txt</td>\n",
       "      <td>0.0</td>\n",
       "      <td>80</td>\n",
       "      <td>2</td>\n",
       "      <td>2</td>\n",
       "      <td>15</td>\n",
       "    </tr>\n",
       "    <tr>\n",
       "      <th>160</th>\n",
       "      <td>0.959287</td>\n",
       "      <td>0.939008</td>\n",
       "      <td>0.0</td>\n",
       "      <td>0.000565</td>\n",
       "      <td>0.002913</td>\n",
       "      <td>0.0</td>\n",
       "      <td>2_60.txt</td>\n",
       "      <td>0.0</td>\n",
       "      <td>95</td>\n",
       "      <td>2</td>\n",
       "      <td>2</td>\n",
       "      <td>60</td>\n",
       "    </tr>\n",
       "    <tr>\n",
       "      <th>7</th>\n",
       "      <td>0.959261</td>\n",
       "      <td>0.938874</td>\n",
       "      <td>0.0</td>\n",
       "      <td>0.000834</td>\n",
       "      <td>0.004295</td>\n",
       "      <td>0.0</td>\n",
       "      <td>2_25.txt</td>\n",
       "      <td>0.0</td>\n",
       "      <td>50</td>\n",
       "      <td>2</td>\n",
       "      <td>2</td>\n",
       "      <td>25</td>\n",
       "    </tr>\n",
       "  </tbody>\n",
       "</table>\n",
       "</div>"
      ],
      "text/plain": [
       "     Total Accuracy  Val Accuracy  Test Accuracy  Total SD    Val SD  Test SD  \\\n",
       "0                                                                               \n",
       "98         0.959807      0.941689            0.0  0.000524  0.002700      0.0   \n",
       "16         0.959729      0.941287            0.0  0.001116  0.005750      0.0   \n",
       "4          0.959625      0.940751            0.0  0.000812  0.004182      0.0   \n",
       "161        0.959625      0.940751            0.0  0.000793  0.004085      0.0   \n",
       "154        0.959443      0.939812            0.0  0.001093  0.005633      0.0   \n",
       "157        0.959157      0.939812            0.0  0.001011  0.002230      0.0   \n",
       "107        0.959339      0.939276            0.0  0.000736  0.003794      0.0   \n",
       "139        0.959079      0.939142            0.0  0.000859  0.002543      0.0   \n",
       "160        0.959287      0.939008            0.0  0.000565  0.002913      0.0   \n",
       "7          0.959261      0.938874            0.0  0.000834  0.004295      0.0   \n",
       "\n",
       "       Config  Dropout  Batch  Neighbors  GCN Layers  Final Embedding  \n",
       "0                                                                      \n",
       "98   2_40.txt      0.0     50          5           2               40  \n",
       "16   2_25.txt      0.0     95          2           2               25  \n",
       "4    2_25.txt      0.0     35          2           2               25  \n",
       "161  2_60.txt      0.0     95          5           2               60  \n",
       "154  2_60.txt      0.0     65          2           2               60  \n",
       "157  2_60.txt      0.0     80          2           2               60  \n",
       "107  2_40.txt      0.0     95          5           2               40  \n",
       "139  2_15.txt      0.0     80          2           2               15  \n",
       "160  2_60.txt      0.0     95          2           2               60  \n",
       "7    2_25.txt      0.0     50          2           2               25  "
      ]
     },
     "execution_count": 5,
     "metadata": {},
     "output_type": "execute_result"
    }
   ],
   "source": [
    "grid_results = pd.read_csv(\"grid_search_pbmc_output/combined.csv\", header=None, index_col=0)\n",
    "grid_results.columns = [\"Total Accuracy\", \"Val Accuracy\", \"Test Accuracy\", \"Total SD\", \"Val SD\", \"Test SD\", \"Config\", \"Dropout\", \"Batch\", \"Neighbors\"]\n",
    "grid_results['GCN Layers'] = grid_results['Config'].apply(lambda x: x.split('_')[0])\n",
    "grid_results['Final Embedding'] = grid_results['Config'].apply(lambda x: x.split('_')[1].split(\".\")[0])\n",
    "grid_results['GCN Layers'] = pd.to_numeric(grid_results['GCN Layers'])\n",
    "grid_results['Final Embedding'] = pd.to_numeric(grid_results['Final Embedding'])\n",
    "grid_results.sort_values(\"Val Accuracy\", ascending=False).head(10)"
   ]
  },
  {
   "cell_type": "code",
   "execution_count": 5,
   "id": "d5a7e6be",
   "metadata": {},
   "outputs": [
    {
     "data": {
      "text/plain": [
       "<AxesSubplot:xlabel='Final Embedding', ylabel='Val Accuracy'>"
      ]
     },
     "execution_count": 5,
     "metadata": {},
     "output_type": "execute_result"
    },
    {
     "data": {
      "image/png": "[encoded data removed]",
      "text/plain": [
       "<Figure size 432x288 with 4 Axes>"
      ]
     },
     "metadata": {
      "needs_background": "light"
     },
     "output_type": "display_data"
    }
   ],
   "source": [
    "fig, axs = plt.subplots(2,2)\n",
    "sns.violinplot(x=grid_results[\"Neighbors\"], y=grid_results[\"Val Accuracy\"], ax = axs[0][0])\n",
    "sns.violinplot(x=grid_results[\"Batch\"], y=grid_results[\"Val Accuracy\"], ax = axs[0][1])\n",
    "sns.violinplot(x=grid_results[\"GCN Layers\"], y=grid_results[\"Val Accuracy\"], ax = axs[1][0])\n",
    "sns.violinplot(x=grid_results[\"Final Embedding\"], y=grid_results[\"Val Accuracy\"], ax = axs[1][1])"
   ]
  },
  {
   "cell_type": "code",
   "execution_count": 6,
   "id": "51bc056e",
   "metadata": {},
   "outputs": [
    {
     "data": {
      "text/plain": [
       "<AxesSubplot:xlabel='Batch', ylabel='Val Accuracy'>"
      ]
     },
     "execution_count": 6,
     "metadata": {},
     "output_type": "execute_result"
    },
    {
     "data": {
      "image/png": "[encoded data removed]",
      "text/plain": [
       "<Figure size 720x360 with 2 Axes>"
      ]
     },
     "metadata": {
      "needs_background": "light"
     },
     "output_type": "display_data"
    }
   ],
   "source": [
    "fig, axs = plt.subplots(1,2, figsize=(10, 5))\n",
    "sns.violinplot(x=grid_results[\"Neighbors\"], y=grid_results[\"Val Accuracy\"], ax = axs[0])\n",
    "sns.violinplot(x=grid_results[\"Batch\"], y=grid_results[\"Val Accuracy\"], ax = axs[1])"
   ]
  },
  {
   "cell_type": "code",
   "execution_count": 7,
   "id": "84d34b95",
   "metadata": {},
   "outputs": [
    {
     "data": {
      "text/plain": [
       "<AxesSubplot:xlabel='Final Embedding', ylabel='Val Accuracy'>"
      ]
     },
     "execution_count": 7,
     "metadata": {},
     "output_type": "execute_result"
    },
    {
     "data": {
      "image/png": "[encoded data removed]",
      "text/plain": [
       "<Figure size 720x360 with 2 Axes>"
      ]
     },
     "metadata": {
      "needs_background": "light"
     },
     "output_type": "display_data"
    }
   ],
   "source": [
    "fig, axs = plt.subplots(1,2,figsize=(10, 5))\n",
    "sns.violinplot(x=grid_results[\"GCN Layers\"], y=grid_results[\"Val Accuracy\"], ax = axs[0])\n",
    "sns.violinplot(x=grid_results[\"Final Embedding\"], y=grid_results[\"Val Accuracy\"], ax = axs[1])"
   ]
  },
  {
   "cell_type": "markdown",
   "id": "9fe69ddc",
   "metadata": {},
   "source": [
    "accuracy results generated this way:\n",
    "\n",
    "srun --partition=gpu --mem=130g --time=500 python -u test_model.py\n",
    "data_folders = [\"/home/groups/ConradLab/daniel/sharp_data/pbmc_test/\"]\n",
    "    tools = [\"sctype\",\"scsorter\",\"scina\", \"singler\", \"scpred\"]\n",
    "    votes_necessary = .51\n",
    "    model_file = \"configs/2_40.txt\"\n",
    "    neighbors = 5\n",
    "    batch_size=50\n",
    "    training_epochs=150\n",
    "    random_inits = 5\n",
    "    counts=\"counts.csv\"\n",
    "    meta=\"labels_cd4-8.csv\"\n",
    "    meta_col = 0\n",
    "    df = test_model(data_folders, tools, votes_necessary, model_file, neighbors, batch_size, training_epochs, random_inits, counts=counts, meta=meta, meta_col=meta_col)\n",
    "    df.to_csv(\"pbmc_test_results.csv\")\n"
   ]
  },
  {
   "cell_type": "code",
   "execution_count": 6,
   "id": "18128b55",
   "metadata": {},
   "outputs": [
    {
     "data": {
      "text/html": [
       "<div>\n",
       "<style scoped>\n",
       "    .dataframe tbody tr th:only-of-type {\n",
       "        vertical-align: middle;\n",
       "    }\n",
       "\n",
       "    .dataframe tbody tr th {\n",
       "        vertical-align: top;\n",
       "    }\n",
       "\n",
       "    .dataframe thead th {\n",
       "        text-align: right;\n",
       "    }\n",
       "</style>\n",
       "<table border=\"1\" class=\"dataframe\">\n",
       "  <thead>\n",
       "    <tr style=\"text-align: right;\">\n",
       "      <th></th>\n",
       "      <th>data_name</th>\n",
       "      <th>method</th>\n",
       "      <th>total_accuracy</th>\n",
       "      <th>train_accuracy</th>\n",
       "      <th>test_accuracy</th>\n",
       "      <th>total_sd</th>\n",
       "      <th>train_sd</th>\n",
       "      <th>test_sd</th>\n",
       "    </tr>\n",
       "  </thead>\n",
       "  <tbody>\n",
       "    <tr>\n",
       "      <th>0</th>\n",
       "      <td>pbmc_test</td>\n",
       "      <td>GCN</td>\n",
       "      <td>0.930186</td>\n",
       "      <td>0.937344</td>\n",
       "      <td>0.681247</td>\n",
       "      <td>0.000749</td>\n",
       "      <td>0.000207</td>\n",
       "      <td>0.019805</td>\n",
       "    </tr>\n",
       "    <tr>\n",
       "      <th>1</th>\n",
       "      <td>pbmc_test</td>\n",
       "      <td>Max Col.</td>\n",
       "      <td>0.921346</td>\n",
       "      <td>0.937523</td>\n",
       "      <td>0.358772</td>\n",
       "      <td>0.000000</td>\n",
       "      <td>0.000000</td>\n",
       "      <td>0.000000</td>\n",
       "    </tr>\n",
       "    <tr>\n",
       "      <th>2</th>\n",
       "      <td>pbmc_test</td>\n",
       "      <td>Confident Labels</td>\n",
       "      <td>NaN</td>\n",
       "      <td>0.937523</td>\n",
       "      <td>NaN</td>\n",
       "      <td>0.000000</td>\n",
       "      <td>0.000000</td>\n",
       "      <td>0.000000</td>\n",
       "    </tr>\n",
       "    <tr>\n",
       "      <th>3</th>\n",
       "      <td>pbmc_test</td>\n",
       "      <td>sctype</td>\n",
       "      <td>0.971137</td>\n",
       "      <td>0.973760</td>\n",
       "      <td>0.879944</td>\n",
       "      <td>0.000000</td>\n",
       "      <td>0.000000</td>\n",
       "      <td>0.000000</td>\n",
       "    </tr>\n",
       "    <tr>\n",
       "      <th>4</th>\n",
       "      <td>pbmc_test</td>\n",
       "      <td>scsorter</td>\n",
       "      <td>0.714819</td>\n",
       "      <td>0.716012</td>\n",
       "      <td>0.673336</td>\n",
       "      <td>0.000000</td>\n",
       "      <td>0.000000</td>\n",
       "      <td>0.000000</td>\n",
       "    </tr>\n",
       "    <tr>\n",
       "      <th>5</th>\n",
       "      <td>pbmc_test</td>\n",
       "      <td>scina</td>\n",
       "      <td>0.733328</td>\n",
       "      <td>0.753519</td>\n",
       "      <td>0.031177</td>\n",
       "      <td>0.000000</td>\n",
       "      <td>0.000000</td>\n",
       "      <td>0.000000</td>\n",
       "    </tr>\n",
       "    <tr>\n",
       "      <th>6</th>\n",
       "      <td>pbmc_test</td>\n",
       "      <td>singler</td>\n",
       "      <td>0.702813</td>\n",
       "      <td>0.719959</td>\n",
       "      <td>0.106561</td>\n",
       "      <td>0.000000</td>\n",
       "      <td>0.000000</td>\n",
       "      <td>0.000000</td>\n",
       "    </tr>\n",
       "    <tr>\n",
       "      <th>7</th>\n",
       "      <td>pbmc_test</td>\n",
       "      <td>scpred</td>\n",
       "      <td>0.744176</td>\n",
       "      <td>0.761535</td>\n",
       "      <td>0.140530</td>\n",
       "      <td>0.000000</td>\n",
       "      <td>0.000000</td>\n",
       "      <td>0.000000</td>\n",
       "    </tr>\n",
       "    <tr>\n",
       "      <th>8</th>\n",
       "      <td>pbmc_test</td>\n",
       "      <td>Tool Avg.</td>\n",
       "      <td>0.773255</td>\n",
       "      <td>0.784957</td>\n",
       "      <td>0.366310</td>\n",
       "      <td>0.111774</td>\n",
       "      <td>0.107426</td>\n",
       "      <td>0.383681</td>\n",
       "    </tr>\n",
       "  </tbody>\n",
       "</table>\n",
       "</div>"
      ],
      "text/plain": [
       "   data_name            method  total_accuracy  train_accuracy  test_accuracy  \\\n",
       "0  pbmc_test               GCN        0.930186        0.937344       0.681247   \n",
       "1  pbmc_test          Max Col.        0.921346        0.937523       0.358772   \n",
       "2  pbmc_test  Confident Labels             NaN        0.937523            NaN   \n",
       "3  pbmc_test            sctype        0.971137        0.973760       0.879944   \n",
       "4  pbmc_test          scsorter        0.714819        0.716012       0.673336   \n",
       "5  pbmc_test             scina        0.733328        0.753519       0.031177   \n",
       "6  pbmc_test           singler        0.702813        0.719959       0.106561   \n",
       "7  pbmc_test            scpred        0.744176        0.761535       0.140530   \n",
       "8  pbmc_test         Tool Avg.        0.773255        0.784957       0.366310   \n",
       "\n",
       "   total_sd  train_sd   test_sd  \n",
       "0  0.000749  0.000207  0.019805  \n",
       "1  0.000000  0.000000  0.000000  \n",
       "2  0.000000  0.000000  0.000000  \n",
       "3  0.000000  0.000000  0.000000  \n",
       "4  0.000000  0.000000  0.000000  \n",
       "5  0.000000  0.000000  0.000000  \n",
       "6  0.000000  0.000000  0.000000  \n",
       "7  0.000000  0.000000  0.000000  \n",
       "8  0.111774  0.107426  0.383681  "
      ]
     },
     "execution_count": 6,
     "metadata": {},
     "output_type": "execute_result"
    }
   ],
   "source": [
    "results = pd.read_csv(\"pbmc_test_results.csv\", index_col=0)\n",
    "results"
   ]
  },
  {
   "cell_type": "code",
   "execution_count": 7,
   "id": "d79bbbae",
   "metadata": {},
   "outputs": [
    {
     "data": {
      "text/plain": [
       "Text(0.5, 1.0, 'Total Accuracy by Method')"
      ]
     },
     "execution_count": 7,
     "metadata": {},
     "output_type": "execute_result"
    },
    {
     "data": {
      "image/png": "[encoded data removed]",
      "text/plain": [
       "<Figure size 1080x504 with 2 Axes>"
      ]
     },
     "metadata": {
      "needs_background": "light"
     },
     "output_type": "display_data"
    }
   ],
   "source": [
    "to_plot = results.loc[results['method']!=\"Confident Labels\",:]\n",
    "fig, ax = plt.subplots(1,2,figsize=(15, 7))\n",
    "ax[0].bar(to_plot['method'],  to_plot['test_accuracy'], yerr= to_plot['test_sd'], align='center')\n",
    "ax[0].set_xlabel(\"Tool\")\n",
    "ax[0].set_ylabel(\"Accuracy on Unconfident Nodes\")\n",
    "ax[0].set_title(\"Test Accuracy by Method\")\n",
    "ax[1].bar(to_plot['method'],  to_plot['total_accuracy'], yerr= to_plot['total_sd'], align='center')\n",
    "ax[1].set_xlabel(\"Tool\")\n",
    "ax[1].set_ylabel(\"Accuracy on All Nodes\")\n",
    "ax[1].set_title(\"Total Accuracy by Method\")"
   ]
  },
  {
   "cell_type": "code",
   "execution_count": 3,
   "id": "02d39f93",
   "metadata": {},
   "outputs": [
    {
     "data": {
      "text/html": [
       "<div>\n",
       "<style scoped>\n",
       "    .dataframe tbody tr th:only-of-type {\n",
       "        vertical-align: middle;\n",
       "    }\n",
       "\n",
       "    .dataframe tbody tr th {\n",
       "        vertical-align: top;\n",
       "    }\n",
       "\n",
       "    .dataframe thead th {\n",
       "        text-align: right;\n",
       "    }\n",
       "</style>\n",
       "<table border=\"1\" class=\"dataframe\">\n",
       "  <thead>\n",
       "    <tr style=\"text-align: right;\">\n",
       "      <th></th>\n",
       "      <th>data_name</th>\n",
       "      <th>method</th>\n",
       "      <th>total_accuracy</th>\n",
       "      <th>train_accuracy</th>\n",
       "      <th>test_accuracy</th>\n",
       "      <th>total_sd</th>\n",
       "      <th>train_sd</th>\n",
       "      <th>test_sd</th>\n",
       "    </tr>\n",
       "  </thead>\n",
       "  <tbody>\n",
       "    <tr>\n",
       "      <th>0</th>\n",
       "      <td>pbmc_test</td>\n",
       "      <td>GCN</td>\n",
       "      <td>0.963864</td>\n",
       "      <td>0.964680</td>\n",
       "      <td>0.954001</td>\n",
       "      <td>0.000204</td>\n",
       "      <td>0.000139</td>\n",
       "      <td>0.002276</td>\n",
       "    </tr>\n",
       "    <tr>\n",
       "      <th>1</th>\n",
       "      <td>pbmc_test</td>\n",
       "      <td>Max Col.</td>\n",
       "      <td>0.958325</td>\n",
       "      <td>0.964778</td>\n",
       "      <td>0.880320</td>\n",
       "      <td>0.000000</td>\n",
       "      <td>0.000000</td>\n",
       "      <td>0.000000</td>\n",
       "    </tr>\n",
       "    <tr>\n",
       "      <th>2</th>\n",
       "      <td>pbmc_test</td>\n",
       "      <td>Confident Labels</td>\n",
       "      <td>NaN</td>\n",
       "      <td>0.964778</td>\n",
       "      <td>NaN</td>\n",
       "      <td>0.000000</td>\n",
       "      <td>0.000000</td>\n",
       "      <td>0.000000</td>\n",
       "    </tr>\n",
       "    <tr>\n",
       "      <th>3</th>\n",
       "      <td>pbmc_test</td>\n",
       "      <td>sctype</td>\n",
       "      <td>0.971137</td>\n",
       "      <td>0.973749</td>\n",
       "      <td>0.939564</td>\n",
       "      <td>0.000000</td>\n",
       "      <td>0.000000</td>\n",
       "      <td>0.000000</td>\n",
       "    </tr>\n",
       "    <tr>\n",
       "      <th>4</th>\n",
       "      <td>pbmc_test</td>\n",
       "      <td>scsorter</td>\n",
       "      <td>0.714819</td>\n",
       "      <td>0.770163</td>\n",
       "      <td>0.045795</td>\n",
       "      <td>0.000000</td>\n",
       "      <td>0.000000</td>\n",
       "      <td>0.000000</td>\n",
       "    </tr>\n",
       "    <tr>\n",
       "      <th>5</th>\n",
       "      <td>pbmc_test</td>\n",
       "      <td>scina</td>\n",
       "      <td>0.733328</td>\n",
       "      <td>0.793133</td>\n",
       "      <td>0.010385</td>\n",
       "      <td>0.000000</td>\n",
       "      <td>0.000000</td>\n",
       "      <td>0.000000</td>\n",
       "    </tr>\n",
       "    <tr>\n",
       "      <th>6</th>\n",
       "      <td>pbmc_test</td>\n",
       "      <td>Tool Avg.</td>\n",
       "      <td>0.806428</td>\n",
       "      <td>0.845682</td>\n",
       "      <td>0.331915</td>\n",
       "      <td>0.142942</td>\n",
       "      <td>0.111502</td>\n",
       "      <td>0.526538</td>\n",
       "    </tr>\n",
       "  </tbody>\n",
       "</table>\n",
       "</div>"
      ],
      "text/plain": [
       "   data_name            method  total_accuracy  train_accuracy  test_accuracy  \\\n",
       "0  pbmc_test               GCN        0.963864        0.964680       0.954001   \n",
       "1  pbmc_test          Max Col.        0.958325        0.964778       0.880320   \n",
       "2  pbmc_test  Confident Labels             NaN        0.964778            NaN   \n",
       "3  pbmc_test            sctype        0.971137        0.973749       0.939564   \n",
       "4  pbmc_test          scsorter        0.714819        0.770163       0.045795   \n",
       "5  pbmc_test             scina        0.733328        0.793133       0.010385   \n",
       "6  pbmc_test         Tool Avg.        0.806428        0.845682       0.331915   \n",
       "\n",
       "   total_sd  train_sd   test_sd  \n",
       "0  0.000204  0.000139  0.002276  \n",
       "1  0.000000  0.000000  0.000000  \n",
       "2  0.000000  0.000000  0.000000  \n",
       "3  0.000000  0.000000  0.000000  \n",
       "4  0.000000  0.000000  0.000000  \n",
       "5  0.000000  0.000000  0.000000  \n",
       "6  0.142942  0.111502  0.526538  "
      ]
     },
     "execution_count": 3,
     "metadata": {},
     "output_type": "execute_result"
    }
   ],
   "source": [
    "results = pd.read_csv(\"pbmc_test_results_marker_only.csv\", index_col=0)\n",
    "results"
   ]
  },
  {
   "cell_type": "code",
   "execution_count": 4,
   "id": "827ba129",
   "metadata": {},
   "outputs": [
    {
     "data": {
      "text/plain": [
       "Text(0.5, 1.0, 'Total Accuracy by Method')"
      ]
     },
     "execution_count": 4,
     "metadata": {},
     "output_type": "execute_result"
    },
    {
     "data": {
      "image/png": "[encoded data removed]",
      "text/plain": [
       "<Figure size 1080x504 with 2 Axes>"
      ]
     },
     "metadata": {
      "needs_background": "light"
     },
     "output_type": "display_data"
    }
   ],
   "source": [
    "to_plot = results.loc[results['method']!=\"Confident Labels\",:]\n",
    "fig, ax = plt.subplots(1,2,figsize=(15, 7))\n",
    "ax[0].bar(to_plot['method'],  to_plot['test_accuracy'], yerr= to_plot['test_sd'], align='center')\n",
    "ax[0].set_xlabel(\"Tool\")\n",
    "ax[0].set_ylabel(\"Accuracy on Unconfident Nodes\")\n",
    "ax[0].set_title(\"Test Accuracy by Method\")\n",
    "ax[1].bar(to_plot['method'],  to_plot['total_accuracy'], yerr= to_plot['total_sd'], align='center')\n",
    "ax[1].set_xlabel(\"Tool\")\n",
    "ax[1].set_ylabel(\"Accuracy on All Nodes\")\n",
    "ax[1].set_title(\"Total Accuracy by Method\")"
   ]
  },
  {
   "cell_type": "code",
   "execution_count": 41,
   "id": "a4d006c3",
   "metadata": {},
   "outputs": [
    {
     "name": "stdout",
     "output_type": "stream",
     "text": [
      "Loss in epoch 0 = 60.833565\n",
      "Loss in epoch 10 = 3.289579\n",
      "Loss in epoch 20 = 2.714696\n",
      "Loss in epoch 30 = 2.586753\n",
      "Loss in epoch 40 = 1.016582\n",
      "Loss in epoch 50 = 1.111073\n",
      "Loss in epoch 60 = 0.704361\n",
      "Loss in epoch 70 = 2.521739\n",
      "Loss in epoch 80 = 1.532788\n",
      "Loss in epoch 90 = 0.627218\n",
      "Loss in epoch 100 = 1.008951\n",
      "Loss in epoch 110 = 0.037879\n",
      "Loss in epoch 120 = 0.903825\n",
      "Loss in epoch 130 = 1.738802\n",
      "Loss in epoch 140 = 0.451237\n",
      "Loss in epoch 150 = 0.866064\n",
      "Loss in epoch 160 = 0.612220\n",
      "Loss in epoch 170 = 2.263684\n",
      "Loss in epoch 180 = 0.638509\n",
      "Loss in epoch 190 = 0.950536\n"
     ]
    }
   ],
   "source": [
    "data_path = \"/home/groups/ConradLab/daniel/sharp_data/pbmc_test/counts.csv\"\n",
    "tool_preds = \"/home/groups/ConradLab/daniel/sharp_data/pbmc_test/preds.csv\"\n",
    "#tool_list = [\"scina\", \"scsorter\", \"sctype\", \"singler\", \"scpred\"]\n",
    "tool_list = [\"scina\", \"scsorter\", \"sctype\"]\n",
    "marker_path = \"/home/groups/ConradLab/daniel/sharp_data/pbmc_test/markers.txt\"\n",
    "neighbors=5\n",
    "config=\"configs/2_40.txt\"\n",
    "sharp = scSHARP(data_path, tool_preds, tool_list, marker_path, neighbors, config, ncells=15000)\n",
    "#sharp.load_model(\"pbmc_test_trained_model_8_markers_only\")\n",
    "preds, train_nodes, test_nodes, keep_cells = sharp.run_prediction(training_epochs=200, thresh=0.51, batch_size=50, seed=8)"
   ]
  },
  {
   "cell_type": "code",
   "execution_count": 42,
   "id": "e92f3b6e",
   "metadata": {},
   "outputs": [
    {
     "name": "stdout",
     "output_type": "stream",
     "text": [
      "Index(['b_cells', 'cd14_monocytes', 'cd4_t_cell', 'cd56_nk', 'cd8_t_cell'], dtype='object')\n"
     ]
    },
    {
     "data": {
      "text/plain": [
       "(14994,)"
      ]
     },
     "execution_count": 42,
     "metadata": {},
     "output_type": "execute_result"
    }
   ],
   "source": [
    "meta_path = \"/home/groups/ConradLab/daniel/sharp_data/pbmc_test/labels_cd4-8.csv\"\n",
    "metadata = pd.read_csv(meta_path, index_col=0, nrows=15000)\n",
    "real_y, names = pd.factorize(metadata.iloc[:,0], sort=True)\n",
    "print(names)\n",
    "real_y = real_y[keep_cells]\n",
    "real_y.shape"
   ]
  },
  {
   "cell_type": "code",
   "execution_count": 43,
   "id": "07718a3d",
   "metadata": {},
   "outputs": [
    {
     "data": {
      "text/plain": [
       "tensor([4, 3, 2,  ..., 4, 2, 4], device='cuda:0')"
      ]
     },
     "execution_count": 43,
     "metadata": {},
     "output_type": "execute_result"
    }
   ],
   "source": [
    "preds[train_nodes]"
   ]
  },
  {
   "cell_type": "code",
   "execution_count": 32,
   "id": "a386b414",
   "metadata": {},
   "outputs": [
    {
     "data": {
      "text/plain": [
       "array([4, 3, 2, ..., 4, 4, 2])"
      ]
     },
     "execution_count": 32,
     "metadata": {},
     "output_type": "execute_result"
    }
   ],
   "source": [
    "real_y[train_nodes]"
   ]
  },
  {
   "cell_type": "code",
   "execution_count": 44,
   "id": "aa5f4e58",
   "metadata": {},
   "outputs": [
    {
     "data": {
      "text/plain": [
       "(0.9634520411491394,\n",
       " array([[1748,    0,    0,    0,    0],\n",
       "        [   5,  428,    4,    2,    0],\n",
       "        [   6,   15, 7211,    2,  162],\n",
       "        [   4,    1,    9, 1473,    6],\n",
       "        [   3,    0,  319,   10, 3586]]),\n",
       " 0.9644217491149902,\n",
       " array([[1748,    0,    0,    0,    0],\n",
       "        [   5,  405,    4,    1,    0],\n",
       "        [   6,   13, 6348,    2,  133],\n",
       "        [   4,    1,    9, 1395,    5],\n",
       "        [   3,    0,  302,    7, 3522]]),\n",
       " 0.9509713053703308,\n",
       " array([[ 23,   0,   1,   0],\n",
       "        [  2, 863,   0,  29],\n",
       "        [  0,   0,  78,   1],\n",
       "        [  0,  17,   3,  64]]))"
      ]
     },
     "execution_count": 44,
     "metadata": {},
     "output_type": "execute_result"
    }
   ],
   "source": [
    "utilities.validation_metrics(torch.tensor(real_y), preds.cpu(), train_nodes, test_nodes)"
   ]
  },
  {
   "cell_type": "code",
   "execution_count": 45,
   "id": "61dbf253",
   "metadata": {
    "scrolled": false
   },
   "outputs": [
    {
     "name": "stderr",
     "output_type": "stream",
     "text": [
      "/home/users/lewinsda/.conda/envs/daniel_thesis_2/lib/python3.9/site-packages/captum/_utils/gradient.py:57: UserWarning: Input Tensor 0 did not already require gradients, required_grads has been set automatically.\n",
      "  warnings.warn(\n",
      "/home/users/lewinsda/.conda/envs/daniel_thesis_2/lib/python3.9/site-packages/captum/attr/_core/deep_lift.py:336: UserWarning: Setting forward, backward hooks and attributes on non-linear\n",
      "               activations. The hooks and attributes will be removed\n",
      "            after the attribution is finished\n",
      "  warnings.warn(\n"
     ]
    },
    {
     "data": {
      "text/html": [
       "<div>\n",
       "<style scoped>\n",
       "    .dataframe tbody tr th:only-of-type {\n",
       "        vertical-align: middle;\n",
       "    }\n",
       "\n",
       "    .dataframe tbody tr th {\n",
       "        vertical-align: top;\n",
       "    }\n",
       "\n",
       "    .dataframe thead th {\n",
       "        text-align: right;\n",
       "    }\n",
       "</style>\n",
       "<table border=\"1\" class=\"dataframe\">\n",
       "  <thead>\n",
       "    <tr style=\"text-align: right;\">\n",
       "      <th></th>\n",
       "      <th>b_cells</th>\n",
       "      <th>cd14_monocytes</th>\n",
       "      <th>cd4_t_cell</th>\n",
       "      <th>cd56_nk</th>\n",
       "      <th>cd8_t_cell</th>\n",
       "    </tr>\n",
       "  </thead>\n",
       "  <tbody>\n",
       "    <tr>\n",
       "      <th>AL627309.1</th>\n",
       "      <td>-0.167514</td>\n",
       "      <td>0.509929</td>\n",
       "      <td>-0.646798</td>\n",
       "      <td>0.452028</td>\n",
       "      <td>-0.435276</td>\n",
       "    </tr>\n",
       "    <tr>\n",
       "      <th>RP11-206L10.2</th>\n",
       "      <td>-0.454765</td>\n",
       "      <td>-0.033668</td>\n",
       "      <td>-0.549075</td>\n",
       "      <td>1.215869</td>\n",
       "      <td>0.080810</td>\n",
       "    </tr>\n",
       "    <tr>\n",
       "      <th>RP11-206L10.9</th>\n",
       "      <td>0.073451</td>\n",
       "      <td>0.072033</td>\n",
       "      <td>0.180408</td>\n",
       "      <td>-0.204979</td>\n",
       "      <td>-0.105984</td>\n",
       "    </tr>\n",
       "    <tr>\n",
       "      <th>LINC00115</th>\n",
       "      <td>-0.209631</td>\n",
       "      <td>-0.189203</td>\n",
       "      <td>-0.605565</td>\n",
       "      <td>0.152625</td>\n",
       "      <td>0.299449</td>\n",
       "    </tr>\n",
       "    <tr>\n",
       "      <th>FAM41C</th>\n",
       "      <td>0.064508</td>\n",
       "      <td>0.039802</td>\n",
       "      <td>-0.029637</td>\n",
       "      <td>-0.075548</td>\n",
       "      <td>-0.078613</td>\n",
       "    </tr>\n",
       "    <tr>\n",
       "      <th>...</th>\n",
       "      <td>...</td>\n",
       "      <td>...</td>\n",
       "      <td>...</td>\n",
       "      <td>...</td>\n",
       "      <td>...</td>\n",
       "    </tr>\n",
       "    <tr>\n",
       "      <th>AC011841.1</th>\n",
       "      <td>-0.137589</td>\n",
       "      <td>0.040664</td>\n",
       "      <td>-0.064072</td>\n",
       "      <td>0.200644</td>\n",
       "      <td>0.036142</td>\n",
       "    </tr>\n",
       "    <tr>\n",
       "      <th>AL354822.1</th>\n",
       "      <td>0.045645</td>\n",
       "      <td>-0.084721</td>\n",
       "      <td>-0.069796</td>\n",
       "      <td>-0.009400</td>\n",
       "      <td>0.026364</td>\n",
       "    </tr>\n",
       "    <tr>\n",
       "      <th>KIR2DL2</th>\n",
       "      <td>-0.211995</td>\n",
       "      <td>-0.135891</td>\n",
       "      <td>-0.241834</td>\n",
       "      <td>0.496279</td>\n",
       "      <td>0.167367</td>\n",
       "    </tr>\n",
       "    <tr>\n",
       "      <th>PNRC2.1</th>\n",
       "      <td>0.036464</td>\n",
       "      <td>-0.226860</td>\n",
       "      <td>-0.198929</td>\n",
       "      <td>0.481555</td>\n",
       "      <td>-0.150435</td>\n",
       "    </tr>\n",
       "    <tr>\n",
       "      <th>SRSF10.1</th>\n",
       "      <td>-0.938936</td>\n",
       "      <td>1.001351</td>\n",
       "      <td>0.785373</td>\n",
       "      <td>-0.205795</td>\n",
       "      <td>0.566033</td>\n",
       "    </tr>\n",
       "  </tbody>\n",
       "</table>\n",
       "<p>15011 rows × 5 columns</p>\n",
       "</div>"
      ],
      "text/plain": [
       "                b_cells  cd14_monocytes  cd4_t_cell   cd56_nk  cd8_t_cell\n",
       "AL627309.1    -0.167514        0.509929   -0.646798  0.452028   -0.435276\n",
       "RP11-206L10.2 -0.454765       -0.033668   -0.549075  1.215869    0.080810\n",
       "RP11-206L10.9  0.073451        0.072033    0.180408 -0.204979   -0.105984\n",
       "LINC00115     -0.209631       -0.189203   -0.605565  0.152625    0.299449\n",
       "FAM41C         0.064508        0.039802   -0.029637 -0.075548   -0.078613\n",
       "...                 ...             ...         ...       ...         ...\n",
       "AC011841.1    -0.137589        0.040664   -0.064072  0.200644    0.036142\n",
       "AL354822.1     0.045645       -0.084721   -0.069796 -0.009400    0.026364\n",
       "KIR2DL2       -0.211995       -0.135891   -0.241834  0.496279    0.167367\n",
       "PNRC2.1        0.036464       -0.226860   -0.198929  0.481555   -0.150435\n",
       "SRSF10.1      -0.938936        1.001351    0.785373 -0.205795    0.566033\n",
       "\n",
       "[15011 rows x 5 columns]"
      ]
     },
     "execution_count": 45,
     "metadata": {},
     "output_type": "execute_result"
    }
   ],
   "source": [
    "int_df = sharp.run_interpretation()\n",
    "int_df"
   ]
  },
  {
   "cell_type": "code",
   "execution_count": 39,
   "id": "fd8883e7",
   "metadata": {},
   "outputs": [
    {
     "name": "stderr",
     "output_type": "stream",
     "text": [
      "/home/users/lewinsda/.conda/envs/daniel_thesis_2/lib/python3.9/site-packages/sklearn/preprocessing/_data.py:235: UserWarning: Numerical issues were encountered when centering the data and might not be solved. Dataset may contain too large values. You may need to prescale your features.\n",
      "  warnings.warn(\n",
      "/home/users/lewinsda/.conda/envs/daniel_thesis_2/lib/python3.9/site-packages/sklearn/preprocessing/_data.py:254: UserWarning: Numerical issues were encountered when scaling the data and might not be solved. The standard deviation of the data is probably very close to 0. \n",
      "  warnings.warn(\n"
     ]
    },
    {
     "data": {
      "text/plain": [
       "7.707473410558882e-09"
      ]
     },
     "execution_count": 39,
     "metadata": {},
     "output_type": "execute_result"
    }
   ],
   "source": [
    "scale_int_df = pd.DataFrame(preprocessing.scale(int_df))\n",
    "scale_int_df.columns = int_df.columns\n",
    "scale_int_df.index = int_df.index\n",
    "statistics.mean(scale_int_df.iloc[:,0])"
   ]
  },
  {
   "cell_type": "code",
   "execution_count": null,
   "id": "29cf3d0a",
   "metadata": {},
   "outputs": [],
   "source": [
    "keep_genes = scale_int_df.sort_values('b_cells', ascending=False).head(4).index.tolist()\n",
    "keep_genes += scale_int_df.sort_values('cd14_monocytes', ascending=False).head(4).index.tolist()\n",
    "keep_genes += scale_int_df.sort_values(\"cd4_t_cell\", ascending=False).head(4).index.tolist()\n",
    "keep_genes += scale_int_df.sort_values(\"cd56_nk\", ascending=False).head(4).index.tolist()\n",
    "keep_genes += scale_int_df.sort_values(\"cd8_t_cell\", ascending=False).head(4).index.tolist()\n",
    "ax = sns.heatmap(scale_int_df.loc[keep_genes,:])\n",
    "ax.set(xlabel=\"Cell Type\")"
   ]
  },
  {
   "cell_type": "code",
   "execution_count": 40,
   "id": "3f86c604",
   "metadata": {},
   "outputs": [
    {
     "data": {
      "text/plain": [
       "[Text(0.5, 14.09375, 'Cell Type')]"
      ]
     },
     "execution_count": 40,
     "metadata": {},
     "output_type": "execute_result"
    },
    {
     "data": {
      "image/png": "[encoded data removed]",
      "text/plain": [
       "<Figure size 432x288 with 2 Axes>"
      ]
     },
     "metadata": {
      "needs_background": "light"
     },
     "output_type": "display_data"
    }
   ],
   "source": [
    "keep_genes = scale_int_df.sort_values('b_cells', ascending=False).head(4).index.tolist()\n",
    "keep_genes += scale_int_df.sort_values('cd14_monocytes', ascending=False).head(4).index.tolist()\n",
    "keep_genes += scale_int_df.sort_values(\"cd4_t_cell\", ascending=False).head(4).index.tolist()\n",
    "keep_genes += scale_int_df.sort_values(\"cd56_nk\", ascending=False).head(4).index.tolist()\n",
    "keep_genes += scale_int_df.sort_values(\"cd8_t_cell\", ascending=False).head(4).index.tolist()\n",
    "ax = sns.heatmap(scale_int_df.loc[keep_genes,:])\n",
    "ax.set(xlabel=\"Cell Type\")"
   ]
  },
  {
   "cell_type": "code",
   "execution_count": 8,
   "id": "78adaa49",
   "metadata": {},
   "outputs": [
    {
     "data": {
      "text/plain": [
       "-2.2508155923315823e-18"
      ]
     },
     "execution_count": 8,
     "metadata": {},
     "output_type": "execute_result"
    }
   ],
   "source": [
    "int_df = pd.read_csv(\"pbmc_test_interpretation_markers_only_3_test.csv\", index_col=0)\n",
    "\n",
    "scale_int_df = pd.DataFrame(preprocessing.scale(int_df))\n",
    "scale_int_df.columns = int_df.columns\n",
    "scale_int_df.index = int_df.index\n",
    "statistics.mean(scale_int_df.iloc[:,0])\n",
    "\n"
   ]
  },
  {
   "cell_type": "code",
   "execution_count": 9,
   "id": "1d2e8cca",
   "metadata": {},
   "outputs": [
    {
     "data": {
      "text/plain": [
       "[Text(0.5, 14.09375, 'Cell Type')]"
      ]
     },
     "execution_count": 9,
     "metadata": {},
     "output_type": "execute_result"
    },
    {
     "data": {
      "image/png": "[encoded data removed]",
      "text/plain": [
       "<Figure size 432x288 with 2 Axes>"
      ]
     },
     "metadata": {
      "needs_background": "light"
     },
     "output_type": "display_data"
    }
   ],
   "source": [
    "keep_genes = scale_int_df.sort_values('b_cells', ascending=False).head(4).index.tolist()\n",
    "keep_genes += scale_int_df.sort_values('cd14_monocytes', ascending=False).head(4).index.tolist()\n",
    "keep_genes += scale_int_df.sort_values(\"cd4_t_cell\", ascending=False).head(4).index.tolist()\n",
    "keep_genes += scale_int_df.sort_values(\"cd56_nk\", ascending=False).head(4).index.tolist()\n",
    "keep_genes += scale_int_df.sort_values(\"cd8_t_cell\", ascending=False).head(4).index.tolist()\n",
    "ax = sns.heatmap(scale_int_df.loc[keep_genes,:])\n",
    "ax.set(xlabel=\"Cell Type\")"
   ]
  },
  {
   "cell_type": "code",
   "execution_count": 10,
   "id": "b8d98ea4",
   "metadata": {},
   "outputs": [
    {
     "data": {
      "text/html": [
       "<div>\n",
       "<style scoped>\n",
       "    .dataframe tbody tr th:only-of-type {\n",
       "        vertical-align: middle;\n",
       "    }\n",
       "\n",
       "    .dataframe tbody tr th {\n",
       "        vertical-align: top;\n",
       "    }\n",
       "\n",
       "    .dataframe thead th {\n",
       "        text-align: right;\n",
       "    }\n",
       "</style>\n",
       "<table border=\"1\" class=\"dataframe\">\n",
       "  <thead>\n",
       "    <tr style=\"text-align: right;\">\n",
       "      <th></th>\n",
       "      <th>b_cells</th>\n",
       "      <th>cd14_monocytes</th>\n",
       "      <th>cd4_t_cell</th>\n",
       "      <th>cd56_nk</th>\n",
       "      <th>cd8_t_cell</th>\n",
       "    </tr>\n",
       "  </thead>\n",
       "  <tbody>\n",
       "    <tr>\n",
       "      <th>CD8B</th>\n",
       "      <td>116.919040</td>\n",
       "      <td>358.929600</td>\n",
       "      <td>-147.206620</td>\n",
       "      <td>-18.925385</td>\n",
       "      <td>124.414215</td>\n",
       "    </tr>\n",
       "    <tr>\n",
       "      <th>IL32</th>\n",
       "      <td>-165.416030</td>\n",
       "      <td>-57.823532</td>\n",
       "      <td>111.105740</td>\n",
       "      <td>-27.692883</td>\n",
       "      <td>88.988260</td>\n",
       "    </tr>\n",
       "    <tr>\n",
       "      <th>LDHB</th>\n",
       "      <td>-205.930910</td>\n",
       "      <td>-126.854160</td>\n",
       "      <td>148.440220</td>\n",
       "      <td>-17.960610</td>\n",
       "      <td>87.202644</td>\n",
       "    </tr>\n",
       "    <tr>\n",
       "      <th>CD3D</th>\n",
       "      <td>-293.104000</td>\n",
       "      <td>-151.931690</td>\n",
       "      <td>120.630684</td>\n",
       "      <td>-123.482510</td>\n",
       "      <td>74.442250</td>\n",
       "    </tr>\n",
       "    <tr>\n",
       "      <th>NOSIP</th>\n",
       "      <td>-97.290630</td>\n",
       "      <td>-22.179750</td>\n",
       "      <td>75.798310</td>\n",
       "      <td>8.495882</td>\n",
       "      <td>62.313904</td>\n",
       "    </tr>\n",
       "    <tr>\n",
       "      <th>GIMAP7</th>\n",
       "      <td>-106.635840</td>\n",
       "      <td>-31.903704</td>\n",
       "      <td>84.297780</td>\n",
       "      <td>63.724937</td>\n",
       "      <td>61.641838</td>\n",
       "    </tr>\n",
       "    <tr>\n",
       "      <th>CD52</th>\n",
       "      <td>19.251904</td>\n",
       "      <td>-1.410357</td>\n",
       "      <td>60.302110</td>\n",
       "      <td>-75.358246</td>\n",
       "      <td>59.893510</td>\n",
       "    </tr>\n",
       "    <tr>\n",
       "      <th>TMEM66</th>\n",
       "      <td>-125.063416</td>\n",
       "      <td>-70.445830</td>\n",
       "      <td>73.557590</td>\n",
       "      <td>-1.597341</td>\n",
       "      <td>59.522910</td>\n",
       "    </tr>\n",
       "    <tr>\n",
       "      <th>NPM1</th>\n",
       "      <td>-45.055637</td>\n",
       "      <td>9.094661</td>\n",
       "      <td>35.506110</td>\n",
       "      <td>2.744280</td>\n",
       "      <td>58.391846</td>\n",
       "    </tr>\n",
       "    <tr>\n",
       "      <th>RGS10</th>\n",
       "      <td>-68.801735</td>\n",
       "      <td>21.322762</td>\n",
       "      <td>21.775013</td>\n",
       "      <td>0.262756</td>\n",
       "      <td>55.466507</td>\n",
       "    </tr>\n",
       "    <tr>\n",
       "      <th>HSPA8</th>\n",
       "      <td>-79.165405</td>\n",
       "      <td>-62.555580</td>\n",
       "      <td>79.868790</td>\n",
       "      <td>45.298630</td>\n",
       "      <td>54.899864</td>\n",
       "    </tr>\n",
       "    <tr>\n",
       "      <th>PABPC1</th>\n",
       "      <td>-56.720100</td>\n",
       "      <td>-33.657475</td>\n",
       "      <td>67.400100</td>\n",
       "      <td>-1.528992</td>\n",
       "      <td>54.534410</td>\n",
       "    </tr>\n",
       "    <tr>\n",
       "      <th>CD8A</th>\n",
       "      <td>55.032940</td>\n",
       "      <td>161.640750</td>\n",
       "      <td>-69.565315</td>\n",
       "      <td>-5.057396</td>\n",
       "      <td>54.363870</td>\n",
       "    </tr>\n",
       "    <tr>\n",
       "      <th>BTG1</th>\n",
       "      <td>-51.915960</td>\n",
       "      <td>-85.467520</td>\n",
       "      <td>75.983240</td>\n",
       "      <td>9.820171</td>\n",
       "      <td>54.033400</td>\n",
       "    </tr>\n",
       "    <tr>\n",
       "      <th>RPL4</th>\n",
       "      <td>-80.766690</td>\n",
       "      <td>-63.013866</td>\n",
       "      <td>76.025390</td>\n",
       "      <td>-21.634940</td>\n",
       "      <td>53.493282</td>\n",
       "    </tr>\n",
       "  </tbody>\n",
       "</table>\n",
       "</div>"
      ],
      "text/plain": [
       "           b_cells  cd14_monocytes  cd4_t_cell     cd56_nk  cd8_t_cell\n",
       "CD8B    116.919040      358.929600 -147.206620  -18.925385  124.414215\n",
       "IL32   -165.416030      -57.823532  111.105740  -27.692883   88.988260\n",
       "LDHB   -205.930910     -126.854160  148.440220  -17.960610   87.202644\n",
       "CD3D   -293.104000     -151.931690  120.630684 -123.482510   74.442250\n",
       "NOSIP   -97.290630      -22.179750   75.798310    8.495882   62.313904\n",
       "GIMAP7 -106.635840      -31.903704   84.297780   63.724937   61.641838\n",
       "CD52     19.251904       -1.410357   60.302110  -75.358246   59.893510\n",
       "TMEM66 -125.063416      -70.445830   73.557590   -1.597341   59.522910\n",
       "NPM1    -45.055637        9.094661   35.506110    2.744280   58.391846\n",
       "RGS10   -68.801735       21.322762   21.775013    0.262756   55.466507\n",
       "HSPA8   -79.165405      -62.555580   79.868790   45.298630   54.899864\n",
       "PABPC1  -56.720100      -33.657475   67.400100   -1.528992   54.534410\n",
       "CD8A     55.032940      161.640750  -69.565315   -5.057396   54.363870\n",
       "BTG1    -51.915960      -85.467520   75.983240    9.820171   54.033400\n",
       "RPL4    -80.766690      -63.013866   76.025390  -21.634940   53.493282"
      ]
     },
     "execution_count": 10,
     "metadata": {},
     "output_type": "execute_result"
    }
   ],
   "source": [
    "int_df.sort_values(\"cd8_t_cell\", ascending=False).head(15)"
   ]
  },
  {
   "cell_type": "code",
   "execution_count": 12,
   "id": "ce264e10",
   "metadata": {},
   "outputs": [
    {
     "data": {
      "text/plain": [
       "CD8B      195.379651\n",
       "CTSW      136.848256\n",
       "CCL5      113.952810\n",
       "HCST       95.061545\n",
       "CD8A       89.288700\n",
       "             ...    \n",
       "CORO1B    -58.203480\n",
       "CD3E      -62.557420\n",
       "FTH1      -67.799429\n",
       "S100A4    -70.289234\n",
       "LTB       -84.600580\n",
       "Length: 17980, dtype: float64"
      ]
     },
     "execution_count": 12,
     "metadata": {},
     "output_type": "execute_result"
    }
   ],
   "source": [
    "(int_df['cd8_t_cell'] - int_df[\"cd4_t_cell\"]).sort_values(ascending=False)"
   ]
  },
  {
   "cell_type": "code",
   "execution_count": 13,
   "id": "a1815e85",
   "metadata": {},
   "outputs": [
    {
     "data": {
      "text/plain": [
       "b_cells           10.709266\n",
       "cd14_monocytes    92.354900\n",
       "cd4_t_cell       -93.201584\n",
       "cd56_nk           21.603033\n",
       "cd8_t_cell        -3.912884\n",
       "Name: CD8A, dtype: float64"
      ]
     },
     "execution_count": 13,
     "metadata": {},
     "output_type": "execute_result"
    }
   ],
   "source": [
    "int_df.sort_values(\"cd8_t_cell\", ascending=False).loc[\"CD8A\",:]"
   ]
  }
 ],
 "metadata": {
  "kernelspec": {
   "display_name": "daniel_thesis",
   "language": "python",
   "name": "daniel_thesis_2"
  },
  "language_info": {
   "codemirror_mode": {
    "name": "ipython",
    "version": 3
   },
   "file_extension": ".py",
   "mimetype": "text/x-python",
   "name": "python",
   "nbconvert_exporter": "python",
   "pygments_lexer": "ipython3",
   "version": "3.9.7"
  }
 },
 "nbformat": 4,
 "nbformat_minor": 5
}
