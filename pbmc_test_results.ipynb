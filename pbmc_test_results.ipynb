{
 "cells": [
  {
   "cell_type": "code",
   "execution_count": 1,
   "id": "8f3ce6b4",
   "metadata": {},
   "outputs": [
    {
     "name": "stderr",
     "output_type": "stream",
     "text": [
      "/home/users/lewinsda/.conda/envs/daniel_thesis_2/lib/python3.9/site-packages/tqdm/auto.py:22: TqdmWarning: IProgress not found. Please update jupyter and ipywidgets. See https://ipywidgets.readthedocs.io/en/stable/user_install.html\n",
      "  from .autonotebook import tqdm as notebook_tqdm\n"
     ]
    }
   ],
   "source": [
    "import numpy as np\n",
    "import pandas as pd\n",
    "import torch\n",
    "from sc_sharp import scSHARP\n",
    "from test_model import test_model\n",
    "import utilities\n",
    "import matplotlib.pyplot as plt\n",
    "import seaborn as sns\n",
    "from sklearn import preprocessing\n",
    "import statistics"
   ]
  },
  {
   "cell_type": "code",
   "execution_count": 7,
   "id": "457e908d",
   "metadata": {},
   "outputs": [
    {
     "data": {
      "text/html": [
       "<div>\n",
       "<style scoped>\n",
       "    .dataframe tbody tr th:only-of-type {\n",
       "        vertical-align: middle;\n",
       "    }\n",
       "\n",
       "    .dataframe tbody tr th {\n",
       "        vertical-align: top;\n",
       "    }\n",
       "\n",
       "    .dataframe thead th {\n",
       "        text-align: right;\n",
       "    }\n",
       "</style>\n",
       "<table border=\"1\" class=\"dataframe\">\n",
       "  <thead>\n",
       "    <tr style=\"text-align: right;\">\n",
       "      <th></th>\n",
       "      <th>Total Accuracy</th>\n",
       "      <th>Val Accuracy</th>\n",
       "      <th>Test Accuracy</th>\n",
       "      <th>Total SD</th>\n",
       "      <th>Val SD</th>\n",
       "      <th>Test SD</th>\n",
       "      <th>Config</th>\n",
       "      <th>Dropout</th>\n",
       "      <th>Batch</th>\n",
       "      <th>Neighbors</th>\n",
       "      <th>GCN Layers</th>\n",
       "      <th>Final Embedding</th>\n",
       "    </tr>\n",
       "    <tr>\n",
       "      <th>0</th>\n",
       "      <th></th>\n",
       "      <th></th>\n",
       "      <th></th>\n",
       "      <th></th>\n",
       "      <th></th>\n",
       "      <th></th>\n",
       "      <th></th>\n",
       "      <th></th>\n",
       "      <th></th>\n",
       "      <th></th>\n",
       "      <th></th>\n",
       "      <th></th>\n",
       "    </tr>\n",
       "  </thead>\n",
       "  <tbody>\n",
       "    <tr>\n",
       "      <th>7</th>\n",
       "      <td>0.960198</td>\n",
       "      <td>0.942359</td>\n",
       "      <td>0.0</td>\n",
       "      <td>0.000491</td>\n",
       "      <td>0.002528</td>\n",
       "      <td>0.0</td>\n",
       "      <td>2_25.txt</td>\n",
       "      <td>0.0</td>\n",
       "      <td>50</td>\n",
       "      <td>2</td>\n",
       "      <td>2</td>\n",
       "      <td>25</td>\n",
       "    </tr>\n",
       "    <tr>\n",
       "      <th>97</th>\n",
       "      <td>0.960016</td>\n",
       "      <td>0.941421</td>\n",
       "      <td>0.0</td>\n",
       "      <td>0.000614</td>\n",
       "      <td>0.003163</td>\n",
       "      <td>0.0</td>\n",
       "      <td>2_40.txt</td>\n",
       "      <td>0.0</td>\n",
       "      <td>50</td>\n",
       "      <td>2</td>\n",
       "      <td>2</td>\n",
       "      <td>40</td>\n",
       "    </tr>\n",
       "    <tr>\n",
       "      <th>162</th>\n",
       "      <td>0.959990</td>\n",
       "      <td>0.941287</td>\n",
       "      <td>0.0</td>\n",
       "      <td>0.000891</td>\n",
       "      <td>0.004592</td>\n",
       "      <td>0.0</td>\n",
       "      <td>2_60.txt</td>\n",
       "      <td>0.0</td>\n",
       "      <td>95</td>\n",
       "      <td>10</td>\n",
       "      <td>2</td>\n",
       "      <td>60</td>\n",
       "    </tr>\n",
       "    <tr>\n",
       "      <th>8</th>\n",
       "      <td>0.959964</td>\n",
       "      <td>0.941153</td>\n",
       "      <td>0.0</td>\n",
       "      <td>0.000730</td>\n",
       "      <td>0.003762</td>\n",
       "      <td>0.0</td>\n",
       "      <td>2_25.txt</td>\n",
       "      <td>0.0</td>\n",
       "      <td>50</td>\n",
       "      <td>5</td>\n",
       "      <td>2</td>\n",
       "      <td>25</td>\n",
       "    </tr>\n",
       "    <tr>\n",
       "      <th>155</th>\n",
       "      <td>0.959886</td>\n",
       "      <td>0.940751</td>\n",
       "      <td>0.0</td>\n",
       "      <td>0.000874</td>\n",
       "      <td>0.004504</td>\n",
       "      <td>0.0</td>\n",
       "      <td>2_60.txt</td>\n",
       "      <td>0.0</td>\n",
       "      <td>65</td>\n",
       "      <td>5</td>\n",
       "      <td>2</td>\n",
       "      <td>60</td>\n",
       "    </tr>\n",
       "    <tr>\n",
       "      <th>152</th>\n",
       "      <td>0.959833</td>\n",
       "      <td>0.940483</td>\n",
       "      <td>0.0</td>\n",
       "      <td>0.000707</td>\n",
       "      <td>0.003641</td>\n",
       "      <td>0.0</td>\n",
       "      <td>2_60.txt</td>\n",
       "      <td>0.0</td>\n",
       "      <td>50</td>\n",
       "      <td>5</td>\n",
       "      <td>2</td>\n",
       "      <td>60</td>\n",
       "    </tr>\n",
       "    <tr>\n",
       "      <th>143</th>\n",
       "      <td>0.959781</td>\n",
       "      <td>0.940214</td>\n",
       "      <td>0.0</td>\n",
       "      <td>0.000509</td>\n",
       "      <td>0.002621</td>\n",
       "      <td>0.0</td>\n",
       "      <td>2_15.txt</td>\n",
       "      <td>0.0</td>\n",
       "      <td>95</td>\n",
       "      <td>5</td>\n",
       "      <td>2</td>\n",
       "      <td>15</td>\n",
       "    </tr>\n",
       "    <tr>\n",
       "      <th>16</th>\n",
       "      <td>0.959755</td>\n",
       "      <td>0.940080</td>\n",
       "      <td>0.0</td>\n",
       "      <td>0.000476</td>\n",
       "      <td>0.002451</td>\n",
       "      <td>0.0</td>\n",
       "      <td>2_25.txt</td>\n",
       "      <td>0.0</td>\n",
       "      <td>95</td>\n",
       "      <td>2</td>\n",
       "      <td>2</td>\n",
       "      <td>25</td>\n",
       "    </tr>\n",
       "    <tr>\n",
       "      <th>9</th>\n",
       "      <td>0.958767</td>\n",
       "      <td>0.939946</td>\n",
       "      <td>0.0</td>\n",
       "      <td>0.003307</td>\n",
       "      <td>0.005680</td>\n",
       "      <td>0.0</td>\n",
       "      <td>2_25.txt</td>\n",
       "      <td>0.0</td>\n",
       "      <td>50</td>\n",
       "      <td>10</td>\n",
       "      <td>2</td>\n",
       "      <td>25</td>\n",
       "    </tr>\n",
       "    <tr>\n",
       "      <th>148</th>\n",
       "      <td>0.959729</td>\n",
       "      <td>0.939946</td>\n",
       "      <td>0.0</td>\n",
       "      <td>0.000487</td>\n",
       "      <td>0.002512</td>\n",
       "      <td>0.0</td>\n",
       "      <td>2_60.txt</td>\n",
       "      <td>0.0</td>\n",
       "      <td>35</td>\n",
       "      <td>2</td>\n",
       "      <td>2</td>\n",
       "      <td>60</td>\n",
       "    </tr>\n",
       "  </tbody>\n",
       "</table>\n",
       "</div>"
      ],
      "text/plain": [
       "     Total Accuracy  Val Accuracy  Test Accuracy  Total SD    Val SD  Test SD  \\\n",
       "0                                                                               \n",
       "7          0.960198      0.942359            0.0  0.000491  0.002528      0.0   \n",
       "97         0.960016      0.941421            0.0  0.000614  0.003163      0.0   \n",
       "162        0.959990      0.941287            0.0  0.000891  0.004592      0.0   \n",
       "8          0.959964      0.941153            0.0  0.000730  0.003762      0.0   \n",
       "155        0.959886      0.940751            0.0  0.000874  0.004504      0.0   \n",
       "152        0.959833      0.940483            0.0  0.000707  0.003641      0.0   \n",
       "143        0.959781      0.940214            0.0  0.000509  0.002621      0.0   \n",
       "16         0.959755      0.940080            0.0  0.000476  0.002451      0.0   \n",
       "9          0.958767      0.939946            0.0  0.003307  0.005680      0.0   \n",
       "148        0.959729      0.939946            0.0  0.000487  0.002512      0.0   \n",
       "\n",
       "       Config  Dropout  Batch  Neighbors  GCN Layers  Final Embedding  \n",
       "0                                                                      \n",
       "7    2_25.txt      0.0     50          2           2               25  \n",
       "97   2_40.txt      0.0     50          2           2               40  \n",
       "162  2_60.txt      0.0     95         10           2               60  \n",
       "8    2_25.txt      0.0     50          5           2               25  \n",
       "155  2_60.txt      0.0     65          5           2               60  \n",
       "152  2_60.txt      0.0     50          5           2               60  \n",
       "143  2_15.txt      0.0     95          5           2               15  \n",
       "16   2_25.txt      0.0     95          2           2               25  \n",
       "9    2_25.txt      0.0     50         10           2               25  \n",
       "148  2_60.txt      0.0     35          2           2               60  "
      ]
     },
     "execution_count": 7,
     "metadata": {},
     "output_type": "execute_result"
    }
   ],
   "source": [
    "grid_results = pd.read_csv(\"grid_search_pbmc_output/combined.csv\", header=None, index_col=0)\n",
    "grid_results.columns = [\"Total Accuracy\", \"Val Accuracy\", \"Test Accuracy\", \"Total SD\", \"Val SD\", \"Test SD\", \"Config\", \"Dropout\", \"Batch\", \"Neighbors\"]\n",
    "grid_results['GCN Layers'] = grid_results['Config'].apply(lambda x: x.split('_')[0])\n",
    "grid_results['Final Embedding'] = grid_results['Config'].apply(lambda x: x.split('_')[1].split(\".\")[0])\n",
    "grid_results['GCN Layers'] = pd.to_numeric(grid_results['GCN Layers'])\n",
    "grid_results['Final Embedding'] = pd.to_numeric(grid_results['Final Embedding'])\n",
    "grid_results.sort_values(\"Val Accuracy\", ascending=False).head(10)"
   ]
  },
  {
   "cell_type": "code",
   "execution_count": 3,
   "id": "0f1acca6",
   "metadata": {},
   "outputs": [
    {
     "data": {
      "text/plain": [
       "set()"
      ]
     },
     "execution_count": 3,
     "metadata": {},
     "output_type": "execute_result"
    }
   ],
   "source": [
    "set(range(1,217))-set(grid_results.index.to_numpy())"
   ]
  },
  {
   "cell_type": "code",
   "execution_count": 5,
   "id": "57031d63",
   "metadata": {},
   "outputs": [],
   "source": [
    "font = {'family' : 'normal',\n",
    "        'weight' : 'normal',\n",
    "        'size'   : 18}\n",
    "\n",
    "plt.rc('font', **font)"
   ]
  },
  {
   "cell_type": "markdown",
   "id": "ff1f737d",
   "metadata": {},
   "source": [
    "fig, axs = plt.subplots(2,2)\n",
    "sns.violinplot(x=grid_results[\"Neighbors\"], y=grid_results[\"Val Accuracy\"], ax = axs[0][0])\n",
    "sns.violinplot(x=grid_results[\"Batch\"], y=grid_results[\"Val Accuracy\"], ax = axs[0][1])\n",
    "sns.violinplot(x=grid_results[\"GCN Layers\"], y=grid_results[\"Val Accuracy\"], ax = axs[1][0])\n",
    "sns.violinplot(x=grid_results[\"Final Embedding\"], y=grid_results[\"Val Accuracy\"], ax = axs[1][1])"
   ]
  },
  {
   "cell_type": "code",
   "execution_count": 8,
   "id": "51bc056e",
   "metadata": {},
   "outputs": [
    {
     "name": "stderr",
     "output_type": "stream",
     "text": [
      "findfont: Font family ['normal'] not found. Falling back to DejaVu Sans.\n"
     ]
    },
    {
     "data": {
      "image/png": "[encoded data removed]",
      "text/plain": [
       "<Figure size 936x360 with 2 Axes>"
      ]
     },
     "metadata": {
      "needs_background": "light"
     },
     "output_type": "display_data"
    }
   ],
   "source": [
    "fig, axs = plt.subplots(1,2, figsize=(13, 5))\n",
    "sns.violinplot(x=grid_results[\"Neighbors\"], y=grid_results[\"Val Accuracy\"], ax = axs[0])\n",
    "sns.violinplot(x=grid_results[\"Batch\"], y=grid_results[\"Val Accuracy\"], ax = axs[1])\n",
    "plt.plot()\n",
    "plt.savefig(\"figures/pmbc_param1.pdf\", format=\"pdf\", bbox_inches=\"tight\")\n",
    "plt.show()"
   ]
  },
  {
   "cell_type": "code",
   "execution_count": 9,
   "id": "84d34b95",
   "metadata": {},
   "outputs": [
    {
     "data": {
      "image/png": "[encoded data removed]",
      "text/plain": [
       "<Figure size 936x360 with 2 Axes>"
      ]
     },
     "metadata": {
      "needs_background": "light"
     },
     "output_type": "display_data"
    }
   ],
   "source": [
    "fig, axs = plt.subplots(1,2,figsize=(13, 5))\n",
    "sns.violinplot(x=grid_results[\"GCN Layers\"], y=grid_results[\"Val Accuracy\"], ax = axs[0])\n",
    "sns.violinplot(x=grid_results[\"Final Embedding\"], y=grid_results[\"Val Accuracy\"], ax = axs[1])\n",
    "plt.plot()\n",
    "plt.savefig(\"figures/pbmc_param2.pdf\", format=\"pdf\", bbox_inches=\"tight\")\n",
    "plt.show()"
   ]
  },
  {
   "cell_type": "markdown",
   "id": "9fe69ddc",
   "metadata": {},
   "source": [
    "accuracy results generated this way:\n",
    "\n",
    "sbatch run_pbmc_test.sh\n",
    "\n",
    "data_folders = [\"/home/groups/ConradLab/daniel/sharp_data/pbmc_test/\"]\n",
    "    tools = [\"sctype\",\"scsorter\",\"scina\", \"singler\", \"scpred\"]\n",
    "    #tools = [\"sctype\",\"scsorter\",\"scina\"]\n",
    "    votes_necessary = .51\n",
    "    model_file = \"configs/2_25.txt\"\n",
    "    neighbors = 2\n",
    "    batch_size=50\n",
    "    training_epochs=150\n",
    "    random_inits = 5\n",
    "    counts=\"counts.csv\"\n",
    "    meta=\"labels_cd4-8.csv\"\n",
    "    meta_col = 0\n",
    "    df = test_model(data_folders, tools, votes_necessary, model_file, neighbors, batch_size, training_epochs, random_inits, counts=counts, meta=meta, meta_col=meta_col)\n",
    "    df.to_csv(\"pbmc_test_results.csv\")\n"
   ]
  },
  {
   "cell_type": "code",
   "execution_count": 3,
   "id": "18128b55",
   "metadata": {
    "scrolled": true
   },
   "outputs": [
    {
     "data": {
      "text/html": [
       "<div>\n",
       "<style scoped>\n",
       "    .dataframe tbody tr th:only-of-type {\n",
       "        vertical-align: middle;\n",
       "    }\n",
       "\n",
       "    .dataframe tbody tr th {\n",
       "        vertical-align: top;\n",
       "    }\n",
       "\n",
       "    .dataframe thead th {\n",
       "        text-align: right;\n",
       "    }\n",
       "</style>\n",
       "<table border=\"1\" class=\"dataframe\">\n",
       "  <thead>\n",
       "    <tr style=\"text-align: right;\">\n",
       "      <th></th>\n",
       "      <th>data_name</th>\n",
       "      <th>method</th>\n",
       "      <th>total_accuracy</th>\n",
       "      <th>train_accuracy</th>\n",
       "      <th>test_accuracy</th>\n",
       "      <th>total_sd</th>\n",
       "      <th>train_sd</th>\n",
       "      <th>test_sd</th>\n",
       "    </tr>\n",
       "  </thead>\n",
       "  <tbody>\n",
       "    <tr>\n",
       "      <th>0</th>\n",
       "      <td>pbmc_test</td>\n",
       "      <td>GCN</td>\n",
       "      <td>0.931252</td>\n",
       "      <td>0.938236</td>\n",
       "      <td>0.705801</td>\n",
       "      <td>0.000464</td>\n",
       "      <td>0.000035</td>\n",
       "      <td>0.015326</td>\n",
       "    </tr>\n",
       "    <tr>\n",
       "      <th>1</th>\n",
       "      <td>pbmc_test</td>\n",
       "      <td>Max Col.</td>\n",
       "      <td>0.912137</td>\n",
       "      <td>0.938287</td>\n",
       "      <td>0.067965</td>\n",
       "      <td>0.000000</td>\n",
       "      <td>0.000000</td>\n",
       "      <td>0.000000</td>\n",
       "    </tr>\n",
       "    <tr>\n",
       "      <th>2</th>\n",
       "      <td>pbmc_test</td>\n",
       "      <td>Confident Labels</td>\n",
       "      <td>NaN</td>\n",
       "      <td>0.938287</td>\n",
       "      <td>NaN</td>\n",
       "      <td>0.000000</td>\n",
       "      <td>0.000000</td>\n",
       "      <td>0.000000</td>\n",
       "    </tr>\n",
       "    <tr>\n",
       "      <th>3</th>\n",
       "      <td>pbmc_test</td>\n",
       "      <td>sctype</td>\n",
       "      <td>0.854867</td>\n",
       "      <td>0.856016</td>\n",
       "      <td>0.817749</td>\n",
       "      <td>0.000000</td>\n",
       "      <td>0.000000</td>\n",
       "      <td>0.000000</td>\n",
       "    </tr>\n",
       "    <tr>\n",
       "      <th>4</th>\n",
       "      <td>pbmc_test</td>\n",
       "      <td>scsorter</td>\n",
       "      <td>0.714845</td>\n",
       "      <td>0.716579</td>\n",
       "      <td>0.658874</td>\n",
       "      <td>0.000000</td>\n",
       "      <td>0.000000</td>\n",
       "      <td>0.000000</td>\n",
       "    </tr>\n",
       "    <tr>\n",
       "      <th>5</th>\n",
       "      <td>pbmc_test</td>\n",
       "      <td>scina</td>\n",
       "      <td>0.733445</td>\n",
       "      <td>0.754234</td>\n",
       "      <td>0.062338</td>\n",
       "      <td>0.000000</td>\n",
       "      <td>0.000000</td>\n",
       "      <td>0.000000</td>\n",
       "    </tr>\n",
       "    <tr>\n",
       "      <th>6</th>\n",
       "      <td>pbmc_test</td>\n",
       "      <td>singler</td>\n",
       "      <td>0.702787</td>\n",
       "      <td>0.720414</td>\n",
       "      <td>0.133766</td>\n",
       "      <td>0.000000</td>\n",
       "      <td>0.000000</td>\n",
       "      <td>0.000000</td>\n",
       "    </tr>\n",
       "    <tr>\n",
       "      <th>7</th>\n",
       "      <td>pbmc_test</td>\n",
       "      <td>scpred</td>\n",
       "      <td>0.743890</td>\n",
       "      <td>0.761650</td>\n",
       "      <td>0.170563</td>\n",
       "      <td>0.000000</td>\n",
       "      <td>0.000000</td>\n",
       "      <td>0.000000</td>\n",
       "    </tr>\n",
       "    <tr>\n",
       "      <th>8</th>\n",
       "      <td>pbmc_test</td>\n",
       "      <td>Tool Avg.</td>\n",
       "      <td>0.749967</td>\n",
       "      <td>0.761779</td>\n",
       "      <td>0.368658</td>\n",
       "      <td>0.060773</td>\n",
       "      <td>0.056329</td>\n",
       "      <td>0.344295</td>\n",
       "    </tr>\n",
       "  </tbody>\n",
       "</table>\n",
       "</div>"
      ],
      "text/plain": [
       "   data_name            method  total_accuracy  train_accuracy  test_accuracy  \\\n",
       "0  pbmc_test               GCN        0.931252        0.938236       0.705801   \n",
       "1  pbmc_test          Max Col.        0.912137        0.938287       0.067965   \n",
       "2  pbmc_test  Confident Labels             NaN        0.938287            NaN   \n",
       "3  pbmc_test            sctype        0.854867        0.856016       0.817749   \n",
       "4  pbmc_test          scsorter        0.714845        0.716579       0.658874   \n",
       "5  pbmc_test             scina        0.733445        0.754234       0.062338   \n",
       "6  pbmc_test           singler        0.702787        0.720414       0.133766   \n",
       "7  pbmc_test            scpred        0.743890        0.761650       0.170563   \n",
       "8  pbmc_test         Tool Avg.        0.749967        0.761779       0.368658   \n",
       "\n",
       "   total_sd  train_sd   test_sd  \n",
       "0  0.000464  0.000035  0.015326  \n",
       "1  0.000000  0.000000  0.000000  \n",
       "2  0.000000  0.000000  0.000000  \n",
       "3  0.000000  0.000000  0.000000  \n",
       "4  0.000000  0.000000  0.000000  \n",
       "5  0.000000  0.000000  0.000000  \n",
       "6  0.000000  0.000000  0.000000  \n",
       "7  0.000000  0.000000  0.000000  \n",
       "8  0.060773  0.056329  0.344295  "
      ]
     },
     "execution_count": 3,
     "metadata": {},
     "output_type": "execute_result"
    }
   ],
   "source": [
    "results = pd.read_csv(\"pbmc_test_results.csv\", index_col=0)\n",
    "results"
   ]
  },
  {
   "cell_type": "code",
   "execution_count": 4,
   "id": "d79bbbae",
   "metadata": {},
   "outputs": [
    {
     "data": {
      "text/plain": [
       "(0.0, 1.0)"
      ]
     },
     "execution_count": 4,
     "metadata": {},
     "output_type": "execute_result"
    },
    {
     "data": {
      "image/png": "[encoded data removed]",
      "text/plain": [
       "<Figure size 1080x504 with 2 Axes>"
      ]
     },
     "metadata": {
      "needs_background": "light"
     },
     "output_type": "display_data"
    }
   ],
   "source": [
    "to_plot = results.loc[results['method']!=\"Confident Labels\",:]\n",
    "fig, ax = plt.subplots(1,2,figsize=(15, 7))\n",
    "ax[0].bar(to_plot['method'],  to_plot['test_accuracy'], yerr= to_plot['test_sd'], align='center')\n",
    "ax[0].set_xlabel(\"Tool\")\n",
    "ax[0].set_ylabel(\"Accuracy on Unconfident Nodes\")\n",
    "ax[0].set_title(\"Test Accuracy by Method\")\n",
    "ax[1].bar(to_plot['method'],  to_plot['total_accuracy'], yerr= to_plot['total_sd'], align='center')\n",
    "ax[1].set_xlabel(\"Tool\")\n",
    "ax[1].set_ylabel(\"Accuracy on All Nodes\")\n",
    "ax[1].set_title(\"Total Accuracy by Method\")\n",
    "ax[0].set_ylim([0, 1])\n",
    "ax[1].set_ylim([0, 1])"
   ]
  },
  {
   "cell_type": "code",
   "execution_count": 13,
   "id": "78adaa49",
   "metadata": {},
   "outputs": [
    {
     "data": {
      "text/html": [
       "<div>\n",
       "<style scoped>\n",
       "    .dataframe tbody tr th:only-of-type {\n",
       "        vertical-align: middle;\n",
       "    }\n",
       "\n",
       "    .dataframe tbody tr th {\n",
       "        vertical-align: top;\n",
       "    }\n",
       "\n",
       "    .dataframe thead th {\n",
       "        text-align: right;\n",
       "    }\n",
       "</style>\n",
       "<table border=\"1\" class=\"dataframe\">\n",
       "  <thead>\n",
       "    <tr style=\"text-align: right;\">\n",
       "      <th></th>\n",
       "      <th>b_cells</th>\n",
       "      <th>cd14_monocytes</th>\n",
       "      <th>cd56_nk</th>\n",
       "      <th>cd8_t_cell</th>\n",
       "      <th>cd4_t_cell</th>\n",
       "    </tr>\n",
       "  </thead>\n",
       "  <tbody>\n",
       "    <tr>\n",
       "      <th>LTB</th>\n",
       "      <td>27.738410</td>\n",
       "      <td>0.146205</td>\n",
       "      <td>0.810016</td>\n",
       "      <td>11.293178</td>\n",
       "      <td>33.070637</td>\n",
       "    </tr>\n",
       "    <tr>\n",
       "      <th>FTH1</th>\n",
       "      <td>10.798422</td>\n",
       "      <td>51.537754</td>\n",
       "      <td>6.340851</td>\n",
       "      <td>11.638375</td>\n",
       "      <td>29.218869</td>\n",
       "    </tr>\n",
       "    <tr>\n",
       "      <th>CD3E</th>\n",
       "      <td>0.005234</td>\n",
       "      <td>0.002832</td>\n",
       "      <td>2.490053</td>\n",
       "      <td>24.469191</td>\n",
       "      <td>25.040269</td>\n",
       "    </tr>\n",
       "    <tr>\n",
       "      <th>MT-CO2</th>\n",
       "      <td>10.458646</td>\n",
       "      <td>15.498238</td>\n",
       "      <td>9.526059</td>\n",
       "      <td>3.384439</td>\n",
       "      <td>24.020895</td>\n",
       "    </tr>\n",
       "    <tr>\n",
       "      <th>RPL34</th>\n",
       "      <td>7.252808</td>\n",
       "      <td>0.535317</td>\n",
       "      <td>15.033418</td>\n",
       "      <td>3.154943</td>\n",
       "      <td>23.602739</td>\n",
       "    </tr>\n",
       "    <tr>\n",
       "      <th>S100A4</th>\n",
       "      <td>0.105431</td>\n",
       "      <td>22.049214</td>\n",
       "      <td>1.222469</td>\n",
       "      <td>0.645825</td>\n",
       "      <td>23.244718</td>\n",
       "    </tr>\n",
       "    <tr>\n",
       "      <th>CD3D</th>\n",
       "      <td>0.009171</td>\n",
       "      <td>0.018589</td>\n",
       "      <td>0.605545</td>\n",
       "      <td>14.378980</td>\n",
       "      <td>22.373944</td>\n",
       "    </tr>\n",
       "    <tr>\n",
       "      <th>RPL37</th>\n",
       "      <td>8.544748</td>\n",
       "      <td>4.127163</td>\n",
       "      <td>6.787735</td>\n",
       "      <td>3.865191</td>\n",
       "      <td>21.067187</td>\n",
       "    </tr>\n",
       "    <tr>\n",
       "      <th>RPL7</th>\n",
       "      <td>5.762127</td>\n",
       "      <td>7.818111</td>\n",
       "      <td>8.715361</td>\n",
       "      <td>13.682990</td>\n",
       "      <td>19.465482</td>\n",
       "    </tr>\n",
       "    <tr>\n",
       "      <th>UBC</th>\n",
       "      <td>8.455023</td>\n",
       "      <td>19.997481</td>\n",
       "      <td>2.208206</td>\n",
       "      <td>0.659358</td>\n",
       "      <td>19.453267</td>\n",
       "    </tr>\n",
       "  </tbody>\n",
       "</table>\n",
       "</div>"
      ],
      "text/plain": [
       "          b_cells  cd14_monocytes    cd56_nk  cd8_t_cell  cd4_t_cell\n",
       "LTB     27.738410        0.146205   0.810016   11.293178   33.070637\n",
       "FTH1    10.798422       51.537754   6.340851   11.638375   29.218869\n",
       "CD3E     0.005234        0.002832   2.490053   24.469191   25.040269\n",
       "MT-CO2  10.458646       15.498238   9.526059    3.384439   24.020895\n",
       "RPL34    7.252808        0.535317  15.033418    3.154943   23.602739\n",
       "S100A4   0.105431       22.049214   1.222469    0.645825   23.244718\n",
       "CD3D     0.009171        0.018589   0.605545   14.378980   22.373944\n",
       "RPL37    8.544748        4.127163   6.787735    3.865191   21.067187\n",
       "RPL7     5.762127        7.818111   8.715361   13.682990   19.465482\n",
       "UBC      8.455023       19.997481   2.208206    0.659358   19.453267"
      ]
     },
     "execution_count": 13,
     "metadata": {},
     "output_type": "execute_result"
    }
   ],
   "source": [
    "int_df = pd.read_csv(\"pbmc_test_interpretation.csv\", index_col=0)\n",
    "#statistics.mean(scale_int_df.iloc[:,0])\n",
    "reorg_keys = [\"b_cells\", \"cd14_monocytes\", \"cd56_nk\", \"cd8_t_cell\", \"cd4_t_cell\"]\n",
    "int_df = int_df[reorg_keys]\n",
    "int_df = int_df.abs()\n",
    "scale_int_df = pd.DataFrame(preprocessing.scale(int_df, with_mean=False))\n",
    "scale_int_df.columns = int_df.columns\n",
    "scale_int_df.index = int_df.index\n",
    "scale_int_df.sort_values(\"cd4_t_cell\", ascending=False).head(10)"
   ]
  },
  {
   "cell_type": "code",
   "execution_count": 10,
   "id": "0d265b44",
   "metadata": {},
   "outputs": [
    {
     "data": {
      "text/html": [
       "<div>\n",
       "<style scoped>\n",
       "    .dataframe tbody tr th:only-of-type {\n",
       "        vertical-align: middle;\n",
       "    }\n",
       "\n",
       "    .dataframe tbody tr th {\n",
       "        vertical-align: top;\n",
       "    }\n",
       "\n",
       "    .dataframe thead th {\n",
       "        text-align: right;\n",
       "    }\n",
       "</style>\n",
       "<table border=\"1\" class=\"dataframe\">\n",
       "  <thead>\n",
       "    <tr style=\"text-align: right;\">\n",
       "      <th></th>\n",
       "      <th>b_cells</th>\n",
       "      <th>cd14_monocytes</th>\n",
       "      <th>cd4_t_cell</th>\n",
       "      <th>cd56_nk</th>\n",
       "      <th>cd8_t_cell</th>\n",
       "    </tr>\n",
       "  </thead>\n",
       "  <tbody>\n",
       "    <tr>\n",
       "      <th>CD74</th>\n",
       "      <td>71.503861</td>\n",
       "      <td>12.285791</td>\n",
       "      <td>4.777439</td>\n",
       "      <td>7.308379</td>\n",
       "      <td>4.045139</td>\n",
       "    </tr>\n",
       "    <tr>\n",
       "      <th>HLA-DRA</th>\n",
       "      <td>49.437657</td>\n",
       "      <td>12.828225</td>\n",
       "      <td>0.633494</td>\n",
       "      <td>0.171549</td>\n",
       "      <td>0.286577</td>\n",
       "    </tr>\n",
       "    <tr>\n",
       "      <th>CD79A</th>\n",
       "      <td>32.328959</td>\n",
       "      <td>0.031498</td>\n",
       "      <td>0.124167</td>\n",
       "      <td>0.085082</td>\n",
       "      <td>0.544220</td>\n",
       "    </tr>\n",
       "    <tr>\n",
       "      <th>CD79B</th>\n",
       "      <td>31.589568</td>\n",
       "      <td>0.022558</td>\n",
       "      <td>1.034737</td>\n",
       "      <td>1.454509</td>\n",
       "      <td>0.025091</td>\n",
       "    </tr>\n",
       "    <tr>\n",
       "      <th>HLA-DRB1</th>\n",
       "      <td>31.462966</td>\n",
       "      <td>21.495164</td>\n",
       "      <td>2.300194</td>\n",
       "      <td>1.155180</td>\n",
       "      <td>1.886261</td>\n",
       "    </tr>\n",
       "    <tr>\n",
       "      <th>LTB</th>\n",
       "      <td>27.738410</td>\n",
       "      <td>0.146205</td>\n",
       "      <td>33.070637</td>\n",
       "      <td>0.810016</td>\n",
       "      <td>11.293178</td>\n",
       "    </tr>\n",
       "    <tr>\n",
       "      <th>HLA-DPA1</th>\n",
       "      <td>25.073663</td>\n",
       "      <td>1.072749</td>\n",
       "      <td>0.973912</td>\n",
       "      <td>1.023743</td>\n",
       "      <td>1.019922</td>\n",
       "    </tr>\n",
       "    <tr>\n",
       "      <th>HLA-DPB1</th>\n",
       "      <td>22.598056</td>\n",
       "      <td>3.853520</td>\n",
       "      <td>0.906961</td>\n",
       "      <td>1.173400</td>\n",
       "      <td>2.249338</td>\n",
       "    </tr>\n",
       "    <tr>\n",
       "      <th>HLA-DRB5</th>\n",
       "      <td>16.030404</td>\n",
       "      <td>12.691769</td>\n",
       "      <td>1.230882</td>\n",
       "      <td>0.570063</td>\n",
       "      <td>1.103094</td>\n",
       "    </tr>\n",
       "    <tr>\n",
       "      <th>CD37</th>\n",
       "      <td>15.105807</td>\n",
       "      <td>3.969624</td>\n",
       "      <td>0.563628</td>\n",
       "      <td>4.385218</td>\n",
       "      <td>2.156192</td>\n",
       "    </tr>\n",
       "  </tbody>\n",
       "</table>\n",
       "</div>"
      ],
      "text/plain": [
       "            b_cells  cd14_monocytes  cd4_t_cell   cd56_nk  cd8_t_cell\n",
       "CD74      71.503861       12.285791    4.777439  7.308379    4.045139\n",
       "HLA-DRA   49.437657       12.828225    0.633494  0.171549    0.286577\n",
       "CD79A     32.328959        0.031498    0.124167  0.085082    0.544220\n",
       "CD79B     31.589568        0.022558    1.034737  1.454509    0.025091\n",
       "HLA-DRB1  31.462966       21.495164    2.300194  1.155180    1.886261\n",
       "LTB       27.738410        0.146205   33.070637  0.810016   11.293178\n",
       "HLA-DPA1  25.073663        1.072749    0.973912  1.023743    1.019922\n",
       "HLA-DPB1  22.598056        3.853520    0.906961  1.173400    2.249338\n",
       "HLA-DRB5  16.030404       12.691769    1.230882  0.570063    1.103094\n",
       "CD37      15.105807        3.969624    0.563628  4.385218    2.156192"
      ]
     },
     "execution_count": 10,
     "metadata": {},
     "output_type": "execute_result"
    }
   ],
   "source": [
    "#\"CD74\", \"HLA-DRA\", \"CD79A\", \"CD79B\", \"HLA-DRB1\"\n",
    "scale_int_df.sort_values(\"b_cells\", ascending=False).head(10)"
   ]
  },
  {
   "cell_type": "code",
   "execution_count": 11,
   "id": "4930df85",
   "metadata": {},
   "outputs": [
    {
     "data": {
      "text/html": [
       "<div>\n",
       "<style scoped>\n",
       "    .dataframe tbody tr th:only-of-type {\n",
       "        vertical-align: middle;\n",
       "    }\n",
       "\n",
       "    .dataframe tbody tr th {\n",
       "        vertical-align: top;\n",
       "    }\n",
       "\n",
       "    .dataframe thead th {\n",
       "        text-align: right;\n",
       "    }\n",
       "</style>\n",
       "<table border=\"1\" class=\"dataframe\">\n",
       "  <thead>\n",
       "    <tr style=\"text-align: right;\">\n",
       "      <th></th>\n",
       "      <th>b_cells</th>\n",
       "      <th>cd14_monocytes</th>\n",
       "      <th>cd4_t_cell</th>\n",
       "      <th>cd56_nk</th>\n",
       "      <th>cd8_t_cell</th>\n",
       "    </tr>\n",
       "  </thead>\n",
       "  <tbody>\n",
       "    <tr>\n",
       "      <th>FTH1</th>\n",
       "      <td>10.798422</td>\n",
       "      <td>51.537754</td>\n",
       "      <td>29.218869</td>\n",
       "      <td>6.340851</td>\n",
       "      <td>11.638375</td>\n",
       "    </tr>\n",
       "    <tr>\n",
       "      <th>TYROBP</th>\n",
       "      <td>0.008744</td>\n",
       "      <td>34.771910</td>\n",
       "      <td>0.013469</td>\n",
       "      <td>25.774744</td>\n",
       "      <td>0.034673</td>\n",
       "    </tr>\n",
       "    <tr>\n",
       "      <th>S100A9</th>\n",
       "      <td>0.005590</td>\n",
       "      <td>33.639921</td>\n",
       "      <td>0.016196</td>\n",
       "      <td>0.002881</td>\n",
       "      <td>0.003281</td>\n",
       "    </tr>\n",
       "    <tr>\n",
       "      <th>S100A8</th>\n",
       "      <td>0.003658</td>\n",
       "      <td>30.969252</td>\n",
       "      <td>0.000080</td>\n",
       "      <td>0.003886</td>\n",
       "      <td>0.000561</td>\n",
       "    </tr>\n",
       "    <tr>\n",
       "      <th>FTL</th>\n",
       "      <td>1.833898</td>\n",
       "      <td>28.840982</td>\n",
       "      <td>3.731140</td>\n",
       "      <td>17.947105</td>\n",
       "      <td>13.296800</td>\n",
       "    </tr>\n",
       "    <tr>\n",
       "      <th>CST3</th>\n",
       "      <td>0.010116</td>\n",
       "      <td>27.954317</td>\n",
       "      <td>0.002331</td>\n",
       "      <td>0.108884</td>\n",
       "      <td>0.007567</td>\n",
       "    </tr>\n",
       "    <tr>\n",
       "      <th>LYZ</th>\n",
       "      <td>0.006291</td>\n",
       "      <td>22.137206</td>\n",
       "      <td>0.001636</td>\n",
       "      <td>0.004034</td>\n",
       "      <td>0.000277</td>\n",
       "    </tr>\n",
       "    <tr>\n",
       "      <th>S100A4</th>\n",
       "      <td>0.105431</td>\n",
       "      <td>22.049214</td>\n",
       "      <td>23.244718</td>\n",
       "      <td>1.222469</td>\n",
       "      <td>0.645825</td>\n",
       "    </tr>\n",
       "    <tr>\n",
       "      <th>HLA-DRB1</th>\n",
       "      <td>31.462966</td>\n",
       "      <td>21.495164</td>\n",
       "      <td>2.300194</td>\n",
       "      <td>1.155180</td>\n",
       "      <td>1.886261</td>\n",
       "    </tr>\n",
       "    <tr>\n",
       "      <th>UBC</th>\n",
       "      <td>8.455023</td>\n",
       "      <td>19.997481</td>\n",
       "      <td>19.453267</td>\n",
       "      <td>2.208206</td>\n",
       "      <td>0.659358</td>\n",
       "    </tr>\n",
       "  </tbody>\n",
       "</table>\n",
       "</div>"
      ],
      "text/plain": [
       "            b_cells  cd14_monocytes  cd4_t_cell    cd56_nk  cd8_t_cell\n",
       "FTH1      10.798422       51.537754   29.218869   6.340851   11.638375\n",
       "TYROBP     0.008744       34.771910    0.013469  25.774744    0.034673\n",
       "S100A9     0.005590       33.639921    0.016196   0.002881    0.003281\n",
       "S100A8     0.003658       30.969252    0.000080   0.003886    0.000561\n",
       "FTL        1.833898       28.840982    3.731140  17.947105   13.296800\n",
       "CST3       0.010116       27.954317    0.002331   0.108884    0.007567\n",
       "LYZ        0.006291       22.137206    0.001636   0.004034    0.000277\n",
       "S100A4     0.105431       22.049214   23.244718   1.222469    0.645825\n",
       "HLA-DRB1  31.462966       21.495164    2.300194   1.155180    1.886261\n",
       "UBC        8.455023       19.997481   19.453267   2.208206    0.659358"
      ]
     },
     "execution_count": 11,
     "metadata": {},
     "output_type": "execute_result"
    }
   ],
   "source": [
    "#\"FTH1\", \"TYROBP\", \"S100A9\", \"S100A8\", \"FTL\"\n",
    "scale_int_df.sort_values(\"cd14_monocytes\", ascending=False).head(10)"
   ]
  },
  {
   "cell_type": "code",
   "execution_count": 12,
   "id": "0c568a5b",
   "metadata": {},
   "outputs": [
    {
     "data": {
      "text/html": [
       "<div>\n",
       "<style scoped>\n",
       "    .dataframe tbody tr th:only-of-type {\n",
       "        vertical-align: middle;\n",
       "    }\n",
       "\n",
       "    .dataframe tbody tr th {\n",
       "        vertical-align: top;\n",
       "    }\n",
       "\n",
       "    .dataframe thead th {\n",
       "        text-align: right;\n",
       "    }\n",
       "</style>\n",
       "<table border=\"1\" class=\"dataframe\">\n",
       "  <thead>\n",
       "    <tr style=\"text-align: right;\">\n",
       "      <th></th>\n",
       "      <th>b_cells</th>\n",
       "      <th>cd14_monocytes</th>\n",
       "      <th>cd4_t_cell</th>\n",
       "      <th>cd56_nk</th>\n",
       "      <th>cd8_t_cell</th>\n",
       "    </tr>\n",
       "  </thead>\n",
       "  <tbody>\n",
       "    <tr>\n",
       "      <th>LTB</th>\n",
       "      <td>27.738410</td>\n",
       "      <td>0.146205</td>\n",
       "      <td>33.070637</td>\n",
       "      <td>0.810016</td>\n",
       "      <td>11.293178</td>\n",
       "    </tr>\n",
       "    <tr>\n",
       "      <th>FTH1</th>\n",
       "      <td>10.798422</td>\n",
       "      <td>51.537754</td>\n",
       "      <td>29.218869</td>\n",
       "      <td>6.340851</td>\n",
       "      <td>11.638375</td>\n",
       "    </tr>\n",
       "    <tr>\n",
       "      <th>CD3E</th>\n",
       "      <td>0.005234</td>\n",
       "      <td>0.002832</td>\n",
       "      <td>25.040269</td>\n",
       "      <td>2.490053</td>\n",
       "      <td>24.469191</td>\n",
       "    </tr>\n",
       "    <tr>\n",
       "      <th>MT-CO2</th>\n",
       "      <td>10.458646</td>\n",
       "      <td>15.498238</td>\n",
       "      <td>24.020895</td>\n",
       "      <td>9.526059</td>\n",
       "      <td>3.384439</td>\n",
       "    </tr>\n",
       "    <tr>\n",
       "      <th>RPL34</th>\n",
       "      <td>7.252808</td>\n",
       "      <td>0.535317</td>\n",
       "      <td>23.602739</td>\n",
       "      <td>15.033418</td>\n",
       "      <td>3.154943</td>\n",
       "    </tr>\n",
       "    <tr>\n",
       "      <th>S100A4</th>\n",
       "      <td>0.105431</td>\n",
       "      <td>22.049214</td>\n",
       "      <td>23.244718</td>\n",
       "      <td>1.222469</td>\n",
       "      <td>0.645825</td>\n",
       "    </tr>\n",
       "    <tr>\n",
       "      <th>CD3D</th>\n",
       "      <td>0.009171</td>\n",
       "      <td>0.018589</td>\n",
       "      <td>22.373944</td>\n",
       "      <td>0.605545</td>\n",
       "      <td>14.378980</td>\n",
       "    </tr>\n",
       "    <tr>\n",
       "      <th>RPL37</th>\n",
       "      <td>8.544748</td>\n",
       "      <td>4.127163</td>\n",
       "      <td>21.067187</td>\n",
       "      <td>6.787735</td>\n",
       "      <td>3.865191</td>\n",
       "    </tr>\n",
       "    <tr>\n",
       "      <th>RPL7</th>\n",
       "      <td>5.762127</td>\n",
       "      <td>7.818111</td>\n",
       "      <td>19.465482</td>\n",
       "      <td>8.715361</td>\n",
       "      <td>13.682990</td>\n",
       "    </tr>\n",
       "    <tr>\n",
       "      <th>UBC</th>\n",
       "      <td>8.455023</td>\n",
       "      <td>19.997481</td>\n",
       "      <td>19.453267</td>\n",
       "      <td>2.208206</td>\n",
       "      <td>0.659358</td>\n",
       "    </tr>\n",
       "  </tbody>\n",
       "</table>\n",
       "</div>"
      ],
      "text/plain": [
       "          b_cells  cd14_monocytes  cd4_t_cell    cd56_nk  cd8_t_cell\n",
       "LTB     27.738410        0.146205   33.070637   0.810016   11.293178\n",
       "FTH1    10.798422       51.537754   29.218869   6.340851   11.638375\n",
       "CD3E     0.005234        0.002832   25.040269   2.490053   24.469191\n",
       "MT-CO2  10.458646       15.498238   24.020895   9.526059    3.384439\n",
       "RPL34    7.252808        0.535317   23.602739  15.033418    3.154943\n",
       "S100A4   0.105431       22.049214   23.244718   1.222469    0.645825\n",
       "CD3D     0.009171        0.018589   22.373944   0.605545   14.378980\n",
       "RPL37    8.544748        4.127163   21.067187   6.787735    3.865191\n",
       "RPL7     5.762127        7.818111   19.465482   8.715361   13.682990\n",
       "UBC      8.455023       19.997481   19.453267   2.208206    0.659358"
      ]
     },
     "execution_count": 12,
     "metadata": {},
     "output_type": "execute_result"
    }
   ],
   "source": [
    "#\"LTB\", \"FTH1\", \"CD3E\", \"MT-CO2\",\"RPL34\"\n",
    "scale_int_df.sort_values(\"cd4_t_cell\", ascending=False).head(10)"
   ]
  },
  {
   "cell_type": "code",
   "execution_count": 13,
   "id": "efb467f5",
   "metadata": {
    "scrolled": true
   },
   "outputs": [
    {
     "data": {
      "text/html": [
       "<div>\n",
       "<style scoped>\n",
       "    .dataframe tbody tr th:only-of-type {\n",
       "        vertical-align: middle;\n",
       "    }\n",
       "\n",
       "    .dataframe tbody tr th {\n",
       "        vertical-align: top;\n",
       "    }\n",
       "\n",
       "    .dataframe thead th {\n",
       "        text-align: right;\n",
       "    }\n",
       "</style>\n",
       "<table border=\"1\" class=\"dataframe\">\n",
       "  <thead>\n",
       "    <tr style=\"text-align: right;\">\n",
       "      <th></th>\n",
       "      <th>b_cells</th>\n",
       "      <th>cd14_monocytes</th>\n",
       "      <th>cd4_t_cell</th>\n",
       "      <th>cd56_nk</th>\n",
       "      <th>cd8_t_cell</th>\n",
       "    </tr>\n",
       "  </thead>\n",
       "  <tbody>\n",
       "    <tr>\n",
       "      <th>GNLY</th>\n",
       "      <td>0.000767</td>\n",
       "      <td>0.063211</td>\n",
       "      <td>0.109159</td>\n",
       "      <td>45.165755</td>\n",
       "      <td>0.570567</td>\n",
       "    </tr>\n",
       "    <tr>\n",
       "      <th>NKG7</th>\n",
       "      <td>0.007192</td>\n",
       "      <td>0.329550</td>\n",
       "      <td>0.018179</td>\n",
       "      <td>31.832655</td>\n",
       "      <td>3.964723</td>\n",
       "    </tr>\n",
       "    <tr>\n",
       "      <th>TYROBP</th>\n",
       "      <td>0.008744</td>\n",
       "      <td>34.771910</td>\n",
       "      <td>0.013469</td>\n",
       "      <td>25.774744</td>\n",
       "      <td>0.034673</td>\n",
       "    </tr>\n",
       "    <tr>\n",
       "      <th>RPS21</th>\n",
       "      <td>2.480049</td>\n",
       "      <td>2.233240</td>\n",
       "      <td>4.441996</td>\n",
       "      <td>23.617552</td>\n",
       "      <td>10.333544</td>\n",
       "    </tr>\n",
       "    <tr>\n",
       "      <th>GZMB</th>\n",
       "      <td>0.001043</td>\n",
       "      <td>0.029663</td>\n",
       "      <td>0.000378</td>\n",
       "      <td>23.577857</td>\n",
       "      <td>0.201277</td>\n",
       "    </tr>\n",
       "    <tr>\n",
       "      <th>RPL38</th>\n",
       "      <td>8.781914</td>\n",
       "      <td>1.275361</td>\n",
       "      <td>6.044573</td>\n",
       "      <td>22.183132</td>\n",
       "      <td>2.982966</td>\n",
       "    </tr>\n",
       "    <tr>\n",
       "      <th>HCST</th>\n",
       "      <td>0.558962</td>\n",
       "      <td>9.063527</td>\n",
       "      <td>7.038983</td>\n",
       "      <td>21.138394</td>\n",
       "      <td>0.015964</td>\n",
       "    </tr>\n",
       "    <tr>\n",
       "      <th>FCER1G</th>\n",
       "      <td>0.000032</td>\n",
       "      <td>11.766580</td>\n",
       "      <td>0.042267</td>\n",
       "      <td>19.299769</td>\n",
       "      <td>0.470434</td>\n",
       "    </tr>\n",
       "    <tr>\n",
       "      <th>FTL</th>\n",
       "      <td>1.833898</td>\n",
       "      <td>28.840982</td>\n",
       "      <td>3.731140</td>\n",
       "      <td>17.947105</td>\n",
       "      <td>13.296800</td>\n",
       "    </tr>\n",
       "    <tr>\n",
       "      <th>RPS26</th>\n",
       "      <td>8.908529</td>\n",
       "      <td>0.577442</td>\n",
       "      <td>16.954016</td>\n",
       "      <td>17.634093</td>\n",
       "      <td>1.527688</td>\n",
       "    </tr>\n",
       "  </tbody>\n",
       "</table>\n",
       "</div>"
      ],
      "text/plain": [
       "         b_cells  cd14_monocytes  cd4_t_cell    cd56_nk  cd8_t_cell\n",
       "GNLY    0.000767        0.063211    0.109159  45.165755    0.570567\n",
       "NKG7    0.007192        0.329550    0.018179  31.832655    3.964723\n",
       "TYROBP  0.008744       34.771910    0.013469  25.774744    0.034673\n",
       "RPS21   2.480049        2.233240    4.441996  23.617552   10.333544\n",
       "GZMB    0.001043        0.029663    0.000378  23.577857    0.201277\n",
       "RPL38   8.781914        1.275361    6.044573  22.183132    2.982966\n",
       "HCST    0.558962        9.063527    7.038983  21.138394    0.015964\n",
       "FCER1G  0.000032       11.766580    0.042267  19.299769    0.470434\n",
       "FTL     1.833898       28.840982    3.731140  17.947105   13.296800\n",
       "RPS26   8.908529        0.577442   16.954016  17.634093    1.527688"
      ]
     },
     "execution_count": 13,
     "metadata": {},
     "output_type": "execute_result"
    }
   ],
   "source": [
    "#\"GNLY\", \"NKG7\", \"TYROBP\", \"RPS21\", \"GZMB\"\n",
    "scale_int_df.sort_values(\"cd56_nk\", ascending=False).head(10)"
   ]
  },
  {
   "cell_type": "code",
   "execution_count": 15,
   "id": "9bbbf167",
   "metadata": {
    "scrolled": true
   },
   "outputs": [
    {
     "data": {
      "text/html": [
       "<div>\n",
       "<style scoped>\n",
       "    .dataframe tbody tr th:only-of-type {\n",
       "        vertical-align: middle;\n",
       "    }\n",
       "\n",
       "    .dataframe tbody tr th {\n",
       "        vertical-align: top;\n",
       "    }\n",
       "\n",
       "    .dataframe thead th {\n",
       "        text-align: right;\n",
       "    }\n",
       "</style>\n",
       "<table border=\"1\" class=\"dataframe\">\n",
       "  <thead>\n",
       "    <tr style=\"text-align: right;\">\n",
       "      <th></th>\n",
       "      <th>b_cells</th>\n",
       "      <th>cd14_monocytes</th>\n",
       "      <th>cd4_t_cell</th>\n",
       "      <th>cd56_nk</th>\n",
       "      <th>cd8_t_cell</th>\n",
       "    </tr>\n",
       "  </thead>\n",
       "  <tbody>\n",
       "    <tr>\n",
       "      <th>CD8B</th>\n",
       "      <td>0.006873</td>\n",
       "      <td>0.000000</td>\n",
       "      <td>0.413460</td>\n",
       "      <td>0.087612</td>\n",
       "      <td>88.319211</td>\n",
       "    </tr>\n",
       "    <tr>\n",
       "      <th>CD3E</th>\n",
       "      <td>0.005234</td>\n",
       "      <td>0.002832</td>\n",
       "      <td>25.040269</td>\n",
       "      <td>2.490053</td>\n",
       "      <td>24.469191</td>\n",
       "    </tr>\n",
       "    <tr>\n",
       "      <th>CTSW</th>\n",
       "      <td>0.053518</td>\n",
       "      <td>0.052642</td>\n",
       "      <td>2.649404</td>\n",
       "      <td>7.838819</td>\n",
       "      <td>22.452703</td>\n",
       "    </tr>\n",
       "    <tr>\n",
       "      <th>TPT1</th>\n",
       "      <td>0.471177</td>\n",
       "      <td>1.445885</td>\n",
       "      <td>3.361297</td>\n",
       "      <td>3.311289</td>\n",
       "      <td>18.320447</td>\n",
       "    </tr>\n",
       "    <tr>\n",
       "      <th>EEF1A1</th>\n",
       "      <td>2.473502</td>\n",
       "      <td>6.728742</td>\n",
       "      <td>6.138640</td>\n",
       "      <td>2.684867</td>\n",
       "      <td>18.133883</td>\n",
       "    </tr>\n",
       "    <tr>\n",
       "      <th>HLA-C</th>\n",
       "      <td>3.955381</td>\n",
       "      <td>9.739242</td>\n",
       "      <td>1.888996</td>\n",
       "      <td>6.981474</td>\n",
       "      <td>17.752205</td>\n",
       "    </tr>\n",
       "    <tr>\n",
       "      <th>CCL5</th>\n",
       "      <td>0.492645</td>\n",
       "      <td>0.055412</td>\n",
       "      <td>0.398813</td>\n",
       "      <td>8.097388</td>\n",
       "      <td>16.085756</td>\n",
       "    </tr>\n",
       "    <tr>\n",
       "      <th>MALAT1</th>\n",
       "      <td>1.964112</td>\n",
       "      <td>19.079818</td>\n",
       "      <td>1.218129</td>\n",
       "      <td>7.522767</td>\n",
       "      <td>14.715976</td>\n",
       "    </tr>\n",
       "    <tr>\n",
       "      <th>CD3D</th>\n",
       "      <td>0.009171</td>\n",
       "      <td>0.018589</td>\n",
       "      <td>22.373944</td>\n",
       "      <td>0.605545</td>\n",
       "      <td>14.378980</td>\n",
       "    </tr>\n",
       "    <tr>\n",
       "      <th>EEF1D</th>\n",
       "      <td>0.410111</td>\n",
       "      <td>7.353027</td>\n",
       "      <td>4.451544</td>\n",
       "      <td>1.329477</td>\n",
       "      <td>13.920500</td>\n",
       "    </tr>\n",
       "  </tbody>\n",
       "</table>\n",
       "</div>"
      ],
      "text/plain": [
       "         b_cells  cd14_monocytes  cd4_t_cell   cd56_nk  cd8_t_cell\n",
       "CD8B    0.006873        0.000000    0.413460  0.087612   88.319211\n",
       "CD3E    0.005234        0.002832   25.040269  2.490053   24.469191\n",
       "CTSW    0.053518        0.052642    2.649404  7.838819   22.452703\n",
       "TPT1    0.471177        1.445885    3.361297  3.311289   18.320447\n",
       "EEF1A1  2.473502        6.728742    6.138640  2.684867   18.133883\n",
       "HLA-C   3.955381        9.739242    1.888996  6.981474   17.752205\n",
       "CCL5    0.492645        0.055412    0.398813  8.097388   16.085756\n",
       "MALAT1  1.964112       19.079818    1.218129  7.522767   14.715976\n",
       "CD3D    0.009171        0.018589   22.373944  0.605545   14.378980\n",
       "EEF1D   0.410111        7.353027    4.451544  1.329477   13.920500"
      ]
     },
     "execution_count": 15,
     "metadata": {},
     "output_type": "execute_result"
    }
   ],
   "source": [
    "#\"CD8B\", \"CD3E\", \"CTSW\", \"TPT1\", \"EEF1A1\"\n",
    "scale_int_df.sort_values(\"cd8_t_cell\", ascending=False).head(10)"
   ]
  },
  {
   "cell_type": "code",
   "execution_count": 14,
   "id": "33b15767",
   "metadata": {},
   "outputs": [
    {
     "data": {
      "image/png": "[encoded data removed]",
      "text/plain": [
       "<Figure size 842.4x595.44 with 2 Axes>"
      ]
     },
     "metadata": {},
     "output_type": "display_data"
    }
   ],
   "source": [
    "markers = [\"CD74\", \"HLA-DRA\", \"CD79A\", \"CD79B\", \"HLA-DRB1\", \"FTH1\", \"TYROBP\", \"S100A9\", \"S100A8\", \"FTL\", \"GNLY\", \"NKG7\", \"TYROBP\", \"RPS21\", \"GZMB\", \"CD8B\", \"CD3E\", \"CTSW\", \"TPT1\", \"EEF1A1\", \"LTB\", \"FTH1\", \"CD3E\", \"MT-CO2\",\"RPL34\"]\n",
    "sns.set(rc={'figure.figsize':(11.7,8.27)})\n",
    "ax = sns.heatmap(scale_int_df.loc[markers,:])\n",
    "ax.set(xlabel=\"Cell Type\")\n",
    "plt.plot()\n",
    "plt.savefig(\"figures/pbmc_att_heatmap.pdf\", format=\"pdf\", bbox_inches=\"tight\")\n",
    "plt.show()"
   ]
  },
  {
   "cell_type": "code",
   "execution_count": 18,
   "id": "655b7189",
   "metadata": {},
   "outputs": [
    {
     "name": "stdout",
     "output_type": "stream",
     "text": [
      "b_cells\n",
      "1.0000278098363444\n",
      "cd14_monocytes\n",
      "1.0000278098363444\n",
      "cd4_t_cell\n",
      "1.0000278098363444\n",
      "cd56_nk\n",
      "1.0000278098363444\n",
      "cd8_t_cell\n",
      "1.0000278098363444\n"
     ]
    }
   ],
   "source": [
    "for cell in scale_int_df.columns:\n",
    "    print(cell)\n",
    "    print(scale_int_df[cell].std())"
   ]
  },
  {
   "cell_type": "code",
   "execution_count": 12,
   "id": "19ec57d0",
   "metadata": {},
   "outputs": [
    {
     "data": {
      "text/plain": [
       "True"
      ]
     },
     "execution_count": 12,
     "metadata": {},
     "output_type": "execute_result"
    }
   ],
   "source": [
    "torch.cuda.is_available()"
   ]
  },
  {
   "cell_type": "code",
   "execution_count": 9,
   "id": "1d2e8cca",
   "metadata": {},
   "outputs": [
    {
     "data": {
      "text/plain": [
       "[Text(0.5, 14.09375, 'Cell Type')]"
      ]
     },
     "execution_count": 9,
     "metadata": {},
     "output_type": "execute_result"
    },
    {
     "data": {
      "image/png": "[encoded data removed]",
      "text/plain": [
       "<Figure size 432x288 with 2 Axes>"
      ]
     },
     "metadata": {
      "needs_background": "light"
     },
     "output_type": "display_data"
    }
   ],
   "source": [
    "keep_genes = scale_int_df.sort_values('b_cells', ascending=False).head(4).index.tolist()\n",
    "keep_genes += scale_int_df.sort_values('cd14_monocytes', ascending=False).head(4).index.tolist()\n",
    "keep_genes += scale_int_df.sort_values(\"cd4_t_cell\", ascending=False).head(4).index.tolist()\n",
    "keep_genes += scale_int_df.sort_values(\"cd56_nk\", ascending=False).head(4).index.tolist()\n",
    "keep_genes += scale_int_df.sort_values(\"cd8_t_cell\", ascending=False).head(4).index.tolist()\n",
    "ax = sns.heatmap(scale_int_df.loc[keep_genes,:])\n",
    "ax.set(xlabel=\"Cell Type\")"
   ]
  },
  {
   "cell_type": "code",
   "execution_count": 17,
   "id": "5fb20bb5",
   "metadata": {
    "scrolled": true
   },
   "outputs": [
    {
     "data": {
      "image/png": "[encoded data removed]",
      "text/plain": [
       "<Figure size 842.4x595.44 with 2 Axes>"
      ]
     },
     "metadata": {},
     "output_type": "display_data"
    }
   ],
   "source": [
    "expr = pd.read_csv(\"figures/pbmc_expr.csv\", index_col=0)\n",
    "#expr = np.arcsinh(expr)\n",
    "#scale_expr = pd.DataFrame(preprocessing.scale(expr, with_mean=False))\n",
    "#scale_expr.columns = expr.columns\n",
    "#scale_expr.index = expr.index\n",
    "sns.set(rc={'figure.figsize':(11.7,8.27)})\n",
    "ax = sns.heatmap(expr)\n",
    "ax.set(xlabel=\"Cell Type\")\n",
    "plt.plot()\n",
    "plt.savefig(\"figures/pbmc_expr_heatmap.pdf\", format=\"pdf\", bbox_inches=\"tight\")\n",
    "plt.show()"
   ]
  },
  {
   "cell_type": "code",
   "execution_count": 28,
   "id": "b8d98ea4",
   "metadata": {},
   "outputs": [
    {
     "data": {
      "text/plain": [
       "b_cells          -0.035266\n",
       "cd14_monocytes    0.011065\n",
       "cd4_t_cell       -0.366170\n",
       "cd56_nk          -0.112239\n",
       "cd8_t_cell        1.164784\n",
       "Name: CD3G, dtype: float64"
      ]
     },
     "execution_count": 28,
     "metadata": {},
     "output_type": "execute_result"
    }
   ],
   "source": [
    "scale_int_df.sort_values(\"cd4_t_cell\", ascending=False).loc['CD3G',:]"
   ]
  },
  {
   "cell_type": "code",
   "execution_count": 12,
   "id": "ce264e10",
   "metadata": {},
   "outputs": [
    {
     "data": {
      "text/plain": [
       "CD8B      195.379651\n",
       "CTSW      136.848256\n",
       "CCL5      113.952810\n",
       "HCST       95.061545\n",
       "CD8A       89.288700\n",
       "             ...    \n",
       "CORO1B    -58.203480\n",
       "CD3E      -62.557420\n",
       "FTH1      -67.799429\n",
       "S100A4    -70.289234\n",
       "LTB       -84.600580\n",
       "Length: 17980, dtype: float64"
      ]
     },
     "execution_count": 12,
     "metadata": {},
     "output_type": "execute_result"
    }
   ],
   "source": [
    "(int_df['cd8_t_cell'] - int_df[\"cd4_t_cell\"]).sort_values(ascending=False)"
   ]
  },
  {
   "cell_type": "code",
   "execution_count": 13,
   "id": "a1815e85",
   "metadata": {},
   "outputs": [
    {
     "data": {
      "text/plain": [
       "b_cells           10.709266\n",
       "cd14_monocytes    92.354900\n",
       "cd4_t_cell       -93.201584\n",
       "cd56_nk           21.603033\n",
       "cd8_t_cell        -3.912884\n",
       "Name: CD8A, dtype: float64"
      ]
     },
     "execution_count": 13,
     "metadata": {},
     "output_type": "execute_result"
    }
   ],
   "source": [
    "int_df.sort_values(\"cd8_t_cell\", ascending=False).loc[\"CD8A\",:]"
   ]
  },
  {
   "cell_type": "code",
   "execution_count": 11,
   "id": "74438aa9",
   "metadata": {},
   "outputs": [
    {
     "data": {
      "text/html": [
       "<div>\n",
       "<style scoped>\n",
       "    .dataframe tbody tr th:only-of-type {\n",
       "        vertical-align: middle;\n",
       "    }\n",
       "\n",
       "    .dataframe tbody tr th {\n",
       "        vertical-align: top;\n",
       "    }\n",
       "\n",
       "    .dataframe thead th {\n",
       "        text-align: right;\n",
       "    }\n",
       "</style>\n",
       "<table border=\"1\" class=\"dataframe\">\n",
       "  <thead>\n",
       "    <tr style=\"text-align: right;\">\n",
       "      <th></th>\n",
       "      <th>labels</th>\n",
       "    </tr>\n",
       "  </thead>\n",
       "  <tbody>\n",
       "    <tr>\n",
       "      <th>CTCAATTGCTTGAG-1-15</th>\n",
       "      <td>cd8_t_cell</td>\n",
       "    </tr>\n",
       "    <tr>\n",
       "      <th>ATGTTGCTTTGCGA-1-34</th>\n",
       "      <td>cd56_nk</td>\n",
       "    </tr>\n",
       "    <tr>\n",
       "      <th>TGATCGGACACAAC-1-41</th>\n",
       "      <td>cd4_t_cell</td>\n",
       "    </tr>\n",
       "    <tr>\n",
       "      <th>ACAAAGGAAGATGA-1-74</th>\n",
       "      <td>cd4_t_cell</td>\n",
       "    </tr>\n",
       "    <tr>\n",
       "      <th>CAATATGATGCTTT-1-20</th>\n",
       "      <td>cd4_t_cell</td>\n",
       "    </tr>\n",
       "    <tr>\n",
       "      <th>GATTTAGACCAAGT-1-74</th>\n",
       "      <td>cd4_t_cell</td>\n",
       "    </tr>\n",
       "    <tr>\n",
       "      <th>TAAGTCCTTTCTAC-1-26</th>\n",
       "      <td>cd4_t_cell</td>\n",
       "    </tr>\n",
       "    <tr>\n",
       "      <th>CATTGGGAATCAGC-1-39</th>\n",
       "      <td>b_cells</td>\n",
       "    </tr>\n",
       "    <tr>\n",
       "      <th>TCATGTACTCTTCA-1-41</th>\n",
       "      <td>cd4_t_cell</td>\n",
       "    </tr>\n",
       "    <tr>\n",
       "      <th>ACCCACTGCGTAAC-1-20</th>\n",
       "      <td>cd4_t_cell</td>\n",
       "    </tr>\n",
       "    <tr>\n",
       "      <th>TCGCAGCTCCTTAT-1-39</th>\n",
       "      <td>b_cells</td>\n",
       "    </tr>\n",
       "    <tr>\n",
       "      <th>CTTCATGAGGAACG-1-20</th>\n",
       "      <td>cd4_t_cell</td>\n",
       "    </tr>\n",
       "    <tr>\n",
       "      <th>GACTGAACCCGAAT-1-26</th>\n",
       "      <td>cd4_t_cell</td>\n",
       "    </tr>\n",
       "    <tr>\n",
       "      <th>ATCGCCACCAACTG-1-15</th>\n",
       "      <td>cd8_t_cell</td>\n",
       "    </tr>\n",
       "    <tr>\n",
       "      <th>AGCCGGACTGGGAG-1-74</th>\n",
       "      <td>cd4_t_cell</td>\n",
       "    </tr>\n",
       "    <tr>\n",
       "      <th>CTTTCAGACCTTAT-1-41</th>\n",
       "      <td>cd4_t_cell</td>\n",
       "    </tr>\n",
       "    <tr>\n",
       "      <th>CGATCCACCTGTGA-1-26</th>\n",
       "      <td>cd4_t_cell</td>\n",
       "    </tr>\n",
       "    <tr>\n",
       "      <th>CAATAATGCTCTAT-1-39</th>\n",
       "      <td>b_cells</td>\n",
       "    </tr>\n",
       "    <tr>\n",
       "      <th>ATACGTCTGGAACG-1-34</th>\n",
       "      <td>cd56_nk</td>\n",
       "    </tr>\n",
       "    <tr>\n",
       "      <th>GGTCAAACTGCAAC-1-34</th>\n",
       "      <td>cd56_nk</td>\n",
       "    </tr>\n",
       "    <tr>\n",
       "      <th>AAGTCCGATACAGC-1-41</th>\n",
       "      <td>cd4_t_cell</td>\n",
       "    </tr>\n",
       "    <tr>\n",
       "      <th>ACCAGTGAATTCCT-1-41</th>\n",
       "      <td>cd4_t_cell</td>\n",
       "    </tr>\n",
       "    <tr>\n",
       "      <th>GATTTGCTTTCGCC-1-41</th>\n",
       "      <td>cd4_t_cell</td>\n",
       "    </tr>\n",
       "    <tr>\n",
       "      <th>TCTCAAACACACGT-1-34</th>\n",
       "      <td>cd56_nk</td>\n",
       "    </tr>\n",
       "    <tr>\n",
       "      <th>AACGGTACCTTTAC-1-27</th>\n",
       "      <td>cd8_t_cell</td>\n",
       "    </tr>\n",
       "    <tr>\n",
       "      <th>CCAGAAACGGACAG-1-27</th>\n",
       "      <td>cd8_t_cell</td>\n",
       "    </tr>\n",
       "    <tr>\n",
       "      <th>CAAGCATGCATACG-1-74</th>\n",
       "      <td>cd4_t_cell</td>\n",
       "    </tr>\n",
       "    <tr>\n",
       "      <th>ATATAGTGTTTACC-1-34</th>\n",
       "      <td>cd56_nk</td>\n",
       "    </tr>\n",
       "    <tr>\n",
       "      <th>TCGACGCTTACTTC-1-26</th>\n",
       "      <td>cd4_t_cell</td>\n",
       "    </tr>\n",
       "    <tr>\n",
       "      <th>CGACCTACCAAAGA-1-34</th>\n",
       "      <td>cd56_nk</td>\n",
       "    </tr>\n",
       "    <tr>\n",
       "      <th>GAATGGCTATCAGC-1-20</th>\n",
       "      <td>cd4_t_cell</td>\n",
       "    </tr>\n",
       "    <tr>\n",
       "      <th>GGAACTTGCATCAG-1-15</th>\n",
       "      <td>cd8_t_cell</td>\n",
       "    </tr>\n",
       "    <tr>\n",
       "      <th>GACGCCGATGCTAG-1-26</th>\n",
       "      <td>cd4_t_cell</td>\n",
       "    </tr>\n",
       "    <tr>\n",
       "      <th>TCGACGCTTCTTTG-1-34</th>\n",
       "      <td>cd56_nk</td>\n",
       "    </tr>\n",
       "    <tr>\n",
       "      <th>GAGATAGAGCGTTA-1-34</th>\n",
       "      <td>cd56_nk</td>\n",
       "    </tr>\n",
       "    <tr>\n",
       "      <th>CAAGCATGAAGTGA-1-41</th>\n",
       "      <td>cd4_t_cell</td>\n",
       "    </tr>\n",
       "    <tr>\n",
       "      <th>TATCTTCTGTACGT-1-34</th>\n",
       "      <td>cd56_nk</td>\n",
       "    </tr>\n",
       "    <tr>\n",
       "      <th>CCAATGGATCCAGA-1-27</th>\n",
       "      <td>cd8_t_cell</td>\n",
       "    </tr>\n",
       "    <tr>\n",
       "      <th>CACCTGACTAGACC-1-74</th>\n",
       "      <td>cd4_t_cell</td>\n",
       "    </tr>\n",
       "    <tr>\n",
       "      <th>TACGGAACCTCATT-1-39</th>\n",
       "      <td>b_cells</td>\n",
       "    </tr>\n",
       "    <tr>\n",
       "      <th>ATCATCTGTACGAC-1-27</th>\n",
       "      <td>cd8_t_cell</td>\n",
       "    </tr>\n",
       "    <tr>\n",
       "      <th>CTGATTTGGTTAGC-1-15</th>\n",
       "      <td>cd8_t_cell</td>\n",
       "    </tr>\n",
       "    <tr>\n",
       "      <th>CTACGGCTTCCGTC-1-39</th>\n",
       "      <td>b_cells</td>\n",
       "    </tr>\n",
       "    <tr>\n",
       "      <th>CTTTACGACTGAGT-1-20</th>\n",
       "      <td>cd4_t_cell</td>\n",
       "    </tr>\n",
       "    <tr>\n",
       "      <th>GATTCGGAAGGAGC-1-57</th>\n",
       "      <td>cd14_monocytes</td>\n",
       "    </tr>\n",
       "    <tr>\n",
       "      <th>CGGCCAGACTACTT-1-15</th>\n",
       "      <td>cd8_t_cell</td>\n",
       "    </tr>\n",
       "    <tr>\n",
       "      <th>AGCGATACCCTTAT-1-26</th>\n",
       "      <td>cd4_t_cell</td>\n",
       "    </tr>\n",
       "    <tr>\n",
       "      <th>ACACCAGATCTTTG-1-39</th>\n",
       "      <td>b_cells</td>\n",
       "    </tr>\n",
       "    <tr>\n",
       "      <th>CGACCTTGAGAAGT-1-57</th>\n",
       "      <td>cd14_monocytes</td>\n",
       "    </tr>\n",
       "    <tr>\n",
       "      <th>CTGTAACTTTTACC-1-15</th>\n",
       "      <td>cd8_t_cell</td>\n",
       "    </tr>\n",
       "  </tbody>\n",
       "</table>\n",
       "</div>"
      ],
      "text/plain": [
       "                             labels\n",
       "CTCAATTGCTTGAG-1-15      cd8_t_cell\n",
       "ATGTTGCTTTGCGA-1-34         cd56_nk\n",
       "TGATCGGACACAAC-1-41      cd4_t_cell\n",
       "ACAAAGGAAGATGA-1-74      cd4_t_cell\n",
       "CAATATGATGCTTT-1-20      cd4_t_cell\n",
       "GATTTAGACCAAGT-1-74      cd4_t_cell\n",
       "TAAGTCCTTTCTAC-1-26      cd4_t_cell\n",
       "CATTGGGAATCAGC-1-39         b_cells\n",
       "TCATGTACTCTTCA-1-41      cd4_t_cell\n",
       "ACCCACTGCGTAAC-1-20      cd4_t_cell\n",
       "TCGCAGCTCCTTAT-1-39         b_cells\n",
       "CTTCATGAGGAACG-1-20      cd4_t_cell\n",
       "GACTGAACCCGAAT-1-26      cd4_t_cell\n",
       "ATCGCCACCAACTG-1-15      cd8_t_cell\n",
       "AGCCGGACTGGGAG-1-74      cd4_t_cell\n",
       "CTTTCAGACCTTAT-1-41      cd4_t_cell\n",
       "CGATCCACCTGTGA-1-26      cd4_t_cell\n",
       "CAATAATGCTCTAT-1-39         b_cells\n",
       "ATACGTCTGGAACG-1-34         cd56_nk\n",
       "GGTCAAACTGCAAC-1-34         cd56_nk\n",
       "AAGTCCGATACAGC-1-41      cd4_t_cell\n",
       "ACCAGTGAATTCCT-1-41      cd4_t_cell\n",
       "GATTTGCTTTCGCC-1-41      cd4_t_cell\n",
       "TCTCAAACACACGT-1-34         cd56_nk\n",
       "AACGGTACCTTTAC-1-27      cd8_t_cell\n",
       "CCAGAAACGGACAG-1-27      cd8_t_cell\n",
       "CAAGCATGCATACG-1-74      cd4_t_cell\n",
       "ATATAGTGTTTACC-1-34         cd56_nk\n",
       "TCGACGCTTACTTC-1-26      cd4_t_cell\n",
       "CGACCTACCAAAGA-1-34         cd56_nk\n",
       "GAATGGCTATCAGC-1-20      cd4_t_cell\n",
       "GGAACTTGCATCAG-1-15      cd8_t_cell\n",
       "GACGCCGATGCTAG-1-26      cd4_t_cell\n",
       "TCGACGCTTCTTTG-1-34         cd56_nk\n",
       "GAGATAGAGCGTTA-1-34         cd56_nk\n",
       "CAAGCATGAAGTGA-1-41      cd4_t_cell\n",
       "TATCTTCTGTACGT-1-34         cd56_nk\n",
       "CCAATGGATCCAGA-1-27      cd8_t_cell\n",
       "CACCTGACTAGACC-1-74      cd4_t_cell\n",
       "TACGGAACCTCATT-1-39         b_cells\n",
       "ATCATCTGTACGAC-1-27      cd8_t_cell\n",
       "CTGATTTGGTTAGC-1-15      cd8_t_cell\n",
       "CTACGGCTTCCGTC-1-39         b_cells\n",
       "CTTTACGACTGAGT-1-20      cd4_t_cell\n",
       "GATTCGGAAGGAGC-1-57  cd14_monocytes\n",
       "CGGCCAGACTACTT-1-15      cd8_t_cell\n",
       "AGCGATACCCTTAT-1-26      cd4_t_cell\n",
       "ACACCAGATCTTTG-1-39         b_cells\n",
       "CGACCTTGAGAAGT-1-57  cd14_monocytes\n",
       "CTGTAACTTTTACC-1-15      cd8_t_cell"
      ]
     },
     "execution_count": 11,
     "metadata": {},
     "output_type": "execute_result"
    }
   ],
   "source": [
    "meta_path = \"/home/groups/ConradLab/daniel/sharp_data/pbmc_test/labels_cd4-8.csv\"\n",
    "labels = pd.read_csv(meta_path, index_col=0)\n",
    "labels.head(50)"
   ]
  },
  {
   "cell_type": "code",
   "execution_count": 14,
   "id": "9e710ec2",
   "metadata": {},
   "outputs": [],
   "source": [
    "def get_tool_accuracy(labels_path, pred_path, tool_list, types, keep_cells):\n",
    "    \n",
    "    real_labels = pd.read_csv(labels_path, index_col=0)['labels']\n",
    "    real_labels,_ = pd.factorize(real_labels, sort=True)\n",
    "    preds_df = pd.read_csv(pred_path, index_col=0)\n",
    "    real_labels = real_labels[keep_cells]\n",
    "    for tool in tool_list:\n",
    "        print(tool)\n",
    "        factored_tool,_ = pd.factorize(preds_df[tool], sort=True)\n",
    "        for cell_type in types:\n",
    "            print(cell_type)\n",
    "            print((torch.Tensor(factored_tool[real_labels == cell_type]) == torch.Tensor(real_labels[real_labels==cell_type])).type(torch.FloatTensor).mean())"
   ]
  },
  {
   "cell_type": "code",
   "execution_count": 27,
   "id": "7823b90d",
   "metadata": {},
   "outputs": [
    {
     "data": {
      "text/plain": [
       "(76881, 5)"
      ]
     },
     "execution_count": 27,
     "metadata": {},
     "output_type": "execute_result"
    }
   ],
   "source": [
    "preds_df = pd.read_csv(pred_path, index_col=0)\n",
    "preds_df.shape"
   ]
  },
  {
   "cell_type": "code",
   "execution_count": 12,
   "id": "cecaee34",
   "metadata": {},
   "outputs": [
    {
     "data": {
      "text/plain": [
       "(76906,)"
      ]
     },
     "execution_count": 12,
     "metadata": {},
     "output_type": "execute_result"
    }
   ],
   "source": [
    "keep_cells = np.genfromtxt('pbmc_keep_cells.csv', delimiter=',')\n",
    "keep_cells.shape"
   ]
  },
  {
   "cell_type": "code",
   "execution_count": 28,
   "id": "dad7f46e",
   "metadata": {},
   "outputs": [
    {
     "data": {
      "text/plain": [
       "1"
      ]
     },
     "execution_count": 28,
     "metadata": {},
     "output_type": "execute_result"
    }
   ],
   "source": [
    "np.count_nonzero(keep_cells)"
   ]
  },
  {
   "cell_type": "code",
   "execution_count": 34,
   "id": "a4f156b2",
   "metadata": {},
   "outputs": [
    {
     "data": {
      "text/plain": [
       "(76906,)"
      ]
     },
     "execution_count": 34,
     "metadata": {},
     "output_type": "execute_result"
    }
   ],
   "source": [
    "keep_cells[0:10]"
   ]
  },
  {
   "cell_type": "code",
   "execution_count": 35,
   "id": "8e9f22b2",
   "metadata": {},
   "outputs": [],
   "source": [
    "keep_cells = pd.read_csv('pbmc_keep_cells.csv', header=None)"
   ]
  },
  {
   "cell_type": "code",
   "execution_count": 36,
   "id": "13f51bc6",
   "metadata": {},
   "outputs": [],
   "source": [
    "keep_cells = np.array(keep_cells.iloc[0,:])"
   ]
  },
  {
   "cell_type": "code",
   "execution_count": 37,
   "id": "221b0ebd",
   "metadata": {},
   "outputs": [
    {
     "name": "stdout",
     "output_type": "stream",
     "text": [
      "scsorter\n",
      "0\n",
      "tensor(0.9955)\n",
      "1\n",
      "tensor(0.8428)\n",
      "2\n",
      "tensor(0.5091)\n",
      "3\n",
      "tensor(0.8361)\n",
      "4\n",
      "tensor(0.9186)\n"
     ]
    }
   ],
   "source": [
    "label_path = \"/home/groups/ConradLab/daniel/sharp_data/pbmc_test/labels_cd4-8.csv\"\n",
    "pred_path = \"/home/groups/ConradLab/daniel/sharp_data/pbmc_test/preds.csv\"\n",
    "tool_list = ['scsorter']\n",
    "get_tool_accuracy(label_path, pred_path, tool_list, [0,1,2,3,4], keep_cells)"
   ]
  },
  {
   "cell_type": "code",
   "execution_count": 15,
   "id": "1b22fdcf",
   "metadata": {},
   "outputs": [
    {
     "data": {
      "text/plain": [
       "7572"
      ]
     },
     "execution_count": 15,
     "metadata": {},
     "output_type": "execute_result"
    }
   ],
   "source": [
    "np.count_nonzero(labels.to_numpy() == \"cd56_nk\")"
   ]
  },
  {
   "cell_type": "code",
   "execution_count": 9,
   "id": "b4c5b1bc",
   "metadata": {},
   "outputs": [
    {
     "data": {
      "text/html": [
       "<div>\n",
       "<style scoped>\n",
       "    .dataframe tbody tr th:only-of-type {\n",
       "        vertical-align: middle;\n",
       "    }\n",
       "\n",
       "    .dataframe tbody tr th {\n",
       "        vertical-align: top;\n",
       "    }\n",
       "\n",
       "    .dataframe thead th {\n",
       "        text-align: right;\n",
       "    }\n",
       "</style>\n",
       "<table border=\"1\" class=\"dataframe\">\n",
       "  <thead>\n",
       "    <tr style=\"text-align: right;\">\n",
       "      <th></th>\n",
       "      <th>0</th>\n",
       "    </tr>\n",
       "  </thead>\n",
       "  <tbody>\n",
       "    <tr>\n",
       "      <th>0</th>\n",
       "      <td>4.0</td>\n",
       "    </tr>\n",
       "    <tr>\n",
       "      <th>1</th>\n",
       "      <td>3.0</td>\n",
       "    </tr>\n",
       "    <tr>\n",
       "      <th>2</th>\n",
       "      <td>2.0</td>\n",
       "    </tr>\n",
       "    <tr>\n",
       "      <th>3</th>\n",
       "      <td>2.0</td>\n",
       "    </tr>\n",
       "    <tr>\n",
       "      <th>4</th>\n",
       "      <td>2.0</td>\n",
       "    </tr>\n",
       "    <tr>\n",
       "      <th>...</th>\n",
       "      <td>...</td>\n",
       "    </tr>\n",
       "    <tr>\n",
       "      <th>76876</th>\n",
       "      <td>0.0</td>\n",
       "    </tr>\n",
       "    <tr>\n",
       "      <th>76877</th>\n",
       "      <td>1.0</td>\n",
       "    </tr>\n",
       "    <tr>\n",
       "      <th>76878</th>\n",
       "      <td>4.0</td>\n",
       "    </tr>\n",
       "    <tr>\n",
       "      <th>76879</th>\n",
       "      <td>2.0</td>\n",
       "    </tr>\n",
       "    <tr>\n",
       "      <th>76880</th>\n",
       "      <td>4.0</td>\n",
       "    </tr>\n",
       "  </tbody>\n",
       "</table>\n",
       "<p>76881 rows × 1 columns</p>\n",
       "</div>"
      ],
      "text/plain": [
       "         0\n",
       "0      4.0\n",
       "1      3.0\n",
       "2      2.0\n",
       "3      2.0\n",
       "4      2.0\n",
       "...    ...\n",
       "76876  0.0\n",
       "76877  1.0\n",
       "76878  4.0\n",
       "76879  2.0\n",
       "76880  4.0\n",
       "\n",
       "[76881 rows x 1 columns]"
      ]
     },
     "execution_count": 9,
     "metadata": {},
     "output_type": "execute_result"
    }
   ],
   "source": [
    "conf_labels = pd.read_csv(\"/home/groups/ConradLab/daniel/sharp_data/pbmc_test/confident_labels.csv\", index_col=0)\n",
    "conf_labels"
   ]
  },
  {
   "cell_type": "code",
   "execution_count": 12,
   "id": "ebbd4827",
   "metadata": {},
   "outputs": [],
   "source": [
    "umap_embedding = pd.read_csv(\"/home/groups/ConradLab/daniel/sharp_data/pbmc_test/umap_embedding.csv\", index_col=0)\n",
    "umap_embedding['real labels'] = labels\n",
    "\n",
    "umap_embedding['confident labels'] = conf_labels.astype('int').to_numpy().flatten()\n",
    "map_dict = {-1:\"unknown\", 0:\"b_cells\", 1:\"cd14_monocytes\", 2:\"cd4_t_cell\", 3:\"cd56_nk\", 4:\"cd8_t_cell\"}\n",
    "umap_embedding['confident labels'] = umap_embedding[\"confident labels\"].map(map_dict)"
   ]
  },
  {
   "cell_type": "code",
   "execution_count": 8,
   "id": "8265d4eb",
   "metadata": {},
   "outputs": [
    {
     "data": {
      "text/plain": [
       "<matplotlib.legend.Legend at 0x7eff27cad8e0>"
      ]
     },
     "execution_count": 8,
     "metadata": {},
     "output_type": "execute_result"
    },
    {
     "data": {
      "image/png": "[encoded data removed]",
      "text/plain": [
       "<Figure size 432x288 with 1 Axes>"
      ]
     },
     "metadata": {
      "needs_background": "light"
     },
     "output_type": "display_data"
    }
   ],
   "source": [
    "umap_embedding = pd.read_csv(\"/home/groups/ConradLab/daniel/sharp_data/pbmc_test/umap_embedding.csv\", index_col=0)\n",
    "umap_embedding['unknown'] = [-1] * umap_embedding.shape[0]\n",
    "sns.scatterplot(data=umap_embedding, x=\"UMAP_1\", y=\"UMAP_2\", hue=\"unknown\", s=6)\n",
    "plt.legend(bbox_to_anchor=(2,1))"
   ]
  },
  {
   "cell_type": "code",
   "execution_count": 29,
   "id": "d07d3fc4",
   "metadata": {},
   "outputs": [
    {
     "data": {
      "text/plain": [
       "CTCAATTGCTTGAG-1-15        cd8_t_cell\n",
       "ATGTTGCTTTGCGA-1-34           cd56_nk\n",
       "TGATCGGACACAAC-1-41        cd8_t_cell\n",
       "ACAAAGGAAGATGA-1-74        cd8_t_cell\n",
       "CAATATGATGCTTT-1-20        cd8_t_cell\n",
       "                            ...      \n",
       "GAACCTGAGTCCTC-1-39           b_cells\n",
       "ACGGTAACTAACGC-1-57    cd14_monocytes\n",
       "AAGATGGACACTCC-1-27        cd8_t_cell\n",
       "CATGCGCTTAACCG-1-26        cd8_t_cell\n",
       "GGAGTTTGTTGACG-1-27        cd8_t_cell\n",
       "Name: confident labels, Length: 76881, dtype: object"
      ]
     },
     "execution_count": 29,
     "metadata": {},
     "output_type": "execute_result"
    }
   ],
   "source": [
    "umap_embedding['confident labels']"
   ]
  },
  {
   "cell_type": "code",
   "execution_count": 13,
   "id": "d103e770",
   "metadata": {},
   "outputs": [
    {
     "data": {
      "text/plain": [
       "<matplotlib.legend.Legend at 0x7eff272a7d30>"
      ]
     },
     "execution_count": 13,
     "metadata": {},
     "output_type": "execute_result"
    },
    {
     "data": {
      "image/png": "[encoded data removed]",
      "text/plain": [
       "<Figure size 432x288 with 1 Axes>"
      ]
     },
     "metadata": {
      "needs_background": "light"
     },
     "output_type": "display_data"
    }
   ],
   "source": [
    "sns.scatterplot(data=umap_embedding, x=\"UMAP_1\", y=\"UMAP_2\", hue=\"real labels\", s=6, palette=dict(cd8_t_cell='#db5f57', cd56_nk=\"#d3db57\", cd4_t_cell = \"#57db5f\", b_cells='#57d3db', cd14_monocytes='#db57d3'))\n",
    "plt.legend(bbox_to_anchor=(1.05,1))"
   ]
  },
  {
   "cell_type": "code",
   "execution_count": 11,
   "id": "d992e6d4",
   "metadata": {},
   "outputs": [
    {
     "data": {
      "text/plain": [
       "<matplotlib.legend.Legend at 0x7fea2c202160>"
      ]
     },
     "execution_count": 11,
     "metadata": {},
     "output_type": "execute_result"
    },
    {
     "data": {
      "image/png": "[encoded data removed]",
      "text/plain": [
       "<Figure size 432x288 with 1 Axes>"
      ]
     },
     "metadata": {
      "needs_background": "light"
     },
     "output_type": "display_data"
    }
   ],
   "source": [
    "sns.scatterplot(data=umap_embedding, x=\"UMAP_1\", y=\"UMAP_2\", hue=\"confident labels\", s=6, palette=dict(cd8_t_cell='#db5f57', cd56_nk=\"#d3db57\", cd4_t_cell = \"#57db5f\", b_cells='#57d3db', cd14_monocytes='#db57d3', unknown='#5f57db'))\n",
    "plt.legend(bbox_to_anchor=(1.05,1))"
   ]
  },
  {
   "cell_type": "code",
   "execution_count": 6,
   "id": "ac6cf352",
   "metadata": {},
   "outputs": [
    {
     "data": {
      "text/plain": [
       "2149"
      ]
     },
     "execution_count": 6,
     "metadata": {},
     "output_type": "execute_result"
    }
   ],
   "source": [
    "#conf_labels = conf_labels.astype('int').to_numpy().flatten()\n",
    "np.count_nonzero(conf_labels[conf_labels==-1])"
   ]
  },
  {
   "cell_type": "code",
   "execution_count": 4,
   "id": "1985012a",
   "metadata": {},
   "outputs": [
    {
     "data": {
      "text/plain": [
       "array([2, 4, 1, 0, 2, 2, 4, 2, 0, 3, 2, 4, 2, 2, 2, 0, 1, 4, 2, 4])"
      ]
     },
     "execution_count": 4,
     "metadata": {},
     "output_type": "execute_result"
    }
   ],
   "source": [
    "conf_labels[-20:]"
   ]
  }
 ],
 "metadata": {
  "kernelspec": {
   "display_name": "daniel_thesis",
   "language": "python",
   "name": "daniel_thesis_2"
  },
  "language_info": {
   "codemirror_mode": {
    "name": "ipython",
    "version": 3
   },
   "file_extension": ".py",
   "mimetype": "text/x-python",
   "name": "python",
   "nbconvert_exporter": "python",
   "pygments_lexer": "ipython3",
   "version": "3.9.7"
  }
 },
 "nbformat": 4,
 "nbformat_minor": 5
}
