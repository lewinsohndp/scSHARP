{
 "cells": [
  {
   "cell_type": "code",
   "execution_count": 2,
   "id": "08ce60ef",
   "metadata": {},
   "outputs": [
    {
     "name": "stderr",
     "output_type": "stream",
     "text": [
      "/home/users/lewinsda/.conda/envs/daniel_thesis_2/lib/python3.9/site-packages/tqdm/auto.py:22: TqdmWarning: IProgress not found. Please update jupyter and ipywidgets. See https://ipywidgets.readthedocs.io/en/stable/user_install.html\n",
      "  from .autonotebook import tqdm as notebook_tqdm\n"
     ]
    }
   ],
   "source": [
    "import utilities\n",
    "import numpy as np\n",
    "import pandas as pd\n",
    "from itertools import combinations, combinations_with_replacement\n",
    "from sklearn.metrics import pairwise_distances\n",
    "import matplotlib.pyplot as plt"
   ]
  },
  {
   "cell_type": "code",
   "execution_count": 2,
   "id": "f82cb253",
   "metadata": {},
   "outputs": [],
   "source": [
    "def disimilarity_new(X, group_1, group_2):\n",
    "    group_1 = np.array(group_1)\n",
    "    group_2 = np.array(group_2)\n",
    "    dist = pairwise_distances(X[group_1,:], X[group_2,:])\n",
    "    total = np.sum(dist)\n",
    "    return total / (group_1.sum() * group_2.sum())\n",
    "    \n",
    "    \n",
    "    "
   ]
  },
  {
   "cell_type": "code",
   "execution_count": 35,
   "id": "2a09c13c",
   "metadata": {},
   "outputs": [
    {
     "data": {
      "text/plain": [
       "1.7320508075688772"
      ]
     },
     "execution_count": 35,
     "metadata": {},
     "output_type": "execute_result"
    }
   ],
   "source": [
    "X = np.array([[1.0,1,1],[2,2,2],[3,3,3]])\n",
    "disimilarity_new(X, [True, False, True], [False, True, False])"
   ]
  },
  {
   "cell_type": "code",
   "execution_count": 8,
   "id": "d44b23ba",
   "metadata": {},
   "outputs": [
    {
     "data": {
      "text/plain": [
       "1.7320508075688772"
      ]
     },
     "execution_count": 8,
     "metadata": {},
     "output_type": "execute_result"
    }
   ],
   "source": [
    " utilities.average_linkage(np.array([[1,1,1], [3,3,3]]), np.array([[2,2,2]]))"
   ]
  },
  {
   "cell_type": "code",
   "execution_count": 15,
   "id": "f1b2b148",
   "metadata": {},
   "outputs": [],
   "source": [
    "def compare_cell_clusters(data_folder, counts, meta, meta_col):\n",
    "    # read in dataset\n",
    "    data_path = data_folder + counts\n",
    "    X = pd.read_csv(data_path, index_col=0)\n",
    "    X, keep_cells,_,_ = utilities.preprocess(np.array(X), scale=False)\n",
    "    meta_path = data_folder + meta\n",
    "    metadata = pd.read_csv(meta_path, index_col=0)\n",
    "    if type(meta_col)==int:\n",
    "        real_y, key = pd.factorize(metadata.iloc[:,meta_col], sort=True)\n",
    "    else: real_y, key = pd.factorize(metadata[meta_col], sort=True)\n",
    "    real_y = real_y[keep_cells]\n",
    "    \n",
    "    print(len(real_y))\n",
    "    print(X.shape)\n",
    "    types = len(np.unique(real_y))\n",
    "    ret = np.zeros(shape=(types, types))\n",
    "    for combo in combinations_with_replacement(np.unique(real_y),2):\n",
    "        #disimilarity = utilities.average_linkage(X[real_y == combo[0]], X[real_y == combo[1]])\n",
    "        disimilarity = disimilarity_new(X, real_y == combo[0], real_y == combo[1])\n",
    "        ret[combo[0], combo[1]] = disimilarity\n",
    "        print(str(key[combo[0]]) + \" and \" + str(key[combo[1]]) + \" = \" + str(disimilarity))\n",
    "        \n",
    "    upper = np.triu(ret)\n",
    "    ret = upper + upper.T - np.diag(upper.diagonal())\n",
    "    \n",
    "    print(key)\n",
    "    return ret"
   ]
  },
  {
   "cell_type": "code",
   "execution_count": 11,
   "id": "f950ce7d",
   "metadata": {},
   "outputs": [
    {
     "name": "stdout",
     "output_type": "stream",
     "text": [
      "692\n",
      "(692, 500)\n",
      "spc and spc = 73.74024959688256\n",
      "spc and spd = 73.88624422026061\n",
      "spc and spg = 81.2252694812486\n",
      "spd and spd = 70.04655140532545\n",
      "spd and spg = 82.85252019669828\n",
      "spg and spg = 67.53529039219366\n",
      "Index(['spc', 'spd', 'spg'], dtype='object')\n"
     ]
    },
    {
     "data": {
      "text/plain": [
       "array([[73.7402496 , 73.88624422, 81.22526948],\n",
       "       [ 0.        , 70.04655141, 82.8525202 ],\n",
       "       [ 0.        ,  0.        , 67.53529039]])"
      ]
     },
     "execution_count": 11,
     "metadata": {},
     "output_type": "execute_result"
    }
   ],
   "source": [
    "mat = compare_cell_clusters(\"/home/groups/ConradLab/daniel/sharp_data/jung/\", 'counts.csv', 'labels.csv', 0)\n",
    "mat"
   ]
  },
  {
   "cell_type": "code",
   "execution_count": 19,
   "id": "360ac516",
   "metadata": {},
   "outputs": [
    {
     "name": "stdout",
     "output_type": "stream",
     "text": [
      "692\n",
      "(692, 500)\n",
      "spc and spc = 73.74024119860253\n",
      "spc and spd = 73.88623765237494\n",
      "spc and spg = 81.2252694812486\n",
      "spd and spd = 70.04655140532545\n",
      "spd and spg = 82.85252019669828\n",
      "spg and spg = 67.53527866391443\n",
      "Index(['spc', 'spd', 'spg'], dtype='object')\n"
     ]
    },
    {
     "data": {
      "text/plain": [
       "<matplotlib.image.AxesImage at 0x7f11b81b9580>"
      ]
     },
     "execution_count": 19,
     "metadata": {},
     "output_type": "execute_result"
    },
    {
     "data": {
      "image/png": "[encoded data removed]",
      "text/plain": [
       "<Figure size 288x288 with 1 Axes>"
      ]
     },
     "metadata": {
      "needs_background": "light"
     },
     "output_type": "display_data"
    }
   ],
   "source": [
    "mat = compare_cell_clusters(\"/home/groups/ConradLab/daniel/sharp_data/jung/\", 'counts.csv', 'labels.csv', 0)\n",
    "plt.matshow(mat)"
   ]
  },
  {
   "cell_type": "code",
   "execution_count": 33,
   "id": "5d151e5b",
   "metadata": {},
   "outputs": [
    {
     "name": "stdout",
     "output_type": "stream",
     "text": [
      "spc and spd = 73.88623989455186\n",
      "spc and spg = 81.22526369768396\n",
      "spd and spg = 82.85252243550484\n",
      "Index(['spc', 'spd', 'spg'], dtype='object')\n"
     ]
    }
   ],
   "source": [
    "X, real_y = compare_cell_clusters(\"/home/groups/ConradLab/daniel/sharp_data/jung/\", 'counts.csv', 'labels.csv', 0)"
   ]
  },
  {
   "cell_type": "code",
   "execution_count": 21,
   "id": "d1862fcc",
   "metadata": {},
   "outputs": [
    {
     "name": "stdout",
     "output_type": "stream",
     "text": [
      "998\n",
      "(998, 500)\n",
      "Group1 and Group1 = 42.00748263996528\n",
      "Group1 and Group2 = 43.03839792823028\n",
      "Group1 and Group3 = 42.876817971283\n",
      "Group1 and Group4 = 41.65165515024908\n",
      "Group2 and Group2 = 42.74762328675087\n",
      "Group2 and Group3 = 43.13968981035037\n",
      "Group2 and Group4 = 41.908184175309465\n",
      "Group3 and Group3 = 42.21119569396386\n",
      "Group3 and Group4 = 41.698843537414966\n",
      "Group4 and Group4 = 39.705597667638486\n",
      "Index(['Group1', 'Group2', 'Group3', 'Group4'], dtype='object')\n"
     ]
    },
    {
     "data": {
      "text/plain": [
       "<matplotlib.image.AxesImage at 0x7f11b87617f0>"
      ]
     },
     "execution_count": 21,
     "metadata": {},
     "output_type": "execute_result"
    },
    {
     "data": {
      "image/png": "[encoded data removed]",
      "text/plain": [
       "<Figure size 288x288 with 1 Axes>"
      ]
     },
     "metadata": {
      "needs_background": "light"
     },
     "output_type": "display_data"
    }
   ],
   "source": [
    "mat = compare_cell_clusters(\"/home/groups/ConradLab/daniel/sharp_data/sharp_sims_test/splat_0.7_de_rq/\", 'query_counts.csv', 'query_meta.csv', \"Group\")\n",
    "plt.matshow(mat)"
   ]
  },
  {
   "cell_type": "code",
   "execution_count": 32,
   "id": "5c098281",
   "metadata": {},
   "outputs": [
    {
     "name": "stdout",
     "output_type": "stream",
     "text": [
      "Group1 and Group2 = 43.03840230729052\n",
      "Group1 and Group3 = 42.87681787266156\n",
      "Group1 and Group4 = 41.65165749806866\n",
      "Group2 and Group3 = 43.13969845362546\n",
      "Group2 and Group4 = 41.908186184949166\n",
      "Group3 and Group4 = 41.69884955141725\n",
      "Index(['Group1', 'Group2', 'Group3', 'Group4'], dtype='object')\n"
     ]
    }
   ],
   "source": [
    "X, real_y = compare_cell_clusters(\"/home/groups/ConradLab/daniel/sharp_data/sharp_sims_test/splat_0.7_de_rq/\", 'query_counts.csv', 'query_meta.csv', \"Group\")"
   ]
  },
  {
   "cell_type": "code",
   "execution_count": 22,
   "id": "db90fbc6",
   "metadata": {},
   "outputs": [
    {
     "name": "stdout",
     "output_type": "stream",
     "text": [
      "998\n",
      "(998, 500)\n",
      "Group1 and Group1 = 42.12329499658999\n",
      "Group1 and Group2 = 43.43349845101329\n",
      "Group1 and Group3 = 43.08833564922032\n",
      "Group1 and Group4 = 41.66392816969307\n",
      "Group2 and Group2 = 43.21062046492878\n",
      "Group2 and Group3 = 43.46095306975249\n",
      "Group2 and Group4 = 42.05804616928739\n",
      "Group3 and Group3 = 42.13851980007689\n",
      "Group3 and Group4 = 41.59050420168067\n",
      "Group4 and Group4 = 39.19979591836735\n",
      "Index(['Group1', 'Group2', 'Group3', 'Group4'], dtype='object')\n"
     ]
    },
    {
     "data": {
      "text/plain": [
       "<matplotlib.image.AxesImage at 0x7f11c193e580>"
      ]
     },
     "execution_count": 22,
     "metadata": {},
     "output_type": "execute_result"
    },
    {
     "data": {
      "image/png": "[encoded data removed]",
      "text/plain": [
       "<Figure size 288x288 with 1 Axes>"
      ]
     },
     "metadata": {
      "needs_background": "light"
     },
     "output_type": "display_data"
    }
   ],
   "source": [
    "mat = compare_cell_clusters(\"/home/groups/ConradLab/daniel/sharp_data/sharp_sims_test/splat_0.8_de_rq/\", 'query_counts.csv', 'query_meta.csv', \"Group\")\n",
    "plt.matshow(mat)"
   ]
  },
  {
   "cell_type": "code",
   "execution_count": 34,
   "id": "ea3a244b",
   "metadata": {
    "scrolled": true
   },
   "outputs": [
    {
     "name": "stdout",
     "output_type": "stream",
     "text": [
      "Group1 and Group2 = 43.433500149580254\n",
      "Group1 and Group3 = 43.08833691801796\n",
      "Group1 and Group4 = 41.663929044566274\n",
      "Group2 and Group3 = 43.46095330551942\n",
      "Group2 and Group4 = 42.058046933917865\n",
      "Group3 and Group4 = 41.59050578730638\n",
      "Index(['Group1', 'Group2', 'Group3', 'Group4'], dtype='object')\n"
     ]
    }
   ],
   "source": [
    "X, real_y = compare_cell_clusters(\"/home/groups/ConradLab/daniel/sharp_data/sharp_sims_test/splat_0.8_de_rq/\", 'query_counts.csv', 'query_meta.csv', \"Group\")"
   ]
  },
  {
   "cell_type": "code",
   "execution_count": 35,
   "id": "c9e3e2e2",
   "metadata": {},
   "outputs": [
    {
     "name": "stdout",
     "output_type": "stream",
     "text": [
      "Group1 and Group2 = 43.43349771633815\n",
      "Group1 and Group3 = 43.088334649695426\n",
      "Group1 and Group4 = 41.66392728654438\n",
      "Group2 and Group3 = 43.46095138971003\n",
      "Group2 and Group4 = 42.058045347130154\n",
      "Group3 and Group4 = 41.59050424668158\n",
      "Index(['Group1', 'Group2', 'Group3', 'Group4'], dtype='object')\n"
     ]
    }
   ],
   "source": [
    "X, real_y = compare_cell_clusters(\"/home/groups/ConradLab/daniel/sharp_data/sharp_sims_test/splat_0.8_de_rq/\", 'query_counts.csv', 'query_meta.csv', \"Group\")"
   ]
  },
  {
   "cell_type": "code",
   "execution_count": 37,
   "id": "ca25162d",
   "metadata": {},
   "outputs": [
    {
     "name": "stdout",
     "output_type": "stream",
     "text": [
      "Group1 and Group2 = 44.82626442378252\n",
      "Group1 and Group3 = 44.83444169183506\n",
      "Group1 and Group4 = 44.75475300480137\n",
      "Group2 and Group3 = 44.92729778925871\n",
      "Group2 and Group4 = 44.828342446496436\n",
      "Group3 and Group4 = 44.8283992729658\n",
      "Index(['Group1', 'Group2', 'Group3', 'Group4'], dtype='object')\n"
     ]
    }
   ],
   "source": [
    "X, real_y = compare_cell_clusters(\"/home/groups/ConradLab/daniel/sharp_data/sharp_sims_de_testing/splat_0.3_de_rq_103122/\", 'query_counts.csv', 'query_meta.csv', \"Group\")"
   ]
  },
  {
   "cell_type": "code",
   "execution_count": 38,
   "id": "87f78356",
   "metadata": {},
   "outputs": [
    {
     "name": "stdout",
     "output_type": "stream",
     "text": [
      "Group1 and Group2 = 45.861992683203624\n",
      "Group1 and Group3 = 45.79678448501366\n",
      "Group1 and Group4 = 45.45277033793568\n",
      "Group2 and Group3 = 46.091879768126375\n",
      "Group2 and Group4 = 45.659266812069994\n",
      "Group3 and Group4 = 45.61782638776969\n",
      "Index(['Group1', 'Group2', 'Group3', 'Group4'], dtype='object')\n"
     ]
    }
   ],
   "source": [
    "X, real_y = compare_cell_clusters(\"/home/groups/ConradLab/daniel/sharp_data/sharp_sims_de_testing/splat_0.9_de_rq_103122/\", 'query_counts.csv', 'query_meta.csv', \"Group\")"
   ]
  },
  {
   "cell_type": "code",
   "execution_count": 17,
   "id": "cfc1247b",
   "metadata": {},
   "outputs": [
    {
     "name": "stdout",
     "output_type": "stream",
     "text": [
      "(0, 1)\n",
      "(0, 2)\n",
      "(1, 2)\n"
     ]
    }
   ],
   "source": [
    "for combo in combinations([0,1,2], 2):\n",
    "    print(combo)"
   ]
  },
  {
   "cell_type": "code",
   "execution_count": 11,
   "id": "9dbde99b",
   "metadata": {
    "scrolled": true
   },
   "outputs": [
    {
     "data": {
      "text/plain": [
       "array([2, 2, 2, 0, 2, 1, 1, 0, 2, 2, 0, 1, 0, 2, 0, 0, 0, 2, 0, 0, 2, 2,\n",
       "       0, 2, 0, 2, 2, 2, 2, 0, 0, 2, 2, 2, 0, 1, 2, 2, 0, 2, 0, 2, 0, 2,\n",
       "       1, 2, 2, 0, 0, 2, 2, 1, 2, 0, 0, 2, 0, 2, 2, 0, 2, 0, 0, 0, 1, 0,\n",
       "       0, 1, 1, 1, 1, 2, 0, 2, 0, 2, 2, 2, 1, 0, 0, 2, 0, 2, 0, 0, 1, 1,\n",
       "       2, 2, 2, 1, 2, 0, 2, 2, 0, 0, 0, 0, 0, 1, 1, 0, 1, 0, 1, 1, 2, 0,\n",
       "       0, 1, 1, 0, 0, 2, 1, 2, 2, 2, 1, 0, 2, 1, 2, 2, 0, 2, 2, 2, 2, 0,\n",
       "       1, 1, 2, 2, 0, 2, 0, 1, 2, 1, 2, 1, 0, 2, 2, 1, 2, 0, 2, 1, 2, 2,\n",
       "       0, 2, 0, 1, 2, 2, 2, 2, 0, 0, 1, 2, 0, 2, 1, 0, 0, 2, 0, 2, 0, 0,\n",
       "       0, 1, 0, 2, 0, 2, 0, 0, 2, 2, 0, 2, 2, 2, 1, 0, 0, 2, 2, 0, 2, 2,\n",
       "       1, 1, 2, 2, 2, 2, 0, 2, 2, 1, 1, 0, 2, 0, 2, 0, 0, 0, 1, 0, 1, 0,\n",
       "       0, 1, 2, 2, 0, 1, 0, 2, 1, 2, 0, 1, 2, 2, 1, 2, 0, 2, 0, 1, 1, 2,\n",
       "       1, 2, 0, 0, 2, 2, 2, 2, 2, 2, 2, 1, 1, 2, 2, 2, 1, 2, 2, 1, 2, 0,\n",
       "       0, 0, 1, 0, 2, 1, 0, 2, 2, 0, 2, 1, 0, 0, 1, 2, 2, 0, 1, 1, 2, 0,\n",
       "       2, 0, 0, 1, 0, 2, 0, 2, 2, 2, 1, 0, 1, 1, 2, 0, 1, 2, 0, 2, 2, 1,\n",
       "       0, 2, 0, 1, 0, 0, 0, 0, 1, 1, 2, 1, 0, 2, 2, 2, 0, 0, 2, 2, 2, 2,\n",
       "       1, 0, 2, 1, 0, 0, 1, 2, 0, 0, 2, 1, 0, 1, 0, 2, 2, 0, 0, 2, 2, 1,\n",
       "       0, 1, 1, 1, 0, 2, 1, 2, 2, 0, 2, 2, 1, 1, 2, 0, 0, 2, 2, 2, 0, 2,\n",
       "       2, 0, 0, 1, 0, 0, 1, 1, 2, 0, 0, 0, 2, 0, 1, 1, 0, 2, 1, 1, 2, 2,\n",
       "       0, 0, 1, 0, 1, 0, 1, 0, 2, 2, 0, 1, 1, 2, 1, 2, 1, 1, 2, 1, 0, 0,\n",
       "       2, 0, 1, 1, 2, 2, 0, 0, 0, 1, 1, 2, 0, 2, 1, 2, 0, 2, 2, 1, 0, 2,\n",
       "       2, 0, 0, 0, 2, 2, 2, 0, 2, 2, 1, 0, 0, 2, 1, 0, 1, 1, 0, 2, 2, 1,\n",
       "       0, 0, 0, 2, 0, 0, 2, 2, 1, 2, 2, 0, 2, 2, 2, 2, 2, 2, 0, 0, 2, 2,\n",
       "       1, 0, 0, 1, 2, 0, 2, 0, 2, 0, 2, 0, 0, 0, 2, 0, 2, 1, 2, 1, 2, 0,\n",
       "       2, 2, 0, 0, 0, 2, 0, 2, 0, 0, 2, 0, 1, 0, 0, 1, 1, 2, 2, 2, 2, 1,\n",
       "       2, 2, 0, 1, 0, 0, 2, 2, 1, 1, 1, 2, 0, 2, 1, 0, 0, 1, 0, 0, 2, 1,\n",
       "       0, 2, 2, 1, 2, 1, 0, 2, 0, 1, 2, 2, 0, 2, 2, 0, 2, 2, 0, 1, 1, 2,\n",
       "       2, 1, 2, 2, 0, 1, 2, 2, 2, 2, 1, 0, 2, 2, 2, 0, 0, 1, 2, 2, 2, 0,\n",
       "       1, 0, 2, 2, 0, 1, 2, 0, 2, 0, 2, 2, 2, 2, 2, 0, 0, 0, 2, 1, 0, 2,\n",
       "       1, 1, 0, 1, 0, 0, 0, 2, 2, 2, 2, 0, 0, 0, 2, 2, 0, 2, 2, 1, 1, 1,\n",
       "       2, 2, 2, 0, 0, 1, 0, 1, 1, 0, 0, 1, 2, 2, 2, 2, 1, 2, 2, 2, 0, 0,\n",
       "       2, 0, 2, 1, 0, 0, 2, 0, 1, 0, 2, 1, 0, 0, 1, 0, 2, 1, 1, 0, 0, 0,\n",
       "       2, 2, 2, 2, 2, 2, 1, 2, 0, 0])"
      ]
     },
     "execution_count": 11,
     "metadata": {},
     "output_type": "execute_result"
    }
   ],
   "source": [
    "real_y"
   ]
  },
  {
   "cell_type": "code",
   "execution_count": 13,
   "id": "b33f095f",
   "metadata": {},
   "outputs": [
    {
     "data": {
      "text/plain": [
       "array([[-14.185537  ,  -7.458223  ,   8.384081  , ...,  -0.1183617 ,\n",
       "         -0.58229095,   1.5128574 ],\n",
       "       [-15.797154  , -13.1198225 ,   5.4865193 , ...,   1.193898  ,\n",
       "          1.3348278 ,   0.98085797],\n",
       "       [ -1.5621954 , -10.570117  ,  -4.47332   , ...,   1.0716755 ,\n",
       "         -1.2324159 ,  -0.64864415],\n",
       "       ...,\n",
       "       [-11.904461  , -11.370434  ,   6.843371  , ...,  -0.32835588,\n",
       "          2.4064457 ,  -0.36809808],\n",
       "       [-13.625015  , -10.563273  ,   5.9214606 , ...,  -1.1095074 ,\n",
       "          0.36168855,   0.94928414],\n",
       "       [-14.012843  , -12.057545  ,   4.094969  , ...,  -1.2905434 ,\n",
       "         -0.7926164 ,  -0.35491347]], dtype=float32)"
      ]
     },
     "execution_count": 13,
     "metadata": {},
     "output_type": "execute_result"
    }
   ],
   "source": [
    "X[real_y==0]"
   ]
  },
  {
   "cell_type": "code",
   "execution_count": 3,
   "id": "5e24412e",
   "metadata": {},
   "outputs": [
    {
     "data": {
      "text/plain": [
       "<matplotlib.image.AxesImage at 0x7f4f804242e0>"
      ]
     },
     "execution_count": 3,
     "metadata": {},
     "output_type": "execute_result"
    },
    {
     "data": {
      "image/png": "[encoded data removed]",
      "text/plain": [
       "<Figure size 288x288 with 1 Axes>"
      ]
     },
     "metadata": {
      "needs_background": "light"
     },
     "output_type": "display_data"
    }
   ],
   "source": [
    "#pbmc grid\n",
    "mat = [[31.45326258, 39.66530823, 36.41303546, 39.16775237, 35.15459829],\n",
    " [39.66530823, 34.6659908,  41.36156587, 42.04896043, 40.639878],\n",
    " [36.41303546, 41.36156587, 34.67618332, 38.36158832, 34.04338626],\n",
    " [39.16775237, 42.04896043, 38.36158832, 33.07130903, 36.92302339],\n",
    " [35.15459829, 40.639878,   34.04338626, 36.92302339, 32.22839927]]\n",
    "\n",
    "plt.matshow(mat)"
   ]
  }
 ],
 "metadata": {
  "kernelspec": {
   "display_name": "daniel_thesis",
   "language": "python",
   "name": "daniel_thesis_2"
  },
  "language_info": {
   "codemirror_mode": {
    "name": "ipython",
    "version": 3
   },
   "file_extension": ".py",
   "mimetype": "text/x-python",
   "name": "python",
   "nbconvert_exporter": "python",
   "pygments_lexer": "ipython3",
   "version": "3.9.7"
  }
 },
 "nbformat": 4,
 "nbformat_minor": 5
}
