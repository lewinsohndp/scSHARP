{
 "cells": [
  {
   "cell_type": "code",
   "execution_count": 16,
   "id": "08ce60ef",
   "metadata": {},
   "outputs": [],
   "source": [
    "import utilities\n",
    "import numpy as np\n",
    "import pandas as pd\n",
    "from itertools import combinations"
   ]
  },
  {
   "cell_type": "code",
   "execution_count": 30,
   "id": "f1b2b148",
   "metadata": {},
   "outputs": [],
   "source": [
    "def compare_cell_clusters(data_folder, counts, meta, meta_col):\n",
    "    # read in dataset\n",
    "    data_path = data_folder + counts\n",
    "    X = pd.read_csv(data_path, index_col=0)\n",
    "    X, keep_cells,_,_ = utilities.preprocess(np.array(X), scale=False)\n",
    "    meta_path = data_folder + meta\n",
    "    metadata = pd.read_csv(meta_path, index_col=0)\n",
    "    if type(meta_col)==int:\n",
    "        real_y, key = pd.factorize(metadata.iloc[:,meta_col], sort=True)\n",
    "    else: real_y, key = pd.factorize(metadata[meta_col], sort=True)\n",
    "    real_y = real_y[keep_cells]\n",
    "    \n",
    "    for combo in combinations(np.unique(real_y),2):\n",
    "        disimilarity = utilities.average_linkage(X[real_y == combo[0]], X[real_y == combo[1]])\n",
    "        print(str(key[combo[0]]) + \" and \" + str(key[combo[1]]) + \" = \" + str(disimilarity))\n",
    "    \n",
    "    print(key)\n",
    "    return X, real_y"
   ]
  },
  {
   "cell_type": "code",
   "execution_count": 33,
   "id": "5d151e5b",
   "metadata": {},
   "outputs": [
    {
     "name": "stdout",
     "output_type": "stream",
     "text": [
      "spc and spd = 73.88623989455186\n",
      "spc and spg = 81.22526369768396\n",
      "spd and spg = 82.85252243550484\n",
      "Index(['spc', 'spd', 'spg'], dtype='object')\n"
     ]
    }
   ],
   "source": [
    "X, real_y = compare_cell_clusters(\"/home/groups/ConradLab/daniel/sharp_data/jung/\", 'counts.csv', 'labels.csv', 0)"
   ]
  },
  {
   "cell_type": "code",
   "execution_count": 32,
   "id": "5c098281",
   "metadata": {},
   "outputs": [
    {
     "name": "stdout",
     "output_type": "stream",
     "text": [
      "Group1 and Group2 = 43.03840230729052\n",
      "Group1 and Group3 = 42.87681787266156\n",
      "Group1 and Group4 = 41.65165749806866\n",
      "Group2 and Group3 = 43.13969845362546\n",
      "Group2 and Group4 = 41.908186184949166\n",
      "Group3 and Group4 = 41.69884955141725\n",
      "Index(['Group1', 'Group2', 'Group3', 'Group4'], dtype='object')\n"
     ]
    }
   ],
   "source": [
    "X, real_y = compare_cell_clusters(\"/home/groups/ConradLab/daniel/sharp_data/sharp_sims_test/splat_0.7_de_rq/\", 'query_counts.csv', 'query_meta.csv', \"Group\")"
   ]
  },
  {
   "cell_type": "code",
   "execution_count": 34,
   "id": "ea3a244b",
   "metadata": {
    "scrolled": true
   },
   "outputs": [
    {
     "name": "stdout",
     "output_type": "stream",
     "text": [
      "Group1 and Group2 = 43.433500149580254\n",
      "Group1 and Group3 = 43.08833691801796\n",
      "Group1 and Group4 = 41.663929044566274\n",
      "Group2 and Group3 = 43.46095330551942\n",
      "Group2 and Group4 = 42.058046933917865\n",
      "Group3 and Group4 = 41.59050578730638\n",
      "Index(['Group1', 'Group2', 'Group3', 'Group4'], dtype='object')\n"
     ]
    }
   ],
   "source": [
    "X, real_y = compare_cell_clusters(\"/home/groups/ConradLab/daniel/sharp_data/sharp_sims_test/splat_0.8_de_rq/\", 'query_counts.csv', 'query_meta.csv', \"Group\")"
   ]
  },
  {
   "cell_type": "code",
   "execution_count": 35,
   "id": "c9e3e2e2",
   "metadata": {},
   "outputs": [
    {
     "name": "stdout",
     "output_type": "stream",
     "text": [
      "Group1 and Group2 = 43.43349771633815\n",
      "Group1 and Group3 = 43.088334649695426\n",
      "Group1 and Group4 = 41.66392728654438\n",
      "Group2 and Group3 = 43.46095138971003\n",
      "Group2 and Group4 = 42.058045347130154\n",
      "Group3 and Group4 = 41.59050424668158\n",
      "Index(['Group1', 'Group2', 'Group3', 'Group4'], dtype='object')\n"
     ]
    }
   ],
   "source": [
    "X, real_y = compare_cell_clusters(\"/home/groups/ConradLab/daniel/sharp_data/sharp_sims_test/splat_0.8_de_rq/\", 'query_counts.csv', 'query_meta.csv', \"Group\")"
   ]
  },
  {
   "cell_type": "code",
   "execution_count": 37,
   "id": "ca25162d",
   "metadata": {},
   "outputs": [
    {
     "name": "stdout",
     "output_type": "stream",
     "text": [
      "Group1 and Group2 = 44.82626442378252\n",
      "Group1 and Group3 = 44.83444169183506\n",
      "Group1 and Group4 = 44.75475300480137\n",
      "Group2 and Group3 = 44.92729778925871\n",
      "Group2 and Group4 = 44.828342446496436\n",
      "Group3 and Group4 = 44.8283992729658\n",
      "Index(['Group1', 'Group2', 'Group3', 'Group4'], dtype='object')\n"
     ]
    }
   ],
   "source": [
    "X, real_y = compare_cell_clusters(\"/home/groups/ConradLab/daniel/sharp_data/sharp_sims_de_testing/splat_0.3_de_rq_103122/\", 'query_counts.csv', 'query_meta.csv', \"Group\")"
   ]
  },
  {
   "cell_type": "code",
   "execution_count": 38,
   "id": "87f78356",
   "metadata": {},
   "outputs": [
    {
     "name": "stdout",
     "output_type": "stream",
     "text": [
      "Group1 and Group2 = 45.861992683203624\n",
      "Group1 and Group3 = 45.79678448501366\n",
      "Group1 and Group4 = 45.45277033793568\n",
      "Group2 and Group3 = 46.091879768126375\n",
      "Group2 and Group4 = 45.659266812069994\n",
      "Group3 and Group4 = 45.61782638776969\n",
      "Index(['Group1', 'Group2', 'Group3', 'Group4'], dtype='object')\n"
     ]
    }
   ],
   "source": [
    "X, real_y = compare_cell_clusters(\"/home/groups/ConradLab/daniel/sharp_data/sharp_sims_de_testing/splat_0.9_de_rq_103122/\", 'query_counts.csv', 'query_meta.csv', \"Group\")"
   ]
  },
  {
   "cell_type": "code",
   "execution_count": 17,
   "id": "cfc1247b",
   "metadata": {},
   "outputs": [
    {
     "name": "stdout",
     "output_type": "stream",
     "text": [
      "(0, 1)\n",
      "(0, 2)\n",
      "(1, 2)\n"
     ]
    }
   ],
   "source": [
    "for combo in combinations([0,1,2], 2):\n",
    "    print(combo)"
   ]
  },
  {
   "cell_type": "code",
   "execution_count": 11,
   "id": "9dbde99b",
   "metadata": {
    "scrolled": true
   },
   "outputs": [
    {
     "data": {
      "text/plain": [
       "array([2, 2, 2, 0, 2, 1, 1, 0, 2, 2, 0, 1, 0, 2, 0, 0, 0, 2, 0, 0, 2, 2,\n",
       "       0, 2, 0, 2, 2, 2, 2, 0, 0, 2, 2, 2, 0, 1, 2, 2, 0, 2, 0, 2, 0, 2,\n",
       "       1, 2, 2, 0, 0, 2, 2, 1, 2, 0, 0, 2, 0, 2, 2, 0, 2, 0, 0, 0, 1, 0,\n",
       "       0, 1, 1, 1, 1, 2, 0, 2, 0, 2, 2, 2, 1, 0, 0, 2, 0, 2, 0, 0, 1, 1,\n",
       "       2, 2, 2, 1, 2, 0, 2, 2, 0, 0, 0, 0, 0, 1, 1, 0, 1, 0, 1, 1, 2, 0,\n",
       "       0, 1, 1, 0, 0, 2, 1, 2, 2, 2, 1, 0, 2, 1, 2, 2, 0, 2, 2, 2, 2, 0,\n",
       "       1, 1, 2, 2, 0, 2, 0, 1, 2, 1, 2, 1, 0, 2, 2, 1, 2, 0, 2, 1, 2, 2,\n",
       "       0, 2, 0, 1, 2, 2, 2, 2, 0, 0, 1, 2, 0, 2, 1, 0, 0, 2, 0, 2, 0, 0,\n",
       "       0, 1, 0, 2, 0, 2, 0, 0, 2, 2, 0, 2, 2, 2, 1, 0, 0, 2, 2, 0, 2, 2,\n",
       "       1, 1, 2, 2, 2, 2, 0, 2, 2, 1, 1, 0, 2, 0, 2, 0, 0, 0, 1, 0, 1, 0,\n",
       "       0, 1, 2, 2, 0, 1, 0, 2, 1, 2, 0, 1, 2, 2, 1, 2, 0, 2, 0, 1, 1, 2,\n",
       "       1, 2, 0, 0, 2, 2, 2, 2, 2, 2, 2, 1, 1, 2, 2, 2, 1, 2, 2, 1, 2, 0,\n",
       "       0, 0, 1, 0, 2, 1, 0, 2, 2, 0, 2, 1, 0, 0, 1, 2, 2, 0, 1, 1, 2, 0,\n",
       "       2, 0, 0, 1, 0, 2, 0, 2, 2, 2, 1, 0, 1, 1, 2, 0, 1, 2, 0, 2, 2, 1,\n",
       "       0, 2, 0, 1, 0, 0, 0, 0, 1, 1, 2, 1, 0, 2, 2, 2, 0, 0, 2, 2, 2, 2,\n",
       "       1, 0, 2, 1, 0, 0, 1, 2, 0, 0, 2, 1, 0, 1, 0, 2, 2, 0, 0, 2, 2, 1,\n",
       "       0, 1, 1, 1, 0, 2, 1, 2, 2, 0, 2, 2, 1, 1, 2, 0, 0, 2, 2, 2, 0, 2,\n",
       "       2, 0, 0, 1, 0, 0, 1, 1, 2, 0, 0, 0, 2, 0, 1, 1, 0, 2, 1, 1, 2, 2,\n",
       "       0, 0, 1, 0, 1, 0, 1, 0, 2, 2, 0, 1, 1, 2, 1, 2, 1, 1, 2, 1, 0, 0,\n",
       "       2, 0, 1, 1, 2, 2, 0, 0, 0, 1, 1, 2, 0, 2, 1, 2, 0, 2, 2, 1, 0, 2,\n",
       "       2, 0, 0, 0, 2, 2, 2, 0, 2, 2, 1, 0, 0, 2, 1, 0, 1, 1, 0, 2, 2, 1,\n",
       "       0, 0, 0, 2, 0, 0, 2, 2, 1, 2, 2, 0, 2, 2, 2, 2, 2, 2, 0, 0, 2, 2,\n",
       "       1, 0, 0, 1, 2, 0, 2, 0, 2, 0, 2, 0, 0, 0, 2, 0, 2, 1, 2, 1, 2, 0,\n",
       "       2, 2, 0, 0, 0, 2, 0, 2, 0, 0, 2, 0, 1, 0, 0, 1, 1, 2, 2, 2, 2, 1,\n",
       "       2, 2, 0, 1, 0, 0, 2, 2, 1, 1, 1, 2, 0, 2, 1, 0, 0, 1, 0, 0, 2, 1,\n",
       "       0, 2, 2, 1, 2, 1, 0, 2, 0, 1, 2, 2, 0, 2, 2, 0, 2, 2, 0, 1, 1, 2,\n",
       "       2, 1, 2, 2, 0, 1, 2, 2, 2, 2, 1, 0, 2, 2, 2, 0, 0, 1, 2, 2, 2, 0,\n",
       "       1, 0, 2, 2, 0, 1, 2, 0, 2, 0, 2, 2, 2, 2, 2, 0, 0, 0, 2, 1, 0, 2,\n",
       "       1, 1, 0, 1, 0, 0, 0, 2, 2, 2, 2, 0, 0, 0, 2, 2, 0, 2, 2, 1, 1, 1,\n",
       "       2, 2, 2, 0, 0, 1, 0, 1, 1, 0, 0, 1, 2, 2, 2, 2, 1, 2, 2, 2, 0, 0,\n",
       "       2, 0, 2, 1, 0, 0, 2, 0, 1, 0, 2, 1, 0, 0, 1, 0, 2, 1, 1, 0, 0, 0,\n",
       "       2, 2, 2, 2, 2, 2, 1, 2, 0, 0])"
      ]
     },
     "execution_count": 11,
     "metadata": {},
     "output_type": "execute_result"
    }
   ],
   "source": [
    "real_y"
   ]
  },
  {
   "cell_type": "code",
   "execution_count": 13,
   "id": "b33f095f",
   "metadata": {},
   "outputs": [
    {
     "data": {
      "text/plain": [
       "array([[-14.185537  ,  -7.458223  ,   8.384081  , ...,  -0.1183617 ,\n",
       "         -0.58229095,   1.5128574 ],\n",
       "       [-15.797154  , -13.1198225 ,   5.4865193 , ...,   1.193898  ,\n",
       "          1.3348278 ,   0.98085797],\n",
       "       [ -1.5621954 , -10.570117  ,  -4.47332   , ...,   1.0716755 ,\n",
       "         -1.2324159 ,  -0.64864415],\n",
       "       ...,\n",
       "       [-11.904461  , -11.370434  ,   6.843371  , ...,  -0.32835588,\n",
       "          2.4064457 ,  -0.36809808],\n",
       "       [-13.625015  , -10.563273  ,   5.9214606 , ...,  -1.1095074 ,\n",
       "          0.36168855,   0.94928414],\n",
       "       [-14.012843  , -12.057545  ,   4.094969  , ...,  -1.2905434 ,\n",
       "         -0.7926164 ,  -0.35491347]], dtype=float32)"
      ]
     },
     "execution_count": 13,
     "metadata": {},
     "output_type": "execute_result"
    }
   ],
   "source": [
    "X[real_y==0]"
   ]
  }
 ],
 "metadata": {
  "kernelspec": {
   "display_name": "daniel_thesis",
   "language": "python",
   "name": "daniel_thesis_2"
  },
  "language_info": {
   "codemirror_mode": {
    "name": "ipython",
    "version": 3
   },
   "file_extension": ".py",
   "mimetype": "text/x-python",
   "name": "python",
   "nbconvert_exporter": "python",
   "pygments_lexer": "ipython3",
   "version": "3.9.7"
  }
 },
 "nbformat": 4,
 "nbformat_minor": 5
}
