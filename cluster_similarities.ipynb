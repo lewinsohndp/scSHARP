{
 "cells": [
  {
   "cell_type": "code",
   "execution_count": 2,
   "id": "08ce60ef",
   "metadata": {},
   "outputs": [],
   "source": [
    "import utilities\n",
    "import numpy as np\n",
    "import pandas as pd\n",
    "from itertools import combinations\n",
    "from sklearn.metrics import pairwise_distances"
   ]
  },
  {
   "cell_type": "code",
   "execution_count": 30,
   "id": "f82cb253",
   "metadata": {},
   "outputs": [],
   "source": [
    "def disimilarity_new(X, group_1, group_2):\n",
    "    group_1 = np.array(group_1)\n",
    "    group_2 = np.array(group_2)\n",
    "    print(len(group_1))\n",
    "    dist = pairwise_distances(X)\n",
    "    print(dist)\n",
    "    sub_dist = dist[group_1, group_2]\n",
    "    print(sub_dist)\n",
    "    total = np.sum(sub_dist)\n",
    "    print(total)\n",
    "    return total / (group_1.sum() * group_2.sum())\n",
    "    \n",
    "    \n",
    "    "
   ]
  },
  {
   "cell_type": "code",
   "execution_count": 16,
   "id": "2a09c13c",
   "metadata": {},
   "outputs": [
    {
     "name": "stdout",
     "output_type": "stream",
     "text": [
      "[[0.         1.73205081 3.46410162]\n",
      " [1.73205081 0.         1.73205081]\n",
      " [3.46410162 1.73205081 0.        ]]\n",
      "[1.73205081 1.73205081]\n",
      "3.4641016151377544\n"
     ]
    },
    {
     "data": {
      "text/plain": [
       "1.7320508075688772"
      ]
     },
     "execution_count": 16,
     "metadata": {},
     "output_type": "execute_result"
    }
   ],
   "source": [
    "X = np.array([[1,1,1],[2,2,2],[3,3,3]])\n",
    "disimilarity_new(X, [True, False, True], [False, True, False])"
   ]
  },
  {
   "cell_type": "code",
   "execution_count": 8,
   "id": "d44b23ba",
   "metadata": {},
   "outputs": [
    {
     "data": {
      "text/plain": [
       "1.7320508075688772"
      ]
     },
     "execution_count": 8,
     "metadata": {},
     "output_type": "execute_result"
    }
   ],
   "source": [
    " utilities.average_linkage(np.array([[1,1,1], [3,3,3]]), np.array([[2,2,2]]))"
   ]
  },
  {
   "cell_type": "code",
   "execution_count": 31,
   "id": "f1b2b148",
   "metadata": {},
   "outputs": [],
   "source": [
    "def compare_cell_clusters(data_folder, counts, meta, meta_col):\n",
    "    # read in dataset\n",
    "    data_path = data_folder + counts\n",
    "    X = pd.read_csv(data_path, index_col=0)\n",
    "    X, keep_cells,_,_ = utilities.preprocess(np.array(X), scale=False)\n",
    "    meta_path = data_folder + meta\n",
    "    metadata = pd.read_csv(meta_path, index_col=0)\n",
    "    if type(meta_col)==int:\n",
    "        real_y, key = pd.factorize(metadata.iloc[:,meta_col], sort=True)\n",
    "    else: real_y, key = pd.factorize(metadata[meta_col], sort=True)\n",
    "    real_y = real_y[keep_cells]\n",
    "    \n",
    "    for combo in combinations(np.unique(real_y),2):\n",
    "        #disimilarity = utilities.average_linkage(X[real_y == combo[0]], X[real_y == combo[1]])\n",
    "        disimilarity = disimilarity_new(X, real_y == combo[0], real_y == combo[1])\n",
    "        print(str(key[combo[0]]) + \" and \" + str(key[combo[1]]) + \" = \" + str(disimilarity))\n",
    "        \n",
    "    print(key)\n",
    "    return X, real_y"
   ]
  },
  {
   "cell_type": "code",
   "execution_count": 34,
   "id": "e5f1b3d9",
   "metadata": {},
   "outputs": [],
   "source": [
    "dist = pairwise_distances(X)"
   ]
  },
  {
   "cell_type": "code",
   "execution_count": 35,
   "id": "c473c629",
   "metadata": {},
   "outputs": [
    {
     "data": {
      "text/plain": [
       "(692, 692)"
      ]
     },
     "execution_count": 35,
     "metadata": {},
     "output_type": "execute_result"
    }
   ],
   "source": [
    "dist.shape"
   ]
  },
  {
   "cell_type": "code",
   "execution_count": 39,
   "id": "71cef1d1",
   "metadata": {},
   "outputs": [
    {
     "data": {
      "text/plain": [
       "(692,)"
      ]
     },
     "execution_count": 39,
     "metadata": {},
     "output_type": "execute_result"
    }
   ],
   "source": [
    "(real_y==1).shape"
   ]
  },
  {
   "cell_type": "code",
   "execution_count": 36,
   "id": "1093368c",
   "metadata": {},
   "outputs": [
    {
     "ename": "IndexError",
     "evalue": "shape mismatch: indexing arrays could not be broadcast together with shapes (244,) (156,) ",
     "output_type": "error",
     "traceback": [
      "\u001b[0;31m---------------------------------------------------------------------------\u001b[0m",
      "\u001b[0;31mIndexError\u001b[0m                                Traceback (most recent call last)",
      "Input \u001b[0;32mIn [36]\u001b[0m, in \u001b[0;36m<cell line: 1>\u001b[0;34m()\u001b[0m\n\u001b[0;32m----> 1\u001b[0m \u001b[43mdist\u001b[49m\u001b[43m[\u001b[49m\u001b[43mreal_y\u001b[49m\u001b[38;5;241;43m==\u001b[39;49m\u001b[38;5;241;43m0\u001b[39;49m\u001b[43m,\u001b[49m\u001b[43m \u001b[49m\u001b[43mreal_y\u001b[49m\u001b[38;5;241;43m==\u001b[39;49m\u001b[38;5;241;43m1\u001b[39;49m\u001b[43m]\u001b[49m\n",
      "\u001b[0;31mIndexError\u001b[0m: shape mismatch: indexing arrays could not be broadcast together with shapes (244,) (156,) "
     ]
    }
   ],
   "source": [
    "dist[real_y==0, real_y==1]"
   ]
  },
  {
   "cell_type": "code",
   "execution_count": 32,
   "id": "f950ce7d",
   "metadata": {},
   "outputs": [
    {
     "name": "stdout",
     "output_type": "stream",
     "text": [
      "692\n",
      "[[ 0.       39.220417 50.39939  ... 67.4028   79.62719  78.85395 ]\n",
      " [39.220417  0.       47.399456 ... 64.45823  78.15358  78.75876 ]\n",
      " [50.39939  47.399456  0.       ... 70.19003  80.61039  80.540245]\n",
      " ...\n",
      " [67.4028   64.45823  70.19003  ...  0.       83.288445 83.17234 ]\n",
      " [79.62719  78.15358  80.61039  ... 83.288445  0.       70.954414]\n",
      " [78.85395  78.75876  80.540245 ... 83.17234  70.954414  0.      ]]\n"
     ]
    },
    {
     "ename": "IndexError",
     "evalue": "shape mismatch: indexing arrays could not be broadcast together with shapes (244,) (156,) ",
     "output_type": "error",
     "traceback": [
      "\u001b[0;31m---------------------------------------------------------------------------\u001b[0m",
      "\u001b[0;31mIndexError\u001b[0m                                Traceback (most recent call last)",
      "Input \u001b[0;32mIn [32]\u001b[0m, in \u001b[0;36m<cell line: 1>\u001b[0;34m()\u001b[0m\n\u001b[0;32m----> 1\u001b[0m X, real_y \u001b[38;5;241m=\u001b[39m \u001b[43mcompare_cell_clusters\u001b[49m\u001b[43m(\u001b[49m\u001b[38;5;124;43m\"\u001b[39;49m\u001b[38;5;124;43m/home/groups/ConradLab/daniel/sharp_data/jung/\u001b[39;49m\u001b[38;5;124;43m\"\u001b[39;49m\u001b[43m,\u001b[49m\u001b[43m \u001b[49m\u001b[38;5;124;43m'\u001b[39;49m\u001b[38;5;124;43mcounts.csv\u001b[39;49m\u001b[38;5;124;43m'\u001b[39;49m\u001b[43m,\u001b[49m\u001b[43m \u001b[49m\u001b[38;5;124;43m'\u001b[39;49m\u001b[38;5;124;43mlabels.csv\u001b[39;49m\u001b[38;5;124;43m'\u001b[39;49m\u001b[43m,\u001b[49m\u001b[43m \u001b[49m\u001b[38;5;241;43m0\u001b[39;49m\u001b[43m)\u001b[49m\n",
      "Input \u001b[0;32mIn [31]\u001b[0m, in \u001b[0;36mcompare_cell_clusters\u001b[0;34m(data_folder, counts, meta, meta_col)\u001b[0m\n\u001b[1;32m     11\u001b[0m real_y \u001b[38;5;241m=\u001b[39m real_y[keep_cells]\n\u001b[1;32m     13\u001b[0m \u001b[38;5;28;01mfor\u001b[39;00m combo \u001b[38;5;129;01min\u001b[39;00m combinations(np\u001b[38;5;241m.\u001b[39munique(real_y),\u001b[38;5;241m2\u001b[39m):\n\u001b[1;32m     14\u001b[0m     \u001b[38;5;66;03m#disimilarity = utilities.average_linkage(X[real_y == combo[0]], X[real_y == combo[1]])\u001b[39;00m\n\u001b[0;32m---> 15\u001b[0m     disimilarity \u001b[38;5;241m=\u001b[39m \u001b[43mdisimilarity_new\u001b[49m\u001b[43m(\u001b[49m\u001b[43mX\u001b[49m\u001b[43m,\u001b[49m\u001b[43m \u001b[49m\u001b[43mreal_y\u001b[49m\u001b[43m \u001b[49m\u001b[38;5;241;43m==\u001b[39;49m\u001b[43m \u001b[49m\u001b[43mcombo\u001b[49m\u001b[43m[\u001b[49m\u001b[38;5;241;43m0\u001b[39;49m\u001b[43m]\u001b[49m\u001b[43m,\u001b[49m\u001b[43m \u001b[49m\u001b[43mreal_y\u001b[49m\u001b[43m \u001b[49m\u001b[38;5;241;43m==\u001b[39;49m\u001b[43m \u001b[49m\u001b[43mcombo\u001b[49m\u001b[43m[\u001b[49m\u001b[38;5;241;43m1\u001b[39;49m\u001b[43m]\u001b[49m\u001b[43m)\u001b[49m\n\u001b[1;32m     16\u001b[0m     \u001b[38;5;28mprint\u001b[39m(\u001b[38;5;28mstr\u001b[39m(key[combo[\u001b[38;5;241m0\u001b[39m]]) \u001b[38;5;241m+\u001b[39m \u001b[38;5;124m\"\u001b[39m\u001b[38;5;124m and \u001b[39m\u001b[38;5;124m\"\u001b[39m \u001b[38;5;241m+\u001b[39m \u001b[38;5;28mstr\u001b[39m(key[combo[\u001b[38;5;241m1\u001b[39m]]) \u001b[38;5;241m+\u001b[39m \u001b[38;5;124m\"\u001b[39m\u001b[38;5;124m = \u001b[39m\u001b[38;5;124m\"\u001b[39m \u001b[38;5;241m+\u001b[39m \u001b[38;5;28mstr\u001b[39m(disimilarity))\n\u001b[1;32m     18\u001b[0m \u001b[38;5;28mprint\u001b[39m(key)\n",
      "Input \u001b[0;32mIn [30]\u001b[0m, in \u001b[0;36mdisimilarity_new\u001b[0;34m(X, group_1, group_2)\u001b[0m\n\u001b[1;32m      5\u001b[0m dist \u001b[38;5;241m=\u001b[39m pairwise_distances(X)\n\u001b[1;32m      6\u001b[0m \u001b[38;5;28mprint\u001b[39m(dist)\n\u001b[0;32m----> 7\u001b[0m sub_dist \u001b[38;5;241m=\u001b[39m \u001b[43mdist\u001b[49m\u001b[43m[\u001b[49m\u001b[43mgroup_1\u001b[49m\u001b[43m,\u001b[49m\u001b[43m \u001b[49m\u001b[43mgroup_2\u001b[49m\u001b[43m]\u001b[49m\n\u001b[1;32m      8\u001b[0m \u001b[38;5;28mprint\u001b[39m(sub_dist)\n\u001b[1;32m      9\u001b[0m total \u001b[38;5;241m=\u001b[39m np\u001b[38;5;241m.\u001b[39msum(sub_dist)\n",
      "\u001b[0;31mIndexError\u001b[0m: shape mismatch: indexing arrays could not be broadcast together with shapes (244,) (156,) "
     ]
    }
   ],
   "source": [
    "X, real_y = compare_cell_clusters(\"/home/groups/ConradLab/daniel/sharp_data/jung/\", 'counts.csv', 'labels.csv', 0)"
   ]
  },
  {
   "cell_type": "code",
   "execution_count": 33,
   "id": "5d151e5b",
   "metadata": {},
   "outputs": [
    {
     "name": "stdout",
     "output_type": "stream",
     "text": [
      "spc and spd = 73.88623989455186\n",
      "spc and spg = 81.22526369768396\n",
      "spd and spg = 82.85252243550484\n",
      "Index(['spc', 'spd', 'spg'], dtype='object')\n"
     ]
    }
   ],
   "source": [
    "X, real_y = compare_cell_clusters(\"/home/groups/ConradLab/daniel/sharp_data/jung/\", 'counts.csv', 'labels.csv', 0)"
   ]
  },
  {
   "cell_type": "code",
   "execution_count": 32,
   "id": "5c098281",
   "metadata": {},
   "outputs": [
    {
     "name": "stdout",
     "output_type": "stream",
     "text": [
      "Group1 and Group2 = 43.03840230729052\n",
      "Group1 and Group3 = 42.87681787266156\n",
      "Group1 and Group4 = 41.65165749806866\n",
      "Group2 and Group3 = 43.13969845362546\n",
      "Group2 and Group4 = 41.908186184949166\n",
      "Group3 and Group4 = 41.69884955141725\n",
      "Index(['Group1', 'Group2', 'Group3', 'Group4'], dtype='object')\n"
     ]
    }
   ],
   "source": [
    "X, real_y = compare_cell_clusters(\"/home/groups/ConradLab/daniel/sharp_data/sharp_sims_test/splat_0.7_de_rq/\", 'query_counts.csv', 'query_meta.csv', \"Group\")"
   ]
  },
  {
   "cell_type": "code",
   "execution_count": 34,
   "id": "ea3a244b",
   "metadata": {
    "scrolled": true
   },
   "outputs": [
    {
     "name": "stdout",
     "output_type": "stream",
     "text": [
      "Group1 and Group2 = 43.433500149580254\n",
      "Group1 and Group3 = 43.08833691801796\n",
      "Group1 and Group4 = 41.663929044566274\n",
      "Group2 and Group3 = 43.46095330551942\n",
      "Group2 and Group4 = 42.058046933917865\n",
      "Group3 and Group4 = 41.59050578730638\n",
      "Index(['Group1', 'Group2', 'Group3', 'Group4'], dtype='object')\n"
     ]
    }
   ],
   "source": [
    "X, real_y = compare_cell_clusters(\"/home/groups/ConradLab/daniel/sharp_data/sharp_sims_test/splat_0.8_de_rq/\", 'query_counts.csv', 'query_meta.csv', \"Group\")"
   ]
  },
  {
   "cell_type": "code",
   "execution_count": 35,
   "id": "c9e3e2e2",
   "metadata": {},
   "outputs": [
    {
     "name": "stdout",
     "output_type": "stream",
     "text": [
      "Group1 and Group2 = 43.43349771633815\n",
      "Group1 and Group3 = 43.088334649695426\n",
      "Group1 and Group4 = 41.66392728654438\n",
      "Group2 and Group3 = 43.46095138971003\n",
      "Group2 and Group4 = 42.058045347130154\n",
      "Group3 and Group4 = 41.59050424668158\n",
      "Index(['Group1', 'Group2', 'Group3', 'Group4'], dtype='object')\n"
     ]
    }
   ],
   "source": [
    "X, real_y = compare_cell_clusters(\"/home/groups/ConradLab/daniel/sharp_data/sharp_sims_test/splat_0.8_de_rq/\", 'query_counts.csv', 'query_meta.csv', \"Group\")"
   ]
  },
  {
   "cell_type": "code",
   "execution_count": 37,
   "id": "ca25162d",
   "metadata": {},
   "outputs": [
    {
     "name": "stdout",
     "output_type": "stream",
     "text": [
      "Group1 and Group2 = 44.82626442378252\n",
      "Group1 and Group3 = 44.83444169183506\n",
      "Group1 and Group4 = 44.75475300480137\n",
      "Group2 and Group3 = 44.92729778925871\n",
      "Group2 and Group4 = 44.828342446496436\n",
      "Group3 and Group4 = 44.8283992729658\n",
      "Index(['Group1', 'Group2', 'Group3', 'Group4'], dtype='object')\n"
     ]
    }
   ],
   "source": [
    "X, real_y = compare_cell_clusters(\"/home/groups/ConradLab/daniel/sharp_data/sharp_sims_de_testing/splat_0.3_de_rq_103122/\", 'query_counts.csv', 'query_meta.csv', \"Group\")"
   ]
  },
  {
   "cell_type": "code",
   "execution_count": 38,
   "id": "87f78356",
   "metadata": {},
   "outputs": [
    {
     "name": "stdout",
     "output_type": "stream",
     "text": [
      "Group1 and Group2 = 45.861992683203624\n",
      "Group1 and Group3 = 45.79678448501366\n",
      "Group1 and Group4 = 45.45277033793568\n",
      "Group2 and Group3 = 46.091879768126375\n",
      "Group2 and Group4 = 45.659266812069994\n",
      "Group3 and Group4 = 45.61782638776969\n",
      "Index(['Group1', 'Group2', 'Group3', 'Group4'], dtype='object')\n"
     ]
    }
   ],
   "source": [
    "X, real_y = compare_cell_clusters(\"/home/groups/ConradLab/daniel/sharp_data/sharp_sims_de_testing/splat_0.9_de_rq_103122/\", 'query_counts.csv', 'query_meta.csv', \"Group\")"
   ]
  },
  {
   "cell_type": "code",
   "execution_count": 17,
   "id": "cfc1247b",
   "metadata": {},
   "outputs": [
    {
     "name": "stdout",
     "output_type": "stream",
     "text": [
      "(0, 1)\n",
      "(0, 2)\n",
      "(1, 2)\n"
     ]
    }
   ],
   "source": [
    "for combo in combinations([0,1,2], 2):\n",
    "    print(combo)"
   ]
  },
  {
   "cell_type": "code",
   "execution_count": 11,
   "id": "9dbde99b",
   "metadata": {
    "scrolled": true
   },
   "outputs": [
    {
     "data": {
      "text/plain": [
       "array([2, 2, 2, 0, 2, 1, 1, 0, 2, 2, 0, 1, 0, 2, 0, 0, 0, 2, 0, 0, 2, 2,\n",
       "       0, 2, 0, 2, 2, 2, 2, 0, 0, 2, 2, 2, 0, 1, 2, 2, 0, 2, 0, 2, 0, 2,\n",
       "       1, 2, 2, 0, 0, 2, 2, 1, 2, 0, 0, 2, 0, 2, 2, 0, 2, 0, 0, 0, 1, 0,\n",
       "       0, 1, 1, 1, 1, 2, 0, 2, 0, 2, 2, 2, 1, 0, 0, 2, 0, 2, 0, 0, 1, 1,\n",
       "       2, 2, 2, 1, 2, 0, 2, 2, 0, 0, 0, 0, 0, 1, 1, 0, 1, 0, 1, 1, 2, 0,\n",
       "       0, 1, 1, 0, 0, 2, 1, 2, 2, 2, 1, 0, 2, 1, 2, 2, 0, 2, 2, 2, 2, 0,\n",
       "       1, 1, 2, 2, 0, 2, 0, 1, 2, 1, 2, 1, 0, 2, 2, 1, 2, 0, 2, 1, 2, 2,\n",
       "       0, 2, 0, 1, 2, 2, 2, 2, 0, 0, 1, 2, 0, 2, 1, 0, 0, 2, 0, 2, 0, 0,\n",
       "       0, 1, 0, 2, 0, 2, 0, 0, 2, 2, 0, 2, 2, 2, 1, 0, 0, 2, 2, 0, 2, 2,\n",
       "       1, 1, 2, 2, 2, 2, 0, 2, 2, 1, 1, 0, 2, 0, 2, 0, 0, 0, 1, 0, 1, 0,\n",
       "       0, 1, 2, 2, 0, 1, 0, 2, 1, 2, 0, 1, 2, 2, 1, 2, 0, 2, 0, 1, 1, 2,\n",
       "       1, 2, 0, 0, 2, 2, 2, 2, 2, 2, 2, 1, 1, 2, 2, 2, 1, 2, 2, 1, 2, 0,\n",
       "       0, 0, 1, 0, 2, 1, 0, 2, 2, 0, 2, 1, 0, 0, 1, 2, 2, 0, 1, 1, 2, 0,\n",
       "       2, 0, 0, 1, 0, 2, 0, 2, 2, 2, 1, 0, 1, 1, 2, 0, 1, 2, 0, 2, 2, 1,\n",
       "       0, 2, 0, 1, 0, 0, 0, 0, 1, 1, 2, 1, 0, 2, 2, 2, 0, 0, 2, 2, 2, 2,\n",
       "       1, 0, 2, 1, 0, 0, 1, 2, 0, 0, 2, 1, 0, 1, 0, 2, 2, 0, 0, 2, 2, 1,\n",
       "       0, 1, 1, 1, 0, 2, 1, 2, 2, 0, 2, 2, 1, 1, 2, 0, 0, 2, 2, 2, 0, 2,\n",
       "       2, 0, 0, 1, 0, 0, 1, 1, 2, 0, 0, 0, 2, 0, 1, 1, 0, 2, 1, 1, 2, 2,\n",
       "       0, 0, 1, 0, 1, 0, 1, 0, 2, 2, 0, 1, 1, 2, 1, 2, 1, 1, 2, 1, 0, 0,\n",
       "       2, 0, 1, 1, 2, 2, 0, 0, 0, 1, 1, 2, 0, 2, 1, 2, 0, 2, 2, 1, 0, 2,\n",
       "       2, 0, 0, 0, 2, 2, 2, 0, 2, 2, 1, 0, 0, 2, 1, 0, 1, 1, 0, 2, 2, 1,\n",
       "       0, 0, 0, 2, 0, 0, 2, 2, 1, 2, 2, 0, 2, 2, 2, 2, 2, 2, 0, 0, 2, 2,\n",
       "       1, 0, 0, 1, 2, 0, 2, 0, 2, 0, 2, 0, 0, 0, 2, 0, 2, 1, 2, 1, 2, 0,\n",
       "       2, 2, 0, 0, 0, 2, 0, 2, 0, 0, 2, 0, 1, 0, 0, 1, 1, 2, 2, 2, 2, 1,\n",
       "       2, 2, 0, 1, 0, 0, 2, 2, 1, 1, 1, 2, 0, 2, 1, 0, 0, 1, 0, 0, 2, 1,\n",
       "       0, 2, 2, 1, 2, 1, 0, 2, 0, 1, 2, 2, 0, 2, 2, 0, 2, 2, 0, 1, 1, 2,\n",
       "       2, 1, 2, 2, 0, 1, 2, 2, 2, 2, 1, 0, 2, 2, 2, 0, 0, 1, 2, 2, 2, 0,\n",
       "       1, 0, 2, 2, 0, 1, 2, 0, 2, 0, 2, 2, 2, 2, 2, 0, 0, 0, 2, 1, 0, 2,\n",
       "       1, 1, 0, 1, 0, 0, 0, 2, 2, 2, 2, 0, 0, 0, 2, 2, 0, 2, 2, 1, 1, 1,\n",
       "       2, 2, 2, 0, 0, 1, 0, 1, 1, 0, 0, 1, 2, 2, 2, 2, 1, 2, 2, 2, 0, 0,\n",
       "       2, 0, 2, 1, 0, 0, 2, 0, 1, 0, 2, 1, 0, 0, 1, 0, 2, 1, 1, 0, 0, 0,\n",
       "       2, 2, 2, 2, 2, 2, 1, 2, 0, 0])"
      ]
     },
     "execution_count": 11,
     "metadata": {},
     "output_type": "execute_result"
    }
   ],
   "source": [
    "real_y"
   ]
  },
  {
   "cell_type": "code",
   "execution_count": 13,
   "id": "b33f095f",
   "metadata": {},
   "outputs": [
    {
     "data": {
      "text/plain": [
       "array([[-14.185537  ,  -7.458223  ,   8.384081  , ...,  -0.1183617 ,\n",
       "         -0.58229095,   1.5128574 ],\n",
       "       [-15.797154  , -13.1198225 ,   5.4865193 , ...,   1.193898  ,\n",
       "          1.3348278 ,   0.98085797],\n",
       "       [ -1.5621954 , -10.570117  ,  -4.47332   , ...,   1.0716755 ,\n",
       "         -1.2324159 ,  -0.64864415],\n",
       "       ...,\n",
       "       [-11.904461  , -11.370434  ,   6.843371  , ...,  -0.32835588,\n",
       "          2.4064457 ,  -0.36809808],\n",
       "       [-13.625015  , -10.563273  ,   5.9214606 , ...,  -1.1095074 ,\n",
       "          0.36168855,   0.94928414],\n",
       "       [-14.012843  , -12.057545  ,   4.094969  , ...,  -1.2905434 ,\n",
       "         -0.7926164 ,  -0.35491347]], dtype=float32)"
      ]
     },
     "execution_count": 13,
     "metadata": {},
     "output_type": "execute_result"
    }
   ],
   "source": [
    "X[real_y==0]"
   ]
  }
 ],
 "metadata": {
  "kernelspec": {
   "display_name": "daniel_thesis",
   "language": "python",
   "name": "daniel_thesis_2"
  },
  "language_info": {
   "codemirror_mode": {
    "name": "ipython",
    "version": 3
   },
   "file_extension": ".py",
   "mimetype": "text/x-python",
   "name": "python",
   "nbconvert_exporter": "python",
   "pygments_lexer": "ipython3",
   "version": "3.9.7"
  }
 },
 "nbformat": 4,
 "nbformat_minor": 5
}
