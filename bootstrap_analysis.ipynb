{
 "cells": [
  {
   "cell_type": "code",
   "execution_count": 1,
   "id": "7b650f4e",
   "metadata": {},
   "outputs": [],
   "source": [
    "import pandas as pd\n",
    "import numpy as np"
   ]
  },
  {
   "cell_type": "code",
   "execution_count": 5,
   "id": "59349af1",
   "metadata": {},
   "outputs": [],
   "source": [
    "preds = [0]*7\n",
    "preds[0] = pd.read_csv(\"/home/groups/ConradLab/daniel/sharp_data/sharp_sims/splat_0.7_de_rq_boot/preds1.csv\", index_col=0)\n",
    "preds[1] = pd.read_csv(\"/home/groups/ConradLab/daniel/sharp_data/sharp_sims/splat_0.7_de_rq_boot/preds2.csv\", index_col=0)\n",
    "preds[2] = pd.read_csv(\"/home/groups/ConradLab/daniel/sharp_data/sharp_sims/splat_0.7_de_rq_boot/preds3.csv\", index_col=0)\n",
    "preds[3] = pd.read_csv(\"/home/groups/ConradLab/daniel/sharp_data/sharp_sims/splat_0.7_de_rq_boot/preds4.csv\", index_col=0)\n",
    "preds[4] = pd.read_csv(\"/home/groups/ConradLab/daniel/sharp_data/sharp_sims/splat_0.7_de_rq_boot/preds6.csv\", index_col=0)\n",
    "preds[5] = pd.read_csv(\"/home/groups/ConradLab/daniel/sharp_data/sharp_sims/splat_0.7_de_rq_boot/preds9.csv\", index_col=0)\n",
    "preds[6] = pd.read_csv(\"/home/groups/ConradLab/daniel/sharp_data/sharp_sims/splat_0.7_de_rq_boot/preds10.csv\", index_col=0)"
   ]
  },
  {
   "cell_type": "code",
   "execution_count": 13,
   "id": "263aa63e",
   "metadata": {},
   "outputs": [
    {
     "name": "stdout",
     "output_type": "stream",
     "text": [
      "singler\n",
      "True\n",
      "scpred\n",
      "False\n",
      "scsorter\n",
      "True\n",
      "sctype\n",
      "True\n",
      "scina\n",
      "False\n"
     ]
    }
   ],
   "source": [
    "tools = ['singler', 'scpred', 'scsorter', 'sctype', 'scina']\n",
    "for tool in tools:\n",
    "    print(tool)\n",
    "    all_same = True\n",
    "    for i in range(5):\n",
    "        for j in range(5):\n",
    "            if not (np.array_equal(preds[i][tool], preds[j][tool])): all_same = False\n",
    "    print(all_same)\n",
    "    #print(np.array_equal(preds[0][tool], preds[1][tool]))"
   ]
  }
 ],
 "metadata": {
  "kernelspec": {
   "display_name": "daniel_thesis",
   "language": "python",
   "name": "daniel_thesis_2"
  },
  "language_info": {
   "codemirror_mode": {
    "name": "ipython",
    "version": 3
   },
   "file_extension": ".py",
   "mimetype": "text/x-python",
   "name": "python",
   "nbconvert_exporter": "python",
   "pygments_lexer": "ipython3",
   "version": "3.9.7"
  }
 },
 "nbformat": 4,
 "nbformat_minor": 5
}
