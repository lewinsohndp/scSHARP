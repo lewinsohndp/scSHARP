{
 "cells": [
  {
   "cell_type": "code",
   "execution_count": 1,
   "id": "a3656b0f",
   "metadata": {},
   "outputs": [
    {
     "name": "stderr",
     "output_type": "stream",
     "text": [
      "/home/users/lewinsda/.conda/envs/daniel_thesis_2/lib/python3.9/site-packages/tqdm/auto.py:22: TqdmWarning: IProgress not found. Please update jupyter and ipywidgets. See https://ipywidgets.readthedocs.io/en/stable/user_install.html\n",
      "  from .autonotebook import tqdm as notebook_tqdm\n"
     ]
    }
   ],
   "source": [
    "import numpy as np\n",
    "import pandas as pd\n",
    "import utilities\n",
    "import statistics\n",
    "import matplotlib.pyplot as plt\n",
    "import torch"
   ]
  },
  {
   "cell_type": "code",
   "execution_count": 2,
   "id": "a9dd7e8a",
   "metadata": {},
   "outputs": [],
   "source": [
    "spg_data = pd.read_table(\"/home/groups/ConradLab/daniel/GNN_cell_annotation/data/jung/GSM3102982_Pouf5SPGmat.txt\", index_col = 0)\n",
    "spc1_data = pd.read_table(\"/home/groups/ConradLab/daniel/GNN_cell_annotation/data/jung/GSM3102983_SPCImat.txt\", index_col = 0)\n",
    "spc2_data = pd.read_table(\"/home/groups/ConradLab/daniel/GNN_cell_annotation/data/jung/GSM3102984_SPCIImat.txt\", index_col = 0)\n",
    "spd_data = pd.read_table(\"/home/groups/ConradLab/daniel/GNN_cell_annotation/data/jung/GSM3102985_SPDmat.txt\", index_col = 0)"
   ]
  },
  {
   "cell_type": "code",
   "execution_count": 3,
   "id": "e442240f",
   "metadata": {},
   "outputs": [
    {
     "data": {
      "text/html": [
       "<div>\n",
       "<style scoped>\n",
       "    .dataframe tbody tr th:only-of-type {\n",
       "        vertical-align: middle;\n",
       "    }\n",
       "\n",
       "    .dataframe tbody tr th {\n",
       "        vertical-align: top;\n",
       "    }\n",
       "\n",
       "    .dataframe thead th {\n",
       "        text-align: right;\n",
       "    }\n",
       "</style>\n",
       "<table border=\"1\" class=\"dataframe\">\n",
       "  <thead>\n",
       "    <tr style=\"text-align: right;\">\n",
       "      <th></th>\n",
       "      <th>GTTTTCTCGTT</th>\n",
       "      <th>GGGACCACGCC</th>\n",
       "      <th>GTCGTGCATTT</th>\n",
       "      <th>GTTGACTTCCG</th>\n",
       "      <th>AATAACACAGC</th>\n",
       "      <th>GCTTCTTTGCT</th>\n",
       "      <th>GGTTTTCTCGT</th>\n",
       "      <th>ACAGTCAGGGT</th>\n",
       "      <th>TCCCTAATCAG</th>\n",
       "      <th>GTCGTCATTTA</th>\n",
       "      <th>...</th>\n",
       "      <th>TTTCTTCCCAT</th>\n",
       "      <th>CGATGGGTTTT</th>\n",
       "      <th>AACATACAAAG</th>\n",
       "      <th>CCTCTTTCATT</th>\n",
       "      <th>ATCCCTTTCGA</th>\n",
       "      <th>CCCGCGTCGCT</th>\n",
       "      <th>GGGTTCACGCC</th>\n",
       "      <th>GTCACTAGGTC</th>\n",
       "      <th>GTCCCAATGTC</th>\n",
       "      <th>GTTCATTACAC</th>\n",
       "    </tr>\n",
       "  </thead>\n",
       "  <tbody>\n",
       "    <tr>\n",
       "      <th>0610007P14Rik</th>\n",
       "      <td>0</td>\n",
       "      <td>0</td>\n",
       "      <td>0</td>\n",
       "      <td>0</td>\n",
       "      <td>0</td>\n",
       "      <td>0</td>\n",
       "      <td>0</td>\n",
       "      <td>0</td>\n",
       "      <td>0</td>\n",
       "      <td>0</td>\n",
       "      <td>...</td>\n",
       "      <td>0</td>\n",
       "      <td>0</td>\n",
       "      <td>0</td>\n",
       "      <td>0</td>\n",
       "      <td>0</td>\n",
       "      <td>0</td>\n",
       "      <td>0</td>\n",
       "      <td>0</td>\n",
       "      <td>0</td>\n",
       "      <td>0</td>\n",
       "    </tr>\n",
       "    <tr>\n",
       "      <th>0610009B22Rik</th>\n",
       "      <td>1</td>\n",
       "      <td>1</td>\n",
       "      <td>0</td>\n",
       "      <td>2</td>\n",
       "      <td>0</td>\n",
       "      <td>1</td>\n",
       "      <td>0</td>\n",
       "      <td>1</td>\n",
       "      <td>0</td>\n",
       "      <td>1</td>\n",
       "      <td>...</td>\n",
       "      <td>0</td>\n",
       "      <td>0</td>\n",
       "      <td>1</td>\n",
       "      <td>0</td>\n",
       "      <td>0</td>\n",
       "      <td>0</td>\n",
       "      <td>0</td>\n",
       "      <td>0</td>\n",
       "      <td>0</td>\n",
       "      <td>0</td>\n",
       "    </tr>\n",
       "    <tr>\n",
       "      <th>0610009L18Rik</th>\n",
       "      <td>4</td>\n",
       "      <td>4</td>\n",
       "      <td>0</td>\n",
       "      <td>1</td>\n",
       "      <td>0</td>\n",
       "      <td>0</td>\n",
       "      <td>0</td>\n",
       "      <td>1</td>\n",
       "      <td>1</td>\n",
       "      <td>0</td>\n",
       "      <td>...</td>\n",
       "      <td>0</td>\n",
       "      <td>1</td>\n",
       "      <td>0</td>\n",
       "      <td>0</td>\n",
       "      <td>0</td>\n",
       "      <td>0</td>\n",
       "      <td>0</td>\n",
       "      <td>0</td>\n",
       "      <td>0</td>\n",
       "      <td>0</td>\n",
       "    </tr>\n",
       "    <tr>\n",
       "      <th>0610009O20Rik</th>\n",
       "      <td>0</td>\n",
       "      <td>0</td>\n",
       "      <td>0</td>\n",
       "      <td>0</td>\n",
       "      <td>0</td>\n",
       "      <td>0</td>\n",
       "      <td>0</td>\n",
       "      <td>0</td>\n",
       "      <td>0</td>\n",
       "      <td>0</td>\n",
       "      <td>...</td>\n",
       "      <td>0</td>\n",
       "      <td>0</td>\n",
       "      <td>0</td>\n",
       "      <td>0</td>\n",
       "      <td>0</td>\n",
       "      <td>0</td>\n",
       "      <td>0</td>\n",
       "      <td>0</td>\n",
       "      <td>0</td>\n",
       "      <td>0</td>\n",
       "    </tr>\n",
       "    <tr>\n",
       "      <th>0610010F05Rik</th>\n",
       "      <td>0</td>\n",
       "      <td>2</td>\n",
       "      <td>0</td>\n",
       "      <td>0</td>\n",
       "      <td>1</td>\n",
       "      <td>0</td>\n",
       "      <td>1</td>\n",
       "      <td>1</td>\n",
       "      <td>1</td>\n",
       "      <td>0</td>\n",
       "      <td>...</td>\n",
       "      <td>0</td>\n",
       "      <td>0</td>\n",
       "      <td>0</td>\n",
       "      <td>0</td>\n",
       "      <td>0</td>\n",
       "      <td>0</td>\n",
       "      <td>0</td>\n",
       "      <td>0</td>\n",
       "      <td>0</td>\n",
       "      <td>0</td>\n",
       "    </tr>\n",
       "  </tbody>\n",
       "</table>\n",
       "<p>5 rows × 199 columns</p>\n",
       "</div>"
      ],
      "text/plain": [
       "               GTTTTCTCGTT  GGGACCACGCC  GTCGTGCATTT  GTTGACTTCCG  \\\n",
       "0610007P14Rik            0            0            0            0   \n",
       "0610009B22Rik            1            1            0            2   \n",
       "0610009L18Rik            4            4            0            1   \n",
       "0610009O20Rik            0            0            0            0   \n",
       "0610010F05Rik            0            2            0            0   \n",
       "\n",
       "               AATAACACAGC  GCTTCTTTGCT  GGTTTTCTCGT  ACAGTCAGGGT  \\\n",
       "0610007P14Rik            0            0            0            0   \n",
       "0610009B22Rik            0            1            0            1   \n",
       "0610009L18Rik            0            0            0            1   \n",
       "0610009O20Rik            0            0            0            0   \n",
       "0610010F05Rik            1            0            1            1   \n",
       "\n",
       "               TCCCTAATCAG  GTCGTCATTTA  ...  TTTCTTCCCAT  CGATGGGTTTT  \\\n",
       "0610007P14Rik            0            0  ...            0            0   \n",
       "0610009B22Rik            0            1  ...            0            0   \n",
       "0610009L18Rik            1            0  ...            0            1   \n",
       "0610009O20Rik            0            0  ...            0            0   \n",
       "0610010F05Rik            1            0  ...            0            0   \n",
       "\n",
       "               AACATACAAAG  CCTCTTTCATT  ATCCCTTTCGA  CCCGCGTCGCT  \\\n",
       "0610007P14Rik            0            0            0            0   \n",
       "0610009B22Rik            1            0            0            0   \n",
       "0610009L18Rik            0            0            0            0   \n",
       "0610009O20Rik            0            0            0            0   \n",
       "0610010F05Rik            0            0            0            0   \n",
       "\n",
       "               GGGTTCACGCC  GTCACTAGGTC  GTCCCAATGTC  GTTCATTACAC  \n",
       "0610007P14Rik            0            0            0            0  \n",
       "0610009B22Rik            0            0            0            0  \n",
       "0610009L18Rik            0            0            0            0  \n",
       "0610009O20Rik            0            0            0            0  \n",
       "0610010F05Rik            0            0            0            0  \n",
       "\n",
       "[5 rows x 199 columns]"
      ]
     },
     "execution_count": 3,
     "metadata": {},
     "output_type": "execute_result"
    }
   ],
   "source": [
    "spc1_data.head()"
   ]
  },
  {
   "cell_type": "code",
   "execution_count": 4,
   "id": "acc0335b",
   "metadata": {},
   "outputs": [],
   "source": [
    "merged_data = spg_data.merge(spc1_data, how='inner', left_index=True, right_index=True)\n",
    "merged_data = merged_data.merge(spc2_data, how='inner', left_index=True, right_index=True)\n",
    "merged_data = merged_data.merge(spd_data, how='inner', left_index=True, right_index=True)"
   ]
  },
  {
   "cell_type": "code",
   "execution_count": 5,
   "id": "b324f514",
   "metadata": {},
   "outputs": [
    {
     "data": {
      "text/plain": [
       "(6354, 1192)"
      ]
     },
     "execution_count": 5,
     "metadata": {},
     "output_type": "execute_result"
    }
   ],
   "source": [
    "merged_data.shape"
   ]
  },
  {
   "cell_type": "code",
   "execution_count": 6,
   "id": "c41db2bd",
   "metadata": {},
   "outputs": [],
   "source": [
    "#merged_data.loc[\"Dmrt1\",:]"
   ]
  },
  {
   "cell_type": "code",
   "execution_count": 6,
   "id": "d69ccadc",
   "metadata": {},
   "outputs": [
    {
     "data": {
      "text/plain": [
       "0610009L18Rik    0\n",
       "0610012G03Rik    2\n",
       "Name: TTCGTGTCGAA, dtype: int64"
      ]
     },
     "execution_count": 6,
     "metadata": {},
     "output_type": "execute_result"
    }
   ],
   "source": [
    "merged_data.loc[[\"0610009L18Rik\", \"0610012G03Rik\"], \"TTCGTGTCGAA\"]"
   ]
  },
  {
   "cell_type": "code",
   "execution_count": 7,
   "id": "fe4b3e5a",
   "metadata": {},
   "outputs": [],
   "source": [
    "genes = merged_data.index.array\n",
    "cell_names = merged_data.columns.array"
   ]
  },
  {
   "cell_type": "code",
   "execution_count": 8,
   "id": "c61ad596",
   "metadata": {},
   "outputs": [
    {
     "data": {
      "text/plain": [
       "(1192, 6354)"
      ]
     },
     "execution_count": 8,
     "metadata": {},
     "output_type": "execute_result"
    }
   ],
   "source": [
    "merged_data = np.asmatrix(merged_data)\n",
    "merged_data = merged_data.transpose()\n",
    "merged_data.shape"
   ]
  },
  {
   "cell_type": "code",
   "execution_count": 9,
   "id": "7d93c54a",
   "metadata": {},
   "outputs": [
    {
     "data": {
      "text/plain": [
       "1192"
      ]
     },
     "execution_count": 9,
     "metadata": {},
     "output_type": "execute_result"
    }
   ],
   "source": [
    "spg_labels = [\"spg\"] * len(spg_data.columns)\n",
    "spc1_labels = [\"spc\"] * len(spc1_data.columns)\n",
    "spc2_labels = [\"spc\"] * len(spc2_data.columns)\n",
    "spd_labels = [\"spd\"] * len(spd_data.columns)\n",
    "merged_labels = spg_labels + spc1_labels + spc2_labels + spd_labels\n",
    "len(merged_labels)"
   ]
  },
  {
   "cell_type": "code",
   "execution_count": 10,
   "id": "b4ae3347",
   "metadata": {},
   "outputs": [
    {
     "data": {
      "text/plain": [
       "array([597, 299, 296])"
      ]
     },
     "execution_count": 10,
     "metadata": {},
     "output_type": "execute_result"
    }
   ],
   "source": [
    "unique, counts = np.unique(merged_labels, return_counts=True)\n",
    "counts"
   ]
  },
  {
   "cell_type": "code",
   "execution_count": 11,
   "id": "ff80071d",
   "metadata": {},
   "outputs": [
    {
     "data": {
      "text/plain": [
       "(692, 6354)"
      ]
     },
     "execution_count": 11,
     "metadata": {},
     "output_type": "execute_result"
    }
   ],
   "source": [
    "# read in dataset\n",
    "X, keep_cells = utilities.preprocess(np.array(merged_data), normalize=False, run_pca=False, scale=False)\n",
    "X.shape"
   ]
  },
  {
   "cell_type": "code",
   "execution_count": 12,
   "id": "9f5ec380",
   "metadata": {},
   "outputs": [
    {
     "data": {
      "text/plain": [
       "692"
      ]
     },
     "execution_count": 12,
     "metadata": {},
     "output_type": "execute_result"
    }
   ],
   "source": [
    "merged_labels = np.array(merged_labels)[keep_cells]\n",
    "cell_names = cell_names[keep_cells]\n",
    "len(merged_labels)"
   ]
  },
  {
   "cell_type": "code",
   "execution_count": 13,
   "id": "01e8e65b",
   "metadata": {},
   "outputs": [
    {
     "data": {
      "text/plain": [
       "array([244, 156, 292])"
      ]
     },
     "execution_count": 13,
     "metadata": {},
     "output_type": "execute_result"
    }
   ],
   "source": [
    "unique, counts = np.unique(merged_labels, return_counts=True)\n",
    "counts"
   ]
  },
  {
   "cell_type": "code",
   "execution_count": 14,
   "id": "165b31cd",
   "metadata": {},
   "outputs": [],
   "source": [
    "# randomize\n",
    "np.random.seed(8)\n",
    "p = np.random.permutation(len(merged_labels))\n",
    "merged_labels = merged_labels[p]\n",
    "X = X[p,:]\n",
    "cell_names = cell_names[p]"
   ]
  },
  {
   "cell_type": "code",
   "execution_count": 15,
   "id": "a0a2d233",
   "metadata": {},
   "outputs": [],
   "source": [
    "# write out\n",
    "final_counts = pd.DataFrame(X)\n",
    "final_counts.index = cell_names\n",
    "final_counts.columns = genes"
   ]
  },
  {
   "cell_type": "code",
   "execution_count": 16,
   "id": "feb18275",
   "metadata": {},
   "outputs": [
    {
     "data": {
      "text/html": [
       "<div>\n",
       "<style scoped>\n",
       "    .dataframe tbody tr th:only-of-type {\n",
       "        vertical-align: middle;\n",
       "    }\n",
       "\n",
       "    .dataframe tbody tr th {\n",
       "        vertical-align: top;\n",
       "    }\n",
       "\n",
       "    .dataframe thead th {\n",
       "        text-align: right;\n",
       "    }\n",
       "</style>\n",
       "<table border=\"1\" class=\"dataframe\">\n",
       "  <thead>\n",
       "    <tr style=\"text-align: right;\">\n",
       "      <th></th>\n",
       "      <th>0610009B22Rik</th>\n",
       "      <th>0610009L18Rik</th>\n",
       "      <th>0610009O20Rik</th>\n",
       "      <th>0610010F05Rik</th>\n",
       "      <th>0610011F06Rik</th>\n",
       "      <th>0610012G03Rik</th>\n",
       "      <th>0610030E20Rik</th>\n",
       "      <th>0610037L13Rik</th>\n",
       "      <th>0610040B10Rik</th>\n",
       "      <th>1110001J03Rik</th>\n",
       "      <th>...</th>\n",
       "      <th>Zzz3</th>\n",
       "      <th>mt-Co1</th>\n",
       "      <th>mt-Cytb</th>\n",
       "      <th>mt-Nd1</th>\n",
       "      <th>mt-Nd2</th>\n",
       "      <th>mt-Nd3</th>\n",
       "      <th>mt-Nd4</th>\n",
       "      <th>mt-Nd5</th>\n",
       "      <th>mt-Rnr1</th>\n",
       "      <th>mt-Rnr2</th>\n",
       "    </tr>\n",
       "  </thead>\n",
       "  <tbody>\n",
       "    <tr>\n",
       "      <th>TTCGTGTCGAA</th>\n",
       "      <td>0</td>\n",
       "      <td>0</td>\n",
       "      <td>0</td>\n",
       "      <td>0</td>\n",
       "      <td>0</td>\n",
       "      <td>2</td>\n",
       "      <td>0</td>\n",
       "      <td>0</td>\n",
       "      <td>0</td>\n",
       "      <td>0</td>\n",
       "      <td>...</td>\n",
       "      <td>0</td>\n",
       "      <td>12</td>\n",
       "      <td>30</td>\n",
       "      <td>27</td>\n",
       "      <td>12</td>\n",
       "      <td>0</td>\n",
       "      <td>15</td>\n",
       "      <td>8</td>\n",
       "      <td>9</td>\n",
       "      <td>32</td>\n",
       "    </tr>\n",
       "    <tr>\n",
       "      <th>GTACAATGATG</th>\n",
       "      <td>0</td>\n",
       "      <td>0</td>\n",
       "      <td>0</td>\n",
       "      <td>1</td>\n",
       "      <td>0</td>\n",
       "      <td>2</td>\n",
       "      <td>0</td>\n",
       "      <td>0</td>\n",
       "      <td>1</td>\n",
       "      <td>0</td>\n",
       "      <td>...</td>\n",
       "      <td>1</td>\n",
       "      <td>49</td>\n",
       "      <td>58</td>\n",
       "      <td>39</td>\n",
       "      <td>18</td>\n",
       "      <td>1</td>\n",
       "      <td>18</td>\n",
       "      <td>18</td>\n",
       "      <td>27</td>\n",
       "      <td>88</td>\n",
       "    </tr>\n",
       "    <tr>\n",
       "      <th>TCGAGGACGTT</th>\n",
       "      <td>0</td>\n",
       "      <td>0</td>\n",
       "      <td>0</td>\n",
       "      <td>0</td>\n",
       "      <td>0</td>\n",
       "      <td>0</td>\n",
       "      <td>0</td>\n",
       "      <td>1</td>\n",
       "      <td>0</td>\n",
       "      <td>0</td>\n",
       "      <td>...</td>\n",
       "      <td>0</td>\n",
       "      <td>0</td>\n",
       "      <td>0</td>\n",
       "      <td>0</td>\n",
       "      <td>0</td>\n",
       "      <td>0</td>\n",
       "      <td>0</td>\n",
       "      <td>0</td>\n",
       "      <td>0</td>\n",
       "      <td>1</td>\n",
       "    </tr>\n",
       "    <tr>\n",
       "      <th>GTGAATTTTCT</th>\n",
       "      <td>1</td>\n",
       "      <td>0</td>\n",
       "      <td>0</td>\n",
       "      <td>0</td>\n",
       "      <td>0</td>\n",
       "      <td>0</td>\n",
       "      <td>0</td>\n",
       "      <td>0</td>\n",
       "      <td>0</td>\n",
       "      <td>0</td>\n",
       "      <td>...</td>\n",
       "      <td>0</td>\n",
       "      <td>0</td>\n",
       "      <td>0</td>\n",
       "      <td>0</td>\n",
       "      <td>0</td>\n",
       "      <td>0</td>\n",
       "      <td>0</td>\n",
       "      <td>0</td>\n",
       "      <td>0</td>\n",
       "      <td>11</td>\n",
       "    </tr>\n",
       "    <tr>\n",
       "      <th>CCACACGCGGT</th>\n",
       "      <td>0</td>\n",
       "      <td>0</td>\n",
       "      <td>0</td>\n",
       "      <td>0</td>\n",
       "      <td>0</td>\n",
       "      <td>0</td>\n",
       "      <td>0</td>\n",
       "      <td>0</td>\n",
       "      <td>0</td>\n",
       "      <td>0</td>\n",
       "      <td>...</td>\n",
       "      <td>1</td>\n",
       "      <td>24</td>\n",
       "      <td>29</td>\n",
       "      <td>29</td>\n",
       "      <td>7</td>\n",
       "      <td>0</td>\n",
       "      <td>16</td>\n",
       "      <td>6</td>\n",
       "      <td>11</td>\n",
       "      <td>50</td>\n",
       "    </tr>\n",
       "  </tbody>\n",
       "</table>\n",
       "<p>5 rows × 6354 columns</p>\n",
       "</div>"
      ],
      "text/plain": [
       "             0610009B22Rik  0610009L18Rik  0610009O20Rik  0610010F05Rik  \\\n",
       "TTCGTGTCGAA              0              0              0              0   \n",
       "GTACAATGATG              0              0              0              1   \n",
       "TCGAGGACGTT              0              0              0              0   \n",
       "GTGAATTTTCT              1              0              0              0   \n",
       "CCACACGCGGT              0              0              0              0   \n",
       "\n",
       "             0610011F06Rik  0610012G03Rik  0610030E20Rik  0610037L13Rik  \\\n",
       "TTCGTGTCGAA              0              2              0              0   \n",
       "GTACAATGATG              0              2              0              0   \n",
       "TCGAGGACGTT              0              0              0              1   \n",
       "GTGAATTTTCT              0              0              0              0   \n",
       "CCACACGCGGT              0              0              0              0   \n",
       "\n",
       "             0610040B10Rik  1110001J03Rik  ...  Zzz3  mt-Co1  mt-Cytb  mt-Nd1  \\\n",
       "TTCGTGTCGAA              0              0  ...     0      12       30      27   \n",
       "GTACAATGATG              1              0  ...     1      49       58      39   \n",
       "TCGAGGACGTT              0              0  ...     0       0        0       0   \n",
       "GTGAATTTTCT              0              0  ...     0       0        0       0   \n",
       "CCACACGCGGT              0              0  ...     1      24       29      29   \n",
       "\n",
       "             mt-Nd2  mt-Nd3  mt-Nd4  mt-Nd5  mt-Rnr1  mt-Rnr2  \n",
       "TTCGTGTCGAA      12       0      15       8        9       32  \n",
       "GTACAATGATG      18       1      18      18       27       88  \n",
       "TCGAGGACGTT       0       0       0       0        0        1  \n",
       "GTGAATTTTCT       0       0       0       0        0       11  \n",
       "CCACACGCGGT       7       0      16       6       11       50  \n",
       "\n",
       "[5 rows x 6354 columns]"
      ]
     },
     "execution_count": 16,
     "metadata": {},
     "output_type": "execute_result"
    }
   ],
   "source": [
    "final_counts.head()"
   ]
  },
  {
   "cell_type": "code",
   "execution_count": 17,
   "id": "86aac980",
   "metadata": {},
   "outputs": [
    {
     "data": {
      "text/plain": [
       "0610009L18Rik    0\n",
       "0610012G03Rik    2\n",
       "Name: TTCGTGTCGAA, dtype: int64"
      ]
     },
     "execution_count": 17,
     "metadata": {},
     "output_type": "execute_result"
    }
   ],
   "source": [
    "final_counts.loc[\"TTCGTGTCGAA\", [\"0610009L18Rik\", \"0610012G03Rik\"]]"
   ]
  },
  {
   "cell_type": "code",
   "execution_count": 19,
   "id": "b700727b",
   "metadata": {},
   "outputs": [],
   "source": [
    "#final_counts.to_csv(\"/home/groups/ConradLab/daniel/sharp_data/jung/counts.csv\")"
   ]
  },
  {
   "cell_type": "code",
   "execution_count": 18,
   "id": "fff37dbf",
   "metadata": {},
   "outputs": [],
   "source": [
    "all_labels = pd.read_csv(\"/home/groups/ConradLab/daniel/sharp_data/jung/preds.csv\", index_col=0)"
   ]
  },
  {
   "cell_type": "code",
   "execution_count": 19,
   "id": "613e6992",
   "metadata": {},
   "outputs": [
    {
     "data": {
      "text/plain": [
       "['spg', 'spc', 'spd']"
      ]
     },
     "execution_count": 19,
     "metadata": {},
     "output_type": "execute_result"
    }
   ],
   "source": [
    "_,marker_names = utilities.read_marker_file(\"/home/groups/ConradLab/daniel/sharp_data/jung/markers.txt\")\n",
    "marker_names"
   ]
  },
  {
   "cell_type": "code",
   "execution_count": 20,
   "id": "267f1afd",
   "metadata": {},
   "outputs": [
    {
     "data": {
      "text/plain": [
       "array([[0., 0., 3.],\n",
       "       [0., 0., 3.],\n",
       "       [0., 3., 0.],\n",
       "       ...,\n",
       "       [1., 0., 0.],\n",
       "       [3., 0., 0.],\n",
       "       [0., 3., 0.]])"
      ]
     },
     "execution_count": 20,
     "metadata": {},
     "output_type": "execute_result"
    }
   ],
   "source": [
    "all_labels_factored = utilities.factorize_df(all_labels, marker_names)\n",
    "encoded_labels = utilities.encode_predictions(all_labels_factored)\n",
    "encoded_labels"
   ]
  },
  {
   "cell_type": "code",
   "execution_count": 21,
   "id": "f687695c",
   "metadata": {},
   "outputs": [
    {
     "data": {
      "text/html": [
       "<div>\n",
       "<style scoped>\n",
       "    .dataframe tbody tr th:only-of-type {\n",
       "        vertical-align: middle;\n",
       "    }\n",
       "\n",
       "    .dataframe tbody tr th {\n",
       "        vertical-align: top;\n",
       "    }\n",
       "\n",
       "    .dataframe thead th {\n",
       "        text-align: right;\n",
       "    }\n",
       "</style>\n",
       "<table border=\"1\" class=\"dataframe\">\n",
       "  <thead>\n",
       "    <tr style=\"text-align: right;\">\n",
       "      <th></th>\n",
       "      <th>scina</th>\n",
       "      <th>scsorter</th>\n",
       "      <th>sctype</th>\n",
       "    </tr>\n",
       "  </thead>\n",
       "  <tbody>\n",
       "    <tr>\n",
       "      <th>0</th>\n",
       "      <td>2</td>\n",
       "      <td>2</td>\n",
       "      <td>2</td>\n",
       "    </tr>\n",
       "    <tr>\n",
       "      <th>1</th>\n",
       "      <td>2</td>\n",
       "      <td>2</td>\n",
       "      <td>2</td>\n",
       "    </tr>\n",
       "    <tr>\n",
       "      <th>2</th>\n",
       "      <td>1</td>\n",
       "      <td>1</td>\n",
       "      <td>1</td>\n",
       "    </tr>\n",
       "    <tr>\n",
       "      <th>3</th>\n",
       "      <td>1</td>\n",
       "      <td>1</td>\n",
       "      <td>1</td>\n",
       "    </tr>\n",
       "    <tr>\n",
       "      <th>4</th>\n",
       "      <td>2</td>\n",
       "      <td>2</td>\n",
       "      <td>2</td>\n",
       "    </tr>\n",
       "    <tr>\n",
       "      <th>...</th>\n",
       "      <td>...</td>\n",
       "      <td>...</td>\n",
       "      <td>...</td>\n",
       "    </tr>\n",
       "    <tr>\n",
       "      <th>687</th>\n",
       "      <td>2</td>\n",
       "      <td>2</td>\n",
       "      <td>2</td>\n",
       "    </tr>\n",
       "    <tr>\n",
       "      <th>688</th>\n",
       "      <td>2</td>\n",
       "      <td>2</td>\n",
       "      <td>2</td>\n",
       "    </tr>\n",
       "    <tr>\n",
       "      <th>689</th>\n",
       "      <td>-1</td>\n",
       "      <td>-1</td>\n",
       "      <td>0</td>\n",
       "    </tr>\n",
       "    <tr>\n",
       "      <th>690</th>\n",
       "      <td>0</td>\n",
       "      <td>0</td>\n",
       "      <td>0</td>\n",
       "    </tr>\n",
       "    <tr>\n",
       "      <th>691</th>\n",
       "      <td>1</td>\n",
       "      <td>1</td>\n",
       "      <td>1</td>\n",
       "    </tr>\n",
       "  </tbody>\n",
       "</table>\n",
       "<p>692 rows × 3 columns</p>\n",
       "</div>"
      ],
      "text/plain": [
       "     scina  scsorter  sctype\n",
       "0        2         2       2\n",
       "1        2         2       2\n",
       "2        1         1       1\n",
       "3        1         1       1\n",
       "4        2         2       2\n",
       "..     ...       ...     ...\n",
       "687      2         2       2\n",
       "688      2         2       2\n",
       "689     -1        -1       0\n",
       "690      0         0       0\n",
       "691      1         1       1\n",
       "\n",
       "[692 rows x 3 columns]"
      ]
     },
     "execution_count": 21,
     "metadata": {},
     "output_type": "execute_result"
    }
   ],
   "source": [
    "all_labels_factored"
   ]
  },
  {
   "cell_type": "code",
   "execution_count": 22,
   "id": "e0247197",
   "metadata": {},
   "outputs": [
    {
     "data": {
      "text/plain": [
       "array([2, 2, 1, 1, 2, 2, 2, 2, 2, 1, 0, 0, 2, 2, 2, 0, 2, 2, 1, 2, 1, 1,\n",
       "       1, 2, 1, 1, 2, 2, 2, 0, 1, 2, 2, 2, 1, 2, 2, 0, 2, 0, 2, 0, 0, 2,\n",
       "       0, 0, 0, 0, 1, 0, 0, 1, 0, 0, 1, 0, 2, 2, 2, 2, 1, 2, 1, 2, 1, 0,\n",
       "       2, 1, 2, 0, 1, 0, 2, 0, 1, 0, 1, 1, 0, 2, 0, 2, 2, 0, 1, 0, 0, 2,\n",
       "       2, 1, 2, 0, 0, 0, 0, 1, 2, 0, 2, 0, 0, 0, 0, 2, 2, 2, 1, 2, 0, 0,\n",
       "       0, 0, 2, 2, 2, 0, 2, 2, 1, 2, 1, 1, 1, 0, 1, 0, 1, 1, 2, 1, 2, 2,\n",
       "       2, 0, 2, 1, 2, 1, 0, 0, 2, 2, 2, 2, 0, 1, 2, 2, 1, 2, 0, 0, 0, 2,\n",
       "       2, 1, 0, 0, 0, 2, 2, 0, 2, 0, 2, 0, 0, 2, 1, 2, 2, 2, 2, 2, 0, 1,\n",
       "       2, 0, 0, 2, 1, 1, 2, 2, 0, 2, 2, 0, 2, 2, 1, 0, 0, 0, 2, 0, 0, 2,\n",
       "       2, 0, 2, 0, 0, 2, 1, 2, 1, 1, 2, 0, 0, 2, 2, 0, 2, 0, 2, 2, 1, 0,\n",
       "       2, 0, 1, 0, 0, 0, 0, 0, 0, 1, 1, 1, 2, 0, 2, 1, 0, 0, 0, 0, 1, 1,\n",
       "       1, 0, 2, 1, 2, 0, 0, 2, 0, 2, 0, 0, 2, 2, 0, 0, 2, 0, 1, 1, 0, 2,\n",
       "       1, 2, 2, 0, 0, 0, 2, 1, 0, 1, 1, 2, 1, 2, 2, 2, 2, 2, 1, 2, 2, 1,\n",
       "       0, 2, 1, 1, 0, 2, 1, 1, 0, 2, 1, 0, 2, 0, 2, 2, 2, 2, 0, 0, 2, 2,\n",
       "       2, 2, 1, 1, 0, 2, 2, 2, 1, 2, 1, 2, 0, 0, 2, 2, 0, 0, 2, 2, 2, 0,\n",
       "       2, 2, 2, 1, 0, 0, 1, 2, 2, 0, 0, 0, 2, 0, 0, 1, 0, 1, 1, 2, 0, 1,\n",
       "       2, 0, 0, 2, 1, 2, 0, 1, 0, 2, 0, 2, 2, 1, 1, 0, 1, 2, 2, 2, 2, 2,\n",
       "       0, 0, 2, 0, 2, 2, 0, 1, 1, 1, 0, 2, 1, 0, 0, 0, 1, 1, 0, 0, 2, 1,\n",
       "       2, 2, 2, 2, 2, 1, 0, 0, 2, 2, 1, 2, 0, 2, 0, 2, 1, 0, 0, 2, 2, 0,\n",
       "       1, 2, 2, 2, 2, 1, 2, 1, 2, 0, 0, 1, 1, 0, 0, 1, 1, 1, 2, 2, 1, 2,\n",
       "       0, 1, 2, 0, 1, 2, 2, 0, 2, 1, 1, 0, 0, 2, 1, 2, 1, 2, 2, 2, 0, 2,\n",
       "       2, 2, 2, 0, 2, 2, 2, 2, 0, 1, 2, 1, 1, 1, 2, 2, 0, 0, 2, 2, 2, 2,\n",
       "       0, 0, 2, 2, 2, 2, 0, 0, 2, 2, 2, 0, 1, 1, 1, 1, 1, 1, 2, 0, 1, 2,\n",
       "       0, 2, 2, 1, 0, 0, 0, 2, 2, 1, 0, 2, 0, 2, 0, 2, 1, 0, 2, 0, 2, 2,\n",
       "       2, 0, 2, 2, 0, 0, 0, 0, 2, 0, 0, 1, 2, 0, 0, 2, 0, 0, 1, 1, 2, 0,\n",
       "       0, 1, 2, 1, 2, 2, 2, 0, 0, 0, 2, 0, 0, 0, 0, 2, 0, 2, 2, 1, 1, 1,\n",
       "       2, 1, 1, 1, 2, 2, 0, 0, 2, 2, 1, 2, 1, 2, 0, 1, 0, 1, 2, 0, 0, 0,\n",
       "       0, 2, 1, 2, 2, 1, 0, 1, 0, 0, 1, 1, 2, 0, 0, 2, 2, 2, 2, 0, 0, 2,\n",
       "       2, 2, 2, 2, 2, 2, 2, 2, 0, 0, 2, 0, 0, 0, 2, 2, 0, 2, 0, 0, 1, 0,\n",
       "       0, 0, 0, 1, 1, 2, 0, 2, 1, 2, 0, 2, 0, 1, 2, 0, 2, 2, 1, 1, 0, 0,\n",
       "       0, 2, 0, 0, 2, 0, 0, 2, 1, 0, 1, 2, 2, 0, 0, 0, 0, 2, 2, 2, 1, 1,\n",
       "       0, 2, 2, 2, 0, 2, 2, 0, 0, 0])"
      ]
     },
     "execution_count": 22,
     "metadata": {},
     "output_type": "execute_result"
    }
   ],
   "source": [
    "merged_labels = pd.factorize(merged_labels, sort=True)[0]\n",
    "merged_labels"
   ]
  },
  {
   "cell_type": "code",
   "execution_count": 23,
   "id": "e1b6b655",
   "metadata": {},
   "outputs": [
    {
     "name": "stdout",
     "output_type": "stream",
     "text": [
      "0.5404624342918396\n",
      "0.7731214165687561\n",
      "0.7601156234741211\n"
     ]
    }
   ],
   "source": [
    "print(utilities.pred_accuracy(all_labels_factored['scina'], merged_labels))\n",
    "print(utilities.pred_accuracy(all_labels_factored['sctype'], merged_labels))\n",
    "print(utilities.pred_accuracy(all_labels_factored['scsorter'], merged_labels))\n",
    "#print(utilities.pred_accuracy(all_labels_factored['singler'], real_y))\n",
    "#print(utilities.pred_accuracy(all_labels_factored['scpred'], real_y))\n"
   ]
  },
  {
   "cell_type": "code",
   "execution_count": 25,
   "id": "69417cbb",
   "metadata": {},
   "outputs": [
    {
     "name": "stderr",
     "output_type": "stream",
     "text": [
      "/home/users/lewinsda/scSHARP/utilities.py:175: UserWarning: To copy construct from a tensor, it is recommended to use sourceTensor.clone().detach() or sourceTensor.clone().detach().requires_grad_(True), rather than torch.tensor(sourceTensor).\n",
      "  return float((torch.tensor(preds) == torch.tensor(real)).type(torch.FloatTensor).mean().numpy())\n"
     ]
    },
    {
     "data": {
      "text/plain": [
       "0.8453757166862488"
      ]
     },
     "execution_count": 25,
     "metadata": {},
     "output_type": "execute_result"
    }
   ],
   "source": [
    "max_pred = torch.tensor(encoded_labels).max(dim=1)[1]\n",
    "utilities.pred_accuracy(max_pred, merged_labels)"
   ]
  },
  {
   "cell_type": "code",
   "execution_count": 39,
   "id": "08599c21",
   "metadata": {},
   "outputs": [
    {
     "data": {
      "text/plain": [
       "(692,)"
      ]
     },
     "execution_count": 39,
     "metadata": {},
     "output_type": "execute_result"
    }
   ],
   "source": [
    "confident_labels = utilities.get_consensus_labels(encoded_labels, necessary_vote = 2)\n",
    "confident_labels.shape"
   ]
  },
  {
   "cell_type": "code",
   "execution_count": 40,
   "id": "a7d10459",
   "metadata": {},
   "outputs": [
    {
     "data": {
      "text/plain": [
       "124"
      ]
     },
     "execution_count": 40,
     "metadata": {},
     "output_type": "execute_result"
    }
   ],
   "source": [
    "train_nodes = np.where(confident_labels != -1)[0]\n",
    "test_nodes = np.where(confident_labels == -1)[0]\n",
    "len(test_nodes)"
   ]
  },
  {
   "cell_type": "code",
   "execution_count": 41,
   "id": "2876385e",
   "metadata": {},
   "outputs": [
    {
     "name": "stdout",
     "output_type": "stream",
     "text": [
      "0.8785211443901062\n"
     ]
    }
   ],
   "source": [
    "print(utilities.pred_accuracy(confident_labels[train_nodes], merged_labels[train_nodes]))"
   ]
  },
  {
   "cell_type": "code",
   "execution_count": 33,
   "id": "3394712e",
   "metadata": {},
   "outputs": [
    {
     "name": "stdout",
     "output_type": "stream",
     "text": [
      "0.0\n",
      "0.3790322542190552\n",
      "0.2661290466785431\n",
      "0.6935483813285828\n"
     ]
    }
   ],
   "source": [
    "# tool accuracy on test\n",
    "print(utilities.pred_accuracy(np.array(all_labels_factored['scina'][test_nodes]), merged_labels[test_nodes]))\n",
    "print(utilities.pred_accuracy(np.array(all_labels_factored['sctype'][test_nodes]), merged_labels[test_nodes]))\n",
    "print(utilities.pred_accuracy(np.array(all_labels_factored['scsorter'][test_nodes]), merged_labels[test_nodes]))\n",
    "#print(utilities.pred_accuracy(np.array(all_labels_factored['singler'][test_nodes]), real_y[test_nodes]))\n",
    "#print(utilities.pred_accuracy(np.array(all_labels_factored['scpred'][test_nodes]), real_y[test_nodes]))\n",
    "#max_pred = torch.tensor(encoded_labels).max(dim=1)[1]\n",
    "print(utilities.pred_accuracy(max_pred[test_nodes], merged_labels[test_nodes]))"
   ]
  },
  {
   "cell_type": "code",
   "execution_count": 43,
   "id": "780ad11d",
   "metadata": {},
   "outputs": [
    {
     "data": {
      "text/html": [
       "<div>\n",
       "<style scoped>\n",
       "    .dataframe tbody tr th:only-of-type {\n",
       "        vertical-align: middle;\n",
       "    }\n",
       "\n",
       "    .dataframe tbody tr th {\n",
       "        vertical-align: top;\n",
       "    }\n",
       "\n",
       "    .dataframe thead th {\n",
       "        text-align: right;\n",
       "    }\n",
       "</style>\n",
       "<table border=\"1\" class=\"dataframe\">\n",
       "  <thead>\n",
       "    <tr style=\"text-align: right;\">\n",
       "      <th></th>\n",
       "      <th>scina</th>\n",
       "      <th>scsorter</th>\n",
       "      <th>sctype</th>\n",
       "    </tr>\n",
       "  </thead>\n",
       "  <tbody>\n",
       "    <tr>\n",
       "      <th>10</th>\n",
       "      <td>-1</td>\n",
       "      <td>1</td>\n",
       "      <td>-1</td>\n",
       "    </tr>\n",
       "    <tr>\n",
       "      <th>19</th>\n",
       "      <td>-1</td>\n",
       "      <td>2</td>\n",
       "      <td>-1</td>\n",
       "    </tr>\n",
       "    <tr>\n",
       "      <th>22</th>\n",
       "      <td>-1</td>\n",
       "      <td>-1</td>\n",
       "      <td>-1</td>\n",
       "    </tr>\n",
       "    <tr>\n",
       "      <th>25</th>\n",
       "      <td>-1</td>\n",
       "      <td>-1</td>\n",
       "      <td>-1</td>\n",
       "    </tr>\n",
       "    <tr>\n",
       "      <th>29</th>\n",
       "      <td>-1</td>\n",
       "      <td>-1</td>\n",
       "      <td>0</td>\n",
       "    </tr>\n",
       "    <tr>\n",
       "      <th>...</th>\n",
       "      <td>...</td>\n",
       "      <td>...</td>\n",
       "      <td>...</td>\n",
       "    </tr>\n",
       "    <tr>\n",
       "      <th>672</th>\n",
       "      <td>-1</td>\n",
       "      <td>-1</td>\n",
       "      <td>-1</td>\n",
       "    </tr>\n",
       "    <tr>\n",
       "      <th>676</th>\n",
       "      <td>-1</td>\n",
       "      <td>1</td>\n",
       "      <td>0</td>\n",
       "    </tr>\n",
       "    <tr>\n",
       "      <th>680</th>\n",
       "      <td>-1</td>\n",
       "      <td>1</td>\n",
       "      <td>-1</td>\n",
       "    </tr>\n",
       "    <tr>\n",
       "      <th>684</th>\n",
       "      <td>-1</td>\n",
       "      <td>-1</td>\n",
       "      <td>-1</td>\n",
       "    </tr>\n",
       "    <tr>\n",
       "      <th>689</th>\n",
       "      <td>-1</td>\n",
       "      <td>-1</td>\n",
       "      <td>0</td>\n",
       "    </tr>\n",
       "  </tbody>\n",
       "</table>\n",
       "<p>124 rows × 3 columns</p>\n",
       "</div>"
      ],
      "text/plain": [
       "     scina  scsorter  sctype\n",
       "10      -1         1      -1\n",
       "19      -1         2      -1\n",
       "22      -1        -1      -1\n",
       "25      -1        -1      -1\n",
       "29      -1        -1       0\n",
       "..     ...       ...     ...\n",
       "672     -1        -1      -1\n",
       "676     -1         1       0\n",
       "680     -1         1      -1\n",
       "684     -1        -1      -1\n",
       "689     -1        -1       0\n",
       "\n",
       "[124 rows x 3 columns]"
      ]
     },
     "execution_count": 43,
     "metadata": {},
     "output_type": "execute_result"
    }
   ],
   "source": [
    "all_labels_factored.iloc[test_nodes,:]"
   ]
  },
  {
   "cell_type": "code",
   "execution_count": 44,
   "id": "08ac82c4",
   "metadata": {},
   "outputs": [
    {
     "data": {
      "text/plain": [
       "array([68, 47,  9])"
      ]
     },
     "execution_count": 44,
     "metadata": {},
     "output_type": "execute_result"
    }
   ],
   "source": [
    "unique, counts = np.unique(merged_labels[test_nodes], return_counts=True)\n",
    "counts"
   ]
  }
 ],
 "metadata": {
  "kernelspec": {
   "display_name": "daniel_thesis",
   "language": "python",
   "name": "daniel_thesis_2"
  },
  "language_info": {
   "codemirror_mode": {
    "name": "ipython",
    "version": 3
   },
   "file_extension": ".py",
   "mimetype": "text/x-python",
   "name": "python",
   "nbconvert_exporter": "python",
   "pygments_lexer": "ipython3",
   "version": "3.9.7"
  }
 },
 "nbformat": 4,
 "nbformat_minor": 5
}
