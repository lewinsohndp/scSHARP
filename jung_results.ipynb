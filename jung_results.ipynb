{
 "cells": [
  {
   "cell_type": "code",
   "execution_count": 2,
   "id": "91ef7b62",
   "metadata": {},
   "outputs": [
    {
     "name": "stderr",
     "output_type": "stream",
     "text": [
      "/home/users/lewinsda/.conda/envs/daniel_thesis_2/lib/python3.9/site-packages/tqdm/auto.py:22: TqdmWarning: IProgress not found. Please update jupyter and ipywidgets. See https://ipywidgets.readthedocs.io/en/stable/user_install.html\n",
      "  from .autonotebook import tqdm as notebook_tqdm\n"
     ]
    }
   ],
   "source": [
    "import numpy as np\n",
    "import pandas as pd\n",
    "import matplotlib.pyplot as plt\n",
    "import seaborn as sns\n",
    "import torch\n",
    "from test_model import test_model\n",
    "from sklearn.metrics import confusion_matrix, ConfusionMatrixDisplay\n",
    "from sc_sharp import scSHARP\n",
    "import utilities\n",
    "from sklearn import preprocessing"
   ]
  },
  {
   "cell_type": "code",
   "execution_count": 6,
   "id": "d521f500",
   "metadata": {
    "scrolled": true
   },
   "outputs": [
    {
     "data": {
      "text/html": [
       "<div>\n",
       "<style scoped>\n",
       "    .dataframe tbody tr th:only-of-type {\n",
       "        vertical-align: middle;\n",
       "    }\n",
       "\n",
       "    .dataframe tbody tr th {\n",
       "        vertical-align: top;\n",
       "    }\n",
       "\n",
       "    .dataframe thead th {\n",
       "        text-align: right;\n",
       "    }\n",
       "</style>\n",
       "<table border=\"1\" class=\"dataframe\">\n",
       "  <thead>\n",
       "    <tr style=\"text-align: right;\">\n",
       "      <th></th>\n",
       "      <th>Total Accuracy</th>\n",
       "      <th>Val Accuracy</th>\n",
       "      <th>Test Accuracy</th>\n",
       "      <th>Total SD</th>\n",
       "      <th>Val SD</th>\n",
       "      <th>Test SD</th>\n",
       "      <th>Config</th>\n",
       "      <th>Dropout</th>\n",
       "      <th>Batch</th>\n",
       "      <th>Neighbors</th>\n",
       "      <th>GCN Layers</th>\n",
       "      <th>Final Embedding</th>\n",
       "    </tr>\n",
       "    <tr>\n",
       "      <th>0</th>\n",
       "      <th></th>\n",
       "      <th></th>\n",
       "      <th></th>\n",
       "      <th></th>\n",
       "      <th></th>\n",
       "      <th></th>\n",
       "      <th></th>\n",
       "      <th></th>\n",
       "      <th></th>\n",
       "      <th></th>\n",
       "      <th></th>\n",
       "      <th></th>\n",
       "    </tr>\n",
       "  </thead>\n",
       "  <tbody>\n",
       "    <tr>\n",
       "      <th>127</th>\n",
       "      <td>0.931358</td>\n",
       "      <td>0.988372</td>\n",
       "      <td>0.0</td>\n",
       "      <td>0.001228</td>\n",
       "      <td>0.006588</td>\n",
       "      <td>0.0</td>\n",
       "      <td>2_15.txt</td>\n",
       "      <td>0.0</td>\n",
       "      <td>20</td>\n",
       "      <td>2</td>\n",
       "      <td>2</td>\n",
       "      <td>15</td>\n",
       "    </tr>\n",
       "    <tr>\n",
       "      <th>1</th>\n",
       "      <td>0.931358</td>\n",
       "      <td>0.988372</td>\n",
       "      <td>0.0</td>\n",
       "      <td>0.001022</td>\n",
       "      <td>0.005481</td>\n",
       "      <td>0.0</td>\n",
       "      <td>2_25.txt</td>\n",
       "      <td>0.0</td>\n",
       "      <td>20</td>\n",
       "      <td>2</td>\n",
       "      <td>2</td>\n",
       "      <td>25</td>\n",
       "    </tr>\n",
       "    <tr>\n",
       "      <th>4</th>\n",
       "      <td>0.931069</td>\n",
       "      <td>0.986822</td>\n",
       "      <td>0.0</td>\n",
       "      <td>0.000975</td>\n",
       "      <td>0.005232</td>\n",
       "      <td>0.0</td>\n",
       "      <td>2_25.txt</td>\n",
       "      <td>0.0</td>\n",
       "      <td>35</td>\n",
       "      <td>2</td>\n",
       "      <td>2</td>\n",
       "      <td>25</td>\n",
       "    </tr>\n",
       "    <tr>\n",
       "      <th>145</th>\n",
       "      <td>0.930925</td>\n",
       "      <td>0.986047</td>\n",
       "      <td>0.0</td>\n",
       "      <td>0.001328</td>\n",
       "      <td>0.007124</td>\n",
       "      <td>0.0</td>\n",
       "      <td>2_60.txt</td>\n",
       "      <td>0.0</td>\n",
       "      <td>20</td>\n",
       "      <td>2</td>\n",
       "      <td>2</td>\n",
       "      <td>60</td>\n",
       "    </tr>\n",
       "    <tr>\n",
       "      <th>130</th>\n",
       "      <td>0.930925</td>\n",
       "      <td>0.986047</td>\n",
       "      <td>0.0</td>\n",
       "      <td>0.000914</td>\n",
       "      <td>0.004903</td>\n",
       "      <td>0.0</td>\n",
       "      <td>2_15.txt</td>\n",
       "      <td>0.0</td>\n",
       "      <td>35</td>\n",
       "      <td>2</td>\n",
       "      <td>2</td>\n",
       "      <td>15</td>\n",
       "    </tr>\n",
       "    <tr>\n",
       "      <th>16</th>\n",
       "      <td>0.930780</td>\n",
       "      <td>0.985271</td>\n",
       "      <td>0.0</td>\n",
       "      <td>0.001066</td>\n",
       "      <td>0.005720</td>\n",
       "      <td>0.0</td>\n",
       "      <td>2_25.txt</td>\n",
       "      <td>0.0</td>\n",
       "      <td>95</td>\n",
       "      <td>2</td>\n",
       "      <td>2</td>\n",
       "      <td>25</td>\n",
       "    </tr>\n",
       "    <tr>\n",
       "      <th>148</th>\n",
       "      <td>0.930636</td>\n",
       "      <td>0.984496</td>\n",
       "      <td>0.0</td>\n",
       "      <td>0.001180</td>\n",
       "      <td>0.006329</td>\n",
       "      <td>0.0</td>\n",
       "      <td>2_60.txt</td>\n",
       "      <td>0.0</td>\n",
       "      <td>35</td>\n",
       "      <td>2</td>\n",
       "      <td>2</td>\n",
       "      <td>60</td>\n",
       "    </tr>\n",
       "    <tr>\n",
       "      <th>13</th>\n",
       "      <td>0.930636</td>\n",
       "      <td>0.984496</td>\n",
       "      <td>0.0</td>\n",
       "      <td>0.000963</td>\n",
       "      <td>0.005168</td>\n",
       "      <td>0.0</td>\n",
       "      <td>2_25.txt</td>\n",
       "      <td>0.0</td>\n",
       "      <td>80</td>\n",
       "      <td>2</td>\n",
       "      <td>2</td>\n",
       "      <td>25</td>\n",
       "    </tr>\n",
       "    <tr>\n",
       "      <th>160</th>\n",
       "      <td>0.930636</td>\n",
       "      <td>0.984496</td>\n",
       "      <td>0.0</td>\n",
       "      <td>0.000681</td>\n",
       "      <td>0.003654</td>\n",
       "      <td>0.0</td>\n",
       "      <td>2_60.txt</td>\n",
       "      <td>0.0</td>\n",
       "      <td>95</td>\n",
       "      <td>2</td>\n",
       "      <td>2</td>\n",
       "      <td>60</td>\n",
       "    </tr>\n",
       "    <tr>\n",
       "      <th>70</th>\n",
       "      <td>0.930491</td>\n",
       "      <td>0.983721</td>\n",
       "      <td>0.0</td>\n",
       "      <td>0.000457</td>\n",
       "      <td>0.002451</td>\n",
       "      <td>0.0</td>\n",
       "      <td>3_15.txt</td>\n",
       "      <td>0.0</td>\n",
       "      <td>95</td>\n",
       "      <td>2</td>\n",
       "      <td>3</td>\n",
       "      <td>15</td>\n",
       "    </tr>\n",
       "  </tbody>\n",
       "</table>\n",
       "</div>"
      ],
      "text/plain": [
       "     Total Accuracy  Val Accuracy  Test Accuracy  Total SD    Val SD  Test SD  \\\n",
       "0                                                                               \n",
       "127        0.931358      0.988372            0.0  0.001228  0.006588      0.0   \n",
       "1          0.931358      0.988372            0.0  0.001022  0.005481      0.0   \n",
       "4          0.931069      0.986822            0.0  0.000975  0.005232      0.0   \n",
       "145        0.930925      0.986047            0.0  0.001328  0.007124      0.0   \n",
       "130        0.930925      0.986047            0.0  0.000914  0.004903      0.0   \n",
       "16         0.930780      0.985271            0.0  0.001066  0.005720      0.0   \n",
       "148        0.930636      0.984496            0.0  0.001180  0.006329      0.0   \n",
       "13         0.930636      0.984496            0.0  0.000963  0.005168      0.0   \n",
       "160        0.930636      0.984496            0.0  0.000681  0.003654      0.0   \n",
       "70         0.930491      0.983721            0.0  0.000457  0.002451      0.0   \n",
       "\n",
       "       Config  Dropout  Batch  Neighbors  GCN Layers  Final Embedding  \n",
       "0                                                                      \n",
       "127  2_15.txt      0.0     20          2           2               15  \n",
       "1    2_25.txt      0.0     20          2           2               25  \n",
       "4    2_25.txt      0.0     35          2           2               25  \n",
       "145  2_60.txt      0.0     20          2           2               60  \n",
       "130  2_15.txt      0.0     35          2           2               15  \n",
       "16   2_25.txt      0.0     95          2           2               25  \n",
       "148  2_60.txt      0.0     35          2           2               60  \n",
       "13   2_25.txt      0.0     80          2           2               25  \n",
       "160  2_60.txt      0.0     95          2           2               60  \n",
       "70   3_15.txt      0.0     95          2           3               15  "
      ]
     },
     "execution_count": 6,
     "metadata": {},
     "output_type": "execute_result"
    }
   ],
   "source": [
    "grid_results = pd.read_csv(\"grid_search_jung_output/combined.csv\", header=None, index_col=0)\n",
    "grid_results.columns = [\"Total Accuracy\", \"Val Accuracy\", \"Test Accuracy\", \"Total SD\", \"Val SD\", \"Test SD\", \"Config\", \"Dropout\", \"Batch\", \"Neighbors\"]\n",
    "grid_results['GCN Layers'] = grid_results['Config'].apply(lambda x: x.split('_')[0])\n",
    "grid_results['Final Embedding'] = grid_results['Config'].apply(lambda x: x.split('_')[1].split(\".\")[0])\n",
    "grid_results['GCN Layers'] = pd.to_numeric(grid_results['GCN Layers'])\n",
    "grid_results['Final Embedding'] = pd.to_numeric(grid_results['Final Embedding'])\n",
    "grid_results.sort_values(\"Val Accuracy\", ascending=False).head(10)"
   ]
  },
  {
   "cell_type": "code",
   "execution_count": 42,
   "id": "4662ac87",
   "metadata": {},
   "outputs": [
    {
     "data": {
      "text/plain": [
       "set()"
      ]
     },
     "execution_count": 42,
     "metadata": {},
     "output_type": "execute_result"
    }
   ],
   "source": [
    "set(range(1,217))-set(grid_results.index.to_numpy())"
   ]
  },
  {
   "cell_type": "code",
   "execution_count": null,
   "id": "e732b214",
   "metadata": {},
   "outputs": [],
   "source": [
    "# selecting 1 because Sd is lower and accuracy tied"
   ]
  },
  {
   "cell_type": "code",
   "execution_count": 7,
   "id": "9b8ca648",
   "metadata": {},
   "outputs": [],
   "source": [
    "font = {'family' : 'normal',\n",
    "        'weight' : 'normal',\n",
    "        'size'   : 18}\n",
    "\n",
    "plt.rc('font', **font)"
   ]
  },
  {
   "cell_type": "code",
   "execution_count": 8,
   "id": "91c126dc",
   "metadata": {},
   "outputs": [
    {
     "name": "stderr",
     "output_type": "stream",
     "text": [
      "findfont: Font family ['normal'] not found. Falling back to DejaVu Sans.\n"
     ]
    },
    {
     "data": {
      "image/png": "[encoded data removed]",
      "text/plain": [
       "<Figure size 936x360 with 2 Axes>"
      ]
     },
     "metadata": {
      "needs_background": "light"
     },
     "output_type": "display_data"
    }
   ],
   "source": [
    "fig, axs = plt.subplots(1,2, figsize=(13, 5))\n",
    "sns.violinplot(x=grid_results[\"Neighbors\"], y=grid_results[\"Val Accuracy\"], ax = axs[0])\n",
    "sns.violinplot(x=grid_results[\"Batch\"], y=grid_results[\"Val Accuracy\"], ax = axs[1])\n",
    "plt.plot()\n",
    "plt.savefig(\"figures/jung_param1.pdf\", format=\"pdf\", bbox_inches=\"tight\")\n",
    "plt.show()"
   ]
  },
  {
   "cell_type": "code",
   "execution_count": 9,
   "id": "99b4ff8d",
   "metadata": {},
   "outputs": [
    {
     "data": {
      "image/png": "[encoded data removed]",
      "text/plain": [
       "<Figure size 936x360 with 2 Axes>"
      ]
     },
     "metadata": {
      "needs_background": "light"
     },
     "output_type": "display_data"
    }
   ],
   "source": [
    "fig, axs = plt.subplots(1,2,figsize=(13, 5))\n",
    "sns.violinplot(x=grid_results[\"GCN Layers\"], y=grid_results[\"Val Accuracy\"], ax = axs[0])\n",
    "sns.violinplot(x=grid_results[\"Final Embedding\"], y=grid_results[\"Val Accuracy\"], ax = axs[1])\n",
    "plt.plot()\n",
    "plt.savefig(\"figures/jung_param2.pdf\", format=\"pdf\", bbox_inches=\"tight\")\n",
    "plt.show()"
   ]
  },
  {
   "cell_type": "code",
   "execution_count": 2,
   "id": "cde44608",
   "metadata": {},
   "outputs": [],
   "source": [
    "data_folders = [\"/home/groups/ConradLab/daniel/sharp_data/jung/\"]\n",
    "tools = [\"sctype\",\"scsorter\",\"scina\"]\n",
    "votes_necessary = .51\n",
    "model_file = \"configs/2_25.txt\"\n",
    "neighbors = 2\n",
    "batch_size=20\n",
    "training_epochs=150\n",
    "random_inits = 5\n",
    "counts=\"counts.csv\"\n",
    "meta=\"labels.csv\"\n",
    "meta_col = 0"
   ]
  },
  {
   "cell_type": "code",
   "execution_count": 6,
   "id": "330fc557",
   "metadata": {},
   "outputs": [
    {
     "name": "stdout",
     "output_type": "stream",
     "text": [
      "Loss in epoch 0 = 16.210896\n",
      "Loss in epoch 10 = 0.018369\n",
      "Loss in epoch 20 = 0.005205\n",
      "Loss in epoch 30 = 0.002262\n",
      "Loss in epoch 40 = 0.001475\n",
      "Loss in epoch 50 = 0.000886\n",
      "Loss in epoch 60 = 0.000512\n",
      "Loss in epoch 70 = 0.000433\n",
      "Loss in epoch 80 = 0.000277\n",
      "Loss in epoch 90 = 0.000228\n",
      "Loss in epoch 100 = 0.000140\n",
      "Loss in epoch 110 = 0.000128\n",
      "Loss in epoch 120 = 0.000096\n",
      "Loss in epoch 130 = 0.000076\n",
      "Loss in epoch 140 = 0.000060\n",
      "Loss in epoch 0 = 17.218880\n",
      "Loss in epoch 10 = 0.018071\n",
      "Loss in epoch 20 = 0.005925\n",
      "Loss in epoch 30 = 0.002656\n",
      "Loss in epoch 40 = 0.001549\n",
      "Loss in epoch 50 = 0.000966\n",
      "Loss in epoch 60 = 0.000632\n",
      "Loss in epoch 70 = 0.000405\n",
      "Loss in epoch 80 = 0.000340\n",
      "Loss in epoch 90 = 0.000252\n",
      "Loss in epoch 100 = 0.000190\n",
      "Loss in epoch 110 = 0.000137\n",
      "Loss in epoch 120 = 0.000121\n",
      "Loss in epoch 130 = 0.000085\n",
      "Loss in epoch 140 = 0.000071\n",
      "Loss in epoch 0 = 18.265646\n",
      "Loss in epoch 10 = 0.018950\n",
      "Loss in epoch 20 = 0.006333\n",
      "Loss in epoch 30 = 0.002913\n",
      "Loss in epoch 40 = 0.001669\n",
      "Loss in epoch 50 = 0.001202\n",
      "Loss in epoch 60 = 0.000595\n",
      "Loss in epoch 70 = 0.000673\n",
      "Loss in epoch 80 = 0.000322\n",
      "Loss in epoch 90 = 0.000239\n",
      "Loss in epoch 100 = 0.000216\n",
      "Loss in epoch 110 = 0.000125\n",
      "Loss in epoch 120 = 0.000116\n",
      "Loss in epoch 130 = 0.000082\n",
      "Loss in epoch 140 = 0.000067\n",
      "Loss in epoch 0 = 16.379217\n",
      "Loss in epoch 10 = 0.022757\n",
      "Loss in epoch 20 = 0.006203\n",
      "Loss in epoch 30 = 0.003051\n",
      "Loss in epoch 40 = 0.001729\n",
      "Loss in epoch 50 = 0.000885\n",
      "Loss in epoch 60 = 0.000590\n",
      "Loss in epoch 70 = 0.000570\n",
      "Loss in epoch 80 = 0.000328\n",
      "Loss in epoch 90 = 0.000256\n",
      "Loss in epoch 100 = 0.000184\n",
      "Loss in epoch 110 = 0.000173\n",
      "Loss in epoch 120 = 0.000115\n",
      "Loss in epoch 130 = 0.000094\n",
      "Loss in epoch 140 = 0.000074\n",
      "Loss in epoch 0 = 16.519316\n",
      "Loss in epoch 10 = 0.019908\n",
      "Loss in epoch 20 = 0.007118\n",
      "Loss in epoch 30 = 0.002662\n",
      "Loss in epoch 40 = 0.001469\n",
      "Loss in epoch 50 = 0.000897\n",
      "Loss in epoch 60 = 0.000572\n",
      "Loss in epoch 70 = 0.000457\n",
      "Loss in epoch 80 = 0.000282\n",
      "Loss in epoch 90 = 0.000322\n",
      "Loss in epoch 100 = 0.000189\n",
      "Loss in epoch 110 = 0.000155\n",
      "Loss in epoch 120 = 0.000094\n",
      "Loss in epoch 130 = 0.000084\n",
      "Loss in epoch 140 = 0.000072\n",
      "[0.8612716794013977, 0.8598265647888184, 0.8627167344093323, 0.8612716794013977, 0.8627167344093323]\n"
     ]
    },
    {
     "name": "stderr",
     "output_type": "stream",
     "text": [
      "/home/users/lewinsda/scSHARP/utilities.py:185: UserWarning: To copy construct from a tensor, it is recommended to use sourceTensor.clone().detach() or sourceTensor.clone().detach().requires_grad_(True), rather than torch.tensor(sourceTensor).\n",
      "  return float((torch.tensor(preds) == torch.tensor(real)).type(torch.FloatTensor).mean().numpy())\n"
     ]
    },
    {
     "data": {
      "text/html": [
       "<div>\n",
       "<style scoped>\n",
       "    .dataframe tbody tr th:only-of-type {\n",
       "        vertical-align: middle;\n",
       "    }\n",
       "\n",
       "    .dataframe tbody tr th {\n",
       "        vertical-align: top;\n",
       "    }\n",
       "\n",
       "    .dataframe thead th {\n",
       "        text-align: right;\n",
       "    }\n",
       "</style>\n",
       "<table border=\"1\" class=\"dataframe\">\n",
       "  <thead>\n",
       "    <tr style=\"text-align: right;\">\n",
       "      <th></th>\n",
       "      <th>data_name</th>\n",
       "      <th>method</th>\n",
       "      <th>total_accuracy</th>\n",
       "      <th>train_accuracy</th>\n",
       "      <th>test_accuracy</th>\n",
       "      <th>total_sd</th>\n",
       "      <th>train_sd</th>\n",
       "      <th>test_sd</th>\n",
       "    </tr>\n",
       "  </thead>\n",
       "  <tbody>\n",
       "    <tr>\n",
       "      <th>0</th>\n",
       "      <td>jung</td>\n",
       "      <td>GCN</td>\n",
       "      <td>0.861561</td>\n",
       "      <td>0.865325</td>\n",
       "      <td>0.808696</td>\n",
       "      <td>0.001209</td>\n",
       "      <td>0.000000</td>\n",
       "      <td>0.018188</td>\n",
       "    </tr>\n",
       "    <tr>\n",
       "      <th>1</th>\n",
       "      <td>jung</td>\n",
       "      <td>Max Col.</td>\n",
       "      <td>0.807803</td>\n",
       "      <td>0.865325</td>\n",
       "      <td>0.000000</td>\n",
       "      <td>0.000000</td>\n",
       "      <td>0.000000</td>\n",
       "      <td>0.000000</td>\n",
       "    </tr>\n",
       "    <tr>\n",
       "      <th>2</th>\n",
       "      <td>jung</td>\n",
       "      <td>Confident Labels</td>\n",
       "      <td>NaN</td>\n",
       "      <td>0.865325</td>\n",
       "      <td>NaN</td>\n",
       "      <td>0.000000</td>\n",
       "      <td>0.000000</td>\n",
       "      <td>0.000000</td>\n",
       "    </tr>\n",
       "    <tr>\n",
       "      <th>3</th>\n",
       "      <td>jung</td>\n",
       "      <td>sctype</td>\n",
       "      <td>0.848266</td>\n",
       "      <td>0.863777</td>\n",
       "      <td>0.630435</td>\n",
       "      <td>0.000000</td>\n",
       "      <td>0.000000</td>\n",
       "      <td>0.000000</td>\n",
       "    </tr>\n",
       "    <tr>\n",
       "      <th>4</th>\n",
       "      <td>jung</td>\n",
       "      <td>scsorter</td>\n",
       "      <td>0.774566</td>\n",
       "      <td>0.828173</td>\n",
       "      <td>0.021739</td>\n",
       "      <td>0.000000</td>\n",
       "      <td>0.000000</td>\n",
       "      <td>0.000000</td>\n",
       "    </tr>\n",
       "    <tr>\n",
       "      <th>5</th>\n",
       "      <td>jung</td>\n",
       "      <td>scina</td>\n",
       "      <td>0.539017</td>\n",
       "      <td>0.577399</td>\n",
       "      <td>0.000000</td>\n",
       "      <td>0.000000</td>\n",
       "      <td>0.000000</td>\n",
       "      <td>0.000000</td>\n",
       "    </tr>\n",
       "    <tr>\n",
       "      <th>6</th>\n",
       "      <td>jung</td>\n",
       "      <td>Tool Avg.</td>\n",
       "      <td>0.720617</td>\n",
       "      <td>0.756450</td>\n",
       "      <td>0.217391</td>\n",
       "      <td>0.161529</td>\n",
       "      <td>0.156081</td>\n",
       "      <td>0.357871</td>\n",
       "    </tr>\n",
       "  </tbody>\n",
       "</table>\n",
       "</div>"
      ],
      "text/plain": [
       "  data_name            method  total_accuracy  train_accuracy  test_accuracy  \\\n",
       "0      jung               GCN        0.861561        0.865325       0.808696   \n",
       "1      jung          Max Col.        0.807803        0.865325       0.000000   \n",
       "2      jung  Confident Labels             NaN        0.865325            NaN   \n",
       "3      jung            sctype        0.848266        0.863777       0.630435   \n",
       "4      jung          scsorter        0.774566        0.828173       0.021739   \n",
       "5      jung             scina        0.539017        0.577399       0.000000   \n",
       "6      jung         Tool Avg.        0.720617        0.756450       0.217391   \n",
       "\n",
       "   total_sd  train_sd   test_sd  \n",
       "0  0.001209  0.000000  0.018188  \n",
       "1  0.000000  0.000000  0.000000  \n",
       "2  0.000000  0.000000  0.000000  \n",
       "3  0.000000  0.000000  0.000000  \n",
       "4  0.000000  0.000000  0.000000  \n",
       "5  0.000000  0.000000  0.000000  \n",
       "6  0.161529  0.156081  0.357871  "
      ]
     },
     "execution_count": 6,
     "metadata": {},
     "output_type": "execute_result"
    }
   ],
   "source": [
    "results = test_model(data_folders, tools, votes_necessary, model_file, neighbors, batch_size, training_epochs, random_inits, counts=counts, meta=meta, meta_col=meta_col)\n",
    "results"
   ]
  },
  {
   "cell_type": "code",
   "execution_count": 3,
   "id": "7c58cd60",
   "metadata": {},
   "outputs": [
    {
     "name": "stdout",
     "output_type": "stream",
     "text": [
      "Loss in epoch 0 = 16.210825\n",
      "Loss in epoch 10 = 0.018367\n",
      "Loss in epoch 20 = 0.005205\n",
      "Loss in epoch 30 = 0.002201\n",
      "Loss in epoch 40 = 0.001476\n",
      "Loss in epoch 50 = 0.000887\n",
      "Loss in epoch 60 = 0.000513\n",
      "Loss in epoch 70 = 0.000433\n",
      "Loss in epoch 80 = 0.000277\n",
      "Loss in epoch 90 = 0.000228\n",
      "Loss in epoch 100 = 0.000140\n",
      "Loss in epoch 110 = 0.000128\n",
      "Loss in epoch 120 = 0.000096\n",
      "Loss in epoch 130 = 0.000076\n",
      "Loss in epoch 140 = 0.000060\n",
      "Loss in epoch 0 = 17.219116\n",
      "Loss in epoch 10 = 0.018071\n",
      "Loss in epoch 20 = 0.005925\n",
      "Loss in epoch 30 = 0.002656\n",
      "Loss in epoch 40 = 0.001549\n",
      "Loss in epoch 50 = 0.000966\n",
      "Loss in epoch 60 = 0.000632\n",
      "Loss in epoch 70 = 0.000404\n",
      "Loss in epoch 80 = 0.000340\n",
      "Loss in epoch 90 = 0.000252\n",
      "Loss in epoch 100 = 0.000190\n",
      "Loss in epoch 110 = 0.000137\n",
      "Loss in epoch 120 = 0.000121\n",
      "Loss in epoch 130 = 0.000085\n",
      "Loss in epoch 140 = 0.000071\n",
      "Loss in epoch 0 = 18.265821\n",
      "Loss in epoch 10 = 0.018950\n",
      "Loss in epoch 20 = 0.006333\n",
      "Loss in epoch 30 = 0.002913\n",
      "Loss in epoch 40 = 0.001667\n",
      "Loss in epoch 50 = 0.001202\n",
      "Loss in epoch 60 = 0.000595\n",
      "Loss in epoch 70 = 0.000673\n",
      "Loss in epoch 80 = 0.000321\n",
      "Loss in epoch 90 = 0.000239\n",
      "Loss in epoch 100 = 0.000216\n",
      "Loss in epoch 110 = 0.000125\n",
      "Loss in epoch 120 = 0.000116\n",
      "Loss in epoch 130 = 0.000082\n",
      "Loss in epoch 140 = 0.000067\n",
      "Loss in epoch 0 = 16.379160\n",
      "Loss in epoch 10 = 0.022757\n",
      "Loss in epoch 20 = 0.006203\n",
      "Loss in epoch 30 = 0.003051\n",
      "Loss in epoch 40 = 0.001729\n",
      "Loss in epoch 50 = 0.000885\n",
      "Loss in epoch 60 = 0.000590\n",
      "Loss in epoch 70 = 0.000570\n",
      "Loss in epoch 80 = 0.000328\n",
      "Loss in epoch 90 = 0.000256\n",
      "Loss in epoch 100 = 0.000184\n",
      "Loss in epoch 110 = 0.000173\n",
      "Loss in epoch 120 = 0.000115\n",
      "Loss in epoch 130 = 0.000094\n",
      "Loss in epoch 140 = 0.000074\n",
      "Loss in epoch 0 = 16.519308\n",
      "Loss in epoch 10 = 0.019908\n",
      "Loss in epoch 20 = 0.007118\n",
      "Loss in epoch 30 = 0.002662\n",
      "Loss in epoch 40 = 0.001469\n",
      "Loss in epoch 50 = 0.000897\n",
      "Loss in epoch 60 = 0.000572\n",
      "Loss in epoch 70 = 0.000457\n",
      "Loss in epoch 80 = 0.000282\n",
      "Loss in epoch 90 = 0.000322\n",
      "Loss in epoch 100 = 0.000189\n",
      "Loss in epoch 110 = 0.000155\n",
      "Loss in epoch 120 = 0.000094\n",
      "Loss in epoch 130 = 0.000084\n",
      "Loss in epoch 140 = 0.000072\n",
      "[0.8612716794013977, 0.8598265647888184, 0.8627167344093323, 0.8612716794013977, 0.8627167344093323]\n"
     ]
    },
    {
     "name": "stderr",
     "output_type": "stream",
     "text": [
      "/home/users/lewinsda/scSHARP/utilities.py:185: UserWarning: To copy construct from a tensor, it is recommended to use sourceTensor.clone().detach() or sourceTensor.clone().detach().requires_grad_(True), rather than torch.tensor(sourceTensor).\n",
      "  return float((torch.tensor(preds) == torch.tensor(real)).type(torch.FloatTensor).mean().numpy())\n"
     ]
    },
    {
     "data": {
      "text/html": [
       "<div>\n",
       "<style scoped>\n",
       "    .dataframe tbody tr th:only-of-type {\n",
       "        vertical-align: middle;\n",
       "    }\n",
       "\n",
       "    .dataframe tbody tr th {\n",
       "        vertical-align: top;\n",
       "    }\n",
       "\n",
       "    .dataframe thead th {\n",
       "        text-align: right;\n",
       "    }\n",
       "</style>\n",
       "<table border=\"1\" class=\"dataframe\">\n",
       "  <thead>\n",
       "    <tr style=\"text-align: right;\">\n",
       "      <th></th>\n",
       "      <th>data_name</th>\n",
       "      <th>method</th>\n",
       "      <th>total_accuracy</th>\n",
       "      <th>train_accuracy</th>\n",
       "      <th>test_accuracy</th>\n",
       "      <th>total_sd</th>\n",
       "      <th>train_sd</th>\n",
       "      <th>test_sd</th>\n",
       "    </tr>\n",
       "  </thead>\n",
       "  <tbody>\n",
       "    <tr>\n",
       "      <th>0</th>\n",
       "      <td>jung</td>\n",
       "      <td>GCN</td>\n",
       "      <td>0.861561</td>\n",
       "      <td>0.865325</td>\n",
       "      <td>0.808696</td>\n",
       "      <td>0.001209</td>\n",
       "      <td>0.000000</td>\n",
       "      <td>0.018188</td>\n",
       "    </tr>\n",
       "    <tr>\n",
       "      <th>1</th>\n",
       "      <td>jung</td>\n",
       "      <td>Max Col.</td>\n",
       "      <td>0.807803</td>\n",
       "      <td>0.865325</td>\n",
       "      <td>0.000000</td>\n",
       "      <td>0.000000</td>\n",
       "      <td>0.000000</td>\n",
       "      <td>0.000000</td>\n",
       "    </tr>\n",
       "    <tr>\n",
       "      <th>2</th>\n",
       "      <td>jung</td>\n",
       "      <td>Confident Labels</td>\n",
       "      <td>NaN</td>\n",
       "      <td>0.865325</td>\n",
       "      <td>NaN</td>\n",
       "      <td>0.000000</td>\n",
       "      <td>0.000000</td>\n",
       "      <td>0.000000</td>\n",
       "    </tr>\n",
       "    <tr>\n",
       "      <th>3</th>\n",
       "      <td>jung</td>\n",
       "      <td>sctype</td>\n",
       "      <td>0.848266</td>\n",
       "      <td>0.863777</td>\n",
       "      <td>0.630435</td>\n",
       "      <td>0.000000</td>\n",
       "      <td>0.000000</td>\n",
       "      <td>0.000000</td>\n",
       "    </tr>\n",
       "    <tr>\n",
       "      <th>4</th>\n",
       "      <td>jung</td>\n",
       "      <td>scsorter</td>\n",
       "      <td>0.774566</td>\n",
       "      <td>0.828173</td>\n",
       "      <td>0.021739</td>\n",
       "      <td>0.000000</td>\n",
       "      <td>0.000000</td>\n",
       "      <td>0.000000</td>\n",
       "    </tr>\n",
       "    <tr>\n",
       "      <th>5</th>\n",
       "      <td>jung</td>\n",
       "      <td>scina</td>\n",
       "      <td>0.539017</td>\n",
       "      <td>0.577399</td>\n",
       "      <td>0.000000</td>\n",
       "      <td>0.000000</td>\n",
       "      <td>0.000000</td>\n",
       "      <td>0.000000</td>\n",
       "    </tr>\n",
       "    <tr>\n",
       "      <th>6</th>\n",
       "      <td>jung</td>\n",
       "      <td>Tool Avg.</td>\n",
       "      <td>0.720617</td>\n",
       "      <td>0.756450</td>\n",
       "      <td>0.217391</td>\n",
       "      <td>0.161529</td>\n",
       "      <td>0.156081</td>\n",
       "      <td>0.357871</td>\n",
       "    </tr>\n",
       "  </tbody>\n",
       "</table>\n",
       "</div>"
      ],
      "text/plain": [
       "  data_name            method  total_accuracy  train_accuracy  test_accuracy  \\\n",
       "0      jung               GCN        0.861561        0.865325       0.808696   \n",
       "1      jung          Max Col.        0.807803        0.865325       0.000000   \n",
       "2      jung  Confident Labels             NaN        0.865325            NaN   \n",
       "3      jung            sctype        0.848266        0.863777       0.630435   \n",
       "4      jung          scsorter        0.774566        0.828173       0.021739   \n",
       "5      jung             scina        0.539017        0.577399       0.000000   \n",
       "6      jung         Tool Avg.        0.720617        0.756450       0.217391   \n",
       "\n",
       "   total_sd  train_sd   test_sd  \n",
       "0  0.001209  0.000000  0.018188  \n",
       "1  0.000000  0.000000  0.000000  \n",
       "2  0.000000  0.000000  0.000000  \n",
       "3  0.000000  0.000000  0.000000  \n",
       "4  0.000000  0.000000  0.000000  \n",
       "5  0.000000  0.000000  0.000000  \n",
       "6  0.161529  0.156081  0.357871  "
      ]
     },
     "execution_count": 3,
     "metadata": {},
     "output_type": "execute_result"
    }
   ],
   "source": [
    "results = test_model(data_folders, tools, votes_necessary, model_file, neighbors, batch_size, training_epochs, random_inits, counts=counts, meta=meta, meta_col=meta_col)\n",
    "results"
   ]
  },
  {
   "cell_type": "code",
   "execution_count": 7,
   "id": "14293e85",
   "metadata": {},
   "outputs": [
    {
     "data": {
      "text/plain": [
       "(0.0, 1.0)"
      ]
     },
     "execution_count": 7,
     "metadata": {},
     "output_type": "execute_result"
    },
    {
     "data": {
      "image/png": "[encoded data removed]",
      "text/plain": [
       "<Figure size 1080x504 with 2 Axes>"
      ]
     },
     "metadata": {
      "needs_background": "light"
     },
     "output_type": "display_data"
    }
   ],
   "source": [
    "to_plot = results.loc[results['method']!=\"Confident Labels\",:]\n",
    "fig, ax = plt.subplots(1,2,figsize=(15, 7))\n",
    "ax[0].bar(to_plot['method'],  to_plot['test_accuracy'], yerr= to_plot['test_sd'], align='center')\n",
    "ax[0].set_xlabel(\"Tool\")\n",
    "ax[0].set_ylabel(\"Accuracy on Unconfident Nodes\")\n",
    "ax[0].set_title(\"Test Accuracy by Method\")\n",
    "ax[1].bar(to_plot['method'],  to_plot['total_accuracy'], yerr= to_plot['total_sd'], align='center')\n",
    "ax[1].set_xlabel(\"Tool\")\n",
    "ax[1].set_ylabel(\"Accuracy on All Nodes\")\n",
    "ax[1].set_title(\"Total Accuracy by Method\")\n",
    "ax[0].set_ylim([0, 1])\n",
    "ax[1].set_ylim([0, 1])"
   ]
  },
  {
   "cell_type": "code",
   "execution_count": 3,
   "id": "bf302f66",
   "metadata": {},
   "outputs": [
    {
     "data": {
      "text/plain": [
       "Index(['spc', 'spd', 'spg'], dtype='object')"
      ]
     },
     "execution_count": 3,
     "metadata": {},
     "output_type": "execute_result"
    }
   ],
   "source": [
    "real_labels = pd.read_csv(\"/home/groups/ConradLab/daniel/sharp_data/jung/labels.csv\", index_col=0).iloc[:,0]\n",
    "real_labels,keys = pd.factorize(real_labels, sort=True)\n",
    "keys"
   ]
  },
  {
   "cell_type": "code",
   "execution_count": 16,
   "id": "8c4012c9",
   "metadata": {},
   "outputs": [
    {
     "data": {
      "text/plain": [
       "244"
      ]
     },
     "execution_count": 16,
     "metadata": {},
     "output_type": "execute_result"
    }
   ],
   "source": [
    "len(real_labels[keep_cells][real_labels[keep_cells]==0])"
   ]
  },
  {
   "cell_type": "code",
   "execution_count": null,
   "id": "d8e1e1f6",
   "metadata": {},
   "outputs": [],
   "source": []
  },
  {
   "cell_type": "code",
   "execution_count": 10,
   "id": "4c1f643c",
   "metadata": {},
   "outputs": [
    {
     "data": {
      "text/plain": [
       "1192"
      ]
     },
     "execution_count": 10,
     "metadata": {},
     "output_type": "execute_result"
    }
   ],
   "source": [
    "len(real_labels)"
   ]
  },
  {
   "cell_type": "code",
   "execution_count": 5,
   "id": "863edc46",
   "metadata": {},
   "outputs": [],
   "source": [
    "data_path = \"/home/groups/ConradLab/daniel/sharp_data/jung/counts.csv\"\n",
    "tool_preds = \"/home/groups/ConradLab/daniel/sharp_data/jung/preds.csv\"\n",
    "tool_list = [\"scina\", \"scsorter\", \"sctype\"]\n",
    "marker_path = \"/home/groups/ConradLab/daniel/sharp_data/jung/markers.txt\"\n",
    "neighbors=2\n",
    "config=\"configs/2_25.txt\"\n",
    "sharp = scSHARP(data_path, tool_preds, tool_list, marker_path, neighbors, config)"
   ]
  },
  {
   "cell_type": "code",
   "execution_count": 6,
   "id": "b9969967",
   "metadata": {},
   "outputs": [
    {
     "name": "stdout",
     "output_type": "stream",
     "text": [
      "Loss in epoch 0 = 16.796789\n",
      "Loss in epoch 10 = 0.020264\n",
      "Loss in epoch 20 = 0.005037\n",
      "Loss in epoch 30 = 0.002458\n",
      "Loss in epoch 40 = 0.001600\n",
      "Loss in epoch 50 = 0.000825\n",
      "Loss in epoch 60 = 0.000617\n",
      "Loss in epoch 70 = 0.000485\n",
      "Loss in epoch 80 = 0.000300\n",
      "Loss in epoch 90 = 0.000252\n",
      "Loss in epoch 100 = 0.000175\n",
      "Loss in epoch 110 = 0.000128\n",
      "Loss in epoch 120 = 0.000157\n",
      "Loss in epoch 130 = 0.000080\n",
      "Loss in epoch 140 = 0.000076\n"
     ]
    }
   ],
   "source": [
    "preds, train_nodes, test_nodes, keep_cells = sharp.run_prediction(training_epochs=150, thresh=0.51, batch_size=20, seed=8)"
   ]
  },
  {
   "cell_type": "code",
   "execution_count": 7,
   "id": "1f0c67f0",
   "metadata": {},
   "outputs": [
    {
     "data": {
      "text/plain": [
       "(0.8627167344093323,\n",
       " array([[160,  80,   4],\n",
       "        [ 10, 146,   0],\n",
       "        [  1,   0, 291]]),\n",
       " 0.8653250932693481,\n",
       " array([[136,  74,   2],\n",
       "        [ 10, 142,   0],\n",
       "        [  1,   0, 281]]),\n",
       " 0.8260869383811951,\n",
       " array([[24,  6,  2],\n",
       "        [ 0,  4,  0],\n",
       "        [ 0,  0, 10]]))"
      ]
     },
     "execution_count": 7,
     "metadata": {},
     "output_type": "execute_result"
    }
   ],
   "source": [
    "results = utilities.validation_metrics(torch.tensor(real_labels[keep_cells]), preds.cpu(), train_nodes, test_nodes)\n",
    "results"
   ]
  },
  {
   "cell_type": "code",
   "execution_count": 17,
   "id": "a1610964",
   "metadata": {},
   "outputs": [
    {
     "data": {
      "image/png": "[encoded data removed]",
      "text/plain": [
       "<Figure size 432x288 with 2 Axes>"
      ]
     },
     "metadata": {
      "needs_background": "light"
     },
     "output_type": "display_data"
    }
   ],
   "source": [
    "d = ConfusionMatrixDisplay(results[1], display_labels = keys)\n",
    "d.plot()\n",
    "#plt.show()\n",
    "plt.savefig('figures/jung_all_cm.pdf')  "
   ]
  },
  {
   "cell_type": "code",
   "execution_count": 18,
   "id": "ff295fe1",
   "metadata": {},
   "outputs": [
    {
     "data": {
      "image/png": "[encoded data removed]",
      "text/plain": [
       "<Figure size 432x288 with 2 Axes>"
      ]
     },
     "metadata": {
      "needs_background": "light"
     },
     "output_type": "display_data"
    }
   ],
   "source": [
    "d = ConfusionMatrixDisplay(results[3], display_labels = keys)\n",
    "d.plot()\n",
    "#plt.show()\n",
    "plt.savefig('figures/jung_train_cm.pdf') "
   ]
  },
  {
   "cell_type": "code",
   "execution_count": 6,
   "id": "fd60e087",
   "metadata": {},
   "outputs": [
    {
     "data": {
      "image/png": "[encoded data removed]",
      "text/plain": [
       "<Figure size 432x288 with 2 Axes>"
      ]
     },
     "metadata": {
      "needs_background": "light"
     },
     "output_type": "display_data"
    }
   ],
   "source": [
    "d = ConfusionMatrixDisplay(results[5], display_labels = keys)\n",
    "d.plot()\n",
    "#plt.show()\n",
    "plt.savefig('figures/jung_test_cm.pdf') "
   ]
  },
  {
   "cell_type": "code",
   "execution_count": 15,
   "id": "0bceeb1d",
   "metadata": {},
   "outputs": [
    {
     "data": {
      "text/plain": [
       "46"
      ]
     },
     "execution_count": 15,
     "metadata": {},
     "output_type": "execute_result"
    }
   ],
   "source": [
    "len(test_nodes)"
   ]
  },
  {
   "cell_type": "code",
   "execution_count": 19,
   "id": "082d4fe3",
   "metadata": {},
   "outputs": [
    {
     "data": {
      "text/plain": [
       "24"
      ]
     },
     "execution_count": 19,
     "metadata": {},
     "output_type": "execute_result"
    }
   ],
   "source": [
    "np.count_nonzero(preds.cpu()[test_nodes] == 0)"
   ]
  },
  {
   "cell_type": "code",
   "execution_count": 3,
   "id": "bae367c6",
   "metadata": {
    "scrolled": true
   },
   "outputs": [],
   "source": [
    "_,marker_names = utilities.read_marker_file(\"/home/groups/ConradLab/daniel/sharp_data/jung/markers.txt\")\n",
    "all_labels = pd.read_csv(\"/home/groups/ConradLab/daniel/sharp_data/jung/preds.csv\", index_col=0)\n",
    "all_labels_factored = utilities.factorize_df(all_labels, marker_names)\n",
    "encoded_labels = utilities.encode_predictions(all_labels_factored)\n",
    "#encoded_labels[test_nodes,:]"
   ]
  },
  {
   "cell_type": "code",
   "execution_count": 22,
   "id": "90e41573",
   "metadata": {},
   "outputs": [],
   "source": [
    "pd.Series(preds.cpu().numpy()).to_csv(\"/home/groups/ConradLab/daniel/sharp_data/jung/sharp_preds.csv\")"
   ]
  },
  {
   "cell_type": "code",
   "execution_count": 7,
   "id": "2a0e4cfa",
   "metadata": {
    "scrolled": true
   },
   "outputs": [
    {
     "name": "stderr",
     "output_type": "stream",
     "text": [
      "/home/users/lewinsda/.conda/envs/daniel_thesis_2/lib/python3.9/site-packages/captum/_utils/gradient.py:57: UserWarning: Input Tensor 0 did not already require gradients, required_grads has been set automatically.\n",
      "  warnings.warn(\n",
      "/home/users/lewinsda/.conda/envs/daniel_thesis_2/lib/python3.9/site-packages/captum/attr/_core/deep_lift.py:336: UserWarning: Setting forward, backward hooks and attributes on non-linear\n",
      "               activations. The hooks and attributes will be removed\n",
      "            after the attribution is finished\n",
      "  warnings.warn(\n"
     ]
    },
    {
     "data": {
      "text/html": [
       "<div>\n",
       "<style scoped>\n",
       "    .dataframe tbody tr th:only-of-type {\n",
       "        vertical-align: middle;\n",
       "    }\n",
       "\n",
       "    .dataframe tbody tr th {\n",
       "        vertical-align: top;\n",
       "    }\n",
       "\n",
       "    .dataframe thead th {\n",
       "        text-align: right;\n",
       "    }\n",
       "</style>\n",
       "<table border=\"1\" class=\"dataframe\">\n",
       "  <thead>\n",
       "    <tr style=\"text-align: right;\">\n",
       "      <th></th>\n",
       "      <th>spg</th>\n",
       "      <th>spc</th>\n",
       "      <th>spd</th>\n",
       "    </tr>\n",
       "  </thead>\n",
       "  <tbody>\n",
       "    <tr>\n",
       "      <th>Ldhc</th>\n",
       "      <td>0.351632</td>\n",
       "      <td>23.709996</td>\n",
       "      <td>4.615430</td>\n",
       "    </tr>\n",
       "    <tr>\n",
       "      <th>Ubb</th>\n",
       "      <td>2.220421</td>\n",
       "      <td>21.834673</td>\n",
       "      <td>8.753378</td>\n",
       "    </tr>\n",
       "    <tr>\n",
       "      <th>Fabp9</th>\n",
       "      <td>0.258119</td>\n",
       "      <td>21.452827</td>\n",
       "      <td>3.565026</td>\n",
       "    </tr>\n",
       "    <tr>\n",
       "      <th>Pabpc1</th>\n",
       "      <td>3.990908</td>\n",
       "      <td>20.404309</td>\n",
       "      <td>9.974965</td>\n",
       "    </tr>\n",
       "  </tbody>\n",
       "</table>\n",
       "</div>"
      ],
      "text/plain": [
       "             spg        spc       spd\n",
       "Ldhc    0.351632  23.709996  4.615430\n",
       "Ubb     2.220421  21.834673  8.753378\n",
       "Fabp9   0.258119  21.452827  3.565026\n",
       "Pabpc1  3.990908  20.404309  9.974965"
      ]
     },
     "execution_count": 7,
     "metadata": {},
     "output_type": "execute_result"
    }
   ],
   "source": [
    "int_df = sharp.run_interpretation()\n",
    "\n",
    "int_df.columns = keys\n",
    "reorg_keys = [\"spg\",\"spc\",\"spd\"]\n",
    "int_df = int_df[reorg_keys]\n",
    "int_df = int_df.abs()\n",
    "scale_int_df = pd.DataFrame(preprocessing.scale(int_df, with_mean=False))\n",
    "scale_int_df.columns = int_df.columns\n",
    "scale_int_df.index = int_df.index\n",
    "scale_int_df.sort_values(\"spc\", ascending=False).head(4)"
   ]
  },
  {
   "cell_type": "code",
   "execution_count": 17,
   "id": "40cdfe1a",
   "metadata": {},
   "outputs": [],
   "source": [
    "scale_int_df.to_csv(\"jung_interpretation.csv\")"
   ]
  },
  {
   "cell_type": "code",
   "execution_count": 20,
   "id": "a8c25f7a",
   "metadata": {
    "scrolled": true
   },
   "outputs": [
    {
     "data": {
      "image/png": "[encoded data removed]",
      "text/plain": [
       "<Figure size 842.4x595.44 with 2 Axes>"
      ]
     },
     "metadata": {},
     "output_type": "display_data"
    }
   ],
   "source": [
    "markers = [\"mt-Rnr2\", \"Ncl\", \"Hsp90ab1\", \"Dazl\", \"Prrc2c\", \"Ldhc\", \"Ubb\", \"Fabp9\", \"Pabpc1\", \"Meig1\", \"Tnp1\", \"Smcp\", \"Tsga8\", \"Dbil5\", \"Gm9999\"]\n",
    "sns.set(rc={'figure.figsize':(11.7,8.27)})\n",
    "#scale_int_df = np.arcsinh(scale_int_df)\n",
    "ax = sns.heatmap(scale_int_df.loc[markers,:])\n",
    "ax.set(xlabel=\"Cell Type\")\n",
    "plt.plot()\n",
    "plt.savefig(\"figures/jung_att_heatmap.pdf\", format=\"pdf\", bbox_inches=\"tight\")\n",
    "plt.show()\n",
    "#ax.savefig(\"jung_att_heatmap.pdf\", format=\"pdf\", bbox_inches=\"tight\")\n",
    "#ax.legend()"
   ]
  },
  {
   "cell_type": "code",
   "execution_count": 16,
   "id": "ce8aff7e",
   "metadata": {},
   "outputs": [
    {
     "data": {
      "text/plain": [
       "[]"
      ]
     },
     "execution_count": 16,
     "metadata": {},
     "output_type": "execute_result"
    },
    {
     "data": {
      "image/png": "[encoded data removed]",
      "text/plain": [
       "<Figure size 842.4x595.44 with 2 Axes>"
      ]
     },
     "metadata": {},
     "output_type": "display_data"
    }
   ],
   "source": [
    "# actual markers heatmap\n",
    "markers = ['Dazl','Sycp1','Insl6','Piwil1','Pttg1','Spag6','Mllt10','Aurka','Acrv1','Spaca1','Tsga8','Tssk6']\n",
    "sns.set(rc={'figure.figsize':(11.7,8.27)})\n",
    "#scale_int_df = np.arcsinh(scale_int_df)\n",
    "ax = sns.heatmap(scale_int_df.loc[markers,:])\n",
    "ax.set(xlabel=\"Cell Type\")\n",
    "plt.plot()"
   ]
  },
  {
   "cell_type": "code",
   "execution_count": 9,
   "id": "4d902e92",
   "metadata": {},
   "outputs": [
    {
     "data": {
      "text/html": [
       "<div>\n",
       "<style scoped>\n",
       "    .dataframe tbody tr th:only-of-type {\n",
       "        vertical-align: middle;\n",
       "    }\n",
       "\n",
       "    .dataframe tbody tr th {\n",
       "        vertical-align: top;\n",
       "    }\n",
       "\n",
       "    .dataframe thead th {\n",
       "        text-align: right;\n",
       "    }\n",
       "</style>\n",
       "<table border=\"1\" class=\"dataframe\">\n",
       "  <thead>\n",
       "    <tr style=\"text-align: right;\">\n",
       "      <th></th>\n",
       "      <th>spg</th>\n",
       "      <th>spc</th>\n",
       "      <th>spd</th>\n",
       "    </tr>\n",
       "  </thead>\n",
       "  <tbody>\n",
       "    <tr>\n",
       "      <th>mt-Rnr2</th>\n",
       "      <td>28.580413</td>\n",
       "      <td>8.294124</td>\n",
       "      <td>10.026773</td>\n",
       "    </tr>\n",
       "    <tr>\n",
       "      <th>Ncl</th>\n",
       "      <td>20.230924</td>\n",
       "      <td>0.180933</td>\n",
       "      <td>0.079943</td>\n",
       "    </tr>\n",
       "    <tr>\n",
       "      <th>Hsp90ab1</th>\n",
       "      <td>19.172715</td>\n",
       "      <td>0.787720</td>\n",
       "      <td>0.718273</td>\n",
       "    </tr>\n",
       "    <tr>\n",
       "      <th>Dazl</th>\n",
       "      <td>15.695123</td>\n",
       "      <td>0.201191</td>\n",
       "      <td>0.099891</td>\n",
       "    </tr>\n",
       "    <tr>\n",
       "      <th>Prrc2c</th>\n",
       "      <td>13.319144</td>\n",
       "      <td>0.020841</td>\n",
       "      <td>0.427714</td>\n",
       "    </tr>\n",
       "    <tr>\n",
       "      <th>Tpr</th>\n",
       "      <td>12.179163</td>\n",
       "      <td>0.040313</td>\n",
       "      <td>0.364510</td>\n",
       "    </tr>\n",
       "    <tr>\n",
       "      <th>Anp32b</th>\n",
       "      <td>11.414390</td>\n",
       "      <td>0.259150</td>\n",
       "      <td>0.029915</td>\n",
       "    </tr>\n",
       "    <tr>\n",
       "      <th>mt-Nd1</th>\n",
       "      <td>11.120896</td>\n",
       "      <td>0.445073</td>\n",
       "      <td>0.742633</td>\n",
       "    </tr>\n",
       "    <tr>\n",
       "      <th>Rpl4</th>\n",
       "      <td>10.892597</td>\n",
       "      <td>0.896439</td>\n",
       "      <td>1.013455</td>\n",
       "    </tr>\n",
       "    <tr>\n",
       "      <th>Rbm39</th>\n",
       "      <td>9.742898</td>\n",
       "      <td>0.475481</td>\n",
       "      <td>0.036741</td>\n",
       "    </tr>\n",
       "  </tbody>\n",
       "</table>\n",
       "</div>"
      ],
      "text/plain": [
       "                spg       spc        spd\n",
       "mt-Rnr2   28.580413  8.294124  10.026773\n",
       "Ncl       20.230924  0.180933   0.079943\n",
       "Hsp90ab1  19.172715  0.787720   0.718273\n",
       "Dazl      15.695123  0.201191   0.099891\n",
       "Prrc2c    13.319144  0.020841   0.427714\n",
       "Tpr       12.179163  0.040313   0.364510\n",
       "Anp32b    11.414390  0.259150   0.029915\n",
       "mt-Nd1    11.120896  0.445073   0.742633\n",
       "Rpl4      10.892597  0.896439   1.013455\n",
       "Rbm39      9.742898  0.475481   0.036741"
      ]
     },
     "execution_count": 9,
     "metadata": {},
     "output_type": "execute_result"
    }
   ],
   "source": [
    "scale_int_df.sort_values(\"spg\", ascending=False).head(10)"
   ]
  },
  {
   "cell_type": "code",
   "execution_count": 12,
   "id": "b654c5b2",
   "metadata": {},
   "outputs": [
    {
     "data": {
      "text/html": [
       "<div>\n",
       "<style scoped>\n",
       "    .dataframe tbody tr th:only-of-type {\n",
       "        vertical-align: middle;\n",
       "    }\n",
       "\n",
       "    .dataframe tbody tr th {\n",
       "        vertical-align: top;\n",
       "    }\n",
       "\n",
       "    .dataframe thead th {\n",
       "        text-align: right;\n",
       "    }\n",
       "</style>\n",
       "<table border=\"1\" class=\"dataframe\">\n",
       "  <thead>\n",
       "    <tr style=\"text-align: right;\">\n",
       "      <th></th>\n",
       "      <th>spg</th>\n",
       "      <th>spc</th>\n",
       "      <th>spd</th>\n",
       "    </tr>\n",
       "  </thead>\n",
       "  <tbody>\n",
       "    <tr>\n",
       "      <th>Dazl</th>\n",
       "      <td>15.695407</td>\n",
       "      <td>0.201094</td>\n",
       "      <td>0.099881</td>\n",
       "    </tr>\n",
       "    <tr>\n",
       "      <th>Sycp1</th>\n",
       "      <td>4.868067</td>\n",
       "      <td>1.394191</td>\n",
       "      <td>0.117887</td>\n",
       "    </tr>\n",
       "  </tbody>\n",
       "</table>\n",
       "</div>"
      ],
      "text/plain": [
       "             spg       spc       spd\n",
       "Dazl   15.695407  0.201094  0.099881\n",
       "Sycp1   4.868067  1.394191  0.117887"
      ]
     },
     "execution_count": 12,
     "metadata": {},
     "output_type": "execute_result"
    }
   ],
   "source": [
    "scale_int_df.loc[['Dazl','Sycp1']]"
   ]
  },
  {
   "cell_type": "code",
   "execution_count": 11,
   "id": "40b8d687",
   "metadata": {},
   "outputs": [
    {
     "data": {
      "text/html": [
       "<div>\n",
       "<style scoped>\n",
       "    .dataframe tbody tr th:only-of-type {\n",
       "        vertical-align: middle;\n",
       "    }\n",
       "\n",
       "    .dataframe tbody tr th {\n",
       "        vertical-align: top;\n",
       "    }\n",
       "\n",
       "    .dataframe thead th {\n",
       "        text-align: right;\n",
       "    }\n",
       "</style>\n",
       "<table border=\"1\" class=\"dataframe\">\n",
       "  <thead>\n",
       "    <tr style=\"text-align: right;\">\n",
       "      <th></th>\n",
       "      <th>spg</th>\n",
       "      <th>spc</th>\n",
       "      <th>spd</th>\n",
       "    </tr>\n",
       "  </thead>\n",
       "  <tbody>\n",
       "    <tr>\n",
       "      <th>Insl6</th>\n",
       "      <td>0.015655</td>\n",
       "      <td>1.678595</td>\n",
       "      <td>0.542597</td>\n",
       "    </tr>\n",
       "    <tr>\n",
       "      <th>Piwil1</th>\n",
       "      <td>0.000611</td>\n",
       "      <td>2.746888</td>\n",
       "      <td>0.141452</td>\n",
       "    </tr>\n",
       "    <tr>\n",
       "      <th>Pttg1</th>\n",
       "      <td>0.274248</td>\n",
       "      <td>0.996705</td>\n",
       "      <td>0.130978</td>\n",
       "    </tr>\n",
       "    <tr>\n",
       "      <th>Spag6</th>\n",
       "      <td>0.005403</td>\n",
       "      <td>2.688653</td>\n",
       "      <td>0.577020</td>\n",
       "    </tr>\n",
       "    <tr>\n",
       "      <th>Mllt10</th>\n",
       "      <td>0.204443</td>\n",
       "      <td>3.554583</td>\n",
       "      <td>0.128367</td>\n",
       "    </tr>\n",
       "    <tr>\n",
       "      <th>Aurka</th>\n",
       "      <td>0.116457</td>\n",
       "      <td>0.781402</td>\n",
       "      <td>0.048107</td>\n",
       "    </tr>\n",
       "  </tbody>\n",
       "</table>\n",
       "</div>"
      ],
      "text/plain": [
       "             spg       spc       spd\n",
       "Insl6   0.015655  1.678595  0.542597\n",
       "Piwil1  0.000611  2.746888  0.141452\n",
       "Pttg1   0.274248  0.996705  0.130978\n",
       "Spag6   0.005403  2.688653  0.577020\n",
       "Mllt10  0.204443  3.554583  0.128367\n",
       "Aurka   0.116457  0.781402  0.048107"
      ]
     },
     "execution_count": 11,
     "metadata": {},
     "output_type": "execute_result"
    }
   ],
   "source": [
    "scale_int_df.loc[[\"Insl6\",\"Piwil1\",\"Pttg1\",\"Spag6\",\"Mllt10\",\"Aurka\"]]"
   ]
  },
  {
   "cell_type": "code",
   "execution_count": 13,
   "id": "1b10df26",
   "metadata": {},
   "outputs": [
    {
     "data": {
      "text/html": [
       "<div>\n",
       "<style scoped>\n",
       "    .dataframe tbody tr th:only-of-type {\n",
       "        vertical-align: middle;\n",
       "    }\n",
       "\n",
       "    .dataframe tbody tr th {\n",
       "        vertical-align: top;\n",
       "    }\n",
       "\n",
       "    .dataframe thead th {\n",
       "        text-align: right;\n",
       "    }\n",
       "</style>\n",
       "<table border=\"1\" class=\"dataframe\">\n",
       "  <thead>\n",
       "    <tr style=\"text-align: right;\">\n",
       "      <th></th>\n",
       "      <th>spg</th>\n",
       "      <th>spc</th>\n",
       "      <th>spd</th>\n",
       "    </tr>\n",
       "  </thead>\n",
       "  <tbody>\n",
       "    <tr>\n",
       "      <th>Ldhc</th>\n",
       "      <td>0.351632</td>\n",
       "      <td>23.709996</td>\n",
       "      <td>4.615430</td>\n",
       "    </tr>\n",
       "    <tr>\n",
       "      <th>Ubb</th>\n",
       "      <td>2.220421</td>\n",
       "      <td>21.834673</td>\n",
       "      <td>8.753378</td>\n",
       "    </tr>\n",
       "    <tr>\n",
       "      <th>Fabp9</th>\n",
       "      <td>0.258119</td>\n",
       "      <td>21.452827</td>\n",
       "      <td>3.565026</td>\n",
       "    </tr>\n",
       "    <tr>\n",
       "      <th>Pabpc1</th>\n",
       "      <td>3.990908</td>\n",
       "      <td>20.404309</td>\n",
       "      <td>9.974965</td>\n",
       "    </tr>\n",
       "    <tr>\n",
       "      <th>Meig1</th>\n",
       "      <td>0.115687</td>\n",
       "      <td>17.847964</td>\n",
       "      <td>7.053704</td>\n",
       "    </tr>\n",
       "    <tr>\n",
       "      <th>Calm2</th>\n",
       "      <td>4.790556</td>\n",
       "      <td>17.533388</td>\n",
       "      <td>1.278982</td>\n",
       "    </tr>\n",
       "    <tr>\n",
       "      <th>Morf4l1</th>\n",
       "      <td>0.410265</td>\n",
       "      <td>17.439189</td>\n",
       "      <td>5.575141</td>\n",
       "    </tr>\n",
       "    <tr>\n",
       "      <th>Calm1</th>\n",
       "      <td>0.819953</td>\n",
       "      <td>16.447940</td>\n",
       "      <td>3.897635</td>\n",
       "    </tr>\n",
       "    <tr>\n",
       "      <th>Tuba3b</th>\n",
       "      <td>1.945053</td>\n",
       "      <td>13.729678</td>\n",
       "      <td>3.524022</td>\n",
       "    </tr>\n",
       "    <tr>\n",
       "      <th>Rsph1</th>\n",
       "      <td>0.091812</td>\n",
       "      <td>13.402599</td>\n",
       "      <td>1.445491</td>\n",
       "    </tr>\n",
       "  </tbody>\n",
       "</table>\n",
       "</div>"
      ],
      "text/plain": [
       "              spg        spc       spd\n",
       "Ldhc     0.351632  23.709996  4.615430\n",
       "Ubb      2.220421  21.834673  8.753378\n",
       "Fabp9    0.258119  21.452827  3.565026\n",
       "Pabpc1   3.990908  20.404309  9.974965\n",
       "Meig1    0.115687  17.847964  7.053704\n",
       "Calm2    4.790556  17.533388  1.278982\n",
       "Morf4l1  0.410265  17.439189  5.575141\n",
       "Calm1    0.819953  16.447940  3.897635\n",
       "Tuba3b   1.945053  13.729678  3.524022\n",
       "Rsph1    0.091812  13.402599  1.445491"
      ]
     },
     "execution_count": 13,
     "metadata": {},
     "output_type": "execute_result"
    }
   ],
   "source": [
    "scale_int_df.sort_values(\"spc\", ascending=False).head(10)"
   ]
  },
  {
   "cell_type": "code",
   "execution_count": 14,
   "id": "7073b266",
   "metadata": {},
   "outputs": [
    {
     "data": {
      "text/html": [
       "<div>\n",
       "<style scoped>\n",
       "    .dataframe tbody tr th:only-of-type {\n",
       "        vertical-align: middle;\n",
       "    }\n",
       "\n",
       "    .dataframe tbody tr th {\n",
       "        vertical-align: top;\n",
       "    }\n",
       "\n",
       "    .dataframe thead th {\n",
       "        text-align: right;\n",
       "    }\n",
       "</style>\n",
       "<table border=\"1\" class=\"dataframe\">\n",
       "  <thead>\n",
       "    <tr style=\"text-align: right;\">\n",
       "      <th></th>\n",
       "      <th>spg</th>\n",
       "      <th>spc</th>\n",
       "      <th>spd</th>\n",
       "    </tr>\n",
       "  </thead>\n",
       "  <tbody>\n",
       "    <tr>\n",
       "      <th>Acrv1</th>\n",
       "      <td>0.050636</td>\n",
       "      <td>2.494148</td>\n",
       "      <td>11.502768</td>\n",
       "    </tr>\n",
       "    <tr>\n",
       "      <th>Spaca1</th>\n",
       "      <td>0.030794</td>\n",
       "      <td>0.821353</td>\n",
       "      <td>5.755235</td>\n",
       "    </tr>\n",
       "    <tr>\n",
       "      <th>Tsga8</th>\n",
       "      <td>0.035110</td>\n",
       "      <td>1.372576</td>\n",
       "      <td>14.576832</td>\n",
       "    </tr>\n",
       "    <tr>\n",
       "      <th>Tssk6</th>\n",
       "      <td>0.012663</td>\n",
       "      <td>0.173216</td>\n",
       "      <td>5.080324</td>\n",
       "    </tr>\n",
       "  </tbody>\n",
       "</table>\n",
       "</div>"
      ],
      "text/plain": [
       "             spg       spc        spd\n",
       "Acrv1   0.050636  2.494148  11.502768\n",
       "Spaca1  0.030794  0.821353   5.755235\n",
       "Tsga8   0.035110  1.372576  14.576832\n",
       "Tssk6   0.012663  0.173216   5.080324"
      ]
     },
     "execution_count": 14,
     "metadata": {},
     "output_type": "execute_result"
    }
   ],
   "source": [
    "scale_int_df.loc[['Acrv1','Spaca1','Tsga8','Tssk6']]"
   ]
  },
  {
   "cell_type": "code",
   "execution_count": 11,
   "id": "08f694af",
   "metadata": {},
   "outputs": [
    {
     "data": {
      "text/html": [
       "<div>\n",
       "<style scoped>\n",
       "    .dataframe tbody tr th:only-of-type {\n",
       "        vertical-align: middle;\n",
       "    }\n",
       "\n",
       "    .dataframe tbody tr th {\n",
       "        vertical-align: top;\n",
       "    }\n",
       "\n",
       "    .dataframe thead th {\n",
       "        text-align: right;\n",
       "    }\n",
       "</style>\n",
       "<table border=\"1\" class=\"dataframe\">\n",
       "  <thead>\n",
       "    <tr style=\"text-align: right;\">\n",
       "      <th></th>\n",
       "      <th>spg</th>\n",
       "      <th>spc</th>\n",
       "      <th>spd</th>\n",
       "    </tr>\n",
       "  </thead>\n",
       "  <tbody>\n",
       "    <tr>\n",
       "      <th>Tnp1</th>\n",
       "      <td>0.143538</td>\n",
       "      <td>8.201915</td>\n",
       "      <td>42.319243</td>\n",
       "    </tr>\n",
       "    <tr>\n",
       "      <th>Smcp</th>\n",
       "      <td>0.106150</td>\n",
       "      <td>5.974517</td>\n",
       "      <td>26.739145</td>\n",
       "    </tr>\n",
       "    <tr>\n",
       "      <th>Tsga8</th>\n",
       "      <td>0.035110</td>\n",
       "      <td>1.372575</td>\n",
       "      <td>14.576832</td>\n",
       "    </tr>\n",
       "    <tr>\n",
       "      <th>Dbil5</th>\n",
       "      <td>0.103935</td>\n",
       "      <td>2.976323</td>\n",
       "      <td>13.439148</td>\n",
       "    </tr>\n",
       "    <tr>\n",
       "      <th>Gm9999</th>\n",
       "      <td>0.014623</td>\n",
       "      <td>1.698540</td>\n",
       "      <td>13.283367</td>\n",
       "    </tr>\n",
       "    <tr>\n",
       "      <th>Acrv1</th>\n",
       "      <td>0.050636</td>\n",
       "      <td>2.494147</td>\n",
       "      <td>11.502766</td>\n",
       "    </tr>\n",
       "    <tr>\n",
       "      <th>Odf2</th>\n",
       "      <td>0.893012</td>\n",
       "      <td>3.513132</td>\n",
       "      <td>11.031875</td>\n",
       "    </tr>\n",
       "    <tr>\n",
       "      <th>D830044I16Rik</th>\n",
       "      <td>0.034944</td>\n",
       "      <td>1.233684</td>\n",
       "      <td>10.556932</td>\n",
       "    </tr>\n",
       "    <tr>\n",
       "      <th>Ccdc136</th>\n",
       "      <td>1.536566</td>\n",
       "      <td>4.922919</td>\n",
       "      <td>10.513521</td>\n",
       "    </tr>\n",
       "    <tr>\n",
       "      <th>mt-Rnr2</th>\n",
       "      <td>28.581993</td>\n",
       "      <td>8.285814</td>\n",
       "      <td>10.019044</td>\n",
       "    </tr>\n",
       "  </tbody>\n",
       "</table>\n",
       "</div>"
      ],
      "text/plain": [
       "                     spg       spc        spd\n",
       "Tnp1            0.143538  8.201915  42.319243\n",
       "Smcp            0.106150  5.974517  26.739145\n",
       "Tsga8           0.035110  1.372575  14.576832\n",
       "Dbil5           0.103935  2.976323  13.439148\n",
       "Gm9999          0.014623  1.698540  13.283367\n",
       "Acrv1           0.050636  2.494147  11.502766\n",
       "Odf2            0.893012  3.513132  11.031875\n",
       "D830044I16Rik   0.034944  1.233684  10.556932\n",
       "Ccdc136         1.536566  4.922919  10.513521\n",
       "mt-Rnr2        28.581993  8.285814  10.019044"
      ]
     },
     "execution_count": 11,
     "metadata": {},
     "output_type": "execute_result"
    }
   ],
   "source": [
    "scale_int_df.sort_values(\"spd\", ascending=False).head(10)"
   ]
  },
  {
   "cell_type": "code",
   "execution_count": 15,
   "id": "8fb8b18e",
   "metadata": {},
   "outputs": [
    {
     "data": {
      "text/html": [
       "<div>\n",
       "<style scoped>\n",
       "    .dataframe tbody tr th:only-of-type {\n",
       "        vertical-align: middle;\n",
       "    }\n",
       "\n",
       "    .dataframe tbody tr th {\n",
       "        vertical-align: top;\n",
       "    }\n",
       "\n",
       "    .dataframe thead th {\n",
       "        text-align: right;\n",
       "    }\n",
       "</style>\n",
       "<table border=\"1\" class=\"dataframe\">\n",
       "  <thead>\n",
       "    <tr style=\"text-align: right;\">\n",
       "      <th></th>\n",
       "      <th>spg</th>\n",
       "      <th>spc</th>\n",
       "      <th>spd</th>\n",
       "    </tr>\n",
       "  </thead>\n",
       "  <tbody>\n",
       "    <tr>\n",
       "      <th>Mllt10</th>\n",
       "      <td>0.204443</td>\n",
       "      <td>3.554583</td>\n",
       "      <td>0.128367</td>\n",
       "    </tr>\n",
       "    <tr>\n",
       "      <th>Sycp1</th>\n",
       "      <td>4.868067</td>\n",
       "      <td>1.394191</td>\n",
       "      <td>0.117887</td>\n",
       "    </tr>\n",
       "    <tr>\n",
       "      <th>Spaca1</th>\n",
       "      <td>0.030794</td>\n",
       "      <td>0.821353</td>\n",
       "      <td>5.755235</td>\n",
       "    </tr>\n",
       "  </tbody>\n",
       "</table>\n",
       "</div>"
      ],
      "text/plain": [
       "             spg       spc       spd\n",
       "Mllt10  0.204443  3.554583  0.128367\n",
       "Sycp1   4.868067  1.394191  0.117887\n",
       "Spaca1  0.030794  0.821353  5.755235"
      ]
     },
     "execution_count": 15,
     "metadata": {},
     "output_type": "execute_result"
    }
   ],
   "source": [
    "scale_int_df.loc[[\"Mllt10\", \"Sycp1\", \"Spaca1\"]]"
   ]
  },
  {
   "cell_type": "code",
   "execution_count": 28,
   "id": "18481788",
   "metadata": {},
   "outputs": [
    {
     "data": {
      "text/plain": [
       "[Text(0.5, 15.0, 'Cell Type')]"
      ]
     },
     "execution_count": 28,
     "metadata": {},
     "output_type": "execute_result"
    },
    {
     "data": {
      "image/png": "[encoded data removed]",
      "text/plain": [
       "<Figure size 432x288 with 2 Axes>"
      ]
     },
     "metadata": {
      "needs_background": "light"
     },
     "output_type": "display_data"
    }
   ],
   "source": [
    "#int_df = sharp.run_interpretation()\n",
    "\n",
    "#int_df.columns = keys\n",
    "#reorg_keys = [\"spg\",\"spc\",\"spd\"]\n",
    "#int_df = int_df[reorg_keys]\n",
    "#int_df = int_df.abs()\n",
    "keep_genes = int_df.sort_values(\"spg\", ascending=False).head(4).index.tolist()\n",
    "keep_genes += int_df.sort_values(\"spc\", ascending=False).head(4).index.tolist()\n",
    "keep_genes += int_df.sort_values(\"spd\", ascending=False).head(4).index.tolist()\n",
    "ax = sns.heatmap(int_df.loc[keep_genes,:])\n",
    "ax.set(xlabel=\"Cell Type\")"
   ]
  },
  {
   "cell_type": "code",
   "execution_count": 24,
   "id": "fd70bbc4",
   "metadata": {},
   "outputs": [
    {
     "data": {
      "image/png": "[encoded data removed]",
      "text/plain": [
       "<Figure size 842.4x595.44 with 2 Axes>"
      ]
     },
     "metadata": {},
     "output_type": "display_data"
    }
   ],
   "source": [
    "expr = pd.read_csv(\"figures/testis_expr.csv\", index_col=0)\n",
    "expr = np.arcsinh(expr)\n",
    "sns.set(rc={'figure.figsize':(11.7,8.27)})\n",
    "ax = sns.heatmap(expr)\n",
    "ax.set(xlabel=\"Cell Type\")\n",
    "plt.plot()\n",
    "plt.savefig(\"figures/jung_expr_heatmap.pdf\", format=\"pdf\", bbox_inches=\"tight\")\n",
    "plt.show()"
   ]
  },
  {
   "cell_type": "code",
   "execution_count": 16,
   "id": "5de88db1",
   "metadata": {},
   "outputs": [
    {
     "data": {
      "text/plain": [
       "spg    0.001166\n",
       "spc    0.008381\n",
       "spd    0.000387\n",
       "Name: Aurka, dtype: float64"
      ]
     },
     "execution_count": 16,
     "metadata": {},
     "output_type": "execute_result"
    }
   ],
   "source": [
    "int_df.loc[\"Aurka\"]"
   ]
  },
  {
   "cell_type": "code",
   "execution_count": 17,
   "id": "8e44f0fa",
   "metadata": {},
   "outputs": [
    {
     "data": {
      "text/html": [
       "<div>\n",
       "<style scoped>\n",
       "    .dataframe tbody tr th:only-of-type {\n",
       "        vertical-align: middle;\n",
       "    }\n",
       "\n",
       "    .dataframe tbody tr th {\n",
       "        vertical-align: top;\n",
       "    }\n",
       "\n",
       "    .dataframe thead th {\n",
       "        text-align: right;\n",
       "    }\n",
       "</style>\n",
       "<table border=\"1\" class=\"dataframe\">\n",
       "  <thead>\n",
       "    <tr style=\"text-align: right;\">\n",
       "      <th></th>\n",
       "      <th>spg</th>\n",
       "      <th>spc</th>\n",
       "      <th>spd</th>\n",
       "    </tr>\n",
       "  </thead>\n",
       "  <tbody>\n",
       "    <tr>\n",
       "      <th>Ldhc</th>\n",
       "      <td>0.001254</td>\n",
       "      <td>0.359617</td>\n",
       "      <td>0.038904</td>\n",
       "    </tr>\n",
       "    <tr>\n",
       "      <th>Ubb</th>\n",
       "      <td>0.015172</td>\n",
       "      <td>0.325207</td>\n",
       "      <td>0.083532</td>\n",
       "    </tr>\n",
       "    <tr>\n",
       "      <th>Fabp9</th>\n",
       "      <td>0.001195</td>\n",
       "      <td>0.307363</td>\n",
       "      <td>0.020371</td>\n",
       "    </tr>\n",
       "    <tr>\n",
       "      <th>Pabpc1</th>\n",
       "      <td>0.022872</td>\n",
       "      <td>0.282038</td>\n",
       "      <td>0.075385</td>\n",
       "    </tr>\n",
       "    <tr>\n",
       "      <th>Meig1</th>\n",
       "      <td>0.001429</td>\n",
       "      <td>0.248299</td>\n",
       "      <td>0.018715</td>\n",
       "    </tr>\n",
       "    <tr>\n",
       "      <th>Calm2</th>\n",
       "      <td>0.024387</td>\n",
       "      <td>0.242530</td>\n",
       "      <td>0.010826</td>\n",
       "    </tr>\n",
       "    <tr>\n",
       "      <th>Calm1</th>\n",
       "      <td>0.003014</td>\n",
       "      <td>0.218585</td>\n",
       "      <td>0.036050</td>\n",
       "    </tr>\n",
       "    <tr>\n",
       "      <th>Tuba3b</th>\n",
       "      <td>0.009845</td>\n",
       "      <td>0.203808</td>\n",
       "      <td>0.038230</td>\n",
       "    </tr>\n",
       "    <tr>\n",
       "      <th>Lyar</th>\n",
       "      <td>0.005533</td>\n",
       "      <td>0.201818</td>\n",
       "      <td>0.049424</td>\n",
       "    </tr>\n",
       "    <tr>\n",
       "      <th>Morf4l1</th>\n",
       "      <td>0.004483</td>\n",
       "      <td>0.194731</td>\n",
       "      <td>0.038400</td>\n",
       "    </tr>\n",
       "  </tbody>\n",
       "</table>\n",
       "</div>"
      ],
      "text/plain": [
       "              spg       spc       spd\n",
       "Ldhc     0.001254  0.359617  0.038904\n",
       "Ubb      0.015172  0.325207  0.083532\n",
       "Fabp9    0.001195  0.307363  0.020371\n",
       "Pabpc1   0.022872  0.282038  0.075385\n",
       "Meig1    0.001429  0.248299  0.018715\n",
       "Calm2    0.024387  0.242530  0.010826\n",
       "Calm1    0.003014  0.218585  0.036050\n",
       "Tuba3b   0.009845  0.203808  0.038230\n",
       "Lyar     0.005533  0.201818  0.049424\n",
       "Morf4l1  0.004483  0.194731  0.038400"
      ]
     },
     "execution_count": 17,
     "metadata": {},
     "output_type": "execute_result"
    }
   ],
   "source": [
    "#spc,Insl6,Piwil1,Pttg1,Spag6,Mllt10,Aurka\n",
    "keep_genes = int_df.sort_values(\"spc\", ascending=False).head(10).index.tolist()\n",
    "#keep_genes = int_df.sort_values(\"spd\", ascending=False).head(10).index.tolist()\n",
    "#keep_genes = int_df.sort_values(\"spg\", ascending=False).head(10).index.tolist()\n",
    "int_df.loc[keep_genes,:]"
   ]
  },
  {
   "cell_type": "code",
   "execution_count": 23,
   "id": "dcb425b7",
   "metadata": {},
   "outputs": [],
   "source": [
    "umap_embedding = pd.read_csv(\"/home/groups/ConradLab/daniel/sharp_data/jung/umap_embedding.csv\", index_col=0)\n",
    "umap_embedding['real labels'] = pd.read_csv(\"/home/groups/ConradLab/daniel/sharp_data/jung/labels.csv\", index_col=0).iloc[:,0]\n",
    "\n",
    "umap_embedding['confident labels'] = sharp.confident_labels\n",
    "map_dict = {-1:\"unknown\", 0:\"spc\", 1:\"spd\", 2:\"spg\"}\n",
    "umap_embedding['confident labels'] = umap_embedding[\"confident labels\"].map(map_dict)"
   ]
  },
  {
   "cell_type": "code",
   "execution_count": 24,
   "id": "ecd59dd0",
   "metadata": {},
   "outputs": [
    {
     "data": {
      "text/plain": [
       "<AxesSubplot:xlabel='UMAP_1', ylabel='UMAP_2'>"
      ]
     },
     "execution_count": 24,
     "metadata": {},
     "output_type": "execute_result"
    },
    {
     "data": {
      "image/png": "[encoded data removed]",
      "text/plain": [
       "<Figure size 432x288 with 1 Axes>"
      ]
     },
     "metadata": {
      "needs_background": "light"
     },
     "output_type": "display_data"
    }
   ],
   "source": [
    "sns.scatterplot(data=umap_embedding, x=\"UMAP_1\", y=\"UMAP_2\", hue=\"real labels\", s=6,  palette=dict(spg='#db5f57', spd=\"#d3db57\", spc = \"#57db5f\"))"
   ]
  },
  {
   "cell_type": "code",
   "execution_count": 26,
   "id": "af2f0f36",
   "metadata": {},
   "outputs": [
    {
     "data": {
      "text/plain": [
       "<AxesSubplot:xlabel='UMAP_1', ylabel='UMAP_2'>"
      ]
     },
     "execution_count": 26,
     "metadata": {},
     "output_type": "execute_result"
    },
    {
     "data": {
      "image/png": "[encoded data removed]",
      "text/plain": [
       "<Figure size 432x288 with 1 Axes>"
      ]
     },
     "metadata": {
      "needs_background": "light"
     },
     "output_type": "display_data"
    }
   ],
   "source": [
    "sns.scatterplot(data=umap_embedding, x=\"UMAP_1\", y=\"UMAP_2\", hue=\"confident labels\", s=6,  palette=dict(spg='#db5f57', spd=\"#d3db57\", spc = \"#57db5f\", unknown='#5f57db'))"
   ]
  },
  {
   "cell_type": "code",
   "execution_count": 15,
   "id": "c65678b8",
   "metadata": {},
   "outputs": [
    {
     "name": "stdout",
     "output_type": "stream",
     "text": [
      "Index(['spc', 'spd', 'spg'], dtype='object')\n"
     ]
    }
   ],
   "source": [
    "all_labels_original = pd.read_csv(\"/home/groups/ConradLab/daniel/sharp_data/jung/preds.csv\", index_col=0)\n",
    "scina_preds_original,_ = pd.factorize(all_labels_original.scina, sort=True)\n",
    "sctype_preds_original,_ = pd.factorize(all_labels_original.sctype, sort=True)\n",
    "scsorter_preds_original,_ = pd.factorize(all_labels_original.scsorter, sort=True)\n",
    "print(_)"
   ]
  },
  {
   "cell_type": "code",
   "execution_count": 28,
   "id": "135001cf",
   "metadata": {},
   "outputs": [],
   "source": [
    "def get_class_accuracy(conf_mat, labels):\n",
    "    label_count = 0\n",
    "    for i in range(conf_mat.shape[0]):\n",
    "        if conf_mat.shape[0] > len(labels) and i ==0: continue\n",
    "        print(labels[label_count])\n",
    "        print(conf_mat[i,i] / sum(conf_mat[i,:]))\n",
    "        label_count +=1"
   ]
  },
  {
   "cell_type": "code",
   "execution_count": 25,
   "id": "ed36df14",
   "metadata": {},
   "outputs": [
    {
     "name": "stdout",
     "output_type": "stream",
     "text": [
      "0\n",
      "1\n",
      "2\n",
      "3\n"
     ]
    }
   ],
   "source": [
    "for i in range(results[1].shape[0]):\n",
    "    print(i)"
   ]
  },
  {
   "cell_type": "code",
   "execution_count": 29,
   "id": "1bdca2cc",
   "metadata": {},
   "outputs": [
    {
     "name": "stdout",
     "output_type": "stream",
     "text": [
      "(0.5390173196792603, array([[  0,   0,   0,   0],\n",
      "       [152,  33,  51,   8],\n",
      "       [ 77,   4,  74,   1],\n",
      "       [ 25,   0,   1, 266]]), 0.5773993730545044, array([[  0,   0,   0,   0],\n",
      "       [122,  33,  51,   6],\n",
      "       [ 73,   4,  74,   1],\n",
      "       [ 15,   0,   1, 266]]), 0.0, array([[ 0,  0,  0,  0],\n",
      "       [30,  0,  0,  2],\n",
      "       [ 4,  0,  0,  0],\n",
      "       [10,  0,  0,  0]]))\n",
      "spc\n",
      "0.13524590163934427\n",
      "spd\n",
      "0.47435897435897434\n",
      "spg\n",
      "0.910958904109589\n"
     ]
    }
   ],
   "source": [
    "results = utilities.validation_metrics(torch.tensor(real_labels[keep_cells]), torch.tensor(scina_preds_original), train_nodes, test_nodes)\n",
    "print(results)\n",
    "get_class_accuracy(results[1], keys)"
   ]
  },
  {
   "cell_type": "code",
   "execution_count": 30,
   "id": "db75cf85",
   "metadata": {},
   "outputs": [
    {
     "name": "stdout",
     "output_type": "stream",
     "text": [
      "(0.8482658863067627, array([[  0,   0,   0,   0],\n",
      "       [  8, 167,  68,   1],\n",
      "       [  1,  16, 139,   0],\n",
      "       [ 11,   0,   0, 281]]), 0.8637771010398865, array([[  0,   0,   0,   0],\n",
      "       [  1, 144,  66,   1],\n",
      "       [  0,  16, 136,   0],\n",
      "       [  4,   0,   0, 278]]), 0.6304348111152649, array([[ 0,  0,  0,  0],\n",
      "       [ 7, 23,  2,  0],\n",
      "       [ 1,  0,  3,  0],\n",
      "       [ 7,  0,  0,  3]]))\n",
      "spc\n",
      "0.6844262295081968\n",
      "spd\n",
      "0.8910256410256411\n",
      "spg\n",
      "0.9623287671232876\n"
     ]
    }
   ],
   "source": [
    "results = utilities.validation_metrics(torch.tensor(real_labels[keep_cells]), torch.tensor(sctype_preds_original), train_nodes, test_nodes)\n",
    "print(results)\n",
    "get_class_accuracy(results[1], keys)"
   ]
  },
  {
   "cell_type": "code",
   "execution_count": 31,
   "id": "6e3b2cc3",
   "metadata": {},
   "outputs": [
    {
     "name": "stdout",
     "output_type": "stream",
     "text": [
      "(0.7745664715766907, array([[  0,   0,   0,   0],\n",
      "       [ 26, 120,  86,  12],\n",
      "       [  5,  14, 137,   0],\n",
      "       [  9,   4,   0, 279]]), 0.8281733989715576, array([[  0,   0,   0,   0],\n",
      "       [ 19, 119,  72,   2],\n",
      "       [  4,  11, 137,   0],\n",
      "       [  2,   1,   0, 279]]), 0.021739130839705467, array([[ 0,  0,  0,  0],\n",
      "       [ 7,  1, 14, 10],\n",
      "       [ 1,  3,  0,  0],\n",
      "       [ 7,  3,  0,  0]]))\n",
      "spc\n",
      "0.4918032786885246\n",
      "spd\n",
      "0.8782051282051282\n",
      "spg\n",
      "0.9554794520547946\n"
     ]
    }
   ],
   "source": [
    "results = utilities.validation_metrics(torch.tensor(real_labels[keep_cells]), torch.tensor(scsorter_preds_original), train_nodes, test_nodes)\n",
    "print(results)\n",
    "get_class_accuracy(results[1], keys)"
   ]
  },
  {
   "cell_type": "code",
   "execution_count": 32,
   "id": "038f2b92",
   "metadata": {},
   "outputs": [
    {
     "data": {
      "text/html": [
       "<div>\n",
       "<style scoped>\n",
       "    .dataframe tbody tr th:only-of-type {\n",
       "        vertical-align: middle;\n",
       "    }\n",
       "\n",
       "    .dataframe tbody tr th {\n",
       "        vertical-align: top;\n",
       "    }\n",
       "\n",
       "    .dataframe thead th {\n",
       "        text-align: right;\n",
       "    }\n",
       "</style>\n",
       "<table border=\"1\" class=\"dataframe\">\n",
       "  <thead>\n",
       "    <tr style=\"text-align: right;\">\n",
       "      <th></th>\n",
       "      <th>scina</th>\n",
       "      <th>scsorter</th>\n",
       "      <th>sctype</th>\n",
       "    </tr>\n",
       "  </thead>\n",
       "  <tbody>\n",
       "    <tr>\n",
       "      <th>CGTTCCGACGT</th>\n",
       "      <td>spg</td>\n",
       "      <td>spg</td>\n",
       "      <td>spg</td>\n",
       "    </tr>\n",
       "    <tr>\n",
       "      <th>ATGCAGTACCG</th>\n",
       "      <td>spg</td>\n",
       "      <td>spg</td>\n",
       "      <td>spg</td>\n",
       "    </tr>\n",
       "    <tr>\n",
       "      <th>GCTGCGCCTCG</th>\n",
       "      <td>spg</td>\n",
       "      <td>spg</td>\n",
       "      <td>spg</td>\n",
       "    </tr>\n",
       "    <tr>\n",
       "      <th>GACCAAGGCAC</th>\n",
       "      <td>NaN</td>\n",
       "      <td>spc</td>\n",
       "      <td>spc</td>\n",
       "    </tr>\n",
       "    <tr>\n",
       "      <th>GGGCTTTGCCA</th>\n",
       "      <td>spg</td>\n",
       "      <td>spg</td>\n",
       "      <td>spg</td>\n",
       "    </tr>\n",
       "  </tbody>\n",
       "</table>\n",
       "</div>"
      ],
      "text/plain": [
       "            scina scsorter sctype\n",
       "CGTTCCGACGT   spg      spg    spg\n",
       "ATGCAGTACCG   spg      spg    spg\n",
       "GCTGCGCCTCG   spg      spg    spg\n",
       "GACCAAGGCAC   NaN      spc    spc\n",
       "GGGCTTTGCCA   spg      spg    spg"
      ]
     },
     "execution_count": 32,
     "metadata": {},
     "output_type": "execute_result"
    }
   ],
   "source": [
    "# updated marker experiment\n",
    "all_labels = pd.read_csv(\"/home/groups/ConradLab/daniel/sharp_data/jung/preds_att_marker_test.csv\", index_col=0)\n",
    "scina_preds,_ = pd.factorize(all_labels.scina, sort=True)\n",
    "sctype_preds,_ = pd.factorize(all_labels.sctype, sort=True)\n",
    "scsorter_preds,_ = pd.factorize(all_labels.scsorter, sort=True)\n",
    "#sc_preds,_ = pd.factorize(all_labels.scina, sort=True)\n",
    "#real_labels,keys = pd.factorize(all_labels, sort=True)\n",
    "all_labels.head()"
   ]
  },
  {
   "cell_type": "code",
   "execution_count": 33,
   "id": "e171ea57",
   "metadata": {},
   "outputs": [
    {
     "name": "stdout",
     "output_type": "stream",
     "text": [
      "(0.6575144529342651, array([[  0,   0,   0,   0],\n",
      "       [141,  40,  55,   8],\n",
      "       [ 11,  16, 127,   2],\n",
      "       [  4,   0,   0, 288]]), 0.6842105388641357, array([[  0,   0,   0,   0],\n",
      "       [113,  40,  53,   6],\n",
      "       [ 10,  16, 124,   2],\n",
      "       [  4,   0,   0, 278]]), 0.28260868787765503, array([[ 0,  0,  0,  0],\n",
      "       [28,  0,  2,  2],\n",
      "       [ 1,  0,  3,  0],\n",
      "       [ 0,  0,  0, 10]]))\n",
      "spc\n",
      "0.16393442622950818\n",
      "spd\n",
      "0.8141025641025641\n",
      "spg\n",
      "0.9863013698630136\n"
     ]
    }
   ],
   "source": [
    "results = utilities.validation_metrics(torch.tensor(real_labels[keep_cells]), torch.tensor(scina_preds), train_nodes, test_nodes)\n",
    "print(results)\n",
    "get_class_accuracy(results[1], keys)"
   ]
  },
  {
   "cell_type": "code",
   "execution_count": 34,
   "id": "f3271bf7",
   "metadata": {},
   "outputs": [
    {
     "name": "stdout",
     "output_type": "stream",
     "text": [
      "(0.8482658863067627, array([[  0,   0,   0,   0],\n",
      "       [  8, 167,  68,   1],\n",
      "       [  1,  16, 139,   0],\n",
      "       [ 11,   0,   0, 281]]), 0.8637771010398865, array([[  0,   0,   0,   0],\n",
      "       [  1, 144,  66,   1],\n",
      "       [  0,  16, 136,   0],\n",
      "       [  4,   0,   0, 278]]), 0.6304348111152649, array([[ 0,  0,  0,  0],\n",
      "       [ 7, 23,  2,  0],\n",
      "       [ 1,  0,  3,  0],\n",
      "       [ 7,  0,  0,  3]]))\n",
      "spc\n",
      "0.6844262295081968\n",
      "spd\n",
      "0.8910256410256411\n",
      "spg\n",
      "0.9623287671232876\n"
     ]
    }
   ],
   "source": [
    "results = utilities.validation_metrics(torch.tensor(real_labels[keep_cells]), torch.tensor(sctype_preds), train_nodes, test_nodes)\n",
    "print(results)\n",
    "get_class_accuracy(results[1], keys)"
   ]
  },
  {
   "cell_type": "code",
   "execution_count": 35,
   "id": "b3437a47",
   "metadata": {},
   "outputs": [
    {
     "name": "stdout",
     "output_type": "stream",
     "text": [
      "(0.8424855470657349, array([[151,  81,  12],\n",
      "       [ 14, 141,   1],\n",
      "       [  1,   0, 291]]), 0.8560371398925781, array([[133,  75,   4],\n",
      "       [ 13, 139,   0],\n",
      "       [  1,   0, 281]]), 0.6521739363670349, array([[18,  6,  8],\n",
      "       [ 1,  2,  1],\n",
      "       [ 0,  0, 10]]))\n",
      "spc\n",
      "0.6188524590163934\n",
      "spd\n",
      "0.9038461538461539\n",
      "spg\n",
      "0.9965753424657534\n"
     ]
    }
   ],
   "source": [
    "results = utilities.validation_metrics(torch.tensor(real_labels[keep_cells]), torch.tensor(scsorter_preds), train_nodes, test_nodes)\n",
    "print(results)\n",
    "get_class_accuracy(results[1], keys)"
   ]
  },
  {
   "cell_type": "code",
   "execution_count": 10,
   "id": "d68a96c4",
   "metadata": {},
   "outputs": [
    {
     "name": "stdout",
     "output_type": "stream",
     "text": [
      "[[  0   0   0   0]\n",
      " [141  40  55   8]\n",
      " [ 11  16 127   2]\n",
      " [  4   0   0 288]]\n"
     ]
    }
   ],
   "source": [
    "print(results[1])"
   ]
  },
  {
   "cell_type": "code",
   "execution_count": 12,
   "id": "53d47902",
   "metadata": {},
   "outputs": [
    {
     "name": "stdout",
     "output_type": "stream",
     "text": [
      "-1\n",
      "0\n",
      "[0 0 0 0]\n",
      "nan\n",
      "0\n",
      "40\n",
      "[141  40  55   8]\n",
      "0.16393442622950818\n",
      "1\n",
      "127\n",
      "[ 11  16 127   2]\n",
      "0.8141025641025641\n",
      "2\n",
      "288\n",
      "[  4   0   0 288]\n",
      "0.9863013698630136\n"
     ]
    },
    {
     "name": "stderr",
     "output_type": "stream",
     "text": [
      "<ipython-input-12-0b3b14f8b341>:6: RuntimeWarning: invalid value encountered in long_scalars\n",
      "  print(conf_mat[i,i] / sum(conf_mat[i,:]))\n"
     ]
    }
   ],
   "source": [
    "conf_mat = results[1]\n",
    "for i in [0,1,2,3]:\n",
    "    print(i-1)\n",
    "    print(conf_mat[i,i])\n",
    "    print(conf_mat[i,:])\n",
    "    print(conf_mat[i,i] / sum(conf_mat[i,:]))"
   ]
  }
 ],
 "metadata": {
  "kernelspec": {
   "display_name": "daniel_thesis",
   "language": "python",
   "name": "daniel_thesis_2"
  },
  "language_info": {
   "codemirror_mode": {
    "name": "ipython",
    "version": 3
   },
   "file_extension": ".py",
   "mimetype": "text/x-python",
   "name": "python",
   "nbconvert_exporter": "python",
   "pygments_lexer": "ipython3",
   "version": "3.9.7"
  }
 },
 "nbformat": 4,
 "nbformat_minor": 5
}
