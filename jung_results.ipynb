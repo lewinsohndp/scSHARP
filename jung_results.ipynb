{
 "cells": [
  {
   "cell_type": "code",
   "execution_count": 1,
   "id": "91ef7b62",
   "metadata": {},
   "outputs": [
    {
     "name": "stderr",
     "output_type": "stream",
     "text": [
      "/home/users/lewinsda/.conda/envs/daniel_thesis_2/lib/python3.9/site-packages/tqdm/auto.py:22: TqdmWarning: IProgress not found. Please update jupyter and ipywidgets. See https://ipywidgets.readthedocs.io/en/stable/user_install.html\n",
      "  from .autonotebook import tqdm as notebook_tqdm\n"
     ]
    }
   ],
   "source": [
    "import numpy as np\n",
    "import pandas as pd\n",
    "import matplotlib.pyplot as plt\n",
    "import seaborn as sns\n",
    "import torch\n",
    "from test_model import test_model\n",
    "from sklearn.metrics import confusion_matrix\n",
    "from sc_sharp import scSHARP\n",
    "import utilities"
   ]
  },
  {
   "cell_type": "code",
   "execution_count": 4,
   "id": "d521f500",
   "metadata": {},
   "outputs": [
    {
     "data": {
      "text/html": [
       "<div>\n",
       "<style scoped>\n",
       "    .dataframe tbody tr th:only-of-type {\n",
       "        vertical-align: middle;\n",
       "    }\n",
       "\n",
       "    .dataframe tbody tr th {\n",
       "        vertical-align: top;\n",
       "    }\n",
       "\n",
       "    .dataframe thead th {\n",
       "        text-align: right;\n",
       "    }\n",
       "</style>\n",
       "<table border=\"1\" class=\"dataframe\">\n",
       "  <thead>\n",
       "    <tr style=\"text-align: right;\">\n",
       "      <th></th>\n",
       "      <th>Total Accuracy</th>\n",
       "      <th>Val Accuracy</th>\n",
       "      <th>Test Accuracy</th>\n",
       "      <th>Total SD</th>\n",
       "      <th>Val SD</th>\n",
       "      <th>Test SD</th>\n",
       "      <th>Config</th>\n",
       "      <th>Dropout</th>\n",
       "      <th>Batch</th>\n",
       "      <th>Neighbors</th>\n",
       "      <th>GCN Layers</th>\n",
       "      <th>Final Embedding</th>\n",
       "    </tr>\n",
       "    <tr>\n",
       "      <th>0</th>\n",
       "      <th></th>\n",
       "      <th></th>\n",
       "      <th></th>\n",
       "      <th></th>\n",
       "      <th></th>\n",
       "      <th></th>\n",
       "      <th></th>\n",
       "      <th></th>\n",
       "      <th></th>\n",
       "      <th></th>\n",
       "      <th></th>\n",
       "      <th></th>\n",
       "    </tr>\n",
       "  </thead>\n",
       "  <tbody>\n",
       "    <tr>\n",
       "      <th>1</th>\n",
       "      <td>0.923555</td>\n",
       "      <td>0.946512</td>\n",
       "      <td>0.0</td>\n",
       "      <td>0.001590</td>\n",
       "      <td>0.008531</td>\n",
       "      <td>0.0</td>\n",
       "      <td>2_25.txt</td>\n",
       "      <td>0.0</td>\n",
       "      <td>20</td>\n",
       "      <td>2</td>\n",
       "      <td>2</td>\n",
       "      <td>25</td>\n",
       "    </tr>\n",
       "    <tr>\n",
       "      <th>145</th>\n",
       "      <td>0.923410</td>\n",
       "      <td>0.945736</td>\n",
       "      <td>0.0</td>\n",
       "      <td>0.002360</td>\n",
       "      <td>0.012659</td>\n",
       "      <td>0.0</td>\n",
       "      <td>2_60.txt</td>\n",
       "      <td>0.0</td>\n",
       "      <td>20</td>\n",
       "      <td>2</td>\n",
       "      <td>2</td>\n",
       "      <td>60</td>\n",
       "    </tr>\n",
       "    <tr>\n",
       "      <th>136</th>\n",
       "      <td>0.923410</td>\n",
       "      <td>0.945736</td>\n",
       "      <td>0.0</td>\n",
       "      <td>0.001180</td>\n",
       "      <td>0.006329</td>\n",
       "      <td>0.0</td>\n",
       "      <td>2_15.txt</td>\n",
       "      <td>0.0</td>\n",
       "      <td>65</td>\n",
       "      <td>2</td>\n",
       "      <td>2</td>\n",
       "      <td>15</td>\n",
       "    </tr>\n",
       "    <tr>\n",
       "      <th>10</th>\n",
       "      <td>0.923410</td>\n",
       "      <td>0.945736</td>\n",
       "      <td>0.0</td>\n",
       "      <td>0.001362</td>\n",
       "      <td>0.007309</td>\n",
       "      <td>0.0</td>\n",
       "      <td>2_25.txt</td>\n",
       "      <td>0.0</td>\n",
       "      <td>65</td>\n",
       "      <td>2</td>\n",
       "      <td>2</td>\n",
       "      <td>25</td>\n",
       "    </tr>\n",
       "    <tr>\n",
       "      <th>91</th>\n",
       "      <td>0.923266</td>\n",
       "      <td>0.944961</td>\n",
       "      <td>0.0</td>\n",
       "      <td>0.001980</td>\n",
       "      <td>0.010623</td>\n",
       "      <td>0.0</td>\n",
       "      <td>2_40.txt</td>\n",
       "      <td>0.0</td>\n",
       "      <td>20</td>\n",
       "      <td>2</td>\n",
       "      <td>2</td>\n",
       "      <td>40</td>\n",
       "    </tr>\n",
       "    <tr>\n",
       "      <th>154</th>\n",
       "      <td>0.923266</td>\n",
       "      <td>0.944961</td>\n",
       "      <td>0.0</td>\n",
       "      <td>0.002094</td>\n",
       "      <td>0.011234</td>\n",
       "      <td>0.0</td>\n",
       "      <td>2_60.txt</td>\n",
       "      <td>0.0</td>\n",
       "      <td>65</td>\n",
       "      <td>2</td>\n",
       "      <td>2</td>\n",
       "      <td>60</td>\n",
       "    </tr>\n",
       "    <tr>\n",
       "      <th>127</th>\n",
       "      <td>0.923266</td>\n",
       "      <td>0.944961</td>\n",
       "      <td>0.0</td>\n",
       "      <td>0.001980</td>\n",
       "      <td>0.010623</td>\n",
       "      <td>0.0</td>\n",
       "      <td>2_15.txt</td>\n",
       "      <td>0.0</td>\n",
       "      <td>20</td>\n",
       "      <td>2</td>\n",
       "      <td>2</td>\n",
       "      <td>15</td>\n",
       "    </tr>\n",
       "    <tr>\n",
       "      <th>142</th>\n",
       "      <td>0.923121</td>\n",
       "      <td>0.944186</td>\n",
       "      <td>0.0</td>\n",
       "      <td>0.002437</td>\n",
       "      <td>0.013074</td>\n",
       "      <td>0.0</td>\n",
       "      <td>2_15.txt</td>\n",
       "      <td>0.0</td>\n",
       "      <td>95</td>\n",
       "      <td>2</td>\n",
       "      <td>2</td>\n",
       "      <td>15</td>\n",
       "    </tr>\n",
       "    <tr>\n",
       "      <th>178</th>\n",
       "      <td>0.923121</td>\n",
       "      <td>0.944186</td>\n",
       "      <td>0.0</td>\n",
       "      <td>0.002239</td>\n",
       "      <td>0.012009</td>\n",
       "      <td>0.0</td>\n",
       "      <td>3_25.txt</td>\n",
       "      <td>0.0</td>\n",
       "      <td>95</td>\n",
       "      <td>2</td>\n",
       "      <td>3</td>\n",
       "      <td>25</td>\n",
       "    </tr>\n",
       "    <tr>\n",
       "      <th>70</th>\n",
       "      <td>0.922977</td>\n",
       "      <td>0.943411</td>\n",
       "      <td>0.0</td>\n",
       "      <td>0.002461</td>\n",
       "      <td>0.013201</td>\n",
       "      <td>0.0</td>\n",
       "      <td>3_15.txt</td>\n",
       "      <td>0.0</td>\n",
       "      <td>95</td>\n",
       "      <td>2</td>\n",
       "      <td>3</td>\n",
       "      <td>15</td>\n",
       "    </tr>\n",
       "  </tbody>\n",
       "</table>\n",
       "</div>"
      ],
      "text/plain": [
       "     Total Accuracy  Val Accuracy  Test Accuracy  Total SD    Val SD  Test SD  \\\n",
       "0                                                                               \n",
       "1          0.923555      0.946512            0.0  0.001590  0.008531      0.0   \n",
       "145        0.923410      0.945736            0.0  0.002360  0.012659      0.0   \n",
       "136        0.923410      0.945736            0.0  0.001180  0.006329      0.0   \n",
       "10         0.923410      0.945736            0.0  0.001362  0.007309      0.0   \n",
       "91         0.923266      0.944961            0.0  0.001980  0.010623      0.0   \n",
       "154        0.923266      0.944961            0.0  0.002094  0.011234      0.0   \n",
       "127        0.923266      0.944961            0.0  0.001980  0.010623      0.0   \n",
       "142        0.923121      0.944186            0.0  0.002437  0.013074      0.0   \n",
       "178        0.923121      0.944186            0.0  0.002239  0.012009      0.0   \n",
       "70         0.922977      0.943411            0.0  0.002461  0.013201      0.0   \n",
       "\n",
       "       Config  Dropout  Batch  Neighbors  GCN Layers  Final Embedding  \n",
       "0                                                                      \n",
       "1    2_25.txt      0.0     20          2           2               25  \n",
       "145  2_60.txt      0.0     20          2           2               60  \n",
       "136  2_15.txt      0.0     65          2           2               15  \n",
       "10   2_25.txt      0.0     65          2           2               25  \n",
       "91   2_40.txt      0.0     20          2           2               40  \n",
       "154  2_60.txt      0.0     65          2           2               60  \n",
       "127  2_15.txt      0.0     20          2           2               15  \n",
       "142  2_15.txt      0.0     95          2           2               15  \n",
       "178  3_25.txt      0.0     95          2           3               25  \n",
       "70   3_15.txt      0.0     95          2           3               15  "
      ]
     },
     "execution_count": 4,
     "metadata": {},
     "output_type": "execute_result"
    }
   ],
   "source": [
    "grid_results = pd.read_csv(\"grid_search_jung_output/combined.csv\", header=None, index_col=0)\n",
    "grid_results.columns = [\"Total Accuracy\", \"Val Accuracy\", \"Test Accuracy\", \"Total SD\", \"Val SD\", \"Test SD\", \"Config\", \"Dropout\", \"Batch\", \"Neighbors\"]\n",
    "grid_results['GCN Layers'] = grid_results['Config'].apply(lambda x: x.split('_')[0])\n",
    "grid_results['Final Embedding'] = grid_results['Config'].apply(lambda x: x.split('_')[1].split(\".\")[0])\n",
    "grid_results['GCN Layers'] = pd.to_numeric(grid_results['GCN Layers'])\n",
    "grid_results['Final Embedding'] = pd.to_numeric(grid_results['Final Embedding'])\n",
    "grid_results.sort_values(\"Val Accuracy\", ascending=False).head(10)"
   ]
  },
  {
   "cell_type": "code",
   "execution_count": 6,
   "id": "91c126dc",
   "metadata": {},
   "outputs": [
    {
     "data": {
      "text/plain": [
       "<AxesSubplot:xlabel='Final Embedding', ylabel='Val Accuracy'>"
      ]
     },
     "execution_count": 6,
     "metadata": {},
     "output_type": "execute_result"
    },
    {
     "data": {
      "image/png": "[encoded data removed]",
      "text/plain": [
       "<Figure size 432x288 with 4 Axes>"
      ]
     },
     "metadata": {
      "needs_background": "light"
     },
     "output_type": "display_data"
    }
   ],
   "source": [
    "fig, axs = plt.subplots(2,2)\n",
    "sns.violinplot(x=grid_results[\"Neighbors\"], y=grid_results[\"Val Accuracy\"], ax = axs[0][0])\n",
    "sns.violinplot(x=grid_results[\"Batch\"], y=grid_results[\"Val Accuracy\"], ax = axs[0][1])\n",
    "sns.violinplot(x=grid_results[\"GCN Layers\"], y=grid_results[\"Val Accuracy\"], ax = axs[1][0])\n",
    "sns.violinplot(x=grid_results[\"Final Embedding\"], y=grid_results[\"Val Accuracy\"], ax = axs[1][1])"
   ]
  },
  {
   "cell_type": "code",
   "execution_count": 2,
   "id": "cde44608",
   "metadata": {},
   "outputs": [],
   "source": [
    "data_folders = [\"/home/groups/ConradLab/daniel/sharp_data/jung/\"]\n",
    "tools = [\"sctype\",\"scsorter\",\"scina\"]\n",
    "votes_necessary = .51\n",
    "model_file = \"configs/2_25.txt\"\n",
    "neighbors = 2\n",
    "batch_size=20\n",
    "training_epochs=150\n",
    "random_inits = 5\n",
    "counts=\"counts.csv\"\n",
    "meta=\"labels.csv\"\n",
    "meta_col = 0"
   ]
  },
  {
   "cell_type": "code",
   "execution_count": 3,
   "id": "330fc557",
   "metadata": {},
   "outputs": [
    {
     "name": "stdout",
     "output_type": "stream",
     "text": [
      "[0.8670520186424255, 0.8612716794013977, 0.8627167344093323, 0.8627167344093323, 0.8627167344093323]\n"
     ]
    },
    {
     "name": "stderr",
     "output_type": "stream",
     "text": [
      "/home/users/lewinsda/scSHARP/utilities.py:187: UserWarning: To copy construct from a tensor, it is recommended to use sourceTensor.clone().detach() or sourceTensor.clone().detach().requires_grad_(True), rather than torch.tensor(sourceTensor).\n",
      "  return float((torch.tensor(preds) == torch.tensor(real)).type(torch.FloatTensor).mean().numpy())\n"
     ]
    },
    {
     "data": {
      "text/html": [
       "<div>\n",
       "<style scoped>\n",
       "    .dataframe tbody tr th:only-of-type {\n",
       "        vertical-align: middle;\n",
       "    }\n",
       "\n",
       "    .dataframe tbody tr th {\n",
       "        vertical-align: top;\n",
       "    }\n",
       "\n",
       "    .dataframe thead th {\n",
       "        text-align: right;\n",
       "    }\n",
       "</style>\n",
       "<table border=\"1\" class=\"dataframe\">\n",
       "  <thead>\n",
       "    <tr style=\"text-align: right;\">\n",
       "      <th></th>\n",
       "      <th>data_name</th>\n",
       "      <th>method</th>\n",
       "      <th>total_accuracy</th>\n",
       "      <th>train_accuracy</th>\n",
       "      <th>test_accuracy</th>\n",
       "      <th>total_sd</th>\n",
       "      <th>train_sd</th>\n",
       "      <th>test_sd</th>\n",
       "    </tr>\n",
       "  </thead>\n",
       "  <tbody>\n",
       "    <tr>\n",
       "      <th>0</th>\n",
       "      <td>jung</td>\n",
       "      <td>GCN</td>\n",
       "      <td>0.863295</td>\n",
       "      <td>0.865325</td>\n",
       "      <td>0.834783</td>\n",
       "      <td>0.002192</td>\n",
       "      <td>0.000000</td>\n",
       "      <td>0.032969</td>\n",
       "    </tr>\n",
       "    <tr>\n",
       "      <th>1</th>\n",
       "      <td>jung</td>\n",
       "      <td>Max Col.</td>\n",
       "      <td>0.852601</td>\n",
       "      <td>0.865325</td>\n",
       "      <td>0.673913</td>\n",
       "      <td>0.000000</td>\n",
       "      <td>0.000000</td>\n",
       "      <td>0.000000</td>\n",
       "    </tr>\n",
       "    <tr>\n",
       "      <th>2</th>\n",
       "      <td>jung</td>\n",
       "      <td>Confident Labels</td>\n",
       "      <td>NaN</td>\n",
       "      <td>0.865325</td>\n",
       "      <td>NaN</td>\n",
       "      <td>0.000000</td>\n",
       "      <td>0.000000</td>\n",
       "      <td>0.000000</td>\n",
       "    </tr>\n",
       "    <tr>\n",
       "      <th>3</th>\n",
       "      <td>jung</td>\n",
       "      <td>sctype</td>\n",
       "      <td>0.848266</td>\n",
       "      <td>0.863777</td>\n",
       "      <td>0.630435</td>\n",
       "      <td>0.000000</td>\n",
       "      <td>0.000000</td>\n",
       "      <td>0.000000</td>\n",
       "    </tr>\n",
       "    <tr>\n",
       "      <th>4</th>\n",
       "      <td>jung</td>\n",
       "      <td>scsorter</td>\n",
       "      <td>0.774566</td>\n",
       "      <td>0.828173</td>\n",
       "      <td>0.021739</td>\n",
       "      <td>0.000000</td>\n",
       "      <td>0.000000</td>\n",
       "      <td>0.000000</td>\n",
       "    </tr>\n",
       "    <tr>\n",
       "      <th>5</th>\n",
       "      <td>jung</td>\n",
       "      <td>scina</td>\n",
       "      <td>0.539017</td>\n",
       "      <td>0.577399</td>\n",
       "      <td>0.000000</td>\n",
       "      <td>0.000000</td>\n",
       "      <td>0.000000</td>\n",
       "      <td>0.000000</td>\n",
       "    </tr>\n",
       "    <tr>\n",
       "      <th>6</th>\n",
       "      <td>jung</td>\n",
       "      <td>Tool Avg.</td>\n",
       "      <td>0.720617</td>\n",
       "      <td>0.756450</td>\n",
       "      <td>0.217391</td>\n",
       "      <td>0.161529</td>\n",
       "      <td>0.156081</td>\n",
       "      <td>0.357871</td>\n",
       "    </tr>\n",
       "  </tbody>\n",
       "</table>\n",
       "</div>"
      ],
      "text/plain": [
       "  data_name            method  total_accuracy  train_accuracy  test_accuracy  \\\n",
       "0      jung               GCN        0.863295        0.865325       0.834783   \n",
       "1      jung          Max Col.        0.852601        0.865325       0.673913   \n",
       "2      jung  Confident Labels             NaN        0.865325            NaN   \n",
       "3      jung            sctype        0.848266        0.863777       0.630435   \n",
       "4      jung          scsorter        0.774566        0.828173       0.021739   \n",
       "5      jung             scina        0.539017        0.577399       0.000000   \n",
       "6      jung         Tool Avg.        0.720617        0.756450       0.217391   \n",
       "\n",
       "   total_sd  train_sd   test_sd  \n",
       "0  0.002192  0.000000  0.032969  \n",
       "1  0.000000  0.000000  0.000000  \n",
       "2  0.000000  0.000000  0.000000  \n",
       "3  0.000000  0.000000  0.000000  \n",
       "4  0.000000  0.000000  0.000000  \n",
       "5  0.000000  0.000000  0.000000  \n",
       "6  0.161529  0.156081  0.357871  "
      ]
     },
     "execution_count": 3,
     "metadata": {},
     "output_type": "execute_result"
    }
   ],
   "source": [
    "results = test_model(data_folders, tools, votes_necessary, model_file, neighbors, batch_size, training_epochs, random_inits, counts=counts, meta=meta, meta_col=meta_col)\n",
    "results"
   ]
  },
  {
   "cell_type": "code",
   "execution_count": 4,
   "id": "14293e85",
   "metadata": {},
   "outputs": [
    {
     "data": {
      "text/plain": [
       "Text(0.5, 1.0, 'Total Accuracy by Method')"
      ]
     },
     "execution_count": 4,
     "metadata": {},
     "output_type": "execute_result"
    },
    {
     "data": {
      "image/png": "[encoded data removed]",
      "text/plain": [
       "<Figure size 1080x504 with 2 Axes>"
      ]
     },
     "metadata": {
      "needs_background": "light"
     },
     "output_type": "display_data"
    }
   ],
   "source": [
    "to_plot = results.loc[results['method']!=\"Confident Labels\",:]\n",
    "fig, ax = plt.subplots(1,2,figsize=(15, 7))\n",
    "ax[0].bar(to_plot['method'],  to_plot['test_accuracy'], yerr= to_plot['test_sd'], align='center')\n",
    "ax[0].set_xlabel(\"Tool\")\n",
    "ax[0].set_ylabel(\"Accuracy on Unconfident Nodes\")\n",
    "ax[0].set_title(\"Test Accuracy by Method\")\n",
    "ax[1].bar(to_plot['method'],  to_plot['total_accuracy'], yerr= to_plot['total_sd'], align='center')\n",
    "ax[1].set_xlabel(\"Tool\")\n",
    "ax[1].set_ylabel(\"Accuracy on All Nodes\")\n",
    "ax[1].set_title(\"Total Accuracy by Method\")"
   ]
  },
  {
   "cell_type": "code",
   "execution_count": 15,
   "id": "bf302f66",
   "metadata": {},
   "outputs": [
    {
     "data": {
      "text/plain": [
       "Index(['spc', 'spd', 'spg'], dtype='object')"
      ]
     },
     "execution_count": 15,
     "metadata": {},
     "output_type": "execute_result"
    }
   ],
   "source": [
    "real_labels = pd.read_csv(\"/home/groups/ConradLab/daniel/sharp_data/jung/labels.csv\", index_col=0).iloc[:,0]\n",
    "real_labels,keys = pd.factorize(real_labels, sort=True)\n",
    "keys"
   ]
  },
  {
   "cell_type": "code",
   "execution_count": 3,
   "id": "863edc46",
   "metadata": {},
   "outputs": [],
   "source": [
    "data_path = \"/home/groups/ConradLab/daniel/sharp_data/jung/counts.csv\"\n",
    "tool_preds = \"/home/groups/ConradLab/daniel/sharp_data/jung/preds.csv\"\n",
    "tool_list = [\"scina\", \"scsorter\", \"sctype\"]\n",
    "marker_path = \"/home/groups/ConradLab/daniel/sharp_data/jung/markers.txt\"\n",
    "neighbors=2\n",
    "config=\"configs/2_25.txt\"\n",
    "sharp = scSHARP(data_path, tool_preds, tool_list, marker_path, neighbors, config)"
   ]
  },
  {
   "cell_type": "code",
   "execution_count": 11,
   "id": "56c87206",
   "metadata": {},
   "outputs": [
    {
     "name": "stdout",
     "output_type": "stream",
     "text": [
      "Loss in epoch 0 = 16.433146\n",
      "Loss in epoch 10 = 0.023771\n",
      "Loss in epoch 20 = 0.005226\n",
      "Loss in epoch 30 = 0.002527\n",
      "Loss in epoch 40 = 0.001270\n",
      "Loss in epoch 50 = 0.001025\n",
      "Loss in epoch 60 = 0.000594\n",
      "Loss in epoch 70 = 0.000437\n",
      "Loss in epoch 80 = 0.000288\n",
      "Loss in epoch 90 = 0.000235\n",
      "Loss in epoch 100 = 0.000189\n",
      "Loss in epoch 110 = 0.000133\n",
      "Loss in epoch 120 = 0.000102\n",
      "Loss in epoch 130 = 0.000099\n",
      "Loss in epoch 140 = 0.000068\n"
     ]
    }
   ],
   "source": [
    "preds, train_nodes, test_nodes = sharp.run_prediction(training_epochs=150, thresh=0.51, batch_size=20, seed=8)"
   ]
  },
  {
   "cell_type": "code",
   "execution_count": 12,
   "id": "36803f2c",
   "metadata": {},
   "outputs": [
    {
     "data": {
      "text/plain": [
       "(0.865606963634491,\n",
       " array([[162,  79,   3],\n",
       "        [ 10, 146,   0],\n",
       "        [  1,   0, 291]]),\n",
       " 0.8653250932693481,\n",
       " array([[136,  74,   2],\n",
       "        [ 10, 142,   0],\n",
       "        [  1,   0, 281]]),\n",
       " 0.8695651888847351,\n",
       " array([[26,  5,  1],\n",
       "        [ 0,  4,  0],\n",
       "        [ 0,  0, 10]]))"
      ]
     },
     "execution_count": 12,
     "metadata": {},
     "output_type": "execute_result"
    }
   ],
   "source": [
    "utilities.validation_metrics(torch.tensor(real_labels), preds.cpu(), train_nodes, test_nodes)"
   ]
  },
  {
   "cell_type": "code",
   "execution_count": 37,
   "id": "18481788",
   "metadata": {},
   "outputs": [
    {
     "data": {
      "text/plain": [
       "[Text(0.5, 15.0, 'Cell Type')]"
      ]
     },
     "execution_count": 37,
     "metadata": {},
     "output_type": "execute_result"
    },
    {
     "data": {
      "image/png": "[encoded data removed]",
      "text/plain": [
       "<Figure size 432x288 with 2 Axes>"
      ]
     },
     "metadata": {
      "needs_background": "light"
     },
     "output_type": "display_data"
    }
   ],
   "source": [
    "int_df = sharp.run_interpretation()\n",
    "\n",
    "int_df.columns = keys\n",
    "reorg_keys = [\"spg\",\"spc\",\"spd\"]\n",
    "int_df = int_df[reorg_keys]\n",
    "keep_genes = int_df.sort_values(\"spg\", ascending=False).head(4).index.tolist()\n",
    "keep_genes += int_df.sort_values(\"spc\", ascending=False).head(4).index.tolist()\n",
    "keep_genes += int_df.sort_values(\"spd\", ascending=False).head(4).index.tolist()\n",
    "ax = sns.heatmap(int_df.loc[keep_genes,:])\n",
    "ax.set(xlabel=\"Cell Type\")"
   ]
  },
  {
   "cell_type": "code",
   "execution_count": 25,
   "id": "5de88db1",
   "metadata": {},
   "outputs": [
    {
     "data": {
      "text/plain": [
       "spc    1.540868\n",
       "spd   -0.872309\n",
       "spg    0.246122\n",
       "Name: Aurka, dtype: float32"
      ]
     },
     "execution_count": 25,
     "metadata": {},
     "output_type": "execute_result"
    }
   ],
   "source": [
    "int_df.loc[\"Aurka\"]"
   ]
  },
  {
   "cell_type": "code",
   "execution_count": 38,
   "id": "8e44f0fa",
   "metadata": {},
   "outputs": [
    {
     "data": {
      "text/html": [
       "<div>\n",
       "<style scoped>\n",
       "    .dataframe tbody tr th:only-of-type {\n",
       "        vertical-align: middle;\n",
       "    }\n",
       "\n",
       "    .dataframe tbody tr th {\n",
       "        vertical-align: top;\n",
       "    }\n",
       "\n",
       "    .dataframe thead th {\n",
       "        text-align: right;\n",
       "    }\n",
       "</style>\n",
       "<table border=\"1\" class=\"dataframe\">\n",
       "  <thead>\n",
       "    <tr style=\"text-align: right;\">\n",
       "      <th></th>\n",
       "      <th>spg</th>\n",
       "      <th>spc</th>\n",
       "      <th>spd</th>\n",
       "    </tr>\n",
       "  </thead>\n",
       "  <tbody>\n",
       "    <tr>\n",
       "      <th>Ldhc</th>\n",
       "      <td>-14.847646</td>\n",
       "      <td>16.857750</td>\n",
       "      <td>11.997261</td>\n",
       "    </tr>\n",
       "    <tr>\n",
       "      <th>Meig1</th>\n",
       "      <td>-11.289430</td>\n",
       "      <td>13.202641</td>\n",
       "      <td>9.298755</td>\n",
       "    </tr>\n",
       "    <tr>\n",
       "      <th>Rsph1</th>\n",
       "      <td>-4.569043</td>\n",
       "      <td>13.024635</td>\n",
       "      <td>1.660961</td>\n",
       "    </tr>\n",
       "    <tr>\n",
       "      <th>Fabp9</th>\n",
       "      <td>-11.308181</td>\n",
       "      <td>11.615453</td>\n",
       "      <td>9.368320</td>\n",
       "    </tr>\n",
       "    <tr>\n",
       "      <th>Ropn1l</th>\n",
       "      <td>-9.209205</td>\n",
       "      <td>11.497373</td>\n",
       "      <td>7.118403</td>\n",
       "    </tr>\n",
       "    <tr>\n",
       "      <th>Morf4l1</th>\n",
       "      <td>-3.839481</td>\n",
       "      <td>10.970502</td>\n",
       "      <td>1.357726</td>\n",
       "    </tr>\n",
       "    <tr>\n",
       "      <th>Cox8c</th>\n",
       "      <td>-4.162146</td>\n",
       "      <td>9.574133</td>\n",
       "      <td>1.922056</td>\n",
       "    </tr>\n",
       "    <tr>\n",
       "      <th>Lyar</th>\n",
       "      <td>0.884103</td>\n",
       "      <td>9.111647</td>\n",
       "      <td>-3.359817</td>\n",
       "    </tr>\n",
       "    <tr>\n",
       "      <th>Gkap1</th>\n",
       "      <td>-1.089301</td>\n",
       "      <td>8.726265</td>\n",
       "      <td>-1.334473</td>\n",
       "    </tr>\n",
       "    <tr>\n",
       "      <th>Cetn1</th>\n",
       "      <td>-3.983795</td>\n",
       "      <td>8.716872</td>\n",
       "      <td>2.126095</td>\n",
       "    </tr>\n",
       "  </tbody>\n",
       "</table>\n",
       "</div>"
      ],
      "text/plain": [
       "               spg        spc        spd\n",
       "Ldhc    -14.847646  16.857750  11.997261\n",
       "Meig1   -11.289430  13.202641   9.298755\n",
       "Rsph1    -4.569043  13.024635   1.660961\n",
       "Fabp9   -11.308181  11.615453   9.368320\n",
       "Ropn1l   -9.209205  11.497373   7.118403\n",
       "Morf4l1  -3.839481  10.970502   1.357726\n",
       "Cox8c    -4.162146   9.574133   1.922056\n",
       "Lyar      0.884103   9.111647  -3.359817\n",
       "Gkap1    -1.089301   8.726265  -1.334473\n",
       "Cetn1    -3.983795   8.716872   2.126095"
      ]
     },
     "execution_count": 38,
     "metadata": {},
     "output_type": "execute_result"
    }
   ],
   "source": [
    "#spc,Insl6,Piwil1,Pttg1,Spag6,Mllt10,Aurka\n",
    "keep_genes = int_df.sort_values(\"spc\", ascending=False).head(10).index.tolist()\n",
    "#keep_genes = int_df.sort_values(\"spd\", ascending=False).head(10).index.tolist()\n",
    "#keep_genes = int_df.sort_values(\"spg\", ascending=False).head(10).index.tolist()\n",
    "int_df.loc[keep_genes,:]"
   ]
  }
 ],
 "metadata": {
  "kernelspec": {
   "display_name": "daniel_thesis",
   "language": "python",
   "name": "daniel_thesis_2"
  },
  "language_info": {
   "codemirror_mode": {
    "name": "ipython",
    "version": 3
   },
   "file_extension": ".py",
   "mimetype": "text/x-python",
   "name": "python",
   "nbconvert_exporter": "python",
   "pygments_lexer": "ipython3",
   "version": "3.9.7"
  }
 },
 "nbformat": 4,
 "nbformat_minor": 5
}
