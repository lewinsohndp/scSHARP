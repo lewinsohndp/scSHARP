{
 "cells": [
  {
   "cell_type": "code",
   "execution_count": 18,
   "id": "91ef7b62",
   "metadata": {},
   "outputs": [],
   "source": [
    "import numpy as np\n",
    "import pandas as pd\n",
    "import matplotlib.pyplot as plt\n",
    "import seaborn as sns\n",
    "import torch\n",
    "from test_model import test_model\n",
    "from sklearn.metrics import confusion_matrix\n",
    "from sc_sharp import scSHARP\n",
    "import utilities\n",
    "from sklearn import preprocessing"
   ]
  },
  {
   "cell_type": "code",
   "execution_count": 2,
   "id": "d521f500",
   "metadata": {},
   "outputs": [
    {
     "data": {
      "text/html": [
       "<div>\n",
       "<style scoped>\n",
       "    .dataframe tbody tr th:only-of-type {\n",
       "        vertical-align: middle;\n",
       "    }\n",
       "\n",
       "    .dataframe tbody tr th {\n",
       "        vertical-align: top;\n",
       "    }\n",
       "\n",
       "    .dataframe thead th {\n",
       "        text-align: right;\n",
       "    }\n",
       "</style>\n",
       "<table border=\"1\" class=\"dataframe\">\n",
       "  <thead>\n",
       "    <tr style=\"text-align: right;\">\n",
       "      <th></th>\n",
       "      <th>Total Accuracy</th>\n",
       "      <th>Val Accuracy</th>\n",
       "      <th>Test Accuracy</th>\n",
       "      <th>Total SD</th>\n",
       "      <th>Val SD</th>\n",
       "      <th>Test SD</th>\n",
       "      <th>Config</th>\n",
       "      <th>Dropout</th>\n",
       "      <th>Batch</th>\n",
       "      <th>Neighbors</th>\n",
       "      <th>GCN Layers</th>\n",
       "      <th>Final Embedding</th>\n",
       "    </tr>\n",
       "    <tr>\n",
       "      <th>0</th>\n",
       "      <th></th>\n",
       "      <th></th>\n",
       "      <th></th>\n",
       "      <th></th>\n",
       "      <th></th>\n",
       "      <th></th>\n",
       "      <th></th>\n",
       "      <th></th>\n",
       "      <th></th>\n",
       "      <th></th>\n",
       "      <th></th>\n",
       "      <th></th>\n",
       "    </tr>\n",
       "  </thead>\n",
       "  <tbody>\n",
       "    <tr>\n",
       "      <th>1</th>\n",
       "      <td>0.923555</td>\n",
       "      <td>0.946512</td>\n",
       "      <td>0.0</td>\n",
       "      <td>0.001590</td>\n",
       "      <td>0.008531</td>\n",
       "      <td>0.0</td>\n",
       "      <td>2_25.txt</td>\n",
       "      <td>0.0</td>\n",
       "      <td>20</td>\n",
       "      <td>2</td>\n",
       "      <td>2</td>\n",
       "      <td>25</td>\n",
       "    </tr>\n",
       "    <tr>\n",
       "      <th>145</th>\n",
       "      <td>0.923410</td>\n",
       "      <td>0.945736</td>\n",
       "      <td>0.0</td>\n",
       "      <td>0.002360</td>\n",
       "      <td>0.012659</td>\n",
       "      <td>0.0</td>\n",
       "      <td>2_60.txt</td>\n",
       "      <td>0.0</td>\n",
       "      <td>20</td>\n",
       "      <td>2</td>\n",
       "      <td>2</td>\n",
       "      <td>60</td>\n",
       "    </tr>\n",
       "    <tr>\n",
       "      <th>136</th>\n",
       "      <td>0.923410</td>\n",
       "      <td>0.945736</td>\n",
       "      <td>0.0</td>\n",
       "      <td>0.001180</td>\n",
       "      <td>0.006329</td>\n",
       "      <td>0.0</td>\n",
       "      <td>2_15.txt</td>\n",
       "      <td>0.0</td>\n",
       "      <td>65</td>\n",
       "      <td>2</td>\n",
       "      <td>2</td>\n",
       "      <td>15</td>\n",
       "    </tr>\n",
       "    <tr>\n",
       "      <th>10</th>\n",
       "      <td>0.923410</td>\n",
       "      <td>0.945736</td>\n",
       "      <td>0.0</td>\n",
       "      <td>0.001362</td>\n",
       "      <td>0.007309</td>\n",
       "      <td>0.0</td>\n",
       "      <td>2_25.txt</td>\n",
       "      <td>0.0</td>\n",
       "      <td>65</td>\n",
       "      <td>2</td>\n",
       "      <td>2</td>\n",
       "      <td>25</td>\n",
       "    </tr>\n",
       "    <tr>\n",
       "      <th>91</th>\n",
       "      <td>0.923266</td>\n",
       "      <td>0.944961</td>\n",
       "      <td>0.0</td>\n",
       "      <td>0.001980</td>\n",
       "      <td>0.010623</td>\n",
       "      <td>0.0</td>\n",
       "      <td>2_40.txt</td>\n",
       "      <td>0.0</td>\n",
       "      <td>20</td>\n",
       "      <td>2</td>\n",
       "      <td>2</td>\n",
       "      <td>40</td>\n",
       "    </tr>\n",
       "    <tr>\n",
       "      <th>154</th>\n",
       "      <td>0.923266</td>\n",
       "      <td>0.944961</td>\n",
       "      <td>0.0</td>\n",
       "      <td>0.002094</td>\n",
       "      <td>0.011234</td>\n",
       "      <td>0.0</td>\n",
       "      <td>2_60.txt</td>\n",
       "      <td>0.0</td>\n",
       "      <td>65</td>\n",
       "      <td>2</td>\n",
       "      <td>2</td>\n",
       "      <td>60</td>\n",
       "    </tr>\n",
       "    <tr>\n",
       "      <th>127</th>\n",
       "      <td>0.923266</td>\n",
       "      <td>0.944961</td>\n",
       "      <td>0.0</td>\n",
       "      <td>0.001980</td>\n",
       "      <td>0.010623</td>\n",
       "      <td>0.0</td>\n",
       "      <td>2_15.txt</td>\n",
       "      <td>0.0</td>\n",
       "      <td>20</td>\n",
       "      <td>2</td>\n",
       "      <td>2</td>\n",
       "      <td>15</td>\n",
       "    </tr>\n",
       "    <tr>\n",
       "      <th>142</th>\n",
       "      <td>0.923121</td>\n",
       "      <td>0.944186</td>\n",
       "      <td>0.0</td>\n",
       "      <td>0.002437</td>\n",
       "      <td>0.013074</td>\n",
       "      <td>0.0</td>\n",
       "      <td>2_15.txt</td>\n",
       "      <td>0.0</td>\n",
       "      <td>95</td>\n",
       "      <td>2</td>\n",
       "      <td>2</td>\n",
       "      <td>15</td>\n",
       "    </tr>\n",
       "    <tr>\n",
       "      <th>178</th>\n",
       "      <td>0.923121</td>\n",
       "      <td>0.944186</td>\n",
       "      <td>0.0</td>\n",
       "      <td>0.002239</td>\n",
       "      <td>0.012009</td>\n",
       "      <td>0.0</td>\n",
       "      <td>3_25.txt</td>\n",
       "      <td>0.0</td>\n",
       "      <td>95</td>\n",
       "      <td>2</td>\n",
       "      <td>3</td>\n",
       "      <td>25</td>\n",
       "    </tr>\n",
       "    <tr>\n",
       "      <th>70</th>\n",
       "      <td>0.922977</td>\n",
       "      <td>0.943411</td>\n",
       "      <td>0.0</td>\n",
       "      <td>0.002461</td>\n",
       "      <td>0.013201</td>\n",
       "      <td>0.0</td>\n",
       "      <td>3_15.txt</td>\n",
       "      <td>0.0</td>\n",
       "      <td>95</td>\n",
       "      <td>2</td>\n",
       "      <td>3</td>\n",
       "      <td>15</td>\n",
       "    </tr>\n",
       "  </tbody>\n",
       "</table>\n",
       "</div>"
      ],
      "text/plain": [
       "     Total Accuracy  Val Accuracy  Test Accuracy  Total SD    Val SD  Test SD  \\\n",
       "0                                                                               \n",
       "1          0.923555      0.946512            0.0  0.001590  0.008531      0.0   \n",
       "145        0.923410      0.945736            0.0  0.002360  0.012659      0.0   \n",
       "136        0.923410      0.945736            0.0  0.001180  0.006329      0.0   \n",
       "10         0.923410      0.945736            0.0  0.001362  0.007309      0.0   \n",
       "91         0.923266      0.944961            0.0  0.001980  0.010623      0.0   \n",
       "154        0.923266      0.944961            0.0  0.002094  0.011234      0.0   \n",
       "127        0.923266      0.944961            0.0  0.001980  0.010623      0.0   \n",
       "142        0.923121      0.944186            0.0  0.002437  0.013074      0.0   \n",
       "178        0.923121      0.944186            0.0  0.002239  0.012009      0.0   \n",
       "70         0.922977      0.943411            0.0  0.002461  0.013201      0.0   \n",
       "\n",
       "       Config  Dropout  Batch  Neighbors  GCN Layers  Final Embedding  \n",
       "0                                                                      \n",
       "1    2_25.txt      0.0     20          2           2               25  \n",
       "145  2_60.txt      0.0     20          2           2               60  \n",
       "136  2_15.txt      0.0     65          2           2               15  \n",
       "10   2_25.txt      0.0     65          2           2               25  \n",
       "91   2_40.txt      0.0     20          2           2               40  \n",
       "154  2_60.txt      0.0     65          2           2               60  \n",
       "127  2_15.txt      0.0     20          2           2               15  \n",
       "142  2_15.txt      0.0     95          2           2               15  \n",
       "178  3_25.txt      0.0     95          2           3               25  \n",
       "70   3_15.txt      0.0     95          2           3               15  "
      ]
     },
     "execution_count": 2,
     "metadata": {},
     "output_type": "execute_result"
    }
   ],
   "source": [
    "grid_results = pd.read_csv(\"grid_search_jung_output/combined.csv\", header=None, index_col=0)\n",
    "grid_results.columns = [\"Total Accuracy\", \"Val Accuracy\", \"Test Accuracy\", \"Total SD\", \"Val SD\", \"Test SD\", \"Config\", \"Dropout\", \"Batch\", \"Neighbors\"]\n",
    "grid_results['GCN Layers'] = grid_results['Config'].apply(lambda x: x.split('_')[0])\n",
    "grid_results['Final Embedding'] = grid_results['Config'].apply(lambda x: x.split('_')[1].split(\".\")[0])\n",
    "grid_results['GCN Layers'] = pd.to_numeric(grid_results['GCN Layers'])\n",
    "grid_results['Final Embedding'] = pd.to_numeric(grid_results['Final Embedding'])\n",
    "grid_results.sort_values(\"Val Accuracy\", ascending=False).head(10)"
   ]
  },
  {
   "cell_type": "code",
   "execution_count": 3,
   "id": "91c126dc",
   "metadata": {},
   "outputs": [
    {
     "data": {
      "text/plain": [
       "<AxesSubplot:xlabel='Batch', ylabel='Val Accuracy'>"
      ]
     },
     "execution_count": 3,
     "metadata": {},
     "output_type": "execute_result"
    },
    {
     "data": {
      "image/png": "[encoded data removed]",
      "text/plain": [
       "<Figure size 720x360 with 2 Axes>"
      ]
     },
     "metadata": {
      "needs_background": "light"
     },
     "output_type": "display_data"
    }
   ],
   "source": [
    "fig, axs = plt.subplots(1,2, figsize=(10, 5))\n",
    "sns.violinplot(x=grid_results[\"Neighbors\"], y=grid_results[\"Val Accuracy\"], ax = axs[0])\n",
    "sns.violinplot(x=grid_results[\"Batch\"], y=grid_results[\"Val Accuracy\"], ax = axs[1])"
   ]
  },
  {
   "cell_type": "code",
   "execution_count": 4,
   "id": "99b4ff8d",
   "metadata": {},
   "outputs": [
    {
     "data": {
      "text/plain": [
       "<AxesSubplot:xlabel='Final Embedding', ylabel='Val Accuracy'>"
      ]
     },
     "execution_count": 4,
     "metadata": {},
     "output_type": "execute_result"
    },
    {
     "data": {
      "image/png": "[encoded data removed]",
      "text/plain": [
       "<Figure size 720x360 with 2 Axes>"
      ]
     },
     "metadata": {
      "needs_background": "light"
     },
     "output_type": "display_data"
    }
   ],
   "source": [
    "fig, axs = plt.subplots(1,2,figsize=(10, 5))\n",
    "sns.violinplot(x=grid_results[\"GCN Layers\"], y=grid_results[\"Val Accuracy\"], ax = axs[0])\n",
    "sns.violinplot(x=grid_results[\"Final Embedding\"], y=grid_results[\"Val Accuracy\"], ax = axs[1])"
   ]
  },
  {
   "cell_type": "code",
   "execution_count": 3,
   "id": "cde44608",
   "metadata": {},
   "outputs": [],
   "source": [
    "data_folders = [\"/home/groups/ConradLab/daniel/sharp_data/jung/\"]\n",
    "tools = [\"sctype\",\"scsorter\",\"scina\"]\n",
    "votes_necessary = .51\n",
    "model_file = \"configs/2_25.txt\"\n",
    "neighbors = 2\n",
    "batch_size=20\n",
    "training_epochs=150\n",
    "random_inits = 5\n",
    "counts=\"counts.csv\"\n",
    "meta=\"labels.csv\"\n",
    "meta_col = 0"
   ]
  },
  {
   "cell_type": "code",
   "execution_count": 4,
   "id": "330fc557",
   "metadata": {},
   "outputs": [
    {
     "name": "stdout",
     "output_type": "stream",
     "text": [
      "Loss in epoch 0 = 15.415061\n",
      "Loss in epoch 10 = 0.015918\n",
      "Loss in epoch 20 = 0.004158\n",
      "Loss in epoch 30 = 0.002255\n",
      "Loss in epoch 40 = 0.001281\n",
      "Loss in epoch 50 = 0.000919\n",
      "Loss in epoch 60 = 0.000542\n",
      "Loss in epoch 70 = 0.000358\n",
      "Loss in epoch 80 = 0.000296\n",
      "Loss in epoch 90 = 0.000186\n",
      "Loss in epoch 100 = 0.000191\n",
      "Loss in epoch 110 = 0.000148\n",
      "Loss in epoch 120 = 0.000084\n",
      "Loss in epoch 130 = 0.000070\n",
      "Loss in epoch 140 = 0.000051\n",
      "Loss in epoch 0 = 18.210077\n",
      "Loss in epoch 10 = 0.019594\n",
      "Loss in epoch 20 = 0.005350\n",
      "Loss in epoch 30 = 0.002504\n",
      "Loss in epoch 40 = 0.001325\n",
      "Loss in epoch 50 = 0.000944\n",
      "Loss in epoch 60 = 0.000609\n",
      "Loss in epoch 70 = 0.000415\n",
      "Loss in epoch 80 = 0.000303\n",
      "Loss in epoch 90 = 0.000200\n",
      "Loss in epoch 100 = 0.000162\n",
      "Loss in epoch 110 = 0.000148\n",
      "Loss in epoch 120 = 0.000094\n",
      "Loss in epoch 130 = 0.000089\n",
      "Loss in epoch 140 = 0.000065\n",
      "Loss in epoch 0 = 17.975710\n",
      "Loss in epoch 10 = 0.018889\n",
      "Loss in epoch 20 = 0.006874\n",
      "Loss in epoch 30 = 0.002701\n",
      "Loss in epoch 40 = 0.001479\n",
      "Loss in epoch 50 = 0.000947\n",
      "Loss in epoch 60 = 0.000664\n",
      "Loss in epoch 70 = 0.000489\n",
      "Loss in epoch 80 = 0.000313\n",
      "Loss in epoch 90 = 0.000228\n",
      "Loss in epoch 100 = 0.000224\n",
      "Loss in epoch 110 = 0.000135\n",
      "Loss in epoch 120 = 0.000107\n",
      "Loss in epoch 130 = 0.000092\n",
      "Loss in epoch 140 = 0.000075\n",
      "Loss in epoch 0 = 16.293745\n",
      "Loss in epoch 10 = 0.017304\n",
      "Loss in epoch 20 = 0.006601\n",
      "Loss in epoch 30 = 0.002721\n",
      "Loss in epoch 40 = 0.001818\n",
      "Loss in epoch 50 = 0.000842\n",
      "Loss in epoch 60 = 0.000609\n",
      "Loss in epoch 70 = 0.000441\n",
      "Loss in epoch 80 = 0.000310\n",
      "Loss in epoch 90 = 0.000219\n",
      "Loss in epoch 100 = 0.000181\n",
      "Loss in epoch 110 = 0.000138\n",
      "Loss in epoch 120 = 0.000120\n",
      "Loss in epoch 130 = 0.000099\n",
      "Loss in epoch 140 = 0.000071\n",
      "Loss in epoch 0 = 15.682072\n",
      "Loss in epoch 10 = 0.019808\n",
      "Loss in epoch 20 = 0.005990\n",
      "Loss in epoch 30 = 0.002512\n",
      "Loss in epoch 40 = 0.001363\n",
      "Loss in epoch 50 = 0.000906\n",
      "Loss in epoch 60 = 0.000727\n",
      "Loss in epoch 70 = 0.000452\n",
      "Loss in epoch 80 = 0.000293\n",
      "Loss in epoch 90 = 0.000230\n",
      "Loss in epoch 100 = 0.000202\n",
      "Loss in epoch 110 = 0.000136\n",
      "Loss in epoch 120 = 0.000103\n",
      "Loss in epoch 130 = 0.000081\n",
      "Loss in epoch 140 = 0.000058\n",
      "[0.8670520186424255, 0.8612716794013977, 0.8627167344093323, 0.8627167344093323, 0.8627167344093323]\n"
     ]
    },
    {
     "name": "stderr",
     "output_type": "stream",
     "text": [
      "/home/users/lewinsda/scSHARP/utilities.py:185: UserWarning: To copy construct from a tensor, it is recommended to use sourceTensor.clone().detach() or sourceTensor.clone().detach().requires_grad_(True), rather than torch.tensor(sourceTensor).\n",
      "  return float((torch.tensor(preds) == torch.tensor(real)).type(torch.FloatTensor).mean().numpy())\n"
     ]
    },
    {
     "data": {
      "text/html": [
       "<div>\n",
       "<style scoped>\n",
       "    .dataframe tbody tr th:only-of-type {\n",
       "        vertical-align: middle;\n",
       "    }\n",
       "\n",
       "    .dataframe tbody tr th {\n",
       "        vertical-align: top;\n",
       "    }\n",
       "\n",
       "    .dataframe thead th {\n",
       "        text-align: right;\n",
       "    }\n",
       "</style>\n",
       "<table border=\"1\" class=\"dataframe\">\n",
       "  <thead>\n",
       "    <tr style=\"text-align: right;\">\n",
       "      <th></th>\n",
       "      <th>data_name</th>\n",
       "      <th>method</th>\n",
       "      <th>total_accuracy</th>\n",
       "      <th>train_accuracy</th>\n",
       "      <th>test_accuracy</th>\n",
       "      <th>total_sd</th>\n",
       "      <th>train_sd</th>\n",
       "      <th>test_sd</th>\n",
       "    </tr>\n",
       "  </thead>\n",
       "  <tbody>\n",
       "    <tr>\n",
       "      <th>0</th>\n",
       "      <td>jung</td>\n",
       "      <td>GCN</td>\n",
       "      <td>0.863295</td>\n",
       "      <td>0.865325</td>\n",
       "      <td>0.834783</td>\n",
       "      <td>0.002192</td>\n",
       "      <td>0.000000</td>\n",
       "      <td>0.032969</td>\n",
       "    </tr>\n",
       "    <tr>\n",
       "      <th>1</th>\n",
       "      <td>jung</td>\n",
       "      <td>Max Col.</td>\n",
       "      <td>0.852601</td>\n",
       "      <td>0.865325</td>\n",
       "      <td>0.673913</td>\n",
       "      <td>0.000000</td>\n",
       "      <td>0.000000</td>\n",
       "      <td>0.000000</td>\n",
       "    </tr>\n",
       "    <tr>\n",
       "      <th>2</th>\n",
       "      <td>jung</td>\n",
       "      <td>Confident Labels</td>\n",
       "      <td>NaN</td>\n",
       "      <td>0.865325</td>\n",
       "      <td>NaN</td>\n",
       "      <td>0.000000</td>\n",
       "      <td>0.000000</td>\n",
       "      <td>0.000000</td>\n",
       "    </tr>\n",
       "    <tr>\n",
       "      <th>3</th>\n",
       "      <td>jung</td>\n",
       "      <td>sctype</td>\n",
       "      <td>0.848266</td>\n",
       "      <td>0.863777</td>\n",
       "      <td>0.630435</td>\n",
       "      <td>0.000000</td>\n",
       "      <td>0.000000</td>\n",
       "      <td>0.000000</td>\n",
       "    </tr>\n",
       "    <tr>\n",
       "      <th>4</th>\n",
       "      <td>jung</td>\n",
       "      <td>scsorter</td>\n",
       "      <td>0.774566</td>\n",
       "      <td>0.828173</td>\n",
       "      <td>0.021739</td>\n",
       "      <td>0.000000</td>\n",
       "      <td>0.000000</td>\n",
       "      <td>0.000000</td>\n",
       "    </tr>\n",
       "    <tr>\n",
       "      <th>5</th>\n",
       "      <td>jung</td>\n",
       "      <td>scina</td>\n",
       "      <td>0.539017</td>\n",
       "      <td>0.577399</td>\n",
       "      <td>0.000000</td>\n",
       "      <td>0.000000</td>\n",
       "      <td>0.000000</td>\n",
       "      <td>0.000000</td>\n",
       "    </tr>\n",
       "    <tr>\n",
       "      <th>6</th>\n",
       "      <td>jung</td>\n",
       "      <td>Tool Avg.</td>\n",
       "      <td>0.720617</td>\n",
       "      <td>0.756450</td>\n",
       "      <td>0.217391</td>\n",
       "      <td>0.161529</td>\n",
       "      <td>0.156081</td>\n",
       "      <td>0.357871</td>\n",
       "    </tr>\n",
       "  </tbody>\n",
       "</table>\n",
       "</div>"
      ],
      "text/plain": [
       "  data_name            method  total_accuracy  train_accuracy  test_accuracy  \\\n",
       "0      jung               GCN        0.863295        0.865325       0.834783   \n",
       "1      jung          Max Col.        0.852601        0.865325       0.673913   \n",
       "2      jung  Confident Labels             NaN        0.865325            NaN   \n",
       "3      jung            sctype        0.848266        0.863777       0.630435   \n",
       "4      jung          scsorter        0.774566        0.828173       0.021739   \n",
       "5      jung             scina        0.539017        0.577399       0.000000   \n",
       "6      jung         Tool Avg.        0.720617        0.756450       0.217391   \n",
       "\n",
       "   total_sd  train_sd   test_sd  \n",
       "0  0.002192  0.000000  0.032969  \n",
       "1  0.000000  0.000000  0.000000  \n",
       "2  0.000000  0.000000  0.000000  \n",
       "3  0.000000  0.000000  0.000000  \n",
       "4  0.000000  0.000000  0.000000  \n",
       "5  0.000000  0.000000  0.000000  \n",
       "6  0.161529  0.156081  0.357871  "
      ]
     },
     "execution_count": 4,
     "metadata": {},
     "output_type": "execute_result"
    }
   ],
   "source": [
    "results = test_model(data_folders, tools, votes_necessary, model_file, neighbors, batch_size, training_epochs, random_inits, counts=counts, meta=meta, meta_col=meta_col)\n",
    "results"
   ]
  },
  {
   "cell_type": "code",
   "execution_count": 5,
   "id": "14293e85",
   "metadata": {},
   "outputs": [
    {
     "data": {
      "text/plain": [
       "(0.0, 1.0)"
      ]
     },
     "execution_count": 5,
     "metadata": {},
     "output_type": "execute_result"
    },
    {
     "data": {
      "image/png": "[encoded data removed]",
      "text/plain": [
       "<Figure size 1080x504 with 2 Axes>"
      ]
     },
     "metadata": {
      "needs_background": "light"
     },
     "output_type": "display_data"
    }
   ],
   "source": [
    "to_plot = results.loc[results['method']!=\"Confident Labels\",:]\n",
    "fig, ax = plt.subplots(1,2,figsize=(15, 7))\n",
    "ax[0].bar(to_plot['method'],  to_plot['test_accuracy'], yerr= to_plot['test_sd'], align='center')\n",
    "ax[0].set_xlabel(\"Tool\")\n",
    "ax[0].set_ylabel(\"Accuracy on Unconfident Nodes\")\n",
    "ax[0].set_title(\"Test Accuracy by Method\")\n",
    "ax[1].bar(to_plot['method'],  to_plot['total_accuracy'], yerr= to_plot['total_sd'], align='center')\n",
    "ax[1].set_xlabel(\"Tool\")\n",
    "ax[1].set_ylabel(\"Accuracy on All Nodes\")\n",
    "ax[1].set_title(\"Total Accuracy by Method\")\n",
    "ax[0].set_ylim([0, 1])\n",
    "ax[1].set_ylim([0, 1])"
   ]
  },
  {
   "cell_type": "code",
   "execution_count": 10,
   "id": "bf302f66",
   "metadata": {},
   "outputs": [
    {
     "data": {
      "text/plain": [
       "Index(['spc', 'spd', 'spg'], dtype='object')"
      ]
     },
     "execution_count": 10,
     "metadata": {},
     "output_type": "execute_result"
    }
   ],
   "source": [
    "real_labels = pd.read_csv(\"/home/groups/ConradLab/daniel/sharp_data/jung/labels.csv\", index_col=0).iloc[:,0]\n",
    "real_labels,keys = pd.factorize(real_labels, sort=True)\n",
    "keys"
   ]
  },
  {
   "cell_type": "code",
   "execution_count": 9,
   "id": "8c4012c9",
   "metadata": {},
   "outputs": [
    {
     "data": {
      "text/plain": [
       "244"
      ]
     },
     "execution_count": 9,
     "metadata": {},
     "output_type": "execute_result"
    }
   ],
   "source": [
    "np.count_nonzero(real_labels == 0)"
   ]
  },
  {
   "cell_type": "code",
   "execution_count": 7,
   "id": "863edc46",
   "metadata": {},
   "outputs": [],
   "source": [
    "data_path = \"/home/groups/ConradLab/daniel/sharp_data/jung/counts.csv\"\n",
    "tool_preds = \"/home/groups/ConradLab/daniel/sharp_data/jung/preds.csv\"\n",
    "tool_list = [\"scina\", \"scsorter\", \"sctype\"]\n",
    "marker_path = \"/home/groups/ConradLab/daniel/sharp_data/jung/markers.txt\"\n",
    "neighbors=2\n",
    "config=\"configs/2_25.txt\"\n",
    "sharp = scSHARP(data_path, tool_preds, tool_list, marker_path, neighbors, config)"
   ]
  },
  {
   "cell_type": "code",
   "execution_count": 8,
   "id": "56c87206",
   "metadata": {},
   "outputs": [
    {
     "name": "stdout",
     "output_type": "stream",
     "text": [
      "Loss in epoch 0 = 16.433146\n",
      "Loss in epoch 10 = 0.023771\n",
      "Loss in epoch 20 = 0.005226\n",
      "Loss in epoch 30 = 0.002527\n",
      "Loss in epoch 40 = 0.001270\n",
      "Loss in epoch 50 = 0.001025\n",
      "Loss in epoch 60 = 0.000594\n",
      "Loss in epoch 70 = 0.000437\n",
      "Loss in epoch 80 = 0.000288\n",
      "Loss in epoch 90 = 0.000235\n",
      "Loss in epoch 100 = 0.000189\n",
      "Loss in epoch 110 = 0.000133\n",
      "Loss in epoch 120 = 0.000102\n",
      "Loss in epoch 130 = 0.000099\n",
      "Loss in epoch 140 = 0.000068\n"
     ]
    }
   ],
   "source": [
    "preds, train_nodes, test_nodes, keep_cells = sharp.run_prediction(training_epochs=150, thresh=0.51, batch_size=20, seed=8)"
   ]
  },
  {
   "cell_type": "code",
   "execution_count": 11,
   "id": "36803f2c",
   "metadata": {},
   "outputs": [
    {
     "data": {
      "text/plain": [
       "(0.865606963634491,\n",
       " array([[162,  79,   3],\n",
       "        [ 10, 146,   0],\n",
       "        [  1,   0, 291]]),\n",
       " 0.8653250932693481,\n",
       " array([[136,  74,   2],\n",
       "        [ 10, 142,   0],\n",
       "        [  1,   0, 281]]),\n",
       " 0.8695651888847351,\n",
       " array([[26,  5,  1],\n",
       "        [ 0,  4,  0],\n",
       "        [ 0,  0, 10]]))"
      ]
     },
     "execution_count": 11,
     "metadata": {},
     "output_type": "execute_result"
    }
   ],
   "source": [
    "utilities.validation_metrics(torch.tensor(real_labels), preds.cpu(), train_nodes, test_nodes)"
   ]
  },
  {
   "cell_type": "code",
   "execution_count": 34,
   "id": "90e41573",
   "metadata": {},
   "outputs": [],
   "source": [
    "pd.Series(preds.cpu().numpy()).to_csv(\"/home/groups/ConradLab/daniel/sharp_data/jung/sharp_preds.csv\")"
   ]
  },
  {
   "cell_type": "code",
   "execution_count": 42,
   "id": "675b28bc",
   "metadata": {},
   "outputs": [
    {
     "data": {
      "text/plain": [
       "(692, 6353)"
      ]
     },
     "execution_count": 42,
     "metadata": {},
     "output_type": "execute_result"
    }
   ],
   "source": [
    "utilities.preprocess(np.array(sharp.counts), run_pca=False, scale=False)[0].shape"
   ]
  },
  {
   "cell_type": "code",
   "execution_count": 12,
   "id": "3fe2ba88",
   "metadata": {},
   "outputs": [
    {
     "data": {
      "text/plain": [
       "646"
      ]
     },
     "execution_count": 12,
     "metadata": {},
     "output_type": "execute_result"
    }
   ],
   "source": [
    "len(train_nodes)"
   ]
  },
  {
   "cell_type": "code",
   "execution_count": 13,
   "id": "3bd9795e",
   "metadata": {},
   "outputs": [
    {
     "data": {
      "text/plain": [
       "46"
      ]
     },
     "execution_count": 13,
     "metadata": {},
     "output_type": "execute_result"
    }
   ],
   "source": [
    "len(test_nodes)"
   ]
  },
  {
   "cell_type": "code",
   "execution_count": 22,
   "id": "2a0e4cfa",
   "metadata": {},
   "outputs": [
    {
     "name": "stderr",
     "output_type": "stream",
     "text": [
      "/home/users/lewinsda/.conda/envs/daniel_thesis_2/lib/python3.9/site-packages/captum/_utils/gradient.py:57: UserWarning: Input Tensor 0 did not already require gradients, required_grads has been set automatically.\n",
      "  warnings.warn(\n",
      "/home/users/lewinsda/.conda/envs/daniel_thesis_2/lib/python3.9/site-packages/captum/attr/_core/deep_lift.py:336: UserWarning: Setting forward, backward hooks and attributes on non-linear\n",
      "               activations. The hooks and attributes will be removed\n",
      "            after the attribution is finished\n",
      "  warnings.warn(\n"
     ]
    },
    {
     "data": {
      "text/html": [
       "<div>\n",
       "<style scoped>\n",
       "    .dataframe tbody tr th:only-of-type {\n",
       "        vertical-align: middle;\n",
       "    }\n",
       "\n",
       "    .dataframe tbody tr th {\n",
       "        vertical-align: top;\n",
       "    }\n",
       "\n",
       "    .dataframe thead th {\n",
       "        text-align: right;\n",
       "    }\n",
       "</style>\n",
       "<table border=\"1\" class=\"dataframe\">\n",
       "  <thead>\n",
       "    <tr style=\"text-align: right;\">\n",
       "      <th></th>\n",
       "      <th>spg</th>\n",
       "      <th>spc</th>\n",
       "      <th>spd</th>\n",
       "    </tr>\n",
       "  </thead>\n",
       "  <tbody>\n",
       "    <tr>\n",
       "      <th>Epsti1</th>\n",
       "      <td>0.000000e+00</td>\n",
       "      <td>0.000529</td>\n",
       "      <td>0.000370</td>\n",
       "    </tr>\n",
       "    <tr>\n",
       "      <th>Arsa</th>\n",
       "      <td>0.000000e+00</td>\n",
       "      <td>0.001621</td>\n",
       "      <td>0.000364</td>\n",
       "    </tr>\n",
       "    <tr>\n",
       "      <th>Dpp10</th>\n",
       "      <td>7.380076e-09</td>\n",
       "      <td>0.000547</td>\n",
       "      <td>0.000074</td>\n",
       "    </tr>\n",
       "    <tr>\n",
       "      <th>Pacrg</th>\n",
       "      <td>2.990805e-08</td>\n",
       "      <td>0.006169</td>\n",
       "      <td>0.013993</td>\n",
       "    </tr>\n",
       "  </tbody>\n",
       "</table>\n",
       "</div>"
      ],
      "text/plain": [
       "                 spg       spc       spd\n",
       "Epsti1  0.000000e+00  0.000529  0.000370\n",
       "Arsa    0.000000e+00  0.001621  0.000364\n",
       "Dpp10   7.380076e-09  0.000547  0.000074\n",
       "Pacrg   2.990805e-08  0.006169  0.013993"
      ]
     },
     "execution_count": 22,
     "metadata": {},
     "output_type": "execute_result"
    }
   ],
   "source": [
    "int_df = sharp.run_interpretation()\n",
    "\n",
    "int_df.columns = keys\n",
    "reorg_keys = [\"spg\",\"spc\",\"spd\"]\n",
    "int_df = int_df[reorg_keys]\n",
    "int_df = int_df.abs()\n",
    "#scale_int_df = pd.DataFrame(preprocessing.scale(int_df))\n",
    "#scale_int_df.columns = int_df.columns\n",
    "#scale_int_df.index = int_df.index\n",
    "int_df.sort_values(\"spg\", ascending=True).head(4)"
   ]
  },
  {
   "cell_type": "code",
   "execution_count": 15,
   "id": "d866c179",
   "metadata": {},
   "outputs": [
    {
     "data": {
      "text/html": [
       "<div>\n",
       "<style scoped>\n",
       "    .dataframe tbody tr th:only-of-type {\n",
       "        vertical-align: middle;\n",
       "    }\n",
       "\n",
       "    .dataframe tbody tr th {\n",
       "        vertical-align: top;\n",
       "    }\n",
       "\n",
       "    .dataframe thead th {\n",
       "        text-align: right;\n",
       "    }\n",
       "</style>\n",
       "<table border=\"1\" class=\"dataframe\">\n",
       "  <thead>\n",
       "    <tr style=\"text-align: right;\">\n",
       "      <th></th>\n",
       "      <th>spg</th>\n",
       "      <th>spc</th>\n",
       "      <th>spd</th>\n",
       "    </tr>\n",
       "  </thead>\n",
       "  <tbody>\n",
       "    <tr>\n",
       "      <th>Ldhc</th>\n",
       "      <td>0.001254</td>\n",
       "      <td>0.359617</td>\n",
       "      <td>0.038904</td>\n",
       "    </tr>\n",
       "    <tr>\n",
       "      <th>Ubb</th>\n",
       "      <td>0.015172</td>\n",
       "      <td>0.325208</td>\n",
       "      <td>0.083532</td>\n",
       "    </tr>\n",
       "    <tr>\n",
       "      <th>Fabp9</th>\n",
       "      <td>0.001195</td>\n",
       "      <td>0.307363</td>\n",
       "      <td>0.020371</td>\n",
       "    </tr>\n",
       "    <tr>\n",
       "      <th>Pabpc1</th>\n",
       "      <td>0.022872</td>\n",
       "      <td>0.282038</td>\n",
       "      <td>0.075385</td>\n",
       "    </tr>\n",
       "  </tbody>\n",
       "</table>\n",
       "</div>"
      ],
      "text/plain": [
       "             spg       spc       spd\n",
       "Ldhc    0.001254  0.359617  0.038904\n",
       "Ubb     0.015172  0.325208  0.083532\n",
       "Fabp9   0.001195  0.307363  0.020371\n",
       "Pabpc1  0.022872  0.282038  0.075385"
      ]
     },
     "execution_count": 15,
     "metadata": {},
     "output_type": "execute_result"
    }
   ],
   "source": [
    "int_df.sort_values(\"spc\", ascending=False).head(4)"
   ]
  },
  {
   "cell_type": "code",
   "execution_count": 27,
   "id": "7b6b4866",
   "metadata": {},
   "outputs": [
    {
     "data": {
      "text/html": [
       "<div>\n",
       "<style scoped>\n",
       "    .dataframe tbody tr th:only-of-type {\n",
       "        vertical-align: middle;\n",
       "    }\n",
       "\n",
       "    .dataframe tbody tr th {\n",
       "        vertical-align: top;\n",
       "    }\n",
       "\n",
       "    .dataframe thead th {\n",
       "        text-align: right;\n",
       "    }\n",
       "</style>\n",
       "<table border=\"1\" class=\"dataframe\">\n",
       "  <thead>\n",
       "    <tr style=\"text-align: right;\">\n",
       "      <th></th>\n",
       "      <th>spg</th>\n",
       "      <th>spc</th>\n",
       "      <th>spd</th>\n",
       "    </tr>\n",
       "  </thead>\n",
       "  <tbody>\n",
       "    <tr>\n",
       "      <th>mt-Rnr2</th>\n",
       "      <td>0.195222</td>\n",
       "      <td>0.067471</td>\n",
       "      <td>-0.115733</td>\n",
       "    </tr>\n",
       "    <tr>\n",
       "      <th>Ubb</th>\n",
       "      <td>-0.015172</td>\n",
       "      <td>0.325207</td>\n",
       "      <td>-0.083532</td>\n",
       "    </tr>\n",
       "    <tr>\n",
       "      <th>Pabpc1</th>\n",
       "      <td>0.022872</td>\n",
       "      <td>0.282038</td>\n",
       "      <td>-0.075385</td>\n",
       "    </tr>\n",
       "    <tr>\n",
       "      <th>Calm3</th>\n",
       "      <td>-0.002296</td>\n",
       "      <td>0.165008</td>\n",
       "      <td>-0.053767</td>\n",
       "    </tr>\n",
       "  </tbody>\n",
       "</table>\n",
       "</div>"
      ],
      "text/plain": [
       "              spg       spc       spd\n",
       "mt-Rnr2  0.195222  0.067471 -0.115733\n",
       "Ubb     -0.015172  0.325207 -0.083532\n",
       "Pabpc1   0.022872  0.282038 -0.075385\n",
       "Calm3   -0.002296  0.165008 -0.053767"
      ]
     },
     "execution_count": 27,
     "metadata": {},
     "output_type": "execute_result"
    }
   ],
   "source": [
    "int_df.sort_values(\"spd\", ascending=True).head(4)"
   ]
  },
  {
   "cell_type": "code",
   "execution_count": 27,
   "id": "a8c25f7a",
   "metadata": {},
   "outputs": [
    {
     "data": {
      "text/plain": [
       "[Text(0.5, 15.0, 'Cell Type')]"
      ]
     },
     "execution_count": 27,
     "metadata": {},
     "output_type": "execute_result"
    },
    {
     "data": {
      "image/png": "[encoded data removed]",
      "text/plain": [
       "<Figure size 432x288 with 2 Axes>"
      ]
     },
     "metadata": {
      "needs_background": "light"
     },
     "output_type": "display_data"
    }
   ],
   "source": [
    "markers = ['Dazl','Sycp1','Insl6','Piwil1','Pttg1','Spag6','Mllt10','Aurka','Spaca1','Tssk6','Acrv1','Tsga8']\n",
    "ax = sns.heatmap(scale_int_df.loc[markers,:])\n",
    "ax.set(xlabel=\"Cell Type\")\n",
    "#ax.legend()"
   ]
  },
  {
   "cell_type": "code",
   "execution_count": 29,
   "id": "4d902e92",
   "metadata": {},
   "outputs": [
    {
     "data": {
      "text/html": [
       "<div>\n",
       "<style scoped>\n",
       "    .dataframe tbody tr th:only-of-type {\n",
       "        vertical-align: middle;\n",
       "    }\n",
       "\n",
       "    .dataframe tbody tr th {\n",
       "        vertical-align: top;\n",
       "    }\n",
       "\n",
       "    .dataframe thead th {\n",
       "        text-align: right;\n",
       "    }\n",
       "</style>\n",
       "<table border=\"1\" class=\"dataframe\">\n",
       "  <thead>\n",
       "    <tr style=\"text-align: right;\">\n",
       "      <th></th>\n",
       "      <th>spg</th>\n",
       "      <th>spc</th>\n",
       "      <th>spd</th>\n",
       "    </tr>\n",
       "  </thead>\n",
       "  <tbody>\n",
       "    <tr>\n",
       "      <th>mt-Rnr2</th>\n",
       "      <td>0.195222</td>\n",
       "      <td>0.067471</td>\n",
       "      <td>0.115733</td>\n",
       "    </tr>\n",
       "    <tr>\n",
       "      <th>Ncl</th>\n",
       "      <td>0.125735</td>\n",
       "      <td>0.003162</td>\n",
       "      <td>0.000732</td>\n",
       "    </tr>\n",
       "    <tr>\n",
       "      <th>Hsp90ab1</th>\n",
       "      <td>0.112324</td>\n",
       "      <td>0.012471</td>\n",
       "      <td>0.007344</td>\n",
       "    </tr>\n",
       "    <tr>\n",
       "      <th>Dazl</th>\n",
       "      <td>0.097737</td>\n",
       "      <td>0.002462</td>\n",
       "      <td>0.000819</td>\n",
       "    </tr>\n",
       "    <tr>\n",
       "      <th>Rpl4</th>\n",
       "      <td>0.065305</td>\n",
       "      <td>0.007706</td>\n",
       "      <td>0.008306</td>\n",
       "    </tr>\n",
       "    <tr>\n",
       "      <th>Prrc2c</th>\n",
       "      <td>0.064586</td>\n",
       "      <td>0.002241</td>\n",
       "      <td>0.002643</td>\n",
       "    </tr>\n",
       "    <tr>\n",
       "      <th>Anp32b</th>\n",
       "      <td>0.063572</td>\n",
       "      <td>0.003314</td>\n",
       "      <td>0.000575</td>\n",
       "    </tr>\n",
       "    <tr>\n",
       "      <th>Tpr</th>\n",
       "      <td>0.060133</td>\n",
       "      <td>0.006498</td>\n",
       "      <td>0.002226</td>\n",
       "    </tr>\n",
       "    <tr>\n",
       "      <th>Serbp1</th>\n",
       "      <td>0.054149</td>\n",
       "      <td>0.009940</td>\n",
       "      <td>0.002583</td>\n",
       "    </tr>\n",
       "    <tr>\n",
       "      <th>Pdap1</th>\n",
       "      <td>0.053790</td>\n",
       "      <td>0.000545</td>\n",
       "      <td>0.000834</td>\n",
       "    </tr>\n",
       "  </tbody>\n",
       "</table>\n",
       "</div>"
      ],
      "text/plain": [
       "               spg       spc       spd\n",
       "mt-Rnr2   0.195222  0.067471  0.115733\n",
       "Ncl       0.125735  0.003162  0.000732\n",
       "Hsp90ab1  0.112324  0.012471  0.007344\n",
       "Dazl      0.097737  0.002462  0.000819\n",
       "Rpl4      0.065305  0.007706  0.008306\n",
       "Prrc2c    0.064586  0.002241  0.002643\n",
       "Anp32b    0.063572  0.003314  0.000575\n",
       "Tpr       0.060133  0.006498  0.002226\n",
       "Serbp1    0.054149  0.009940  0.002583\n",
       "Pdap1     0.053790  0.000545  0.000834"
      ]
     },
     "execution_count": 29,
     "metadata": {},
     "output_type": "execute_result"
    }
   ],
   "source": [
    "int_df.sort_values(\"spg\", ascending=False).head(10)"
   ]
  },
  {
   "cell_type": "code",
   "execution_count": 43,
   "id": "1b10df26",
   "metadata": {},
   "outputs": [
    {
     "data": {
      "text/html": [
       "<div>\n",
       "<style scoped>\n",
       "    .dataframe tbody tr th:only-of-type {\n",
       "        vertical-align: middle;\n",
       "    }\n",
       "\n",
       "    .dataframe tbody tr th {\n",
       "        vertical-align: top;\n",
       "    }\n",
       "\n",
       "    .dataframe thead th {\n",
       "        text-align: right;\n",
       "    }\n",
       "</style>\n",
       "<table border=\"1\" class=\"dataframe\">\n",
       "  <thead>\n",
       "    <tr style=\"text-align: right;\">\n",
       "      <th></th>\n",
       "      <th>spg</th>\n",
       "      <th>spc</th>\n",
       "      <th>spd</th>\n",
       "    </tr>\n",
       "  </thead>\n",
       "  <tbody>\n",
       "    <tr>\n",
       "      <th>Ldhc</th>\n",
       "      <td>0.001254</td>\n",
       "      <td>0.359617</td>\n",
       "      <td>0.038904</td>\n",
       "    </tr>\n",
       "    <tr>\n",
       "      <th>Ubb</th>\n",
       "      <td>0.015172</td>\n",
       "      <td>0.325208</td>\n",
       "      <td>0.083532</td>\n",
       "    </tr>\n",
       "    <tr>\n",
       "      <th>Fabp9</th>\n",
       "      <td>0.001195</td>\n",
       "      <td>0.307363</td>\n",
       "      <td>0.020371</td>\n",
       "    </tr>\n",
       "    <tr>\n",
       "      <th>Pabpc1</th>\n",
       "      <td>0.022872</td>\n",
       "      <td>0.282038</td>\n",
       "      <td>0.075385</td>\n",
       "    </tr>\n",
       "    <tr>\n",
       "      <th>Meig1</th>\n",
       "      <td>0.001429</td>\n",
       "      <td>0.248299</td>\n",
       "      <td>0.018715</td>\n",
       "    </tr>\n",
       "    <tr>\n",
       "      <th>Calm2</th>\n",
       "      <td>0.024387</td>\n",
       "      <td>0.242530</td>\n",
       "      <td>0.010826</td>\n",
       "    </tr>\n",
       "    <tr>\n",
       "      <th>Calm1</th>\n",
       "      <td>0.003014</td>\n",
       "      <td>0.218585</td>\n",
       "      <td>0.036050</td>\n",
       "    </tr>\n",
       "    <tr>\n",
       "      <th>Tuba3b</th>\n",
       "      <td>0.009845</td>\n",
       "      <td>0.203809</td>\n",
       "      <td>0.038230</td>\n",
       "    </tr>\n",
       "    <tr>\n",
       "      <th>Lyar</th>\n",
       "      <td>0.005533</td>\n",
       "      <td>0.201819</td>\n",
       "      <td>0.049424</td>\n",
       "    </tr>\n",
       "    <tr>\n",
       "      <th>Morf4l1</th>\n",
       "      <td>0.004483</td>\n",
       "      <td>0.194731</td>\n",
       "      <td>0.038400</td>\n",
       "    </tr>\n",
       "  </tbody>\n",
       "</table>\n",
       "</div>"
      ],
      "text/plain": [
       "              spg       spc       spd\n",
       "Ldhc     0.001254  0.359617  0.038904\n",
       "Ubb      0.015172  0.325208  0.083532\n",
       "Fabp9    0.001195  0.307363  0.020371\n",
       "Pabpc1   0.022872  0.282038  0.075385\n",
       "Meig1    0.001429  0.248299  0.018715\n",
       "Calm2    0.024387  0.242530  0.010826\n",
       "Calm1    0.003014  0.218585  0.036050\n",
       "Tuba3b   0.009845  0.203809  0.038230\n",
       "Lyar     0.005533  0.201819  0.049424\n",
       "Morf4l1  0.004483  0.194731  0.038400"
      ]
     },
     "execution_count": 43,
     "metadata": {},
     "output_type": "execute_result"
    }
   ],
   "source": [
    "int_df.sort_values(\"spc\", ascending=False).head(10)"
   ]
  },
  {
   "cell_type": "code",
   "execution_count": 44,
   "id": "08f694af",
   "metadata": {},
   "outputs": [
    {
     "data": {
      "text/html": [
       "<div>\n",
       "<style scoped>\n",
       "    .dataframe tbody tr th:only-of-type {\n",
       "        vertical-align: middle;\n",
       "    }\n",
       "\n",
       "    .dataframe tbody tr th {\n",
       "        vertical-align: top;\n",
       "    }\n",
       "\n",
       "    .dataframe thead th {\n",
       "        text-align: right;\n",
       "    }\n",
       "</style>\n",
       "<table border=\"1\" class=\"dataframe\">\n",
       "  <thead>\n",
       "    <tr style=\"text-align: right;\">\n",
       "      <th></th>\n",
       "      <th>spg</th>\n",
       "      <th>spc</th>\n",
       "      <th>spd</th>\n",
       "    </tr>\n",
       "  </thead>\n",
       "  <tbody>\n",
       "    <tr>\n",
       "      <th>Tnp1</th>\n",
       "      <td>0.001038</td>\n",
       "      <td>0.112190</td>\n",
       "      <td>0.344952</td>\n",
       "    </tr>\n",
       "    <tr>\n",
       "      <th>Smcp</th>\n",
       "      <td>0.000645</td>\n",
       "      <td>0.083822</td>\n",
       "      <td>0.249083</td>\n",
       "    </tr>\n",
       "    <tr>\n",
       "      <th>Tsga8</th>\n",
       "      <td>0.000052</td>\n",
       "      <td>0.020645</td>\n",
       "      <td>0.129156</td>\n",
       "    </tr>\n",
       "    <tr>\n",
       "      <th>Dbil5</th>\n",
       "      <td>0.000642</td>\n",
       "      <td>0.042772</td>\n",
       "      <td>0.128397</td>\n",
       "    </tr>\n",
       "    <tr>\n",
       "      <th>Gm9999</th>\n",
       "      <td>0.000080</td>\n",
       "      <td>0.021477</td>\n",
       "      <td>0.119774</td>\n",
       "    </tr>\n",
       "    <tr>\n",
       "      <th>mt-Rnr2</th>\n",
       "      <td>0.195222</td>\n",
       "      <td>0.067471</td>\n",
       "      <td>0.115733</td>\n",
       "    </tr>\n",
       "    <tr>\n",
       "      <th>Acrv1</th>\n",
       "      <td>0.000350</td>\n",
       "      <td>0.035392</td>\n",
       "      <td>0.105225</td>\n",
       "    </tr>\n",
       "    <tr>\n",
       "      <th>Ccdc136</th>\n",
       "      <td>0.005704</td>\n",
       "      <td>0.086988</td>\n",
       "      <td>0.095432</td>\n",
       "    </tr>\n",
       "    <tr>\n",
       "      <th>Fam229a</th>\n",
       "      <td>0.000545</td>\n",
       "      <td>0.018937</td>\n",
       "      <td>0.094873</td>\n",
       "    </tr>\n",
       "    <tr>\n",
       "      <th>D830044I16Rik</th>\n",
       "      <td>0.000266</td>\n",
       "      <td>0.017218</td>\n",
       "      <td>0.088024</td>\n",
       "    </tr>\n",
       "  </tbody>\n",
       "</table>\n",
       "</div>"
      ],
      "text/plain": [
       "                    spg       spc       spd\n",
       "Tnp1           0.001038  0.112190  0.344952\n",
       "Smcp           0.000645  0.083822  0.249083\n",
       "Tsga8          0.000052  0.020645  0.129156\n",
       "Dbil5          0.000642  0.042772  0.128397\n",
       "Gm9999         0.000080  0.021477  0.119774\n",
       "mt-Rnr2        0.195222  0.067471  0.115733\n",
       "Acrv1          0.000350  0.035392  0.105225\n",
       "Ccdc136        0.005704  0.086988  0.095432\n",
       "Fam229a        0.000545  0.018937  0.094873\n",
       "D830044I16Rik  0.000266  0.017218  0.088024"
      ]
     },
     "execution_count": 44,
     "metadata": {},
     "output_type": "execute_result"
    }
   ],
   "source": [
    "int_df.sort_values(\"spd\", ascending=False).head(10)"
   ]
  },
  {
   "cell_type": "code",
   "execution_count": 28,
   "id": "18481788",
   "metadata": {},
   "outputs": [
    {
     "data": {
      "text/plain": [
       "[Text(0.5, 15.0, 'Cell Type')]"
      ]
     },
     "execution_count": 28,
     "metadata": {},
     "output_type": "execute_result"
    },
    {
     "data": {
      "image/png": "[encoded data removed]",
      "text/plain": [
       "<Figure size 432x288 with 2 Axes>"
      ]
     },
     "metadata": {
      "needs_background": "light"
     },
     "output_type": "display_data"
    }
   ],
   "source": [
    "#int_df = sharp.run_interpretation()\n",
    "\n",
    "#int_df.columns = keys\n",
    "#reorg_keys = [\"spg\",\"spc\",\"spd\"]\n",
    "#int_df = int_df[reorg_keys]\n",
    "#int_df = int_df.abs()\n",
    "keep_genes = int_df.sort_values(\"spg\", ascending=False).head(4).index.tolist()\n",
    "keep_genes += int_df.sort_values(\"spc\", ascending=False).head(4).index.tolist()\n",
    "keep_genes += int_df.sort_values(\"spd\", ascending=False).head(4).index.tolist()\n",
    "ax = sns.heatmap(int_df.loc[keep_genes,:])\n",
    "ax.set(xlabel=\"Cell Type\")"
   ]
  },
  {
   "cell_type": "code",
   "execution_count": 16,
   "id": "5de88db1",
   "metadata": {},
   "outputs": [
    {
     "data": {
      "text/plain": [
       "spg    0.001166\n",
       "spc    0.008381\n",
       "spd    0.000387\n",
       "Name: Aurka, dtype: float64"
      ]
     },
     "execution_count": 16,
     "metadata": {},
     "output_type": "execute_result"
    }
   ],
   "source": [
    "int_df.loc[\"Aurka\"]"
   ]
  },
  {
   "cell_type": "code",
   "execution_count": 17,
   "id": "8e44f0fa",
   "metadata": {},
   "outputs": [
    {
     "data": {
      "text/html": [
       "<div>\n",
       "<style scoped>\n",
       "    .dataframe tbody tr th:only-of-type {\n",
       "        vertical-align: middle;\n",
       "    }\n",
       "\n",
       "    .dataframe tbody tr th {\n",
       "        vertical-align: top;\n",
       "    }\n",
       "\n",
       "    .dataframe thead th {\n",
       "        text-align: right;\n",
       "    }\n",
       "</style>\n",
       "<table border=\"1\" class=\"dataframe\">\n",
       "  <thead>\n",
       "    <tr style=\"text-align: right;\">\n",
       "      <th></th>\n",
       "      <th>spg</th>\n",
       "      <th>spc</th>\n",
       "      <th>spd</th>\n",
       "    </tr>\n",
       "  </thead>\n",
       "  <tbody>\n",
       "    <tr>\n",
       "      <th>Ldhc</th>\n",
       "      <td>0.001254</td>\n",
       "      <td>0.359617</td>\n",
       "      <td>0.038904</td>\n",
       "    </tr>\n",
       "    <tr>\n",
       "      <th>Ubb</th>\n",
       "      <td>0.015172</td>\n",
       "      <td>0.325207</td>\n",
       "      <td>0.083532</td>\n",
       "    </tr>\n",
       "    <tr>\n",
       "      <th>Fabp9</th>\n",
       "      <td>0.001195</td>\n",
       "      <td>0.307363</td>\n",
       "      <td>0.020371</td>\n",
       "    </tr>\n",
       "    <tr>\n",
       "      <th>Pabpc1</th>\n",
       "      <td>0.022872</td>\n",
       "      <td>0.282038</td>\n",
       "      <td>0.075385</td>\n",
       "    </tr>\n",
       "    <tr>\n",
       "      <th>Meig1</th>\n",
       "      <td>0.001429</td>\n",
       "      <td>0.248299</td>\n",
       "      <td>0.018715</td>\n",
       "    </tr>\n",
       "    <tr>\n",
       "      <th>Calm2</th>\n",
       "      <td>0.024387</td>\n",
       "      <td>0.242530</td>\n",
       "      <td>0.010826</td>\n",
       "    </tr>\n",
       "    <tr>\n",
       "      <th>Calm1</th>\n",
       "      <td>0.003014</td>\n",
       "      <td>0.218585</td>\n",
       "      <td>0.036050</td>\n",
       "    </tr>\n",
       "    <tr>\n",
       "      <th>Tuba3b</th>\n",
       "      <td>0.009845</td>\n",
       "      <td>0.203808</td>\n",
       "      <td>0.038230</td>\n",
       "    </tr>\n",
       "    <tr>\n",
       "      <th>Lyar</th>\n",
       "      <td>0.005533</td>\n",
       "      <td>0.201818</td>\n",
       "      <td>0.049424</td>\n",
       "    </tr>\n",
       "    <tr>\n",
       "      <th>Morf4l1</th>\n",
       "      <td>0.004483</td>\n",
       "      <td>0.194731</td>\n",
       "      <td>0.038400</td>\n",
       "    </tr>\n",
       "  </tbody>\n",
       "</table>\n",
       "</div>"
      ],
      "text/plain": [
       "              spg       spc       spd\n",
       "Ldhc     0.001254  0.359617  0.038904\n",
       "Ubb      0.015172  0.325207  0.083532\n",
       "Fabp9    0.001195  0.307363  0.020371\n",
       "Pabpc1   0.022872  0.282038  0.075385\n",
       "Meig1    0.001429  0.248299  0.018715\n",
       "Calm2    0.024387  0.242530  0.010826\n",
       "Calm1    0.003014  0.218585  0.036050\n",
       "Tuba3b   0.009845  0.203808  0.038230\n",
       "Lyar     0.005533  0.201818  0.049424\n",
       "Morf4l1  0.004483  0.194731  0.038400"
      ]
     },
     "execution_count": 17,
     "metadata": {},
     "output_type": "execute_result"
    }
   ],
   "source": [
    "#spc,Insl6,Piwil1,Pttg1,Spag6,Mllt10,Aurka\n",
    "keep_genes = int_df.sort_values(\"spc\", ascending=False).head(10).index.tolist()\n",
    "#keep_genes = int_df.sort_values(\"spd\", ascending=False).head(10).index.tolist()\n",
    "#keep_genes = int_df.sort_values(\"spg\", ascending=False).head(10).index.tolist()\n",
    "int_df.loc[keep_genes,:]"
   ]
  },
  {
   "cell_type": "code",
   "execution_count": 23,
   "id": "dcb425b7",
   "metadata": {},
   "outputs": [],
   "source": [
    "umap_embedding = pd.read_csv(\"/home/groups/ConradLab/daniel/sharp_data/jung/umap_embedding.csv\", index_col=0)\n",
    "umap_embedding['real labels'] = pd.read_csv(\"/home/groups/ConradLab/daniel/sharp_data/jung/labels.csv\", index_col=0).iloc[:,0]\n",
    "\n",
    "umap_embedding['confident labels'] = sharp.confident_labels\n",
    "map_dict = {-1:\"unknown\", 0:\"spc\", 1:\"spd\", 2:\"spg\"}\n",
    "umap_embedding['confident labels'] = umap_embedding[\"confident labels\"].map(map_dict)"
   ]
  },
  {
   "cell_type": "code",
   "execution_count": 24,
   "id": "ecd59dd0",
   "metadata": {},
   "outputs": [
    {
     "data": {
      "text/plain": [
       "<AxesSubplot:xlabel='UMAP_1', ylabel='UMAP_2'>"
      ]
     },
     "execution_count": 24,
     "metadata": {},
     "output_type": "execute_result"
    },
    {
     "data": {
      "image/png": "[encoded data removed]",
      "text/plain": [
       "<Figure size 432x288 with 1 Axes>"
      ]
     },
     "metadata": {
      "needs_background": "light"
     },
     "output_type": "display_data"
    }
   ],
   "source": [
    "sns.scatterplot(data=umap_embedding, x=\"UMAP_1\", y=\"UMAP_2\", hue=\"real labels\", s=6,  palette=dict(spg='#db5f57', spd=\"#d3db57\", spc = \"#57db5f\"))"
   ]
  },
  {
   "cell_type": "code",
   "execution_count": 26,
   "id": "af2f0f36",
   "metadata": {},
   "outputs": [
    {
     "data": {
      "text/plain": [
       "<AxesSubplot:xlabel='UMAP_1', ylabel='UMAP_2'>"
      ]
     },
     "execution_count": 26,
     "metadata": {},
     "output_type": "execute_result"
    },
    {
     "data": {
      "image/png": "[encoded data removed]",
      "text/plain": [
       "<Figure size 432x288 with 1 Axes>"
      ]
     },
     "metadata": {
      "needs_background": "light"
     },
     "output_type": "display_data"
    }
   ],
   "source": [
    "sns.scatterplot(data=umap_embedding, x=\"UMAP_1\", y=\"UMAP_2\", hue=\"confident labels\", s=6,  palette=dict(spg='#db5f57', spd=\"#d3db57\", spc = \"#57db5f\", unknown='#5f57db'))"
   ]
  }
 ],
 "metadata": {
  "kernelspec": {
   "display_name": "daniel_thesis",
   "language": "python",
   "name": "daniel_thesis_2"
  },
  "language_info": {
   "codemirror_mode": {
    "name": "ipython",
    "version": 3
   },
   "file_extension": ".py",
   "mimetype": "text/x-python",
   "name": "python",
   "nbconvert_exporter": "python",
   "pygments_lexer": "ipython3",
   "version": "3.9.7"
  }
 },
 "nbformat": 4,
 "nbformat_minor": 5
}
