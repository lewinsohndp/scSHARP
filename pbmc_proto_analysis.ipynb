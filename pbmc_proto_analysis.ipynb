{
 "cells": [
  {
   "cell_type": "code",
   "execution_count": 1,
   "id": "ccb02cf4",
   "metadata": {},
   "outputs": [
    {
     "name": "stderr",
     "output_type": "stream",
     "text": [
      "/home/users/lewinsda/.conda/envs/daniel_thesis_2/lib/python3.9/site-packages/tqdm/auto.py:22: TqdmWarning: IProgress not found. Please update jupyter and ipywidgets. See https://ipywidgets.readthedocs.io/en/stable/user_install.html\n",
      "  from .autonotebook import tqdm as notebook_tqdm\n"
     ]
    }
   ],
   "source": [
    "import numpy as np\n",
    "import pandas as pd\n",
    "import torch\n",
    "from gcn_model import GCNModel\n",
    "import utilities\n",
    "from test_model import test_model\n",
    "import os\n",
    "import statistics\n",
    "import matplotlib.pyplot as plt\n",
    "from sklearn.metrics import confusion_matrix\n",
    "import seaborn as sns"
   ]
  },
  {
   "cell_type": "code",
   "execution_count": 3,
   "id": "f5984eee",
   "metadata": {},
   "outputs": [
    {
     "name": "stdout",
     "output_type": "stream",
     "text": [
      "(4733, 32738)\n",
      "(4733, 1)\n",
      "(463, 1)\n",
      "(4270, 1)\n",
      "(4270, 32738)\n"
     ]
    }
   ],
   "source": [
    "#remove cd34 cells\n",
    "ref_labels = pd.read_csv(\"/home/groups/ConradLab/daniel/sharp_data/pbmc_proto/ref_labels.csv\", index_col=0)\n",
    "ref_counts = pd.read_csv(\"/home/groups/ConradLab/daniel/sharp_data/pbmc_proto/ref.csv\", index_col=0)\n",
    "print(ref_counts.shape)\n",
    "print(ref_labels.shape)\n",
    "print(ref_labels[ref_labels.labels==\"cd34\"].shape)\n",
    "ref_counts = ref_counts.drop(ref_labels[ref_labels.labels==\"cd34\"].index)\n",
    "ref_labels = ref_labels.drop(ref_labels[ref_labels.labels==\"cd34\"].index)\n",
    "ref_counts.columns = ref_counts.columns.str.split(\"\\t\").str[1]\n",
    "print(ref_labels.shape)\n",
    "print(ref_counts.shape)\n",
    "ref_labels.to_csv(\"/home/groups/ConradLab/daniel/sharp_data/pbmc_proto/ref_labels.csv\")\n",
    "ref_counts.to_csv(\"/home/groups/ConradLab/daniel/sharp_data/pbmc_proto/ref.csv\")"
   ]
  },
  {
   "cell_type": "code",
   "execution_count": 4,
   "id": "1abe4b68",
   "metadata": {},
   "outputs": [
    {
     "name": "stdout",
     "output_type": "stream",
     "text": [
      "(4733, 32738)\n",
      "(4733, 1)\n",
      "(486, 1)\n",
      "(4247, 1)\n",
      "(4247, 32738)\n"
     ]
    }
   ],
   "source": [
    "#remove cd34 cells\n",
    "query_labels = pd.read_csv(\"/home/groups/ConradLab/daniel/sharp_data/pbmc_proto/query_labels.csv\", index_col=0)\n",
    "query_counts = pd.read_csv(\"/home/groups/ConradLab/daniel/sharp_data/pbmc_proto/query.csv\", index_col=0)\n",
    "print(query_counts.shape)\n",
    "print(query_labels.shape)\n",
    "print(query_labels[query_labels.labels==\"cd34\"].shape)\n",
    "query_counts = query_counts.drop(query_labels[query_labels.labels==\"cd34\"].index)\n",
    "query_labels = query_labels.drop(query_labels[query_labels.labels==\"cd34\"].index)\n",
    "query_counts.columns = query_counts.columns.str.split(\"\\t\").str[1]\n",
    "print(query_labels.shape)\n",
    "print(query_counts.shape)\n",
    "query_labels.to_csv(\"/home/groups/ConradLab/daniel/sharp_data/pbmc_proto/query_labels.csv\")\n",
    "query_counts.to_csv(\"/home/groups/ConradLab/daniel/sharp_data/pbmc_proto/query.csv\")"
   ]
  },
  {
   "cell_type": "code",
   "execution_count": 12,
   "id": "0e09f89c",
   "metadata": {
    "scrolled": true
   },
   "outputs": [
    {
     "name": "stdout",
     "output_type": "stream",
     "text": [
      "['b_cells' 'cytotoxic_t' 'regulatory_t' 'cd4_t_helper' 'naive_cytotoxic'\n",
      " 'cd56_nk' 'memory_t' 'naive_t' 'cd14_monocytes']\n",
      "['b_cells' 't_cell' 'cd56_nk' 'cd14_monocytes']\n"
     ]
    }
   ],
   "source": [
    "ref_labels = pd.read_csv(\"/home/groups/ConradLab/daniel/sharp_data/pbmc_proto/ref_labels.csv\", index_col=0)\n",
    "print(ref_labels['labels'].unique())\n",
    "ref_labels['labels'] = ref_labels['labels'].replace(\"cytotoxic_t\",\"t_cell\")\n",
    "ref_labels['labels'] = ref_labels['labels'].replace(\"regulatory_t\",\"t_cell\")\n",
    "ref_labels['labels'] = ref_labels['labels'].replace(\"cd4_t_helper\",\"t_cell\")\n",
    "ref_labels['labels'] = ref_labels['labels'].replace(\"naive_cytotoxic\",\"t_cell\")\n",
    "ref_labels['labels'] = ref_labels['labels'].replace(\"memory_t\",\"t_cell\")\n",
    "ref_labels['labels'] = ref_labels['labels'].replace(\"naive_t\",\"t_cell\")\n",
    "print(ref_labels['labels'].unique())\n",
    "ref_labels.to_csv(\"/home/groups/ConradLab/daniel/sharp_data/pbmc_proto/ref_labels_tcombined.csv\")"
   ]
  },
  {
   "cell_type": "code",
   "execution_count": 13,
   "id": "426c5d00",
   "metadata": {},
   "outputs": [
    {
     "name": "stdout",
     "output_type": "stream",
     "text": [
      "['cytotoxic_t' 'naive_cytotoxic' 'cd56_nk' 'b_cells' 'naive_t' 'memory_t'\n",
      " 'regulatory_t' 'cd4_t_helper' 'cd14_monocytes']\n",
      "['t_cell' 'cd56_nk' 'b_cells' 'cd14_monocytes']\n"
     ]
    }
   ],
   "source": [
    "query_labels = pd.read_csv(\"/home/groups/ConradLab/daniel/sharp_data/pbmc_proto/query_labels.csv\", index_col=0)\n",
    "print(query_labels['labels'].unique())\n",
    "query_labels['labels'] = query_labels['labels'].replace(\"cytotoxic_t\",\"t_cell\")\n",
    "query_labels['labels'] = query_labels['labels'].replace(\"regulatory_t\",\"t_cell\")\n",
    "query_labels['labels'] = query_labels['labels'].replace(\"cd4_t_helper\",\"t_cell\")\n",
    "query_labels['labels'] = query_labels['labels'].replace(\"naive_cytotoxic\",\"t_cell\")\n",
    "query_labels['labels'] = query_labels['labels'].replace(\"memory_t\",\"t_cell\")\n",
    "query_labels['labels'] = query_labels['labels'].replace(\"naive_t\",\"t_cell\")\n",
    "print(query_labels['labels'].unique())\n",
    "query_labels.to_csv(\"/home/groups/ConradLab/daniel/sharp_data/pbmc_proto/query_labels_tcombined.csv\")"
   ]
  },
  {
   "cell_type": "code",
   "execution_count": 8,
   "id": "ffa13e5b",
   "metadata": {},
   "outputs": [],
   "source": [
    "# check no overlap with held out set\n",
    "ref_ids = pd.read_csv(\"/home/groups/ConradLab/daniel/sharp_data/pbmc_proto/ref_labels.csv\", index_col=0).index\n",
    "query_ids = pd.read_csv(\"/home/groups/ConradLab/daniel/sharp_data/pbmc_proto/query_labels.csv\", index_col=0).index\n",
    "big_ids = pd.read_csv(\"/home/groups/ConradLab/daniel/sharp_data/pbmc_10x/bigger_split_labels.csv\", index_col=0).index"
   ]
  },
  {
   "cell_type": "code",
   "execution_count": 9,
   "id": "8447c805",
   "metadata": {},
   "outputs": [
    {
     "name": "stdout",
     "output_type": "stream",
     "text": [
      "False\n",
      "False\n",
      "False\n"
     ]
    }
   ],
   "source": [
    "print(ref_ids.isin(big_ids).any())\n",
    "print(query_ids.isin(big_ids).any())\n",
    "print(query_ids.isin(ref_ids).any())"
   ]
  },
  {
   "cell_type": "code",
   "execution_count": 10,
   "id": "6f7bf487",
   "metadata": {},
   "outputs": [
    {
     "data": {
      "text/plain": [
       "True"
      ]
     },
     "execution_count": 10,
     "metadata": {},
     "output_type": "execute_result"
    }
   ],
   "source": [
    "ref_counts.columns.isin([\"CD8B\"]).any()"
   ]
  },
  {
   "cell_type": "code",
   "execution_count": 22,
   "id": "52051678",
   "metadata": {},
   "outputs": [
    {
     "name": "stdout",
     "output_type": "stream",
     "text": [
      "Index(['b_cells', 'cd14_monocytes', 'cd4_t_cell', 'cd56_nk', 'cd8_t_cell'], dtype='object')\n"
     ]
    }
   ],
   "source": [
    "data_folder = \"/home/groups/ConradLab/daniel/sharp_data/pbmc_proto/\"\n",
    "# get labels\n",
    "data_path = data_folder + \"query.csv\"\n",
    "tools = [\"sctype\",\"scsorter\",\"scina\",\"singler\", \"scpred\"]\n",
    "#tools = [\"scsorter\",\"scina\",\"sctype\"]\n",
    "ref_path = data_folder + \"ref.csv\"\n",
    "ref_label_path = data_folder + \"ref_labels_tcombined.csv\"\n",
    "marker_path = data_folder + \"markers_cd4-8.txt\"\n",
    "if os.path.exists(data_folder + \"preds_3kref_cd4-8.csv\"):\n",
    "    all_labels = pd.read_csv(data_folder + \"preds_3kref_cd4-8.csv\", index_col=0)\n",
    "    if all_labels.shape[1] != len(tools): \n",
    "        all_labels = all_labels[tools]\n",
    "        #raise Exception(\"wrong amount of tools in file\")\n",
    "else:\n",
    "    all_labels = utilities.label_counts(data_path,tools,ref_path,ref_label_path,marker_path)\n",
    "\n",
    "# read in dataset\n",
    "counts = pd.read_csv(data_path, index_col=0)\n",
    "X, keep_cells, keep_genes, pca_obj = utilities.preprocess(np.array(counts), scale=False, comps=500)\n",
    "\n",
    "all_labels = all_labels.loc[keep_cells,:]\n",
    "\n",
    "_,marker_names = utilities.read_marker_file(marker_path)\n",
    "\n",
    "all_labels_factored = utilities.factorize_df(all_labels, marker_names)\n",
    "encoded_labels = utilities.encode_predictions(all_labels_factored)\n",
    "\n",
    "confident_labels = utilities.get_consensus_labels(encoded_labels, necessary_vote = .51)\n",
    "\n",
    "meta_path = data_folder + \"query_labels_cd4-8.csv\"\n",
    "metadata = pd.read_csv(meta_path, index_col=0)\n",
    "real_y,cell_names = pd.factorize(metadata['labels'], sort=True)\n",
    "real_y = real_y[keep_cells]\n",
    "\n",
    "train_nodes = np.where(confident_labels != -1)[0]\n",
    "test_nodes = np.where(confident_labels == -1)[0]\n",
    "print(cell_names)"
   ]
  },
  {
   "cell_type": "code",
   "execution_count": 23,
   "id": "cdd83d8b",
   "metadata": {},
   "outputs": [
    {
     "data": {
      "text/plain": [
       "99"
      ]
     },
     "execution_count": 23,
     "metadata": {},
     "output_type": "execute_result"
    }
   ],
   "source": [
    "len(test_nodes)"
   ]
  },
  {
   "cell_type": "code",
   "execution_count": 24,
   "id": "8b1437ba",
   "metadata": {},
   "outputs": [
    {
     "data": {
      "text/plain": [
       "array([[ 483,    0,    0,    0,    0],\n",
       "       [   1,  123,    0,    0,    0],\n",
       "       [   0,    1, 2049,    0,   14],\n",
       "       [   0,    0,    2,  368,   13],\n",
       "       [   0,    0,  253,    1,  839]])"
      ]
     },
     "execution_count": 24,
     "metadata": {},
     "output_type": "execute_result"
    }
   ],
   "source": [
    "confusion_matrix(real_y[train_nodes], confident_labels[train_nodes])"
   ]
  },
  {
   "cell_type": "code",
   "execution_count": 25,
   "id": "9631f8ab",
   "metadata": {
    "scrolled": true
   },
   "outputs": [
    {
     "data": {
      "text/plain": [
       "array([[   0,    0,    0,    0,    0,    0],\n",
       "       [  30,  453,    0,    0,    0,    0],\n",
       "       [  56,    0,   68,    0,    0,    0],\n",
       "       [ 472,   20,    2, 1568,    0,   12],\n",
       "       [ 178,    2,    0,    1,  235,    0],\n",
       "       [  86,   16,    2,  264,   13,  768]])"
      ]
     },
     "execution_count": 25,
     "metadata": {},
     "output_type": "execute_result"
    }
   ],
   "source": [
    "confusion_matrix(real_y, all_labels_factored['scina'])"
   ]
  },
  {
   "cell_type": "code",
   "execution_count": 26,
   "id": "fc28d54e",
   "metadata": {},
   "outputs": [
    {
     "data": {
      "text/plain": [
       "array([[ 483,    0,    0,    0,    0],\n",
       "       [   1,  123,    0,    0,    0],\n",
       "       [   0,    1, 2008,    1,   64],\n",
       "       [   0,    0,    3,  408,    5],\n",
       "       [   0,    0,   67,    2, 1080]])"
      ]
     },
     "execution_count": 26,
     "metadata": {},
     "output_type": "execute_result"
    }
   ],
   "source": [
    "confusion_matrix(real_y, all_labels_factored['sctype'])"
   ]
  },
  {
   "cell_type": "code",
   "execution_count": 27,
   "id": "af1dc5d1",
   "metadata": {},
   "outputs": [
    {
     "data": {
      "text/plain": [
       "array([[   0,    0,    0,    0,    0,    0],\n",
       "       [   6,  477,    0,    0,    0,    0],\n",
       "       [  10,    6,  106,    2,    0,    0],\n",
       "       [  47,    4,    0, 1020,    0, 1003],\n",
       "       [  70,    1,    1,    2,  309,   33],\n",
       "       [   4,    0,    0,   95,    0, 1050]])"
      ]
     },
     "execution_count": 27,
     "metadata": {},
     "output_type": "execute_result"
    }
   ],
   "source": [
    "confusion_matrix(real_y, all_labels_factored['scsorter'])"
   ]
  },
  {
   "cell_type": "code",
   "execution_count": 28,
   "id": "2e22b344",
   "metadata": {},
   "outputs": [
    {
     "data": {
      "text/plain": [
       "array([[   0,    0,    0,    0,    0,    0],\n",
       "       [   4,  479,    0,    0,    0,    0],\n",
       "       [   1,    0,  123,    0,    0,    0],\n",
       "       [  11,    0,    0, 2053,    0,   10],\n",
       "       [  14,    0,    0,   19,  203,  180],\n",
       "       [   0,    0,    0, 1056,    1,   92]])"
      ]
     },
     "execution_count": 28,
     "metadata": {},
     "output_type": "execute_result"
    }
   ],
   "source": [
    "confusion_matrix(real_y, all_labels_factored['singler'])"
   ]
  },
  {
   "cell_type": "code",
   "execution_count": 29,
   "id": "a2c5c6fc",
   "metadata": {},
   "outputs": [
    {
     "data": {
      "text/plain": [
       "array([[   0,    0,    0,    0,    0,    0],\n",
       "       [   0,  483,    0,    0,    0,    0],\n",
       "       [   0,    1,  123,    0,    0,    0],\n",
       "       [  11,    0,    1, 2025,    0,   37],\n",
       "       [  29,    0,    0,    2,  347,   38],\n",
       "       [   5,    0,    0,  981,    1,  162]])"
      ]
     },
     "execution_count": 29,
     "metadata": {},
     "output_type": "execute_result"
    }
   ],
   "source": [
    "confusion_matrix(real_y, all_labels_factored['scpred'])"
   ]
  },
  {
   "cell_type": "code",
   "execution_count": null,
   "id": "1717f7d9",
   "metadata": {},
   "outputs": [],
   "source": []
  },
  {
   "cell_type": "code",
   "execution_count": 30,
   "id": "d3893655",
   "metadata": {},
   "outputs": [
    {
     "name": "stdout",
     "output_type": "stream",
     "text": [
      "0.7282148003578186\n",
      "0.9660857319831848\n",
      "0.6975977420806885\n",
      "0.9166274070739746\n"
     ]
    },
    {
     "name": "stderr",
     "output_type": "stream",
     "text": [
      "/home/users/lewinsda/scSHARP/utilities.py:184: UserWarning: To copy construct from a tensor, it is recommended to use sourceTensor.clone().detach() or sourceTensor.clone().detach().requires_grad_(True), rather than torch.tensor(sourceTensor).\n",
      "  return float((torch.tensor(preds) == torch.tensor(real)).type(torch.FloatTensor).mean().numpy())\n"
     ]
    }
   ],
   "source": [
    "print(utilities.pred_accuracy(all_labels_factored['scina'], real_y))\n",
    "print(utilities.pred_accuracy(all_labels_factored['sctype'], real_y))\n",
    "print(utilities.pred_accuracy(all_labels_factored['scsorter'], real_y))\n",
    "#print(utilities.pred_accuracy(all_labels_factored['singler'], real_y))\n",
    "#print(utilities.pred_accuracy(all_labels_factored['scpred'], real_y))\n",
    "max_pred = torch.tensor(encoded_labels).max(dim=1)[1]\n",
    "print(utilities.pred_accuracy(max_pred, real_y))"
   ]
  },
  {
   "cell_type": "code",
   "execution_count": 31,
   "id": "4fa734a6",
   "metadata": {},
   "outputs": [
    {
     "name": "stdout",
     "output_type": "stream",
     "text": [
      "0.020202020183205605\n",
      "0.8585858345031738\n",
      "0.6262626051902771\n",
      "0.3030303120613098\n"
     ]
    }
   ],
   "source": [
    "print(utilities.pred_accuracy(np.array(all_labels_factored['scina'][test_nodes]), real_y[test_nodes]))\n",
    "print(utilities.pred_accuracy(np.array(all_labels_factored['sctype'][test_nodes]), real_y[test_nodes]))\n",
    "print(utilities.pred_accuracy(np.array(all_labels_factored['scsorter'][test_nodes]), real_y[test_nodes]))\n",
    "#print(utilities.pred_accuracy(np.array(all_labels_factored['singler'][test_nodes]), real_y[test_nodes]))\n",
    "#print(utilities.pred_accuracy(np.array(all_labels_factored['scpred'][test_nodes]), real_y[test_nodes]))\n",
    "print(utilities.pred_accuracy(max_pred[test_nodes], real_y[test_nodes]))"
   ]
  },
  {
   "cell_type": "code",
   "execution_count": 32,
   "id": "e3f77998",
   "metadata": {},
   "outputs": [],
   "source": [
    "dataset  = torch.utils.data.TensorDataset(torch.tensor(X), torch.tensor(confident_labels))\n",
    "dataloader = torch.utils.data.DataLoader(dataset, batch_size=50, shuffle=True)\n",
    "\n",
    "test_dataset  = torch.utils.data.TensorDataset(torch.tensor(X), torch.tensor(real_y))\n",
    "test_dataloader = torch.utils.data.DataLoader(test_dataset, batch_size=50, shuffle=False)"
   ]
  },
  {
   "cell_type": "code",
   "execution_count": 33,
   "id": "234ceaa5",
   "metadata": {},
   "outputs": [
    {
     "data": {
      "text/plain": [
       "True"
      ]
     },
     "execution_count": 33,
     "metadata": {},
     "output_type": "execute_result"
    }
   ],
   "source": [
    "torch.cuda.is_available()"
   ]
  },
  {
   "cell_type": "code",
   "execution_count": 34,
   "id": "d4723615",
   "metadata": {},
   "outputs": [
    {
     "name": "stdout",
     "output_type": "stream",
     "text": [
      "Loss in epoch 0 = 58.285057\n",
      "Loss in epoch 10 = 0.092065\n",
      "Loss in epoch 20 = 0.022212\n",
      "Loss in epoch 30 = 0.004856\n",
      "Loss in epoch 40 = 0.002086\n",
      "Loss in epoch 50 = 0.001102\n",
      "Loss in epoch 60 = 0.000657\n",
      "Loss in epoch 70 = 0.000486\n",
      "Loss in epoch 80 = 0.000205\n",
      "Loss in epoch 90 = 0.000131\n",
      "Loss in epoch 100 = 0.000095\n",
      "Loss in epoch 110 = 0.000049\n",
      "Loss in epoch 120 = 0.000028\n",
      "Loss in epoch 130 = 0.000020\n",
      "Loss in epoch 140 = 0.000014\n"
     ]
    }
   ],
   "source": [
    "m = GCNModel(\"configs/2_40_5.txt\", 2, dropout=0.0)\n",
    "m.train(dataloader, 150)"
   ]
  },
  {
   "cell_type": "code",
   "execution_count": 35,
   "id": "840f9b0a",
   "metadata": {},
   "outputs": [
    {
     "data": {
      "text/plain": [
       "(0.9234573841094971,\n",
       " array([[ 483,    0,    0,    0,    0],\n",
       "        [   1,  123,    0,    0,    0],\n",
       "        [   0,    1, 2057,    0,   16],\n",
       "        [   0,    0,    2,  396,   18],\n",
       "        [   0,    0,  286,    1,  862]]),\n",
       " 0.9312756061553955,\n",
       " array([[ 483,    0,    0,    0,    0],\n",
       "        [   1,  123,    0,    0,    0],\n",
       "        [   0,    1, 2049,    0,   14],\n",
       "        [   0,    0,    2,  368,   13],\n",
       "        [   0,    0,  253,    1,  839]]),\n",
       " 0.5959596037864685,\n",
       " array([[ 8,  0,  2],\n",
       "        [ 0, 28,  5],\n",
       "        [33,  0, 23]]))"
      ]
     },
     "execution_count": 35,
     "metadata": {},
     "output_type": "execute_result"
    }
   ],
   "source": [
    "m.validation_metrics(test_dataloader, train_nodes, test_nodes)"
   ]
  },
  {
   "cell_type": "code",
   "execution_count": 47,
   "id": "9efef125",
   "metadata": {},
   "outputs": [
    {
     "data": {
      "text/plain": [
       "array([2, 3, 4])"
      ]
     },
     "execution_count": 47,
     "metadata": {},
     "output_type": "execute_result"
    }
   ],
   "source": [
    "np.unique(real_y[test_nodes])"
   ]
  },
  {
   "cell_type": "code",
   "execution_count": 17,
   "id": "db1fa319",
   "metadata": {},
   "outputs": [],
   "source": [
    "preds,_ = m.predict(test_dataloader)\n",
    "final_preds = preds.max(dim=1)[1]\n",
    "genes = counts.columns.to_numpy()[keep_genes]"
   ]
  },
  {
   "cell_type": "code",
   "execution_count": 19,
   "id": "6c37fb9c",
   "metadata": {},
   "outputs": [
    {
     "name": "stderr",
     "output_type": "stream",
     "text": [
      "/home/users/lewinsda/.conda/envs/daniel_thesis_2/lib/python3.9/site-packages/captum/_utils/gradient.py:57: UserWarning: Input Tensor 0 did not already require gradients, required_grads has been set automatically.\n",
      "  warnings.warn(\n",
      "/home/users/lewinsda/.conda/envs/daniel_thesis_2/lib/python3.9/site-packages/captum/attr/_core/deep_lift.py:336: UserWarning: Setting forward, backward hooks and attributes on non-linear\n",
      "               activations. The hooks and attributes will be removed\n",
      "            after the attribution is finished\n",
      "  warnings.warn(\n"
     ]
    }
   ],
   "source": [
    "int_df = utilities.run_interpretation(m, X, pca_obj, final_preds, counts.columns.to_numpy()[keep_genes])"
   ]
  },
  {
   "cell_type": "code",
   "execution_count": 20,
   "id": "24d906ea",
   "metadata": {},
   "outputs": [
    {
     "data": {
      "text/plain": [
       "[Text(0.5, 14.09375, 'Cell Type')]"
      ]
     },
     "execution_count": 20,
     "metadata": {},
     "output_type": "execute_result"
    },
    {
     "data": {
      "image/png": "[encoded data removed]",
      "text/plain": [
       "<Figure size 432x288 with 2 Axes>"
      ]
     },
     "metadata": {
      "needs_background": "light"
     },
     "output_type": "display_data"
    }
   ],
   "source": [
    "keep_genes = int_df.sort_values(0, ascending=False).head(4).index.tolist()\n",
    "keep_genes += int_df.sort_values(1, ascending=False).head(4).index.tolist()\n",
    "keep_genes += int_df.sort_values(2, ascending=False).head(4).index.tolist()\n",
    "keep_genes += int_df.sort_values(3, ascending=False).head(4).index.tolist()\n",
    "keep_genes += int_df.sort_values(4, ascending=False).head(4).index.tolist()\n",
    "int_df.columns = cell_names\n",
    "ax = sns.heatmap(int_df.loc[keep_genes,:])\n",
    "ax.set(xlabel=\"Cell Type\")"
   ]
  },
  {
   "cell_type": "code",
   "execution_count": 29,
   "id": "ef81f8f4",
   "metadata": {},
   "outputs": [
    {
     "data": {
      "text/html": [
       "<div>\n",
       "<style scoped>\n",
       "    .dataframe tbody tr th:only-of-type {\n",
       "        vertical-align: middle;\n",
       "    }\n",
       "\n",
       "    .dataframe tbody tr th {\n",
       "        vertical-align: top;\n",
       "    }\n",
       "\n",
       "    .dataframe thead th {\n",
       "        text-align: right;\n",
       "    }\n",
       "</style>\n",
       "<table border=\"1\" class=\"dataframe\">\n",
       "  <thead>\n",
       "    <tr style=\"text-align: right;\">\n",
       "      <th></th>\n",
       "      <th>b_cells</th>\n",
       "      <th>cd14_monocytes</th>\n",
       "      <th>cd34</th>\n",
       "      <th>cd4_t_cell</th>\n",
       "      <th>cd56_nk</th>\n",
       "      <th>cd8_t_cell</th>\n",
       "    </tr>\n",
       "  </thead>\n",
       "  <tbody>\n",
       "    <tr>\n",
       "      <th>CD74</th>\n",
       "      <td>23.028280</td>\n",
       "      <td>7.844861</td>\n",
       "      <td>7.117867</td>\n",
       "      <td>-23.998674</td>\n",
       "      <td>0.484068</td>\n",
       "      <td>-10.958111</td>\n",
       "    </tr>\n",
       "    <tr>\n",
       "      <th>HLA-DRA</th>\n",
       "      <td>20.550703</td>\n",
       "      <td>6.641532</td>\n",
       "      <td>7.058403</td>\n",
       "      <td>-20.337034</td>\n",
       "      <td>-0.839501</td>\n",
       "      <td>-11.454344</td>\n",
       "    </tr>\n",
       "    <tr>\n",
       "      <th>HLA-DRB1</th>\n",
       "      <td>18.000893</td>\n",
       "      <td>6.987773</td>\n",
       "      <td>3.675694</td>\n",
       "      <td>-15.676343</td>\n",
       "      <td>-0.664304</td>\n",
       "      <td>-11.306343</td>\n",
       "    </tr>\n",
       "    <tr>\n",
       "      <th>HLA-DPB1</th>\n",
       "      <td>16.351137</td>\n",
       "      <td>5.507708</td>\n",
       "      <td>4.831303</td>\n",
       "      <td>-16.857906</td>\n",
       "      <td>-0.593052</td>\n",
       "      <td>-7.320463</td>\n",
       "    </tr>\n",
       "    <tr>\n",
       "      <th>TYROBP</th>\n",
       "      <td>1.064735</td>\n",
       "      <td>8.092411</td>\n",
       "      <td>5.520627</td>\n",
       "      <td>-11.201632</td>\n",
       "      <td>12.154108</td>\n",
       "      <td>-5.426261</td>\n",
       "    </tr>\n",
       "    <tr>\n",
       "      <th>CD74</th>\n",
       "      <td>23.028280</td>\n",
       "      <td>7.844861</td>\n",
       "      <td>7.117867</td>\n",
       "      <td>-23.998674</td>\n",
       "      <td>0.484068</td>\n",
       "      <td>-10.958111</td>\n",
       "    </tr>\n",
       "    <tr>\n",
       "      <th>HLA-DRB1</th>\n",
       "      <td>18.000893</td>\n",
       "      <td>6.987773</td>\n",
       "      <td>3.675694</td>\n",
       "      <td>-15.676343</td>\n",
       "      <td>-0.664304</td>\n",
       "      <td>-11.306343</td>\n",
       "    </tr>\n",
       "    <tr>\n",
       "      <th>HLA-DRA</th>\n",
       "      <td>20.550703</td>\n",
       "      <td>6.641532</td>\n",
       "      <td>7.058403</td>\n",
       "      <td>-20.337034</td>\n",
       "      <td>-0.839501</td>\n",
       "      <td>-11.454344</td>\n",
       "    </tr>\n",
       "    <tr>\n",
       "      <th>GSTP1</th>\n",
       "      <td>1.188442</td>\n",
       "      <td>3.734811</td>\n",
       "      <td>7.499246</td>\n",
       "      <td>-9.217718</td>\n",
       "      <td>4.667435</td>\n",
       "      <td>-3.152863</td>\n",
       "    </tr>\n",
       "    <tr>\n",
       "      <th>AIF1</th>\n",
       "      <td>1.021200</td>\n",
       "      <td>3.756367</td>\n",
       "      <td>7.169282</td>\n",
       "      <td>-11.614655</td>\n",
       "      <td>1.482419</td>\n",
       "      <td>2.128209</td>\n",
       "    </tr>\n",
       "    <tr>\n",
       "      <th>CD74</th>\n",
       "      <td>23.028280</td>\n",
       "      <td>7.844861</td>\n",
       "      <td>7.117867</td>\n",
       "      <td>-23.998674</td>\n",
       "      <td>0.484068</td>\n",
       "      <td>-10.958111</td>\n",
       "    </tr>\n",
       "    <tr>\n",
       "      <th>HLA-DRA</th>\n",
       "      <td>20.550703</td>\n",
       "      <td>6.641532</td>\n",
       "      <td>7.058403</td>\n",
       "      <td>-20.337034</td>\n",
       "      <td>-0.839501</td>\n",
       "      <td>-11.454344</td>\n",
       "    </tr>\n",
       "    <tr>\n",
       "      <th>CD3E</th>\n",
       "      <td>-12.002522</td>\n",
       "      <td>-7.415385</td>\n",
       "      <td>-8.726439</td>\n",
       "      <td>24.218397</td>\n",
       "      <td>-8.053568</td>\n",
       "      <td>1.421115</td>\n",
       "    </tr>\n",
       "    <tr>\n",
       "      <th>LTB</th>\n",
       "      <td>-0.346633</td>\n",
       "      <td>-7.033349</td>\n",
       "      <td>-10.417953</td>\n",
       "      <td>23.500202</td>\n",
       "      <td>-12.056223</td>\n",
       "      <td>-9.035088</td>\n",
       "    </tr>\n",
       "    <tr>\n",
       "      <th>LDHB</th>\n",
       "      <td>-10.126038</td>\n",
       "      <td>-6.519560</td>\n",
       "      <td>-1.473903</td>\n",
       "      <td>18.866829</td>\n",
       "      <td>-6.240820</td>\n",
       "      <td>-3.996928</td>\n",
       "    </tr>\n",
       "    <tr>\n",
       "      <th>IL32</th>\n",
       "      <td>-10.177980</td>\n",
       "      <td>-5.832559</td>\n",
       "      <td>-8.223896</td>\n",
       "      <td>18.531984</td>\n",
       "      <td>-5.320324</td>\n",
       "      <td>4.382749</td>\n",
       "    </tr>\n",
       "    <tr>\n",
       "      <th>GNLY</th>\n",
       "      <td>-0.316129</td>\n",
       "      <td>5.620325</td>\n",
       "      <td>4.799681</td>\n",
       "      <td>-17.493612</td>\n",
       "      <td>17.322506</td>\n",
       "      <td>7.338871</td>\n",
       "    </tr>\n",
       "    <tr>\n",
       "      <th>NKG7</th>\n",
       "      <td>-0.229222</td>\n",
       "      <td>5.166356</td>\n",
       "      <td>4.729124</td>\n",
       "      <td>-19.735409</td>\n",
       "      <td>15.774127</td>\n",
       "      <td>11.838305</td>\n",
       "    </tr>\n",
       "    <tr>\n",
       "      <th>TYROBP</th>\n",
       "      <td>1.064735</td>\n",
       "      <td>8.092411</td>\n",
       "      <td>5.520627</td>\n",
       "      <td>-11.201632</td>\n",
       "      <td>12.154108</td>\n",
       "      <td>-5.426261</td>\n",
       "    </tr>\n",
       "    <tr>\n",
       "      <th>FCER1G</th>\n",
       "      <td>1.034266</td>\n",
       "      <td>6.026119</td>\n",
       "      <td>3.966823</td>\n",
       "      <td>-10.099002</td>\n",
       "      <td>10.145290</td>\n",
       "      <td>-2.005358</td>\n",
       "    </tr>\n",
       "    <tr>\n",
       "      <th>CD8B</th>\n",
       "      <td>3.882117</td>\n",
       "      <td>2.569363</td>\n",
       "      <td>-2.443788</td>\n",
       "      <td>-28.884510</td>\n",
       "      <td>1.633967</td>\n",
       "      <td>38.037041</td>\n",
       "    </tr>\n",
       "    <tr>\n",
       "      <th>CTSW</th>\n",
       "      <td>0.462211</td>\n",
       "      <td>3.272461</td>\n",
       "      <td>2.613079</td>\n",
       "      <td>-22.147541</td>\n",
       "      <td>8.821829</td>\n",
       "      <td>22.155212</td>\n",
       "    </tr>\n",
       "    <tr>\n",
       "      <th>HCST</th>\n",
       "      <td>-3.591217</td>\n",
       "      <td>2.602810</td>\n",
       "      <td>1.739482</td>\n",
       "      <td>-15.972071</td>\n",
       "      <td>8.580652</td>\n",
       "      <td>19.757111</td>\n",
       "    </tr>\n",
       "    <tr>\n",
       "      <th>CD8A</th>\n",
       "      <td>1.867370</td>\n",
       "      <td>1.323404</td>\n",
       "      <td>-1.120709</td>\n",
       "      <td>-14.157949</td>\n",
       "      <td>1.191333</td>\n",
       "      <td>18.354450</td>\n",
       "    </tr>\n",
       "  </tbody>\n",
       "</table>\n",
       "</div>"
      ],
      "text/plain": [
       "            b_cells  cd14_monocytes       cd34  cd4_t_cell    cd56_nk  \\\n",
       "CD74      23.028280        7.844861   7.117867  -23.998674   0.484068   \n",
       "HLA-DRA   20.550703        6.641532   7.058403  -20.337034  -0.839501   \n",
       "HLA-DRB1  18.000893        6.987773   3.675694  -15.676343  -0.664304   \n",
       "HLA-DPB1  16.351137        5.507708   4.831303  -16.857906  -0.593052   \n",
       "TYROBP     1.064735        8.092411   5.520627  -11.201632  12.154108   \n",
       "CD74      23.028280        7.844861   7.117867  -23.998674   0.484068   \n",
       "HLA-DRB1  18.000893        6.987773   3.675694  -15.676343  -0.664304   \n",
       "HLA-DRA   20.550703        6.641532   7.058403  -20.337034  -0.839501   \n",
       "GSTP1      1.188442        3.734811   7.499246   -9.217718   4.667435   \n",
       "AIF1       1.021200        3.756367   7.169282  -11.614655   1.482419   \n",
       "CD74      23.028280        7.844861   7.117867  -23.998674   0.484068   \n",
       "HLA-DRA   20.550703        6.641532   7.058403  -20.337034  -0.839501   \n",
       "CD3E     -12.002522       -7.415385  -8.726439   24.218397  -8.053568   \n",
       "LTB       -0.346633       -7.033349 -10.417953   23.500202 -12.056223   \n",
       "LDHB     -10.126038       -6.519560  -1.473903   18.866829  -6.240820   \n",
       "IL32     -10.177980       -5.832559  -8.223896   18.531984  -5.320324   \n",
       "GNLY      -0.316129        5.620325   4.799681  -17.493612  17.322506   \n",
       "NKG7      -0.229222        5.166356   4.729124  -19.735409  15.774127   \n",
       "TYROBP     1.064735        8.092411   5.520627  -11.201632  12.154108   \n",
       "FCER1G     1.034266        6.026119   3.966823  -10.099002  10.145290   \n",
       "CD8B       3.882117        2.569363  -2.443788  -28.884510   1.633967   \n",
       "CTSW       0.462211        3.272461   2.613079  -22.147541   8.821829   \n",
       "HCST      -3.591217        2.602810   1.739482  -15.972071   8.580652   \n",
       "CD8A       1.867370        1.323404  -1.120709  -14.157949   1.191333   \n",
       "\n",
       "          cd8_t_cell  \n",
       "CD74      -10.958111  \n",
       "HLA-DRA   -11.454344  \n",
       "HLA-DRB1  -11.306343  \n",
       "HLA-DPB1   -7.320463  \n",
       "TYROBP     -5.426261  \n",
       "CD74      -10.958111  \n",
       "HLA-DRB1  -11.306343  \n",
       "HLA-DRA   -11.454344  \n",
       "GSTP1      -3.152863  \n",
       "AIF1        2.128209  \n",
       "CD74      -10.958111  \n",
       "HLA-DRA   -11.454344  \n",
       "CD3E        1.421115  \n",
       "LTB        -9.035088  \n",
       "LDHB       -3.996928  \n",
       "IL32        4.382749  \n",
       "GNLY        7.338871  \n",
       "NKG7       11.838305  \n",
       "TYROBP     -5.426261  \n",
       "FCER1G     -2.005358  \n",
       "CD8B       38.037041  \n",
       "CTSW       22.155212  \n",
       "HCST       19.757111  \n",
       "CD8A       18.354450  "
      ]
     },
     "execution_count": 29,
     "metadata": {},
     "output_type": "execute_result"
    }
   ],
   "source": [
    "int_df.loc[keep_genes,:]"
   ]
  },
  {
   "cell_type": "code",
   "execution_count": 34,
   "id": "9007eb3e",
   "metadata": {},
   "outputs": [
    {
     "data": {
      "text/plain": [
       "b_cells          -0.781815\n",
       "cd14_monocytes    0.133937\n",
       "cd34             -0.302833\n",
       "cd4_t_cell        3.132172\n",
       "cd56_nk          -0.436225\n",
       "cd8_t_cell       -3.261806\n",
       "Name: CD4, dtype: float32"
      ]
     },
     "execution_count": 34,
     "metadata": {},
     "output_type": "execute_result"
    }
   ],
   "source": [
    "int_df.loc[\"CD4\",:]"
   ]
  },
  {
   "cell_type": "code",
   "execution_count": 33,
   "id": "368b87a0",
   "metadata": {},
   "outputs": [
    {
     "data": {
      "text/html": [
       "<div>\n",
       "<style scoped>\n",
       "    .dataframe tbody tr th:only-of-type {\n",
       "        vertical-align: middle;\n",
       "    }\n",
       "\n",
       "    .dataframe tbody tr th {\n",
       "        vertical-align: top;\n",
       "    }\n",
       "\n",
       "    .dataframe thead th {\n",
       "        text-align: right;\n",
       "    }\n",
       "</style>\n",
       "<table border=\"1\" class=\"dataframe\">\n",
       "  <thead>\n",
       "    <tr style=\"text-align: right;\">\n",
       "      <th></th>\n",
       "      <th>b_cells</th>\n",
       "      <th>cd14_monocytes</th>\n",
       "      <th>cd34</th>\n",
       "      <th>cd4_t_cell</th>\n",
       "      <th>cd56_nk</th>\n",
       "      <th>cd8_t_cell</th>\n",
       "    </tr>\n",
       "  </thead>\n",
       "  <tbody>\n",
       "    <tr>\n",
       "      <th>CD3E</th>\n",
       "      <td>-12.002522</td>\n",
       "      <td>-7.415385</td>\n",
       "      <td>-8.726439</td>\n",
       "      <td>24.218397</td>\n",
       "      <td>-8.053568</td>\n",
       "      <td>1.421115</td>\n",
       "    </tr>\n",
       "    <tr>\n",
       "      <th>LTB</th>\n",
       "      <td>-0.346633</td>\n",
       "      <td>-7.033349</td>\n",
       "      <td>-10.417953</td>\n",
       "      <td>23.500202</td>\n",
       "      <td>-12.056223</td>\n",
       "      <td>-9.035088</td>\n",
       "    </tr>\n",
       "    <tr>\n",
       "      <th>LDHB</th>\n",
       "      <td>-10.126038</td>\n",
       "      <td>-6.519560</td>\n",
       "      <td>-1.473903</td>\n",
       "      <td>18.866829</td>\n",
       "      <td>-6.240820</td>\n",
       "      <td>-3.996928</td>\n",
       "    </tr>\n",
       "    <tr>\n",
       "      <th>IL32</th>\n",
       "      <td>-10.177980</td>\n",
       "      <td>-5.832559</td>\n",
       "      <td>-8.223896</td>\n",
       "      <td>18.531984</td>\n",
       "      <td>-5.320324</td>\n",
       "      <td>4.382749</td>\n",
       "    </tr>\n",
       "    <tr>\n",
       "      <th>S100A4</th>\n",
       "      <td>-9.275983</td>\n",
       "      <td>0.224410</td>\n",
       "      <td>0.278559</td>\n",
       "      <td>17.501913</td>\n",
       "      <td>0.626527</td>\n",
       "      <td>-15.109340</td>\n",
       "    </tr>\n",
       "    <tr>\n",
       "      <th>CD3D</th>\n",
       "      <td>-10.088745</td>\n",
       "      <td>-6.347070</td>\n",
       "      <td>-8.669763</td>\n",
       "      <td>15.166478</td>\n",
       "      <td>-7.019297</td>\n",
       "      <td>11.102195</td>\n",
       "    </tr>\n",
       "    <tr>\n",
       "      <th>VIM</th>\n",
       "      <td>-5.960861</td>\n",
       "      <td>-2.747719</td>\n",
       "      <td>-1.112851</td>\n",
       "      <td>14.779360</td>\n",
       "      <td>-4.462126</td>\n",
       "      <td>-8.283261</td>\n",
       "    </tr>\n",
       "    <tr>\n",
       "      <th>JUNB</th>\n",
       "      <td>-6.368446</td>\n",
       "      <td>-3.691166</td>\n",
       "      <td>-9.786414</td>\n",
       "      <td>14.404326</td>\n",
       "      <td>-5.959384</td>\n",
       "      <td>5.216513</td>\n",
       "    </tr>\n",
       "    <tr>\n",
       "      <th>TMEM66</th>\n",
       "      <td>-7.099599</td>\n",
       "      <td>-4.699313</td>\n",
       "      <td>-2.727879</td>\n",
       "      <td>13.068326</td>\n",
       "      <td>-3.916945</td>\n",
       "      <td>-0.450184</td>\n",
       "    </tr>\n",
       "    <tr>\n",
       "      <th>CD99</th>\n",
       "      <td>-5.870487</td>\n",
       "      <td>-2.188071</td>\n",
       "      <td>1.046048</td>\n",
       "      <td>12.940457</td>\n",
       "      <td>0.242535</td>\n",
       "      <td>-10.903715</td>\n",
       "    </tr>\n",
       "    <tr>\n",
       "      <th>GAPDH</th>\n",
       "      <td>-7.055479</td>\n",
       "      <td>-2.191980</td>\n",
       "      <td>4.019778</td>\n",
       "      <td>12.818248</td>\n",
       "      <td>-0.349499</td>\n",
       "      <td>-12.761351</td>\n",
       "    </tr>\n",
       "    <tr>\n",
       "      <th>UBC</th>\n",
       "      <td>-1.983790</td>\n",
       "      <td>-1.576629</td>\n",
       "      <td>-1.378748</td>\n",
       "      <td>12.804508</td>\n",
       "      <td>-2.072152</td>\n",
       "      <td>-12.307826</td>\n",
       "    </tr>\n",
       "    <tr>\n",
       "      <th>FTH1</th>\n",
       "      <td>-1.679249</td>\n",
       "      <td>-0.298688</td>\n",
       "      <td>-0.186359</td>\n",
       "      <td>12.703049</td>\n",
       "      <td>-3.010755</td>\n",
       "      <td>-15.210079</td>\n",
       "    </tr>\n",
       "    <tr>\n",
       "      <th>AES</th>\n",
       "      <td>-5.759049</td>\n",
       "      <td>-3.535546</td>\n",
       "      <td>-3.563370</td>\n",
       "      <td>12.415525</td>\n",
       "      <td>-2.101301</td>\n",
       "      <td>-2.078795</td>\n",
       "    </tr>\n",
       "    <tr>\n",
       "      <th>AQP3</th>\n",
       "      <td>-3.551513</td>\n",
       "      <td>-2.376410</td>\n",
       "      <td>-1.967492</td>\n",
       "      <td>12.057157</td>\n",
       "      <td>-2.492828</td>\n",
       "      <td>-7.410612</td>\n",
       "    </tr>\n",
       "    <tr>\n",
       "      <th>CORO1B</th>\n",
       "      <td>-4.191634</td>\n",
       "      <td>-2.444468</td>\n",
       "      <td>-1.222578</td>\n",
       "      <td>11.967521</td>\n",
       "      <td>-2.360543</td>\n",
       "      <td>-7.339528</td>\n",
       "    </tr>\n",
       "    <tr>\n",
       "      <th>ANXA1</th>\n",
       "      <td>-6.073541</td>\n",
       "      <td>-1.623190</td>\n",
       "      <td>2.538930</td>\n",
       "      <td>11.909485</td>\n",
       "      <td>1.093347</td>\n",
       "      <td>-12.176386</td>\n",
       "    </tr>\n",
       "    <tr>\n",
       "      <th>EVL</th>\n",
       "      <td>-5.340532</td>\n",
       "      <td>-3.560336</td>\n",
       "      <td>-2.743927</td>\n",
       "      <td>11.874738</td>\n",
       "      <td>-1.803789</td>\n",
       "      <td>-2.532182</td>\n",
       "    </tr>\n",
       "    <tr>\n",
       "      <th>GIMAP7</th>\n",
       "      <td>-7.875015</td>\n",
       "      <td>-3.208615</td>\n",
       "      <td>-4.468647</td>\n",
       "      <td>11.699209</td>\n",
       "      <td>-1.263351</td>\n",
       "      <td>2.324520</td>\n",
       "    </tr>\n",
       "    <tr>\n",
       "      <th>S100A10</th>\n",
       "      <td>-4.950002</td>\n",
       "      <td>-1.262742</td>\n",
       "      <td>-4.370116</td>\n",
       "      <td>11.508921</td>\n",
       "      <td>-2.133091</td>\n",
       "      <td>-2.967203</td>\n",
       "    </tr>\n",
       "    <tr>\n",
       "      <th>GSTK1</th>\n",
       "      <td>-4.639398</td>\n",
       "      <td>-2.850178</td>\n",
       "      <td>-0.341640</td>\n",
       "      <td>11.131154</td>\n",
       "      <td>-2.001257</td>\n",
       "      <td>-6.424504</td>\n",
       "    </tr>\n",
       "    <tr>\n",
       "      <th>PKM</th>\n",
       "      <td>-2.930562</td>\n",
       "      <td>-1.835068</td>\n",
       "      <td>-1.522131</td>\n",
       "      <td>10.890348</td>\n",
       "      <td>-2.181229</td>\n",
       "      <td>-7.577402</td>\n",
       "    </tr>\n",
       "    <tr>\n",
       "      <th>CRIP1</th>\n",
       "      <td>-2.227361</td>\n",
       "      <td>-0.507279</td>\n",
       "      <td>-2.492353</td>\n",
       "      <td>9.961532</td>\n",
       "      <td>-0.641503</td>\n",
       "      <td>-7.950950</td>\n",
       "    </tr>\n",
       "    <tr>\n",
       "      <th>RPL4</th>\n",
       "      <td>-3.335540</td>\n",
       "      <td>-4.042965</td>\n",
       "      <td>-2.926134</td>\n",
       "      <td>9.914324</td>\n",
       "      <td>-4.605546</td>\n",
       "      <td>-0.647239</td>\n",
       "    </tr>\n",
       "    <tr>\n",
       "      <th>EEF1A1</th>\n",
       "      <td>-2.491699</td>\n",
       "      <td>-3.356963</td>\n",
       "      <td>-5.307438</td>\n",
       "      <td>9.814505</td>\n",
       "      <td>-4.071074</td>\n",
       "      <td>0.499371</td>\n",
       "    </tr>\n",
       "    <tr>\n",
       "      <th>FXYD5</th>\n",
       "      <td>-4.177875</td>\n",
       "      <td>-2.752523</td>\n",
       "      <td>0.924852</td>\n",
       "      <td>9.813727</td>\n",
       "      <td>-1.873263</td>\n",
       "      <td>-6.815337</td>\n",
       "    </tr>\n",
       "    <tr>\n",
       "      <th>TRAF3IP3</th>\n",
       "      <td>-3.373041</td>\n",
       "      <td>-2.553397</td>\n",
       "      <td>-2.049305</td>\n",
       "      <td>9.769228</td>\n",
       "      <td>-1.350981</td>\n",
       "      <td>-4.399362</td>\n",
       "    </tr>\n",
       "    <tr>\n",
       "      <th>NOSIP</th>\n",
       "      <td>-6.439748</td>\n",
       "      <td>-3.699111</td>\n",
       "      <td>-5.826145</td>\n",
       "      <td>9.409483</td>\n",
       "      <td>-4.588694</td>\n",
       "      <td>7.230841</td>\n",
       "    </tr>\n",
       "    <tr>\n",
       "      <th>CORO1A</th>\n",
       "      <td>-2.999914</td>\n",
       "      <td>-1.897613</td>\n",
       "      <td>-3.416967</td>\n",
       "      <td>9.365349</td>\n",
       "      <td>-0.652429</td>\n",
       "      <td>-3.181382</td>\n",
       "    </tr>\n",
       "    <tr>\n",
       "      <th>MYL12A</th>\n",
       "      <td>-6.207288</td>\n",
       "      <td>-2.888471</td>\n",
       "      <td>-1.805593</td>\n",
       "      <td>9.337726</td>\n",
       "      <td>0.914202</td>\n",
       "      <td>-0.922279</td>\n",
       "    </tr>\n",
       "  </tbody>\n",
       "</table>\n",
       "</div>"
      ],
      "text/plain": [
       "            b_cells  cd14_monocytes       cd34  cd4_t_cell    cd56_nk  \\\n",
       "CD3E     -12.002522       -7.415385  -8.726439   24.218397  -8.053568   \n",
       "LTB       -0.346633       -7.033349 -10.417953   23.500202 -12.056223   \n",
       "LDHB     -10.126038       -6.519560  -1.473903   18.866829  -6.240820   \n",
       "IL32     -10.177980       -5.832559  -8.223896   18.531984  -5.320324   \n",
       "S100A4    -9.275983        0.224410   0.278559   17.501913   0.626527   \n",
       "CD3D     -10.088745       -6.347070  -8.669763   15.166478  -7.019297   \n",
       "VIM       -5.960861       -2.747719  -1.112851   14.779360  -4.462126   \n",
       "JUNB      -6.368446       -3.691166  -9.786414   14.404326  -5.959384   \n",
       "TMEM66    -7.099599       -4.699313  -2.727879   13.068326  -3.916945   \n",
       "CD99      -5.870487       -2.188071   1.046048   12.940457   0.242535   \n",
       "GAPDH     -7.055479       -2.191980   4.019778   12.818248  -0.349499   \n",
       "UBC       -1.983790       -1.576629  -1.378748   12.804508  -2.072152   \n",
       "FTH1      -1.679249       -0.298688  -0.186359   12.703049  -3.010755   \n",
       "AES       -5.759049       -3.535546  -3.563370   12.415525  -2.101301   \n",
       "AQP3      -3.551513       -2.376410  -1.967492   12.057157  -2.492828   \n",
       "CORO1B    -4.191634       -2.444468  -1.222578   11.967521  -2.360543   \n",
       "ANXA1     -6.073541       -1.623190   2.538930   11.909485   1.093347   \n",
       "EVL       -5.340532       -3.560336  -2.743927   11.874738  -1.803789   \n",
       "GIMAP7    -7.875015       -3.208615  -4.468647   11.699209  -1.263351   \n",
       "S100A10   -4.950002       -1.262742  -4.370116   11.508921  -2.133091   \n",
       "GSTK1     -4.639398       -2.850178  -0.341640   11.131154  -2.001257   \n",
       "PKM       -2.930562       -1.835068  -1.522131   10.890348  -2.181229   \n",
       "CRIP1     -2.227361       -0.507279  -2.492353    9.961532  -0.641503   \n",
       "RPL4      -3.335540       -4.042965  -2.926134    9.914324  -4.605546   \n",
       "EEF1A1    -2.491699       -3.356963  -5.307438    9.814505  -4.071074   \n",
       "FXYD5     -4.177875       -2.752523   0.924852    9.813727  -1.873263   \n",
       "TRAF3IP3  -3.373041       -2.553397  -2.049305    9.769228  -1.350981   \n",
       "NOSIP     -6.439748       -3.699111  -5.826145    9.409483  -4.588694   \n",
       "CORO1A    -2.999914       -1.897613  -3.416967    9.365349  -0.652429   \n",
       "MYL12A    -6.207288       -2.888471  -1.805593    9.337726   0.914202   \n",
       "\n",
       "          cd8_t_cell  \n",
       "CD3E        1.421115  \n",
       "LTB        -9.035088  \n",
       "LDHB       -3.996928  \n",
       "IL32        4.382749  \n",
       "S100A4    -15.109340  \n",
       "CD3D       11.102195  \n",
       "VIM        -8.283261  \n",
       "JUNB        5.216513  \n",
       "TMEM66     -0.450184  \n",
       "CD99      -10.903715  \n",
       "GAPDH     -12.761351  \n",
       "UBC       -12.307826  \n",
       "FTH1      -15.210079  \n",
       "AES        -2.078795  \n",
       "AQP3       -7.410612  \n",
       "CORO1B     -7.339528  \n",
       "ANXA1     -12.176386  \n",
       "EVL        -2.532182  \n",
       "GIMAP7      2.324520  \n",
       "S100A10    -2.967203  \n",
       "GSTK1      -6.424504  \n",
       "PKM        -7.577402  \n",
       "CRIP1      -7.950950  \n",
       "RPL4       -0.647239  \n",
       "EEF1A1      0.499371  \n",
       "FXYD5      -6.815337  \n",
       "TRAF3IP3   -4.399362  \n",
       "NOSIP       7.230841  \n",
       "CORO1A     -3.181382  \n",
       "MYL12A     -0.922279  "
      ]
     },
     "execution_count": 33,
     "metadata": {},
     "output_type": "execute_result"
    }
   ],
   "source": [
    "int_df.sort_values(\"cd4_t_cell\", ascending=False).head(30)"
   ]
  }
 ],
 "metadata": {
  "kernelspec": {
   "display_name": "daniel_thesis",
   "language": "python",
   "name": "daniel_thesis_2"
  },
  "language_info": {
   "codemirror_mode": {
    "name": "ipython",
    "version": 3
   },
   "file_extension": ".py",
   "mimetype": "text/x-python",
   "name": "python",
   "nbconvert_exporter": "python",
   "pygments_lexer": "ipython3",
   "version": "3.9.7"
  }
 },
 "nbformat": 4,
 "nbformat_minor": 5
}
