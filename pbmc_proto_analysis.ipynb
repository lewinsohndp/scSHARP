{
 "cells": [
  {
   "cell_type": "code",
   "execution_count": 1,
   "id": "ccb02cf4",
   "metadata": {},
   "outputs": [
    {
     "name": "stderr",
     "output_type": "stream",
     "text": [
      "/home/users/lewinsda/.conda/envs/daniel_thesis_2/lib/python3.9/site-packages/tqdm/auto.py:22: TqdmWarning: IProgress not found. Please update jupyter and ipywidgets. See https://ipywidgets.readthedocs.io/en/stable/user_install.html\n",
      "  from .autonotebook import tqdm as notebook_tqdm\n"
     ]
    }
   ],
   "source": [
    "import numpy as np\n",
    "import pandas as pd\n",
    "import torch\n",
    "from gcn_model import GCNModel\n",
    "import utilities\n",
    "from test_model import test_model\n",
    "import os\n",
    "import statistics\n",
    "import matplotlib.pyplot as plt\n",
    "from sklearn.metrics import confusion_matrix, ConfusionMatrixDisplay\n",
    "import seaborn as sns\n",
    "from test_model import test_model"
   ]
  },
  {
   "cell_type": "code",
   "execution_count": 3,
   "id": "f5984eee",
   "metadata": {},
   "outputs": [
    {
     "name": "stdout",
     "output_type": "stream",
     "text": [
      "(4733, 32738)\n",
      "(4733, 1)\n",
      "(463, 1)\n",
      "(4270, 1)\n",
      "(4270, 32738)\n"
     ]
    }
   ],
   "source": [
    "#remove cd34 cells\n",
    "ref_labels = pd.read_csv(\"/home/groups/ConradLab/daniel/sharp_data/pbmc_proto/ref_labels.csv\", index_col=0)\n",
    "ref_counts = pd.read_csv(\"/home/groups/ConradLab/daniel/sharp_data/pbmc_proto/ref.csv\", index_col=0)\n",
    "print(ref_counts.shape)\n",
    "print(ref_labels.shape)\n",
    "print(ref_labels[ref_labels.labels==\"cd34\"].shape)\n",
    "ref_counts = ref_counts.drop(ref_labels[ref_labels.labels==\"cd34\"].index)\n",
    "ref_labels = ref_labels.drop(ref_labels[ref_labels.labels==\"cd34\"].index)\n",
    "ref_counts.columns = ref_counts.columns.str.split(\"\\t\").str[1]\n",
    "print(ref_labels.shape)\n",
    "print(ref_counts.shape)\n",
    "ref_labels.to_csv(\"/home/groups/ConradLab/daniel/sharp_data/pbmc_proto/ref_labels.csv\")\n",
    "ref_counts.to_csv(\"/home/groups/ConradLab/daniel/sharp_data/pbmc_proto/ref.csv\")"
   ]
  },
  {
   "cell_type": "code",
   "execution_count": 4,
   "id": "1abe4b68",
   "metadata": {},
   "outputs": [
    {
     "name": "stdout",
     "output_type": "stream",
     "text": [
      "(4733, 32738)\n",
      "(4733, 1)\n",
      "(486, 1)\n",
      "(4247, 1)\n",
      "(4247, 32738)\n"
     ]
    }
   ],
   "source": [
    "#remove cd34 cells\n",
    "query_labels = pd.read_csv(\"/home/groups/ConradLab/daniel/sharp_data/pbmc_proto/query_labels.csv\", index_col=0)\n",
    "query_counts = pd.read_csv(\"/home/groups/ConradLab/daniel/sharp_data/pbmc_proto/query.csv\", index_col=0)\n",
    "print(query_counts.shape)\n",
    "print(query_labels.shape)\n",
    "print(query_labels[query_labels.labels==\"cd34\"].shape)\n",
    "query_counts = query_counts.drop(query_labels[query_labels.labels==\"cd34\"].index)\n",
    "query_labels = query_labels.drop(query_labels[query_labels.labels==\"cd34\"].index)\n",
    "query_counts.columns = query_counts.columns.str.split(\"\\t\").str[1]\n",
    "print(query_labels.shape)\n",
    "print(query_counts.shape)\n",
    "query_labels.to_csv(\"/home/groups/ConradLab/daniel/sharp_data/pbmc_proto/query_labels.csv\")\n",
    "query_counts.to_csv(\"/home/groups/ConradLab/daniel/sharp_data/pbmc_proto/query.csv\")"
   ]
  },
  {
   "cell_type": "code",
   "execution_count": 12,
   "id": "0e09f89c",
   "metadata": {
    "scrolled": true
   },
   "outputs": [
    {
     "name": "stdout",
     "output_type": "stream",
     "text": [
      "['b_cells' 'cytotoxic_t' 'regulatory_t' 'cd4_t_helper' 'naive_cytotoxic'\n",
      " 'cd56_nk' 'memory_t' 'naive_t' 'cd14_monocytes']\n",
      "['b_cells' 't_cell' 'cd56_nk' 'cd14_monocytes']\n"
     ]
    }
   ],
   "source": [
    "ref_labels = pd.read_csv(\"/home/groups/ConradLab/daniel/sharp_data/pbmc_proto/ref_labels.csv\", index_col=0)\n",
    "print(ref_labels['labels'].unique())\n",
    "ref_labels['labels'] = ref_labels['labels'].replace(\"cytotoxic_t\",\"t_cell\")\n",
    "ref_labels['labels'] = ref_labels['labels'].replace(\"regulatory_t\",\"t_cell\")\n",
    "ref_labels['labels'] = ref_labels['labels'].replace(\"cd4_t_helper\",\"t_cell\")\n",
    "ref_labels['labels'] = ref_labels['labels'].replace(\"naive_cytotoxic\",\"t_cell\")\n",
    "ref_labels['labels'] = ref_labels['labels'].replace(\"memory_t\",\"t_cell\")\n",
    "ref_labels['labels'] = ref_labels['labels'].replace(\"naive_t\",\"t_cell\")\n",
    "print(ref_labels['labels'].unique())\n",
    "ref_labels.to_csv(\"/home/groups/ConradLab/daniel/sharp_data/pbmc_proto/ref_labels_tcombined.csv\")"
   ]
  },
  {
   "cell_type": "code",
   "execution_count": 13,
   "id": "426c5d00",
   "metadata": {},
   "outputs": [
    {
     "name": "stdout",
     "output_type": "stream",
     "text": [
      "['cytotoxic_t' 'naive_cytotoxic' 'cd56_nk' 'b_cells' 'naive_t' 'memory_t'\n",
      " 'regulatory_t' 'cd4_t_helper' 'cd14_monocytes']\n",
      "['t_cell' 'cd56_nk' 'b_cells' 'cd14_monocytes']\n"
     ]
    }
   ],
   "source": [
    "query_labels = pd.read_csv(\"/home/groups/ConradLab/daniel/sharp_data/pbmc_proto/query_labels.csv\", index_col=0)\n",
    "print(query_labels['labels'].unique())\n",
    "query_labels['labels'] = query_labels['labels'].replace(\"cytotoxic_t\",\"t_cell\")\n",
    "query_labels['labels'] = query_labels['labels'].replace(\"regulatory_t\",\"t_cell\")\n",
    "query_labels['labels'] = query_labels['labels'].replace(\"cd4_t_helper\",\"t_cell\")\n",
    "query_labels['labels'] = query_labels['labels'].replace(\"naive_cytotoxic\",\"t_cell\")\n",
    "query_labels['labels'] = query_labels['labels'].replace(\"memory_t\",\"t_cell\")\n",
    "query_labels['labels'] = query_labels['labels'].replace(\"naive_t\",\"t_cell\")\n",
    "print(query_labels['labels'].unique())\n",
    "query_labels.to_csv(\"/home/groups/ConradLab/daniel/sharp_data/pbmc_proto/query_labels_tcombined.csv\")"
   ]
  },
  {
   "cell_type": "code",
   "execution_count": 8,
   "id": "ffa13e5b",
   "metadata": {},
   "outputs": [],
   "source": [
    "# check no overlap with held out set\n",
    "ref_ids = pd.read_csv(\"/home/groups/ConradLab/daniel/sharp_data/pbmc_proto/ref_labels.csv\", index_col=0).index\n",
    "query_ids = pd.read_csv(\"/home/groups/ConradLab/daniel/sharp_data/pbmc_proto/query_labels.csv\", index_col=0).index\n",
    "big_ids = pd.read_csv(\"/home/groups/ConradLab/daniel/sharp_data/pbmc_10x/bigger_split_labels.csv\", index_col=0).index"
   ]
  },
  {
   "cell_type": "code",
   "execution_count": 9,
   "id": "8447c805",
   "metadata": {},
   "outputs": [
    {
     "name": "stdout",
     "output_type": "stream",
     "text": [
      "False\n",
      "False\n",
      "False\n"
     ]
    }
   ],
   "source": [
    "print(ref_ids.isin(big_ids).any())\n",
    "print(query_ids.isin(big_ids).any())\n",
    "print(query_ids.isin(ref_ids).any())"
   ]
  },
  {
   "cell_type": "code",
   "execution_count": 10,
   "id": "6f7bf487",
   "metadata": {},
   "outputs": [
    {
     "data": {
      "text/plain": [
       "True"
      ]
     },
     "execution_count": 10,
     "metadata": {},
     "output_type": "execute_result"
    }
   ],
   "source": [
    "ref_counts.columns.isin([\"CD8B\"]).any()"
   ]
  },
  {
   "cell_type": "code",
   "execution_count": 22,
   "id": "52051678",
   "metadata": {},
   "outputs": [
    {
     "name": "stdout",
     "output_type": "stream",
     "text": [
      "Index(['b_cells', 'cd14_monocytes', 'cd4_t_cell', 'cd56_nk', 'cd8_t_cell'], dtype='object')\n"
     ]
    }
   ],
   "source": [
    "data_folder = \"/home/groups/ConradLab/daniel/sharp_data/pbmc_proto/\"\n",
    "# get labels\n",
    "data_path = data_folder + \"query.csv\"\n",
    "#tools = [\"sctype\",\"scsorter\",\"scina\",\"singler\", \"scpred\"]\n",
    "tools = [\"scsorter\",\"scina\",\"sctype\"]\n",
    "ref_path = data_folder + \"ref.csv\"\n",
    "ref_label_path = data_folder + \"ref_labels_tcombined.csv\"\n",
    "marker_path = data_folder + \"markers_cd4-8.txt\"\n",
    "if os.path.exists(data_folder + \"preds_3kref_cd4-8.csv\"):\n",
    "    all_labels = pd.read_csv(data_folder + \"preds_3kref_cd4-8.csv\", index_col=0)\n",
    "    if all_labels.shape[1] != len(tools): \n",
    "        all_labels = all_labels[tools]\n",
    "        #raise Exception(\"wrong amount of tools in file\")\n",
    "else:\n",
    "    all_labels = utilities.label_counts(data_path,tools,ref_path,ref_label_path,marker_path)\n",
    "\n",
    "# read in dataset\n",
    "counts = pd.read_csv(data_path, index_col=0)\n",
    "X, keep_cells, keep_genes, pca_obj = utilities.preprocess(np.array(counts), scale=False, comps=500)\n",
    "\n",
    "all_labels = all_labels.loc[keep_cells,:]\n",
    "\n",
    "_,marker_names = utilities.read_marker_file(marker_path)\n",
    "\n",
    "all_labels_factored = utilities.factorize_df(all_labels, marker_names)\n",
    "encoded_labels = utilities.encode_predictions(all_labels_factored)\n",
    "\n",
    "confident_labels = utilities.get_consensus_labels(encoded_labels, necessary_vote = .51)\n",
    "\n",
    "meta_path = data_folder + \"query_labels_cd4-8.csv\"\n",
    "metadata = pd.read_csv(meta_path, index_col=0)\n",
    "real_y,cell_names = pd.factorize(metadata['labels'], sort=True)\n",
    "real_y = real_y[keep_cells]\n",
    "\n",
    "train_nodes = np.where(confident_labels != -1)[0]\n",
    "test_nodes = np.where(confident_labels == -1)[0]\n",
    "print(cell_names)"
   ]
  },
  {
   "cell_type": "code",
   "execution_count": 23,
   "id": "cdd83d8b",
   "metadata": {},
   "outputs": [
    {
     "data": {
      "text/plain": [
       "300"
      ]
     },
     "execution_count": 23,
     "metadata": {},
     "output_type": "execute_result"
    }
   ],
   "source": [
    "len(test_nodes)"
   ]
  },
  {
   "cell_type": "code",
   "execution_count": 24,
   "id": "8b1437ba",
   "metadata": {},
   "outputs": [
    {
     "data": {
      "text/plain": [
       "array([[ 483,    0,    0,    0,    0],\n",
       "       [   1,  116,    0,    0,    0],\n",
       "       [   3,    1, 1788,    0,   40],\n",
       "       [   1,    0,    1,  381,    4],\n",
       "       [   0,    0,   95,    2, 1030]])"
      ]
     },
     "execution_count": 24,
     "metadata": {},
     "output_type": "execute_result"
    }
   ],
   "source": [
    "confusion_matrix(real_y[train_nodes], confident_labels[train_nodes])"
   ]
  },
  {
   "cell_type": "code",
   "execution_count": 25,
   "id": "9631f8ab",
   "metadata": {
    "scrolled": true
   },
   "outputs": [
    {
     "data": {
      "text/plain": [
       "array([[   0,    0,    0,    0,    0,    0],\n",
       "       [  30,  453,    0,    0,    0,    0],\n",
       "       [  56,    0,   68,    0,    0,    0],\n",
       "       [ 472,   20,    2, 1568,    0,   12],\n",
       "       [ 178,    2,    0,    1,  235,    0],\n",
       "       [  86,   16,    2,  264,   13,  768]])"
      ]
     },
     "execution_count": 25,
     "metadata": {},
     "output_type": "execute_result"
    }
   ],
   "source": [
    "confusion_matrix(real_y, all_labels_factored['scina'])"
   ]
  },
  {
   "cell_type": "code",
   "execution_count": 26,
   "id": "fc28d54e",
   "metadata": {},
   "outputs": [
    {
     "data": {
      "text/plain": [
       "array([[ 483,    0,    0,    0,    0],\n",
       "       [   1,  123,    0,    0,    0],\n",
       "       [   0,    1, 2008,    1,   64],\n",
       "       [   0,    0,    3,  408,    5],\n",
       "       [   0,    0,   67,    2, 1080]])"
      ]
     },
     "execution_count": 26,
     "metadata": {},
     "output_type": "execute_result"
    }
   ],
   "source": [
    "confusion_matrix(real_y, all_labels_factored['sctype'])"
   ]
  },
  {
   "cell_type": "code",
   "execution_count": 27,
   "id": "af1dc5d1",
   "metadata": {},
   "outputs": [
    {
     "data": {
      "text/plain": [
       "array([[   0,    0,    0,    0,    0,    0],\n",
       "       [   6,  477,    0,    0,    0,    0],\n",
       "       [  10,    6,  106,    2,    0,    0],\n",
       "       [  47,    4,    0, 1020,    0, 1003],\n",
       "       [  70,    1,    1,    2,  309,   33],\n",
       "       [   4,    0,    0,   95,    0, 1050]])"
      ]
     },
     "execution_count": 27,
     "metadata": {},
     "output_type": "execute_result"
    }
   ],
   "source": [
    "confusion_matrix(real_y, all_labels_factored['scsorter'])"
   ]
  },
  {
   "cell_type": "code",
   "execution_count": 28,
   "id": "2e22b344",
   "metadata": {},
   "outputs": [
    {
     "data": {
      "text/plain": [
       "array([[   0,    0,    0,    0,    0,    0],\n",
       "       [   4,  479,    0,    0,    0,    0],\n",
       "       [   1,    0,  123,    0,    0,    0],\n",
       "       [  11,    0,    0, 2053,    0,   10],\n",
       "       [  14,    0,    0,   19,  203,  180],\n",
       "       [   0,    0,    0, 1056,    1,   92]])"
      ]
     },
     "execution_count": 28,
     "metadata": {},
     "output_type": "execute_result"
    }
   ],
   "source": [
    "confusion_matrix(real_y, all_labels_factored['singler'])"
   ]
  },
  {
   "cell_type": "code",
   "execution_count": 29,
   "id": "a2c5c6fc",
   "metadata": {},
   "outputs": [
    {
     "data": {
      "text/plain": [
       "array([[   0,    0,    0,    0,    0,    0],\n",
       "       [   0,  483,    0,    0,    0,    0],\n",
       "       [   0,    1,  123,    0,    0,    0],\n",
       "       [  11,    0,    1, 2025,    0,   37],\n",
       "       [  29,    0,    0,    2,  347,   38],\n",
       "       [   5,    0,    0,  981,    1,  162]])"
      ]
     },
     "execution_count": 29,
     "metadata": {},
     "output_type": "execute_result"
    }
   ],
   "source": [
    "confusion_matrix(real_y, all_labels_factored['scpred'])"
   ]
  },
  {
   "cell_type": "code",
   "execution_count": null,
   "id": "1717f7d9",
   "metadata": {},
   "outputs": [],
   "source": []
  },
  {
   "cell_type": "code",
   "execution_count": 25,
   "id": "d3893655",
   "metadata": {},
   "outputs": [
    {
     "name": "stdout",
     "output_type": "stream",
     "text": [
      "0.7282148003578186\n",
      "0.9660857319831848\n",
      "0.6975977420806885\n",
      "0.9550164937973022\n"
     ]
    },
    {
     "name": "stderr",
     "output_type": "stream",
     "text": [
      "/home/users/lewinsda/scSHARP/utilities.py:184: UserWarning: To copy construct from a tensor, it is recommended to use sourceTensor.clone().detach() or sourceTensor.clone().detach().requires_grad_(True), rather than torch.tensor(sourceTensor).\n",
      "  return float((torch.tensor(preds) == torch.tensor(real)).type(torch.FloatTensor).mean().numpy())\n"
     ]
    }
   ],
   "source": [
    "print(utilities.pred_accuracy(all_labels_factored['scina'], real_y))\n",
    "print(utilities.pred_accuracy(all_labels_factored['sctype'], real_y))\n",
    "print(utilities.pred_accuracy(all_labels_factored['scsorter'], real_y))\n",
    "#print(utilities.pred_accuracy(all_labels_factored['singler'], real_y))\n",
    "#print(utilities.pred_accuracy(all_labels_factored['scpred'], real_y))\n",
    "max_pred = torch.tensor(encoded_labels).max(dim=1)[1]\n",
    "print(utilities.pred_accuracy(max_pred, real_y))"
   ]
  },
  {
   "cell_type": "code",
   "execution_count": 26,
   "id": "4fa734a6",
   "metadata": {},
   "outputs": [
    {
     "name": "stdout",
     "output_type": "stream",
     "text": [
      "0.0\n",
      "0.9466666579246521\n",
      "0.046666666865348816\n",
      "0.8566666841506958\n"
     ]
    }
   ],
   "source": [
    "print(utilities.pred_accuracy(np.array(all_labels_factored['scina'][test_nodes]), real_y[test_nodes]))\n",
    "print(utilities.pred_accuracy(np.array(all_labels_factored['sctype'][test_nodes]), real_y[test_nodes]))\n",
    "print(utilities.pred_accuracy(np.array(all_labels_factored['scsorter'][test_nodes]), real_y[test_nodes]))\n",
    "#print(utilities.pred_accuracy(np.array(all_labels_factored['singler'][test_nodes]), real_y[test_nodes]))\n",
    "#print(utilities.pred_accuracy(np.array(all_labels_factored['scpred'][test_nodes]), real_y[test_nodes]))\n",
    "print(utilities.pred_accuracy(max_pred[test_nodes], real_y[test_nodes]))"
   ]
  },
  {
   "cell_type": "code",
   "execution_count": 27,
   "id": "e3f77998",
   "metadata": {},
   "outputs": [],
   "source": [
    "dataset  = torch.utils.data.TensorDataset(torch.tensor(X), torch.tensor(confident_labels))\n",
    "dataloader = torch.utils.data.DataLoader(dataset, batch_size=50, shuffle=True)\n",
    "\n",
    "test_dataset  = torch.utils.data.TensorDataset(torch.tensor(X), torch.tensor(real_y))\n",
    "test_dataloader = torch.utils.data.DataLoader(test_dataset, batch_size=50, shuffle=False)"
   ]
  },
  {
   "cell_type": "code",
   "execution_count": 8,
   "id": "234ceaa5",
   "metadata": {},
   "outputs": [
    {
     "data": {
      "text/plain": [
       "True"
      ]
     },
     "execution_count": 8,
     "metadata": {},
     "output_type": "execute_result"
    }
   ],
   "source": [
    "torch.cuda.is_available()"
   ]
  },
  {
   "cell_type": "code",
   "execution_count": 28,
   "id": "d4723615",
   "metadata": {},
   "outputs": [
    {
     "name": "stdout",
     "output_type": "stream",
     "text": [
      "Loss in epoch 0 = 60.115742\n",
      "Loss in epoch 10 = 0.106982\n",
      "Loss in epoch 20 = 0.012560\n",
      "Loss in epoch 30 = 0.004222\n",
      "Loss in epoch 40 = 0.002811\n",
      "Loss in epoch 50 = 0.001143\n",
      "Loss in epoch 60 = 0.000726\n",
      "Loss in epoch 70 = 0.000370\n",
      "Loss in epoch 80 = 0.000196\n",
      "Loss in epoch 90 = 0.000130\n",
      "Loss in epoch 100 = 0.000079\n",
      "Loss in epoch 110 = 0.000052\n",
      "Loss in epoch 120 = 0.000028\n",
      "Loss in epoch 130 = 0.000020\n",
      "Loss in epoch 140 = 0.000011\n"
     ]
    }
   ],
   "source": [
    "m = GCNModel(\"configs/2_40_5.txt\", 2, dropout=0.0)\n",
    "m.train(dataloader, 150)"
   ]
  },
  {
   "cell_type": "code",
   "execution_count": 43,
   "id": "840f9b0a",
   "metadata": {},
   "outputs": [
    {
     "data": {
      "text/plain": [
       "(0.9590202569961548,\n",
       " array([[ 483,    0,    0,    0,    0],\n",
       "        [   1,  123,    0,    0,    0],\n",
       "        [   4,    1, 2012,    0,   57],\n",
       "        [   1,    0,    2,  409,    4],\n",
       "        [   0,    0,  102,    2, 1045]]),\n",
       " 0.9624936580657959,\n",
       " array([[ 483,    0,    0,    0,    0],\n",
       "        [   1,  116,    0,    0,    0],\n",
       "        [   3,    1, 1788,    0,   40],\n",
       "        [   1,    0,    1,  381,    4],\n",
       "        [   0,    0,   95,    2, 1030]]),\n",
       " 0.9133333563804626,\n",
       " array([[  0,   0,   0,   0,   0],\n",
       "        [  0,   7,   0,   0,   0],\n",
       "        [  1,   0, 224,   0,  17],\n",
       "        [  0,   0,   1,  28,   0],\n",
       "        [  0,   0,   7,   0,  15]]))"
      ]
     },
     "execution_count": 43,
     "metadata": {},
     "output_type": "execute_result"
    }
   ],
   "source": [
    "m.validation_metrics(test_dataloader, train_nodes, test_nodes)"
   ]
  },
  {
   "cell_type": "code",
   "execution_count": 38,
   "id": "f80f8594",
   "metadata": {},
   "outputs": [
    {
     "data": {
      "text/plain": [
       "<sklearn.metrics._plot.confusion_matrix.ConfusionMatrixDisplay at 0x7f12bf9a3f70>"
      ]
     },
     "execution_count": 38,
     "metadata": {},
     "output_type": "execute_result"
    },
    {
     "data": {
      "image/png": "[encoded data removed]",
      "text/plain": [
       "<Figure size 432x288 with 2 Axes>"
      ]
     },
     "metadata": {
      "needs_background": "light"
     },
     "output_type": "display_data"
    }
   ],
   "source": [
    "ConfusionMatrixDisplay(total_m).plot()"
   ]
  },
  {
   "cell_type": "code",
   "execution_count": 13,
   "id": "b2f19166",
   "metadata": {},
   "outputs": [
    {
     "data": {
      "text/plain": [
       "array([[0.9359504 , 0.98553717, 1.        , 0.98966944, 1.        ],\n",
       "       [0.57758623, 0.91379309, 1.        , 0.99137932, 1.        ],\n",
       "       [0.77582848, 0.95614034, 1.        , 0.99220276, 0.99415207],\n",
       "       [0.70918369, 0.85204083, 1.        , 0.95918369, 0.97959185],\n",
       "       [0.60869563, 0.97826087, 1.        , 1.        , 0.97826087]])"
      ]
     },
     "execution_count": 13,
     "metadata": {},
     "output_type": "execute_result"
    }
   ],
   "source": [
    "ultra_confident_labels = utilities.get_consensus_labels(encoded_labels, necessary_vote = .9)\n",
    "ultra_conf_nodes = np.where(ultra_confident_labels != -1)[0]\n",
    "weights = np.zeros((5,5))\n",
    "for type in [0,1,2,3,4]:\n",
    "    \n",
    "    type_indices = np.where(confident_labels[ultra_conf_nodes]==type)[0]\n",
    "    for i, tool in enumerate(all_labels_factored.columns):\n",
    "        weights[type,i] = utilities.pred_accuracy(all_labels_factored[tool].to_numpy()[ultra_conf_nodes][type_indices], confident_labels[ultra_conf_nodes][type_indices])\n",
    "weights"
   ]
  },
  {
   "cell_type": "code",
   "execution_count": 21,
   "id": "d71b91d6",
   "metadata": {},
   "outputs": [
    {
     "data": {
      "text/plain": [
       "array([[   0,    0,    0,    0,    0,    0],\n",
       "       [   0,  484,    0,    0,    0,    0],\n",
       "       [   0,    0,  116,    0,    0,    0],\n",
       "       [   6,    0,    0, 1020,    0,    0],\n",
       "       [   4,    0,    0,    0,  192,    0],\n",
       "       [   1,    0,    0,    0,    0,   45]])"
      ]
     },
     "execution_count": 21,
     "metadata": {},
     "output_type": "execute_result"
    }
   ],
   "source": [
    "confusion_matrix(ultra_confident_labels[ultra_conf_nodes], all_labels_factored['scpred'][ultra_conf_nodes])"
   ]
  },
  {
   "cell_type": "code",
   "execution_count": 20,
   "id": "d2727f2a",
   "metadata": {},
   "outputs": [
    {
     "data": {
      "text/plain": [
       "6       0\n",
       "7       0\n",
       "10      2\n",
       "11      0\n",
       "13      3\n",
       "       ..\n",
       "4240    0\n",
       "4241    2\n",
       "4242    2\n",
       "4243    2\n",
       "4245    2\n",
       "Name: scpred, Length: 1868, dtype: int64"
      ]
     },
     "execution_count": 20,
     "metadata": {},
     "output_type": "execute_result"
    }
   ],
   "source": [
    " all_labels_factored['scpred'][ultra_conf_nodes]"
   ]
  },
  {
   "cell_type": "code",
   "execution_count": 14,
   "id": "679ecc12",
   "metadata": {},
   "outputs": [
    {
     "data": {
      "text/plain": [
       "Index(['scina', 'scsorter', 'sctype', 'singler', 'scpred'], dtype='object')"
      ]
     },
     "execution_count": 14,
     "metadata": {},
     "output_type": "execute_result"
    }
   ],
   "source": [
    "all_labels_factored.columns"
   ]
  },
  {
   "cell_type": "code",
   "execution_count": null,
   "id": "f2194386",
   "metadata": {},
   "outputs": [],
   "source": [
    "new_encoded = utilities.weighted_encode(all_labels_factored, encoded_labels, weights,.5)\n",
    "confident_labels = utilities.get_consensus_labels(encoded_labels, necessary_vote = .51)\n",
    "\n",
    "train_nodes = np.where(confident_labels != -1)[0]\n",
    "test_nodes = np.where(confident_labels == -1)[0]"
   ]
  },
  {
   "cell_type": "code",
   "execution_count": null,
   "id": "a91b58e3",
   "metadata": {},
   "outputs": [],
   "source": [
    "len(test_nodes)"
   ]
  },
  {
   "cell_type": "code",
   "execution_count": null,
   "id": "8ab02c1c",
   "metadata": {},
   "outputs": [],
   "source": [
    "confusion_matrix(real_y[train_nodes], confident_labels[train_nodes])"
   ]
  },
  {
   "cell_type": "code",
   "execution_count": null,
   "id": "f410e10a",
   "metadata": {},
   "outputs": [],
   "source": [
    "dataset  = torch.utils.data.TensorDataset(torch.tensor(X), torch.tensor(confident_labels))\n",
    "dataloader = torch.utils.data.DataLoader(dataset, batch_size=50, shuffle=True)\n",
    "\n",
    "test_dataset  = torch.utils.data.TensorDataset(torch.tensor(X), torch.tensor(real_y))\n",
    "test_dataloader = torch.utils.data.DataLoader(test_dataset, batch_size=50, shuffle=False)"
   ]
  },
  {
   "cell_type": "code",
   "execution_count": null,
   "id": "9654c893",
   "metadata": {},
   "outputs": [],
   "source": [
    "m = GCNModel(\"configs/2_40.txt\", 2, dropout=0.0)\n",
    "m.train(dataloader, 150)"
   ]
  },
  {
   "cell_type": "code",
   "execution_count": null,
   "id": "5baf69c5",
   "metadata": {},
   "outputs": [],
   "source": [
    "m.validation_metrics(test_dataloader, train_nodes, test_nodes)"
   ]
  },
  {
   "cell_type": "code",
   "execution_count": 47,
   "id": "9efef125",
   "metadata": {},
   "outputs": [
    {
     "data": {
      "text/plain": [
       "array([2, 3, 4])"
      ]
     },
     "execution_count": 47,
     "metadata": {},
     "output_type": "execute_result"
    }
   ],
   "source": [
    "np.unique(real_y[test_nodes])"
   ]
  },
  {
   "cell_type": "code",
   "execution_count": 30,
   "id": "db1fa319",
   "metadata": {},
   "outputs": [],
   "source": [
    "preds,_ = m.predict(test_dataloader)\n",
    "final_preds = preds.max(dim=1)[1]\n",
    "genes = counts.columns.to_numpy()[keep_genes]"
   ]
  },
  {
   "cell_type": "code",
   "execution_count": 40,
   "id": "6c37fb9c",
   "metadata": {},
   "outputs": [
    {
     "name": "stderr",
     "output_type": "stream",
     "text": [
      "/home/users/lewinsda/.conda/envs/daniel_thesis_2/lib/python3.9/site-packages/captum/_utils/gradient.py:57: UserWarning: Input Tensor 0 did not already require gradients, required_grads has been set automatically.\n",
      "  warnings.warn(\n",
      "/home/users/lewinsda/.conda/envs/daniel_thesis_2/lib/python3.9/site-packages/captum/attr/_core/deep_lift.py:336: UserWarning: Setting forward, backward hooks and attributes on non-linear\n",
      "               activations. The hooks and attributes will be removed\n",
      "            after the attribution is finished\n",
      "  warnings.warn(\n"
     ]
    }
   ],
   "source": [
    "int_df = utilities.run_interpretation(m, X, pca_obj, final_preds, genes)"
   ]
  },
  {
   "cell_type": "code",
   "execution_count": 41,
   "id": "24d906ea",
   "metadata": {},
   "outputs": [
    {
     "data": {
      "text/plain": [
       "[Text(0.5, 14.09375, 'Cell Type')]"
      ]
     },
     "execution_count": 41,
     "metadata": {},
     "output_type": "execute_result"
    },
    {
     "data": {
      "image/png": "[encoded data removed]",
      "text/plain": [
       "<Figure size 432x288 with 2 Axes>"
      ]
     },
     "metadata": {
      "needs_background": "light"
     },
     "output_type": "display_data"
    }
   ],
   "source": [
    "keep_genes = int_df.sort_values(0, ascending=True).head(4).index.tolist()\n",
    "keep_genes += int_df.sort_values(1, ascending=True).head(4).index.tolist()\n",
    "keep_genes += int_df.sort_values(2, ascending=True).head(4).index.tolist()\n",
    "keep_genes += int_df.sort_values(3, ascending=True).head(4).index.tolist()\n",
    "keep_genes += int_df.sort_values(4, ascending=True).head(4).index.tolist()\n",
    "int_df.columns = cell_names\n",
    "ax = sns.heatmap(int_df.loc[keep_genes,:])\n",
    "ax.set(xlabel=\"Cell Type\")"
   ]
  },
  {
   "cell_type": "code",
   "execution_count": 29,
   "id": "ef81f8f4",
   "metadata": {},
   "outputs": [
    {
     "data": {
      "text/html": [
       "<div>\n",
       "<style scoped>\n",
       "    .dataframe tbody tr th:only-of-type {\n",
       "        vertical-align: middle;\n",
       "    }\n",
       "\n",
       "    .dataframe tbody tr th {\n",
       "        vertical-align: top;\n",
       "    }\n",
       "\n",
       "    .dataframe thead th {\n",
       "        text-align: right;\n",
       "    }\n",
       "</style>\n",
       "<table border=\"1\" class=\"dataframe\">\n",
       "  <thead>\n",
       "    <tr style=\"text-align: right;\">\n",
       "      <th></th>\n",
       "      <th>b_cells</th>\n",
       "      <th>cd14_monocytes</th>\n",
       "      <th>cd34</th>\n",
       "      <th>cd4_t_cell</th>\n",
       "      <th>cd56_nk</th>\n",
       "      <th>cd8_t_cell</th>\n",
       "    </tr>\n",
       "  </thead>\n",
       "  <tbody>\n",
       "    <tr>\n",
       "      <th>CD74</th>\n",
       "      <td>23.028280</td>\n",
       "      <td>7.844861</td>\n",
       "      <td>7.117867</td>\n",
       "      <td>-23.998674</td>\n",
       "      <td>0.484068</td>\n",
       "      <td>-10.958111</td>\n",
       "    </tr>\n",
       "    <tr>\n",
       "      <th>HLA-DRA</th>\n",
       "      <td>20.550703</td>\n",
       "      <td>6.641532</td>\n",
       "      <td>7.058403</td>\n",
       "      <td>-20.337034</td>\n",
       "      <td>-0.839501</td>\n",
       "      <td>-11.454344</td>\n",
       "    </tr>\n",
       "    <tr>\n",
       "      <th>HLA-DRB1</th>\n",
       "      <td>18.000893</td>\n",
       "      <td>6.987773</td>\n",
       "      <td>3.675694</td>\n",
       "      <td>-15.676343</td>\n",
       "      <td>-0.664304</td>\n",
       "      <td>-11.306343</td>\n",
       "    </tr>\n",
       "    <tr>\n",
       "      <th>HLA-DPB1</th>\n",
       "      <td>16.351137</td>\n",
       "      <td>5.507708</td>\n",
       "      <td>4.831303</td>\n",
       "      <td>-16.857906</td>\n",
       "      <td>-0.593052</td>\n",
       "      <td>-7.320463</td>\n",
       "    </tr>\n",
       "    <tr>\n",
       "      <th>TYROBP</th>\n",
       "      <td>1.064735</td>\n",
       "      <td>8.092411</td>\n",
       "      <td>5.520627</td>\n",
       "      <td>-11.201632</td>\n",
       "      <td>12.154108</td>\n",
       "      <td>-5.426261</td>\n",
       "    </tr>\n",
       "    <tr>\n",
       "      <th>CD74</th>\n",
       "      <td>23.028280</td>\n",
       "      <td>7.844861</td>\n",
       "      <td>7.117867</td>\n",
       "      <td>-23.998674</td>\n",
       "      <td>0.484068</td>\n",
       "      <td>-10.958111</td>\n",
       "    </tr>\n",
       "    <tr>\n",
       "      <th>HLA-DRB1</th>\n",
       "      <td>18.000893</td>\n",
       "      <td>6.987773</td>\n",
       "      <td>3.675694</td>\n",
       "      <td>-15.676343</td>\n",
       "      <td>-0.664304</td>\n",
       "      <td>-11.306343</td>\n",
       "    </tr>\n",
       "    <tr>\n",
       "      <th>HLA-DRA</th>\n",
       "      <td>20.550703</td>\n",
       "      <td>6.641532</td>\n",
       "      <td>7.058403</td>\n",
       "      <td>-20.337034</td>\n",
       "      <td>-0.839501</td>\n",
       "      <td>-11.454344</td>\n",
       "    </tr>\n",
       "    <tr>\n",
       "      <th>GSTP1</th>\n",
       "      <td>1.188442</td>\n",
       "      <td>3.734811</td>\n",
       "      <td>7.499246</td>\n",
       "      <td>-9.217718</td>\n",
       "      <td>4.667435</td>\n",
       "      <td>-3.152863</td>\n",
       "    </tr>\n",
       "    <tr>\n",
       "      <th>AIF1</th>\n",
       "      <td>1.021200</td>\n",
       "      <td>3.756367</td>\n",
       "      <td>7.169282</td>\n",
       "      <td>-11.614655</td>\n",
       "      <td>1.482419</td>\n",
       "      <td>2.128209</td>\n",
       "    </tr>\n",
       "    <tr>\n",
       "      <th>CD74</th>\n",
       "      <td>23.028280</td>\n",
       "      <td>7.844861</td>\n",
       "      <td>7.117867</td>\n",
       "      <td>-23.998674</td>\n",
       "      <td>0.484068</td>\n",
       "      <td>-10.958111</td>\n",
       "    </tr>\n",
       "    <tr>\n",
       "      <th>HLA-DRA</th>\n",
       "      <td>20.550703</td>\n",
       "      <td>6.641532</td>\n",
       "      <td>7.058403</td>\n",
       "      <td>-20.337034</td>\n",
       "      <td>-0.839501</td>\n",
       "      <td>-11.454344</td>\n",
       "    </tr>\n",
       "    <tr>\n",
       "      <th>CD3E</th>\n",
       "      <td>-12.002522</td>\n",
       "      <td>-7.415385</td>\n",
       "      <td>-8.726439</td>\n",
       "      <td>24.218397</td>\n",
       "      <td>-8.053568</td>\n",
       "      <td>1.421115</td>\n",
       "    </tr>\n",
       "    <tr>\n",
       "      <th>LTB</th>\n",
       "      <td>-0.346633</td>\n",
       "      <td>-7.033349</td>\n",
       "      <td>-10.417953</td>\n",
       "      <td>23.500202</td>\n",
       "      <td>-12.056223</td>\n",
       "      <td>-9.035088</td>\n",
       "    </tr>\n",
       "    <tr>\n",
       "      <th>LDHB</th>\n",
       "      <td>-10.126038</td>\n",
       "      <td>-6.519560</td>\n",
       "      <td>-1.473903</td>\n",
       "      <td>18.866829</td>\n",
       "      <td>-6.240820</td>\n",
       "      <td>-3.996928</td>\n",
       "    </tr>\n",
       "    <tr>\n",
       "      <th>IL32</th>\n",
       "      <td>-10.177980</td>\n",
       "      <td>-5.832559</td>\n",
       "      <td>-8.223896</td>\n",
       "      <td>18.531984</td>\n",
       "      <td>-5.320324</td>\n",
       "      <td>4.382749</td>\n",
       "    </tr>\n",
       "    <tr>\n",
       "      <th>GNLY</th>\n",
       "      <td>-0.316129</td>\n",
       "      <td>5.620325</td>\n",
       "      <td>4.799681</td>\n",
       "      <td>-17.493612</td>\n",
       "      <td>17.322506</td>\n",
       "      <td>7.338871</td>\n",
       "    </tr>\n",
       "    <tr>\n",
       "      <th>NKG7</th>\n",
       "      <td>-0.229222</td>\n",
       "      <td>5.166356</td>\n",
       "      <td>4.729124</td>\n",
       "      <td>-19.735409</td>\n",
       "      <td>15.774127</td>\n",
       "      <td>11.838305</td>\n",
       "    </tr>\n",
       "    <tr>\n",
       "      <th>TYROBP</th>\n",
       "      <td>1.064735</td>\n",
       "      <td>8.092411</td>\n",
       "      <td>5.520627</td>\n",
       "      <td>-11.201632</td>\n",
       "      <td>12.154108</td>\n",
       "      <td>-5.426261</td>\n",
       "    </tr>\n",
       "    <tr>\n",
       "      <th>FCER1G</th>\n",
       "      <td>1.034266</td>\n",
       "      <td>6.026119</td>\n",
       "      <td>3.966823</td>\n",
       "      <td>-10.099002</td>\n",
       "      <td>10.145290</td>\n",
       "      <td>-2.005358</td>\n",
       "    </tr>\n",
       "    <tr>\n",
       "      <th>CD8B</th>\n",
       "      <td>3.882117</td>\n",
       "      <td>2.569363</td>\n",
       "      <td>-2.443788</td>\n",
       "      <td>-28.884510</td>\n",
       "      <td>1.633967</td>\n",
       "      <td>38.037041</td>\n",
       "    </tr>\n",
       "    <tr>\n",
       "      <th>CTSW</th>\n",
       "      <td>0.462211</td>\n",
       "      <td>3.272461</td>\n",
       "      <td>2.613079</td>\n",
       "      <td>-22.147541</td>\n",
       "      <td>8.821829</td>\n",
       "      <td>22.155212</td>\n",
       "    </tr>\n",
       "    <tr>\n",
       "      <th>HCST</th>\n",
       "      <td>-3.591217</td>\n",
       "      <td>2.602810</td>\n",
       "      <td>1.739482</td>\n",
       "      <td>-15.972071</td>\n",
       "      <td>8.580652</td>\n",
       "      <td>19.757111</td>\n",
       "    </tr>\n",
       "    <tr>\n",
       "      <th>CD8A</th>\n",
       "      <td>1.867370</td>\n",
       "      <td>1.323404</td>\n",
       "      <td>-1.120709</td>\n",
       "      <td>-14.157949</td>\n",
       "      <td>1.191333</td>\n",
       "      <td>18.354450</td>\n",
       "    </tr>\n",
       "  </tbody>\n",
       "</table>\n",
       "</div>"
      ],
      "text/plain": [
       "            b_cells  cd14_monocytes       cd34  cd4_t_cell    cd56_nk  \\\n",
       "CD74      23.028280        7.844861   7.117867  -23.998674   0.484068   \n",
       "HLA-DRA   20.550703        6.641532   7.058403  -20.337034  -0.839501   \n",
       "HLA-DRB1  18.000893        6.987773   3.675694  -15.676343  -0.664304   \n",
       "HLA-DPB1  16.351137        5.507708   4.831303  -16.857906  -0.593052   \n",
       "TYROBP     1.064735        8.092411   5.520627  -11.201632  12.154108   \n",
       "CD74      23.028280        7.844861   7.117867  -23.998674   0.484068   \n",
       "HLA-DRB1  18.000893        6.987773   3.675694  -15.676343  -0.664304   \n",
       "HLA-DRA   20.550703        6.641532   7.058403  -20.337034  -0.839501   \n",
       "GSTP1      1.188442        3.734811   7.499246   -9.217718   4.667435   \n",
       "AIF1       1.021200        3.756367   7.169282  -11.614655   1.482419   \n",
       "CD74      23.028280        7.844861   7.117867  -23.998674   0.484068   \n",
       "HLA-DRA   20.550703        6.641532   7.058403  -20.337034  -0.839501   \n",
       "CD3E     -12.002522       -7.415385  -8.726439   24.218397  -8.053568   \n",
       "LTB       -0.346633       -7.033349 -10.417953   23.500202 -12.056223   \n",
       "LDHB     -10.126038       -6.519560  -1.473903   18.866829  -6.240820   \n",
       "IL32     -10.177980       -5.832559  -8.223896   18.531984  -5.320324   \n",
       "GNLY      -0.316129        5.620325   4.799681  -17.493612  17.322506   \n",
       "NKG7      -0.229222        5.166356   4.729124  -19.735409  15.774127   \n",
       "TYROBP     1.064735        8.092411   5.520627  -11.201632  12.154108   \n",
       "FCER1G     1.034266        6.026119   3.966823  -10.099002  10.145290   \n",
       "CD8B       3.882117        2.569363  -2.443788  -28.884510   1.633967   \n",
       "CTSW       0.462211        3.272461   2.613079  -22.147541   8.821829   \n",
       "HCST      -3.591217        2.602810   1.739482  -15.972071   8.580652   \n",
       "CD8A       1.867370        1.323404  -1.120709  -14.157949   1.191333   \n",
       "\n",
       "          cd8_t_cell  \n",
       "CD74      -10.958111  \n",
       "HLA-DRA   -11.454344  \n",
       "HLA-DRB1  -11.306343  \n",
       "HLA-DPB1   -7.320463  \n",
       "TYROBP     -5.426261  \n",
       "CD74      -10.958111  \n",
       "HLA-DRB1  -11.306343  \n",
       "HLA-DRA   -11.454344  \n",
       "GSTP1      -3.152863  \n",
       "AIF1        2.128209  \n",
       "CD74      -10.958111  \n",
       "HLA-DRA   -11.454344  \n",
       "CD3E        1.421115  \n",
       "LTB        -9.035088  \n",
       "LDHB       -3.996928  \n",
       "IL32        4.382749  \n",
       "GNLY        7.338871  \n",
       "NKG7       11.838305  \n",
       "TYROBP     -5.426261  \n",
       "FCER1G     -2.005358  \n",
       "CD8B       38.037041  \n",
       "CTSW       22.155212  \n",
       "HCST       19.757111  \n",
       "CD8A       18.354450  "
      ]
     },
     "execution_count": 29,
     "metadata": {},
     "output_type": "execute_result"
    }
   ],
   "source": [
    "int_df.loc[keep_genes,:]"
   ]
  },
  {
   "cell_type": "code",
   "execution_count": 34,
   "id": "9007eb3e",
   "metadata": {},
   "outputs": [
    {
     "data": {
      "text/plain": [
       "b_cells          -0.781815\n",
       "cd14_monocytes    0.133937\n",
       "cd34             -0.302833\n",
       "cd4_t_cell        3.132172\n",
       "cd56_nk          -0.436225\n",
       "cd8_t_cell       -3.261806\n",
       "Name: CD4, dtype: float32"
      ]
     },
     "execution_count": 34,
     "metadata": {},
     "output_type": "execute_result"
    }
   ],
   "source": [
    "int_df.loc[\"CD4\",:]"
   ]
  },
  {
   "cell_type": "code",
   "execution_count": 42,
   "id": "368b87a0",
   "metadata": {},
   "outputs": [
    {
     "data": {
      "text/html": [
       "<div>\n",
       "<style scoped>\n",
       "    .dataframe tbody tr th:only-of-type {\n",
       "        vertical-align: middle;\n",
       "    }\n",
       "\n",
       "    .dataframe tbody tr th {\n",
       "        vertical-align: top;\n",
       "    }\n",
       "\n",
       "    .dataframe thead th {\n",
       "        text-align: right;\n",
       "    }\n",
       "</style>\n",
       "<table border=\"1\" class=\"dataframe\">\n",
       "  <thead>\n",
       "    <tr style=\"text-align: right;\">\n",
       "      <th></th>\n",
       "      <th>b_cells</th>\n",
       "      <th>cd14_monocytes</th>\n",
       "      <th>cd4_t_cell</th>\n",
       "      <th>cd56_nk</th>\n",
       "      <th>cd8_t_cell</th>\n",
       "    </tr>\n",
       "  </thead>\n",
       "  <tbody>\n",
       "    <tr>\n",
       "      <th>CD8B</th>\n",
       "      <td>7.018010</td>\n",
       "      <td>-1.748034</td>\n",
       "      <td>-21.753815</td>\n",
       "      <td>9.598660</td>\n",
       "      <td>40.133064</td>\n",
       "    </tr>\n",
       "    <tr>\n",
       "      <th>CTSW</th>\n",
       "      <td>4.139991</td>\n",
       "      <td>1.390396</td>\n",
       "      <td>-14.644913</td>\n",
       "      <td>12.355004</td>\n",
       "      <td>20.019049</td>\n",
       "    </tr>\n",
       "    <tr>\n",
       "      <th>HCST</th>\n",
       "      <td>0.141834</td>\n",
       "      <td>1.409299</td>\n",
       "      <td>-10.064933</td>\n",
       "      <td>10.820822</td>\n",
       "      <td>18.407000</td>\n",
       "    </tr>\n",
       "    <tr>\n",
       "      <th>CD8A</th>\n",
       "      <td>2.821873</td>\n",
       "      <td>-0.787437</td>\n",
       "      <td>-9.509352</td>\n",
       "      <td>4.423212</td>\n",
       "      <td>18.066359</td>\n",
       "    </tr>\n",
       "    <tr>\n",
       "      <th>CCL5</th>\n",
       "      <td>3.184116</td>\n",
       "      <td>1.020091</td>\n",
       "      <td>-12.502653</td>\n",
       "      <td>11.219174</td>\n",
       "      <td>17.754652</td>\n",
       "    </tr>\n",
       "    <tr>\n",
       "      <th>RP11-291B21.2</th>\n",
       "      <td>2.686982</td>\n",
       "      <td>-0.632465</td>\n",
       "      <td>-8.466253</td>\n",
       "      <td>3.846347</td>\n",
       "      <td>15.618284</td>\n",
       "    </tr>\n",
       "    <tr>\n",
       "      <th>RPS29</th>\n",
       "      <td>1.367254</td>\n",
       "      <td>-0.097059</td>\n",
       "      <td>-7.635847</td>\n",
       "      <td>5.646848</td>\n",
       "      <td>14.627715</td>\n",
       "    </tr>\n",
       "    <tr>\n",
       "      <th>S100B</th>\n",
       "      <td>2.709940</td>\n",
       "      <td>-0.289112</td>\n",
       "      <td>-8.217297</td>\n",
       "      <td>4.213336</td>\n",
       "      <td>13.939782</td>\n",
       "    </tr>\n",
       "    <tr>\n",
       "      <th>RPL38</th>\n",
       "      <td>2.809238</td>\n",
       "      <td>0.229308</td>\n",
       "      <td>-8.345004</td>\n",
       "      <td>5.721052</td>\n",
       "      <td>12.247563</td>\n",
       "    </tr>\n",
       "    <tr>\n",
       "      <th>RPL37</th>\n",
       "      <td>4.154610</td>\n",
       "      <td>-0.208218</td>\n",
       "      <td>-9.334414</td>\n",
       "      <td>5.748009</td>\n",
       "      <td>12.216928</td>\n",
       "    </tr>\n",
       "    <tr>\n",
       "      <th>NKG7</th>\n",
       "      <td>5.168999</td>\n",
       "      <td>4.369219</td>\n",
       "      <td>-15.987032</td>\n",
       "      <td>17.796097</td>\n",
       "      <td>11.900908</td>\n",
       "    </tr>\n",
       "    <tr>\n",
       "      <th>RPL36A</th>\n",
       "      <td>-0.152114</td>\n",
       "      <td>-0.759553</td>\n",
       "      <td>-3.946057</td>\n",
       "      <td>2.089160</td>\n",
       "      <td>11.567677</td>\n",
       "    </tr>\n",
       "    <tr>\n",
       "      <th>RPS21</th>\n",
       "      <td>3.336804</td>\n",
       "      <td>-0.078935</td>\n",
       "      <td>-8.348278</td>\n",
       "      <td>5.732500</td>\n",
       "      <td>11.462740</td>\n",
       "    </tr>\n",
       "    <tr>\n",
       "      <th>RPL34</th>\n",
       "      <td>2.805511</td>\n",
       "      <td>-0.826457</td>\n",
       "      <td>-6.413749</td>\n",
       "      <td>1.898744</td>\n",
       "      <td>11.090860</td>\n",
       "    </tr>\n",
       "    <tr>\n",
       "      <th>MT-CO2</th>\n",
       "      <td>4.591434</td>\n",
       "      <td>0.903762</td>\n",
       "      <td>-9.683547</td>\n",
       "      <td>5.528664</td>\n",
       "      <td>10.094078</td>\n",
       "    </tr>\n",
       "    <tr>\n",
       "      <th>RPL37A</th>\n",
       "      <td>4.029963</td>\n",
       "      <td>0.413640</td>\n",
       "      <td>-8.777977</td>\n",
       "      <td>5.318046</td>\n",
       "      <td>10.070598</td>\n",
       "    </tr>\n",
       "    <tr>\n",
       "      <th>RPS24</th>\n",
       "      <td>3.988520</td>\n",
       "      <td>0.909844</td>\n",
       "      <td>-8.909689</td>\n",
       "      <td>4.662652</td>\n",
       "      <td>9.874972</td>\n",
       "    </tr>\n",
       "    <tr>\n",
       "      <th>RPS28</th>\n",
       "      <td>1.120936</td>\n",
       "      <td>0.144970</td>\n",
       "      <td>-5.342747</td>\n",
       "      <td>3.187824</td>\n",
       "      <td>9.807502</td>\n",
       "    </tr>\n",
       "    <tr>\n",
       "      <th>ID2</th>\n",
       "      <td>0.850514</td>\n",
       "      <td>1.449488</td>\n",
       "      <td>-6.570652</td>\n",
       "      <td>6.124349</td>\n",
       "      <td>9.558054</td>\n",
       "    </tr>\n",
       "    <tr>\n",
       "      <th>SERF2</th>\n",
       "      <td>3.500283</td>\n",
       "      <td>1.648551</td>\n",
       "      <td>-9.075982</td>\n",
       "      <td>5.996655</td>\n",
       "      <td>9.423569</td>\n",
       "    </tr>\n",
       "    <tr>\n",
       "      <th>TOMM7</th>\n",
       "      <td>2.365380</td>\n",
       "      <td>-0.561536</td>\n",
       "      <td>-5.820909</td>\n",
       "      <td>3.199337</td>\n",
       "      <td>9.243739</td>\n",
       "    </tr>\n",
       "    <tr>\n",
       "      <th>RPS10</th>\n",
       "      <td>2.560876</td>\n",
       "      <td>-0.969374</td>\n",
       "      <td>-5.250721</td>\n",
       "      <td>1.364048</td>\n",
       "      <td>9.191205</td>\n",
       "    </tr>\n",
       "    <tr>\n",
       "      <th>GZMM</th>\n",
       "      <td>-0.206924</td>\n",
       "      <td>0.084845</td>\n",
       "      <td>-4.244701</td>\n",
       "      <td>5.406759</td>\n",
       "      <td>8.905593</td>\n",
       "    </tr>\n",
       "    <tr>\n",
       "      <th>CD7</th>\n",
       "      <td>-1.523213</td>\n",
       "      <td>-0.160780</td>\n",
       "      <td>-2.873439</td>\n",
       "      <td>6.004020</td>\n",
       "      <td>8.795769</td>\n",
       "    </tr>\n",
       "    <tr>\n",
       "      <th>COX7C</th>\n",
       "      <td>2.203092</td>\n",
       "      <td>0.172126</td>\n",
       "      <td>-6.149570</td>\n",
       "      <td>4.227092</td>\n",
       "      <td>8.624211</td>\n",
       "    </tr>\n",
       "    <tr>\n",
       "      <th>MT-CYB</th>\n",
       "      <td>1.940834</td>\n",
       "      <td>-1.560734</td>\n",
       "      <td>-4.334927</td>\n",
       "      <td>2.649603</td>\n",
       "      <td>8.559681</td>\n",
       "    </tr>\n",
       "    <tr>\n",
       "      <th>COX6C</th>\n",
       "      <td>2.251887</td>\n",
       "      <td>0.486260</td>\n",
       "      <td>-6.390756</td>\n",
       "      <td>4.433553</td>\n",
       "      <td>8.389755</td>\n",
       "    </tr>\n",
       "    <tr>\n",
       "      <th>RGS10</th>\n",
       "      <td>-2.075428</td>\n",
       "      <td>-1.647739</td>\n",
       "      <td>0.337246</td>\n",
       "      <td>-1.079171</td>\n",
       "      <td>8.344230</td>\n",
       "    </tr>\n",
       "    <tr>\n",
       "      <th>CARS</th>\n",
       "      <td>1.331419</td>\n",
       "      <td>-0.339844</td>\n",
       "      <td>-4.341276</td>\n",
       "      <td>2.035936</td>\n",
       "      <td>8.134889</td>\n",
       "    </tr>\n",
       "    <tr>\n",
       "      <th>MT-ND2</th>\n",
       "      <td>2.966368</td>\n",
       "      <td>0.111890</td>\n",
       "      <td>-6.586526</td>\n",
       "      <td>4.165931</td>\n",
       "      <td>8.082127</td>\n",
       "    </tr>\n",
       "  </tbody>\n",
       "</table>\n",
       "</div>"
      ],
      "text/plain": [
       "                b_cells  cd14_monocytes  cd4_t_cell    cd56_nk  cd8_t_cell\n",
       "CD8B           7.018010       -1.748034  -21.753815   9.598660   40.133064\n",
       "CTSW           4.139991        1.390396  -14.644913  12.355004   20.019049\n",
       "HCST           0.141834        1.409299  -10.064933  10.820822   18.407000\n",
       "CD8A           2.821873       -0.787437   -9.509352   4.423212   18.066359\n",
       "CCL5           3.184116        1.020091  -12.502653  11.219174   17.754652\n",
       "RP11-291B21.2  2.686982       -0.632465   -8.466253   3.846347   15.618284\n",
       "RPS29          1.367254       -0.097059   -7.635847   5.646848   14.627715\n",
       "S100B          2.709940       -0.289112   -8.217297   4.213336   13.939782\n",
       "RPL38          2.809238        0.229308   -8.345004   5.721052   12.247563\n",
       "RPL37          4.154610       -0.208218   -9.334414   5.748009   12.216928\n",
       "NKG7           5.168999        4.369219  -15.987032  17.796097   11.900908\n",
       "RPL36A        -0.152114       -0.759553   -3.946057   2.089160   11.567677\n",
       "RPS21          3.336804       -0.078935   -8.348278   5.732500   11.462740\n",
       "RPL34          2.805511       -0.826457   -6.413749   1.898744   11.090860\n",
       "MT-CO2         4.591434        0.903762   -9.683547   5.528664   10.094078\n",
       "RPL37A         4.029963        0.413640   -8.777977   5.318046   10.070598\n",
       "RPS24          3.988520        0.909844   -8.909689   4.662652    9.874972\n",
       "RPS28          1.120936        0.144970   -5.342747   3.187824    9.807502\n",
       "ID2            0.850514        1.449488   -6.570652   6.124349    9.558054\n",
       "SERF2          3.500283        1.648551   -9.075982   5.996655    9.423569\n",
       "TOMM7          2.365380       -0.561536   -5.820909   3.199337    9.243739\n",
       "RPS10          2.560876       -0.969374   -5.250721   1.364048    9.191205\n",
       "GZMM          -0.206924        0.084845   -4.244701   5.406759    8.905593\n",
       "CD7           -1.523213       -0.160780   -2.873439   6.004020    8.795769\n",
       "COX7C          2.203092        0.172126   -6.149570   4.227092    8.624211\n",
       "MT-CYB         1.940834       -1.560734   -4.334927   2.649603    8.559681\n",
       "COX6C          2.251887        0.486260   -6.390756   4.433553    8.389755\n",
       "RGS10         -2.075428       -1.647739    0.337246  -1.079171    8.344230\n",
       "CARS           1.331419       -0.339844   -4.341276   2.035936    8.134889\n",
       "MT-ND2         2.966368        0.111890   -6.586526   4.165931    8.082127"
      ]
     },
     "execution_count": 42,
     "metadata": {},
     "output_type": "execute_result"
    }
   ],
   "source": [
    "int_df.sort_values(\"cd8_t_cell\", ascending=False).head(30)"
   ]
  },
  {
   "cell_type": "code",
   "execution_count": 7,
   "id": "07c37b8e",
   "metadata": {},
   "outputs": [],
   "source": [
    "data_folders = [\"/home/groups/ConradLab/daniel/sharp_data/pbmc_proto/\"]\n",
    "#tools = [\"sctype\",\"scsorter\",\"scina\",\"singler\", \"scpred\"]\n",
    "#tools = [\"sctype\",\"scsorter\",\"scina\"]\n",
    "tools = [\"scsorter\",\"scina\",\"singler\", \"scpred\"]\n",
    "votes_necessary = .51\n",
    "model_file = \"configs/2_40_5.txt\"\n",
    "neighbors = 2\n",
    "batch_size=50\n",
    "training_epochs=150\n",
    "random_inits = 5"
   ]
  },
  {
   "cell_type": "code",
   "execution_count": 8,
   "id": "50a187b6",
   "metadata": {},
   "outputs": [
    {
     "name": "stdout",
     "output_type": "stream",
     "text": [
      "[0.7503532767295837, 0.7505887746810913, 0.7520018815994263, 0.7496467232704163, 0.7496467232704163]\n"
     ]
    },
    {
     "name": "stderr",
     "output_type": "stream",
     "text": [
      "/home/users/lewinsda/scSHARP/utilities.py:184: UserWarning: To copy construct from a tensor, it is recommended to use sourceTensor.clone().detach() or sourceTensor.clone().detach().requires_grad_(True), rather than torch.tensor(sourceTensor).\n",
      "  return float((torch.tensor(preds) == torch.tensor(real)).type(torch.FloatTensor).mean().numpy())\n"
     ]
    }
   ],
   "source": [
    "results = test_model(data_folders, tools, votes_necessary, model_file, neighbors, batch_size, training_epochs, random_inits, markers=\"markers_cd4-8.txt\", meta=\"query_labels_cd4-8.csv\", meta_col=\"labels\", preds = \"preds_3kref_cd4-8.csv\")"
   ]
  },
  {
   "cell_type": "code",
   "execution_count": 9,
   "id": "001b8308",
   "metadata": {},
   "outputs": [
    {
     "data": {
      "text/html": [
       "<div>\n",
       "<style scoped>\n",
       "    .dataframe tbody tr th:only-of-type {\n",
       "        vertical-align: middle;\n",
       "    }\n",
       "\n",
       "    .dataframe tbody tr th {\n",
       "        vertical-align: top;\n",
       "    }\n",
       "\n",
       "    .dataframe thead th {\n",
       "        text-align: right;\n",
       "    }\n",
       "</style>\n",
       "<table border=\"1\" class=\"dataframe\">\n",
       "  <thead>\n",
       "    <tr style=\"text-align: right;\">\n",
       "      <th></th>\n",
       "      <th>data_name</th>\n",
       "      <th>method</th>\n",
       "      <th>total_accuracy</th>\n",
       "      <th>train_accuracy</th>\n",
       "      <th>test_accuracy</th>\n",
       "      <th>total_sd</th>\n",
       "      <th>train_sd</th>\n",
       "      <th>test_sd</th>\n",
       "    </tr>\n",
       "  </thead>\n",
       "  <tbody>\n",
       "    <tr>\n",
       "      <th>0</th>\n",
       "      <td>pbmc_proto</td>\n",
       "      <td>GCN</td>\n",
       "      <td>0.750447</td>\n",
       "      <td>0.906094</td>\n",
       "      <td>0.127680</td>\n",
       "      <td>0.000965</td>\n",
       "      <td>0.0</td>\n",
       "      <td>0.004828</td>\n",
       "    </tr>\n",
       "    <tr>\n",
       "      <th>1</th>\n",
       "      <td>pbmc_proto</td>\n",
       "      <td>Max Col.</td>\n",
       "      <td>0.743052</td>\n",
       "      <td>0.906094</td>\n",
       "      <td>0.090695</td>\n",
       "      <td>0.000000</td>\n",
       "      <td>0.0</td>\n",
       "      <td>0.000000</td>\n",
       "    </tr>\n",
       "    <tr>\n",
       "      <th>2</th>\n",
       "      <td>pbmc_proto</td>\n",
       "      <td>Confident Labels</td>\n",
       "      <td>NaN</td>\n",
       "      <td>0.906094</td>\n",
       "      <td>NaN</td>\n",
       "      <td>0.000000</td>\n",
       "      <td>0.0</td>\n",
       "      <td>0.000000</td>\n",
       "    </tr>\n",
       "    <tr>\n",
       "      <th>3</th>\n",
       "      <td>pbmc_proto</td>\n",
       "      <td>scsorter</td>\n",
       "      <td>0.697598</td>\n",
       "      <td>0.645275</td>\n",
       "      <td>0.906949</td>\n",
       "      <td>0.000000</td>\n",
       "      <td>0.0</td>\n",
       "      <td>0.000000</td>\n",
       "    </tr>\n",
       "    <tr>\n",
       "      <th>4</th>\n",
       "      <td>pbmc_proto</td>\n",
       "      <td>scina</td>\n",
       "      <td>0.728215</td>\n",
       "      <td>0.693553</td>\n",
       "      <td>0.866902</td>\n",
       "      <td>0.000000</td>\n",
       "      <td>0.0</td>\n",
       "      <td>0.000000</td>\n",
       "    </tr>\n",
       "    <tr>\n",
       "      <th>5</th>\n",
       "      <td>pbmc_proto</td>\n",
       "      <td>singler</td>\n",
       "      <td>0.694772</td>\n",
       "      <td>0.854283</td>\n",
       "      <td>0.056537</td>\n",
       "      <td>0.000000</td>\n",
       "      <td>0.0</td>\n",
       "      <td>0.000000</td>\n",
       "    </tr>\n",
       "    <tr>\n",
       "      <th>6</th>\n",
       "      <td>pbmc_proto</td>\n",
       "      <td>scpred</td>\n",
       "      <td>0.739520</td>\n",
       "      <td>0.898734</td>\n",
       "      <td>0.102473</td>\n",
       "      <td>0.000000</td>\n",
       "      <td>0.0</td>\n",
       "      <td>0.000000</td>\n",
       "    </tr>\n",
       "  </tbody>\n",
       "</table>\n",
       "</div>"
      ],
      "text/plain": [
       "    data_name            method  total_accuracy  train_accuracy  \\\n",
       "0  pbmc_proto               GCN        0.750447        0.906094   \n",
       "1  pbmc_proto          Max Col.        0.743052        0.906094   \n",
       "2  pbmc_proto  Confident Labels             NaN        0.906094   \n",
       "3  pbmc_proto          scsorter        0.697598        0.645275   \n",
       "4  pbmc_proto             scina        0.728215        0.693553   \n",
       "5  pbmc_proto           singler        0.694772        0.854283   \n",
       "6  pbmc_proto            scpred        0.739520        0.898734   \n",
       "\n",
       "   test_accuracy  total_sd  train_sd   test_sd  \n",
       "0       0.127680  0.000965       0.0  0.004828  \n",
       "1       0.090695  0.000000       0.0  0.000000  \n",
       "2            NaN  0.000000       0.0  0.000000  \n",
       "3       0.906949  0.000000       0.0  0.000000  \n",
       "4       0.866902  0.000000       0.0  0.000000  \n",
       "5       0.056537  0.000000       0.0  0.000000  \n",
       "6       0.102473  0.000000       0.0  0.000000  "
      ]
     },
     "execution_count": 9,
     "metadata": {},
     "output_type": "execute_result"
    }
   ],
   "source": [
    "results"
   ]
  },
  {
   "cell_type": "code",
   "execution_count": 10,
   "id": "695430c4",
   "metadata": {},
   "outputs": [
    {
     "data": {
      "text/plain": [
       "Text(0.5, 1.0, 'Test Accuracy by Method')"
      ]
     },
     "execution_count": 10,
     "metadata": {},
     "output_type": "execute_result"
    },
    {
     "data": {
      "image/png": "[encoded data removed]",
      "text/plain": [
       "<Figure size 432x288 with 1 Axes>"
      ]
     },
     "metadata": {
      "needs_background": "light"
     },
     "output_type": "display_data"
    }
   ],
   "source": [
    "to_plot = results.loc[results['method']!=\"Confident Labels\",:]\n",
    "fig, ax = plt.subplots()\n",
    "ax.bar(to_plot['method'],  to_plot['test_accuracy'], yerr= to_plot['test_sd'], align='center')\n",
    "ax.set_xlabel(\"Tool\")\n",
    "ax.set_ylabel(\"Accuracy on Unconfident Nodes\")\n",
    "ax.set_title(\"Test Accuracy by Method\")"
   ]
  },
  {
   "cell_type": "code",
   "execution_count": 11,
   "id": "daf0cc33",
   "metadata": {},
   "outputs": [
    {
     "data": {
      "text/plain": [
       "Text(0.5, 1.0, 'Total Accuracy by Method')"
      ]
     },
     "execution_count": 11,
     "metadata": {},
     "output_type": "execute_result"
    },
    {
     "data": {
      "image/png": "[encoded data removed]",
      "text/plain": [
       "<Figure size 432x288 with 1 Axes>"
      ]
     },
     "metadata": {
      "needs_background": "light"
     },
     "output_type": "display_data"
    }
   ],
   "source": [
    "fig, ax = plt.subplots()\n",
    "ax.bar(to_plot['method'],  to_plot['total_accuracy'], yerr= to_plot['total_sd'], align='center')\n",
    "ax.set_xlabel(\"Tool\")\n",
    "ax.set_ylabel(\"Accuracy on All Nodes\")\n",
    "ax.set_title(\"Total Accuracy by Method\")"
   ]
  }
 ],
 "metadata": {
  "kernelspec": {
   "display_name": "daniel_thesis",
   "language": "python",
   "name": "daniel_thesis_2"
  },
  "language_info": {
   "codemirror_mode": {
    "name": "ipython",
    "version": 3
   },
   "file_extension": ".py",
   "mimetype": "text/x-python",
   "name": "python",
   "nbconvert_exporter": "python",
   "pygments_lexer": "ipython3",
   "version": "3.9.7"
  }
 },
 "nbformat": 4,
 "nbformat_minor": 5
}
