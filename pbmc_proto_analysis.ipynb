{
 "cells": [
  {
   "cell_type": "code",
   "execution_count": 1,
   "id": "553446fc",
   "metadata": {},
   "outputs": [
    {
     "name": "stderr",
     "output_type": "stream",
     "text": [
      "/home/users/lewinsda/.conda/envs/daniel_thesis_2/lib/python3.9/site-packages/tqdm/auto.py:22: TqdmWarning: IProgress not found. Please update jupyter and ipywidgets. See https://ipywidgets.readthedocs.io/en/stable/user_install.html\n",
      "  from .autonotebook import tqdm as notebook_tqdm\n"
     ]
    }
   ],
   "source": [
    "import numpy as np\n",
    "import pandas as pd\n",
    "import torch\n",
    "from gcn_model import GCNModel\n",
    "import utilities\n",
    "from test_model import test_model\n",
    "import os\n",
    "import statistics\n",
    "import matplotlib.pyplot as plt\n",
    "from sklearn.metrics import confusion_matrix\n",
    "import seaborn as sns"
   ]
  },
  {
   "cell_type": "code",
   "execution_count": 2,
   "id": "25dd3d0d",
   "metadata": {},
   "outputs": [
    {
     "name": "stdout",
     "output_type": "stream",
     "text": [
      "Index(['b_cells', 'cd14_monocytes', 'cd4_t_cell', 'cd56_nk', 'cd8_t_cell'], dtype='object')\n"
     ]
    }
   ],
   "source": [
    "data_folder = \"/home/groups/ConradLab/daniel/sharp_data/pbmc_proto/\"\n",
    "# get labels\n",
    "data_path = data_folder + \"query.csv\"\n",
    "tools = [\"sctype\",\"scsorter\",\"scina\",\"singler\", \"scpred\"]\n",
    "#tools = [\"scsorter\",\"scina\",\"sctype\"]\n",
    "ref_path = data_folder + \"ref.csv\"\n",
    "ref_label_path = data_folder + \"ref_labels_tcombined.csv\"\n",
    "marker_path = data_folder + \"markers_cd4-8.txt\"\n",
    "if os.path.exists(data_folder + \"preds_3kref_cd4-8.csv\"):\n",
    "    all_labels = pd.read_csv(data_folder + \"preds_3kref_cd4-8.csv\", index_col=0)\n",
    "    if all_labels.shape[1] != len(tools): \n",
    "        all_labels = all_labels[tools]\n",
    "        #raise Exception(\"wrong amount of tools in file\")\n",
    "else:\n",
    "    all_labels = utilities.label_counts(data_path,tools,ref_path,ref_label_path,marker_path)\n",
    "\n",
    "# read in dataset\n",
    "counts = pd.read_csv(data_path, index_col=0)\n",
    "X, keep_cells, keep_genes, pca_obj = utilities.preprocess(np.array(counts), scale=False, comps=500)\n",
    "\n",
    "all_labels = all_labels.loc[keep_cells,:]\n",
    "\n",
    "_,marker_names = utilities.read_marker_file(marker_path)\n",
    "\n",
    "all_labels_factored = utilities.factorize_df(all_labels, marker_names)\n",
    "encoded_labels = utilities.encode_predictions(all_labels_factored)\n",
    "\n",
    "confident_labels = utilities.get_consensus_labels(encoded_labels, necessary_vote = .51)\n",
    "\n",
    "meta_path = data_folder + \"query_labels_cd4-8.csv\"\n",
    "metadata = pd.read_csv(meta_path, index_col=0)\n",
    "real_y,cell_names = pd.factorize(metadata['labels'], sort=True)\n",
    "real_y = real_y[keep_cells]\n",
    "\n",
    "train_nodes = np.where(confident_labels != -1)[0]\n",
    "test_nodes = np.where(confident_labels == -1)[0]\n",
    "print(cell_names)"
   ]
  },
  {
   "cell_type": "code",
   "execution_count": 3,
   "id": "2394002a",
   "metadata": {},
   "outputs": [
    {
     "data": {
      "text/plain": [
       "array([0.94068003, 0.68073308, 0.78659272, 0.77260673, 0.81697613])"
      ]
     },
     "execution_count": 3,
     "metadata": {},
     "output_type": "execute_result"
    }
   ],
   "source": [
    "scores = np.zeros(len(tools))\n",
    "for i, tool in enumerate(tools):\n",
    "    scores[i] = utilities.pred_accuracy(all_labels_factored[tool].to_numpy()[train_nodes], confident_labels[train_nodes])\n",
    "scores"
   ]
  },
  {
   "cell_type": "code",
   "execution_count": 4,
   "id": "33fa8507",
   "metadata": {},
   "outputs": [
    {
     "data": {
      "text/plain": [
       "array([-1.44684359, -1.77027635, -1.62573602, -1.64367647, -1.58783675])"
      ]
     },
     "execution_count": 4,
     "metadata": {},
     "output_type": "execute_result"
    }
   ],
   "source": [
    "scores /= scores.sum()\n",
    "scores = np.log(scores)\n",
    "scores"
   ]
  },
  {
   "cell_type": "code",
   "execution_count": 5,
   "id": "3ab72236",
   "metadata": {},
   "outputs": [],
   "source": [
    "results = all_labels_factored.to_numpy()\n",
    "results_exp = np.zeros((results.shape[0], results.shape[1], 5))\n",
    "\n",
    "results_exp[results == 0, :] = np.array([1,0,0,0,0])\n",
    "results_exp[results == 1, :] = np.array([0,1,0,0,0])\n",
    "results_exp[results == 2, :] = np.array([0,0,1,0,0])\n",
    "results_exp[results == 3, :] = np.array([0,0,0,1,0])\n",
    "results_exp[results == 4, :] = np.array([0,0,0,0,1])\n",
    "\n",
    "tY = torch.tensor(results_exp).float()"
   ]
  },
  {
   "cell_type": "code",
   "execution_count": 6,
   "id": "9fec5652",
   "metadata": {},
   "outputs": [
    {
     "name": "stderr",
     "output_type": "stream",
     "text": [
      "<ipython-input-6-5609dd3d85d1>:1: UserWarning: To copy construct from a tensor, it is recommended to use sourceTensor.clone().detach() or sourceTensor.clone().detach().requires_grad_(True), rather than torch.tensor(sourceTensor).\n",
      "  dataset  = torch.utils.data.TensorDataset(torch.tensor(X), torch.tensor(tY))\n"
     ]
    }
   ],
   "source": [
    "dataset  = torch.utils.data.TensorDataset(torch.tensor(X), torch.tensor(tY))\n",
    "dataloader = torch.utils.data.DataLoader(dataset, batch_size=50, shuffle=True)\n",
    "\n",
    "test_dataset  = torch.utils.data.TensorDataset(torch.tensor(X), torch.tensor(real_y))\n",
    "test_dataloader = torch.utils.data.DataLoader(test_dataset, batch_size=50, shuffle=False)"
   ]
  },
  {
   "cell_type": "code",
   "execution_count": 13,
   "id": "e013b6ba",
   "metadata": {},
   "outputs": [
    {
     "name": "stdout",
     "output_type": "stream",
     "text": [
      "Loss in epoch 0 = 29.444733\n",
      "Loss in epoch 10 = 13.568172\n",
      "Loss in epoch 20 = 12.605890\n",
      "Loss in epoch 30 = 12.393337\n",
      "Loss in epoch 40 = 12.325214\n",
      "Loss in epoch 50 = 12.284460\n",
      "Loss in epoch 60 = 12.265996\n",
      "Loss in epoch 70 = 12.318281\n",
      "Loss in epoch 80 = 12.230808\n",
      "Loss in epoch 90 = 12.224720\n",
      "Loss in epoch 100 = 12.439528\n",
      "Loss in epoch 110 = 12.198706\n",
      "Loss in epoch 120 = 12.216996\n",
      "Loss in epoch 130 = 12.207728\n",
      "Loss in epoch 140 = 12.228580\n",
      "Loss in epoch 150 = 12.188997\n",
      "Loss in epoch 160 = 12.194435\n",
      "Loss in epoch 170 = 12.186616\n",
      "Loss in epoch 180 = 12.192631\n",
      "Loss in epoch 190 = 12.193334\n",
      "Loss in epoch 200 = 12.181057\n",
      "Loss in epoch 210 = 12.183413\n",
      "Loss in epoch 220 = 12.177344\n",
      "Loss in epoch 230 = 12.180355\n",
      "Loss in epoch 240 = 12.182647\n"
     ]
    }
   ],
   "source": [
    "m = GCNModel(\"configs/2_40_5.txt\", 2, scores, weights_mode = True, learn_weights = True, dropout=0.0)\n",
    "m.train(dataloader, 250, verbose=True)"
   ]
  },
  {
   "cell_type": "code",
   "execution_count": 14,
   "id": "457465d1",
   "metadata": {},
   "outputs": [
    {
     "data": {
      "text/plain": [
       "(0.9173339605331421,\n",
       " array([[ 483,    0,    0,    0,    0],\n",
       "        [   1,  123,    0,    0,    0],\n",
       "        [   0,    1, 2055,    1,   17],\n",
       "        [   0,    0,    7,  378,   31],\n",
       "        [   0,    0,  292,    1,  856]]),\n",
       " 0.9312756061553955,\n",
       " array([[ 483,    0,    0,    0,    0],\n",
       "        [   1,  123,    0,    0,    0],\n",
       "        [   0,    1, 2049,    0,   14],\n",
       "        [   0,    0,    2,  368,   13],\n",
       "        [   0,    0,  253,    1,  839]]),\n",
       " 0.3333333432674408,\n",
       " array([[ 6,  1,  3],\n",
       "        [ 5, 10, 18],\n",
       "        [39,  0, 17]]))"
      ]
     },
     "execution_count": 14,
     "metadata": {},
     "output_type": "execute_result"
    }
   ],
   "source": [
    "m.validation_metrics(test_dataloader, train_nodes, test_nodes)"
   ]
  }
 ],
 "metadata": {
  "kernelspec": {
   "display_name": "daniel_thesis",
   "language": "python",
   "name": "daniel_thesis_2"
  },
  "language_info": {
   "codemirror_mode": {
    "name": "ipython",
    "version": 3
   },
   "file_extension": ".py",
   "mimetype": "text/x-python",
   "name": "python",
   "nbconvert_exporter": "python",
   "pygments_lexer": "ipython3",
   "version": "3.9.7"
  }
 },
 "nbformat": 4,
 "nbformat_minor": 5
}
