{
 "cells": [
  {
   "cell_type": "code",
   "execution_count": 1,
   "metadata": {},
   "outputs": [
    {
     "name": "stderr",
     "output_type": "stream",
     "text": [
      "/home/users/lewinsda/.conda/envs/daniel_thesis_2/lib/python3.9/site-packages/tqdm/auto.py:22: TqdmWarning: IProgress not found. Please update jupyter and ipywidgets. See https://ipywidgets.readthedocs.io/en/stable/user_install.html\n",
      "  from .autonotebook import tqdm as notebook_tqdm\n"
     ]
    }
   ],
   "source": [
    "import torch\n",
    "import utilities\n",
    "import numpy as np\n",
    "import pandas as pd\n",
    "from sc_sharp import scSHARP"
   ]
  },
  {
   "cell_type": "code",
   "execution_count": 16,
   "metadata": {},
   "outputs": [],
   "source": [
    "x = np.array([[1,1], [2,2], [3,3], [10,10], [11,11], [12,12]])\n",
    "preds = [0, -1, 0, 1, -1, 1]"
   ]
  },
  {
   "cell_type": "code",
   "execution_count": 17,
   "metadata": {},
   "outputs": [
    {
     "data": {
      "text/plain": [
       "array([0, 0, 0, 1, 1, 1])"
      ]
     },
     "execution_count": 17,
     "metadata": {},
     "output_type": "execute_result"
    }
   ],
   "source": [
    "utilities.knn_consensus(x, preds, 2, one_epoch=True)"
   ]
  },
  {
   "cell_type": "code",
   "execution_count": 18,
   "metadata": {
    "scrolled": true
   },
   "outputs": [
    {
     "name": "stdout",
     "output_type": "stream",
     "text": [
      "1\n"
     ]
    },
    {
     "name": "stderr",
     "output_type": "stream",
     "text": [
      "/home/users/lewinsda/scSHARP/utilities.py:423: UserWarning: To copy construct from a tensor, it is recommended to use sourceTensor.clone().detach() or sourceTensor.clone().detach().requires_grad_(True), rather than torch.tensor(sourceTensor).\n",
      "  dataset  = torch.utils.data.TensorDataset(torch.tensor(counts), torch.tensor(preds))\n"
     ]
    },
    {
     "data": {
      "text/plain": [
       "array([0., 0., 0., 1., 1., 1.], dtype=float32)"
      ]
     },
     "execution_count": 18,
     "metadata": {},
     "output_type": "execute_result"
    }
   ],
   "source": [
    "utilities.knn_consensus_batch(x, preds, 2, batch_size = 3, converge=True)"
   ]
  },
  {
   "cell_type": "code",
   "execution_count": 2,
   "metadata": {},
   "outputs": [],
   "source": [
    "#data_path = \"/home/groups/ConradLab/daniel/sharp_data/sharp_sims_test/splat_0.7_de_rq/\"\n",
    "data_path = \"/home/groups/ConradLab/daniel/sharp_data/sharp_sims_test/splat_0.8_de_rq/\"\n",
    "#data_path = \"/home/groups/ConradLab/daniel/sharp_data/jung/\""
   ]
  },
  {
   "cell_type": "code",
   "execution_count": 3,
   "metadata": {},
   "outputs": [
    {
     "data": {
      "text/html": [
       "<div>\n",
       "<style scoped>\n",
       "    .dataframe tbody tr th:only-of-type {\n",
       "        vertical-align: middle;\n",
       "    }\n",
       "\n",
       "    .dataframe tbody tr th {\n",
       "        vertical-align: top;\n",
       "    }\n",
       "\n",
       "    .dataframe thead th {\n",
       "        text-align: right;\n",
       "    }\n",
       "</style>\n",
       "<table border=\"1\" class=\"dataframe\">\n",
       "  <thead>\n",
       "    <tr style=\"text-align: right;\">\n",
       "      <th></th>\n",
       "      <th>Gene1</th>\n",
       "      <th>Gene2</th>\n",
       "      <th>Gene3</th>\n",
       "      <th>Gene4</th>\n",
       "      <th>Gene5</th>\n",
       "      <th>Gene6</th>\n",
       "      <th>Gene7</th>\n",
       "      <th>Gene8</th>\n",
       "      <th>Gene9</th>\n",
       "      <th>Gene10</th>\n",
       "      <th>...</th>\n",
       "      <th>Gene33685</th>\n",
       "      <th>Gene33686</th>\n",
       "      <th>Gene33687</th>\n",
       "      <th>Gene33688</th>\n",
       "      <th>Gene33689</th>\n",
       "      <th>Gene33690</th>\n",
       "      <th>Gene33691</th>\n",
       "      <th>Gene33692</th>\n",
       "      <th>Gene33693</th>\n",
       "      <th>Gene33694</th>\n",
       "    </tr>\n",
       "  </thead>\n",
       "  <tbody>\n",
       "    <tr>\n",
       "      <th>Cell1001</th>\n",
       "      <td>0</td>\n",
       "      <td>0</td>\n",
       "      <td>0</td>\n",
       "      <td>0</td>\n",
       "      <td>0</td>\n",
       "      <td>0</td>\n",
       "      <td>0</td>\n",
       "      <td>0</td>\n",
       "      <td>0</td>\n",
       "      <td>0</td>\n",
       "      <td>...</td>\n",
       "      <td>0</td>\n",
       "      <td>0</td>\n",
       "      <td>0</td>\n",
       "      <td>0</td>\n",
       "      <td>0</td>\n",
       "      <td>0</td>\n",
       "      <td>0</td>\n",
       "      <td>0</td>\n",
       "      <td>0</td>\n",
       "      <td>0</td>\n",
       "    </tr>\n",
       "    <tr>\n",
       "      <th>Cell1002</th>\n",
       "      <td>0</td>\n",
       "      <td>0</td>\n",
       "      <td>0</td>\n",
       "      <td>0</td>\n",
       "      <td>0</td>\n",
       "      <td>0</td>\n",
       "      <td>0</td>\n",
       "      <td>0</td>\n",
       "      <td>0</td>\n",
       "      <td>0</td>\n",
       "      <td>...</td>\n",
       "      <td>0</td>\n",
       "      <td>0</td>\n",
       "      <td>0</td>\n",
       "      <td>0</td>\n",
       "      <td>0</td>\n",
       "      <td>0</td>\n",
       "      <td>0</td>\n",
       "      <td>0</td>\n",
       "      <td>0</td>\n",
       "      <td>0</td>\n",
       "    </tr>\n",
       "    <tr>\n",
       "      <th>Cell1003</th>\n",
       "      <td>0</td>\n",
       "      <td>0</td>\n",
       "      <td>0</td>\n",
       "      <td>0</td>\n",
       "      <td>0</td>\n",
       "      <td>0</td>\n",
       "      <td>0</td>\n",
       "      <td>0</td>\n",
       "      <td>0</td>\n",
       "      <td>0</td>\n",
       "      <td>...</td>\n",
       "      <td>0</td>\n",
       "      <td>0</td>\n",
       "      <td>0</td>\n",
       "      <td>0</td>\n",
       "      <td>0</td>\n",
       "      <td>0</td>\n",
       "      <td>0</td>\n",
       "      <td>0</td>\n",
       "      <td>0</td>\n",
       "      <td>0</td>\n",
       "    </tr>\n",
       "    <tr>\n",
       "      <th>Cell1004</th>\n",
       "      <td>0</td>\n",
       "      <td>0</td>\n",
       "      <td>0</td>\n",
       "      <td>0</td>\n",
       "      <td>0</td>\n",
       "      <td>0</td>\n",
       "      <td>0</td>\n",
       "      <td>0</td>\n",
       "      <td>0</td>\n",
       "      <td>0</td>\n",
       "      <td>...</td>\n",
       "      <td>0</td>\n",
       "      <td>0</td>\n",
       "      <td>0</td>\n",
       "      <td>0</td>\n",
       "      <td>0</td>\n",
       "      <td>0</td>\n",
       "      <td>0</td>\n",
       "      <td>0</td>\n",
       "      <td>0</td>\n",
       "      <td>0</td>\n",
       "    </tr>\n",
       "    <tr>\n",
       "      <th>Cell1005</th>\n",
       "      <td>0</td>\n",
       "      <td>0</td>\n",
       "      <td>0</td>\n",
       "      <td>0</td>\n",
       "      <td>0</td>\n",
       "      <td>0</td>\n",
       "      <td>0</td>\n",
       "      <td>0</td>\n",
       "      <td>0</td>\n",
       "      <td>0</td>\n",
       "      <td>...</td>\n",
       "      <td>0</td>\n",
       "      <td>0</td>\n",
       "      <td>0</td>\n",
       "      <td>0</td>\n",
       "      <td>0</td>\n",
       "      <td>0</td>\n",
       "      <td>0</td>\n",
       "      <td>0</td>\n",
       "      <td>0</td>\n",
       "      <td>0</td>\n",
       "    </tr>\n",
       "  </tbody>\n",
       "</table>\n",
       "<p>5 rows × 33694 columns</p>\n",
       "</div>"
      ],
      "text/plain": [
       "          Gene1  Gene2  Gene3  Gene4  Gene5  Gene6  Gene7  Gene8  Gene9  \\\n",
       "Cell1001      0      0      0      0      0      0      0      0      0   \n",
       "Cell1002      0      0      0      0      0      0      0      0      0   \n",
       "Cell1003      0      0      0      0      0      0      0      0      0   \n",
       "Cell1004      0      0      0      0      0      0      0      0      0   \n",
       "Cell1005      0      0      0      0      0      0      0      0      0   \n",
       "\n",
       "          Gene10  ...  Gene33685  Gene33686  Gene33687  Gene33688  Gene33689  \\\n",
       "Cell1001       0  ...          0          0          0          0          0   \n",
       "Cell1002       0  ...          0          0          0          0          0   \n",
       "Cell1003       0  ...          0          0          0          0          0   \n",
       "Cell1004       0  ...          0          0          0          0          0   \n",
       "Cell1005       0  ...          0          0          0          0          0   \n",
       "\n",
       "          Gene33690  Gene33691  Gene33692  Gene33693  Gene33694  \n",
       "Cell1001          0          0          0          0          0  \n",
       "Cell1002          0          0          0          0          0  \n",
       "Cell1003          0          0          0          0          0  \n",
       "Cell1004          0          0          0          0          0  \n",
       "Cell1005          0          0          0          0          0  \n",
       "\n",
       "[5 rows x 33694 columns]"
      ]
     },
     "execution_count": 3,
     "metadata": {},
     "output_type": "execute_result"
    }
   ],
   "source": [
    "counts = pd.read_csv(data_path + \"query_counts.csv\", index_col = 0)\n",
    "#counts = pd.read_csv(data_path + \"counts.csv\", index_col = 0)\n",
    "counts.head()"
   ]
  },
  {
   "cell_type": "code",
   "execution_count": 4,
   "metadata": {
    "scrolled": true
   },
   "outputs": [
    {
     "data": {
      "text/html": [
       "<div>\n",
       "<style scoped>\n",
       "    .dataframe tbody tr th:only-of-type {\n",
       "        vertical-align: middle;\n",
       "    }\n",
       "\n",
       "    .dataframe tbody tr th {\n",
       "        vertical-align: top;\n",
       "    }\n",
       "\n",
       "    .dataframe thead th {\n",
       "        text-align: right;\n",
       "    }\n",
       "</style>\n",
       "<table border=\"1\" class=\"dataframe\">\n",
       "  <thead>\n",
       "    <tr style=\"text-align: right;\">\n",
       "      <th></th>\n",
       "      <th>scina</th>\n",
       "      <th>scsorter</th>\n",
       "      <th>sctype</th>\n",
       "      <th>singler</th>\n",
       "      <th>scpred</th>\n",
       "    </tr>\n",
       "  </thead>\n",
       "  <tbody>\n",
       "    <tr>\n",
       "      <th>Cell1001</th>\n",
       "      <td>NaN</td>\n",
       "      <td>Group4</td>\n",
       "      <td>Group4</td>\n",
       "      <td>Group4</td>\n",
       "      <td>Group4</td>\n",
       "    </tr>\n",
       "    <tr>\n",
       "      <th>Cell1002</th>\n",
       "      <td>Group3</td>\n",
       "      <td>Group3</td>\n",
       "      <td>Group3</td>\n",
       "      <td>Group3</td>\n",
       "      <td>Group3</td>\n",
       "    </tr>\n",
       "    <tr>\n",
       "      <th>Cell1003</th>\n",
       "      <td>Group3</td>\n",
       "      <td>Group3</td>\n",
       "      <td>Group3</td>\n",
       "      <td>Group3</td>\n",
       "      <td>Group3</td>\n",
       "    </tr>\n",
       "    <tr>\n",
       "      <th>Cell1004</th>\n",
       "      <td>NaN</td>\n",
       "      <td>Group3</td>\n",
       "      <td>Group2</td>\n",
       "      <td>Group3</td>\n",
       "      <td>Group3</td>\n",
       "    </tr>\n",
       "    <tr>\n",
       "      <th>Cell1005</th>\n",
       "      <td>NaN</td>\n",
       "      <td>Group3</td>\n",
       "      <td>Group3</td>\n",
       "      <td>Group3</td>\n",
       "      <td>Group3</td>\n",
       "    </tr>\n",
       "  </tbody>\n",
       "</table>\n",
       "</div>"
      ],
      "text/plain": [
       "           scina scsorter  sctype singler  scpred\n",
       "Cell1001     NaN   Group4  Group4  Group4  Group4\n",
       "Cell1002  Group3   Group3  Group3  Group3  Group3\n",
       "Cell1003  Group3   Group3  Group3  Group3  Group3\n",
       "Cell1004     NaN   Group3  Group2  Group3  Group3\n",
       "Cell1005     NaN   Group3  Group3  Group3  Group3"
      ]
     },
     "execution_count": 4,
     "metadata": {},
     "output_type": "execute_result"
    }
   ],
   "source": [
    "all_labels = pd.read_csv(data_path + \"preds.csv\", index_col=0)\n",
    "all_labels.head()"
   ]
  },
  {
   "cell_type": "code",
   "execution_count": 5,
   "metadata": {},
   "outputs": [
    {
     "data": {
      "text/plain": [
       "(998, 500)"
      ]
     },
     "execution_count": 5,
     "metadata": {},
     "output_type": "execute_result"
    }
   ],
   "source": [
    "X, keep_cells,keep_genes,pca_obj = utilities.preprocess(np.array(counts), scale=False, run_pca=True)\n",
    "X.shape"
   ]
  },
  {
   "cell_type": "code",
   "execution_count": 6,
   "metadata": {},
   "outputs": [],
   "source": [
    "_,marker_names = utilities.read_marker_file(data_path + \"markers.txt\")"
   ]
  },
  {
   "cell_type": "code",
   "execution_count": 7,
   "metadata": {},
   "outputs": [],
   "source": [
    "all_labels_factored = utilities.factorize_df(all_labels, marker_names)\n",
    "encoded_labels = utilities.encode_predictions(all_labels_factored)\n",
    "confident_labels = utilities.get_consensus_labels(encoded_labels, necessary_vote = .51)\n",
    "confident_labels = confident_labels"
   ]
  },
  {
   "cell_type": "code",
   "execution_count": 8,
   "metadata": {},
   "outputs": [],
   "source": [
    "real_y = pd.read_csv(data_path + \"query_meta.csv\", index_col= 0).Group\n",
    "#real_y = pd.read_csv(data_path + \"labels.csv\", index_col= 0).iloc[:,0]\n",
    "real_y = pd.factorize(real_y, sort=True)[0]\n",
    "real_y = real_y[keep_cells]"
   ]
  },
  {
   "cell_type": "code",
   "execution_count": 9,
   "metadata": {
    "scrolled": true
   },
   "outputs": [
    {
     "name": "stdout",
     "output_type": "stream",
     "text": [
      "10\n",
      "(0.37374749779701233, array([[  0,   0,   0,   0,   0],\n",
      "       [  0,  69,   0,   0, 185],\n",
      "       [  1,   2,   1,   1, 239],\n",
      "       [  1,   0,   0,  58, 196],\n",
      "       [  0,   0,   0,   0, 245]]))\n",
      "50\n",
      "(0.2635270655155182, array([[  7,   0,   0, 247],\n",
      "       [  0,   0,   0, 244],\n",
      "       [  0,   0,  11, 244],\n",
      "       [  0,   0,   0, 245]]))\n",
      "100\n",
      "(0.24949899315834045, array([[  0,   0,   0, 254],\n",
      "       [  0,   0,   0, 244],\n",
      "       [  0,   0,   4, 251],\n",
      "       [  0,   0,   0, 245]]))\n",
      "200\n",
      "(0.24849699437618256, array([[  1,   0,   0, 253],\n",
      "       [  0,   0,   0, 244],\n",
      "       [  0,   0,   2, 253],\n",
      "       [  0,   0,   0, 245]]))\n",
      "400\n",
      "(0.26853707432746887, array([[ 15,   0,   0, 239],\n",
      "       [  0,   0,   0, 244],\n",
      "       [  0,   0,   8, 247],\n",
      "       [  0,   0,   0, 245]]))\n",
      "500\n",
      "(0.29859718680381775, array([[ 42,   0,   0, 212],\n",
      "       [  0,   0,   0, 244],\n",
      "       [  0,   0,  11, 244],\n",
      "       [  0,   0,   0, 245]]))\n"
     ]
    }
   ],
   "source": [
    "# one epoch\n",
    "for i in [10,50,100, 200, 400, 500]:\n",
    "    preds = utilities.knn_consensus(X, confident_labels, i, converge=False, one_epoch=True)\n",
    "    print(i)\n",
    "    print(utilities.validation_metrics(torch.tensor(real_y), torch.tensor(preds), range(len(real_y)), range(len(real_y)))[0:2])\n"
   ]
  },
  {
   "cell_type": "code",
   "execution_count": 10,
   "metadata": {},
   "outputs": [
    {
     "name": "stdout",
     "output_type": "stream",
     "text": [
      "10\n",
      "(0.37374749779701233, array([[  0,   0,   0,   0,   0],\n",
      "       [  0,  69,   0,   0, 185],\n",
      "       [  1,   2,   1,   1, 239],\n",
      "       [  1,   0,   0,  58, 196],\n",
      "       [  0,   0,   0,   0, 245]]))\n",
      "50\n",
      "(0.2635270655155182, array([[  7,   0,   0, 247],\n",
      "       [  0,   0,   0, 244],\n",
      "       [  0,   0,  11, 244],\n",
      "       [  0,   0,   0, 245]]))\n",
      "100\n",
      "(0.24949899315834045, array([[  0,   0,   0, 254],\n",
      "       [  0,   0,   0, 244],\n",
      "       [  0,   0,   4, 251],\n",
      "       [  0,   0,   0, 245]]))\n",
      "200\n",
      "(0.24849699437618256, array([[  1,   0,   0, 253],\n",
      "       [  0,   0,   0, 244],\n",
      "       [  0,   0,   2, 253],\n",
      "       [  0,   0,   0, 245]]))\n",
      "400\n",
      "(0.26853707432746887, array([[ 15,   0,   0, 239],\n",
      "       [  0,   0,   0, 244],\n",
      "       [  0,   0,   8, 247],\n",
      "       [  0,   0,   0, 245]]))\n",
      "500\n",
      "(0.29859718680381775, array([[ 42,   0,   0, 212],\n",
      "       [  0,   0,   0, 244],\n",
      "       [  0,   0,  11, 244],\n",
      "       [  0,   0,   0, 245]]))\n"
     ]
    }
   ],
   "source": [
    "# one epoch\n",
    "for i in [10,50,100, 200, 400, 500]:\n",
    "    preds = utilities.knn_consensus_batch(X, confident_labels, i, converge=False, one_epoch=True, batch_size=1000)\n",
    "    print(i)\n",
    "    print(utilities.validation_metrics(torch.tensor(real_y), torch.tensor(preds), range(len(real_y)), range(len(real_y)))[0:2])"
   ]
  },
  {
   "cell_type": "code",
   "execution_count": 27,
   "metadata": {
    "scrolled": true
   },
   "outputs": [
    {
     "name": "stdout",
     "output_type": "stream",
     "text": [
      "1\n",
      "2\n",
      "10\n",
      "(0.24549098312854767, array([[  0,   0,   0, 254],\n",
      "       [  0,   0,   0, 244],\n",
      "       [  0,   0,   0, 255],\n",
      "       [  0,   0,   0, 245]]))\n",
      "50\n",
      "(0.2635270655155182, array([[  7,   0,   0, 247],\n",
      "       [  0,   0,   0, 244],\n",
      "       [  0,   0,  11, 244],\n",
      "       [  0,   0,   0, 245]]))\n",
      "100\n",
      "(0.24949899315834045, array([[  0,   0,   0, 254],\n",
      "       [  0,   0,   0, 244],\n",
      "       [  0,   0,   4, 251],\n",
      "       [  0,   0,   0, 245]]))\n",
      "200\n",
      "(0.24849699437618256, array([[  1,   0,   0, 253],\n",
      "       [  0,   0,   0, 244],\n",
      "       [  0,   0,   2, 253],\n",
      "       [  0,   0,   0, 245]]))\n",
      "400\n",
      "(0.26853707432746887, array([[ 15,   0,   0, 239],\n",
      "       [  0,   0,   0, 244],\n",
      "       [  0,   0,   8, 247],\n",
      "       [  0,   0,   0, 245]]))\n",
      "500\n",
      "(0.29859718680381775, array([[ 42,   0,   0, 212],\n",
      "       [  0,   0,   0, 244],\n",
      "       [  0,   0,  11, 244],\n",
      "       [  0,   0,   0, 245]]))\n"
     ]
    }
   ],
   "source": [
    "# until all labelled\n",
    "for i in [10,50,100, 200, 400, 500]:\n",
    "    preds = utilities.knn_consensus(X, confident_labels, i, converge=False, one_epoch=False)\n",
    "    print(i)\n",
    "    print(utilities.validation_metrics(torch.tensor(real_y), torch.tensor(preds), range(len(real_y)), range(len(real_y)))[0:2])"
   ]
  },
  {
   "cell_type": "code",
   "execution_count": 11,
   "metadata": {},
   "outputs": [
    {
     "name": "stdout",
     "output_type": "stream",
     "text": [
      "1\n"
     ]
    },
    {
     "name": "stderr",
     "output_type": "stream",
     "text": [
      "/home/users/lewinsda/scSHARP/utilities.py:423: UserWarning: To copy construct from a tensor, it is recommended to use sourceTensor.clone().detach() or sourceTensor.clone().detach().requires_grad_(True), rather than torch.tensor(sourceTensor).\n",
      "  dataset  = torch.utils.data.TensorDataset(torch.tensor(counts), torch.tensor(preds))\n"
     ]
    },
    {
     "name": "stdout",
     "output_type": "stream",
     "text": [
      "2\n",
      "10\n",
      "(0.24549098312854767, array([[  0,   0,   0, 254],\n",
      "       [  0,   0,   0, 244],\n",
      "       [  0,   0,   0, 255],\n",
      "       [  0,   0,   0, 245]]))\n",
      "50\n",
      "(0.2635270655155182, array([[  7,   0,   0, 247],\n",
      "       [  0,   0,   0, 244],\n",
      "       [  0,   0,  11, 244],\n",
      "       [  0,   0,   0, 245]]))\n",
      "100\n",
      "(0.24949899315834045, array([[  0,   0,   0, 254],\n",
      "       [  0,   0,   0, 244],\n",
      "       [  0,   0,   4, 251],\n",
      "       [  0,   0,   0, 245]]))\n",
      "200\n",
      "(0.24849699437618256, array([[  1,   0,   0, 253],\n",
      "       [  0,   0,   0, 244],\n",
      "       [  0,   0,   2, 253],\n",
      "       [  0,   0,   0, 245]]))\n",
      "400\n",
      "(0.26853707432746887, array([[ 15,   0,   0, 239],\n",
      "       [  0,   0,   0, 244],\n",
      "       [  0,   0,   8, 247],\n",
      "       [  0,   0,   0, 245]]))\n",
      "500\n",
      "(0.29859718680381775, array([[ 42,   0,   0, 212],\n",
      "       [  0,   0,   0, 244],\n",
      "       [  0,   0,  11, 244],\n",
      "       [  0,   0,   0, 245]]))\n"
     ]
    }
   ],
   "source": [
    "# until all labelled\n",
    "for i in [10,50,100, 200, 400, 500]:\n",
    "    preds = utilities.knn_consensus_batch(X, confident_labels, i, converge=False, one_epoch=False, batch_size=1000)\n",
    "    print(i)\n",
    "    print(utilities.validation_metrics(torch.tensor(real_y), torch.tensor(preds), range(len(real_y)), range(len(real_y)))[0:2])"
   ]
  },
  {
   "cell_type": "code",
   "execution_count": 28,
   "metadata": {
    "scrolled": true
   },
   "outputs": [
    {
     "name": "stdout",
     "output_type": "stream",
     "text": [
      "1\n",
      "2\n",
      "10\n",
      "(0.24549098312854767, array([[  0,   0,   0, 254],\n",
      "       [  0,   0,   0, 244],\n",
      "       [  0,   0,   0, 255],\n",
      "       [  0,   0,   0, 245]]))\n",
      "1\n",
      "50\n",
      "(0.24549098312854767, array([[  0,   0,   0, 254],\n",
      "       [  0,   0,   0, 244],\n",
      "       [  0,   0,   0, 255],\n",
      "       [  0,   0,   0, 245]]))\n",
      "1\n",
      "100\n",
      "(0.24549098312854767, array([[  0,   0,   0, 254],\n",
      "       [  0,   0,   0, 244],\n",
      "       [  0,   0,   0, 255],\n",
      "       [  0,   0,   0, 245]]))\n",
      "1\n",
      "200\n",
      "(0.24549098312854767, array([[  0,   0,   0, 254],\n",
      "       [  0,   0,   0, 244],\n",
      "       [  0,   0,   0, 255],\n",
      "       [  0,   0,   0, 245]]))\n",
      "1\n",
      "400\n",
      "(0.24549098312854767, array([[  0,   0,   0, 254],\n",
      "       [  0,   0,   0, 244],\n",
      "       [  0,   0,   0, 255],\n",
      "       [  0,   0,   0, 245]]))\n",
      "1\n",
      "2\n",
      "500\n",
      "(0.24549098312854767, array([[  0,   0,   0, 254],\n",
      "       [  0,   0,   0, 244],\n",
      "       [  0,   0,   0, 255],\n",
      "       [  0,   0,   0, 245]]))\n"
     ]
    }
   ],
   "source": [
    "# until converge\n",
    "for i in [10,50,100, 200, 400, 500]:\n",
    "    preds = utilities.knn_consensus(X, confident_labels, i, converge=True, one_epoch=False)\n",
    "    print(i)\n",
    "    print(utilities.validation_metrics(torch.tensor(real_y), torch.tensor(preds), range(len(real_y)), range(len(real_y)))[0:2])"
   ]
  },
  {
   "cell_type": "code",
   "execution_count": 16,
   "metadata": {},
   "outputs": [
    {
     "name": "stdout",
     "output_type": "stream",
     "text": [
      "1\n"
     ]
    },
    {
     "name": "stderr",
     "output_type": "stream",
     "text": [
      "/home/users/lewinsda/scSHARP/utilities.py:423: UserWarning: To copy construct from a tensor, it is recommended to use sourceTensor.clone().detach() or sourceTensor.clone().detach().requires_grad_(True), rather than torch.tensor(sourceTensor).\n",
      "  dataset  = torch.utils.data.TensorDataset(torch.tensor(counts), torch.tensor(preds))\n"
     ]
    },
    {
     "name": "stdout",
     "output_type": "stream",
     "text": [
      "5\n",
      "(0.8786126971244812, array([[  0,   0,   0,   0],\n",
      "       [  3, 167,  71,   3],\n",
      "       [  1,   5, 150,   0],\n",
      "       [  1,   0,   0, 291]]))\n",
      "1\n"
     ]
    },
    {
     "name": "stderr",
     "output_type": "stream",
     "text": [
      "/home/users/lewinsda/scSHARP/utilities.py:423: UserWarning: To copy construct from a tensor, it is recommended to use sourceTensor.clone().detach() or sourceTensor.clone().detach().requires_grad_(True), rather than torch.tensor(sourceTensor).\n",
      "  dataset  = torch.utils.data.TensorDataset(torch.tensor(counts), torch.tensor(preds))\n"
     ]
    },
    {
     "name": "stdout",
     "output_type": "stream",
     "text": [
      "10\n",
      "(0.8771676421165466, array([[  0,   0,   0,   0],\n",
      "       [  4, 163,  75,   2],\n",
      "       [  0,   4, 152,   0],\n",
      "       [  0,   0,   0, 292]]))\n",
      "1\n"
     ]
    },
    {
     "name": "stderr",
     "output_type": "stream",
     "text": [
      "/home/users/lewinsda/scSHARP/utilities.py:423: UserWarning: To copy construct from a tensor, it is recommended to use sourceTensor.clone().detach() or sourceTensor.clone().detach().requires_grad_(True), rather than torch.tensor(sourceTensor).\n",
      "  dataset  = torch.utils.data.TensorDataset(torch.tensor(counts), torch.tensor(preds))\n"
     ]
    },
    {
     "name": "stdout",
     "output_type": "stream",
     "text": [
      "50\n",
      "(0.8352600932121277, array([[150,  92,   2],\n",
      "       [ 16, 139,   1],\n",
      "       [  0,   3, 289]]))\n",
      "1\n"
     ]
    },
    {
     "name": "stderr",
     "output_type": "stream",
     "text": [
      "/home/users/lewinsda/scSHARP/utilities.py:423: UserWarning: To copy construct from a tensor, it is recommended to use sourceTensor.clone().detach() or sourceTensor.clone().detach().requires_grad_(True), rather than torch.tensor(sourceTensor).\n",
      "  dataset  = torch.utils.data.TensorDataset(torch.tensor(counts), torch.tensor(preds))\n"
     ]
    },
    {
     "name": "stdout",
     "output_type": "stream",
     "text": [
      "2\n",
      "100\n",
      "(0.6994219422340393, array([[ 76, 133,  35],\n",
      "       [ 17, 119,  20],\n",
      "       [  2,   1, 289]]))\n"
     ]
    }
   ],
   "source": [
    "# until converge batch\n",
    "for i in [5,10,50,100]:\n",
    "    preds = utilities.knn_consensus_batch(X, confident_labels, i, batch_size = 300, converge=True, one_epoch=False)\n",
    "    print(i)\n",
    "    print(utilities.validation_metrics(torch.tensor(real_y), torch.tensor(preds), range(len(real_y)), range(len(real_y)))[0:2])"
   ]
  },
  {
   "cell_type": "code",
   "execution_count": null,
   "metadata": {},
   "outputs": [],
   "source": [
    "preds = utilities.knn_consensus(X, confident_labels, 700, converge=True, one_epoch=False)\n",
    "\n",
    "print(utilities.validation_metrics(torch.tensor(real_y), torch.tensor(preds), range(len(real_y)), range(len(real_y)))[0:2])"
   ]
  },
  {
   "cell_type": "code",
   "execution_count": null,
   "metadata": {},
   "outputs": [],
   "source": [
    "preds.shape"
   ]
  },
  {
   "cell_type": "code",
   "execution_count": 76,
   "metadata": {},
   "outputs": [
    {
     "name": "stdout",
     "output_type": "stream",
     "text": [
      "(0.8078034520149231, array([[  0,   0,   0,   0],\n",
      "       [ 32, 136,  74,   2],\n",
      "       [  4,  10, 142,   0],\n",
      "       [ 10,   1,   0, 281]]))\n"
     ]
    }
   ],
   "source": [
    "print(utilities.validation_metrics(torch.tensor(real_y), torch.tensor(confident_labels), range(len(real_y)), range(len(real_y)))[0:2])"
   ]
  }
 ],
 "metadata": {
  "kernelspec": {
   "display_name": "daniel_thesis",
   "language": "python",
   "name": "daniel_thesis_2"
  },
  "language_info": {
   "codemirror_mode": {
    "name": "ipython",
    "version": 3
   },
   "file_extension": ".py",
   "mimetype": "text/x-python",
   "name": "python",
   "nbconvert_exporter": "python",
   "pygments_lexer": "ipython3",
   "version": "3.9.7"
  },
  "vscode": {
   "interpreter": {
    "hash": "9e461d02738fd757bc3d2933f9434d370f54d79aa7bbf71ca755487c9a10e111"
   }
  }
 },
 "nbformat": 4,
 "nbformat_minor": 2
}
