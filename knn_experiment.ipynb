{
 "cells": [
  {
   "cell_type": "code",
   "execution_count": 1,
   "metadata": {},
   "outputs": [
    {
     "name": "stderr",
     "output_type": "stream",
     "text": [
      "/home/users/lewinsda/.conda/envs/daniel_thesis_2/lib/python3.9/site-packages/tqdm/auto.py:22: TqdmWarning: IProgress not found. Please update jupyter and ipywidgets. See https://ipywidgets.readthedocs.io/en/stable/user_install.html\n",
      "  from .autonotebook import tqdm as notebook_tqdm\n"
     ]
    }
   ],
   "source": [
    "import torch\n",
    "import utilities\n",
    "import numpy as np\n",
    "import pandas as pd\n",
    "from sc_sharp import scSHARP\n",
    "import matplotlib.pyplot as plt"
   ]
  },
  {
   "cell_type": "code",
   "execution_count": 3,
   "metadata": {},
   "outputs": [],
   "source": [
    "x = np.array([[1,1], [2,2], [3,3], [10,10], [11,11], [12,12]])\n",
    "preds = [0, -1, 0, 1, -1, 1]"
   ]
  },
  {
   "cell_type": "code",
   "execution_count": 4,
   "metadata": {},
   "outputs": [
    {
     "data": {
      "text/plain": [
       "array([0, 0, 0, 1, 1, 1])"
      ]
     },
     "execution_count": 4,
     "metadata": {},
     "output_type": "execute_result"
    }
   ],
   "source": [
    "utilities.knn_consensus(x, preds, 2, one_epoch=True)"
   ]
  },
  {
   "cell_type": "code",
   "execution_count": 5,
   "metadata": {
    "scrolled": false
   },
   "outputs": [
    {
     "name": "stdout",
     "output_type": "stream",
     "text": [
      "1\n"
     ]
    },
    {
     "name": "stderr",
     "output_type": "stream",
     "text": [
      "/home/users/lewinsda/scSHARP/utilities.py:423: UserWarning: To copy construct from a tensor, it is recommended to use sourceTensor.clone().detach() or sourceTensor.clone().detach().requires_grad_(True), rather than torch.tensor(sourceTensor).\n",
      "  dataset  = torch.utils.data.TensorDataset(torch.tensor(counts), torch.tensor(preds))\n"
     ]
    },
    {
     "data": {
      "text/plain": [
       "array([0., 0., 0., 1., 1., 1.], dtype=float32)"
      ]
     },
     "execution_count": 5,
     "metadata": {},
     "output_type": "execute_result"
    }
   ],
   "source": [
    "utilities.knn_consensus_batch(x, preds, 2, batch_size = 3, converge=True)"
   ]
  },
  {
   "cell_type": "code",
   "execution_count": 23,
   "metadata": {},
   "outputs": [],
   "source": [
    "#data_path = \"/home/groups/ConradLab/daniel/sharp_data/sharp_sims_test/splat_0.7_de_rq/\"\n",
    "#data_path = \"/home/groups/ConradLab/daniel/sharp_data/sharp_sims_test/splat_0.8_de_rq/\"\n",
    "data_path = \"/home/groups/ConradLab/daniel/sharp_data/jung/\""
   ]
  },
  {
   "cell_type": "code",
   "execution_count": 24,
   "metadata": {},
   "outputs": [
    {
     "data": {
      "text/html": [
       "<div>\n",
       "<style scoped>\n",
       "    .dataframe tbody tr th:only-of-type {\n",
       "        vertical-align: middle;\n",
       "    }\n",
       "\n",
       "    .dataframe tbody tr th {\n",
       "        vertical-align: top;\n",
       "    }\n",
       "\n",
       "    .dataframe thead th {\n",
       "        text-align: right;\n",
       "    }\n",
       "</style>\n",
       "<table border=\"1\" class=\"dataframe\">\n",
       "  <thead>\n",
       "    <tr style=\"text-align: right;\">\n",
       "      <th></th>\n",
       "      <th>0610009B22Rik</th>\n",
       "      <th>0610009L18Rik</th>\n",
       "      <th>0610009O20Rik</th>\n",
       "      <th>0610010F05Rik</th>\n",
       "      <th>0610011F06Rik</th>\n",
       "      <th>0610012G03Rik</th>\n",
       "      <th>0610030E20Rik</th>\n",
       "      <th>0610037L13Rik</th>\n",
       "      <th>0610040B10Rik</th>\n",
       "      <th>1110001J03Rik</th>\n",
       "      <th>...</th>\n",
       "      <th>Zzz3</th>\n",
       "      <th>mt-Co1</th>\n",
       "      <th>mt-Cytb</th>\n",
       "      <th>mt-Nd1</th>\n",
       "      <th>mt-Nd2</th>\n",
       "      <th>mt-Nd3</th>\n",
       "      <th>mt-Nd4</th>\n",
       "      <th>mt-Nd5</th>\n",
       "      <th>mt-Rnr1</th>\n",
       "      <th>mt-Rnr2</th>\n",
       "    </tr>\n",
       "  </thead>\n",
       "  <tbody>\n",
       "    <tr>\n",
       "      <th>CGTTCCGACGT</th>\n",
       "      <td>0</td>\n",
       "      <td>0</td>\n",
       "      <td>0</td>\n",
       "      <td>0</td>\n",
       "      <td>0</td>\n",
       "      <td>0</td>\n",
       "      <td>0</td>\n",
       "      <td>0</td>\n",
       "      <td>0</td>\n",
       "      <td>3</td>\n",
       "      <td>...</td>\n",
       "      <td>1</td>\n",
       "      <td>12</td>\n",
       "      <td>42</td>\n",
       "      <td>35</td>\n",
       "      <td>4</td>\n",
       "      <td>0</td>\n",
       "      <td>22</td>\n",
       "      <td>5</td>\n",
       "      <td>7</td>\n",
       "      <td>62</td>\n",
       "    </tr>\n",
       "    <tr>\n",
       "      <th>CCAGCAGTTAT</th>\n",
       "      <td>0</td>\n",
       "      <td>0</td>\n",
       "      <td>0</td>\n",
       "      <td>0</td>\n",
       "      <td>0</td>\n",
       "      <td>0</td>\n",
       "      <td>0</td>\n",
       "      <td>0</td>\n",
       "      <td>0</td>\n",
       "      <td>0</td>\n",
       "      <td>...</td>\n",
       "      <td>0</td>\n",
       "      <td>0</td>\n",
       "      <td>0</td>\n",
       "      <td>0</td>\n",
       "      <td>0</td>\n",
       "      <td>0</td>\n",
       "      <td>0</td>\n",
       "      <td>0</td>\n",
       "      <td>0</td>\n",
       "      <td>1</td>\n",
       "    </tr>\n",
       "    <tr>\n",
       "      <th>ATGCAGTACCG</th>\n",
       "      <td>0</td>\n",
       "      <td>0</td>\n",
       "      <td>0</td>\n",
       "      <td>0</td>\n",
       "      <td>1</td>\n",
       "      <td>0</td>\n",
       "      <td>2</td>\n",
       "      <td>0</td>\n",
       "      <td>0</td>\n",
       "      <td>2</td>\n",
       "      <td>...</td>\n",
       "      <td>0</td>\n",
       "      <td>31</td>\n",
       "      <td>48</td>\n",
       "      <td>32</td>\n",
       "      <td>12</td>\n",
       "      <td>1</td>\n",
       "      <td>26</td>\n",
       "      <td>10</td>\n",
       "      <td>5</td>\n",
       "      <td>59</td>\n",
       "    </tr>\n",
       "    <tr>\n",
       "      <th>GCTGCGCCTCG</th>\n",
       "      <td>0</td>\n",
       "      <td>0</td>\n",
       "      <td>0</td>\n",
       "      <td>0</td>\n",
       "      <td>0</td>\n",
       "      <td>0</td>\n",
       "      <td>0</td>\n",
       "      <td>0</td>\n",
       "      <td>0</td>\n",
       "      <td>0</td>\n",
       "      <td>...</td>\n",
       "      <td>0</td>\n",
       "      <td>41</td>\n",
       "      <td>35</td>\n",
       "      <td>41</td>\n",
       "      <td>8</td>\n",
       "      <td>0</td>\n",
       "      <td>20</td>\n",
       "      <td>5</td>\n",
       "      <td>3</td>\n",
       "      <td>28</td>\n",
       "    </tr>\n",
       "    <tr>\n",
       "      <th>ATGGCTGATCC</th>\n",
       "      <td>0</td>\n",
       "      <td>0</td>\n",
       "      <td>0</td>\n",
       "      <td>0</td>\n",
       "      <td>0</td>\n",
       "      <td>0</td>\n",
       "      <td>0</td>\n",
       "      <td>0</td>\n",
       "      <td>0</td>\n",
       "      <td>0</td>\n",
       "      <td>...</td>\n",
       "      <td>0</td>\n",
       "      <td>0</td>\n",
       "      <td>0</td>\n",
       "      <td>0</td>\n",
       "      <td>0</td>\n",
       "      <td>0</td>\n",
       "      <td>0</td>\n",
       "      <td>0</td>\n",
       "      <td>0</td>\n",
       "      <td>2</td>\n",
       "    </tr>\n",
       "  </tbody>\n",
       "</table>\n",
       "<p>5 rows × 6354 columns</p>\n",
       "</div>"
      ],
      "text/plain": [
       "             0610009B22Rik  0610009L18Rik  0610009O20Rik  0610010F05Rik  \\\n",
       "CGTTCCGACGT              0              0              0              0   \n",
       "CCAGCAGTTAT              0              0              0              0   \n",
       "ATGCAGTACCG              0              0              0              0   \n",
       "GCTGCGCCTCG              0              0              0              0   \n",
       "ATGGCTGATCC              0              0              0              0   \n",
       "\n",
       "             0610011F06Rik  0610012G03Rik  0610030E20Rik  0610037L13Rik  \\\n",
       "CGTTCCGACGT              0              0              0              0   \n",
       "CCAGCAGTTAT              0              0              0              0   \n",
       "ATGCAGTACCG              1              0              2              0   \n",
       "GCTGCGCCTCG              0              0              0              0   \n",
       "ATGGCTGATCC              0              0              0              0   \n",
       "\n",
       "             0610040B10Rik  1110001J03Rik  ...  Zzz3  mt-Co1  mt-Cytb  mt-Nd1  \\\n",
       "CGTTCCGACGT              0              3  ...     1      12       42      35   \n",
       "CCAGCAGTTAT              0              0  ...     0       0        0       0   \n",
       "ATGCAGTACCG              0              2  ...     0      31       48      32   \n",
       "GCTGCGCCTCG              0              0  ...     0      41       35      41   \n",
       "ATGGCTGATCC              0              0  ...     0       0        0       0   \n",
       "\n",
       "             mt-Nd2  mt-Nd3  mt-Nd4  mt-Nd5  mt-Rnr1  mt-Rnr2  \n",
       "CGTTCCGACGT       4       0      22       5        7       62  \n",
       "CCAGCAGTTAT       0       0       0       0        0        1  \n",
       "ATGCAGTACCG      12       1      26      10        5       59  \n",
       "GCTGCGCCTCG       8       0      20       5        3       28  \n",
       "ATGGCTGATCC       0       0       0       0        0        2  \n",
       "\n",
       "[5 rows x 6354 columns]"
      ]
     },
     "execution_count": 24,
     "metadata": {},
     "output_type": "execute_result"
    }
   ],
   "source": [
    "#counts = pd.read_csv(data_path + \"query_counts.csv\", index_col = 0)\n",
    "counts = pd.read_csv(data_path + \"counts.csv\", index_col = 0)\n",
    "counts.head()"
   ]
  },
  {
   "cell_type": "code",
   "execution_count": 25,
   "metadata": {
    "scrolled": true
   },
   "outputs": [
    {
     "data": {
      "text/html": [
       "<div>\n",
       "<style scoped>\n",
       "    .dataframe tbody tr th:only-of-type {\n",
       "        vertical-align: middle;\n",
       "    }\n",
       "\n",
       "    .dataframe tbody tr th {\n",
       "        vertical-align: top;\n",
       "    }\n",
       "\n",
       "    .dataframe thead th {\n",
       "        text-align: right;\n",
       "    }\n",
       "</style>\n",
       "<table border=\"1\" class=\"dataframe\">\n",
       "  <thead>\n",
       "    <tr style=\"text-align: right;\">\n",
       "      <th></th>\n",
       "      <th>scina</th>\n",
       "      <th>scsorter</th>\n",
       "      <th>sctype</th>\n",
       "    </tr>\n",
       "  </thead>\n",
       "  <tbody>\n",
       "    <tr>\n",
       "      <th>CGTTCCGACGT</th>\n",
       "      <td>spg</td>\n",
       "      <td>spg</td>\n",
       "      <td>spg</td>\n",
       "    </tr>\n",
       "    <tr>\n",
       "      <th>ATGCAGTACCG</th>\n",
       "      <td>spg</td>\n",
       "      <td>spg</td>\n",
       "      <td>spg</td>\n",
       "    </tr>\n",
       "    <tr>\n",
       "      <th>GCTGCGCCTCG</th>\n",
       "      <td>spg</td>\n",
       "      <td>spg</td>\n",
       "      <td>spg</td>\n",
       "    </tr>\n",
       "    <tr>\n",
       "      <th>GACCAAGGCAC</th>\n",
       "      <td>spc</td>\n",
       "      <td>spc</td>\n",
       "      <td>spc</td>\n",
       "    </tr>\n",
       "    <tr>\n",
       "      <th>GGGCTTTGCCA</th>\n",
       "      <td>spg</td>\n",
       "      <td>spg</td>\n",
       "      <td>spg</td>\n",
       "    </tr>\n",
       "  </tbody>\n",
       "</table>\n",
       "</div>"
      ],
      "text/plain": [
       "            scina scsorter sctype\n",
       "CGTTCCGACGT   spg      spg    spg\n",
       "ATGCAGTACCG   spg      spg    spg\n",
       "GCTGCGCCTCG   spg      spg    spg\n",
       "GACCAAGGCAC   spc      spc    spc\n",
       "GGGCTTTGCCA   spg      spg    spg"
      ]
     },
     "execution_count": 25,
     "metadata": {},
     "output_type": "execute_result"
    }
   ],
   "source": [
    "all_labels = pd.read_csv(data_path + \"preds.csv\", index_col=0)\n",
    "all_labels.head()"
   ]
  },
  {
   "cell_type": "code",
   "execution_count": 26,
   "metadata": {},
   "outputs": [
    {
     "data": {
      "text/plain": [
       "(692, 500)"
      ]
     },
     "execution_count": 26,
     "metadata": {},
     "output_type": "execute_result"
    }
   ],
   "source": [
    "X, keep_cells,keep_genes,pca_obj = utilities.preprocess(np.array(counts), scale=False, run_pca=True)\n",
    "X.shape"
   ]
  },
  {
   "cell_type": "code",
   "execution_count": 27,
   "metadata": {},
   "outputs": [],
   "source": [
    "_,marker_names = utilities.read_marker_file(data_path + \"markers.txt\")"
   ]
  },
  {
   "cell_type": "code",
   "execution_count": 28,
   "metadata": {},
   "outputs": [],
   "source": [
    "all_labels_factored = utilities.factorize_df(all_labels, marker_names)\n",
    "encoded_labels = utilities.encode_predictions(all_labels_factored)\n",
    "confident_labels = utilities.get_consensus_labels(encoded_labels, necessary_vote = .51)\n",
    "train_nodes = np.where(confident_labels != -1)[0]\n",
    "test_nodes = np.where(confident_labels == -1)[0]"
   ]
  },
  {
   "cell_type": "code",
   "execution_count": 29,
   "metadata": {},
   "outputs": [],
   "source": [
    "#real_y = pd.read_csv(data_path + \"query_meta.csv\", index_col= 0).Group\n",
    "real_y = pd.read_csv(data_path + \"labels.csv\", index_col= 0).iloc[:,0]\n",
    "real_y = pd.factorize(real_y, sort=True)[0]\n",
    "real_y = real_y[keep_cells]"
   ]
  },
  {
   "cell_type": "code",
   "execution_count": 9,
   "metadata": {},
   "outputs": [
    {
     "data": {
      "text/plain": [
       "(0.796593189239502,\n",
       " array([[  0,   0,   0,   0,   0],\n",
       "        [  4, 248,   1,   1,   0],\n",
       "        [117,  25,  93,   4,   5],\n",
       "        [  9,   5,   0, 240,   1],\n",
       "        [ 26,   3,   0,   2, 214]]),\n",
       " 0.9441805481910706,\n",
       " array([[248,   1,   1,   0],\n",
       "        [ 25,  93,   4,   5],\n",
       "        [  5,   0, 240,   1],\n",
       "        [  3,   0,   2, 214]]),\n",
       " 0.0,\n",
       " array([[  0,   0,   0,   0,   0],\n",
       "        [  4,   0,   0,   0,   0],\n",
       "        [117,   0,   0,   0,   0],\n",
       "        [  9,   0,   0,   0,   0],\n",
       "        [ 26,   0,   0,   0,   0]]))"
      ]
     },
     "execution_count": 9,
     "metadata": {},
     "output_type": "execute_result"
    }
   ],
   "source": [
    "utilities.validation_metrics(torch.tensor(real_y), torch.tensor(confident_labels), train_nodes, test_nodes)"
   ]
  },
  {
   "cell_type": "code",
   "execution_count": 15,
   "metadata": {
    "scrolled": true
   },
   "outputs": [
    {
     "name": "stdout",
     "output_type": "stream",
     "text": [
      "10\n",
      "(0.8684971332550049, array([[  0,   0,   0,   0],\n",
      "       [  7, 159,  77,   1],\n",
      "       [  1,   5, 150,   0],\n",
      "       [  0,   0,   0, 292]]), 0.8792569637298584, array([[139,  72,   1],\n",
      "       [  5, 147,   0],\n",
      "       [  0,   0, 282]]), 0.717391312122345, array([[ 0,  0,  0,  0],\n",
      "       [ 7, 20,  5,  0],\n",
      "       [ 1,  0,  3,  0],\n",
      "       [ 0,  0,  0, 10]]))\n",
      "50\n",
      "(0.8728323578834534, array([[163,  73,   8],\n",
      "       [  5, 149,   2],\n",
      "       [  0,   0, 292]]), 0.8746129870414734, array([[138,  69,   5],\n",
      "       [  5, 145,   2],\n",
      "       [  0,   0, 282]]), 0.8478260636329651, array([[25,  4,  3],\n",
      "       [ 0,  4,  0],\n",
      "       [ 0,  0, 10]]))\n",
      "10\n",
      "(0.8554913401603699, array([[  0,   0,   0,   0],\n",
      "       [  7, 156,  79,   2],\n",
      "       [  1,  10, 145,   0],\n",
      "       [  0,   1,   0, 291]]), 0.8653250932693481, array([[136,  74,   2],\n",
      "       [ 10, 142,   0],\n",
      "       [  1,   0, 281]]), 0.717391312122345, array([[ 0,  0,  0,  0],\n",
      "       [ 7, 20,  5,  0],\n",
      "       [ 1,  0,  3,  0],\n",
      "       [ 0,  0,  0, 10]]))\n",
      "50\n",
      "(0.8641618490219116, array([[161,  78,   5],\n",
      "       [ 10, 146,   0],\n",
      "       [  1,   0, 291]]), 0.8653250932693481, array([[136,  74,   2],\n",
      "       [ 10, 142,   0],\n",
      "       [  1,   0, 281]]), 0.8478260636329651, array([[25,  4,  3],\n",
      "       [ 0,  4,  0],\n",
      "       [ 0,  0, 10]]))\n"
     ]
    }
   ],
   "source": [
    "# one epoch\n",
    "for i in [10,50]:\n",
    "    preds = utilities.knn_consensus_batch(X, confident_labels, i, converge=False, one_epoch=True, batch_size=1000)\n",
    "    print(i)\n",
    "    print(utilities.validation_metrics(torch.tensor(real_y), torch.tensor(preds), train_nodes,test_nodes))\n",
    "# one epoch\n",
    "for i in [10,50]:\n",
    "    preds = utilities.knn_consensus_batch(X, confident_labels, i, converge=False, one_epoch=True, batch_size=1000, keep_conf=True)\n",
    "    print(i)\n",
    "    print(utilities.validation_metrics(torch.tensor(real_y), torch.tensor(preds), train_nodes, test_nodes))"
   ]
  },
  {
   "cell_type": "code",
   "execution_count": 9,
   "metadata": {
    "scrolled": true
   },
   "outputs": [
    {
     "name": "stdout",
     "output_type": "stream",
     "text": [
      "10\n",
      "(0.37374749779701233, array([[  0,   0,   0,   0,   0],\n",
      "       [  0,  69,   0,   0, 185],\n",
      "       [  1,   2,   1,   1, 239],\n",
      "       [  1,   0,   0,  58, 196],\n",
      "       [  0,   0,   0,   0, 245]]))\n",
      "50\n",
      "(0.2635270655155182, array([[  7,   0,   0, 247],\n",
      "       [  0,   0,   0, 244],\n",
      "       [  0,   0,  11, 244],\n",
      "       [  0,   0,   0, 245]]))\n",
      "100\n",
      "(0.24949899315834045, array([[  0,   0,   0, 254],\n",
      "       [  0,   0,   0, 244],\n",
      "       [  0,   0,   4, 251],\n",
      "       [  0,   0,   0, 245]]))\n",
      "200\n",
      "(0.24849699437618256, array([[  1,   0,   0, 253],\n",
      "       [  0,   0,   0, 244],\n",
      "       [  0,   0,   2, 253],\n",
      "       [  0,   0,   0, 245]]))\n",
      "400\n",
      "(0.26853707432746887, array([[ 15,   0,   0, 239],\n",
      "       [  0,   0,   0, 244],\n",
      "       [  0,   0,   8, 247],\n",
      "       [  0,   0,   0, 245]]))\n",
      "500\n",
      "(0.29859718680381775, array([[ 42,   0,   0, 212],\n",
      "       [  0,   0,   0, 244],\n",
      "       [  0,   0,  11, 244],\n",
      "       [  0,   0,   0, 245]]))\n"
     ]
    }
   ],
   "source": [
    "# one epoch\n",
    "for i in [10,50,100, 200, 400, 500]:\n",
    "    preds = utilities.knn_consensus(X, confident_labels, i, converge=False, one_epoch=True)\n",
    "    print(i)\n",
    "    print(utilities.validation_metrics(torch.tensor(real_y), torch.tensor(preds), range(len(real_y)), range(len(real_y)))[0:2])\n"
   ]
  },
  {
   "cell_type": "code",
   "execution_count": 10,
   "metadata": {},
   "outputs": [
    {
     "name": "stdout",
     "output_type": "stream",
     "text": [
      "10\n",
      "(0.37374749779701233, array([[  0,   0,   0,   0,   0],\n",
      "       [  0,  69,   0,   0, 185],\n",
      "       [  1,   2,   1,   1, 239],\n",
      "       [  1,   0,   0,  58, 196],\n",
      "       [  0,   0,   0,   0, 245]]))\n",
      "50\n",
      "(0.2635270655155182, array([[  7,   0,   0, 247],\n",
      "       [  0,   0,   0, 244],\n",
      "       [  0,   0,  11, 244],\n",
      "       [  0,   0,   0, 245]]))\n",
      "100\n",
      "(0.24949899315834045, array([[  0,   0,   0, 254],\n",
      "       [  0,   0,   0, 244],\n",
      "       [  0,   0,   4, 251],\n",
      "       [  0,   0,   0, 245]]))\n",
      "200\n",
      "(0.24849699437618256, array([[  1,   0,   0, 253],\n",
      "       [  0,   0,   0, 244],\n",
      "       [  0,   0,   2, 253],\n",
      "       [  0,   0,   0, 245]]))\n",
      "400\n",
      "(0.26853707432746887, array([[ 15,   0,   0, 239],\n",
      "       [  0,   0,   0, 244],\n",
      "       [  0,   0,   8, 247],\n",
      "       [  0,   0,   0, 245]]))\n",
      "500\n",
      "(0.29859718680381775, array([[ 42,   0,   0, 212],\n",
      "       [  0,   0,   0, 244],\n",
      "       [  0,   0,  11, 244],\n",
      "       [  0,   0,   0, 245]]))\n"
     ]
    }
   ],
   "source": [
    "# one epoch\n",
    "for i in [10,50,100, 200, 400, 500]:\n",
    "    preds = utilities.knn_consensus_batch(X, confident_labels, i, converge=False, one_epoch=True, batch_size=1000)\n",
    "    print(i)\n",
    "    print(utilities.validation_metrics(torch.tensor(real_y), torch.tensor(preds), range(len(real_y)), range(len(real_y)))[0:2])"
   ]
  },
  {
   "cell_type": "code",
   "execution_count": 27,
   "metadata": {
    "scrolled": true
   },
   "outputs": [
    {
     "name": "stdout",
     "output_type": "stream",
     "text": [
      "1\n",
      "2\n",
      "10\n",
      "(0.24549098312854767, array([[  0,   0,   0, 254],\n",
      "       [  0,   0,   0, 244],\n",
      "       [  0,   0,   0, 255],\n",
      "       [  0,   0,   0, 245]]))\n",
      "50\n",
      "(0.2635270655155182, array([[  7,   0,   0, 247],\n",
      "       [  0,   0,   0, 244],\n",
      "       [  0,   0,  11, 244],\n",
      "       [  0,   0,   0, 245]]))\n",
      "100\n",
      "(0.24949899315834045, array([[  0,   0,   0, 254],\n",
      "       [  0,   0,   0, 244],\n",
      "       [  0,   0,   4, 251],\n",
      "       [  0,   0,   0, 245]]))\n",
      "200\n",
      "(0.24849699437618256, array([[  1,   0,   0, 253],\n",
      "       [  0,   0,   0, 244],\n",
      "       [  0,   0,   2, 253],\n",
      "       [  0,   0,   0, 245]]))\n",
      "400\n",
      "(0.26853707432746887, array([[ 15,   0,   0, 239],\n",
      "       [  0,   0,   0, 244],\n",
      "       [  0,   0,   8, 247],\n",
      "       [  0,   0,   0, 245]]))\n",
      "500\n",
      "(0.29859718680381775, array([[ 42,   0,   0, 212],\n",
      "       [  0,   0,   0, 244],\n",
      "       [  0,   0,  11, 244],\n",
      "       [  0,   0,   0, 245]]))\n"
     ]
    }
   ],
   "source": [
    "# until all labelled\n",
    "for i in [10,50,100, 200, 400, 500]:\n",
    "    preds = utilities.knn_consensus(X, confident_labels, i, converge=False, one_epoch=False)\n",
    "    print(i)\n",
    "    print(utilities.validation_metrics(torch.tensor(real_y), torch.tensor(preds), range(len(real_y)), range(len(real_y)))[0:2])"
   ]
  },
  {
   "cell_type": "code",
   "execution_count": 11,
   "metadata": {},
   "outputs": [
    {
     "name": "stdout",
     "output_type": "stream",
     "text": [
      "1\n"
     ]
    },
    {
     "name": "stderr",
     "output_type": "stream",
     "text": [
      "/home/users/lewinsda/scSHARP/utilities.py:423: UserWarning: To copy construct from a tensor, it is recommended to use sourceTensor.clone().detach() or sourceTensor.clone().detach().requires_grad_(True), rather than torch.tensor(sourceTensor).\n",
      "  dataset  = torch.utils.data.TensorDataset(torch.tensor(counts), torch.tensor(preds))\n"
     ]
    },
    {
     "name": "stdout",
     "output_type": "stream",
     "text": [
      "2\n",
      "10\n",
      "(0.24549098312854767, array([[  0,   0,   0, 254],\n",
      "       [  0,   0,   0, 244],\n",
      "       [  0,   0,   0, 255],\n",
      "       [  0,   0,   0, 245]]))\n",
      "50\n",
      "(0.2635270655155182, array([[  7,   0,   0, 247],\n",
      "       [  0,   0,   0, 244],\n",
      "       [  0,   0,  11, 244],\n",
      "       [  0,   0,   0, 245]]))\n",
      "100\n",
      "(0.24949899315834045, array([[  0,   0,   0, 254],\n",
      "       [  0,   0,   0, 244],\n",
      "       [  0,   0,   4, 251],\n",
      "       [  0,   0,   0, 245]]))\n",
      "200\n",
      "(0.24849699437618256, array([[  1,   0,   0, 253],\n",
      "       [  0,   0,   0, 244],\n",
      "       [  0,   0,   2, 253],\n",
      "       [  0,   0,   0, 245]]))\n",
      "400\n",
      "(0.26853707432746887, array([[ 15,   0,   0, 239],\n",
      "       [  0,   0,   0, 244],\n",
      "       [  0,   0,   8, 247],\n",
      "       [  0,   0,   0, 245]]))\n",
      "500\n",
      "(0.29859718680381775, array([[ 42,   0,   0, 212],\n",
      "       [  0,   0,   0, 244],\n",
      "       [  0,   0,  11, 244],\n",
      "       [  0,   0,   0, 245]]))\n"
     ]
    }
   ],
   "source": [
    "# until all labelled\n",
    "for i in [10,50,100, 200, 400, 500]:\n",
    "    preds = utilities.knn_consensus_batch(X, confident_labels, i, converge=False, one_epoch=False, batch_size=1000)\n",
    "    print(i)\n",
    "    print(utilities.validation_metrics(torch.tensor(real_y), torch.tensor(preds), range(len(real_y)), range(len(real_y)))[0:2])"
   ]
  },
  {
   "cell_type": "code",
   "execution_count": 28,
   "metadata": {
    "scrolled": true
   },
   "outputs": [
    {
     "name": "stdout",
     "output_type": "stream",
     "text": [
      "1\n",
      "2\n",
      "10\n",
      "(0.24549098312854767, array([[  0,   0,   0, 254],\n",
      "       [  0,   0,   0, 244],\n",
      "       [  0,   0,   0, 255],\n",
      "       [  0,   0,   0, 245]]))\n",
      "1\n",
      "50\n",
      "(0.24549098312854767, array([[  0,   0,   0, 254],\n",
      "       [  0,   0,   0, 244],\n",
      "       [  0,   0,   0, 255],\n",
      "       [  0,   0,   0, 245]]))\n",
      "1\n",
      "100\n",
      "(0.24549098312854767, array([[  0,   0,   0, 254],\n",
      "       [  0,   0,   0, 244],\n",
      "       [  0,   0,   0, 255],\n",
      "       [  0,   0,   0, 245]]))\n",
      "1\n",
      "200\n",
      "(0.24549098312854767, array([[  0,   0,   0, 254],\n",
      "       [  0,   0,   0, 244],\n",
      "       [  0,   0,   0, 255],\n",
      "       [  0,   0,   0, 245]]))\n",
      "1\n",
      "400\n",
      "(0.24549098312854767, array([[  0,   0,   0, 254],\n",
      "       [  0,   0,   0, 244],\n",
      "       [  0,   0,   0, 255],\n",
      "       [  0,   0,   0, 245]]))\n",
      "1\n",
      "2\n",
      "500\n",
      "(0.24549098312854767, array([[  0,   0,   0, 254],\n",
      "       [  0,   0,   0, 244],\n",
      "       [  0,   0,   0, 255],\n",
      "       [  0,   0,   0, 245]]))\n"
     ]
    }
   ],
   "source": [
    "# until converge\n",
    "for i in [10,50,100, 200, 400, 500]:\n",
    "    preds = utilities.knn_consensus(X, confident_labels, i, converge=True, one_epoch=False)\n",
    "    print(i)\n",
    "    print(utilities.validation_metrics(torch.tensor(real_y), torch.tensor(preds), range(len(real_y)), range(len(real_y)))[0:2])"
   ]
  },
  {
   "cell_type": "code",
   "execution_count": 16,
   "metadata": {
    "scrolled": true
   },
   "outputs": [
    {
     "name": "stdout",
     "output_type": "stream",
     "text": [
      "1\n"
     ]
    },
    {
     "name": "stderr",
     "output_type": "stream",
     "text": [
      "/home/users/lewinsda/scSHARP/utilities.py:423: UserWarning: To copy construct from a tensor, it is recommended to use sourceTensor.clone().detach() or sourceTensor.clone().detach().requires_grad_(True), rather than torch.tensor(sourceTensor).\n",
      "  dataset  = torch.utils.data.TensorDataset(torch.tensor(counts), torch.tensor(preds))\n"
     ]
    },
    {
     "name": "stdout",
     "output_type": "stream",
     "text": [
      "5\n",
      "(0.8786126971244812, array([[  0,   0,   0,   0],\n",
      "       [  3, 167,  71,   3],\n",
      "       [  1,   5, 150,   0],\n",
      "       [  1,   0,   0, 291]]))\n",
      "1\n"
     ]
    },
    {
     "name": "stderr",
     "output_type": "stream",
     "text": [
      "/home/users/lewinsda/scSHARP/utilities.py:423: UserWarning: To copy construct from a tensor, it is recommended to use sourceTensor.clone().detach() or sourceTensor.clone().detach().requires_grad_(True), rather than torch.tensor(sourceTensor).\n",
      "  dataset  = torch.utils.data.TensorDataset(torch.tensor(counts), torch.tensor(preds))\n"
     ]
    },
    {
     "name": "stdout",
     "output_type": "stream",
     "text": [
      "10\n",
      "(0.8771676421165466, array([[  0,   0,   0,   0],\n",
      "       [  4, 163,  75,   2],\n",
      "       [  0,   4, 152,   0],\n",
      "       [  0,   0,   0, 292]]))\n",
      "1\n"
     ]
    },
    {
     "name": "stderr",
     "output_type": "stream",
     "text": [
      "/home/users/lewinsda/scSHARP/utilities.py:423: UserWarning: To copy construct from a tensor, it is recommended to use sourceTensor.clone().detach() or sourceTensor.clone().detach().requires_grad_(True), rather than torch.tensor(sourceTensor).\n",
      "  dataset  = torch.utils.data.TensorDataset(torch.tensor(counts), torch.tensor(preds))\n"
     ]
    },
    {
     "name": "stdout",
     "output_type": "stream",
     "text": [
      "50\n",
      "(0.8352600932121277, array([[150,  92,   2],\n",
      "       [ 16, 139,   1],\n",
      "       [  0,   3, 289]]))\n",
      "1\n"
     ]
    },
    {
     "name": "stderr",
     "output_type": "stream",
     "text": [
      "/home/users/lewinsda/scSHARP/utilities.py:423: UserWarning: To copy construct from a tensor, it is recommended to use sourceTensor.clone().detach() or sourceTensor.clone().detach().requires_grad_(True), rather than torch.tensor(sourceTensor).\n",
      "  dataset  = torch.utils.data.TensorDataset(torch.tensor(counts), torch.tensor(preds))\n"
     ]
    },
    {
     "name": "stdout",
     "output_type": "stream",
     "text": [
      "2\n",
      "100\n",
      "(0.6994219422340393, array([[ 76, 133,  35],\n",
      "       [ 17, 119,  20],\n",
      "       [  2,   1, 289]]))\n"
     ]
    }
   ],
   "source": [
    "# until converge batch\n",
    "for i in [5,10,50,100]:\n",
    "    preds = utilities.knn_consensus_batch(X, confident_labels, i, batch_size = 300, converge=True, one_epoch=False)\n",
    "    print(i)\n",
    "    print(utilities.validation_metrics(torch.tensor(real_y), torch.tensor(preds), range(len(real_y)), range(len(real_y)))[0:2])"
   ]
  },
  {
   "cell_type": "code",
   "execution_count": 2,
   "metadata": {
    "scrolled": true
   },
   "outputs": [
    {
     "name": "stdout",
     "output_type": "stream",
     "text": [
      "1\n"
     ]
    },
    {
     "name": "stderr",
     "output_type": "stream",
     "text": [
      "/home/users/lewinsda/scSHARP/utilities.py:423: UserWarning: To copy construct from a tensor, it is recommended to use sourceTensor.clone().detach() or sourceTensor.clone().detach().requires_grad_(True), rather than torch.tensor(sourceTensor).\n",
      "  dataset  = torch.utils.data.TensorDataset(torch.tensor(counts), torch.tensor(preds))\n"
     ]
    },
    {
     "name": "stdout",
     "output_type": "stream",
     "text": [
      "1\n"
     ]
    },
    {
     "name": "stderr",
     "output_type": "stream",
     "text": [
      "/home/users/lewinsda/scSHARP/utilities.py:423: UserWarning: To copy construct from a tensor, it is recommended to use sourceTensor.clone().detach() or sourceTensor.clone().detach().requires_grad_(True), rather than torch.tensor(sourceTensor).\n",
      "  dataset  = torch.utils.data.TensorDataset(torch.tensor(counts), torch.tensor(preds))\n"
     ]
    },
    {
     "name": "stdout",
     "output_type": "stream",
     "text": [
      "1\n"
     ]
    },
    {
     "name": "stderr",
     "output_type": "stream",
     "text": [
      "/home/users/lewinsda/scSHARP/utilities.py:423: UserWarning: To copy construct from a tensor, it is recommended to use sourceTensor.clone().detach() or sourceTensor.clone().detach().requires_grad_(True), rather than torch.tensor(sourceTensor).\n",
      "  dataset  = torch.utils.data.TensorDataset(torch.tensor(counts), torch.tensor(preds))\n"
     ]
    },
    {
     "name": "stdout",
     "output_type": "stream",
     "text": [
      "1\n"
     ]
    },
    {
     "name": "stderr",
     "output_type": "stream",
     "text": [
      "/home/users/lewinsda/scSHARP/utilities.py:423: UserWarning: To copy construct from a tensor, it is recommended to use sourceTensor.clone().detach() or sourceTensor.clone().detach().requires_grad_(True), rather than torch.tensor(sourceTensor).\n",
      "  dataset  = torch.utils.data.TensorDataset(torch.tensor(counts), torch.tensor(preds))\n"
     ]
    },
    {
     "name": "stdout",
     "output_type": "stream",
     "text": [
      "1\n"
     ]
    },
    {
     "name": "stderr",
     "output_type": "stream",
     "text": [
      "/home/users/lewinsda/scSHARP/utilities.py:423: UserWarning: To copy construct from a tensor, it is recommended to use sourceTensor.clone().detach() or sourceTensor.clone().detach().requires_grad_(True), rather than torch.tensor(sourceTensor).\n",
      "  dataset  = torch.utils.data.TensorDataset(torch.tensor(counts), torch.tensor(preds))\n"
     ]
    },
    {
     "name": "stdout",
     "output_type": "stream",
     "text": [
      "1\n"
     ]
    },
    {
     "name": "stderr",
     "output_type": "stream",
     "text": [
      "/home/users/lewinsda/scSHARP/utilities.py:423: UserWarning: To copy construct from a tensor, it is recommended to use sourceTensor.clone().detach() or sourceTensor.clone().detach().requires_grad_(True), rather than torch.tensor(sourceTensor).\n",
      "  dataset  = torch.utils.data.TensorDataset(torch.tensor(counts), torch.tensor(preds))\n"
     ]
    },
    {
     "name": "stdout",
     "output_type": "stream",
     "text": [
      "1\n"
     ]
    },
    {
     "name": "stderr",
     "output_type": "stream",
     "text": [
      "/home/users/lewinsda/scSHARP/utilities.py:423: UserWarning: To copy construct from a tensor, it is recommended to use sourceTensor.clone().detach() or sourceTensor.clone().detach().requires_grad_(True), rather than torch.tensor(sourceTensor).\n",
      "  dataset  = torch.utils.data.TensorDataset(torch.tensor(counts), torch.tensor(preds))\n"
     ]
    },
    {
     "name": "stdout",
     "output_type": "stream",
     "text": [
      "1\n"
     ]
    },
    {
     "name": "stderr",
     "output_type": "stream",
     "text": [
      "/home/users/lewinsda/scSHARP/utilities.py:423: UserWarning: To copy construct from a tensor, it is recommended to use sourceTensor.clone().detach() or sourceTensor.clone().detach().requires_grad_(True), rather than torch.tensor(sourceTensor).\n",
      "  dataset  = torch.utils.data.TensorDataset(torch.tensor(counts), torch.tensor(preds))\n"
     ]
    },
    {
     "name": "stdout",
     "output_type": "stream",
     "text": [
      "1\n"
     ]
    },
    {
     "name": "stderr",
     "output_type": "stream",
     "text": [
      "/home/users/lewinsda/scSHARP/utilities.py:423: UserWarning: To copy construct from a tensor, it is recommended to use sourceTensor.clone().detach() or sourceTensor.clone().detach().requires_grad_(True), rather than torch.tensor(sourceTensor).\n",
      "  dataset  = torch.utils.data.TensorDataset(torch.tensor(counts), torch.tensor(preds))\n"
     ]
    },
    {
     "name": "stdout",
     "output_type": "stream",
     "text": [
      "1\n"
     ]
    },
    {
     "name": "stderr",
     "output_type": "stream",
     "text": [
      "/home/users/lewinsda/scSHARP/utilities.py:423: UserWarning: To copy construct from a tensor, it is recommended to use sourceTensor.clone().detach() or sourceTensor.clone().detach().requires_grad_(True), rather than torch.tensor(sourceTensor).\n",
      "  dataset  = torch.utils.data.TensorDataset(torch.tensor(counts), torch.tensor(preds))\n"
     ]
    },
    {
     "name": "stdout",
     "output_type": "stream",
     "text": [
      "1\n"
     ]
    },
    {
     "name": "stderr",
     "output_type": "stream",
     "text": [
      "/home/users/lewinsda/scSHARP/utilities.py:423: UserWarning: To copy construct from a tensor, it is recommended to use sourceTensor.clone().detach() or sourceTensor.clone().detach().requires_grad_(True), rather than torch.tensor(sourceTensor).\n",
      "  dataset  = torch.utils.data.TensorDataset(torch.tensor(counts), torch.tensor(preds))\n"
     ]
    },
    {
     "name": "stdout",
     "output_type": "stream",
     "text": [
      "1\n"
     ]
    },
    {
     "name": "stderr",
     "output_type": "stream",
     "text": [
      "/home/users/lewinsda/scSHARP/utilities.py:423: UserWarning: To copy construct from a tensor, it is recommended to use sourceTensor.clone().detach() or sourceTensor.clone().detach().requires_grad_(True), rather than torch.tensor(sourceTensor).\n",
      "  dataset  = torch.utils.data.TensorDataset(torch.tensor(counts), torch.tensor(preds))\n"
     ]
    },
    {
     "name": "stdout",
     "output_type": "stream",
     "text": [
      "1\n"
     ]
    },
    {
     "name": "stderr",
     "output_type": "stream",
     "text": [
      "/home/users/lewinsda/scSHARP/utilities.py:423: UserWarning: To copy construct from a tensor, it is recommended to use sourceTensor.clone().detach() or sourceTensor.clone().detach().requires_grad_(True), rather than torch.tensor(sourceTensor).\n",
      "  dataset  = torch.utils.data.TensorDataset(torch.tensor(counts), torch.tensor(preds))\n"
     ]
    },
    {
     "name": "stdout",
     "output_type": "stream",
     "text": [
      "2\n",
      "3\n",
      "4\n",
      "5\n",
      "6\n",
      "7\n",
      "8\n",
      "9\n",
      "10\n",
      "11\n",
      "12\n",
      "13\n",
      "14\n",
      "15\n",
      "16\n",
      "17\n",
      "18\n",
      "19\n",
      "20\n",
      "21\n",
      "22\n",
      "23\n",
      "24\n",
      "25\n",
      "26\n",
      "27\n",
      "28\n",
      "29\n",
      "30\n",
      "31\n",
      "32\n",
      "33\n",
      "34\n",
      "35\n",
      "36\n",
      "37\n",
      "38\n",
      "39\n",
      "40\n",
      "41\n",
      "42\n",
      "43\n",
      "44\n",
      "45\n",
      "46\n",
      "47\n",
      "48\n",
      "49\n",
      "50\n",
      "51\n",
      "1\n"
     ]
    },
    {
     "name": "stderr",
     "output_type": "stream",
     "text": [
      "/home/users/lewinsda/scSHARP/utilities.py:423: UserWarning: To copy construct from a tensor, it is recommended to use sourceTensor.clone().detach() or sourceTensor.clone().detach().requires_grad_(True), rather than torch.tensor(sourceTensor).\n",
      "  dataset  = torch.utils.data.TensorDataset(torch.tensor(counts), torch.tensor(preds))\n"
     ]
    },
    {
     "name": "stdout",
     "output_type": "stream",
     "text": [
      "1\n"
     ]
    },
    {
     "name": "stderr",
     "output_type": "stream",
     "text": [
      "/home/users/lewinsda/scSHARP/utilities.py:423: UserWarning: To copy construct from a tensor, it is recommended to use sourceTensor.clone().detach() or sourceTensor.clone().detach().requires_grad_(True), rather than torch.tensor(sourceTensor).\n",
      "  dataset  = torch.utils.data.TensorDataset(torch.tensor(counts), torch.tensor(preds))\n"
     ]
    },
    {
     "name": "stdout",
     "output_type": "stream",
     "text": [
      "1\n"
     ]
    },
    {
     "name": "stderr",
     "output_type": "stream",
     "text": [
      "/home/users/lewinsda/scSHARP/utilities.py:423: UserWarning: To copy construct from a tensor, it is recommended to use sourceTensor.clone().detach() or sourceTensor.clone().detach().requires_grad_(True), rather than torch.tensor(sourceTensor).\n",
      "  dataset  = torch.utils.data.TensorDataset(torch.tensor(counts), torch.tensor(preds))\n"
     ]
    },
    {
     "name": "stdout",
     "output_type": "stream",
     "text": [
      "1\n"
     ]
    },
    {
     "name": "stderr",
     "output_type": "stream",
     "text": [
      "/home/users/lewinsda/scSHARP/utilities.py:423: UserWarning: To copy construct from a tensor, it is recommended to use sourceTensor.clone().detach() or sourceTensor.clone().detach().requires_grad_(True), rather than torch.tensor(sourceTensor).\n",
      "  dataset  = torch.utils.data.TensorDataset(torch.tensor(counts), torch.tensor(preds))\n"
     ]
    },
    {
     "name": "stdout",
     "output_type": "stream",
     "text": [
      "1\n"
     ]
    },
    {
     "name": "stderr",
     "output_type": "stream",
     "text": [
      "/home/users/lewinsda/scSHARP/utilities.py:423: UserWarning: To copy construct from a tensor, it is recommended to use sourceTensor.clone().detach() or sourceTensor.clone().detach().requires_grad_(True), rather than torch.tensor(sourceTensor).\n",
      "  dataset  = torch.utils.data.TensorDataset(torch.tensor(counts), torch.tensor(preds))\n"
     ]
    },
    {
     "name": "stdout",
     "output_type": "stream",
     "text": [
      "1\n"
     ]
    },
    {
     "name": "stderr",
     "output_type": "stream",
     "text": [
      "/home/users/lewinsda/scSHARP/utilities.py:423: UserWarning: To copy construct from a tensor, it is recommended to use sourceTensor.clone().detach() or sourceTensor.clone().detach().requires_grad_(True), rather than torch.tensor(sourceTensor).\n",
      "  dataset  = torch.utils.data.TensorDataset(torch.tensor(counts), torch.tensor(preds))\n"
     ]
    },
    {
     "name": "stdout",
     "output_type": "stream",
     "text": [
      "1\n"
     ]
    },
    {
     "name": "stderr",
     "output_type": "stream",
     "text": [
      "/home/users/lewinsda/scSHARP/utilities.py:423: UserWarning: To copy construct from a tensor, it is recommended to use sourceTensor.clone().detach() or sourceTensor.clone().detach().requires_grad_(True), rather than torch.tensor(sourceTensor).\n",
      "  dataset  = torch.utils.data.TensorDataset(torch.tensor(counts), torch.tensor(preds))\n"
     ]
    },
    {
     "name": "stdout",
     "output_type": "stream",
     "text": [
      "1\n"
     ]
    },
    {
     "name": "stderr",
     "output_type": "stream",
     "text": [
      "/home/users/lewinsda/scSHARP/utilities.py:423: UserWarning: To copy construct from a tensor, it is recommended to use sourceTensor.clone().detach() or sourceTensor.clone().detach().requires_grad_(True), rather than torch.tensor(sourceTensor).\n",
      "  dataset  = torch.utils.data.TensorDataset(torch.tensor(counts), torch.tensor(preds))\n"
     ]
    },
    {
     "name": "stdout",
     "output_type": "stream",
     "text": [
      "1\n"
     ]
    },
    {
     "name": "stderr",
     "output_type": "stream",
     "text": [
      "/home/users/lewinsda/scSHARP/utilities.py:423: UserWarning: To copy construct from a tensor, it is recommended to use sourceTensor.clone().detach() or sourceTensor.clone().detach().requires_grad_(True), rather than torch.tensor(sourceTensor).\n",
      "  dataset  = torch.utils.data.TensorDataset(torch.tensor(counts), torch.tensor(preds))\n"
     ]
    },
    {
     "name": "stdout",
     "output_type": "stream",
     "text": [
      "1\n"
     ]
    },
    {
     "name": "stderr",
     "output_type": "stream",
     "text": [
      "/home/users/lewinsda/scSHARP/utilities.py:423: UserWarning: To copy construct from a tensor, it is recommended to use sourceTensor.clone().detach() or sourceTensor.clone().detach().requires_grad_(True), rather than torch.tensor(sourceTensor).\n",
      "  dataset  = torch.utils.data.TensorDataset(torch.tensor(counts), torch.tensor(preds))\n"
     ]
    },
    {
     "name": "stdout",
     "output_type": "stream",
     "text": [
      "1\n"
     ]
    },
    {
     "name": "stderr",
     "output_type": "stream",
     "text": [
      "/home/users/lewinsda/scSHARP/utilities.py:423: UserWarning: To copy construct from a tensor, it is recommended to use sourceTensor.clone().detach() or sourceTensor.clone().detach().requires_grad_(True), rather than torch.tensor(sourceTensor).\n",
      "  dataset  = torch.utils.data.TensorDataset(torch.tensor(counts), torch.tensor(preds))\n"
     ]
    },
    {
     "name": "stdout",
     "output_type": "stream",
     "text": [
      "1\n"
     ]
    },
    {
     "name": "stderr",
     "output_type": "stream",
     "text": [
      "/home/users/lewinsda/scSHARP/utilities.py:423: UserWarning: To copy construct from a tensor, it is recommended to use sourceTensor.clone().detach() or sourceTensor.clone().detach().requires_grad_(True), rather than torch.tensor(sourceTensor).\n",
      "  dataset  = torch.utils.data.TensorDataset(torch.tensor(counts), torch.tensor(preds))\n"
     ]
    },
    {
     "name": "stdout",
     "output_type": "stream",
     "text": [
      "1\n"
     ]
    },
    {
     "name": "stderr",
     "output_type": "stream",
     "text": [
      "/home/users/lewinsda/scSHARP/utilities.py:423: UserWarning: To copy construct from a tensor, it is recommended to use sourceTensor.clone().detach() or sourceTensor.clone().detach().requires_grad_(True), rather than torch.tensor(sourceTensor).\n",
      "  dataset  = torch.utils.data.TensorDataset(torch.tensor(counts), torch.tensor(preds))\n"
     ]
    },
    {
     "name": "stdout",
     "output_type": "stream",
     "text": [
      "1\n",
      "2\n"
     ]
    },
    {
     "name": "stderr",
     "output_type": "stream",
     "text": [
      "/home/users/lewinsda/scSHARP/utilities.py:423: UserWarning: To copy construct from a tensor, it is recommended to use sourceTensor.clone().detach() or sourceTensor.clone().detach().requires_grad_(True), rather than torch.tensor(sourceTensor).\n",
      "  dataset  = torch.utils.data.TensorDataset(torch.tensor(counts), torch.tensor(preds))\n"
     ]
    },
    {
     "name": "stdout",
     "output_type": "stream",
     "text": [
      "3\n",
      "4\n",
      "5\n",
      "6\n",
      "7\n",
      "8\n",
      "9\n",
      "10\n",
      "11\n",
      "12\n",
      "13\n",
      "14\n",
      "15\n",
      "16\n",
      "17\n",
      "18\n",
      "19\n",
      "20\n",
      "21\n",
      "22\n",
      "23\n",
      "24\n",
      "25\n",
      "26\n",
      "27\n",
      "28\n",
      "29\n",
      "30\n",
      "31\n",
      "32\n",
      "33\n",
      "34\n",
      "35\n",
      "36\n",
      "37\n",
      "38\n",
      "39\n",
      "40\n",
      "41\n",
      "42\n",
      "43\n",
      "44\n",
      "45\n",
      "46\n",
      "47\n",
      "48\n",
      "49\n",
      "50\n",
      "51\n",
      "1\n"
     ]
    },
    {
     "name": "stderr",
     "output_type": "stream",
     "text": [
      "/home/users/lewinsda/scSHARP/utilities.py:423: UserWarning: To copy construct from a tensor, it is recommended to use sourceTensor.clone().detach() or sourceTensor.clone().detach().requires_grad_(True), rather than torch.tensor(sourceTensor).\n",
      "  dataset  = torch.utils.data.TensorDataset(torch.tensor(counts), torch.tensor(preds))\n"
     ]
    },
    {
     "name": "stdout",
     "output_type": "stream",
     "text": [
      "1\n"
     ]
    },
    {
     "name": "stderr",
     "output_type": "stream",
     "text": [
      "/home/users/lewinsda/scSHARP/utilities.py:423: UserWarning: To copy construct from a tensor, it is recommended to use sourceTensor.clone().detach() or sourceTensor.clone().detach().requires_grad_(True), rather than torch.tensor(sourceTensor).\n",
      "  dataset  = torch.utils.data.TensorDataset(torch.tensor(counts), torch.tensor(preds))\n"
     ]
    },
    {
     "name": "stdout",
     "output_type": "stream",
     "text": [
      "1\n"
     ]
    },
    {
     "name": "stderr",
     "output_type": "stream",
     "text": [
      "/home/users/lewinsda/scSHARP/utilities.py:423: UserWarning: To copy construct from a tensor, it is recommended to use sourceTensor.clone().detach() or sourceTensor.clone().detach().requires_grad_(True), rather than torch.tensor(sourceTensor).\n",
      "  dataset  = torch.utils.data.TensorDataset(torch.tensor(counts), torch.tensor(preds))\n"
     ]
    },
    {
     "name": "stdout",
     "output_type": "stream",
     "text": [
      "1\n"
     ]
    },
    {
     "name": "stderr",
     "output_type": "stream",
     "text": [
      "/home/users/lewinsda/scSHARP/utilities.py:423: UserWarning: To copy construct from a tensor, it is recommended to use sourceTensor.clone().detach() or sourceTensor.clone().detach().requires_grad_(True), rather than torch.tensor(sourceTensor).\n",
      "  dataset  = torch.utils.data.TensorDataset(torch.tensor(counts), torch.tensor(preds))\n"
     ]
    },
    {
     "name": "stdout",
     "output_type": "stream",
     "text": [
      "1\n"
     ]
    },
    {
     "name": "stderr",
     "output_type": "stream",
     "text": [
      "/home/users/lewinsda/scSHARP/utilities.py:423: UserWarning: To copy construct from a tensor, it is recommended to use sourceTensor.clone().detach() or sourceTensor.clone().detach().requires_grad_(True), rather than torch.tensor(sourceTensor).\n",
      "  dataset  = torch.utils.data.TensorDataset(torch.tensor(counts), torch.tensor(preds))\n"
     ]
    },
    {
     "name": "stdout",
     "output_type": "stream",
     "text": [
      "1\n"
     ]
    },
    {
     "name": "stderr",
     "output_type": "stream",
     "text": [
      "/home/users/lewinsda/scSHARP/utilities.py:423: UserWarning: To copy construct from a tensor, it is recommended to use sourceTensor.clone().detach() or sourceTensor.clone().detach().requires_grad_(True), rather than torch.tensor(sourceTensor).\n",
      "  dataset  = torch.utils.data.TensorDataset(torch.tensor(counts), torch.tensor(preds))\n"
     ]
    },
    {
     "name": "stdout",
     "output_type": "stream",
     "text": [
      "1\n"
     ]
    },
    {
     "name": "stderr",
     "output_type": "stream",
     "text": [
      "/home/users/lewinsda/scSHARP/utilities.py:423: UserWarning: To copy construct from a tensor, it is recommended to use sourceTensor.clone().detach() or sourceTensor.clone().detach().requires_grad_(True), rather than torch.tensor(sourceTensor).\n",
      "  dataset  = torch.utils.data.TensorDataset(torch.tensor(counts), torch.tensor(preds))\n"
     ]
    },
    {
     "name": "stdout",
     "output_type": "stream",
     "text": [
      "1\n"
     ]
    },
    {
     "name": "stderr",
     "output_type": "stream",
     "text": [
      "/home/users/lewinsda/scSHARP/utilities.py:423: UserWarning: To copy construct from a tensor, it is recommended to use sourceTensor.clone().detach() or sourceTensor.clone().detach().requires_grad_(True), rather than torch.tensor(sourceTensor).\n",
      "  dataset  = torch.utils.data.TensorDataset(torch.tensor(counts), torch.tensor(preds))\n"
     ]
    },
    {
     "name": "stdout",
     "output_type": "stream",
     "text": [
      "1\n"
     ]
    },
    {
     "name": "stderr",
     "output_type": "stream",
     "text": [
      "/home/users/lewinsda/scSHARP/utilities.py:423: UserWarning: To copy construct from a tensor, it is recommended to use sourceTensor.clone().detach() or sourceTensor.clone().detach().requires_grad_(True), rather than torch.tensor(sourceTensor).\n",
      "  dataset  = torch.utils.data.TensorDataset(torch.tensor(counts), torch.tensor(preds))\n"
     ]
    },
    {
     "name": "stdout",
     "output_type": "stream",
     "text": [
      "1\n"
     ]
    },
    {
     "name": "stderr",
     "output_type": "stream",
     "text": [
      "/home/users/lewinsda/scSHARP/utilities.py:423: UserWarning: To copy construct from a tensor, it is recommended to use sourceTensor.clone().detach() or sourceTensor.clone().detach().requires_grad_(True), rather than torch.tensor(sourceTensor).\n",
      "  dataset  = torch.utils.data.TensorDataset(torch.tensor(counts), torch.tensor(preds))\n"
     ]
    },
    {
     "name": "stdout",
     "output_type": "stream",
     "text": [
      "1\n"
     ]
    },
    {
     "name": "stderr",
     "output_type": "stream",
     "text": [
      "/home/users/lewinsda/scSHARP/utilities.py:423: UserWarning: To copy construct from a tensor, it is recommended to use sourceTensor.clone().detach() or sourceTensor.clone().detach().requires_grad_(True), rather than torch.tensor(sourceTensor).\n",
      "  dataset  = torch.utils.data.TensorDataset(torch.tensor(counts), torch.tensor(preds))\n"
     ]
    },
    {
     "name": "stdout",
     "output_type": "stream",
     "text": [
      "1\n"
     ]
    },
    {
     "name": "stderr",
     "output_type": "stream",
     "text": [
      "/home/users/lewinsda/scSHARP/utilities.py:423: UserWarning: To copy construct from a tensor, it is recommended to use sourceTensor.clone().detach() or sourceTensor.clone().detach().requires_grad_(True), rather than torch.tensor(sourceTensor).\n",
      "  dataset  = torch.utils.data.TensorDataset(torch.tensor(counts), torch.tensor(preds))\n"
     ]
    },
    {
     "data": {
      "text/plain": [
       "<Figure size 432x288 with 0 Axes>"
      ]
     },
     "metadata": {},
     "output_type": "display_data"
    }
   ],
   "source": [
    "datasets = [\"/home/groups/ConradLab/daniel/sharp_data/sharp_sims_test/splat_0.7_de_rq/\",\"/home/groups/ConradLab/daniel/sharp_data/sharp_sims_test/splat_0.8_de_rq/\",\"/home/groups/ConradLab/daniel/sharp_data/jung/\"]\n",
    "\n",
    "for dataset in datasets:\n",
    "    if dataset == \"/home/groups/ConradLab/daniel/sharp_data/jung/\":\n",
    "        counts = pd.read_csv(dataset + \"counts.csv\", index_col = 0)\n",
    "        real_y = pd.read_csv(dataset + \"labels.csv\", index_col= 0).iloc[:,0]\n",
    "        data_name = \"jung\"\n",
    "    else:\n",
    "        counts = pd.read_csv(dataset + \"query_counts.csv\", index_col = 0)\n",
    "        real_y = pd.read_csv(dataset + \"query_meta.csv\", index_col= 0).Group\n",
    "        if dataset.split(\"/\")[7] == \"splat_0.7_de_rq\":\n",
    "            data_name = \"sim_0.7\"\n",
    "        else: data_name = \"sim_0.8\"\n",
    "        \n",
    "    all_labels = pd.read_csv(dataset + \"preds.csv\", index_col=0)\n",
    "    X, keep_cells,keep_genes,pca_obj = utilities.preprocess(np.array(counts), scale=False, run_pca=True)\n",
    "    _,marker_names = utilities.read_marker_file(dataset + \"markers.txt\")\n",
    "    all_labels_factored = utilities.factorize_df(all_labels, marker_names)\n",
    "    encoded_labels = utilities.encode_predictions(all_labels_factored)\n",
    "    confident_labels = utilities.get_consensus_labels(encoded_labels, necessary_vote = .51)\n",
    "    real_y = pd.factorize(real_y, sort=True)[0]\n",
    "    real_y = real_y[keep_cells]\n",
    "    \n",
    "    neighbors = [10,50,100, 200, 300, 400, 500, 600, 700, 800, 900]\n",
    "    accuracies = []\n",
    "    # one epoch\n",
    "    for i in neighbors:\n",
    "        preds = utilities.knn_consensus_batch(X, confident_labels, i, converge=False, one_epoch=True, batch_size=1000, keep_conf=True)\n",
    "        accuracies.append(utilities.validation_metrics(torch.tensor(real_y), torch.tensor(preds), range(len(real_y)), range(len(real_y)))[0])\n",
    "    \n",
    "    plt.scatter(neighbors, accuracies)\n",
    "    plt.xlabel(\"Neighbors\")\n",
    "    plt.ylabel(\"Accuracy\")\n",
    "    plt.title(\"One Epoch\")\n",
    "    plt.savefig('figures/' + data_name + '_knn_fixed_plot_one.pdf')\n",
    "    plt.clf()\n",
    "    accuracies = []\n",
    "    \n",
    "    # until all labelled\n",
    "    for i in neighbors:\n",
    "        preds = utilities.knn_consensus_batch(X, confident_labels, i, converge=False, one_epoch=False, batch_size=1000, keep_conf=True)\n",
    "        accuracies.append(utilities.validation_metrics(torch.tensor(real_y), torch.tensor(preds), range(len(real_y)), range(len(real_y)))[0])\n",
    "    plt.scatter(neighbors, accuracies)\n",
    "    plt.xlabel(\"Neighbors\")\n",
    "    plt.ylabel(\"Accuracy\")\n",
    "    plt.title(\"Iterate until all labeled\")\n",
    "    plt.savefig('figures/' + data_name + '_knn_fixed_plot_all.pdf')\n",
    "    plt.clf()\n",
    "    accuracies = []\n",
    "    \n",
    "    # until converge\n",
    "    for i in neighbors:\n",
    "        preds = utilities.knn_consensus_batch(X, confident_labels, i, converge=True, one_epoch=False, batch_size=1000, keep_conf=True)\n",
    "        accuracies.append(utilities.validation_metrics(torch.tensor(real_y), torch.tensor(preds), range(len(real_y)), range(len(real_y)))[0])\n",
    "    plt.scatter(neighbors, accuracies)\n",
    "    plt.xlabel(\"Neighbors\")\n",
    "    plt.ylabel(\"Accuracy\")\n",
    "    plt.title(\"Iterate until convergence\")\n",
    "    plt.savefig('figures/' + data_name + '_knn_fixed_plot_converge.pdf')\n",
    "    plt.clf()\n",
    "        "
   ]
  },
  {
   "cell_type": "code",
   "execution_count": null,
   "metadata": {},
   "outputs": [],
   "source": [
    "preds = utilities.knn_consensus(X, confident_labels, 700, converge=True, one_epoch=False)\n",
    "\n",
    "print(utilities.validation_metrics(torch.tensor(real_y), torch.tensor(preds), range(len(real_y)), range(len(real_y)))[0:2])"
   ]
  },
  {
   "cell_type": "code",
   "execution_count": null,
   "metadata": {},
   "outputs": [],
   "source": [
    "preds.shape"
   ]
  },
  {
   "cell_type": "code",
   "execution_count": 76,
   "metadata": {},
   "outputs": [
    {
     "name": "stdout",
     "output_type": "stream",
     "text": [
      "(0.8078034520149231, array([[  0,   0,   0,   0],\n",
      "       [ 32, 136,  74,   2],\n",
      "       [  4,  10, 142,   0],\n",
      "       [ 10,   1,   0, 281]]))\n"
     ]
    }
   ],
   "source": [
    "print(utilities.validation_metrics(torch.tensor(real_y), torch.tensor(confident_labels), range(len(real_y)), range(len(real_y)))[0:2])"
   ]
  },
  {
   "cell_type": "code",
   "execution_count": 11,
   "metadata": {},
   "outputs": [
    {
     "name": "stdout",
     "output_type": "stream",
     "text": [
      "(0.3056112229824066, array([[ 55,   0,   0, 199],\n",
      "       [  0,   0,   0, 244],\n",
      "       [  0,   0,   5, 250],\n",
      "       [  0,   0,   0, 245]]), 0.33135393261909485, array([[ 55,   0,   0, 195],\n",
      "       [  0,   0,   0, 127],\n",
      "       [  0,   0,   5, 241],\n",
      "       [  0,   0,   0, 219]]), 0.1666666716337204, array([[  0,   0,   0,   4],\n",
      "       [  0,   0,   0, 117],\n",
      "       [  0,   0,   0,   9],\n",
      "       [  0,   0,   0,  26]]))\n"
     ]
    }
   ],
   "source": [
    "#0.7 test\n",
    "preds = utilities.knn_consensus_batch(X, confident_labels, 300, converge=False, one_epoch=True, batch_size=1000)\n",
    "print(utilities.validation_metrics(torch.tensor(real_y), torch.tensor(preds), train_nodes, test_nodes))"
   ]
  },
  {
   "cell_type": "code",
   "execution_count": 12,
   "metadata": {},
   "outputs": [
    {
     "name": "stdout",
     "output_type": "stream",
     "text": [
      "1\n"
     ]
    },
    {
     "name": "stderr",
     "output_type": "stream",
     "text": [
      "/home/users/lewinsda/scSHARP/utilities.py:423: UserWarning: To copy construct from a tensor, it is recommended to use sourceTensor.clone().detach() or sourceTensor.clone().detach().requires_grad_(True), rather than torch.tensor(sourceTensor).\n",
      "  dataset  = torch.utils.data.TensorDataset(torch.tensor(counts), torch.tensor(preds))\n"
     ]
    },
    {
     "name": "stdout",
     "output_type": "stream",
     "text": [
      "(0.8226453065872192, array([[248,   1,   1,   4],\n",
      "       [ 25,  93,   4, 122],\n",
      "       [  5,   0, 240,  10],\n",
      "       [  3,   0,   2, 240]]), 0.9441805481910706, array([[248,   1,   1,   0],\n",
      "       [ 25,  93,   4,   5],\n",
      "       [  5,   0, 240,   1],\n",
      "       [  3,   0,   2, 214]]), 0.1666666716337204, array([[  0,   0,   0,   4],\n",
      "       [  0,   0,   0, 117],\n",
      "       [  0,   0,   0,   9],\n",
      "       [  0,   0,   0,  26]]))\n"
     ]
    }
   ],
   "source": [
    "#0.7 test\n",
    "preds = utilities.knn_consensus_batch(X, confident_labels, 300, converge=True, one_epoch=False, batch_size=1000, keep_conf=True)\n",
    "print(utilities.validation_metrics(torch.tensor(real_y), torch.tensor(preds), train_nodes, test_nodes))"
   ]
  },
  {
   "cell_type": "code",
   "execution_count": 22,
   "metadata": {},
   "outputs": [
    {
     "name": "stdout",
     "output_type": "stream",
     "text": [
      "(0.37374749779701233, array([[  0,   0,   0,   0,   0],\n",
      "       [  0,  69,   0,   0, 185],\n",
      "       [  1,   2,   1,   1, 239],\n",
      "       [  1,   0,   0,  58, 196],\n",
      "       [  0,   0,   0,   0, 245]]), 0.394304484128952, array([[ 69,   0,   0, 183],\n",
      "       [  2,   1,   1, 180],\n",
      "       [  0,   0,  57, 187],\n",
      "       [  0,   0,   0, 233]]), 0.15294118225574493, array([[ 0,  0,  0,  0,  0],\n",
      "       [ 0,  0,  0,  0,  2],\n",
      "       [ 1,  0,  0,  0, 59],\n",
      "       [ 1,  0,  0,  1,  9],\n",
      "       [ 0,  0,  0,  0, 12]]))\n"
     ]
    }
   ],
   "source": [
    "#0.8 test\n",
    "preds = utilities.knn_consensus_batch(X, confident_labels, 10, converge=False, one_epoch=True, batch_size=1000)\n",
    "print(utilities.validation_metrics(torch.tensor(real_y), torch.tensor(preds), train_nodes, test_nodes))"
   ]
  },
  {
   "cell_type": "code",
   "execution_count": 20,
   "metadata": {},
   "outputs": [
    {
     "name": "stdout",
     "output_type": "stream",
     "text": [
      "1\n"
     ]
    },
    {
     "name": "stderr",
     "output_type": "stream",
     "text": [
      "/home/users/lewinsda/scSHARP/utilities.py:423: UserWarning: To copy construct from a tensor, it is recommended to use sourceTensor.clone().detach() or sourceTensor.clone().detach().requires_grad_(True), rather than torch.tensor(sourceTensor).\n",
      "  dataset  = torch.utils.data.TensorDataset(torch.tensor(counts), torch.tensor(preds))\n"
     ]
    },
    {
     "name": "stdout",
     "output_type": "stream",
     "text": [
      "(0.9028056263923645, array([[  0,   0,   0,   0,   0],\n",
      "       [  0, 251,   1,   0,   2],\n",
      "       [  1,  14, 167,   0,  62],\n",
      "       [  1,   1,   0, 244,   9],\n",
      "       [  0,   1,   3,   2, 239]]), 0.9726177453994751, array([[251,   1,   0,   0],\n",
      "       [ 14, 167,   0,   3],\n",
      "       [  1,   0, 243,   0],\n",
      "       [  1,   3,   2, 227]]), 0.15294118225574493, array([[ 0,  0,  0,  0,  0],\n",
      "       [ 0,  0,  0,  0,  2],\n",
      "       [ 1,  0,  0,  0, 59],\n",
      "       [ 1,  0,  0,  1,  9],\n",
      "       [ 0,  0,  0,  0, 12]]))\n"
     ]
    }
   ],
   "source": [
    "#0.8 test\n",
    "preds = utilities.knn_consensus_batch(X, confident_labels, 10, converge=True, one_epoch=False, batch_size=1000, keep_conf=True)\n",
    "print(utilities.validation_metrics(torch.tensor(real_y), torch.tensor(preds), train_nodes, test_nodes))"
   ]
  },
  {
   "cell_type": "code",
   "execution_count": 30,
   "metadata": {},
   "outputs": [
    {
     "name": "stdout",
     "output_type": "stream",
     "text": [
      "1\n"
     ]
    },
    {
     "name": "stderr",
     "output_type": "stream",
     "text": [
      "/home/users/lewinsda/scSHARP/utilities.py:423: UserWarning: To copy construct from a tensor, it is recommended to use sourceTensor.clone().detach() or sourceTensor.clone().detach().requires_grad_(True), rather than torch.tensor(sourceTensor).\n",
      "  dataset  = torch.utils.data.TensorDataset(torch.tensor(counts), torch.tensor(preds))\n"
     ]
    },
    {
     "name": "stdout",
     "output_type": "stream",
     "text": [
      "(0.8742774724960327, array([[167,  72,   5],\n",
      "       [  9, 146,   1],\n",
      "       [  0,   0, 292]]), 0.8761609792709351, array([[141,  68,   3],\n",
      "       [  8, 143,   1],\n",
      "       [  0,   0, 282]]), 0.8478260636329651, array([[26,  4,  2],\n",
      "       [ 1,  3,  0],\n",
      "       [ 0,  0, 10]]))\n"
     ]
    }
   ],
   "source": [
    "#jung test\n",
    "preds = utilities.knn_consensus_batch(X, confident_labels, 200, converge=True, one_epoch=False, batch_size=1000)\n",
    "print(utilities.validation_metrics(torch.tensor(real_y), torch.tensor(preds), train_nodes, test_nodes))"
   ]
  },
  {
   "cell_type": "code",
   "execution_count": 33,
   "metadata": {},
   "outputs": [
    {
     "name": "stdout",
     "output_type": "stream",
     "text": [
      "1\n"
     ]
    },
    {
     "name": "stderr",
     "output_type": "stream",
     "text": [
      "/home/users/lewinsda/scSHARP/utilities.py:423: UserWarning: To copy construct from a tensor, it is recommended to use sourceTensor.clone().detach() or sourceTensor.clone().detach().requires_grad_(True), rather than torch.tensor(sourceTensor).\n",
      "  dataset  = torch.utils.data.TensorDataset(torch.tensor(counts), torch.tensor(preds))\n"
     ]
    },
    {
     "name": "stdout",
     "output_type": "stream",
     "text": [
      "(0.8627167344093323, array([[160,  79,   5],\n",
      "       [ 10, 146,   0],\n",
      "       [  1,   0, 291]]), 0.8653250932693481, array([[136,  74,   2],\n",
      "       [ 10, 142,   0],\n",
      "       [  1,   0, 281]]), 0.8260869383811951, array([[24,  5,  3],\n",
      "       [ 0,  4,  0],\n",
      "       [ 0,  0, 10]]))\n"
     ]
    }
   ],
   "source": [
    "#jung test\n",
    "preds = utilities.knn_consensus_batch(X, confident_labels, 200, converge=True, one_epoch=False, batch_size=1000, keep_conf=True)\n",
    "print(utilities.validation_metrics(torch.tensor(real_y), torch.tensor(preds), train_nodes, test_nodes))"
   ]
  }
 ],
 "metadata": {
  "kernelspec": {
   "display_name": "daniel_thesis",
   "language": "python",
   "name": "daniel_thesis_2"
  },
  "language_info": {
   "codemirror_mode": {
    "name": "ipython",
    "version": 3
   },
   "file_extension": ".py",
   "mimetype": "text/x-python",
   "name": "python",
   "nbconvert_exporter": "python",
   "pygments_lexer": "ipython3",
   "version": "3.9.7"
  },
  "vscode": {
   "interpreter": {
    "hash": "9e461d02738fd757bc3d2933f9434d370f54d79aa7bbf71ca755487c9a10e111"
   }
  }
 },
 "nbformat": 4,
 "nbformat_minor": 2
}
