{
 "cells": [
  {
   "cell_type": "code",
   "execution_count": 1,
   "metadata": {},
   "outputs": [],
   "source": [
    "import torch\n",
    "import utilities\n",
    "import numpy as np\n",
    "import pandas as pd\n",
    "from sc_sharp import scSHARP"
   ]
  },
  {
   "cell_type": "code",
   "execution_count": 2,
   "metadata": {},
   "outputs": [],
   "source": [
    "x = np.array([[1,1], [2,2], [3,3], [10,10], [11,11], [12,12]])\n",
    "preds = [0, -1, 0, 1, -1, 1]"
   ]
  },
  {
   "cell_type": "code",
   "execution_count": 3,
   "metadata": {},
   "outputs": [
    {
     "data": {
      "text/plain": [
       "array([ 0, -1,  0,  1, -1,  1])"
      ]
     },
     "execution_count": 3,
     "metadata": {},
     "output_type": "execute_result"
    }
   ],
   "source": [
    "utilities.knn_consensus(x, preds, 2)"
   ]
  },
  {
   "cell_type": "code",
   "execution_count": 4,
   "metadata": {},
   "outputs": [
    {
     "data": {
      "text/html": [
       "<div>\n",
       "<style scoped>\n",
       "    .dataframe tbody tr th:only-of-type {\n",
       "        vertical-align: middle;\n",
       "    }\n",
       "\n",
       "    .dataframe tbody tr th {\n",
       "        vertical-align: top;\n",
       "    }\n",
       "\n",
       "    .dataframe thead th {\n",
       "        text-align: right;\n",
       "    }\n",
       "</style>\n",
       "<table border=\"1\" class=\"dataframe\">\n",
       "  <thead>\n",
       "    <tr style=\"text-align: right;\">\n",
       "      <th></th>\n",
       "      <th>Gene1</th>\n",
       "      <th>Gene2</th>\n",
       "      <th>Gene3</th>\n",
       "      <th>Gene4</th>\n",
       "      <th>Gene5</th>\n",
       "      <th>Gene6</th>\n",
       "      <th>Gene7</th>\n",
       "      <th>Gene8</th>\n",
       "      <th>Gene9</th>\n",
       "      <th>Gene10</th>\n",
       "      <th>...</th>\n",
       "      <th>Gene33685</th>\n",
       "      <th>Gene33686</th>\n",
       "      <th>Gene33687</th>\n",
       "      <th>Gene33688</th>\n",
       "      <th>Gene33689</th>\n",
       "      <th>Gene33690</th>\n",
       "      <th>Gene33691</th>\n",
       "      <th>Gene33692</th>\n",
       "      <th>Gene33693</th>\n",
       "      <th>Gene33694</th>\n",
       "    </tr>\n",
       "  </thead>\n",
       "  <tbody>\n",
       "    <tr>\n",
       "      <th>Cell1001</th>\n",
       "      <td>0</td>\n",
       "      <td>0</td>\n",
       "      <td>0</td>\n",
       "      <td>0</td>\n",
       "      <td>1</td>\n",
       "      <td>6</td>\n",
       "      <td>0</td>\n",
       "      <td>0</td>\n",
       "      <td>0</td>\n",
       "      <td>0</td>\n",
       "      <td>...</td>\n",
       "      <td>0</td>\n",
       "      <td>0</td>\n",
       "      <td>0</td>\n",
       "      <td>2</td>\n",
       "      <td>0</td>\n",
       "      <td>0</td>\n",
       "      <td>0</td>\n",
       "      <td>0</td>\n",
       "      <td>0</td>\n",
       "      <td>0</td>\n",
       "    </tr>\n",
       "    <tr>\n",
       "      <th>Cell1002</th>\n",
       "      <td>0</td>\n",
       "      <td>0</td>\n",
       "      <td>0</td>\n",
       "      <td>0</td>\n",
       "      <td>0</td>\n",
       "      <td>0</td>\n",
       "      <td>0</td>\n",
       "      <td>0</td>\n",
       "      <td>0</td>\n",
       "      <td>0</td>\n",
       "      <td>...</td>\n",
       "      <td>0</td>\n",
       "      <td>0</td>\n",
       "      <td>0</td>\n",
       "      <td>0</td>\n",
       "      <td>0</td>\n",
       "      <td>0</td>\n",
       "      <td>0</td>\n",
       "      <td>0</td>\n",
       "      <td>0</td>\n",
       "      <td>0</td>\n",
       "    </tr>\n",
       "    <tr>\n",
       "      <th>Cell1003</th>\n",
       "      <td>0</td>\n",
       "      <td>0</td>\n",
       "      <td>0</td>\n",
       "      <td>0</td>\n",
       "      <td>0</td>\n",
       "      <td>0</td>\n",
       "      <td>0</td>\n",
       "      <td>0</td>\n",
       "      <td>0</td>\n",
       "      <td>0</td>\n",
       "      <td>...</td>\n",
       "      <td>0</td>\n",
       "      <td>0</td>\n",
       "      <td>0</td>\n",
       "      <td>0</td>\n",
       "      <td>0</td>\n",
       "      <td>0</td>\n",
       "      <td>0</td>\n",
       "      <td>0</td>\n",
       "      <td>0</td>\n",
       "      <td>0</td>\n",
       "    </tr>\n",
       "    <tr>\n",
       "      <th>Cell1004</th>\n",
       "      <td>0</td>\n",
       "      <td>0</td>\n",
       "      <td>0</td>\n",
       "      <td>0</td>\n",
       "      <td>0</td>\n",
       "      <td>0</td>\n",
       "      <td>0</td>\n",
       "      <td>0</td>\n",
       "      <td>0</td>\n",
       "      <td>0</td>\n",
       "      <td>...</td>\n",
       "      <td>2</td>\n",
       "      <td>0</td>\n",
       "      <td>0</td>\n",
       "      <td>0</td>\n",
       "      <td>0</td>\n",
       "      <td>0</td>\n",
       "      <td>0</td>\n",
       "      <td>0</td>\n",
       "      <td>0</td>\n",
       "      <td>0</td>\n",
       "    </tr>\n",
       "    <tr>\n",
       "      <th>Cell1005</th>\n",
       "      <td>0</td>\n",
       "      <td>0</td>\n",
       "      <td>0</td>\n",
       "      <td>0</td>\n",
       "      <td>0</td>\n",
       "      <td>0</td>\n",
       "      <td>0</td>\n",
       "      <td>0</td>\n",
       "      <td>0</td>\n",
       "      <td>0</td>\n",
       "      <td>...</td>\n",
       "      <td>0</td>\n",
       "      <td>0</td>\n",
       "      <td>0</td>\n",
       "      <td>0</td>\n",
       "      <td>0</td>\n",
       "      <td>0</td>\n",
       "      <td>0</td>\n",
       "      <td>0</td>\n",
       "      <td>0</td>\n",
       "      <td>0</td>\n",
       "    </tr>\n",
       "  </tbody>\n",
       "</table>\n",
       "<p>5 rows × 33694 columns</p>\n",
       "</div>"
      ],
      "text/plain": [
       "          Gene1  Gene2  Gene3  Gene4  Gene5  Gene6  Gene7  Gene8  Gene9  \\\n",
       "Cell1001      0      0      0      0      1      6      0      0      0   \n",
       "Cell1002      0      0      0      0      0      0      0      0      0   \n",
       "Cell1003      0      0      0      0      0      0      0      0      0   \n",
       "Cell1004      0      0      0      0      0      0      0      0      0   \n",
       "Cell1005      0      0      0      0      0      0      0      0      0   \n",
       "\n",
       "          Gene10  ...  Gene33685  Gene33686  Gene33687  Gene33688  Gene33689  \\\n",
       "Cell1001       0  ...          0          0          0          2          0   \n",
       "Cell1002       0  ...          0          0          0          0          0   \n",
       "Cell1003       0  ...          0          0          0          0          0   \n",
       "Cell1004       0  ...          2          0          0          0          0   \n",
       "Cell1005       0  ...          0          0          0          0          0   \n",
       "\n",
       "          Gene33690  Gene33691  Gene33692  Gene33693  Gene33694  \n",
       "Cell1001          0          0          0          0          0  \n",
       "Cell1002          0          0          0          0          0  \n",
       "Cell1003          0          0          0          0          0  \n",
       "Cell1004          0          0          0          0          0  \n",
       "Cell1005          0          0          0          0          0  \n",
       "\n",
       "[5 rows x 33694 columns]"
      ]
     },
     "execution_count": 4,
     "metadata": {},
     "output_type": "execute_result"
    }
   ],
   "source": [
    "counts = pd.read_csv(\"simulations/splat_0.7_de_rq/query_counts.csv\", index_col = 0)\n",
    "counts.head()"
   ]
  },
  {
   "cell_type": "code",
   "execution_count": 5,
   "metadata": {},
   "outputs": [
    {
     "data": {
      "text/html": [
       "<div>\n",
       "<style scoped>\n",
       "    .dataframe tbody tr th:only-of-type {\n",
       "        vertical-align: middle;\n",
       "    }\n",
       "\n",
       "    .dataframe tbody tr th {\n",
       "        vertical-align: top;\n",
       "    }\n",
       "\n",
       "    .dataframe thead th {\n",
       "        text-align: right;\n",
       "    }\n",
       "</style>\n",
       "<table border=\"1\" class=\"dataframe\">\n",
       "  <thead>\n",
       "    <tr style=\"text-align: right;\">\n",
       "      <th></th>\n",
       "      <th>scina</th>\n",
       "      <th>scsorter</th>\n",
       "      <th>sctype</th>\n",
       "      <th>singler</th>\n",
       "      <th>scpred</th>\n",
       "    </tr>\n",
       "  </thead>\n",
       "  <tbody>\n",
       "    <tr>\n",
       "      <th>Cell1001</th>\n",
       "      <td>Group2</td>\n",
       "      <td>Group2</td>\n",
       "      <td>Group2</td>\n",
       "      <td>Group2</td>\n",
       "      <td>Group2</td>\n",
       "    </tr>\n",
       "    <tr>\n",
       "      <th>Cell1002</th>\n",
       "      <td>Group4</td>\n",
       "      <td>Group2</td>\n",
       "      <td>Group2</td>\n",
       "      <td>Group4</td>\n",
       "      <td>Group2</td>\n",
       "    </tr>\n",
       "    <tr>\n",
       "      <th>Cell1003</th>\n",
       "      <td>Group1</td>\n",
       "      <td>Group4</td>\n",
       "      <td>Group2</td>\n",
       "      <td>Group2</td>\n",
       "      <td>NaN</td>\n",
       "    </tr>\n",
       "    <tr>\n",
       "      <th>Cell1004</th>\n",
       "      <td>Group4</td>\n",
       "      <td>Group4</td>\n",
       "      <td>Group4</td>\n",
       "      <td>Group4</td>\n",
       "      <td>Group1</td>\n",
       "    </tr>\n",
       "    <tr>\n",
       "      <th>Cell1005</th>\n",
       "      <td>Group1</td>\n",
       "      <td>Group1</td>\n",
       "      <td>Group1</td>\n",
       "      <td>Group1</td>\n",
       "      <td>Group1</td>\n",
       "    </tr>\n",
       "  </tbody>\n",
       "</table>\n",
       "</div>"
      ],
      "text/plain": [
       "           scina scsorter  sctype singler  scpred\n",
       "Cell1001  Group2   Group2  Group2  Group2  Group2\n",
       "Cell1002  Group4   Group2  Group2  Group4  Group2\n",
       "Cell1003  Group1   Group4  Group2  Group2     NaN\n",
       "Cell1004  Group4   Group4  Group4  Group4  Group1\n",
       "Cell1005  Group1   Group1  Group1  Group1  Group1"
      ]
     },
     "execution_count": 5,
     "metadata": {},
     "output_type": "execute_result"
    }
   ],
   "source": [
    "all_labels = pd.read_csv(\"simulations/splat_0.7_de_rq/preds.csv\", index_col=0)\n",
    "all_labels.head()"
   ]
  },
  {
   "cell_type": "code",
   "execution_count": 6,
   "metadata": {},
   "outputs": [
    {
     "data": {
      "text/plain": [
       "(999, 16196)"
      ]
     },
     "execution_count": 6,
     "metadata": {},
     "output_type": "execute_result"
    }
   ],
   "source": [
    "X, keep_cells,keep_genes,pca_obj = utilities.preprocess(np.array(counts), scale=False, run_pca=False)\n",
    "X.shape"
   ]
  },
  {
   "cell_type": "code",
   "execution_count": 7,
   "metadata": {},
   "outputs": [],
   "source": [
    "_,marker_names = utilities.read_marker_file(\"simulations/splat_0.7_de_rq/markers.txt\")"
   ]
  },
  {
   "cell_type": "code",
   "execution_count": 8,
   "metadata": {},
   "outputs": [],
   "source": [
    "all_labels_factored = utilities.factorize_df(all_labels, marker_names)\n",
    "encoded_labels = utilities.encode_predictions(all_labels_factored)\n",
    "confident_labels = utilities.get_consensus_labels(encoded_labels, necessary_vote = .51)\n",
    "confident_labels = confident_labels[keep_cells]"
   ]
  },
  {
   "cell_type": "code",
   "execution_count": 9,
   "metadata": {},
   "outputs": [],
   "source": [
    "real_y = pd.read_csv(\"simulations/splat_0.7_de_rq/query_meta.csv\", index_col= 0).Group\n",
    "real_y = pd.factorize(real_y, sort=True)[0]\n",
    "real_y = real_y[keep_cells]"
   ]
  },
  {
   "cell_type": "code",
   "execution_count": 11,
   "metadata": {},
   "outputs": [
    {
     "name": "stdout",
     "output_type": "stream",
     "text": [
      "1\n",
      "10\n",
      "(0.8068068027496338, array([[  0,   0,   0,   0,   0],\n",
      "       [  0, 232,   0,   0,   0],\n",
      "       [  0,  25, 239,   4,   0],\n",
      "       [  5,  60,   3, 163,   3],\n",
      "       [  4,  76,   5,   8, 172]]))\n",
      "1\n",
      "50\n",
      "(0.9029029011726379, array([[  0,   0,   0,   0,   0],\n",
      "       [  0, 232,   0,   0,   0],\n",
      "       [  0,   5, 262,   1,   0],\n",
      "       [  3,  44,   3, 183,   1],\n",
      "       [  0,  39,   0,   1, 225]]))\n",
      "1\n",
      "100\n",
      "(0.9339339137077332, array([[  0,   0,   0,   0,   0],\n",
      "       [  0, 231,   1,   0,   0],\n",
      "       [  0,   1, 266,   1,   0],\n",
      "       [  2,  30,   3, 196,   3],\n",
      "       [  0,  21,   3,   1, 240]]))\n",
      "1\n",
      "200\n",
      "(0.9639639854431152, array([[  0,   0,   0,   0,   0],\n",
      "       [  0, 229,   2,   0,   1],\n",
      "       [  0,   0, 268,   0,   0],\n",
      "       [  1,  10,   7, 213,   3],\n",
      "       [  1,   9,   0,   2, 253]]))\n"
     ]
    }
   ],
   "source": [
    "for i in [10,50,100, 200, 400]:\n",
    "    preds = utilities.knn_consensus(X, confident_labels, i)\n",
    "    print(i)\n",
    "    print(utilities.validation_metrics(torch.tensor(real_y), torch.tensor(preds), range(len(real_y)), range(len(real_y)))[0:2])\n"
   ]
  }
 ],
 "metadata": {
  "kernelspec": {
   "display_name": "Python 3.9.7 ('thesis')",
   "language": "python",
   "name": "python3"
  },
  "language_info": {
   "codemirror_mode": {
    "name": "ipython",
    "version": 3
   },
   "file_extension": ".py",
   "mimetype": "text/x-python",
   "name": "python",
   "nbconvert_exporter": "python",
   "pygments_lexer": "ipython3",
   "version": "3.9.7"
  },
  "orig_nbformat": 4,
  "vscode": {
   "interpreter": {
    "hash": "9e461d02738fd757bc3d2933f9434d370f54d79aa7bbf71ca755487c9a10e111"
   }
  }
 },
 "nbformat": 4,
 "nbformat_minor": 2
}
