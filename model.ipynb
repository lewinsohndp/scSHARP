{
 "cells": [
  {
   "cell_type": "code",
   "execution_count": 25,
   "metadata": {},
   "outputs": [],
   "source": [
    "import numpy as np\n",
    "import pandas as pd\n",
    "import torch\n",
    "from gcn_model import GCNModel\n",
    "import utilities\n",
    "from test_model import test_model\n",
    "import os"
   ]
  },
  {
   "cell_type": "code",
   "execution_count": 26,
   "metadata": {},
   "outputs": [],
   "source": [
    "#data_folder = \"/home/groups/ConradLab/daniel/sharp_sims/splat_0.7_de_rq/\"\n",
    "data_folder = \"simulations/splat_0.7_de_rq/\""
   ]
  },
  {
   "cell_type": "code",
   "execution_count": 27,
   "metadata": {},
   "outputs": [
    {
     "data": {
      "text/plain": [
       "True"
      ]
     },
     "execution_count": 27,
     "metadata": {},
     "output_type": "execute_result"
    }
   ],
   "source": [
    "os.path.exists(data_folder + \"preds.csv\")"
   ]
  },
  {
   "cell_type": "code",
   "execution_count": 28,
   "metadata": {},
   "outputs": [],
   "source": [
    "# get labels\n",
    "data_path = data_folder + \"query_counts.csv\"\n",
    "tools = [\"sctype\",\"scsorter\",\"scina\",\"singler\", \"scpred\"]\n",
    "#tools = [\"scsorter\",\"scina\",\"singler\"]\n",
    "ref_path = data_folder + \"ref_counts.csv\"\n",
    "ref_label_path = data_folder + \"ref_labels.csv\"\n",
    "marker_path = data_folder + \"markers.txt\"\n",
    "if os.path.exists(data_folder + \"preds.csv\"):\n",
    "    all_labels = pd.read_csv(data_folder + \"preds.csv\", index_col=0)\n",
    "    if all_labels.shape[1] != len(tools): \n",
    "        all_labels = all_labels[tools]\n",
    "        #raise Exception(\"wrong amount of tools in file\")\n",
    "else:\n",
    "    all_labels = utilities.label_counts(data_path,tools,ref_path,ref_label_path,marker_path)"
   ]
  },
  {
   "cell_type": "code",
   "execution_count": 43,
   "metadata": {},
   "outputs": [
    {
     "data": {
      "text/plain": [
       "3"
      ]
     },
     "execution_count": 43,
     "metadata": {},
     "output_type": "execute_result"
    }
   ],
   "source": [
    "all_labels.shape[1]"
   ]
  },
  {
   "cell_type": "code",
   "execution_count": 29,
   "metadata": {},
   "outputs": [
    {
     "data": {
      "text/html": [
       "<div>\n",
       "<style scoped>\n",
       "    .dataframe tbody tr th:only-of-type {\n",
       "        vertical-align: middle;\n",
       "    }\n",
       "\n",
       "    .dataframe tbody tr th {\n",
       "        vertical-align: top;\n",
       "    }\n",
       "\n",
       "    .dataframe thead th {\n",
       "        text-align: right;\n",
       "    }\n",
       "</style>\n",
       "<table border=\"1\" class=\"dataframe\">\n",
       "  <thead>\n",
       "    <tr style=\"text-align: right;\">\n",
       "      <th></th>\n",
       "      <th>scina</th>\n",
       "      <th>scsorter</th>\n",
       "      <th>sctype</th>\n",
       "      <th>singler</th>\n",
       "      <th>scpred</th>\n",
       "    </tr>\n",
       "  </thead>\n",
       "  <tbody>\n",
       "    <tr>\n",
       "      <th>Cell1001</th>\n",
       "      <td>Group2</td>\n",
       "      <td>Group2</td>\n",
       "      <td>Group2</td>\n",
       "      <td>Group2</td>\n",
       "      <td>Group2</td>\n",
       "    </tr>\n",
       "    <tr>\n",
       "      <th>Cell1002</th>\n",
       "      <td>Group4</td>\n",
       "      <td>Group2</td>\n",
       "      <td>Group2</td>\n",
       "      <td>Group4</td>\n",
       "      <td>Group2</td>\n",
       "    </tr>\n",
       "    <tr>\n",
       "      <th>Cell1003</th>\n",
       "      <td>Group1</td>\n",
       "      <td>Group4</td>\n",
       "      <td>Group2</td>\n",
       "      <td>Group2</td>\n",
       "      <td>NaN</td>\n",
       "    </tr>\n",
       "    <tr>\n",
       "      <th>Cell1004</th>\n",
       "      <td>Group4</td>\n",
       "      <td>Group4</td>\n",
       "      <td>Group4</td>\n",
       "      <td>Group4</td>\n",
       "      <td>Group1</td>\n",
       "    </tr>\n",
       "    <tr>\n",
       "      <th>Cell1005</th>\n",
       "      <td>Group1</td>\n",
       "      <td>Group1</td>\n",
       "      <td>Group1</td>\n",
       "      <td>Group1</td>\n",
       "      <td>Group1</td>\n",
       "    </tr>\n",
       "    <tr>\n",
       "      <th>...</th>\n",
       "      <td>...</td>\n",
       "      <td>...</td>\n",
       "      <td>...</td>\n",
       "      <td>...</td>\n",
       "      <td>...</td>\n",
       "    </tr>\n",
       "    <tr>\n",
       "      <th>Cell1996</th>\n",
       "      <td>Group2</td>\n",
       "      <td>Group2</td>\n",
       "      <td>Group4</td>\n",
       "      <td>Group2</td>\n",
       "      <td>Group1</td>\n",
       "    </tr>\n",
       "    <tr>\n",
       "      <th>Cell1997</th>\n",
       "      <td>Group1</td>\n",
       "      <td>Group1</td>\n",
       "      <td>Group1</td>\n",
       "      <td>Group1</td>\n",
       "      <td>Group1</td>\n",
       "    </tr>\n",
       "    <tr>\n",
       "      <th>Cell1998</th>\n",
       "      <td>Group3</td>\n",
       "      <td>Group3</td>\n",
       "      <td>Group3</td>\n",
       "      <td>Group3</td>\n",
       "      <td>Group3</td>\n",
       "    </tr>\n",
       "    <tr>\n",
       "      <th>Cell1999</th>\n",
       "      <td>Group4</td>\n",
       "      <td>Group4</td>\n",
       "      <td>Group2</td>\n",
       "      <td>Group4</td>\n",
       "      <td>NaN</td>\n",
       "    </tr>\n",
       "    <tr>\n",
       "      <th>Cell2000</th>\n",
       "      <td>Group2</td>\n",
       "      <td>Group2</td>\n",
       "      <td>Group2</td>\n",
       "      <td>Group2</td>\n",
       "      <td>Group4</td>\n",
       "    </tr>\n",
       "  </tbody>\n",
       "</table>\n",
       "<p>1000 rows × 5 columns</p>\n",
       "</div>"
      ],
      "text/plain": [
       "           scina scsorter  sctype singler  scpred\n",
       "Cell1001  Group2   Group2  Group2  Group2  Group2\n",
       "Cell1002  Group4   Group2  Group2  Group4  Group2\n",
       "Cell1003  Group1   Group4  Group2  Group2     NaN\n",
       "Cell1004  Group4   Group4  Group4  Group4  Group1\n",
       "Cell1005  Group1   Group1  Group1  Group1  Group1\n",
       "...          ...      ...     ...     ...     ...\n",
       "Cell1996  Group2   Group2  Group4  Group2  Group1\n",
       "Cell1997  Group1   Group1  Group1  Group1  Group1\n",
       "Cell1998  Group3   Group3  Group3  Group3  Group3\n",
       "Cell1999  Group4   Group4  Group2  Group4     NaN\n",
       "Cell2000  Group2   Group2  Group2  Group2  Group4\n",
       "\n",
       "[1000 rows x 5 columns]"
      ]
     },
     "execution_count": 29,
     "metadata": {},
     "output_type": "execute_result"
    }
   ],
   "source": [
    "all_labels"
   ]
  },
  {
   "cell_type": "code",
   "execution_count": 30,
   "metadata": {},
   "outputs": [
    {
     "data": {
      "text/plain": [
       "(999, 500)"
      ]
     },
     "execution_count": 30,
     "metadata": {},
     "output_type": "execute_result"
    }
   ],
   "source": [
    "# read in dataset\n",
    "X = pd.read_csv(data_path, index_col=0)\n",
    "X, keep_cells = utilities.preprocess(np.array(X), scale=False)\n",
    "X.shape"
   ]
  },
  {
   "cell_type": "code",
   "execution_count": 31,
   "metadata": {},
   "outputs": [],
   "source": [
    "all_labels = all_labels.loc[keep_cells,:]"
   ]
  },
  {
   "cell_type": "code",
   "execution_count": 32,
   "metadata": {},
   "outputs": [
    {
     "data": {
      "text/plain": [
       "['Group1', 'Group2', 'Group3', 'Group4']"
      ]
     },
     "execution_count": 32,
     "metadata": {},
     "output_type": "execute_result"
    }
   ],
   "source": [
    "_,marker_names = utilities.read_marker_file(marker_path)\n",
    "marker_names"
   ]
  },
  {
   "cell_type": "code",
   "execution_count": 10,
   "metadata": {},
   "outputs": [
    {
     "data": {
      "text/plain": [
       "Cell1001    Group2\n",
       "Cell1002    Group2\n",
       "Cell1003    Group4\n",
       "Cell1004    Group4\n",
       "Cell1005    Group1\n",
       "             ...  \n",
       "Cell1996    Group2\n",
       "Cell1997    Group1\n",
       "Cell1998    Group3\n",
       "Cell1999    Group4\n",
       "Cell2000    Group2\n",
       "Name: scsorter, Length: 999, dtype: object"
      ]
     },
     "execution_count": 10,
     "metadata": {},
     "output_type": "execute_result"
    }
   ],
   "source": [
    "all_labels['scsorter']"
   ]
  },
  {
   "cell_type": "code",
   "execution_count": 33,
   "metadata": {},
   "outputs": [
    {
     "data": {
      "text/plain": [
       "array([[0., 5., 0., 0.],\n",
       "       [0., 3., 0., 2.],\n",
       "       [1., 2., 0., 1.],\n",
       "       ...,\n",
       "       [0., 0., 5., 0.],\n",
       "       [0., 1., 0., 3.],\n",
       "       [0., 4., 0., 1.]])"
      ]
     },
     "execution_count": 33,
     "metadata": {},
     "output_type": "execute_result"
    }
   ],
   "source": [
    "all_labels_factored = utilities.factorize_df(all_labels, marker_names)\n",
    "encoded_labels = utilities.encode_predictions(all_labels_factored)\n",
    "encoded_labels"
   ]
  },
  {
   "cell_type": "code",
   "execution_count": 34,
   "metadata": {},
   "outputs": [
    {
     "data": {
      "text/plain": [
       "(999,)"
      ]
     },
     "execution_count": 34,
     "metadata": {},
     "output_type": "execute_result"
    }
   ],
   "source": [
    "meta_path = data_folder + \"query_meta.csv\"\n",
    "metadata = pd.read_csv(meta_path, index_col=0)\n",
    "real_y = pd.factorize(metadata['Group'], sort=True)[0]\n",
    "real_y = real_y[keep_cells]\n",
    "real_y.shape"
   ]
  },
  {
   "cell_type": "code",
   "execution_count": 61,
   "metadata": {},
   "outputs": [
    {
     "data": {
      "text/plain": [
       "245"
      ]
     },
     "execution_count": 61,
     "metadata": {},
     "output_type": "execute_result"
    }
   ],
   "source": [
    "len(real_y[real_y==0])"
   ]
  },
  {
   "cell_type": "code",
   "execution_count": 35,
   "metadata": {},
   "outputs": [
    {
     "name": "stdout",
     "output_type": "stream",
     "text": [
      "0.792792797088623\n",
      "0.8138138055801392\n",
      "0.826826810836792\n",
      "0.8408408164978027\n",
      "0.6026026010513306\n"
     ]
    }
   ],
   "source": [
    "print(utilities.pred_accuracy(all_labels_factored['scina'], real_y))\n",
    "print(utilities.pred_accuracy(all_labels_factored['sctype'], real_y))\n",
    "print(utilities.pred_accuracy(all_labels_factored['scsorter'], real_y))\n",
    "print(utilities.pred_accuracy(all_labels_factored['singler'], real_y))\n",
    "print(utilities.pred_accuracy(all_labels_factored['scpred'], real_y))\n"
   ]
  },
  {
   "cell_type": "code",
   "execution_count": 36,
   "metadata": {},
   "outputs": [
    {
     "name": "stderr",
     "output_type": "stream",
     "text": [
      "/Users/daniel/Desktop/conradLab/thesis/scSHARP/utilities.py:173: UserWarning: To copy construct from a tensor, it is recommended to use sourceTensor.clone().detach() or sourceTensor.clone().detach().requires_grad_(True), rather than torch.tensor(sourceTensor).\n",
      "  return float((torch.tensor(preds) == torch.tensor(real)).type(torch.FloatTensor).mean().numpy())\n"
     ]
    },
    {
     "data": {
      "text/plain": [
       "0.9309309124946594"
      ]
     },
     "execution_count": 36,
     "metadata": {},
     "output_type": "execute_result"
    }
   ],
   "source": [
    "max_pred = torch.tensor(encoded_labels).max(dim=1)[1]\n",
    "utilities.pred_accuracy(max_pred, real_y)"
   ]
  },
  {
   "cell_type": "code",
   "execution_count": 37,
   "metadata": {},
   "outputs": [
    {
     "data": {
      "text/plain": [
       "(999,)"
      ]
     },
     "execution_count": 37,
     "metadata": {},
     "output_type": "execute_result"
    }
   ],
   "source": [
    "confident_labels = utilities.get_consensus_labels(encoded_labels, necessary_vote = 3)\n",
    "confident_labels.shape"
   ]
  },
  {
   "cell_type": "code",
   "execution_count": 38,
   "metadata": {},
   "outputs": [
    {
     "name": "stdout",
     "output_type": "stream",
     "text": [
      "[-1.  0.  1.  2.  3.]\n",
      "[0. 1. 2. 3.]\n",
      "[-1.]\n"
     ]
    }
   ],
   "source": [
    "train_nodes = np.where(confident_labels != -1)[0]\n",
    "test_nodes = np.where(confident_labels == -1)[0]\n",
    "print(np.unique(confident_labels))\n",
    "print(np.unique(confident_labels[train_nodes]))\n",
    "print(np.unique(confident_labels[test_nodes]))"
   ]
  },
  {
   "cell_type": "code",
   "execution_count": 26,
   "metadata": {},
   "outputs": [
    {
     "data": {
      "text/plain": [
       "array([3, 0, 3, 0, 0, 0, 1, 2, 2, 2, 3, 0, 1, 1, 3, 2, 0, 1, 2, 3, 2, 1,\n",
       "       0, 3, 3, 0, 3, 1, 2, 1, 1, 0, 0, 3, 2, 0, 0, 1, 2, 2, 0, 1, 1, 3,\n",
       "       2, 0, 0, 0, 0, 3, 3, 3, 0, 3, 1, 0, 3, 3, 0, 1, 2, 2, 0, 2, 1, 0,\n",
       "       3, 1, 0, 0, 2, 1, 3, 2, 0, 0, 0, 0, 2, 1, 0, 0, 2, 3, 0, 2, 3, 0,\n",
       "       1, 2, 3, 2, 2, 2, 2, 0, 3, 0, 2, 3, 3, 2, 2, 0, 0, 2, 2, 0, 0, 0,\n",
       "       3, 1, 2, 2, 0, 0, 2, 0])"
      ]
     },
     "execution_count": 26,
     "metadata": {},
     "output_type": "execute_result"
    }
   ],
   "source": [
    "real_y[test_nodes]"
   ]
  },
  {
   "cell_type": "code",
   "execution_count": 27,
   "metadata": {},
   "outputs": [
    {
     "name": "stdout",
     "output_type": "stream",
     "text": [
      "0.9807037711143494\n"
     ]
    }
   ],
   "source": [
    "print(utilities.pred_accuracy(confident_labels[train_nodes], real_y[train_nodes]))"
   ]
  },
  {
   "cell_type": "code",
   "execution_count": 28,
   "metadata": {},
   "outputs": [
    {
     "data": {
      "text/plain": [
       "118"
      ]
     },
     "execution_count": 28,
     "metadata": {},
     "output_type": "execute_result"
    }
   ],
   "source": [
    "len(test_nodes)"
   ]
  },
  {
   "cell_type": "code",
   "execution_count": 21,
   "metadata": {},
   "outputs": [
    {
     "name": "stdout",
     "output_type": "stream",
     "text": [
      "0.19491524994373322\n",
      "0.3644067943096161\n",
      "0.43220338225364685\n",
      "0.5932203531265259\n",
      "0.17796610295772552\n",
      "0.6271186470985413\n"
     ]
    }
   ],
   "source": [
    "# tool accuracy on test\n",
    "print(utilities.pred_accuracy(np.array(all_labels_factored['scina'][test_nodes]), real_y[test_nodes]))\n",
    "print(utilities.pred_accuracy(np.array(all_labels_factored['sctype'][test_nodes]), real_y[test_nodes]))\n",
    "print(utilities.pred_accuracy(np.array(all_labels_factored['scsorter'][test_nodes]), real_y[test_nodes]))\n",
    "print(utilities.pred_accuracy(np.array(all_labels_factored['singler'][test_nodes]), real_y[test_nodes]))\n",
    "print(utilities.pred_accuracy(np.array(all_labels_factored['scpred'][test_nodes]), real_y[test_nodes]))\n",
    "max_pred = torch.tensor(encoded_labels).max(dim=1)[1]\n",
    "print(utilities.pred_accuracy(max_pred[test_nodes], real_y[test_nodes]))"
   ]
  },
  {
   "cell_type": "code",
   "execution_count": 29,
   "metadata": {},
   "outputs": [],
   "source": [
    "dataset  = torch.utils.data.TensorDataset(torch.tensor(X), torch.tensor(confident_labels))\n",
    "dataloader = torch.utils.data.DataLoader(dataset, batch_size=35, shuffle=True)\n",
    "\n",
    "test_dataset  = torch.utils.data.TensorDataset(torch.tensor(X), torch.tensor(real_y))\n",
    "test_dataloader = torch.utils.data.DataLoader(test_dataset, batch_size=35, shuffle=False)"
   ]
  },
  {
   "cell_type": "code",
   "execution_count": 30,
   "metadata": {},
   "outputs": [],
   "source": [
    "m = GCNModel(\"configs/2_8.txt\", 2, dropout=0.0)"
   ]
  },
  {
   "cell_type": "code",
   "execution_count": 31,
   "metadata": {},
   "outputs": [
    {
     "name": "stdout",
     "output_type": "stream",
     "text": [
      "Loss in epoch 0 = 36.780918\n",
      "Loss in epoch 10 = 0.142983\n",
      "Loss in epoch 20 = 0.038523\n",
      "Loss in epoch 30 = 0.018872\n",
      "Loss in epoch 40 = 0.008604\n",
      "Loss in epoch 50 = 0.006198\n",
      "Loss in epoch 60 = 0.003754\n",
      "Loss in epoch 70 = 0.002780\n",
      "Loss in epoch 80 = 0.002784\n",
      "Loss in epoch 90 = 0.001744\n"
     ]
    }
   ],
   "source": [
    "m.train(dataloader, 100)"
   ]
  },
  {
   "cell_type": "code",
   "execution_count": 32,
   "metadata": {},
   "outputs": [
    {
     "data": {
      "text/plain": [
       "(0.9699699878692627,\n",
       " array([[222,   4,   1,   5],\n",
       "        [  0, 267,   1,   0],\n",
       "        [  2,   4, 223,   5],\n",
       "        [  2,   5,   1, 257]]),\n",
       " 0.9807037711143494,\n",
       " array([[183,   3,   1,   3],\n",
       "        [  0, 249,   0,   0],\n",
       "        [  1,   2, 195,   4],\n",
       "        [  1,   1,   1, 237]]),\n",
       " 0.8898305296897888,\n",
       " array([[39,  1,  0,  2],\n",
       "        [ 0, 18,  1,  0],\n",
       "        [ 1,  2, 28,  1],\n",
       "        [ 1,  4,  0, 20]]))"
      ]
     },
     "execution_count": 32,
     "metadata": {},
     "output_type": "execute_result"
    }
   ],
   "source": [
    "m.validation_metrics(test_dataloader, train_nodes, test_nodes)"
   ]
  },
  {
   "cell_type": "code",
   "execution_count": 22,
   "metadata": {},
   "outputs": [],
   "source": [
    "#data_folders = [\"/home/groups/ConradLab/daniel/sharp_sims/splat_0.6_de_rq/\", \"/home/groups/ConradLab/daniel/sharp_sims/splat_0.7_de_rq/\", \"/home/groups/ConradLab/daniel/sharp_sims/splat_0.8_de_rq/\"]\n",
    "#data_folders = [\"simulations/splat_0.6_de_rq/\", \"simulations/splat_0.7_de_rq/\", \"simulations/splat_0.8_de_rq/\"]\n",
    "data_folders = [\"simulations/splat_0.7_de_rq/\"]\n",
    "tools = [\"sctype\",\"scsorter\",\"scina\",\"singler\", \"scpred\"]\n",
    "votes_necessary = 3\n",
    "model_file = \"configs/2_15.txt\"\n",
    "neighbors = 2\n",
    "batch_size=20\n",
    "training_epochs=150\n",
    "random_inits = 5"
   ]
  },
  {
   "cell_type": "code",
   "execution_count": 23,
   "metadata": {},
   "outputs": [
    {
     "name": "stdout",
     "output_type": "stream",
     "text": [
      "[0.9619619846343994, 0.9639639854431152, 0.966966986656189, 0.9639639854431152, 0.965965986251831]\n"
     ]
    },
    {
     "name": "stderr",
     "output_type": "stream",
     "text": [
      "/Users/daniel/Desktop/conradLab/thesis/scSHARP/utilities.py:173: UserWarning: To copy construct from a tensor, it is recommended to use sourceTensor.clone().detach() or sourceTensor.clone().detach().requires_grad_(True), rather than torch.tensor(sourceTensor).\n",
      "  return float((torch.tensor(preds) == torch.tensor(real)).type(torch.FloatTensor).mean().numpy())\n"
     ]
    }
   ],
   "source": [
    "results = test_model(data_folders, tools, votes_necessary, model_file, neighbors, batch_size, training_epochs, random_inits)"
   ]
  },
  {
   "cell_type": "code",
   "execution_count": 24,
   "metadata": {},
   "outputs": [
    {
     "data": {
      "text/html": [
       "<div>\n",
       "<style scoped>\n",
       "    .dataframe tbody tr th:only-of-type {\n",
       "        vertical-align: middle;\n",
       "    }\n",
       "\n",
       "    .dataframe tbody tr th {\n",
       "        vertical-align: top;\n",
       "    }\n",
       "\n",
       "    .dataframe thead th {\n",
       "        text-align: right;\n",
       "    }\n",
       "</style>\n",
       "<table border=\"1\" class=\"dataframe\">\n",
       "  <thead>\n",
       "    <tr style=\"text-align: right;\">\n",
       "      <th></th>\n",
       "      <th>data_name</th>\n",
       "      <th>method</th>\n",
       "      <th>total_accuracy</th>\n",
       "      <th>train_accuracy</th>\n",
       "      <th>test_accuracy</th>\n",
       "      <th>total_sd</th>\n",
       "      <th>train_sd</th>\n",
       "      <th>test_sd</th>\n",
       "    </tr>\n",
       "  </thead>\n",
       "  <tbody>\n",
       "    <tr>\n",
       "      <th>0</th>\n",
       "      <td>splat_0.7_de_rq</td>\n",
       "      <td>GCN</td>\n",
       "      <td>0.964565</td>\n",
       "      <td>0.972284</td>\n",
       "      <td>0.892783</td>\n",
       "      <td>0.001951</td>\n",
       "      <td>0.0</td>\n",
       "      <td>0.020096</td>\n",
       "    </tr>\n",
       "    <tr>\n",
       "      <th>1</th>\n",
       "      <td>splat_0.7_de_rq</td>\n",
       "      <td>Max Col.</td>\n",
       "      <td>0.930931</td>\n",
       "      <td>0.972284</td>\n",
       "      <td>0.546392</td>\n",
       "      <td>0.000000</td>\n",
       "      <td>0.0</td>\n",
       "      <td>0.000000</td>\n",
       "    </tr>\n",
       "    <tr>\n",
       "      <th>2</th>\n",
       "      <td>splat_0.7_de_rq</td>\n",
       "      <td>Confident Labels</td>\n",
       "      <td>NaN</td>\n",
       "      <td>0.972284</td>\n",
       "      <td>NaN</td>\n",
       "      <td>0.000000</td>\n",
       "      <td>0.0</td>\n",
       "      <td>0.000000</td>\n",
       "    </tr>\n",
       "    <tr>\n",
       "      <th>3</th>\n",
       "      <td>splat_0.7_de_rq</td>\n",
       "      <td>sctype</td>\n",
       "      <td>0.813814</td>\n",
       "      <td>0.850333</td>\n",
       "      <td>0.474227</td>\n",
       "      <td>0.000000</td>\n",
       "      <td>0.0</td>\n",
       "      <td>0.000000</td>\n",
       "    </tr>\n",
       "    <tr>\n",
       "      <th>4</th>\n",
       "      <td>splat_0.7_de_rq</td>\n",
       "      <td>scsorter</td>\n",
       "      <td>0.826827</td>\n",
       "      <td>0.871397</td>\n",
       "      <td>0.412371</td>\n",
       "      <td>0.000000</td>\n",
       "      <td>0.0</td>\n",
       "      <td>0.000000</td>\n",
       "    </tr>\n",
       "    <tr>\n",
       "      <th>5</th>\n",
       "      <td>splat_0.7_de_rq</td>\n",
       "      <td>scina</td>\n",
       "      <td>0.792793</td>\n",
       "      <td>0.851441</td>\n",
       "      <td>0.247423</td>\n",
       "      <td>0.000000</td>\n",
       "      <td>0.0</td>\n",
       "      <td>0.000000</td>\n",
       "    </tr>\n",
       "    <tr>\n",
       "      <th>6</th>\n",
       "      <td>splat_0.7_de_rq</td>\n",
       "      <td>singler</td>\n",
       "      <td>0.840841</td>\n",
       "      <td>0.886918</td>\n",
       "      <td>0.412371</td>\n",
       "      <td>0.000000</td>\n",
       "      <td>0.0</td>\n",
       "      <td>0.000000</td>\n",
       "    </tr>\n",
       "    <tr>\n",
       "      <th>7</th>\n",
       "      <td>splat_0.7_de_rq</td>\n",
       "      <td>scpred</td>\n",
       "      <td>0.602603</td>\n",
       "      <td>0.644124</td>\n",
       "      <td>0.216495</td>\n",
       "      <td>0.000000</td>\n",
       "      <td>0.0</td>\n",
       "      <td>0.000000</td>\n",
       "    </tr>\n",
       "  </tbody>\n",
       "</table>\n",
       "</div>"
      ],
      "text/plain": [
       "         data_name            method  total_accuracy  train_accuracy  \\\n",
       "0  splat_0.7_de_rq               GCN        0.964565        0.972284   \n",
       "1  splat_0.7_de_rq          Max Col.        0.930931        0.972284   \n",
       "2  splat_0.7_de_rq  Confident Labels             NaN        0.972284   \n",
       "3  splat_0.7_de_rq            sctype        0.813814        0.850333   \n",
       "4  splat_0.7_de_rq          scsorter        0.826827        0.871397   \n",
       "5  splat_0.7_de_rq             scina        0.792793        0.851441   \n",
       "6  splat_0.7_de_rq           singler        0.840841        0.886918   \n",
       "7  splat_0.7_de_rq            scpred        0.602603        0.644124   \n",
       "\n",
       "   test_accuracy  total_sd  train_sd   test_sd  \n",
       "0       0.892783  0.001951       0.0  0.020096  \n",
       "1       0.546392  0.000000       0.0  0.000000  \n",
       "2            NaN  0.000000       0.0  0.000000  \n",
       "3       0.474227  0.000000       0.0  0.000000  \n",
       "4       0.412371  0.000000       0.0  0.000000  \n",
       "5       0.247423  0.000000       0.0  0.000000  \n",
       "6       0.412371  0.000000       0.0  0.000000  \n",
       "7       0.216495  0.000000       0.0  0.000000  "
      ]
     },
     "execution_count": 24,
     "metadata": {},
     "output_type": "execute_result"
    }
   ],
   "source": [
    "# results from no feed forward or gcn labels\n",
    "results"
   ]
  },
  {
   "cell_type": "code",
   "execution_count": 63,
   "metadata": {},
   "outputs": [
    {
     "data": {
      "text/html": [
       "<div>\n",
       "<style scoped>\n",
       "    .dataframe tbody tr th:only-of-type {\n",
       "        vertical-align: middle;\n",
       "    }\n",
       "\n",
       "    .dataframe tbody tr th {\n",
       "        vertical-align: top;\n",
       "    }\n",
       "\n",
       "    .dataframe thead th {\n",
       "        text-align: right;\n",
       "    }\n",
       "</style>\n",
       "<table border=\"1\" class=\"dataframe\">\n",
       "  <thead>\n",
       "    <tr style=\"text-align: right;\">\n",
       "      <th></th>\n",
       "      <th>data_name</th>\n",
       "      <th>method</th>\n",
       "      <th>total_accuracy</th>\n",
       "      <th>train_accuracy</th>\n",
       "      <th>test_accuracy</th>\n",
       "      <th>total_sd</th>\n",
       "      <th>train_sd</th>\n",
       "      <th>test_sd</th>\n",
       "    </tr>\n",
       "  </thead>\n",
       "  <tbody>\n",
       "    <tr>\n",
       "      <th>0</th>\n",
       "      <td>splat_0.6_de_rq</td>\n",
       "      <td>GCN</td>\n",
       "      <td>0.839200</td>\n",
       "      <td>0.944708</td>\n",
       "      <td>0.657221</td>\n",
       "      <td>0.021076</td>\n",
       "      <td>0.0</td>\n",
       "      <td>0.057428</td>\n",
       "    </tr>\n",
       "    <tr>\n",
       "      <th>1</th>\n",
       "      <td>splat_0.6_de_rq</td>\n",
       "      <td>Max Col.</td>\n",
       "      <td>0.798000</td>\n",
       "      <td>0.944708</td>\n",
       "      <td>0.544959</td>\n",
       "      <td>0.000000</td>\n",
       "      <td>0.0</td>\n",
       "      <td>0.000000</td>\n",
       "    </tr>\n",
       "    <tr>\n",
       "      <th>2</th>\n",
       "      <td>splat_0.6_de_rq</td>\n",
       "      <td>Confident Labels</td>\n",
       "      <td>NaN</td>\n",
       "      <td>0.944708</td>\n",
       "      <td>NaN</td>\n",
       "      <td>0.000000</td>\n",
       "      <td>0.0</td>\n",
       "      <td>0.000000</td>\n",
       "    </tr>\n",
       "    <tr>\n",
       "      <th>3</th>\n",
       "      <td>splat_0.6_de_rq</td>\n",
       "      <td>sctype</td>\n",
       "      <td>0.232000</td>\n",
       "      <td>0.235387</td>\n",
       "      <td>0.226158</td>\n",
       "      <td>0.000000</td>\n",
       "      <td>0.0</td>\n",
       "      <td>0.000000</td>\n",
       "    </tr>\n",
       "    <tr>\n",
       "      <th>4</th>\n",
       "      <td>splat_0.6_de_rq</td>\n",
       "      <td>scsorter</td>\n",
       "      <td>0.677000</td>\n",
       "      <td>0.846761</td>\n",
       "      <td>0.384196</td>\n",
       "      <td>0.000000</td>\n",
       "      <td>0.0</td>\n",
       "      <td>0.000000</td>\n",
       "    </tr>\n",
       "    <tr>\n",
       "      <th>5</th>\n",
       "      <td>splat_0.6_de_rq</td>\n",
       "      <td>scina</td>\n",
       "      <td>0.467000</td>\n",
       "      <td>0.668246</td>\n",
       "      <td>0.119891</td>\n",
       "      <td>0.000000</td>\n",
       "      <td>0.0</td>\n",
       "      <td>0.000000</td>\n",
       "    </tr>\n",
       "    <tr>\n",
       "      <th>6</th>\n",
       "      <td>splat_0.6_de_rq</td>\n",
       "      <td>singler</td>\n",
       "      <td>0.840000</td>\n",
       "      <td>0.913112</td>\n",
       "      <td>0.713896</td>\n",
       "      <td>0.000000</td>\n",
       "      <td>0.0</td>\n",
       "      <td>0.000000</td>\n",
       "    </tr>\n",
       "    <tr>\n",
       "      <th>7</th>\n",
       "      <td>splat_0.6_de_rq</td>\n",
       "      <td>scpred</td>\n",
       "      <td>0.503000</td>\n",
       "      <td>0.663507</td>\n",
       "      <td>0.226158</td>\n",
       "      <td>0.000000</td>\n",
       "      <td>0.0</td>\n",
       "      <td>0.000000</td>\n",
       "    </tr>\n",
       "    <tr>\n",
       "      <th>0</th>\n",
       "      <td>splat_0.7_de_rq</td>\n",
       "      <td>GCN</td>\n",
       "      <td>0.963764</td>\n",
       "      <td>0.980704</td>\n",
       "      <td>0.837288</td>\n",
       "      <td>0.004386</td>\n",
       "      <td>0.0</td>\n",
       "      <td>0.037134</td>\n",
       "    </tr>\n",
       "    <tr>\n",
       "      <th>1</th>\n",
       "      <td>splat_0.7_de_rq</td>\n",
       "      <td>Max Col.</td>\n",
       "      <td>0.938939</td>\n",
       "      <td>0.980704</td>\n",
       "      <td>0.627119</td>\n",
       "      <td>0.000000</td>\n",
       "      <td>0.0</td>\n",
       "      <td>0.000000</td>\n",
       "    </tr>\n",
       "    <tr>\n",
       "      <th>2</th>\n",
       "      <td>splat_0.7_de_rq</td>\n",
       "      <td>Confident Labels</td>\n",
       "      <td>NaN</td>\n",
       "      <td>0.980704</td>\n",
       "      <td>NaN</td>\n",
       "      <td>0.000000</td>\n",
       "      <td>0.0</td>\n",
       "      <td>0.000000</td>\n",
       "    </tr>\n",
       "    <tr>\n",
       "      <th>3</th>\n",
       "      <td>splat_0.7_de_rq</td>\n",
       "      <td>sctype</td>\n",
       "      <td>0.411411</td>\n",
       "      <td>0.417707</td>\n",
       "      <td>0.364407</td>\n",
       "      <td>0.000000</td>\n",
       "      <td>0.0</td>\n",
       "      <td>0.000000</td>\n",
       "    </tr>\n",
       "    <tr>\n",
       "      <th>4</th>\n",
       "      <td>splat_0.7_de_rq</td>\n",
       "      <td>scsorter</td>\n",
       "      <td>0.826827</td>\n",
       "      <td>0.879682</td>\n",
       "      <td>0.432203</td>\n",
       "      <td>0.000000</td>\n",
       "      <td>0.0</td>\n",
       "      <td>0.000000</td>\n",
       "    </tr>\n",
       "    <tr>\n",
       "      <th>5</th>\n",
       "      <td>splat_0.7_de_rq</td>\n",
       "      <td>scina</td>\n",
       "      <td>0.792793</td>\n",
       "      <td>0.872872</td>\n",
       "      <td>0.194915</td>\n",
       "      <td>0.000000</td>\n",
       "      <td>0.0</td>\n",
       "      <td>0.000000</td>\n",
       "    </tr>\n",
       "    <tr>\n",
       "      <th>6</th>\n",
       "      <td>splat_0.7_de_rq</td>\n",
       "      <td>singler</td>\n",
       "      <td>0.840841</td>\n",
       "      <td>0.874007</td>\n",
       "      <td>0.593220</td>\n",
       "      <td>0.000000</td>\n",
       "      <td>0.0</td>\n",
       "      <td>0.000000</td>\n",
       "    </tr>\n",
       "    <tr>\n",
       "      <th>7</th>\n",
       "      <td>splat_0.7_de_rq</td>\n",
       "      <td>scpred</td>\n",
       "      <td>0.638639</td>\n",
       "      <td>0.700341</td>\n",
       "      <td>0.177966</td>\n",
       "      <td>0.000000</td>\n",
       "      <td>0.0</td>\n",
       "      <td>0.000000</td>\n",
       "    </tr>\n",
       "    <tr>\n",
       "      <th>0</th>\n",
       "      <td>splat_0.8_de_rq</td>\n",
       "      <td>GCN</td>\n",
       "      <td>0.987387</td>\n",
       "      <td>0.990702</td>\n",
       "      <td>0.883871</td>\n",
       "      <td>0.000548</td>\n",
       "      <td>0.0</td>\n",
       "      <td>0.017668</td>\n",
       "    </tr>\n",
       "    <tr>\n",
       "      <th>1</th>\n",
       "      <td>splat_0.8_de_rq</td>\n",
       "      <td>Max Col.</td>\n",
       "      <td>0.973974</td>\n",
       "      <td>0.990702</td>\n",
       "      <td>0.451613</td>\n",
       "      <td>0.000000</td>\n",
       "      <td>0.0</td>\n",
       "      <td>0.000000</td>\n",
       "    </tr>\n",
       "    <tr>\n",
       "      <th>2</th>\n",
       "      <td>splat_0.8_de_rq</td>\n",
       "      <td>Confident Labels</td>\n",
       "      <td>NaN</td>\n",
       "      <td>0.990702</td>\n",
       "      <td>NaN</td>\n",
       "      <td>0.000000</td>\n",
       "      <td>0.0</td>\n",
       "      <td>0.000000</td>\n",
       "    </tr>\n",
       "    <tr>\n",
       "      <th>3</th>\n",
       "      <td>splat_0.8_de_rq</td>\n",
       "      <td>sctype</td>\n",
       "      <td>0.922923</td>\n",
       "      <td>0.934917</td>\n",
       "      <td>0.548387</td>\n",
       "      <td>0.000000</td>\n",
       "      <td>0.0</td>\n",
       "      <td>0.000000</td>\n",
       "    </tr>\n",
       "    <tr>\n",
       "      <th>4</th>\n",
       "      <td>splat_0.8_de_rq</td>\n",
       "      <td>scsorter</td>\n",
       "      <td>0.906907</td>\n",
       "      <td>0.923554</td>\n",
       "      <td>0.387097</td>\n",
       "      <td>0.000000</td>\n",
       "      <td>0.0</td>\n",
       "      <td>0.000000</td>\n",
       "    </tr>\n",
       "    <tr>\n",
       "      <th>5</th>\n",
       "      <td>splat_0.8_de_rq</td>\n",
       "      <td>scina</td>\n",
       "      <td>0.854855</td>\n",
       "      <td>0.880165</td>\n",
       "      <td>0.064516</td>\n",
       "      <td>0.000000</td>\n",
       "      <td>0.0</td>\n",
       "      <td>0.000000</td>\n",
       "    </tr>\n",
       "    <tr>\n",
       "      <th>6</th>\n",
       "      <td>splat_0.8_de_rq</td>\n",
       "      <td>singler</td>\n",
       "      <td>0.870871</td>\n",
       "      <td>0.887397</td>\n",
       "      <td>0.354839</td>\n",
       "      <td>0.000000</td>\n",
       "      <td>0.0</td>\n",
       "      <td>0.000000</td>\n",
       "    </tr>\n",
       "    <tr>\n",
       "      <th>7</th>\n",
       "      <td>splat_0.8_de_rq</td>\n",
       "      <td>scpred</td>\n",
       "      <td>0.769770</td>\n",
       "      <td>0.786157</td>\n",
       "      <td>0.258065</td>\n",
       "      <td>0.000000</td>\n",
       "      <td>0.0</td>\n",
       "      <td>0.000000</td>\n",
       "    </tr>\n",
       "  </tbody>\n",
       "</table>\n",
       "</div>"
      ],
      "text/plain": [
       "         data_name            method  total_accuracy  train_accuracy  \\\n",
       "0  splat_0.6_de_rq               GCN        0.839200        0.944708   \n",
       "1  splat_0.6_de_rq          Max Col.        0.798000        0.944708   \n",
       "2  splat_0.6_de_rq  Confident Labels             NaN        0.944708   \n",
       "3  splat_0.6_de_rq            sctype        0.232000        0.235387   \n",
       "4  splat_0.6_de_rq          scsorter        0.677000        0.846761   \n",
       "5  splat_0.6_de_rq             scina        0.467000        0.668246   \n",
       "6  splat_0.6_de_rq           singler        0.840000        0.913112   \n",
       "7  splat_0.6_de_rq            scpred        0.503000        0.663507   \n",
       "0  splat_0.7_de_rq               GCN        0.963764        0.980704   \n",
       "1  splat_0.7_de_rq          Max Col.        0.938939        0.980704   \n",
       "2  splat_0.7_de_rq  Confident Labels             NaN        0.980704   \n",
       "3  splat_0.7_de_rq            sctype        0.411411        0.417707   \n",
       "4  splat_0.7_de_rq          scsorter        0.826827        0.879682   \n",
       "5  splat_0.7_de_rq             scina        0.792793        0.872872   \n",
       "6  splat_0.7_de_rq           singler        0.840841        0.874007   \n",
       "7  splat_0.7_de_rq            scpred        0.638639        0.700341   \n",
       "0  splat_0.8_de_rq               GCN        0.987387        0.990702   \n",
       "1  splat_0.8_de_rq          Max Col.        0.973974        0.990702   \n",
       "2  splat_0.8_de_rq  Confident Labels             NaN        0.990702   \n",
       "3  splat_0.8_de_rq            sctype        0.922923        0.934917   \n",
       "4  splat_0.8_de_rq          scsorter        0.906907        0.923554   \n",
       "5  splat_0.8_de_rq             scina        0.854855        0.880165   \n",
       "6  splat_0.8_de_rq           singler        0.870871        0.887397   \n",
       "7  splat_0.8_de_rq            scpred        0.769770        0.786157   \n",
       "\n",
       "   test_accuracy  total_sd  train_sd   test_sd  \n",
       "0       0.657221  0.021076       0.0  0.057428  \n",
       "1       0.544959  0.000000       0.0  0.000000  \n",
       "2            NaN  0.000000       0.0  0.000000  \n",
       "3       0.226158  0.000000       0.0  0.000000  \n",
       "4       0.384196  0.000000       0.0  0.000000  \n",
       "5       0.119891  0.000000       0.0  0.000000  \n",
       "6       0.713896  0.000000       0.0  0.000000  \n",
       "7       0.226158  0.000000       0.0  0.000000  \n",
       "0       0.837288  0.004386       0.0  0.037134  \n",
       "1       0.627119  0.000000       0.0  0.000000  \n",
       "2            NaN  0.000000       0.0  0.000000  \n",
       "3       0.364407  0.000000       0.0  0.000000  \n",
       "4       0.432203  0.000000       0.0  0.000000  \n",
       "5       0.194915  0.000000       0.0  0.000000  \n",
       "6       0.593220  0.000000       0.0  0.000000  \n",
       "7       0.177966  0.000000       0.0  0.000000  \n",
       "0       0.883871  0.000548       0.0  0.017668  \n",
       "1       0.451613  0.000000       0.0  0.000000  \n",
       "2            NaN  0.000000       0.0  0.000000  \n",
       "3       0.548387  0.000000       0.0  0.000000  \n",
       "4       0.387097  0.000000       0.0  0.000000  \n",
       "5       0.064516  0.000000       0.0  0.000000  \n",
       "6       0.354839  0.000000       0.0  0.000000  \n",
       "7       0.258065  0.000000       0.0  0.000000  "
      ]
     },
     "execution_count": 63,
     "metadata": {},
     "output_type": "execute_result"
    }
   ],
   "source": [
    "results"
   ]
  },
  {
   "cell_type": "code",
   "execution_count": 66,
   "metadata": {},
   "outputs": [
    {
     "name": "stdout",
     "output_type": "stream",
     "text": [
      "(999, 500)\n",
      "97\n"
     ]
    }
   ],
   "source": [
    "# get labels\n",
    "data_folder = \"simulations/splat_0.7_de_rq/\"\n",
    "data_path = data_folder + \"query_counts.csv\"\n",
    "tools = [\"sctype\",\"scsorter\",\"scina\",\"singler\", \"scpred\"]\n",
    "#tools = [\"scsorter\",\"scina\",\"singler\"]\n",
    "ref_path = data_folder + \"ref_counts.csv\"\n",
    "ref_label_path = data_folder + \"ref_labels.csv\"\n",
    "marker_path = data_folder + \"markers.txt\"\n",
    "if os.path.exists(data_folder + \"preds.csv\"):\n",
    "    all_labels = pd.read_csv(data_folder + \"preds.csv\", index_col=0)\n",
    "    if all_labels.shape[1] != len(tools): \n",
    "        all_labels = all_labels[tools]\n",
    "        #raise Exception(\"wrong amount of tools in file\")\n",
    "else:\n",
    "    all_labels = utilities.label_counts(data_path,tools,ref_path,ref_label_path,marker_path)\n",
    "\n",
    "X = pd.read_csv(data_path, index_col=0)\n",
    "X, keep_cells = utilities.preprocess(np.array(X), scale=False)\n",
    "print(X.shape)\n",
    "\n",
    "_,marker_names = utilities.read_marker_file(marker_path)\n",
    "\n",
    "all_labels = all_labels.loc[keep_cells,:]\n",
    "all_labels_factored = utilities.factorize_df(all_labels, marker_names)\n",
    "encoded_labels = utilities.encode_predictions(all_labels_factored)\n",
    "confident_labels = utilities.get_consensus_labels(encoded_labels, necessary_vote = 3)\n",
    "train_nodes = np.where(confident_labels != -1)[0]\n",
    "original_test_nodes = np.where(confident_labels == -1)[0]\n",
    "\n",
    "meta_path = data_folder + \"query_meta.csv\"\n",
    "metadata = pd.read_csv(meta_path, index_col=0)\n",
    "real_y = pd.factorize(metadata['Group'], sort=True)[0]\n",
    "real_y = real_y[keep_cells]\n",
    "real_y.shape\n",
    "\n",
    "dataset  = torch.utils.data.TensorDataset(torch.tensor(X), torch.tensor(confident_labels))\n",
    "dataloader = torch.utils.data.DataLoader(dataset, batch_size=20, shuffle=True)\n",
    "\n",
    "test_dataset  = torch.utils.data.TensorDataset(torch.tensor(X), torch.tensor(real_y))\n",
    "test_dataloader = torch.utils.data.DataLoader(test_dataset, batch_size=20, shuffle=False)\n",
    "\n",
    "print(len(original_test_nodes))"
   ]
  },
  {
   "cell_type": "code",
   "execution_count": 67,
   "metadata": {},
   "outputs": [
    {
     "name": "stdout",
     "output_type": "stream",
     "text": [
      "Loss in epoch 0 = 60.686684\n",
      "Loss in epoch 10 = 0.114549\n",
      "Loss in epoch 20 = 0.023500\n",
      "Loss in epoch 30 = 0.010405\n",
      "Loss in epoch 40 = 0.005857\n",
      "Loss in epoch 50 = 0.003666\n",
      "Loss in epoch 60 = 0.002030\n",
      "Loss in epoch 70 = 0.001588\n",
      "Loss in epoch 80 = 0.001203\n",
      "Loss in epoch 90 = 0.000762\n",
      "Loss in epoch 100 = 0.000438\n",
      "Loss in epoch 110 = 0.000338\n",
      "Loss in epoch 120 = 0.000305\n",
      "Loss in epoch 130 = 0.000162\n",
      "Loss in epoch 140 = 0.000123\n"
     ]
    },
    {
     "data": {
      "text/plain": [
       "(0.9619619846343994,\n",
       " array([[215,   9,   2,   6],\n",
       "        [  0, 265,   2,   1],\n",
       "        [  0,   2, 228,   4],\n",
       "        [  1,   4,   7, 253]]),\n",
       " 0.9722838401794434,\n",
       " array([[172,   7,   2,   1],\n",
       "        [  0, 264,   2,   1],\n",
       "        [  0,   2, 206,   1],\n",
       "        [  0,   3,   6, 235]]),\n",
       " 0.8659793734550476,\n",
       " array([[43,  2,  0,  5],\n",
       "        [ 0,  1,  0,  0],\n",
       "        [ 0,  0, 22,  3],\n",
       "        [ 1,  1,  1, 18]]))"
      ]
     },
     "execution_count": 67,
     "metadata": {},
     "output_type": "execute_result"
    }
   ],
   "source": [
    "m = GCNModel(\"configs/2_15.txt\", 2, dropout=0.0)\n",
    "m.train(dataloader, 150)\n",
    "m.validation_metrics(test_dataloader, train_nodes, original_test_nodes)"
   ]
  },
  {
   "cell_type": "code",
   "execution_count": 68,
   "metadata": {},
   "outputs": [],
   "source": [
    "new_labels, _ = m.predict(test_dataloader)\n",
    "new_labels = new_labels.max(dim=1)[1]"
   ]
  },
  {
   "cell_type": "code",
   "execution_count": 69,
   "metadata": {},
   "outputs": [
    {
     "name": "stdout",
     "output_type": "stream",
     "text": [
      "1\n",
      "27\n",
      "Loss in epoch 0 = 10.116533\n",
      "Loss in epoch 10 = 0.040961\n",
      "Loss in epoch 20 = 0.010100\n",
      "(0.9609609842300415, array([[211,  10,   4,   7],\n",
      "       [  0, 265,   2,   1],\n",
      "       [  0,   2, 230,   2],\n",
      "       [  2,   3,   6, 254]]), 0.9681069850921631, array([[202,   9,   2,   3],\n",
      "       [  0, 265,   2,   1],\n",
      "       [  0,   2, 225,   2],\n",
      "       [  1,   3,   6, 249]]), 0.7037037014961243, array([[9, 1, 2, 4],\n",
      "       [0, 0, 0, 0],\n",
      "       [0, 0, 5, 0],\n",
      "       [1, 0, 0, 5]]))\n",
      "2\n",
      "5\n",
      "Loss in epoch 0 = 0.333755\n",
      "Loss in epoch 10 = 0.004290\n",
      "Loss in epoch 20 = 0.003589\n",
      "(0.9609609842300415, array([[211,  10,   4,   7],\n",
      "       [  0, 265,   2,   1],\n",
      "       [  0,   2, 230,   2],\n",
      "       [  2,   3,   6, 254]]), 0.9647887349128723, array([[211,   9,   3,   6],\n",
      "       [  0, 265,   2,   1],\n",
      "       [  0,   2, 229,   2],\n",
      "       [  1,   3,   6, 254]]), 0.20000000298023224, array([[0, 1, 1, 1],\n",
      "       [0, 0, 0, 0],\n",
      "       [0, 0, 1, 0],\n",
      "       [1, 0, 0, 0]]))\n"
     ]
    }
   ],
   "source": [
    "\n",
    "for i in range(1,3):\n",
    "    print(i)\n",
    "    col_name = \"gcn\" + str(i)\n",
    "    all_labels_factored[col_name] = new_labels\n",
    "    encoded_labels = utilities.encode_predictions(all_labels_factored)\n",
    "    confident_labels = utilities.get_consensus_labels(encoded_labels, necessary_vote = 3)\n",
    "    train_nodes = np.where(confident_labels != -1)[0]\n",
    "    test_nodes = np.where(confident_labels == -1)[0]\n",
    "\n",
    "    dataset  = torch.utils.data.TensorDataset(torch.tensor(X), torch.tensor(confident_labels))\n",
    "    dataloader = torch.utils.data.DataLoader(dataset, batch_size=20, shuffle=True)\n",
    "\n",
    "    test_dataset  = torch.utils.data.TensorDataset(torch.tensor(X), torch.tensor(real_y))\n",
    "    test_dataloader = torch.utils.data.DataLoader(test_dataset, batch_size=20, shuffle=False)\n",
    "\n",
    "    print(len(test_nodes))\n",
    "\n",
    "    #m = GCNModel(\"configs/2_15.txt\", 2, dropout=0.0)\n",
    "    m.train(dataloader, 25, verbose=True)\n",
    "    print(m.validation_metrics(test_dataloader, train_nodes, test_nodes))\n",
    "\n",
    "    new_labels, _ = m.predict(test_dataloader)\n",
    "    new_labels = new_labels.max(dim=1)[1]\n",
    "    "
   ]
  },
  {
   "cell_type": "code",
   "execution_count": 70,
   "metadata": {},
   "outputs": [
    {
     "data": {
      "text/plain": [
       "(0.9609609842300415,\n",
       " array([[211,  10,   4,   7],\n",
       "        [  0, 265,   2,   1],\n",
       "        [  0,   2, 230,   2],\n",
       "        [  2,   3,   6, 254]]),\n",
       " 0.9647887349128723,\n",
       " array([[211,   9,   3,   6],\n",
       "        [  0, 265,   2,   1],\n",
       "        [  0,   2, 229,   2],\n",
       "        [  1,   3,   6, 254]]),\n",
       " 0.8556700944900513,\n",
       " array([[39,  3,  2,  6],\n",
       "        [ 0,  1,  0,  0],\n",
       "        [ 0,  0, 24,  1],\n",
       "        [ 2,  0,  0, 19]]))"
      ]
     },
     "execution_count": 70,
     "metadata": {},
     "output_type": "execute_result"
    }
   ],
   "source": [
    "m.validation_metrics(test_dataloader, train_nodes, original_test_nodes)"
   ]
  }
 ],
 "metadata": {
  "kernelspec": {
   "display_name": "daniel_thesis",
   "language": "python",
   "name": "daniel_thesis_2"
  },
  "language_info": {
   "codemirror_mode": {
    "name": "ipython",
    "version": 3
   },
   "file_extension": ".py",
   "mimetype": "text/x-python",
   "name": "python",
   "nbconvert_exporter": "python",
   "pygments_lexer": "ipython3",
   "version": "3.9.7"
  },
  "vscode": {
   "interpreter": {
    "hash": "9e461d02738fd757bc3d2933f9434d370f54d79aa7bbf71ca755487c9a10e111"
   }
  }
 },
 "nbformat": 4,
 "nbformat_minor": 2
}
