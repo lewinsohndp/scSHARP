{
 "cells": [
  {
   "cell_type": "code",
   "execution_count": 1,
   "metadata": {},
   "outputs": [
    {
     "name": "stderr",
     "output_type": "stream",
     "text": [
      "/home/users/lewinsda/.conda/envs/daniel_thesis_2/lib/python3.9/site-packages/tqdm/auto.py:22: TqdmWarning: IProgress not found. Please update jupyter and ipywidgets. See https://ipywidgets.readthedocs.io/en/stable/user_install.html\n",
      "  from .autonotebook import tqdm as notebook_tqdm\n"
     ]
    }
   ],
   "source": [
    "import numpy as np\n",
    "import pandas as pd\n",
    "import torch\n",
    "from gcn_model import GCNModel\n",
    "import utilities\n",
    "from test_model import test_model\n",
    "import os"
   ]
  },
  {
   "cell_type": "code",
   "execution_count": 5,
   "metadata": {},
   "outputs": [],
   "source": [
    "data_folder = \"/home/groups/ConradLab/daniel/sharp_sims/splat_0.5_de_rq/\""
   ]
  },
  {
   "cell_type": "code",
   "execution_count": 6,
   "metadata": {},
   "outputs": [
    {
     "data": {
      "text/plain": [
       "True"
      ]
     },
     "execution_count": 6,
     "metadata": {},
     "output_type": "execute_result"
    }
   ],
   "source": [
    "os.path.exists(data_folder + \"preds.csv\")"
   ]
  },
  {
   "cell_type": "code",
   "execution_count": 42,
   "metadata": {},
   "outputs": [],
   "source": [
    "# get labels\n",
    "data_path = data_folder + \"query_counts.csv\"\n",
    "#tools = [\"sctype\",\"scsorter\",\"scina\",\"singler\", \"scpred\"]\n",
    "tools = [\"scsorter\",\"scina\",\"singler\"]\n",
    "ref_path = data_folder + \"ref_counts.csv\"\n",
    "ref_label_path = data_folder + \"ref_labels.csv\"\n",
    "marker_path = data_folder + \"markers.txt\"\n",
    "if os.path.exists(data_folder + \"preds.csv\"):\n",
    "    all_labels = pd.read_csv(data_folder + \"preds.csv\", index_col=0)\n",
    "    if all_labels.shape[1] != len(tools): \n",
    "        all_labels = all_labels[tools]\n",
    "        #raise Exception(\"wrong amount of tools in file\")\n",
    "else:\n",
    "    all_labels = utilities.label_counts(data_path,tools,ref_path,ref_label_path,marker_path)"
   ]
  },
  {
   "cell_type": "code",
   "execution_count": 43,
   "metadata": {},
   "outputs": [
    {
     "data": {
      "text/plain": [
       "3"
      ]
     },
     "execution_count": 43,
     "metadata": {},
     "output_type": "execute_result"
    }
   ],
   "source": [
    "all_labels.shape[1]"
   ]
  },
  {
   "cell_type": "code",
   "execution_count": 44,
   "metadata": {},
   "outputs": [
    {
     "data": {
      "text/html": [
       "<div>\n",
       "<style scoped>\n",
       "    .dataframe tbody tr th:only-of-type {\n",
       "        vertical-align: middle;\n",
       "    }\n",
       "\n",
       "    .dataframe tbody tr th {\n",
       "        vertical-align: top;\n",
       "    }\n",
       "\n",
       "    .dataframe thead th {\n",
       "        text-align: right;\n",
       "    }\n",
       "</style>\n",
       "<table border=\"1\" class=\"dataframe\">\n",
       "  <thead>\n",
       "    <tr style=\"text-align: right;\">\n",
       "      <th></th>\n",
       "      <th>scsorter</th>\n",
       "      <th>scina</th>\n",
       "      <th>singler</th>\n",
       "    </tr>\n",
       "  </thead>\n",
       "  <tbody>\n",
       "    <tr>\n",
       "      <th>Cell1001</th>\n",
       "      <td>Group4</td>\n",
       "      <td>Group2</td>\n",
       "      <td>Group1</td>\n",
       "    </tr>\n",
       "    <tr>\n",
       "      <th>Cell1002</th>\n",
       "      <td>Group4</td>\n",
       "      <td>Group2</td>\n",
       "      <td>Group2</td>\n",
       "    </tr>\n",
       "    <tr>\n",
       "      <th>Cell1003</th>\n",
       "      <td>Group4</td>\n",
       "      <td>Group4</td>\n",
       "      <td>Group4</td>\n",
       "    </tr>\n",
       "    <tr>\n",
       "      <th>Cell1004</th>\n",
       "      <td>Group3</td>\n",
       "      <td>Group3</td>\n",
       "      <td>Group3</td>\n",
       "    </tr>\n",
       "    <tr>\n",
       "      <th>Cell1005</th>\n",
       "      <td>Group4</td>\n",
       "      <td>Group4</td>\n",
       "      <td>Group4</td>\n",
       "    </tr>\n",
       "    <tr>\n",
       "      <th>...</th>\n",
       "      <td>...</td>\n",
       "      <td>...</td>\n",
       "      <td>...</td>\n",
       "    </tr>\n",
       "    <tr>\n",
       "      <th>Cell1996</th>\n",
       "      <td>Group4</td>\n",
       "      <td>Group4</td>\n",
       "      <td>Group4</td>\n",
       "    </tr>\n",
       "    <tr>\n",
       "      <th>Cell1997</th>\n",
       "      <td>Group3</td>\n",
       "      <td>Group3</td>\n",
       "      <td>Group3</td>\n",
       "    </tr>\n",
       "    <tr>\n",
       "      <th>Cell1998</th>\n",
       "      <td>Group1</td>\n",
       "      <td>Group2</td>\n",
       "      <td>Group1</td>\n",
       "    </tr>\n",
       "    <tr>\n",
       "      <th>Cell1999</th>\n",
       "      <td>Group2</td>\n",
       "      <td>Group2</td>\n",
       "      <td>Group2</td>\n",
       "    </tr>\n",
       "    <tr>\n",
       "      <th>Cell2000</th>\n",
       "      <td>Group1</td>\n",
       "      <td>Group2</td>\n",
       "      <td>Group1</td>\n",
       "    </tr>\n",
       "  </tbody>\n",
       "</table>\n",
       "<p>1000 rows × 3 columns</p>\n",
       "</div>"
      ],
      "text/plain": [
       "         scsorter   scina singler\n",
       "Cell1001   Group4  Group2  Group1\n",
       "Cell1002   Group4  Group2  Group2\n",
       "Cell1003   Group4  Group4  Group4\n",
       "Cell1004   Group3  Group3  Group3\n",
       "Cell1005   Group4  Group4  Group4\n",
       "...           ...     ...     ...\n",
       "Cell1996   Group4  Group4  Group4\n",
       "Cell1997   Group3  Group3  Group3\n",
       "Cell1998   Group1  Group2  Group1\n",
       "Cell1999   Group2  Group2  Group2\n",
       "Cell2000   Group1  Group2  Group1\n",
       "\n",
       "[1000 rows x 3 columns]"
      ]
     },
     "execution_count": 44,
     "metadata": {},
     "output_type": "execute_result"
    }
   ],
   "source": [
    "all_labels"
   ]
  },
  {
   "cell_type": "code",
   "execution_count": 10,
   "metadata": {},
   "outputs": [
    {
     "data": {
      "text/plain": [
       "['Group1', 'Group2', 'Group3', 'Group4']"
      ]
     },
     "execution_count": 10,
     "metadata": {},
     "output_type": "execute_result"
    }
   ],
   "source": [
    "_,marker_names = utilities.read_marker_file(marker_path)\n",
    "marker_names"
   ]
  },
  {
   "cell_type": "code",
   "execution_count": 14,
   "metadata": {},
   "outputs": [
    {
     "data": {
      "text/plain": [
       "array(['Group2', 'Group4', 'Group3', nan, 'Group1'], dtype=object)"
      ]
     },
     "execution_count": 14,
     "metadata": {},
     "output_type": "execute_result"
    }
   ],
   "source": [
    "all_labels['scina'].unique()"
   ]
  },
  {
   "cell_type": "code",
   "execution_count": 44,
   "metadata": {},
   "outputs": [
    {
     "data": {
      "text/plain": [
       "Cell1001    Group1\n",
       "Cell1002    Group2\n",
       "Cell1003    Group2\n",
       "Cell1004    Group3\n",
       "Cell1005    Group2\n",
       "             ...  \n",
       "Cell1996    Group2\n",
       "Cell1997    Group1\n",
       "Cell1998    Group3\n",
       "Cell1999    Group1\n",
       "Cell2000    Group2\n",
       "Name: sctype, Length: 1000, dtype: object"
      ]
     },
     "execution_count": 44,
     "metadata": {},
     "output_type": "execute_result"
    }
   ],
   "source": [
    "all_labels['sctype']"
   ]
  },
  {
   "cell_type": "code",
   "execution_count": 45,
   "metadata": {},
   "outputs": [
    {
     "data": {
      "text/plain": [
       "array([[1., 1., 0., 1.],\n",
       "       [0., 2., 0., 1.],\n",
       "       [0., 0., 0., 3.],\n",
       "       ...,\n",
       "       [2., 1., 0., 0.],\n",
       "       [0., 3., 0., 0.],\n",
       "       [2., 1., 0., 0.]])"
      ]
     },
     "execution_count": 45,
     "metadata": {},
     "output_type": "execute_result"
    }
   ],
   "source": [
    "all_labels_factored = utilities.factorize_df(all_labels, marker_names)\n",
    "encoded_labels = utilities.encode_predictions(all_labels_factored)\n",
    "encoded_labels"
   ]
  },
  {
   "cell_type": "code",
   "execution_count": 12,
   "metadata": {},
   "outputs": [
    {
     "data": {
      "text/plain": [
       "(1000, 500)"
      ]
     },
     "execution_count": 12,
     "metadata": {},
     "output_type": "execute_result"
    }
   ],
   "source": [
    "# read in dataset\n",
    "X = pd.read_csv(data_path, index_col=0)\n",
    "X = utilities.preprocess(np.array(X), scale=False)\n",
    "X.shape"
   ]
  },
  {
   "cell_type": "code",
   "execution_count": 13,
   "metadata": {},
   "outputs": [
    {
     "data": {
      "text/plain": [
       "(1000,)"
      ]
     },
     "execution_count": 13,
     "metadata": {},
     "output_type": "execute_result"
    }
   ],
   "source": [
    "meta_path = data_folder + \"query_meta.csv\"\n",
    "metadata = pd.read_csv(meta_path, index_col=0)\n",
    "real_y = pd.factorize(metadata['Group'], sort=True)[0]\n",
    "real_y.shape"
   ]
  },
  {
   "cell_type": "code",
   "execution_count": 47,
   "metadata": {},
   "outputs": [
    {
     "name": "stdout",
     "output_type": "stream",
     "text": [
      "0.656000018119812\n",
      "0.8069999814033508\n",
      "0.8730000257492065\n"
     ]
    }
   ],
   "source": [
    "print(utilities.pred_accuracy(all_labels_factored['scina'], real_y))\n",
    "#print(utilities.pred_accuracy(all_labels_factored['sctype'], real_y))\n",
    "print(utilities.pred_accuracy(all_labels_factored['scsorter'], real_y))\n",
    "print(utilities.pred_accuracy(all_labels_factored['singler'], real_y))\n",
    "#print(utilities.pred_accuracy(all_labels_factored['scpred'], real_y))\n"
   ]
  },
  {
   "cell_type": "code",
   "execution_count": 48,
   "metadata": {},
   "outputs": [
    {
     "name": "stderr",
     "output_type": "stream",
     "text": [
      "/home/users/lewinsda/scSHARP/utilities.py:171: UserWarning: To copy construct from a tensor, it is recommended to use sourceTensor.clone().detach() or sourceTensor.clone().detach().requires_grad_(True), rather than torch.tensor(sourceTensor).\n",
      "  return float((torch.tensor(preds) == torch.tensor(real)).type(torch.FloatTensor).mean().numpy())\n"
     ]
    },
    {
     "data": {
      "text/plain": [
       "0.8870000243186951"
      ]
     },
     "execution_count": 48,
     "metadata": {},
     "output_type": "execute_result"
    }
   ],
   "source": [
    "max_pred = torch.tensor(encoded_labels).max(dim=1)[1]\n",
    "utilities.pred_accuracy(max_pred, real_y)"
   ]
  },
  {
   "cell_type": "code",
   "execution_count": 50,
   "metadata": {},
   "outputs": [
    {
     "data": {
      "text/plain": [
       "array([-1.,  1.,  3.,  2.,  3.,  0.,  2.,  1.,  1.,  0.,  1.,  3.,  1.,\n",
       "        1.,  1.,  1.,  0.,  0.,  1.,  3.,  0.,  2.,  1.,  0.,  1.,  3.,\n",
       "        2., -1.,  0.,  0.,  3., -1.,  1., -1.,  3.,  1.,  1.,  3.,  1.,\n",
       "        3.,  0.,  1.,  3.,  3.,  3.,  1., -1.,  2.,  3.,  1.,  3.,  1.,\n",
       "        2.,  2.,  3.,  3.,  3.,  2.,  1., -1.,  3.,  0.,  0., -1.,  0.,\n",
       "        2.,  1.,  2.,  0.,  0.,  1.,  1.,  3.,  2.,  0.,  2.,  2.,  2.,\n",
       "        0.,  1.,  3.,  1.,  3.,  3.,  2., -1.,  3.,  2.,  3.,  3.,  1.,\n",
       "        0.,  0.,  1.,  1.,  3.,  0.,  0.,  1.,  2.,  1.,  2., -1.,  2.,\n",
       "        1.,  0.,  3.,  3.,  2., -1.,  2.,  1.,  2.,  3.,  1.,  0.,  1.,\n",
       "        0.,  2.,  3.,  1.,  2.,  0.,  0.,  3.,  1.,  1.,  0.,  2.,  3.,\n",
       "       -1.,  1.,  3.,  2.,  0.,  3.,  1., -1.,  0.,  1.,  1.,  3.,  1.,\n",
       "        3.,  1.,  1.,  3.,  0.,  2.,  1.,  1.,  0.,  2.,  0.,  3.,  3.,\n",
       "       -1.,  2.,  1.,  2.,  3.,  2.,  1.,  0.,  3.,  3.,  0.,  3.,  1.,\n",
       "        3.,  2.,  1.,  2., -1.,  0.,  3.,  1.,  0.,  2.,  0., -1.,  3.,\n",
       "        3.,  0., -1.,  1.,  3.,  2.,  1.,  3.,  3., -1., -1.,  0.,  3.,\n",
       "        3.,  2.,  3.,  3.,  3.,  0.,  3.,  3.,  0.,  3.,  0., -1.,  1.,\n",
       "        1.,  3.,  2.,  1.,  2.,  0.,  0.,  1.,  0.,  1.,  0.,  0., -1.,\n",
       "        3.,  0.,  3.,  2.,  3.,  2., -1.,  0.,  1.,  1.,  3.,  3.,  0.,\n",
       "        2.,  3.,  0.,  0.,  3.,  0.,  0.,  3.,  0.,  2.,  0., -1.,  0.,\n",
       "        3.,  0.,  2.,  2.,  1.,  3.,  2., -1., -1.,  3.,  1.,  0.,  3.,\n",
       "        3.,  2.,  1.,  2.,  3.,  2.,  2.,  0.,  3.,  3.,  2.,  3.,  0.,\n",
       "       -1.,  3.,  3.,  3.,  0.,  0., -1.,  3.,  1.,  1.,  3.,  1.,  3.,\n",
       "        1., -1.,  0.,  3.,  0.,  3.,  1.,  3.,  0.,  2.,  2.,  1.,  1.,\n",
       "        0.,  1.,  0.,  1.,  3.,  3.,  1.,  0.,  1.,  3.,  0., -1.,  3.,\n",
       "        3., -1.,  3.,  0.,  3.,  0.,  2.,  0.,  3.,  2.,  2.,  2.,  2.,\n",
       "        0.,  3.,  3.,  2.,  3.,  1.,  0.,  1.,  0., -1.,  3.,  3.,  2.,\n",
       "        1.,  2.,  0.,  3., -1.,  3.,  1.,  3.,  1.,  3.,  1., -1.,  1.,\n",
       "        3.,  2.,  3.,  3.,  0.,  2.,  2.,  0.,  0.,  3.,  3.,  2.,  1.,\n",
       "        2.,  0.,  0.,  0.,  2.,  0.,  3.,  1.,  1.,  0.,  1.,  3.,  0.,\n",
       "        2.,  2.,  0.,  1.,  0.,  1.,  3.,  3.,  0., -1.,  2.,  3.,  3.,\n",
       "        0.,  3.,  3.,  1.,  0.,  3.,  3.,  0.,  1.,  1.,  0., -1.,  2.,\n",
       "       -1.,  1.,  2.,  3.,  3.,  1.,  2.,  2.,  0.,  2., -1.,  0.,  0.,\n",
       "        0.,  3.,  3.,  3.,  3.,  2.,  2.,  3.,  3.,  3.,  3.,  1.,  1.,\n",
       "        0.,  0.,  3.,  2.,  2., -1.,  2.,  3.,  1.,  3.,  1.,  3.,  0.,\n",
       "        2., -1.,  1.,  2.,  0.,  2.,  1.,  0.,  0.,  2.,  0.,  3.,  3.,\n",
       "        2.,  3.,  3.,  3.,  2.,  1.,  1.,  3.,  2., -1., -1.,  2.,  1.,\n",
       "        2.,  3.,  0.,  0.,  0.,  1.,  0.,  3.,  0.,  2.,  0., -1.,  1.,\n",
       "        0.,  0.,  1.,  2.,  3.,  3.,  1.,  0.,  2.,  2.,  2.,  0.,  3.,\n",
       "        2., -1.,  1.,  2.,  0.,  1.,  0.,  1.,  3.,  1.,  2.,  3.,  0.,\n",
       "        0.,  1.,  1.,  1.,  3.,  2., -1.,  0.,  3.,  1.,  1.,  1.,  3.,\n",
       "        2.,  2.,  1.,  3.,  3.,  1.,  0.,  3.,  1.,  3.,  3., -1.,  1.,\n",
       "        2.,  0.,  3.,  1.,  1.,  3.,  0.,  2.,  1.,  0.,  2.,  1.,  2.,\n",
       "       -1.,  1.,  3.,  1.,  0.,  1.,  0.,  0.,  2.,  2.,  0.,  2.,  1.,\n",
       "        2.,  0.,  2.,  3.,  3., -1.,  3.,  3.,  1.,  3.,  1.,  1.,  0.,\n",
       "        0.,  2.,  2.,  0.,  1.,  1.,  3.,  3.,  3., -1.,  3.,  1.,  0.,\n",
       "        3.,  2.,  2.,  2.,  0.,  3., -1.,  1.,  2.,  3.,  3.,  1.,  1.,\n",
       "       -1.,  1.,  3.,  0.,  3.,  2.,  1.,  2.,  3.,  0.,  0.,  1.,  0.,\n",
       "        2.,  0.,  3.,  3.,  3.,  0.,  3.,  2.,  3.,  3.,  2.,  3., -1.,\n",
       "        2.,  0.,  1.,  3.,  2.,  0.,  0.,  3.,  3.,  2., -1.,  1.,  3.,\n",
       "        1.,  2.,  3., -1.,  1.,  2.,  3.,  1.,  1.,  3.,  3.,  3.,  3.,\n",
       "        2.,  0.,  0.,  3.,  1.,  0.,  3.,  0., -1.,  3.,  2.,  3.,  0.,\n",
       "        1.,  3.,  0.,  2.,  0.,  0.,  1., -1.,  3.,  2.,  2.,  0.,  3.,\n",
       "        3.,  2.,  3.,  1.,  2.,  1.,  2.,  2.,  0.,  1.,  0.,  1., -1.,\n",
       "       -1.,  1.,  3.,  2.,  0.,  3., -1.,  0.,  3.,  0.,  0.,  1.,  2.,\n",
       "        1.,  0.,  3., -1.,  1.,  1.,  3.,  0.,  3.,  2.,  1.,  2.,  3.,\n",
       "        2.,  1.,  0.,  1.,  1.,  1.,  2.,  1.,  3.,  0.,  3.,  2.,  3.,\n",
       "        1., -1.,  3., -1.,  2.,  3.,  0.,  2.,  2.,  2.,  0.,  0.,  0.,\n",
       "        2.,  0.,  1.,  1.,  1.,  2.,  1.,  2.,  2.,  0.,  2.,  2.,  0.,\n",
       "        3.,  3.,  1.,  0.,  2.,  1., -1., -1.,  1., -1.,  3.,  3.,  3.,\n",
       "        2.,  3.,  1.,  3.,  1.,  0.,  0.,  2.,  3.,  1.,  0.,  1.,  1.,\n",
       "        3.,  3.,  0.,  3., -1.,  1.,  1.,  1.,  0.,  1.,  0.,  2.,  1.,\n",
       "        0.,  1.,  2.,  0.,  2.,  2.,  3.,  0.,  1.,  2.,  3.,  1.,  3.,\n",
       "        0.,  2.,  2.,  2.,  0.,  1.,  1.,  0.,  0.,  2.,  3.,  0., -1.,\n",
       "        1.,  3., -1.,  2.,  0.,  0.,  1.,  2.,  1.,  1.,  1., -1.,  1.,\n",
       "        2., -1.,  0.,  3., -1.,  0.,  0., -1., -1., -1.,  2.,  1.,  2.,\n",
       "        0.,  1.,  2.,  3.,  1.,  3.,  0.,  2.,  1.,  2.,  2.,  3.,  0.,\n",
       "        0.,  2.,  2.,  3.,  3.,  1.,  1.,  2.,  3.,  2.,  0.,  0.,  3.,\n",
       "        3.,  2.,  3.,  3.,  0.,  2.,  2.,  1.,  1., -1.,  2.,  1.,  2.,\n",
       "        3.,  2., -1.,  3.,  3.,  3.,  3., -1.,  0.,  3.,  3.,  0.,  0.,\n",
       "        0.,  0.,  1.,  3.,  2., -1.,  2.,  1.,  1.,  1.,  0.,  2.,  0.,\n",
       "        1.,  3.,  1.,  1.,  0.,  3.,  3., -1.,  0.,  2.,  0.,  2.,  3.,\n",
       "        2.,  1.,  3.,  2.,  0.,  1.,  0.,  0.,  1.,  0.,  0.,  3.,  0.,\n",
       "        2.,  2.,  0., -1.,  3.,  0.,  0.,  3.,  1.,  1.,  1.,  0.,  1.,\n",
       "        0.,  1.,  3.,  1.,  1.,  0.,  3.,  3.,  0.,  1., -1.,  3., -1.,\n",
       "        3.,  2.,  0.,  2.,  0.,  1.,  0., -1.,  3.,  2.,  2.,  0., -1.,\n",
       "        1.,  1.,  3.,  1.,  3.,  1.,  2.,  3.,  0.,  0.,  2.,  0.,  0.,\n",
       "        0.,  2., -1.,  1.,  2.,  3.,  3.,  3.,  2.,  0.,  1.,  0.])"
      ]
     },
     "execution_count": 50,
     "metadata": {},
     "output_type": "execute_result"
    }
   ],
   "source": [
    "confident_labels = utilities.get_consensus_labels(encoded_labels, necessary_vote = 2)\n",
    "confident_labels"
   ]
  },
  {
   "cell_type": "code",
   "execution_count": 51,
   "metadata": {},
   "outputs": [
    {
     "name": "stdout",
     "output_type": "stream",
     "text": [
      "[-1.  0.  1.  2.  3.]\n",
      "[0. 1. 2. 3.]\n",
      "[-1.]\n"
     ]
    }
   ],
   "source": [
    "train_nodes = np.where(confident_labels != -1)[0]\n",
    "test_nodes = np.where(confident_labels == -1)[0]\n",
    "print(np.unique(confident_labels))\n",
    "print(np.unique(confident_labels[train_nodes]))\n",
    "print(np.unique(confident_labels[test_nodes]))"
   ]
  },
  {
   "cell_type": "code",
   "execution_count": 52,
   "metadata": {},
   "outputs": [
    {
     "name": "stdout",
     "output_type": "stream",
     "text": [
      "0.9302071928977966\n"
     ]
    }
   ],
   "source": [
    "print(utilities.pred_accuracy(confident_labels[train_nodes], real_y[train_nodes]))"
   ]
  },
  {
   "cell_type": "code",
   "execution_count": 53,
   "metadata": {},
   "outputs": [
    {
     "data": {
      "text/plain": [
       "83"
      ]
     },
     "execution_count": 53,
     "metadata": {},
     "output_type": "execute_result"
    }
   ],
   "source": [
    "len(test_nodes)"
   ]
  },
  {
   "cell_type": "code",
   "execution_count": 55,
   "metadata": {},
   "outputs": [
    {
     "name": "stdout",
     "output_type": "stream",
     "text": [
      "0.10843373835086823\n",
      "0.15662650763988495\n",
      "0.6024096608161926\n",
      "0.40963855385780334\n"
     ]
    }
   ],
   "source": [
    "# tool accuracy on test\n",
    "print(utilities.pred_accuracy(np.array(all_labels_factored['scina'][test_nodes]), real_y[test_nodes]))\n",
    "#print(utilities.pred_accuracy(np.array(all_labels_factored['sctype'][test_nodes]), real_y[test_nodes]))\n",
    "print(utilities.pred_accuracy(np.array(all_labels_factored['scsorter'][test_nodes]), real_y[test_nodes]))\n",
    "print(utilities.pred_accuracy(np.array(all_labels_factored['singler'][test_nodes]), real_y[test_nodes]))\n",
    "#print(utilities.pred_accuracy(np.array(all_labels_factored['scpred'][test_nodes]), real_y[test_nodes]))\n",
    "max_pred = torch.tensor(encoded_labels).max(dim=1)[1]\n",
    "print(utilities.pred_accuracy(max_pred[test_nodes], real_y[test_nodes]))"
   ]
  },
  {
   "cell_type": "code",
   "execution_count": 36,
   "metadata": {},
   "outputs": [
    {
     "data": {
      "text/plain": [
       "array([2, 1, 0, 1, 1, 1, 1, 1, 2, 1, 1, 0, 0, 1, 1, 3, 1, 1, 0, 2, 2, 1,\n",
       "       2, 3, 2, 2, 0, 1, 1, 0, 1, 2, 1, 1, 1, 2, 0, 2, 0, 1, 0, 0, 1, 1,\n",
       "       1, 0, 3, 1, 2, 1, 3, 0, 1, 2, 0, 2, 1, 1, 2, 2, 3, 3, 1, 1, 0, 1,\n",
       "       1, 1, 1, 1, 2, 1, 1, 0, 1, 2, 1, 3, 0, 3, 2, 1, 0, 0, 1, 3, 2, 1,\n",
       "       3, 1, 0, 0, 0, 1, 2, 1, 3, 0, 0, 1, 3, 3, 2, 1, 1, 0, 1, 2, 1, 0,\n",
       "       2, 2, 3, 2, 1, 2, 0, 0, 3, 3, 2, 1, 1, 2, 2, 3, 1, 3, 1, 2, 2, 1,\n",
       "       1, 1, 0, 2, 0, 1, 3, 2, 2, 3, 2, 0, 1, 0, 2, 1, 2, 2, 1, 3, 2, 2,\n",
       "       2, 0, 1, 2, 2, 1, 0, 0, 0, 2, 3, 0, 2, 0, 1, 0, 2, 1, 2, 2, 0, 0,\n",
       "       2, 0, 1, 2, 3, 1, 2, 2, 2, 2, 2, 1, 1, 0, 2, 2, 1, 2, 3, 2, 1, 1,\n",
       "       3, 2, 2, 2, 2, 2, 0, 0, 0, 2, 2, 1, 2, 3, 3, 1, 1, 2, 0, 0, 2, 3,\n",
       "       1, 0, 1, 1, 1, 1, 1, 3, 2, 2, 0, 0, 2, 1, 3, 1, 0, 0, 0, 2, 0, 0,\n",
       "       2, 3, 1, 0, 2, 0, 1, 0, 1, 0, 0, 1, 3, 3, 2, 0, 1, 3, 0, 3, 2, 2,\n",
       "       3, 2, 2, 0, 3, 0, 2, 1, 1, 3, 2, 0, 1, 2, 2, 1, 3, 3, 2, 1, 3, 0,\n",
       "       1, 1, 3, 0, 2, 0, 0, 1, 1, 2, 1, 2, 0, 1, 2, 1, 1, 2, 2, 0, 0, 1,\n",
       "       2, 0, 2, 1, 0, 2, 1, 2, 2, 1, 1, 1, 2, 0, 3, 2, 1, 1, 2, 2, 2, 0,\n",
       "       2, 1, 2, 0, 3, 2, 2, 2, 0, 2, 3, 1, 2, 2, 1, 0, 2, 1, 2, 1, 2, 0,\n",
       "       1, 1, 0, 2, 0, 0, 2, 0, 0, 1, 2, 2, 1, 2, 2, 1, 1, 1, 1, 2, 1, 0,\n",
       "       2, 2, 2, 2, 2, 2, 2, 1, 2, 1, 2, 0, 2, 2, 0, 0, 2, 2, 1, 1, 1, 1,\n",
       "       0, 0, 1, 0, 0, 2, 2, 2, 0, 2, 0, 1, 1, 3, 2, 1, 2, 0, 0, 0, 2, 2,\n",
       "       0, 0, 1, 1, 1, 1, 1, 1, 1, 0, 0, 0, 3, 2, 1, 1, 3, 2, 1, 1, 3, 1,\n",
       "       2, 0, 0, 2, 1, 0, 0])"
      ]
     },
     "execution_count": 36,
     "metadata": {},
     "output_type": "execute_result"
    }
   ],
   "source": [
    "real_y[test_nodes]"
   ]
  },
  {
   "cell_type": "code",
   "execution_count": 35,
   "metadata": {},
   "outputs": [
    {
     "data": {
      "text/plain": [
       "0     -1\n",
       "1     -1\n",
       "5     -1\n",
       "7     -1\n",
       "8      3\n",
       "      ..\n",
       "988   -1\n",
       "989   -1\n",
       "990   -1\n",
       "997    3\n",
       "999   -1\n",
       "Name: sctype, Length: 447, dtype: int64"
      ]
     },
     "execution_count": 35,
     "metadata": {},
     "output_type": "execute_result"
    }
   ],
   "source": [
    "all_labels_factored['sctype'][test_nodes]"
   ]
  },
  {
   "cell_type": "code",
   "execution_count": 56,
   "metadata": {},
   "outputs": [],
   "source": [
    "dataset  = torch.utils.data.TensorDataset(torch.tensor(X), torch.tensor(confident_labels))\n",
    "dataloader = torch.utils.data.DataLoader(dataset, batch_size=35, shuffle=True)\n",
    "\n",
    "test_dataset  = torch.utils.data.TensorDataset(torch.tensor(X), torch.tensor(real_y))\n",
    "test_dataloader = torch.utils.data.DataLoader(test_dataset, batch_size=35, shuffle=False)"
   ]
  },
  {
   "cell_type": "code",
   "execution_count": 57,
   "metadata": {},
   "outputs": [],
   "source": [
    "m = GCNModel(\"configs/2_8.txt\", 2, dropout=0.0)"
   ]
  },
  {
   "cell_type": "code",
   "execution_count": 58,
   "metadata": {},
   "outputs": [
    {
     "name": "stdout",
     "output_type": "stream",
     "text": [
      "Loss in epoch 0 = 38.343639\n",
      "Loss in epoch 10 = 0.269517\n",
      "Loss in epoch 20 = 0.057539\n",
      "Loss in epoch 30 = 0.021863\n",
      "Loss in epoch 40 = 0.013117\n",
      "Loss in epoch 50 = 0.010559\n",
      "Loss in epoch 60 = 0.005622\n",
      "Loss in epoch 70 = 0.003653\n",
      "Loss in epoch 80 = 0.002842\n",
      "Loss in epoch 90 = 0.002318\n"
     ]
    }
   ],
   "source": [
    "m.train(dataloader, 100)"
   ]
  },
  {
   "cell_type": "code",
   "execution_count": 59,
   "metadata": {},
   "outputs": [
    {
     "data": {
      "text/plain": [
       "(0.8989999890327454,\n",
       " array([[227,   6,   2,  10],\n",
       "        [  8, 222,  19,   7],\n",
       "        [  8,  29, 201,   8],\n",
       "        [  3,   0,   1, 249]]),\n",
       " 0.9302071928977966,\n",
       " array([[215,   5,   1,   7],\n",
       "        [  6, 204,  12,   5],\n",
       "        [  5,  17, 185,   3],\n",
       "        [  2,   0,   1, 249]]),\n",
       " 0.5542168617248535,\n",
       " array([[12,  1,  1,  3],\n",
       "        [ 2, 18,  7,  2],\n",
       "        [ 3, 12, 16,  5],\n",
       "        [ 1,  0,  0,  0]]))"
      ]
     },
     "execution_count": 59,
     "metadata": {},
     "output_type": "execute_result"
    }
   ],
   "source": [
    "m.validation_metrics(test_dataloader, train_nodes, test_nodes)"
   ]
  },
  {
   "cell_type": "code",
   "execution_count": 30,
   "metadata": {
    "scrolled": true
   },
   "outputs": [
    {
     "data": {
      "text/plain": [
       "(0.9750000238418579,\n",
       " array([[244,   0,   0,   1],\n",
       "        [  1, 254,   1,   0],\n",
       "        [  4,   2, 239,   1],\n",
       "        [  3,   5,   7, 238]]),\n",
       " 0.9841938614845276,\n",
       " array([[241,   0,   0,   0],\n",
       "        [  0, 252,   1,   0],\n",
       "        [  2,   0, 224,   1],\n",
       "        [  2,   4,   5, 217]]),\n",
       " 0.8039215803146362,\n",
       " array([[ 3,  0,  0,  1],\n",
       "        [ 1,  2,  0,  0],\n",
       "        [ 2,  2, 15,  0],\n",
       "        [ 1,  1,  2, 21]]))"
      ]
     },
     "execution_count": 30,
     "metadata": {},
     "output_type": "execute_result"
    }
   ],
   "source": [
    "m.validation_metrics(test_dataloader, train_nodes, test_nodes)"
   ]
  },
  {
   "cell_type": "code",
   "execution_count": 32,
   "metadata": {},
   "outputs": [],
   "source": [
    "data_folders = [\"/home/groups/ConradLab/daniel/sharp_sims/splat_0.5_de_rq/\", \"/home/groups/ConradLab/daniel/sharp_sims/splat_0.6_de_rq/\", \"/home/groups/ConradLab/daniel/sharp_sims/splat_0.7_de_rq/\"]\n",
    "tools = [\"sctype\",\"scsorter\",\"scina\",\"singler\", \"scpred\"]\n",
    "votes_necessary = 3\n",
    "model_file = \"configs/2_8.txt\"\n",
    "neighbors = 2\n",
    "batch_size=35\n",
    "training_epochs=200\n",
    "random_inits = 3"
   ]
  },
  {
   "cell_type": "code",
   "execution_count": 33,
   "metadata": {},
   "outputs": [
    {
     "name": "stdout",
     "output_type": "stream",
     "text": [
      "[0.8100000023841858, 0.7979999780654907, 0.8220000267028809]\n"
     ]
    },
    {
     "name": "stderr",
     "output_type": "stream",
     "text": [
      "/home/users/lewinsda/scSHARP/utilities.py:171: UserWarning: To copy construct from a tensor, it is recommended to use sourceTensor.clone().detach() or sourceTensor.clone().detach().requires_grad_(True), rather than torch.tensor(sourceTensor).\n",
      "  return float((torch.tensor(preds) == torch.tensor(real)).type(torch.FloatTensor).mean().numpy())\n"
     ]
    },
    {
     "name": "stdout",
     "output_type": "stream",
     "text": [
      "[0.9169999957084656, 0.9120000004768372, 0.9129999876022339]\n"
     ]
    },
    {
     "name": "stderr",
     "output_type": "stream",
     "text": [
      "/home/users/lewinsda/scSHARP/utilities.py:171: UserWarning: To copy construct from a tensor, it is recommended to use sourceTensor.clone().detach() or sourceTensor.clone().detach().requires_grad_(True), rather than torch.tensor(sourceTensor).\n",
      "  return float((torch.tensor(preds) == torch.tensor(real)).type(torch.FloatTensor).mean().numpy())\n"
     ]
    },
    {
     "name": "stdout",
     "output_type": "stream",
     "text": [
      "[0.9729999899864197, 0.9750000238418579, 0.9729999899864197]\n"
     ]
    },
    {
     "name": "stderr",
     "output_type": "stream",
     "text": [
      "/home/users/lewinsda/scSHARP/utilities.py:171: UserWarning: To copy construct from a tensor, it is recommended to use sourceTensor.clone().detach() or sourceTensor.clone().detach().requires_grad_(True), rather than torch.tensor(sourceTensor).\n",
      "  return float((torch.tensor(preds) == torch.tensor(real)).type(torch.FloatTensor).mean().numpy())\n"
     ]
    }
   ],
   "source": [
    "results = test_model(data_folders, tools, votes_necessary, model_file, neighbors, batch_size, training_epochs, random_inits)"
   ]
  },
  {
   "cell_type": "code",
   "execution_count": 34,
   "metadata": {},
   "outputs": [
    {
     "data": {
      "text/html": [
       "<div>\n",
       "<style scoped>\n",
       "    .dataframe tbody tr th:only-of-type {\n",
       "        vertical-align: middle;\n",
       "    }\n",
       "\n",
       "    .dataframe tbody tr th {\n",
       "        vertical-align: top;\n",
       "    }\n",
       "\n",
       "    .dataframe thead th {\n",
       "        text-align: right;\n",
       "    }\n",
       "</style>\n",
       "<table border=\"1\" class=\"dataframe\">\n",
       "  <thead>\n",
       "    <tr style=\"text-align: right;\">\n",
       "      <th></th>\n",
       "      <th>data_name</th>\n",
       "      <th>method</th>\n",
       "      <th>total_accuracy</th>\n",
       "      <th>train_accuracy</th>\n",
       "      <th>test_accuracy</th>\n",
       "      <th>total_sd</th>\n",
       "      <th>train_sd</th>\n",
       "      <th>test_sd</th>\n",
       "    </tr>\n",
       "  </thead>\n",
       "  <tbody>\n",
       "    <tr>\n",
       "      <th>0</th>\n",
       "      <td>splat_0.5_de_rq</td>\n",
       "      <td>GCN</td>\n",
       "      <td>0.810000</td>\n",
       "      <td>0.976492</td>\n",
       "      <td>0.604027</td>\n",
       "      <td>0.012000</td>\n",
       "      <td>0.0</td>\n",
       "      <td>0.026846</td>\n",
       "    </tr>\n",
       "    <tr>\n",
       "      <th>1</th>\n",
       "      <td>splat_0.5_de_rq</td>\n",
       "      <td>Max Col.</td>\n",
       "      <td>0.884000</td>\n",
       "      <td>0.976492</td>\n",
       "      <td>0.769575</td>\n",
       "      <td>0.000000</td>\n",
       "      <td>0.0</td>\n",
       "      <td>0.000000</td>\n",
       "    </tr>\n",
       "    <tr>\n",
       "      <th>2</th>\n",
       "      <td>splat_0.5_de_rq</td>\n",
       "      <td>Confident Labels</td>\n",
       "      <td>NaN</td>\n",
       "      <td>0.976492</td>\n",
       "      <td>NaN</td>\n",
       "      <td>0.000000</td>\n",
       "      <td>0.0</td>\n",
       "      <td>0.000000</td>\n",
       "    </tr>\n",
       "    <tr>\n",
       "      <th>3</th>\n",
       "      <td>splat_0.5_de_rq</td>\n",
       "      <td>sctype</td>\n",
       "      <td>0.074000</td>\n",
       "      <td>0.133816</td>\n",
       "      <td>0.000000</td>\n",
       "      <td>0.000000</td>\n",
       "      <td>0.0</td>\n",
       "      <td>0.000000</td>\n",
       "    </tr>\n",
       "    <tr>\n",
       "      <th>4</th>\n",
       "      <td>splat_0.5_de_rq</td>\n",
       "      <td>scsorter</td>\n",
       "      <td>0.807000</td>\n",
       "      <td>0.976492</td>\n",
       "      <td>0.597315</td>\n",
       "      <td>0.000000</td>\n",
       "      <td>0.0</td>\n",
       "      <td>0.000000</td>\n",
       "    </tr>\n",
       "    <tr>\n",
       "      <th>5</th>\n",
       "      <td>splat_0.5_de_rq</td>\n",
       "      <td>scina</td>\n",
       "      <td>0.656000</td>\n",
       "      <td>0.929476</td>\n",
       "      <td>0.317673</td>\n",
       "      <td>0.000000</td>\n",
       "      <td>0.0</td>\n",
       "      <td>0.000000</td>\n",
       "    </tr>\n",
       "    <tr>\n",
       "      <th>6</th>\n",
       "      <td>splat_0.5_de_rq</td>\n",
       "      <td>singler</td>\n",
       "      <td>0.873000</td>\n",
       "      <td>0.985533</td>\n",
       "      <td>0.733781</td>\n",
       "      <td>0.000000</td>\n",
       "      <td>0.0</td>\n",
       "      <td>0.000000</td>\n",
       "    </tr>\n",
       "    <tr>\n",
       "      <th>7</th>\n",
       "      <td>splat_0.5_de_rq</td>\n",
       "      <td>scpred</td>\n",
       "      <td>0.046000</td>\n",
       "      <td>0.083183</td>\n",
       "      <td>0.000000</td>\n",
       "      <td>0.000000</td>\n",
       "      <td>0.0</td>\n",
       "      <td>0.000000</td>\n",
       "    </tr>\n",
       "    <tr>\n",
       "      <th>0</th>\n",
       "      <td>splat_0.6_de_rq</td>\n",
       "      <td>GCN</td>\n",
       "      <td>0.914000</td>\n",
       "      <td>0.967822</td>\n",
       "      <td>0.687500</td>\n",
       "      <td>0.002646</td>\n",
       "      <td>0.0</td>\n",
       "      <td>0.013780</td>\n",
       "    </tr>\n",
       "    <tr>\n",
       "      <th>1</th>\n",
       "      <td>splat_0.6_de_rq</td>\n",
       "      <td>Max Col.</td>\n",
       "      <td>0.922000</td>\n",
       "      <td>0.967822</td>\n",
       "      <td>0.729167</td>\n",
       "      <td>0.000000</td>\n",
       "      <td>0.0</td>\n",
       "      <td>0.000000</td>\n",
       "    </tr>\n",
       "    <tr>\n",
       "      <th>2</th>\n",
       "      <td>splat_0.6_de_rq</td>\n",
       "      <td>Confident Labels</td>\n",
       "      <td>NaN</td>\n",
       "      <td>0.967822</td>\n",
       "      <td>NaN</td>\n",
       "      <td>0.000000</td>\n",
       "      <td>0.0</td>\n",
       "      <td>0.000000</td>\n",
       "    </tr>\n",
       "    <tr>\n",
       "      <th>3</th>\n",
       "      <td>splat_0.6_de_rq</td>\n",
       "      <td>sctype</td>\n",
       "      <td>0.248000</td>\n",
       "      <td>0.300743</td>\n",
       "      <td>0.026042</td>\n",
       "      <td>0.000000</td>\n",
       "      <td>0.0</td>\n",
       "      <td>0.000000</td>\n",
       "    </tr>\n",
       "    <tr>\n",
       "      <th>4</th>\n",
       "      <td>splat_0.6_de_rq</td>\n",
       "      <td>scsorter</td>\n",
       "      <td>0.902000</td>\n",
       "      <td>0.965347</td>\n",
       "      <td>0.635417</td>\n",
       "      <td>0.000000</td>\n",
       "      <td>0.0</td>\n",
       "      <td>0.000000</td>\n",
       "    </tr>\n",
       "    <tr>\n",
       "      <th>5</th>\n",
       "      <td>splat_0.6_de_rq</td>\n",
       "      <td>scina</td>\n",
       "      <td>0.723000</td>\n",
       "      <td>0.853960</td>\n",
       "      <td>0.171875</td>\n",
       "      <td>0.000000</td>\n",
       "      <td>0.0</td>\n",
       "      <td>0.000000</td>\n",
       "    </tr>\n",
       "    <tr>\n",
       "      <th>6</th>\n",
       "      <td>splat_0.6_de_rq</td>\n",
       "      <td>singler</td>\n",
       "      <td>0.958000</td>\n",
       "      <td>0.983911</td>\n",
       "      <td>0.848958</td>\n",
       "      <td>0.000000</td>\n",
       "      <td>0.0</td>\n",
       "      <td>0.000000</td>\n",
       "    </tr>\n",
       "    <tr>\n",
       "      <th>7</th>\n",
       "      <td>splat_0.6_de_rq</td>\n",
       "      <td>scpred</td>\n",
       "      <td>0.325000</td>\n",
       "      <td>0.398515</td>\n",
       "      <td>0.015625</td>\n",
       "      <td>0.000000</td>\n",
       "      <td>0.0</td>\n",
       "      <td>0.000000</td>\n",
       "    </tr>\n",
       "    <tr>\n",
       "      <th>0</th>\n",
       "      <td>splat_0.7_de_rq</td>\n",
       "      <td>GCN</td>\n",
       "      <td>0.973667</td>\n",
       "      <td>0.987448</td>\n",
       "      <td>0.674242</td>\n",
       "      <td>0.001155</td>\n",
       "      <td>0.0</td>\n",
       "      <td>0.026243</td>\n",
       "    </tr>\n",
       "    <tr>\n",
       "      <th>1</th>\n",
       "      <td>splat_0.7_de_rq</td>\n",
       "      <td>Max Col.</td>\n",
       "      <td>0.974000</td>\n",
       "      <td>0.987448</td>\n",
       "      <td>0.681818</td>\n",
       "      <td>0.000000</td>\n",
       "      <td>0.0</td>\n",
       "      <td>0.000000</td>\n",
       "    </tr>\n",
       "    <tr>\n",
       "      <th>2</th>\n",
       "      <td>splat_0.7_de_rq</td>\n",
       "      <td>Confident Labels</td>\n",
       "      <td>NaN</td>\n",
       "      <td>0.987448</td>\n",
       "      <td>NaN</td>\n",
       "      <td>0.000000</td>\n",
       "      <td>0.0</td>\n",
       "      <td>0.000000</td>\n",
       "    </tr>\n",
       "    <tr>\n",
       "      <th>3</th>\n",
       "      <td>splat_0.7_de_rq</td>\n",
       "      <td>sctype</td>\n",
       "      <td>0.686000</td>\n",
       "      <td>0.710251</td>\n",
       "      <td>0.159091</td>\n",
       "      <td>0.000000</td>\n",
       "      <td>0.0</td>\n",
       "      <td>0.000000</td>\n",
       "    </tr>\n",
       "    <tr>\n",
       "      <th>4</th>\n",
       "      <td>splat_0.7_de_rq</td>\n",
       "      <td>scsorter</td>\n",
       "      <td>0.965000</td>\n",
       "      <td>0.979079</td>\n",
       "      <td>0.659091</td>\n",
       "      <td>0.000000</td>\n",
       "      <td>0.0</td>\n",
       "      <td>0.000000</td>\n",
       "    </tr>\n",
       "    <tr>\n",
       "      <th>5</th>\n",
       "      <td>splat_0.7_de_rq</td>\n",
       "      <td>scina</td>\n",
       "      <td>0.915000</td>\n",
       "      <td>0.942469</td>\n",
       "      <td>0.318182</td>\n",
       "      <td>0.000000</td>\n",
       "      <td>0.0</td>\n",
       "      <td>0.000000</td>\n",
       "    </tr>\n",
       "    <tr>\n",
       "      <th>6</th>\n",
       "      <td>splat_0.7_de_rq</td>\n",
       "      <td>singler</td>\n",
       "      <td>0.976000</td>\n",
       "      <td>0.987448</td>\n",
       "      <td>0.727273</td>\n",
       "      <td>0.000000</td>\n",
       "      <td>0.0</td>\n",
       "      <td>0.000000</td>\n",
       "    </tr>\n",
       "    <tr>\n",
       "      <th>7</th>\n",
       "      <td>splat_0.7_de_rq</td>\n",
       "      <td>scpred</td>\n",
       "      <td>0.636000</td>\n",
       "      <td>0.662134</td>\n",
       "      <td>0.068182</td>\n",
       "      <td>0.000000</td>\n",
       "      <td>0.0</td>\n",
       "      <td>0.000000</td>\n",
       "    </tr>\n",
       "  </tbody>\n",
       "</table>\n",
       "</div>"
      ],
      "text/plain": [
       "         data_name            method  total_accuracy  train_accuracy  \\\n",
       "0  splat_0.5_de_rq               GCN        0.810000        0.976492   \n",
       "1  splat_0.5_de_rq          Max Col.        0.884000        0.976492   \n",
       "2  splat_0.5_de_rq  Confident Labels             NaN        0.976492   \n",
       "3  splat_0.5_de_rq            sctype        0.074000        0.133816   \n",
       "4  splat_0.5_de_rq          scsorter        0.807000        0.976492   \n",
       "5  splat_0.5_de_rq             scina        0.656000        0.929476   \n",
       "6  splat_0.5_de_rq           singler        0.873000        0.985533   \n",
       "7  splat_0.5_de_rq            scpred        0.046000        0.083183   \n",
       "0  splat_0.6_de_rq               GCN        0.914000        0.967822   \n",
       "1  splat_0.6_de_rq          Max Col.        0.922000        0.967822   \n",
       "2  splat_0.6_de_rq  Confident Labels             NaN        0.967822   \n",
       "3  splat_0.6_de_rq            sctype        0.248000        0.300743   \n",
       "4  splat_0.6_de_rq          scsorter        0.902000        0.965347   \n",
       "5  splat_0.6_de_rq             scina        0.723000        0.853960   \n",
       "6  splat_0.6_de_rq           singler        0.958000        0.983911   \n",
       "7  splat_0.6_de_rq            scpred        0.325000        0.398515   \n",
       "0  splat_0.7_de_rq               GCN        0.973667        0.987448   \n",
       "1  splat_0.7_de_rq          Max Col.        0.974000        0.987448   \n",
       "2  splat_0.7_de_rq  Confident Labels             NaN        0.987448   \n",
       "3  splat_0.7_de_rq            sctype        0.686000        0.710251   \n",
       "4  splat_0.7_de_rq          scsorter        0.965000        0.979079   \n",
       "5  splat_0.7_de_rq             scina        0.915000        0.942469   \n",
       "6  splat_0.7_de_rq           singler        0.976000        0.987448   \n",
       "7  splat_0.7_de_rq            scpred        0.636000        0.662134   \n",
       "\n",
       "   test_accuracy  total_sd  train_sd   test_sd  \n",
       "0       0.604027  0.012000       0.0  0.026846  \n",
       "1       0.769575  0.000000       0.0  0.000000  \n",
       "2            NaN  0.000000       0.0  0.000000  \n",
       "3       0.000000  0.000000       0.0  0.000000  \n",
       "4       0.597315  0.000000       0.0  0.000000  \n",
       "5       0.317673  0.000000       0.0  0.000000  \n",
       "6       0.733781  0.000000       0.0  0.000000  \n",
       "7       0.000000  0.000000       0.0  0.000000  \n",
       "0       0.687500  0.002646       0.0  0.013780  \n",
       "1       0.729167  0.000000       0.0  0.000000  \n",
       "2            NaN  0.000000       0.0  0.000000  \n",
       "3       0.026042  0.000000       0.0  0.000000  \n",
       "4       0.635417  0.000000       0.0  0.000000  \n",
       "5       0.171875  0.000000       0.0  0.000000  \n",
       "6       0.848958  0.000000       0.0  0.000000  \n",
       "7       0.015625  0.000000       0.0  0.000000  \n",
       "0       0.674242  0.001155       0.0  0.026243  \n",
       "1       0.681818  0.000000       0.0  0.000000  \n",
       "2            NaN  0.000000       0.0  0.000000  \n",
       "3       0.159091  0.000000       0.0  0.000000  \n",
       "4       0.659091  0.000000       0.0  0.000000  \n",
       "5       0.318182  0.000000       0.0  0.000000  \n",
       "6       0.727273  0.000000       0.0  0.000000  \n",
       "7       0.068182  0.000000       0.0  0.000000  "
      ]
     },
     "execution_count": 34,
     "metadata": {},
     "output_type": "execute_result"
    }
   ],
   "source": [
    "results"
   ]
  }
 ],
 "metadata": {
  "kernelspec": {
   "display_name": "daniel_thesis",
   "language": "python",
   "name": "daniel_thesis_2"
  },
  "language_info": {
   "codemirror_mode": {
    "name": "ipython",
    "version": 3
   },
   "file_extension": ".py",
   "mimetype": "text/x-python",
   "name": "python",
   "nbconvert_exporter": "python",
   "pygments_lexer": "ipython3",
   "version": "3.9.7"
  },
  "vscode": {
   "interpreter": {
    "hash": "9e461d02738fd757bc3d2933f9434d370f54d79aa7bbf71ca755487c9a10e111"
   }
  }
 },
 "nbformat": 4,
 "nbformat_minor": 2
}
