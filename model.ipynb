{
 "cells": [
  {
   "cell_type": "code",
   "execution_count": 1,
   "metadata": {},
   "outputs": [
    {
     "name": "stderr",
     "output_type": "stream",
     "text": [
      "/home/users/lewinsda/.conda/envs/daniel_thesis_2/lib/python3.9/site-packages/tqdm/auto.py:22: TqdmWarning: IProgress not found. Please update jupyter and ipywidgets. See https://ipywidgets.readthedocs.io/en/stable/user_install.html\n",
      "  from .autonotebook import tqdm as notebook_tqdm\n"
     ]
    }
   ],
   "source": [
    "import numpy as np\n",
    "import pandas as pd\n",
    "import torch\n",
    "from gcn_model import GCNModel\n",
    "import utilities\n",
    "from test_model import test_model"
   ]
  },
  {
   "cell_type": "code",
   "execution_count": 1,
   "metadata": {},
   "outputs": [],
   "source": [
    "data_folder = \"simulations/splat_0.5_de_rq/\""
   ]
  },
  {
   "cell_type": "code",
   "execution_count": 5,
   "metadata": {},
   "outputs": [],
   "source": [
    "# get labels\n",
    "data_path = data_folder + \"query_counts.csv\"\n",
    "tools = [\"sctype\",\"scsorter\",\"scina\",\"singler\", \"scpred\"]\n",
    "ref_path = data_folder + \"ref_counts.csv\"\n",
    "ref_label_path = data_folder + \"ref_labels.csv\"\n",
    "marker_path = data_folder + \"markers.txt\"\n",
    "all_labels = utilities.label_counts(data_path,tools,ref_path,ref_label_path,marker_path)"
   ]
  },
  {
   "cell_type": "code",
   "execution_count": 10,
   "metadata": {},
   "outputs": [
    {
     "data": {
      "text/html": [
       "<div>\n",
       "<style scoped>\n",
       "    .dataframe tbody tr th:only-of-type {\n",
       "        vertical-align: middle;\n",
       "    }\n",
       "\n",
       "    .dataframe tbody tr th {\n",
       "        vertical-align: top;\n",
       "    }\n",
       "\n",
       "    .dataframe thead th {\n",
       "        text-align: right;\n",
       "    }\n",
       "</style>\n",
       "<table border=\"1\" class=\"dataframe\">\n",
       "  <thead>\n",
       "    <tr style=\"text-align: right;\">\n",
       "      <th></th>\n",
       "      <th>scina</th>\n",
       "      <th>scsorter</th>\n",
       "      <th>sctype</th>\n",
       "      <th>singler</th>\n",
       "      <th>scpred</th>\n",
       "    </tr>\n",
       "  </thead>\n",
       "  <tbody>\n",
       "    <tr>\n",
       "      <th>Cell1001</th>\n",
       "      <td>Group3</td>\n",
       "      <td>Group3</td>\n",
       "      <td>Group3</td>\n",
       "      <td>Group3</td>\n",
       "      <td>Group2</td>\n",
       "    </tr>\n",
       "    <tr>\n",
       "      <th>Cell1002</th>\n",
       "      <td>Group2</td>\n",
       "      <td>Group2</td>\n",
       "      <td>Group4</td>\n",
       "      <td>Group2</td>\n",
       "      <td>Group2</td>\n",
       "    </tr>\n",
       "    <tr>\n",
       "      <th>Cell1003</th>\n",
       "      <td>Group4</td>\n",
       "      <td>Group4</td>\n",
       "      <td>Group3</td>\n",
       "      <td>Group4</td>\n",
       "      <td>Group3</td>\n",
       "    </tr>\n",
       "    <tr>\n",
       "      <th>Cell1004</th>\n",
       "      <td>Group3</td>\n",
       "      <td>Group3</td>\n",
       "      <td>Group3</td>\n",
       "      <td>Group3</td>\n",
       "      <td>Group3</td>\n",
       "    </tr>\n",
       "    <tr>\n",
       "      <th>Cell1005</th>\n",
       "      <td>Group4</td>\n",
       "      <td>Group4</td>\n",
       "      <td>Group3</td>\n",
       "      <td>Group4</td>\n",
       "      <td>Group1</td>\n",
       "    </tr>\n",
       "    <tr>\n",
       "      <th>...</th>\n",
       "      <td>...</td>\n",
       "      <td>...</td>\n",
       "      <td>...</td>\n",
       "      <td>...</td>\n",
       "      <td>...</td>\n",
       "    </tr>\n",
       "    <tr>\n",
       "      <th>Cell1996</th>\n",
       "      <td>Group4</td>\n",
       "      <td>Group4</td>\n",
       "      <td>Group4</td>\n",
       "      <td>Group4</td>\n",
       "      <td>Group1</td>\n",
       "    </tr>\n",
       "    <tr>\n",
       "      <th>Cell1997</th>\n",
       "      <td>Group3</td>\n",
       "      <td>Group3</td>\n",
       "      <td>Group3</td>\n",
       "      <td>Group3</td>\n",
       "      <td>Group2</td>\n",
       "    </tr>\n",
       "    <tr>\n",
       "      <th>Cell1998</th>\n",
       "      <td>Group1</td>\n",
       "      <td>Group1</td>\n",
       "      <td>Group1</td>\n",
       "      <td>Group1</td>\n",
       "      <td>Group1</td>\n",
       "    </tr>\n",
       "    <tr>\n",
       "      <th>Cell1999</th>\n",
       "      <td>Group2</td>\n",
       "      <td>Group2</td>\n",
       "      <td>Group2</td>\n",
       "      <td>Group2</td>\n",
       "      <td>Group1</td>\n",
       "    </tr>\n",
       "    <tr>\n",
       "      <th>Cell2000</th>\n",
       "      <td>Group1</td>\n",
       "      <td>Group1</td>\n",
       "      <td>Group1</td>\n",
       "      <td>Group1</td>\n",
       "      <td>Group1</td>\n",
       "    </tr>\n",
       "  </tbody>\n",
       "</table>\n",
       "<p>1000 rows × 5 columns</p>\n",
       "</div>"
      ],
      "text/plain": [
       "           scina scsorter  sctype singler  scpred\n",
       "Cell1001  Group3   Group3  Group3  Group3  Group2\n",
       "Cell1002  Group2   Group2  Group4  Group2  Group2\n",
       "Cell1003  Group4   Group4  Group3  Group4  Group3\n",
       "Cell1004  Group3   Group3  Group3  Group3  Group3\n",
       "Cell1005  Group4   Group4  Group3  Group4  Group1\n",
       "...          ...      ...     ...     ...     ...\n",
       "Cell1996  Group4   Group4  Group4  Group4  Group1\n",
       "Cell1997  Group3   Group3  Group3  Group3  Group2\n",
       "Cell1998  Group1   Group1  Group1  Group1  Group1\n",
       "Cell1999  Group2   Group2  Group2  Group2  Group1\n",
       "Cell2000  Group1   Group1  Group1  Group1  Group1\n",
       "\n",
       "[1000 rows x 5 columns]"
      ]
     },
     "execution_count": 10,
     "metadata": {},
     "output_type": "execute_result"
    }
   ],
   "source": [
    "all_labels"
   ]
  },
  {
   "cell_type": "code",
   "execution_count": 9,
   "metadata": {},
   "outputs": [
    {
     "data": {
      "text/plain": [
       "['Group1', 'Group2', 'Group3', 'Group4']"
      ]
     },
     "execution_count": 9,
     "metadata": {},
     "output_type": "execute_result"
    }
   ],
   "source": [
    "_,marker_names = utilities.read_marker_file(marker_path)\n",
    "marker_names"
   ]
  },
  {
   "cell_type": "code",
   "execution_count": 12,
   "metadata": {},
   "outputs": [
    {
     "data": {
      "text/plain": [
       "array(['Group3', 'Group4', 'Group2', 'Group1'], dtype=object)"
      ]
     },
     "execution_count": 12,
     "metadata": {},
     "output_type": "execute_result"
    }
   ],
   "source": [
    "all_labels['sctype'].unique()"
   ]
  },
  {
   "cell_type": "code",
   "execution_count": 44,
   "metadata": {},
   "outputs": [
    {
     "data": {
      "text/plain": [
       "Cell1001    Group1\n",
       "Cell1002    Group2\n",
       "Cell1003    Group2\n",
       "Cell1004    Group3\n",
       "Cell1005    Group2\n",
       "             ...  \n",
       "Cell1996    Group2\n",
       "Cell1997    Group1\n",
       "Cell1998    Group3\n",
       "Cell1999    Group1\n",
       "Cell2000    Group2\n",
       "Name: sctype, Length: 1000, dtype: object"
      ]
     },
     "execution_count": 44,
     "metadata": {},
     "output_type": "execute_result"
    }
   ],
   "source": [
    "all_labels['sctype']"
   ]
  },
  {
   "cell_type": "code",
   "execution_count": 13,
   "metadata": {},
   "outputs": [
    {
     "data": {
      "text/plain": [
       "array([[0., 1., 4., 0.],\n",
       "       [0., 4., 0., 1.],\n",
       "       [0., 0., 2., 3.],\n",
       "       ...,\n",
       "       [5., 0., 0., 0.],\n",
       "       [1., 4., 0., 0.],\n",
       "       [5., 0., 0., 0.]])"
      ]
     },
     "execution_count": 13,
     "metadata": {},
     "output_type": "execute_result"
    }
   ],
   "source": [
    "all_labels_factored = utilities.factorize_df(all_labels, marker_names)\n",
    "encoded_labels = utilities.encode_predictions(all_labels_factored)\n",
    "encoded_labels"
   ]
  },
  {
   "cell_type": "code",
   "execution_count": 14,
   "metadata": {},
   "outputs": [
    {
     "data": {
      "text/plain": [
       "(1000, 500)"
      ]
     },
     "execution_count": 14,
     "metadata": {},
     "output_type": "execute_result"
    }
   ],
   "source": [
    "# read in dataset\n",
    "X = pd.read_csv(data_path, index_col=0)\n",
    "X = utilities.preprocess(np.array(X), scale=False)\n",
    "X.shape"
   ]
  },
  {
   "cell_type": "code",
   "execution_count": 15,
   "metadata": {},
   "outputs": [
    {
     "data": {
      "text/plain": [
       "(1000,)"
      ]
     },
     "execution_count": 15,
     "metadata": {},
     "output_type": "execute_result"
    }
   ],
   "source": [
    "meta_path = data_folder + \"query_meta.csv\"\n",
    "metadata = pd.read_csv(meta_path, index_col=0)\n",
    "real_y = pd.factorize(metadata['Group'], sort=True)[0]\n",
    "real_y.shape"
   ]
  },
  {
   "cell_type": "code",
   "execution_count": 16,
   "metadata": {},
   "outputs": [
    {
     "name": "stdout",
     "output_type": "stream",
     "text": [
      "0.9169999957084656\n",
      "0.6769999861717224\n",
      "0.9520000219345093\n",
      "0.9710000157356262\n",
      "0.5379999876022339\n"
     ]
    }
   ],
   "source": [
    "print(utilities.pred_accuracy(all_labels_factored['scina'], real_y))\n",
    "print(utilities.pred_accuracy(all_labels_factored['sctype'], real_y))\n",
    "print(utilities.pred_accuracy(all_labels_factored['scsorter'], real_y))\n",
    "print(utilities.pred_accuracy(all_labels_factored['singler'], real_y))\n",
    "print(utilities.pred_accuracy(all_labels_factored['scpred'], real_y))\n"
   ]
  },
  {
   "cell_type": "code",
   "execution_count": 17,
   "metadata": {},
   "outputs": [
    {
     "name": "stderr",
     "output_type": "stream",
     "text": [
      "/Users/daniel/Desktop/conradLab/thesis/scSHARP/utilities.py:168: UserWarning: To copy construct from a tensor, it is recommended to use sourceTensor.clone().detach() or sourceTensor.clone().detach().requires_grad_(True), rather than torch.tensor(sourceTensor).\n",
      "  return float((torch.tensor(preds) == torch.tensor(real)).type(torch.FloatTensor).mean().numpy())\n"
     ]
    },
    {
     "data": {
      "text/plain": [
       "0.9570000171661377"
      ]
     },
     "execution_count": 17,
     "metadata": {},
     "output_type": "execute_result"
    }
   ],
   "source": [
    "max_pred = torch.tensor(encoded_labels).max(dim=1)[1]\n",
    "utilities.pred_accuracy(max_pred, real_y)"
   ]
  },
  {
   "cell_type": "code",
   "execution_count": 18,
   "metadata": {},
   "outputs": [
    {
     "data": {
      "text/plain": [
       "array([ 2.,  1.,  3.,  2.,  3.,  0.,  2., -1.,  1.,  0.,  1.,  3.,  1.,\n",
       "        1.,  1.,  2.,  0.,  0.,  1.,  3.,  0.,  2.,  1.,  0.,  1.,  3.,\n",
       "        2.,  0.,  0.,  0.,  3.,  1.,  1.,  1.,  3.,  1.,  1.,  3.,  0.,\n",
       "        2.,  0., -1.,  3., -1.,  3.,  2.,  2.,  2., -1.,  1.,  3.,  1.,\n",
       "        1.,  2.,  3.,  3.,  3., -1.,  1.,  2.,  3.,  0.,  0.,  2.,  0.,\n",
       "       -1.,  1.,  1.,  0.,  0.,  1.,  1.,  3.,  2.,  0.,  2.,  1.,  2.,\n",
       "        0.,  1.,  3.,  1.,  3.,  3.,  2.,  0.,  3.,  2., -1., -1.,  1.,\n",
       "        0.,  0.,  1.,  1.,  0.,  0.,  0.,  1.,  1.,  1.,  1.,  0.,  2.,\n",
       "        1.,  0.,  3., -1.,  2.,  1.,  2.,  1.,  2.,  3.,  1.,  0.,  1.,\n",
       "        0.,  2.,  3.,  1., -1.,  0.,  2.,  3.,  1.,  0.,  0.,  2.,  3.,\n",
       "        1.,  2.,  3.,  2.,  3.,  3.,  1.,  1.,  0.,  1.,  1.,  1.,  1.,\n",
       "        3.,  1.,  1.,  3.,  0., -1.,  1.,  1.,  0.,  2.,  0.,  3.,  3.,\n",
       "        1.,  2.,  1.,  1.,  3.,  2.,  1.,  0.,  2.,  3.,  0.,  3.,  1.,\n",
       "        3.,  2.,  1.,  2.,  1.,  0.,  3.,  1.,  0.,  2.,  0.,  1.,  3.,\n",
       "       -1.,  0.,  2.,  1.,  3.,  2.,  1.,  3.,  3.,  1.,  0.,  0., -1.,\n",
       "        3.,  2.,  2.,  2.,  3.,  0.,  3.,  3.,  0.,  3.,  0.,  1.,  2.,\n",
       "        1.,  3.,  2.,  1., -1.,  0.,  0.,  1.,  0.,  1.,  0.,  0.,  1.,\n",
       "        3.,  0.,  3.,  2.,  3.,  2.,  1.,  0.,  1.,  1.,  3.,  3., -1.,\n",
       "        2.,  3.,  0.,  0.,  3.,  0.,  0.,  3.,  1.,  2.,  0.,  1.,  0.,\n",
       "        3.,  0.,  2.,  2.,  1.,  3., -1.,  2.,  1.,  1.,  1.,  0.,  3.,\n",
       "       -1.,  2.,  1.,  2.,  3.,  2.,  2.,  0.,  3.,  3.,  2.,  3.,  0.,\n",
       "        0.,  3.,  3.,  3.,  0.,  3.,  2., -1.,  1.,  1.,  3.,  1.,  2.,\n",
       "        1.,  2.,  0.,  3.,  0.,  3.,  1.,  3.,  1.,  2.,  2.,  1.,  1.,\n",
       "        0.,  1.,  0.,  1.,  3.,  3.,  1.,  0.,  1.,  0.,  0.,  2.,  3.,\n",
       "       -1.,  0., -1.,  1.,  3.,  0.,  2.,  0.,  3.,  2.,  2.,  2.,  2.,\n",
       "        0.,  3.,  3.,  2.,  3.,  2.,  0.,  1.,  0.,  2.,  3.,  3.,  1.,\n",
       "        2.,  2.,  0.,  3.,  1.,  1.,  1.,  3.,  1.,  1.,  1.,  2.,  1.,\n",
       "        3.,  3.,  3.,  3.,  0.,  2.,  2.,  0.,  0.,  3.,  3.,  2., -1.,\n",
       "        2.,  0.,  0.,  0.,  2.,  0.,  3.,  1.,  1.,  0.,  1.,  3.,  0.,\n",
       "        2.,  2.,  0.,  1.,  0.,  2.,  3.,  0.,  0., -1.,  2.,  3.,  3.,\n",
       "        0.,  3.,  0.,  1.,  0.,  3.,  3.,  0., -1.,  1.,  0.,  2.,  2.,\n",
       "        0.,  0.,  2.,  3.,  3.,  1., -1., -1.,  1.,  2.,  2.,  0.,  0.,\n",
       "        0.,  3.,  1.,  3.,  3.,  1.,  2.,  3.,  3.,  3., -1.,  1.,  1.,\n",
       "        2.,  0.,  0.,  2.,  0.,  2.,  2.,  3.,  1.,  3.,  1.,  0.,  0.,\n",
       "        2.,  1.,  1., -1.,  0.,  2.,  1.,  0.,  0.,  2.,  0.,  3.,  1.,\n",
       "        2.,  3.,  3.,  3.,  2.,  1.,  1.,  3.,  2.,  2.,  2.,  2.,  1.,\n",
       "        2.,  3.,  0.,  0.,  0.,  1.,  0.,  3.,  0.,  2.,  0.,  2.,  1.,\n",
       "        0.,  0.,  1.,  2.,  3.,  3.,  1., -1.,  2.,  2.,  3.,  0.,  3.,\n",
       "        2.,  1.,  1.,  2.,  0.,  1.,  0.,  2., -1.,  1.,  2.,  3.,  0.,\n",
       "        0.,  1.,  1.,  1.,  3.,  2.,  0.,  0.,  3.,  1.,  1.,  1.,  3.,\n",
       "        2.,  2.,  1.,  3.,  3.,  1.,  1.,  3.,  1.,  3.,  3.,  2.,  1.,\n",
       "        2.,  0., -1.,  1.,  1.,  3.,  0.,  2.,  1.,  0.,  2.,  1.,  2.,\n",
       "        1.,  1.,  3.,  1.,  0.,  1.,  0.,  0.,  2., -1.,  0.,  2.,  1.,\n",
       "        2.,  0.,  2.,  3., -1.,  3.,  0.,  3.,  1.,  2.,  1.,  1.,  0.,\n",
       "        0.,  2.,  2.,  0.,  1.,  1.,  3.,  2.,  3.,  0.,  2.,  1.,  0.,\n",
       "        3.,  2.,  2.,  2.,  0.,  3.,  0.,  1.,  1.,  3.,  3.,  1.,  2.,\n",
       "        0.,  1.,  3.,  0.,  3.,  2.,  1.,  2.,  3.,  2.,  0., -1.,  0.,\n",
       "        2.,  0.,  3.,  3.,  3.,  0.,  3.,  2., -1.,  3.,  2.,  3.,  1.,\n",
       "        2.,  2.,  1.,  3.,  2.,  0.,  0.,  1.,  3.,  2.,  1.,  1.,  3.,\n",
       "        1.,  2.,  0.,  2.,  1.,  2., -1.,  1.,  1.,  3.,  3.,  3.,  3.,\n",
       "        2.,  1.,  0.,  3.,  1.,  0.,  3.,  0.,  1.,  3., -1.,  3.,  0.,\n",
       "        1.,  3.,  0.,  2.,  0.,  0.,  1.,  1.,  3.,  2.,  1.,  0.,  3.,\n",
       "       -1.,  2.,  3.,  1.,  2.,  1.,  2.,  2.,  0.,  1.,  0.,  1., -1.,\n",
       "        1.,  1., -1.,  2.,  0.,  3., -1.,  2.,  3.,  0.,  0.,  1.,  2.,\n",
       "        1.,  0.,  3.,  2.,  1.,  1., -1.,  0.,  3.,  2.,  1.,  2.,  3.,\n",
       "        2.,  1.,  0.,  1.,  1.,  1.,  2.,  1.,  3.,  0.,  3., -1.,  3.,\n",
       "        1.,  1.,  3.,  2.,  2.,  3.,  0.,  2.,  1.,  2.,  0.,  0.,  0.,\n",
       "        2.,  0.,  1.,  1.,  1.,  2.,  1.,  2.,  2.,  0.,  2.,  2.,  0.,\n",
       "        3.,  3.,  2.,  0.,  0.,  1.,  2.,  2.,  1.,  0.,  3.,  3.,  3.,\n",
       "        2.,  3.,  1.,  3.,  1.,  0.,  0.,  2.,  3.,  2.,  0.,  1.,  1.,\n",
       "        3.,  3.,  0.,  3.,  2.,  1.,  1.,  2.,  0.,  2.,  0.,  2.,  1.,\n",
       "        0.,  1.,  2.,  0.,  2.,  2.,  3.,  0.,  1.,  2.,  3.,  1.,  3.,\n",
       "        0.,  2.,  2.,  2.,  0.,  1.,  1.,  0.,  0.,  2.,  3.,  0.,  0.,\n",
       "        1.,  3.,  2.,  2.,  0.,  0.,  1.,  2.,  2.,  1.,  1.,  1.,  1.,\n",
       "        2.,  1.,  0.,  3.,  2.,  0.,  0.,  2.,  2.,  2.,  2.,  2.,  2.,\n",
       "        0.,  1.,  2.,  3.,  1., -1.,  0.,  2.,  1.,  2.,  0.,  3.,  0.,\n",
       "       -1.,  2.,  2.,  3., -1.,  1.,  1.,  2.,  3.,  2.,  0.,  0.,  3.,\n",
       "        3., -1.,  0.,  3.,  0.,  2.,  2.,  1.,  1.,  1.,  2.,  1.,  2.,\n",
       "        3.,  2.,  0.,  3.,  3., -1.,  3.,  0.,  0.,  3.,  1.,  0.,  0.,\n",
       "        0.,  0.,  1.,  3.,  2.,  2.,  2.,  1.,  1.,  1.,  0.,  2., -1.,\n",
       "        1.,  3.,  1.,  1.,  0.,  3.,  3.,  2.,  0.,  1.,  0., -1.,  3.,\n",
       "        2.,  2., -1.,  2.,  0.,  1.,  0.,  0.,  1.,  0.,  0.,  3.,  0.,\n",
       "        2.,  2.,  0.,  0.,  3.,  0.,  0.,  1.,  1.,  1.,  1.,  0.,  0.,\n",
       "        0.,  1.,  3.,  1.,  1.,  0.,  3.,  3.,  0.,  0.,  0.,  3.,  2.,\n",
       "        3.,  2.,  0.,  2.,  0.,  1.,  0.,  1.,  3.,  2.,  2.,  0.,  2.,\n",
       "        1.,  1., -1.,  1.,  3.,  1.,  2.,  3.,  0.,  0.,  2.,  0.,  0.,\n",
       "        0.,  2.,  1.,  1.,  2.,  3.,  3.,  3.,  2.,  0.,  1.,  0.])"
      ]
     },
     "execution_count": 18,
     "metadata": {},
     "output_type": "execute_result"
    }
   ],
   "source": [
    "confident_labels = utilities.get_consensus_labels(encoded_labels, necessary_vote = 3)\n",
    "confident_labels"
   ]
  },
  {
   "cell_type": "code",
   "execution_count": 19,
   "metadata": {},
   "outputs": [
    {
     "name": "stdout",
     "output_type": "stream",
     "text": [
      "[-1.  0.  1.  2.  3.]\n",
      "[0. 1. 2. 3.]\n",
      "[-1.]\n"
     ]
    }
   ],
   "source": [
    "train_nodes = np.where(confident_labels != -1)[0]\n",
    "test_nodes = np.where(confident_labels == -1)[0]\n",
    "print(np.unique(confident_labels))\n",
    "print(np.unique(confident_labels[train_nodes]))\n",
    "print(np.unique(confident_labels[test_nodes]))"
   ]
  },
  {
   "cell_type": "code",
   "execution_count": 20,
   "metadata": {},
   "outputs": [
    {
     "name": "stdout",
     "output_type": "stream",
     "text": [
      "0.9841938614845276\n"
     ]
    }
   ],
   "source": [
    "print(utilities.pred_accuracy(confident_labels[train_nodes], real_y[train_nodes]))"
   ]
  },
  {
   "cell_type": "code",
   "execution_count": 21,
   "metadata": {},
   "outputs": [
    {
     "name": "stdout",
     "output_type": "stream",
     "text": [
      "0.19607843458652496\n",
      "0.29411765933036804\n",
      "0.47058823704719543\n",
      "0.7647058963775635\n",
      "0.0784313753247261\n",
      "0.45098039507865906\n"
     ]
    },
    {
     "name": "stderr",
     "output_type": "stream",
     "text": [
      "/Users/daniel/Desktop/conradLab/thesis/scSHARP/utilities.py:168: UserWarning: To copy construct from a tensor, it is recommended to use sourceTensor.clone().detach() or sourceTensor.clone().detach().requires_grad_(True), rather than torch.tensor(sourceTensor).\n",
      "  return float((torch.tensor(preds) == torch.tensor(real)).type(torch.FloatTensor).mean().numpy())\n"
     ]
    }
   ],
   "source": [
    "# tool accuracy on test\n",
    "print(utilities.pred_accuracy(np.array(all_labels_factored['scina'][test_nodes]), real_y[test_nodes]))\n",
    "print(utilities.pred_accuracy(np.array(all_labels_factored['sctype'][test_nodes]), real_y[test_nodes]))\n",
    "print(utilities.pred_accuracy(np.array(all_labels_factored['scsorter'][test_nodes]), real_y[test_nodes]))\n",
    "print(utilities.pred_accuracy(np.array(all_labels_factored['singler'][test_nodes]), real_y[test_nodes]))\n",
    "print(utilities.pred_accuracy(np.array(all_labels_factored['scpred'][test_nodes]), real_y[test_nodes]))\n",
    "max_pred = torch.tensor(encoded_labels).max(dim=1)[1]\n",
    "print(utilities.pred_accuracy(max_pred[test_nodes], real_y[test_nodes]))"
   ]
  },
  {
   "cell_type": "code",
   "execution_count": 22,
   "metadata": {},
   "outputs": [],
   "source": [
    "dataset  = torch.utils.data.TensorDataset(torch.tensor(X), torch.tensor(confident_labels))\n",
    "dataloader = torch.utils.data.DataLoader(dataset, batch_size=35, shuffle=True)\n",
    "\n",
    "test_dataset  = torch.utils.data.TensorDataset(torch.tensor(X), torch.tensor(real_y))\n",
    "test_dataloader = torch.utils.data.DataLoader(test_dataset, batch_size=35, shuffle=False)"
   ]
  },
  {
   "cell_type": "code",
   "execution_count": 26,
   "metadata": {},
   "outputs": [],
   "source": [
    "m = GCNModel(\"configs/2_8.txt\", 2, dropout=0.8)"
   ]
  },
  {
   "cell_type": "code",
   "execution_count": 29,
   "metadata": {},
   "outputs": [
    {
     "name": "stdout",
     "output_type": "stream",
     "text": [
      "Loss in epoch 0 = 0.001826\n",
      "Loss in epoch 10 = 0.001181\n",
      "Loss in epoch 20 = 0.000946\n",
      "Loss in epoch 30 = 0.000834\n",
      "Loss in epoch 40 = 0.000576\n",
      "Loss in epoch 50 = 0.000492\n",
      "Loss in epoch 60 = 0.000438\n",
      "Loss in epoch 70 = 0.000288\n",
      "Loss in epoch 80 = 0.000287\n",
      "Loss in epoch 90 = 0.000271\n"
     ]
    }
   ],
   "source": [
    "m.train(dataloader, 100)"
   ]
  },
  {
   "cell_type": "code",
   "execution_count": 25,
   "metadata": {},
   "outputs": [
    {
     "data": {
      "text/plain": [
       "(0.9649999737739563,\n",
       " array([[243,   0,   0,   2],\n",
       "        [  0, 253,   1,   2],\n",
       "        [ 11,   0, 232,   3],\n",
       "        [  6,   5,   5, 237]]),\n",
       " 0.9841938614845276,\n",
       " array([[241,   0,   0,   0],\n",
       "        [  0, 252,   1,   0],\n",
       "        [  2,   0, 224,   1],\n",
       "        [  2,   4,   5, 217]]),\n",
       " 0.6078431606292725,\n",
       " array([[ 2,  0,  0,  2],\n",
       "        [ 0,  1,  0,  2],\n",
       "        [ 9,  0,  8,  2],\n",
       "        [ 4,  1,  0, 20]]))"
      ]
     },
     "execution_count": 25,
     "metadata": {},
     "output_type": "execute_result"
    }
   ],
   "source": [
    "m.validation_metrics(test_dataloader, train_nodes, test_nodes)"
   ]
  },
  {
   "cell_type": "code",
   "execution_count": 30,
   "metadata": {
    "scrolled": true
   },
   "outputs": [
    {
     "data": {
      "text/plain": [
       "(0.9750000238418579,\n",
       " array([[244,   0,   0,   1],\n",
       "        [  1, 254,   1,   0],\n",
       "        [  4,   2, 239,   1],\n",
       "        [  3,   5,   7, 238]]),\n",
       " 0.9841938614845276,\n",
       " array([[241,   0,   0,   0],\n",
       "        [  0, 252,   1,   0],\n",
       "        [  2,   0, 224,   1],\n",
       "        [  2,   4,   5, 217]]),\n",
       " 0.8039215803146362,\n",
       " array([[ 3,  0,  0,  1],\n",
       "        [ 1,  2,  0,  0],\n",
       "        [ 2,  2, 15,  0],\n",
       "        [ 1,  1,  2, 21]]))"
      ]
     },
     "execution_count": 30,
     "metadata": {},
     "output_type": "execute_result"
    }
   ],
   "source": [
    "m.validation_metrics(test_dataloader, train_nodes, test_nodes)"
   ]
  },
  {
   "cell_type": "code",
   "execution_count": 2,
   "metadata": {},
   "outputs": [],
   "source": [
    "data_folders = [\"/home/groups/ConradLab/daniel/sharp_sims/splat_0.5_de_rq/\", \"/home/groups/ConradLab/daniel/sharp_sims/splat_0.6_de_rq/\", \"/home/groups/ConradLab/daniel/sharp_sims/splat_0.7_de_rq/\"]\n",
    "tools = [\"sctype\",\"scsorter\",\"scina\",\"singler\", \"scpred\"]\n",
    "votes_necessary = 3\n",
    "model_file = \"configs/2_8.txt\"\n",
    "neighbors = 2\n",
    "batch_size=35\n",
    "training_epochs=100\n",
    "random_inits = 3"
   ]
  },
  {
   "cell_type": "code",
   "execution_count": 3,
   "metadata": {},
   "outputs": [
    {
     "ename": "NotImplementedError",
     "evalue": "Conversion 'rpy2py' not defined for objects of type '<class 'rpy2.rinterface.SexpClosure'>'",
     "output_type": "error",
     "traceback": [
      "\u001b[0;31m---------------------------------------------------------------------------\u001b[0m",
      "\u001b[0;31mNotImplementedError\u001b[0m                       Traceback (most recent call last)",
      "Input \u001b[0;32mIn [3]\u001b[0m, in \u001b[0;36m<cell line: 1>\u001b[0;34m()\u001b[0m\n\u001b[0;32m----> 1\u001b[0m results \u001b[38;5;241m=\u001b[39m \u001b[43mtest_model\u001b[49m\u001b[43m(\u001b[49m\u001b[43mdata_folders\u001b[49m\u001b[43m,\u001b[49m\u001b[43m \u001b[49m\u001b[43mtools\u001b[49m\u001b[43m,\u001b[49m\u001b[43m \u001b[49m\u001b[43mvotes_necessary\u001b[49m\u001b[43m,\u001b[49m\u001b[43m \u001b[49m\u001b[43mmodel_file\u001b[49m\u001b[43m,\u001b[49m\u001b[43m \u001b[49m\u001b[43mneighbors\u001b[49m\u001b[43m,\u001b[49m\u001b[43m \u001b[49m\u001b[43mbatch_size\u001b[49m\u001b[43m,\u001b[49m\u001b[43m \u001b[49m\u001b[43mtraining_epochs\u001b[49m\u001b[43m,\u001b[49m\u001b[43m \u001b[49m\u001b[43mrandom_inits\u001b[49m\u001b[43m)\u001b[49m\n",
      "File \u001b[0;32m~/scSHARP/test_model.py:19\u001b[0m, in \u001b[0;36mtest_model\u001b[0;34m(data_folders, tool_list, votes, model_file, neighbors, nbatch, training_epochs, random_inits)\u001b[0m\n\u001b[1;32m     17\u001b[0m ref_label_path \u001b[38;5;241m=\u001b[39m data_folder \u001b[38;5;241m+\u001b[39m \u001b[38;5;124m\"\u001b[39m\u001b[38;5;124mref_labels.csv\u001b[39m\u001b[38;5;124m\"\u001b[39m\n\u001b[1;32m     18\u001b[0m marker_path \u001b[38;5;241m=\u001b[39m data_folder \u001b[38;5;241m+\u001b[39m \u001b[38;5;124m\"\u001b[39m\u001b[38;5;124mmarkers.txt\u001b[39m\u001b[38;5;124m\"\u001b[39m\n\u001b[0;32m---> 19\u001b[0m all_labels \u001b[38;5;241m=\u001b[39m \u001b[43mutilities\u001b[49m\u001b[38;5;241;43m.\u001b[39;49m\u001b[43mlabel_counts\u001b[49m\u001b[43m(\u001b[49m\u001b[43mdata_path\u001b[49m\u001b[43m,\u001b[49m\u001b[43mtools\u001b[49m\u001b[43m,\u001b[49m\u001b[43mref_path\u001b[49m\u001b[43m,\u001b[49m\u001b[43mref_label_path\u001b[49m\u001b[43m,\u001b[49m\u001b[43mmarker_path\u001b[49m\u001b[43m)\u001b[49m\n\u001b[1;32m     21\u001b[0m _,marker_names \u001b[38;5;241m=\u001b[39m utilities\u001b[38;5;241m.\u001b[39mread_marker_file(marker_path)\n\u001b[1;32m     23\u001b[0m all_labels_factored \u001b[38;5;241m=\u001b[39m utilities\u001b[38;5;241m.\u001b[39mfactorize_df(all_labels, marker_names)\n",
      "File \u001b[0;32m~/scSHARP/utilities.py:92\u001b[0m, in \u001b[0;36mlabel_counts\u001b[0;34m(data_path, tools, ref_path, ref_label_path, marker_path)\u001b[0m\n\u001b[1;32m     88\u001b[0m \u001b[38;5;124;03m\"\"\"Label inputted dataset with mutlitple annotation tools\"\"\"\u001b[39;00m\n\u001b[1;32m     90\u001b[0m markers, marker_names \u001b[38;5;241m=\u001b[39m read_marker_file(marker_path)\n\u001b[0;32m---> 92\u001b[0m \u001b[43mro\u001b[49m\u001b[38;5;241;43m.\u001b[39;49m\u001b[43mr\u001b[49m\u001b[38;5;241;43m.\u001b[39;49m\u001b[43msource\u001b[49m(\u001b[38;5;124m'\u001b[39m\u001b[38;5;124mtools/r_tools.R\u001b[39m\u001b[38;5;124m'\u001b[39m)\n\u001b[1;32m     93\u001b[0m \u001b[38;5;66;03m#markers = \u001b[39;00m\n\u001b[1;32m     94\u001b[0m preds \u001b[38;5;241m=\u001b[39m ro\u001b[38;5;241m.\u001b[39mr\u001b[38;5;241m.\u001b[39mrun(data_path, tools, markers, marker_names, ref_path, ref_label_path)\n",
      "File \u001b[0;32m~/.conda/envs/daniel_thesis_2/lib/python3.9/site-packages/rpy2/robjects/__init__.py:434\u001b[0m, in \u001b[0;36mR.__getattribute__\u001b[0;34m(self, attr)\u001b[0m\n\u001b[1;32m    431\u001b[0m     orig_ae \u001b[38;5;241m=\u001b[39m \u001b[38;5;28mstr\u001b[39m(ae)\n\u001b[1;32m    433\u001b[0m \u001b[38;5;28;01mtry\u001b[39;00m:\n\u001b[0;32m--> 434\u001b[0m     \u001b[38;5;28;01mreturn\u001b[39;00m \u001b[38;5;28;43mself\u001b[39;49m\u001b[38;5;241;43m.\u001b[39;49m\u001b[38;5;21;43m__getitem__\u001b[39;49m\u001b[43m(\u001b[49m\u001b[43mattr\u001b[49m\u001b[43m)\u001b[49m\n\u001b[1;32m    435\u001b[0m \u001b[38;5;28;01mexcept\u001b[39;00m \u001b[38;5;167;01mLookupError\u001b[39;00m:\n\u001b[1;32m    436\u001b[0m     \u001b[38;5;28;01mraise\u001b[39;00m \u001b[38;5;167;01mAttributeError\u001b[39;00m(orig_ae)\n",
      "File \u001b[0;32m~/.conda/envs/daniel_thesis_2/lib/python3.9/site-packages/rpy2/robjects/__init__.py:440\u001b[0m, in \u001b[0;36mR.__getitem__\u001b[0;34m(self, item)\u001b[0m\n\u001b[1;32m    438\u001b[0m \u001b[38;5;28;01mdef\u001b[39;00m \u001b[38;5;21m__getitem__\u001b[39m(\u001b[38;5;28mself\u001b[39m, item):\n\u001b[1;32m    439\u001b[0m     res \u001b[38;5;241m=\u001b[39m _globalenv\u001b[38;5;241m.\u001b[39mfind(item)\n\u001b[0;32m--> 440\u001b[0m     res \u001b[38;5;241m=\u001b[39m \u001b[43mconversion\u001b[49m\u001b[38;5;241;43m.\u001b[39;49m\u001b[43mget_conversion\u001b[49m\u001b[43m(\u001b[49m\u001b[43m)\u001b[49m\u001b[38;5;241;43m.\u001b[39;49m\u001b[43mrpy2py\u001b[49m\u001b[43m(\u001b[49m\u001b[43mres\u001b[49m\u001b[43m)\u001b[49m\n\u001b[1;32m    441\u001b[0m     \u001b[38;5;28;01mif\u001b[39;00m \u001b[38;5;28mhasattr\u001b[39m(res, \u001b[38;5;124m'\u001b[39m\u001b[38;5;124m__rname__\u001b[39m\u001b[38;5;124m'\u001b[39m):\n\u001b[1;32m    442\u001b[0m         res\u001b[38;5;241m.\u001b[39m__rname__ \u001b[38;5;241m=\u001b[39m item\n",
      "File \u001b[0;32m~/.conda/envs/daniel_thesis_2/lib/python3.9/functools.py:877\u001b[0m, in \u001b[0;36msingledispatch.<locals>.wrapper\u001b[0;34m(*args, **kw)\u001b[0m\n\u001b[1;32m    873\u001b[0m \u001b[38;5;28;01mif\u001b[39;00m \u001b[38;5;129;01mnot\u001b[39;00m args:\n\u001b[1;32m    874\u001b[0m     \u001b[38;5;28;01mraise\u001b[39;00m \u001b[38;5;167;01mTypeError\u001b[39;00m(\u001b[38;5;124mf\u001b[39m\u001b[38;5;124m'\u001b[39m\u001b[38;5;132;01m{\u001b[39;00mfuncname\u001b[38;5;132;01m}\u001b[39;00m\u001b[38;5;124m requires at least \u001b[39m\u001b[38;5;124m'\u001b[39m\n\u001b[1;32m    875\u001b[0m                     \u001b[38;5;124m'\u001b[39m\u001b[38;5;124m1 positional argument\u001b[39m\u001b[38;5;124m'\u001b[39m)\n\u001b[0;32m--> 877\u001b[0m \u001b[38;5;28;01mreturn\u001b[39;00m \u001b[43mdispatch\u001b[49m\u001b[43m(\u001b[49m\u001b[43margs\u001b[49m\u001b[43m[\u001b[49m\u001b[38;5;241;43m0\u001b[39;49m\u001b[43m]\u001b[49m\u001b[38;5;241;43m.\u001b[39;49m\u001b[38;5;18;43m__class__\u001b[39;49m\u001b[43m)\u001b[49m\u001b[43m(\u001b[49m\u001b[38;5;241;43m*\u001b[39;49m\u001b[43margs\u001b[49m\u001b[43m,\u001b[49m\u001b[43m \u001b[49m\u001b[38;5;241;43m*\u001b[39;49m\u001b[38;5;241;43m*\u001b[39;49m\u001b[43mkw\u001b[49m\u001b[43m)\u001b[49m\n",
      "File \u001b[0;32m~/.conda/envs/daniel_thesis_2/lib/python3.9/site-packages/rpy2/robjects/conversion.py:252\u001b[0m, in \u001b[0;36m_rpy2py\u001b[0;34m(obj)\u001b[0m\n\u001b[1;32m    246\u001b[0m \u001b[38;5;28;01mdef\u001b[39;00m \u001b[38;5;21m_rpy2py\u001b[39m(obj):\n\u001b[1;32m    247\u001b[0m     \u001b[38;5;124;03m\"\"\" Dummy function for rpy2py.\u001b[39;00m\n\u001b[1;32m    248\u001b[0m \n\u001b[1;32m    249\u001b[0m \u001b[38;5;124;03m    This function will convert Python objects into Python (presumably\u001b[39;00m\n\u001b[1;32m    250\u001b[0m \u001b[38;5;124;03m    non-rpy2) objects.\u001b[39;00m\n\u001b[1;32m    251\u001b[0m \u001b[38;5;124;03m    \"\"\"\u001b[39;00m\n\u001b[0;32m--> 252\u001b[0m     \u001b[38;5;28;01mraise\u001b[39;00m \u001b[38;5;167;01mNotImplementedError\u001b[39;00m(\n\u001b[1;32m    253\u001b[0m         \u001b[38;5;124m\"\u001b[39m\u001b[38;5;124mConversion \u001b[39m\u001b[38;5;124m'\u001b[39m\u001b[38;5;124mrpy2py\u001b[39m\u001b[38;5;124m'\u001b[39m\u001b[38;5;124m not defined for objects of type \u001b[39m\u001b[38;5;124m'\u001b[39m\u001b[38;5;132;01m%s\u001b[39;00m\u001b[38;5;124m'\u001b[39m\u001b[38;5;124m\"\u001b[39m \u001b[38;5;241m%\u001b[39m\n\u001b[1;32m    254\u001b[0m         \u001b[38;5;28mstr\u001b[39m(\u001b[38;5;28mtype\u001b[39m(obj))\n\u001b[1;32m    255\u001b[0m     )\n",
      "\u001b[0;31mNotImplementedError\u001b[0m: Conversion 'rpy2py' not defined for objects of type '<class 'rpy2.rinterface.SexpClosure'>'"
     ]
    }
   ],
   "source": [
    "results = test_model(data_folders, tools, votes_necessary, model_file, neighbors, batch_size, training_epochs, random_inits)"
   ]
  },
  {
   "cell_type": "code",
   "execution_count": 6,
   "metadata": {},
   "outputs": [
    {
     "data": {
      "text/html": [
       "<div>\n",
       "<style scoped>\n",
       "    .dataframe tbody tr th:only-of-type {\n",
       "        vertical-align: middle;\n",
       "    }\n",
       "\n",
       "    .dataframe tbody tr th {\n",
       "        vertical-align: top;\n",
       "    }\n",
       "\n",
       "    .dataframe thead th {\n",
       "        text-align: right;\n",
       "    }\n",
       "</style>\n",
       "<table border=\"1\" class=\"dataframe\">\n",
       "  <thead>\n",
       "    <tr style=\"text-align: right;\">\n",
       "      <th></th>\n",
       "      <th>data_name</th>\n",
       "      <th>method</th>\n",
       "      <th>total_accuracy</th>\n",
       "      <th>train_accuracy</th>\n",
       "      <th>test_accuracy</th>\n",
       "      <th>total_sd</th>\n",
       "      <th>train_sd</th>\n",
       "      <th>test_sd</th>\n",
       "    </tr>\n",
       "  </thead>\n",
       "  <tbody>\n",
       "    <tr>\n",
       "      <th>0</th>\n",
       "      <td>splat_0.4_de_rq</td>\n",
       "      <td>GCN</td>\n",
       "      <td>0.717667</td>\n",
       "      <td>0.972222</td>\n",
       "      <td>0.524061</td>\n",
       "      <td>0.033081</td>\n",
       "      <td>0.0</td>\n",
       "      <td>0.058241</td>\n",
       "    </tr>\n",
       "    <tr>\n",
       "      <th>1</th>\n",
       "      <td>splat_0.4_de_rq</td>\n",
       "      <td>Max Col.</td>\n",
       "      <td>0.821000</td>\n",
       "      <td>0.972222</td>\n",
       "      <td>0.705986</td>\n",
       "      <td>0.000000</td>\n",
       "      <td>0.0</td>\n",
       "      <td>0.000000</td>\n",
       "    </tr>\n",
       "    <tr>\n",
       "      <th>2</th>\n",
       "      <td>splat_0.4_de_rq</td>\n",
       "      <td>Confident Labels</td>\n",
       "      <td>NaN</td>\n",
       "      <td>0.972222</td>\n",
       "      <td>NaN</td>\n",
       "      <td>0.000000</td>\n",
       "      <td>0.0</td>\n",
       "      <td>0.000000</td>\n",
       "    </tr>\n",
       "    <tr>\n",
       "      <th>3</th>\n",
       "      <td>splat_0.4_de_rq</td>\n",
       "      <td>sctype</td>\n",
       "      <td>0.000000</td>\n",
       "      <td>0.000000</td>\n",
       "      <td>0.000000</td>\n",
       "      <td>0.000000</td>\n",
       "      <td>0.0</td>\n",
       "      <td>0.000000</td>\n",
       "    </tr>\n",
       "    <tr>\n",
       "      <th>4</th>\n",
       "      <td>splat_0.4_de_rq</td>\n",
       "      <td>scsorter</td>\n",
       "      <td>0.820000</td>\n",
       "      <td>0.972222</td>\n",
       "      <td>0.704225</td>\n",
       "      <td>0.000000</td>\n",
       "      <td>0.0</td>\n",
       "      <td>0.000000</td>\n",
       "    </tr>\n",
       "    <tr>\n",
       "      <th>5</th>\n",
       "      <td>splat_0.4_de_rq</td>\n",
       "      <td>scina</td>\n",
       "      <td>0.527000</td>\n",
       "      <td>0.972222</td>\n",
       "      <td>0.188380</td>\n",
       "      <td>0.000000</td>\n",
       "      <td>0.0</td>\n",
       "      <td>0.000000</td>\n",
       "    </tr>\n",
       "    <tr>\n",
       "      <th>6</th>\n",
       "      <td>splat_0.4_de_rq</td>\n",
       "      <td>singler</td>\n",
       "      <td>0.806000</td>\n",
       "      <td>0.972222</td>\n",
       "      <td>0.679577</td>\n",
       "      <td>0.000000</td>\n",
       "      <td>0.0</td>\n",
       "      <td>0.000000</td>\n",
       "    </tr>\n",
       "    <tr>\n",
       "      <th>7</th>\n",
       "      <td>splat_0.4_de_rq</td>\n",
       "      <td>scpred</td>\n",
       "      <td>0.000000</td>\n",
       "      <td>0.000000</td>\n",
       "      <td>0.000000</td>\n",
       "      <td>0.000000</td>\n",
       "      <td>0.0</td>\n",
       "      <td>0.000000</td>\n",
       "    </tr>\n",
       "    <tr>\n",
       "      <th>0</th>\n",
       "      <td>splat_0.5_de_rq</td>\n",
       "      <td>GCN</td>\n",
       "      <td>0.895333</td>\n",
       "      <td>0.957831</td>\n",
       "      <td>0.590196</td>\n",
       "      <td>0.010066</td>\n",
       "      <td>0.0</td>\n",
       "      <td>0.059214</td>\n",
       "    </tr>\n",
       "    <tr>\n",
       "      <th>1</th>\n",
       "      <td>splat_0.5_de_rq</td>\n",
       "      <td>Max Col.</td>\n",
       "      <td>0.870000</td>\n",
       "      <td>0.957831</td>\n",
       "      <td>0.441176</td>\n",
       "      <td>0.000000</td>\n",
       "      <td>0.0</td>\n",
       "      <td>0.000000</td>\n",
       "    </tr>\n",
       "    <tr>\n",
       "      <th>2</th>\n",
       "      <td>splat_0.5_de_rq</td>\n",
       "      <td>Confident Labels</td>\n",
       "      <td>NaN</td>\n",
       "      <td>0.957831</td>\n",
       "      <td>NaN</td>\n",
       "      <td>0.000000</td>\n",
       "      <td>0.0</td>\n",
       "      <td>0.000000</td>\n",
       "    </tr>\n",
       "    <tr>\n",
       "      <th>3</th>\n",
       "      <td>splat_0.5_de_rq</td>\n",
       "      <td>sctype</td>\n",
       "      <td>0.363000</td>\n",
       "      <td>0.419277</td>\n",
       "      <td>0.088235</td>\n",
       "      <td>0.000000</td>\n",
       "      <td>0.0</td>\n",
       "      <td>0.000000</td>\n",
       "    </tr>\n",
       "    <tr>\n",
       "      <th>4</th>\n",
       "      <td>splat_0.5_de_rq</td>\n",
       "      <td>scsorter</td>\n",
       "      <td>0.897000</td>\n",
       "      <td>0.946988</td>\n",
       "      <td>0.652941</td>\n",
       "      <td>0.000000</td>\n",
       "      <td>0.0</td>\n",
       "      <td>0.000000</td>\n",
       "    </tr>\n",
       "    <tr>\n",
       "      <th>5</th>\n",
       "      <td>splat_0.5_de_rq</td>\n",
       "      <td>scina</td>\n",
       "      <td>0.853000</td>\n",
       "      <td>0.937349</td>\n",
       "      <td>0.441176</td>\n",
       "      <td>0.000000</td>\n",
       "      <td>0.0</td>\n",
       "      <td>0.000000</td>\n",
       "    </tr>\n",
       "    <tr>\n",
       "      <th>6</th>\n",
       "      <td>splat_0.5_de_rq</td>\n",
       "      <td>singler</td>\n",
       "      <td>0.868000</td>\n",
       "      <td>0.948193</td>\n",
       "      <td>0.476471</td>\n",
       "      <td>0.000000</td>\n",
       "      <td>0.0</td>\n",
       "      <td>0.000000</td>\n",
       "    </tr>\n",
       "    <tr>\n",
       "      <th>7</th>\n",
       "      <td>splat_0.5_de_rq</td>\n",
       "      <td>scpred</td>\n",
       "      <td>0.295000</td>\n",
       "      <td>0.346988</td>\n",
       "      <td>0.041176</td>\n",
       "      <td>0.000000</td>\n",
       "      <td>0.0</td>\n",
       "      <td>0.000000</td>\n",
       "    </tr>\n",
       "    <tr>\n",
       "      <th>0</th>\n",
       "      <td>splat_0.6_de_rq</td>\n",
       "      <td>GCN</td>\n",
       "      <td>0.974667</td>\n",
       "      <td>0.984194</td>\n",
       "      <td>0.797386</td>\n",
       "      <td>0.000577</td>\n",
       "      <td>0.0</td>\n",
       "      <td>0.011321</td>\n",
       "    </tr>\n",
       "    <tr>\n",
       "      <th>1</th>\n",
       "      <td>splat_0.6_de_rq</td>\n",
       "      <td>Max Col.</td>\n",
       "      <td>0.957000</td>\n",
       "      <td>0.984194</td>\n",
       "      <td>0.450980</td>\n",
       "      <td>0.000000</td>\n",
       "      <td>0.0</td>\n",
       "      <td>0.000000</td>\n",
       "    </tr>\n",
       "    <tr>\n",
       "      <th>2</th>\n",
       "      <td>splat_0.6_de_rq</td>\n",
       "      <td>Confident Labels</td>\n",
       "      <td>NaN</td>\n",
       "      <td>0.984194</td>\n",
       "      <td>NaN</td>\n",
       "      <td>0.000000</td>\n",
       "      <td>0.0</td>\n",
       "      <td>0.000000</td>\n",
       "    </tr>\n",
       "    <tr>\n",
       "      <th>3</th>\n",
       "      <td>splat_0.6_de_rq</td>\n",
       "      <td>sctype</td>\n",
       "      <td>0.677000</td>\n",
       "      <td>0.697576</td>\n",
       "      <td>0.294118</td>\n",
       "      <td>0.000000</td>\n",
       "      <td>0.0</td>\n",
       "      <td>0.000000</td>\n",
       "    </tr>\n",
       "    <tr>\n",
       "      <th>4</th>\n",
       "      <td>splat_0.6_de_rq</td>\n",
       "      <td>scsorter</td>\n",
       "      <td>0.952000</td>\n",
       "      <td>0.977871</td>\n",
       "      <td>0.470588</td>\n",
       "      <td>0.000000</td>\n",
       "      <td>0.0</td>\n",
       "      <td>0.000000</td>\n",
       "    </tr>\n",
       "    <tr>\n",
       "      <th>5</th>\n",
       "      <td>splat_0.6_de_rq</td>\n",
       "      <td>scina</td>\n",
       "      <td>0.917000</td>\n",
       "      <td>0.955743</td>\n",
       "      <td>0.196078</td>\n",
       "      <td>0.000000</td>\n",
       "      <td>0.0</td>\n",
       "      <td>0.000000</td>\n",
       "    </tr>\n",
       "    <tr>\n",
       "      <th>6</th>\n",
       "      <td>splat_0.6_de_rq</td>\n",
       "      <td>singler</td>\n",
       "      <td>0.971000</td>\n",
       "      <td>0.982086</td>\n",
       "      <td>0.764706</td>\n",
       "      <td>0.000000</td>\n",
       "      <td>0.0</td>\n",
       "      <td>0.000000</td>\n",
       "    </tr>\n",
       "    <tr>\n",
       "      <th>7</th>\n",
       "      <td>splat_0.6_de_rq</td>\n",
       "      <td>scpred</td>\n",
       "      <td>0.538000</td>\n",
       "      <td>0.562698</td>\n",
       "      <td>0.078431</td>\n",
       "      <td>0.000000</td>\n",
       "      <td>0.0</td>\n",
       "      <td>0.000000</td>\n",
       "    </tr>\n",
       "    <tr>\n",
       "      <th>0</th>\n",
       "      <td>splat_0.7_de_rq</td>\n",
       "      <td>GCN</td>\n",
       "      <td>0.989000</td>\n",
       "      <td>0.990937</td>\n",
       "      <td>0.714286</td>\n",
       "      <td>0.001000</td>\n",
       "      <td>0.0</td>\n",
       "      <td>0.142857</td>\n",
       "    </tr>\n",
       "    <tr>\n",
       "      <th>1</th>\n",
       "      <td>splat_0.7_de_rq</td>\n",
       "      <td>Max Col.</td>\n",
       "      <td>0.988000</td>\n",
       "      <td>0.990937</td>\n",
       "      <td>0.571429</td>\n",
       "      <td>0.000000</td>\n",
       "      <td>0.0</td>\n",
       "      <td>0.000000</td>\n",
       "    </tr>\n",
       "    <tr>\n",
       "      <th>2</th>\n",
       "      <td>splat_0.7_de_rq</td>\n",
       "      <td>Confident Labels</td>\n",
       "      <td>NaN</td>\n",
       "      <td>0.990937</td>\n",
       "      <td>NaN</td>\n",
       "      <td>0.000000</td>\n",
       "      <td>0.0</td>\n",
       "      <td>0.000000</td>\n",
       "    </tr>\n",
       "    <tr>\n",
       "      <th>3</th>\n",
       "      <td>splat_0.7_de_rq</td>\n",
       "      <td>sctype</td>\n",
       "      <td>0.902000</td>\n",
       "      <td>0.906344</td>\n",
       "      <td>0.285714</td>\n",
       "      <td>0.000000</td>\n",
       "      <td>0.0</td>\n",
       "      <td>0.000000</td>\n",
       "    </tr>\n",
       "    <tr>\n",
       "      <th>4</th>\n",
       "      <td>splat_0.7_de_rq</td>\n",
       "      <td>scsorter</td>\n",
       "      <td>0.979000</td>\n",
       "      <td>0.981873</td>\n",
       "      <td>0.571429</td>\n",
       "      <td>0.000000</td>\n",
       "      <td>0.0</td>\n",
       "      <td>0.000000</td>\n",
       "    </tr>\n",
       "    <tr>\n",
       "      <th>5</th>\n",
       "      <td>splat_0.7_de_rq</td>\n",
       "      <td>scina</td>\n",
       "      <td>0.968000</td>\n",
       "      <td>0.974824</td>\n",
       "      <td>0.000000</td>\n",
       "      <td>0.000000</td>\n",
       "      <td>0.0</td>\n",
       "      <td>0.000000</td>\n",
       "    </tr>\n",
       "    <tr>\n",
       "      <th>6</th>\n",
       "      <td>splat_0.7_de_rq</td>\n",
       "      <td>singler</td>\n",
       "      <td>0.991000</td>\n",
       "      <td>0.991944</td>\n",
       "      <td>0.857143</td>\n",
       "      <td>0.000000</td>\n",
       "      <td>0.0</td>\n",
       "      <td>0.000000</td>\n",
       "    </tr>\n",
       "    <tr>\n",
       "      <th>7</th>\n",
       "      <td>splat_0.7_de_rq</td>\n",
       "      <td>scpred</td>\n",
       "      <td>0.731000</td>\n",
       "      <td>0.735146</td>\n",
       "      <td>0.142857</td>\n",
       "      <td>0.000000</td>\n",
       "      <td>0.0</td>\n",
       "      <td>0.000000</td>\n",
       "    </tr>\n",
       "  </tbody>\n",
       "</table>\n",
       "</div>"
      ],
      "text/plain": [
       "         data_name            method  total_accuracy  train_accuracy  \\\n",
       "0  splat_0.4_de_rq               GCN        0.717667        0.972222   \n",
       "1  splat_0.4_de_rq          Max Col.        0.821000        0.972222   \n",
       "2  splat_0.4_de_rq  Confident Labels             NaN        0.972222   \n",
       "3  splat_0.4_de_rq            sctype        0.000000        0.000000   \n",
       "4  splat_0.4_de_rq          scsorter        0.820000        0.972222   \n",
       "5  splat_0.4_de_rq             scina        0.527000        0.972222   \n",
       "6  splat_0.4_de_rq           singler        0.806000        0.972222   \n",
       "7  splat_0.4_de_rq            scpred        0.000000        0.000000   \n",
       "0  splat_0.5_de_rq               GCN        0.895333        0.957831   \n",
       "1  splat_0.5_de_rq          Max Col.        0.870000        0.957831   \n",
       "2  splat_0.5_de_rq  Confident Labels             NaN        0.957831   \n",
       "3  splat_0.5_de_rq            sctype        0.363000        0.419277   \n",
       "4  splat_0.5_de_rq          scsorter        0.897000        0.946988   \n",
       "5  splat_0.5_de_rq             scina        0.853000        0.937349   \n",
       "6  splat_0.5_de_rq           singler        0.868000        0.948193   \n",
       "7  splat_0.5_de_rq            scpred        0.295000        0.346988   \n",
       "0  splat_0.6_de_rq               GCN        0.974667        0.984194   \n",
       "1  splat_0.6_de_rq          Max Col.        0.957000        0.984194   \n",
       "2  splat_0.6_de_rq  Confident Labels             NaN        0.984194   \n",
       "3  splat_0.6_de_rq            sctype        0.677000        0.697576   \n",
       "4  splat_0.6_de_rq          scsorter        0.952000        0.977871   \n",
       "5  splat_0.6_de_rq             scina        0.917000        0.955743   \n",
       "6  splat_0.6_de_rq           singler        0.971000        0.982086   \n",
       "7  splat_0.6_de_rq            scpred        0.538000        0.562698   \n",
       "0  splat_0.7_de_rq               GCN        0.989000        0.990937   \n",
       "1  splat_0.7_de_rq          Max Col.        0.988000        0.990937   \n",
       "2  splat_0.7_de_rq  Confident Labels             NaN        0.990937   \n",
       "3  splat_0.7_de_rq            sctype        0.902000        0.906344   \n",
       "4  splat_0.7_de_rq          scsorter        0.979000        0.981873   \n",
       "5  splat_0.7_de_rq             scina        0.968000        0.974824   \n",
       "6  splat_0.7_de_rq           singler        0.991000        0.991944   \n",
       "7  splat_0.7_de_rq            scpred        0.731000        0.735146   \n",
       "\n",
       "   test_accuracy  total_sd  train_sd   test_sd  \n",
       "0       0.524061  0.033081       0.0  0.058241  \n",
       "1       0.705986  0.000000       0.0  0.000000  \n",
       "2            NaN  0.000000       0.0  0.000000  \n",
       "3       0.000000  0.000000       0.0  0.000000  \n",
       "4       0.704225  0.000000       0.0  0.000000  \n",
       "5       0.188380  0.000000       0.0  0.000000  \n",
       "6       0.679577  0.000000       0.0  0.000000  \n",
       "7       0.000000  0.000000       0.0  0.000000  \n",
       "0       0.590196  0.010066       0.0  0.059214  \n",
       "1       0.441176  0.000000       0.0  0.000000  \n",
       "2            NaN  0.000000       0.0  0.000000  \n",
       "3       0.088235  0.000000       0.0  0.000000  \n",
       "4       0.652941  0.000000       0.0  0.000000  \n",
       "5       0.441176  0.000000       0.0  0.000000  \n",
       "6       0.476471  0.000000       0.0  0.000000  \n",
       "7       0.041176  0.000000       0.0  0.000000  \n",
       "0       0.797386  0.000577       0.0  0.011321  \n",
       "1       0.450980  0.000000       0.0  0.000000  \n",
       "2            NaN  0.000000       0.0  0.000000  \n",
       "3       0.294118  0.000000       0.0  0.000000  \n",
       "4       0.470588  0.000000       0.0  0.000000  \n",
       "5       0.196078  0.000000       0.0  0.000000  \n",
       "6       0.764706  0.000000       0.0  0.000000  \n",
       "7       0.078431  0.000000       0.0  0.000000  \n",
       "0       0.714286  0.001000       0.0  0.142857  \n",
       "1       0.571429  0.000000       0.0  0.000000  \n",
       "2            NaN  0.000000       0.0  0.000000  \n",
       "3       0.285714  0.000000       0.0  0.000000  \n",
       "4       0.571429  0.000000       0.0  0.000000  \n",
       "5       0.000000  0.000000       0.0  0.000000  \n",
       "6       0.857143  0.000000       0.0  0.000000  \n",
       "7       0.142857  0.000000       0.0  0.000000  "
      ]
     },
     "execution_count": 6,
     "metadata": {},
     "output_type": "execute_result"
    }
   ],
   "source": [
    "results"
   ]
  }
 ],
 "metadata": {
  "kernelspec": {
   "display_name": "daniel_thesis",
   "language": "python",
   "name": "daniel_thesis_2"
  },
  "language_info": {
   "codemirror_mode": {
    "name": "ipython",
    "version": 3
   },
   "file_extension": ".py",
   "mimetype": "text/x-python",
   "name": "python",
   "nbconvert_exporter": "python",
   "pygments_lexer": "ipython3",
   "version": "3.9.7"
  },
  "vscode": {
   "interpreter": {
    "hash": "9e461d02738fd757bc3d2933f9434d370f54d79aa7bbf71ca755487c9a10e111"
   }
  }
 },
 "nbformat": 4,
 "nbformat_minor": 2
}
