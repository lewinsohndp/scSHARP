{
 "cells": [
  {
   "cell_type": "code",
   "execution_count": 1,
   "metadata": {},
   "outputs": [
    {
     "name": "stderr",
     "output_type": "stream",
     "text": [
      "/home/users/lewinsda/.conda/envs/daniel_thesis_2/lib/python3.9/site-packages/tqdm/auto.py:22: TqdmWarning: IProgress not found. Please update jupyter and ipywidgets. See https://ipywidgets.readthedocs.io/en/stable/user_install.html\n",
      "  from .autonotebook import tqdm as notebook_tqdm\n"
     ]
    }
   ],
   "source": [
    "import numpy as np\n",
    "import pandas as pd\n",
    "import torch\n",
    "from gcn_model import GCNModel\n",
    "import utilities\n",
    "from test_model import test_model\n",
    "import os\n",
    "import statistics\n",
    "import matplotlib.pyplot as plt\n",
    "from sklearn.metrics import confusion_matrix\n",
    "from captum.attr import IntegratedGradients"
   ]
  },
  {
   "cell_type": "code",
   "execution_count": 2,
   "metadata": {},
   "outputs": [],
   "source": [
    "#data_folder = \"/home/groups/ConradLab/daniel/sharp_data/sharp_sims/splat_0.7_de_rq_v3/\"\n",
    "data_folder = \"simulations/splat_0.7_de_rq/\""
   ]
  },
  {
   "cell_type": "code",
   "execution_count": 24,
   "metadata": {},
   "outputs": [
    {
     "data": {
      "text/plain": [
       "True"
      ]
     },
     "execution_count": 24,
     "metadata": {},
     "output_type": "execute_result"
    }
   ],
   "source": [
    "os.path.exists(data_folder + \"preds.csv\")"
   ]
  },
  {
   "cell_type": "code",
   "execution_count": 3,
   "metadata": {},
   "outputs": [],
   "source": [
    "# get labels\n",
    "data_path = data_folder + \"query_counts.csv\"\n",
    "tools = [\"sctype\",\"scsorter\",\"scina\",\"singler\", \"scpred\"]\n",
    "#tools = [\"scsorter\",\"scina\",\"singler\"]\n",
    "ref_path = data_folder + \"ref_counts.csv\"\n",
    "ref_label_path = data_folder + \"ref_labels.csv\"\n",
    "marker_path = data_folder + \"markers.txt\"\n",
    "if os.path.exists(data_folder + \"preds.csv\"):\n",
    "    all_labels = pd.read_csv(data_folder + \"preds.csv\", index_col=0)\n",
    "    if all_labels.shape[1] != len(tools): \n",
    "        all_labels = all_labels[tools]\n",
    "        #raise Exception(\"wrong amount of tools in file\")\n",
    "else:\n",
    "    all_labels = utilities.label_counts(data_path,tools,ref_path,ref_label_path,marker_path)"
   ]
  },
  {
   "cell_type": "code",
   "execution_count": 24,
   "metadata": {},
   "outputs": [
    {
     "data": {
      "text/plain": [
       "5"
      ]
     },
     "execution_count": 24,
     "metadata": {},
     "output_type": "execute_result"
    }
   ],
   "source": [
    "all_labels.shape[1]"
   ]
  },
  {
   "cell_type": "code",
   "execution_count": 6,
   "metadata": {},
   "outputs": [
    {
     "data": {
      "text/html": [
       "<div>\n",
       "<style scoped>\n",
       "    .dataframe tbody tr th:only-of-type {\n",
       "        vertical-align: middle;\n",
       "    }\n",
       "\n",
       "    .dataframe tbody tr th {\n",
       "        vertical-align: top;\n",
       "    }\n",
       "\n",
       "    .dataframe thead th {\n",
       "        text-align: right;\n",
       "    }\n",
       "</style>\n",
       "<table border=\"1\" class=\"dataframe\">\n",
       "  <thead>\n",
       "    <tr style=\"text-align: right;\">\n",
       "      <th></th>\n",
       "      <th>scina</th>\n",
       "      <th>scsorter</th>\n",
       "      <th>sctype</th>\n",
       "      <th>singler</th>\n",
       "      <th>scpred</th>\n",
       "    </tr>\n",
       "  </thead>\n",
       "  <tbody>\n",
       "    <tr>\n",
       "      <th>Cell1001</th>\n",
       "      <td>Group2</td>\n",
       "      <td>Group1</td>\n",
       "      <td>Group1</td>\n",
       "      <td>Group3</td>\n",
       "      <td>Group1</td>\n",
       "    </tr>\n",
       "    <tr>\n",
       "      <th>Cell1002</th>\n",
       "      <td>NaN</td>\n",
       "      <td>Group2</td>\n",
       "      <td>Group2</td>\n",
       "      <td>Group2</td>\n",
       "      <td>Group2</td>\n",
       "    </tr>\n",
       "    <tr>\n",
       "      <th>Cell1003</th>\n",
       "      <td>Group3</td>\n",
       "      <td>Group3</td>\n",
       "      <td>Group2</td>\n",
       "      <td>Group4</td>\n",
       "      <td>NaN</td>\n",
       "    </tr>\n",
       "    <tr>\n",
       "      <th>Cell1004</th>\n",
       "      <td>Group3</td>\n",
       "      <td>Group2</td>\n",
       "      <td>Group2</td>\n",
       "      <td>Group2</td>\n",
       "      <td>Group3</td>\n",
       "    </tr>\n",
       "    <tr>\n",
       "      <th>Cell1005</th>\n",
       "      <td>NaN</td>\n",
       "      <td>Group2</td>\n",
       "      <td>Group2</td>\n",
       "      <td>Group4</td>\n",
       "      <td>Group2</td>\n",
       "    </tr>\n",
       "    <tr>\n",
       "      <th>...</th>\n",
       "      <td>...</td>\n",
       "      <td>...</td>\n",
       "      <td>...</td>\n",
       "      <td>...</td>\n",
       "      <td>...</td>\n",
       "    </tr>\n",
       "    <tr>\n",
       "      <th>Cell1996</th>\n",
       "      <td>Group2</td>\n",
       "      <td>Group2</td>\n",
       "      <td>Group1</td>\n",
       "      <td>Group1</td>\n",
       "      <td>Group1</td>\n",
       "    </tr>\n",
       "    <tr>\n",
       "      <th>Cell1997</th>\n",
       "      <td>Group3</td>\n",
       "      <td>Group3</td>\n",
       "      <td>Group3</td>\n",
       "      <td>Group3</td>\n",
       "      <td>Group3</td>\n",
       "    </tr>\n",
       "    <tr>\n",
       "      <th>Cell1998</th>\n",
       "      <td>NaN</td>\n",
       "      <td>Group4</td>\n",
       "      <td>Group1</td>\n",
       "      <td>Group1</td>\n",
       "      <td>Group1</td>\n",
       "    </tr>\n",
       "    <tr>\n",
       "      <th>Cell1999</th>\n",
       "      <td>Group2</td>\n",
       "      <td>Group2</td>\n",
       "      <td>Group2</td>\n",
       "      <td>Group2</td>\n",
       "      <td>Group3</td>\n",
       "    </tr>\n",
       "    <tr>\n",
       "      <th>Cell2000</th>\n",
       "      <td>NaN</td>\n",
       "      <td>Group1</td>\n",
       "      <td>Group1</td>\n",
       "      <td>Group1</td>\n",
       "      <td>Group1</td>\n",
       "    </tr>\n",
       "  </tbody>\n",
       "</table>\n",
       "<p>1000 rows × 5 columns</p>\n",
       "</div>"
      ],
      "text/plain": [
       "           scina scsorter  sctype singler  scpred\n",
       "Cell1001  Group2   Group1  Group1  Group3  Group1\n",
       "Cell1002     NaN   Group2  Group2  Group2  Group2\n",
       "Cell1003  Group3   Group3  Group2  Group4     NaN\n",
       "Cell1004  Group3   Group2  Group2  Group2  Group3\n",
       "Cell1005     NaN   Group2  Group2  Group4  Group2\n",
       "...          ...      ...     ...     ...     ...\n",
       "Cell1996  Group2   Group2  Group1  Group1  Group1\n",
       "Cell1997  Group3   Group3  Group3  Group3  Group3\n",
       "Cell1998     NaN   Group4  Group1  Group1  Group1\n",
       "Cell1999  Group2   Group2  Group2  Group2  Group3\n",
       "Cell2000     NaN   Group1  Group1  Group1  Group1\n",
       "\n",
       "[1000 rows x 5 columns]"
      ]
     },
     "execution_count": 6,
     "metadata": {},
     "output_type": "execute_result"
    }
   ],
   "source": [
    "all_labels"
   ]
  },
  {
   "cell_type": "code",
   "execution_count": 4,
   "metadata": {},
   "outputs": [
    {
     "data": {
      "text/plain": [
       "(999, 500)"
      ]
     },
     "execution_count": 4,
     "metadata": {},
     "output_type": "execute_result"
    }
   ],
   "source": [
    "# read in dataset\n",
    "X = pd.read_csv(data_path, index_col=0)\n",
    "X, keep_cells, rpca = utilities.preprocess(np.array(X), scale=False)\n",
    "X.shape"
   ]
  },
  {
   "cell_type": "code",
   "execution_count": 5,
   "metadata": {},
   "outputs": [],
   "source": [
    "all_labels = all_labels.loc[keep_cells,:]"
   ]
  },
  {
   "cell_type": "code",
   "execution_count": 6,
   "metadata": {},
   "outputs": [
    {
     "data": {
      "text/plain": [
       "['Group1', 'Group2', 'Group3', 'Group4']"
      ]
     },
     "execution_count": 6,
     "metadata": {},
     "output_type": "execute_result"
    }
   ],
   "source": [
    "_,marker_names = utilities.read_marker_file(marker_path)\n",
    "marker_names"
   ]
  },
  {
   "cell_type": "code",
   "execution_count": 52,
   "metadata": {},
   "outputs": [
    {
     "data": {
      "text/plain": [
       "Cell1001    Group2\n",
       "Cell1002    Group2\n",
       "Cell1003    Group4\n",
       "Cell1004    Group4\n",
       "Cell1005    Group1\n",
       "             ...  \n",
       "Cell1996    Group2\n",
       "Cell1997    Group1\n",
       "Cell1998    Group3\n",
       "Cell1999    Group4\n",
       "Cell2000    Group2\n",
       "Name: scsorter, Length: 999, dtype: object"
      ]
     },
     "execution_count": 52,
     "metadata": {},
     "output_type": "execute_result"
    }
   ],
   "source": [
    "all_labels['scsorter']"
   ]
  },
  {
   "cell_type": "code",
   "execution_count": 7,
   "metadata": {},
   "outputs": [
    {
     "data": {
      "text/plain": [
       "array([[0., 5., 0., 0.],\n",
       "       [0., 3., 0., 2.],\n",
       "       [1., 2., 0., 1.],\n",
       "       ...,\n",
       "       [0., 0., 5., 0.],\n",
       "       [0., 1., 0., 3.],\n",
       "       [0., 4., 0., 1.]])"
      ]
     },
     "execution_count": 7,
     "metadata": {},
     "output_type": "execute_result"
    }
   ],
   "source": [
    "all_labels_factored = utilities.factorize_df(all_labels, marker_names)\n",
    "encoded_labels = utilities.encode_predictions(all_labels_factored)\n",
    "encoded_labels"
   ]
  },
  {
   "cell_type": "code",
   "execution_count": 8,
   "metadata": {},
   "outputs": [
    {
     "data": {
      "text/plain": [
       "(999,)"
      ]
     },
     "execution_count": 8,
     "metadata": {},
     "output_type": "execute_result"
    }
   ],
   "source": [
    "meta_path = data_folder + \"query_meta.csv\"\n",
    "metadata = pd.read_csv(meta_path, index_col=0)\n",
    "real_y = pd.factorize(metadata['Group'], sort=True)[0]\n",
    "real_y = real_y[keep_cells]\n",
    "real_y.shape"
   ]
  },
  {
   "cell_type": "code",
   "execution_count": 31,
   "metadata": {},
   "outputs": [
    {
     "data": {
      "text/plain": [
       "232"
      ]
     },
     "execution_count": 31,
     "metadata": {},
     "output_type": "execute_result"
    }
   ],
   "source": [
    "len(real_y[real_y==0])"
   ]
  },
  {
   "cell_type": "code",
   "execution_count": 31,
   "metadata": {},
   "outputs": [
    {
     "name": "stdout",
     "output_type": "stream",
     "text": [
      "0.792792797088623\n",
      "0.8138138055801392\n",
      "0.826826810836792\n",
      "0.8408408164978027\n",
      "0.6026026010513306\n"
     ]
    }
   ],
   "source": [
    "print(utilities.pred_accuracy(all_labels_factored['scina'], real_y))\n",
    "print(utilities.pred_accuracy(all_labels_factored['sctype'], real_y))\n",
    "print(utilities.pred_accuracy(all_labels_factored['scsorter'], real_y))\n",
    "print(utilities.pred_accuracy(all_labels_factored['singler'], real_y))\n",
    "print(utilities.pred_accuracy(all_labels_factored['scpred'], real_y))\n"
   ]
  },
  {
   "cell_type": "code",
   "execution_count": 13,
   "metadata": {},
   "outputs": [
    {
     "name": "stderr",
     "output_type": "stream",
     "text": [
      "/home/users/lewinsda/scSHARP/utilities.py:181: UserWarning: To copy construct from a tensor, it is recommended to use sourceTensor.clone().detach() or sourceTensor.clone().detach().requires_grad_(True), rather than torch.tensor(sourceTensor).\n",
      "  return float((torch.tensor(preds) == torch.tensor(real)).type(torch.FloatTensor).mean().numpy())\n"
     ]
    },
    {
     "data": {
      "text/plain": [
       "0.9150000214576721"
      ]
     },
     "execution_count": 13,
     "metadata": {},
     "output_type": "execute_result"
    }
   ],
   "source": [
    "max_pred = torch.tensor(encoded_labels).max(dim=1)[1]\n",
    "utilities.pred_accuracy(max_pred, real_y)"
   ]
  },
  {
   "cell_type": "code",
   "execution_count": 9,
   "metadata": {},
   "outputs": [
    {
     "data": {
      "text/plain": [
       "(999,)"
      ]
     },
     "execution_count": 9,
     "metadata": {},
     "output_type": "execute_result"
    }
   ],
   "source": [
    "confident_labels = utilities.get_consensus_labels(encoded_labels, necessary_vote = 3)\n",
    "confident_labels.shape"
   ]
  },
  {
   "cell_type": "code",
   "execution_count": 10,
   "metadata": {},
   "outputs": [
    {
     "name": "stdout",
     "output_type": "stream",
     "text": [
      "[-1.  0.  1.  2.  3.]\n",
      "[0. 1. 2. 3.]\n",
      "[-1.]\n"
     ]
    }
   ],
   "source": [
    "train_nodes = np.where(confident_labels != -1)[0]\n",
    "test_nodes = np.where(confident_labels == -1)[0]\n",
    "print(np.unique(confident_labels))\n",
    "print(np.unique(confident_labels[train_nodes]))\n",
    "print(np.unique(confident_labels[test_nodes]))"
   ]
  },
  {
   "cell_type": "code",
   "execution_count": 26,
   "metadata": {},
   "outputs": [
    {
     "data": {
      "text/plain": [
       "array([3, 0, 3, 0, 0, 0, 1, 2, 2, 2, 3, 0, 1, 1, 3, 2, 0, 1, 2, 3, 2, 1,\n",
       "       0, 3, 3, 0, 3, 1, 2, 1, 1, 0, 0, 3, 2, 0, 0, 1, 2, 2, 0, 1, 1, 3,\n",
       "       2, 0, 0, 0, 0, 3, 3, 3, 0, 3, 1, 0, 3, 3, 0, 1, 2, 2, 0, 2, 1, 0,\n",
       "       3, 1, 0, 0, 2, 1, 3, 2, 0, 0, 0, 0, 2, 1, 0, 0, 2, 3, 0, 2, 3, 0,\n",
       "       1, 2, 3, 2, 2, 2, 2, 0, 3, 0, 2, 3, 3, 2, 2, 0, 0, 2, 2, 0, 0, 0,\n",
       "       3, 1, 2, 2, 0, 0, 2, 0])"
      ]
     },
     "execution_count": 26,
     "metadata": {},
     "output_type": "execute_result"
    }
   ],
   "source": [
    "real_y[test_nodes]"
   ]
  },
  {
   "cell_type": "code",
   "execution_count": 16,
   "metadata": {},
   "outputs": [
    {
     "name": "stdout",
     "output_type": "stream",
     "text": [
      "0.9642032384872437\n"
     ]
    }
   ],
   "source": [
    "print(utilities.pred_accuracy(confident_labels[train_nodes], real_y[train_nodes]))"
   ]
  },
  {
   "cell_type": "code",
   "execution_count": 24,
   "metadata": {},
   "outputs": [
    {
     "data": {
      "text/plain": [
       "array([[357,   8,   7,   0],\n",
       "       [  0, 281,   1,   0],\n",
       "       [  1,   0, 187,   0],\n",
       "       [  2,   8,   4,  10]])"
      ]
     },
     "execution_count": 24,
     "metadata": {},
     "output_type": "execute_result"
    }
   ],
   "source": [
    "confusion_matrix(real_y[train_nodes], confident_labels[train_nodes])"
   ]
  },
  {
   "cell_type": "code",
   "execution_count": 17,
   "metadata": {},
   "outputs": [
    {
     "data": {
      "text/plain": [
       "134"
      ]
     },
     "execution_count": 17,
     "metadata": {},
     "output_type": "execute_result"
    }
   ],
   "source": [
    "len(test_nodes)"
   ]
  },
  {
   "cell_type": "code",
   "execution_count": 18,
   "metadata": {},
   "outputs": [
    {
     "name": "stdout",
     "output_type": "stream",
     "text": [
      "0.04477611929178238\n",
      "0.3731343150138855\n",
      "0.5447761416435242\n",
      "0.5149253606796265\n",
      "0.2238806039094925\n",
      "0.5970149040222168\n"
     ]
    }
   ],
   "source": [
    "# tool accuracy on test\n",
    "print(utilities.pred_accuracy(np.array(all_labels_factored['scina'][test_nodes]), real_y[test_nodes]))\n",
    "print(utilities.pred_accuracy(np.array(all_labels_factored['sctype'][test_nodes]), real_y[test_nodes]))\n",
    "print(utilities.pred_accuracy(np.array(all_labels_factored['scsorter'][test_nodes]), real_y[test_nodes]))\n",
    "print(utilities.pred_accuracy(np.array(all_labels_factored['singler'][test_nodes]), real_y[test_nodes]))\n",
    "print(utilities.pred_accuracy(np.array(all_labels_factored['scpred'][test_nodes]), real_y[test_nodes]))\n",
    "max_pred = torch.tensor(encoded_labels).max(dim=1)[1]\n",
    "print(utilities.pred_accuracy(max_pred[test_nodes], real_y[test_nodes]))"
   ]
  },
  {
   "cell_type": "code",
   "execution_count": 11,
   "metadata": {},
   "outputs": [],
   "source": [
    "dataset  = torch.utils.data.TensorDataset(torch.tensor(X), torch.tensor(confident_labels))\n",
    "dataloader = torch.utils.data.DataLoader(dataset, batch_size=50, shuffle=True)\n",
    "\n",
    "test_dataset  = torch.utils.data.TensorDataset(torch.tensor(X), torch.tensor(real_y))\n",
    "test_dataloader = torch.utils.data.DataLoader(test_dataset, batch_size=50, shuffle=False)"
   ]
  },
  {
   "cell_type": "code",
   "execution_count": 12,
   "metadata": {},
   "outputs": [],
   "source": [
    "m = GCNModel(\"configs/2_40.txt\", 2, dropout=0.0)"
   ]
  },
  {
   "cell_type": "code",
   "execution_count": 13,
   "metadata": {},
   "outputs": [
    {
     "name": "stdout",
     "output_type": "stream",
     "text": [
      "Loss in epoch 0 = 26.091087\n",
      "Loss in epoch 10 = 0.068494\n",
      "Loss in epoch 20 = 0.018621\n",
      "Loss in epoch 30 = 0.009583\n",
      "Loss in epoch 40 = 0.004847\n",
      "Loss in epoch 50 = 0.002983\n",
      "Loss in epoch 60 = 0.001810\n",
      "Loss in epoch 70 = 0.001488\n",
      "Loss in epoch 80 = 0.001082\n",
      "Loss in epoch 90 = 0.000860\n",
      "Loss in epoch 100 = 0.000729\n",
      "Loss in epoch 110 = 0.000704\n",
      "Loss in epoch 120 = 0.000470\n",
      "Loss in epoch 130 = 0.000452\n",
      "Loss in epoch 140 = 0.000306\n"
     ]
    }
   ],
   "source": [
    "m.train(dataloader, 150)"
   ]
  },
  {
   "cell_type": "code",
   "execution_count": 14,
   "metadata": {},
   "outputs": [
    {
     "data": {
      "text/plain": [
       "(0.954954981803894,\n",
       " array([[214,  11,   2,   5],\n",
       "        [  0, 265,   2,   1],\n",
       "        [  1,   3, 224,   6],\n",
       "        [  1,   6,   7, 251]]),\n",
       " 0.9722838401794434,\n",
       " array([[172,   7,   2,   1],\n",
       "        [  0, 264,   2,   1],\n",
       "        [  0,   2, 206,   1],\n",
       "        [  0,   3,   6, 235]]),\n",
       " 0.7938144207000732,\n",
       " array([[42,  4,  0,  4],\n",
       "        [ 0,  1,  0,  0],\n",
       "        [ 1,  1, 18,  5],\n",
       "        [ 1,  3,  1, 16]]))"
      ]
     },
     "execution_count": 14,
     "metadata": {},
     "output_type": "execute_result"
    }
   ],
   "source": [
    "m.validation_metrics(test_dataloader, train_nodes, test_nodes)"
   ]
  },
  {
   "cell_type": "code",
   "execution_count": null,
   "metadata": {},
   "outputs": [],
   "source": [
    "# start putting labels back in test"
   ]
  },
  {
   "cell_type": "code",
   "execution_count": 10,
   "metadata": {},
   "outputs": [],
   "source": [
    "data_folders = [\"/home/groups/ConradLab/daniel/sharp_data/sharp_sims/splat_0.7_de_rq_v2/\", \"/home/groups/ConradLab/daniel/sharp_data/sharp_sims/splat_0.8_de_rq_v2/\"]\n",
    "#data_folders = [\"simulations/splat_0.6_de_rq/\", \"simulations/splat_0.7_de_rq/\", \"simulations/splat_0.8_de_rq/\"]\n",
    "#data_folders = [\"/home/groups/ConradLab/daniel/sharp_data/sharp_sims/splat_0.7_de_rq_v2/\"]\n",
    "#data_folders = [\"/home/groups/ConradLab/daniel/sharp_data/sharp_sims/splat_0.7_de_rq_v2/\",\"/home/groups/ConradLab/daniel/sharp_data/sharp_sims/splat_0.8_de_rq_v2/\"]\n",
    "tools = [\"sctype\",\"scsorter\",\"scina\",\"singler\", \"scpred\"]\n",
    "votes_necessary = .51\n",
    "model_file = \"configs/2_40.txt\"\n",
    "neighbors = 2\n",
    "batch_size=50\n",
    "training_epochs=150\n",
    "random_inits = 5"
   ]
  },
  {
   "cell_type": "code",
   "execution_count": 11,
   "metadata": {
    "scrolled": false
   },
   "outputs": [
    {
     "name": "stdout",
     "output_type": "stream",
     "text": [
      "[0.9378757476806641, 0.9298596978187561, 0.9328657388687134, 0.9278557300567627, 0.9308617115020752]\n"
     ]
    },
    {
     "name": "stderr",
     "output_type": "stream",
     "text": [
      "/home/users/lewinsda/scSHARP/utilities.py:184: UserWarning: To copy construct from a tensor, it is recommended to use sourceTensor.clone().detach() or sourceTensor.clone().detach().requires_grad_(True), rather than torch.tensor(sourceTensor).\n",
      "  return float((torch.tensor(preds) == torch.tensor(real)).type(torch.FloatTensor).mean().numpy())\n"
     ]
    },
    {
     "name": "stdout",
     "output_type": "stream",
     "text": [
      "[0.966966986656189, 0.9679679870605469, 0.966966986656189, 0.9639639854431152, 0.965965986251831]\n"
     ]
    },
    {
     "name": "stderr",
     "output_type": "stream",
     "text": [
      "/home/users/lewinsda/scSHARP/utilities.py:184: UserWarning: To copy construct from a tensor, it is recommended to use sourceTensor.clone().detach() or sourceTensor.clone().detach().requires_grad_(True), rather than torch.tensor(sourceTensor).\n",
      "  return float((torch.tensor(preds) == torch.tensor(real)).type(torch.FloatTensor).mean().numpy())\n"
     ]
    }
   ],
   "source": [
    "results = test_model(data_folders, tools, votes_necessary, model_file, neighbors, batch_size, training_epochs, random_inits)"
   ]
  },
  {
   "cell_type": "code",
   "execution_count": 12,
   "metadata": {
    "scrolled": true
   },
   "outputs": [
    {
     "data": {
      "text/html": [
       "<div>\n",
       "<style scoped>\n",
       "    .dataframe tbody tr th:only-of-type {\n",
       "        vertical-align: middle;\n",
       "    }\n",
       "\n",
       "    .dataframe tbody tr th {\n",
       "        vertical-align: top;\n",
       "    }\n",
       "\n",
       "    .dataframe thead th {\n",
       "        text-align: right;\n",
       "    }\n",
       "</style>\n",
       "<table border=\"1\" class=\"dataframe\">\n",
       "  <thead>\n",
       "    <tr style=\"text-align: right;\">\n",
       "      <th></th>\n",
       "      <th>data_name</th>\n",
       "      <th>method</th>\n",
       "      <th>total_accuracy</th>\n",
       "      <th>train_accuracy</th>\n",
       "      <th>test_accuracy</th>\n",
       "      <th>total_sd</th>\n",
       "      <th>train_sd</th>\n",
       "      <th>test_sd</th>\n",
       "    </tr>\n",
       "  </thead>\n",
       "  <tbody>\n",
       "    <tr>\n",
       "      <th>0</th>\n",
       "      <td>splat_0.7_de_rq_v2</td>\n",
       "      <td>GCN</td>\n",
       "      <td>0.931864</td>\n",
       "      <td>0.964194</td>\n",
       "      <td>0.814815</td>\n",
       "      <td>0.003816</td>\n",
       "      <td>0.0</td>\n",
       "      <td>0.017629</td>\n",
       "    </tr>\n",
       "    <tr>\n",
       "      <th>1</th>\n",
       "      <td>splat_0.7_de_rq_v2</td>\n",
       "      <td>Max Col.</td>\n",
       "      <td>0.884770</td>\n",
       "      <td>0.964194</td>\n",
       "      <td>0.597222</td>\n",
       "      <td>0.000000</td>\n",
       "      <td>0.0</td>\n",
       "      <td>0.000000</td>\n",
       "    </tr>\n",
       "    <tr>\n",
       "      <th>2</th>\n",
       "      <td>splat_0.7_de_rq_v2</td>\n",
       "      <td>Confident Labels</td>\n",
       "      <td>NaN</td>\n",
       "      <td>0.964194</td>\n",
       "      <td>NaN</td>\n",
       "      <td>0.000000</td>\n",
       "      <td>0.0</td>\n",
       "      <td>0.000000</td>\n",
       "    </tr>\n",
       "    <tr>\n",
       "      <th>3</th>\n",
       "      <td>splat_0.7_de_rq_v2</td>\n",
       "      <td>sctype</td>\n",
       "      <td>0.536072</td>\n",
       "      <td>0.643223</td>\n",
       "      <td>0.148148</td>\n",
       "      <td>0.000000</td>\n",
       "      <td>0.0</td>\n",
       "      <td>0.000000</td>\n",
       "    </tr>\n",
       "    <tr>\n",
       "      <th>4</th>\n",
       "      <td>splat_0.7_de_rq_v2</td>\n",
       "      <td>scsorter</td>\n",
       "      <td>0.789579</td>\n",
       "      <td>0.901534</td>\n",
       "      <td>0.384259</td>\n",
       "      <td>0.000000</td>\n",
       "      <td>0.0</td>\n",
       "      <td>0.000000</td>\n",
       "    </tr>\n",
       "    <tr>\n",
       "      <th>5</th>\n",
       "      <td>splat_0.7_de_rq_v2</td>\n",
       "      <td>scina</td>\n",
       "      <td>0.392786</td>\n",
       "      <td>0.485934</td>\n",
       "      <td>0.055556</td>\n",
       "      <td>0.000000</td>\n",
       "      <td>0.0</td>\n",
       "      <td>0.000000</td>\n",
       "    </tr>\n",
       "    <tr>\n",
       "      <th>6</th>\n",
       "      <td>splat_0.7_de_rq_v2</td>\n",
       "      <td>singler</td>\n",
       "      <td>0.915832</td>\n",
       "      <td>0.948849</td>\n",
       "      <td>0.796296</td>\n",
       "      <td>0.000000</td>\n",
       "      <td>0.0</td>\n",
       "      <td>0.000000</td>\n",
       "    </tr>\n",
       "    <tr>\n",
       "      <th>7</th>\n",
       "      <td>splat_0.7_de_rq_v2</td>\n",
       "      <td>scpred</td>\n",
       "      <td>0.616232</td>\n",
       "      <td>0.696931</td>\n",
       "      <td>0.324074</td>\n",
       "      <td>0.000000</td>\n",
       "      <td>0.0</td>\n",
       "      <td>0.000000</td>\n",
       "    </tr>\n",
       "    <tr>\n",
       "      <th>0</th>\n",
       "      <td>splat_0.8_de_rq_v2</td>\n",
       "      <td>GCN</td>\n",
       "      <td>0.966366</td>\n",
       "      <td>0.978747</td>\n",
       "      <td>0.860952</td>\n",
       "      <td>0.001518</td>\n",
       "      <td>0.0</td>\n",
       "      <td>0.014444</td>\n",
       "    </tr>\n",
       "    <tr>\n",
       "      <th>1</th>\n",
       "      <td>splat_0.8_de_rq_v2</td>\n",
       "      <td>Max Col.</td>\n",
       "      <td>0.939940</td>\n",
       "      <td>0.978747</td>\n",
       "      <td>0.609524</td>\n",
       "      <td>0.000000</td>\n",
       "      <td>0.0</td>\n",
       "      <td>0.000000</td>\n",
       "    </tr>\n",
       "    <tr>\n",
       "      <th>2</th>\n",
       "      <td>splat_0.8_de_rq_v2</td>\n",
       "      <td>Confident Labels</td>\n",
       "      <td>NaN</td>\n",
       "      <td>0.978747</td>\n",
       "      <td>NaN</td>\n",
       "      <td>0.000000</td>\n",
       "      <td>0.0</td>\n",
       "      <td>0.000000</td>\n",
       "    </tr>\n",
       "    <tr>\n",
       "      <th>3</th>\n",
       "      <td>splat_0.8_de_rq_v2</td>\n",
       "      <td>sctype</td>\n",
       "      <td>0.700701</td>\n",
       "      <td>0.762864</td>\n",
       "      <td>0.171429</td>\n",
       "      <td>0.000000</td>\n",
       "      <td>0.0</td>\n",
       "      <td>0.000000</td>\n",
       "    </tr>\n",
       "    <tr>\n",
       "      <th>4</th>\n",
       "      <td>splat_0.8_de_rq_v2</td>\n",
       "      <td>scsorter</td>\n",
       "      <td>0.884885</td>\n",
       "      <td>0.935123</td>\n",
       "      <td>0.457143</td>\n",
       "      <td>0.000000</td>\n",
       "      <td>0.0</td>\n",
       "      <td>0.000000</td>\n",
       "    </tr>\n",
       "    <tr>\n",
       "      <th>5</th>\n",
       "      <td>splat_0.8_de_rq_v2</td>\n",
       "      <td>scina</td>\n",
       "      <td>0.454454</td>\n",
       "      <td>0.507830</td>\n",
       "      <td>0.000000</td>\n",
       "      <td>0.000000</td>\n",
       "      <td>0.0</td>\n",
       "      <td>0.000000</td>\n",
       "    </tr>\n",
       "    <tr>\n",
       "      <th>6</th>\n",
       "      <td>splat_0.8_de_rq_v2</td>\n",
       "      <td>singler</td>\n",
       "      <td>0.966967</td>\n",
       "      <td>0.973154</td>\n",
       "      <td>0.914286</td>\n",
       "      <td>0.000000</td>\n",
       "      <td>0.0</td>\n",
       "      <td>0.000000</td>\n",
       "    </tr>\n",
       "    <tr>\n",
       "      <th>7</th>\n",
       "      <td>splat_0.8_de_rq_v2</td>\n",
       "      <td>scpred</td>\n",
       "      <td>0.698699</td>\n",
       "      <td>0.752796</td>\n",
       "      <td>0.238095</td>\n",
       "      <td>0.000000</td>\n",
       "      <td>0.0</td>\n",
       "      <td>0.000000</td>\n",
       "    </tr>\n",
       "  </tbody>\n",
       "</table>\n",
       "</div>"
      ],
      "text/plain": [
       "            data_name            method  total_accuracy  train_accuracy  \\\n",
       "0  splat_0.7_de_rq_v2               GCN        0.931864        0.964194   \n",
       "1  splat_0.7_de_rq_v2          Max Col.        0.884770        0.964194   \n",
       "2  splat_0.7_de_rq_v2  Confident Labels             NaN        0.964194   \n",
       "3  splat_0.7_de_rq_v2            sctype        0.536072        0.643223   \n",
       "4  splat_0.7_de_rq_v2          scsorter        0.789579        0.901534   \n",
       "5  splat_0.7_de_rq_v2             scina        0.392786        0.485934   \n",
       "6  splat_0.7_de_rq_v2           singler        0.915832        0.948849   \n",
       "7  splat_0.7_de_rq_v2            scpred        0.616232        0.696931   \n",
       "0  splat_0.8_de_rq_v2               GCN        0.966366        0.978747   \n",
       "1  splat_0.8_de_rq_v2          Max Col.        0.939940        0.978747   \n",
       "2  splat_0.8_de_rq_v2  Confident Labels             NaN        0.978747   \n",
       "3  splat_0.8_de_rq_v2            sctype        0.700701        0.762864   \n",
       "4  splat_0.8_de_rq_v2          scsorter        0.884885        0.935123   \n",
       "5  splat_0.8_de_rq_v2             scina        0.454454        0.507830   \n",
       "6  splat_0.8_de_rq_v2           singler        0.966967        0.973154   \n",
       "7  splat_0.8_de_rq_v2            scpred        0.698699        0.752796   \n",
       "\n",
       "   test_accuracy  total_sd  train_sd   test_sd  \n",
       "0       0.814815  0.003816       0.0  0.017629  \n",
       "1       0.597222  0.000000       0.0  0.000000  \n",
       "2            NaN  0.000000       0.0  0.000000  \n",
       "3       0.148148  0.000000       0.0  0.000000  \n",
       "4       0.384259  0.000000       0.0  0.000000  \n",
       "5       0.055556  0.000000       0.0  0.000000  \n",
       "6       0.796296  0.000000       0.0  0.000000  \n",
       "7       0.324074  0.000000       0.0  0.000000  \n",
       "0       0.860952  0.001518       0.0  0.014444  \n",
       "1       0.609524  0.000000       0.0  0.000000  \n",
       "2            NaN  0.000000       0.0  0.000000  \n",
       "3       0.171429  0.000000       0.0  0.000000  \n",
       "4       0.457143  0.000000       0.0  0.000000  \n",
       "5       0.000000  0.000000       0.0  0.000000  \n",
       "6       0.914286  0.000000       0.0  0.000000  \n",
       "7       0.238095  0.000000       0.0  0.000000  "
      ]
     },
     "execution_count": 12,
     "metadata": {},
     "output_type": "execute_result"
    }
   ],
   "source": [
    "# results from no feed forward or gcn labels\n",
    "results"
   ]
  },
  {
   "cell_type": "code",
   "execution_count": 8,
   "metadata": {},
   "outputs": [
    {
     "data": {
      "text/html": [
       "<div>\n",
       "<style scoped>\n",
       "    .dataframe tbody tr th:only-of-type {\n",
       "        vertical-align: middle;\n",
       "    }\n",
       "\n",
       "    .dataframe tbody tr th {\n",
       "        vertical-align: top;\n",
       "    }\n",
       "\n",
       "    .dataframe thead th {\n",
       "        text-align: right;\n",
       "    }\n",
       "</style>\n",
       "<table border=\"1\" class=\"dataframe\">\n",
       "  <thead>\n",
       "    <tr style=\"text-align: right;\">\n",
       "      <th></th>\n",
       "      <th>data_name</th>\n",
       "      <th>method</th>\n",
       "      <th>total_accuracy</th>\n",
       "      <th>train_accuracy</th>\n",
       "      <th>test_accuracy</th>\n",
       "      <th>total_sd</th>\n",
       "      <th>train_sd</th>\n",
       "      <th>test_sd</th>\n",
       "    </tr>\n",
       "  </thead>\n",
       "  <tbody>\n",
       "    <tr>\n",
       "      <th>0</th>\n",
       "      <td>splat_0.7_de_rq</td>\n",
       "      <td>GCN</td>\n",
       "      <td>0.955556</td>\n",
       "      <td>0.970460</td>\n",
       "      <td>0.795294</td>\n",
       "      <td>0.002796</td>\n",
       "      <td>0.0</td>\n",
       "      <td>0.032857</td>\n",
       "    </tr>\n",
       "    <tr>\n",
       "      <th>1</th>\n",
       "      <td>splat_0.7_de_rq</td>\n",
       "      <td>Max Col.</td>\n",
       "      <td>0.930931</td>\n",
       "      <td>0.970460</td>\n",
       "      <td>0.505882</td>\n",
       "      <td>0.000000</td>\n",
       "      <td>0.0</td>\n",
       "      <td>0.000000</td>\n",
       "    </tr>\n",
       "    <tr>\n",
       "      <th>2</th>\n",
       "      <td>splat_0.7_de_rq</td>\n",
       "      <td>Confident Labels</td>\n",
       "      <td>NaN</td>\n",
       "      <td>0.970460</td>\n",
       "      <td>NaN</td>\n",
       "      <td>0.000000</td>\n",
       "      <td>0.0</td>\n",
       "      <td>0.000000</td>\n",
       "    </tr>\n",
       "    <tr>\n",
       "      <th>3</th>\n",
       "      <td>splat_0.7_de_rq</td>\n",
       "      <td>sctype</td>\n",
       "      <td>0.813814</td>\n",
       "      <td>0.844639</td>\n",
       "      <td>0.482353</td>\n",
       "      <td>0.000000</td>\n",
       "      <td>0.0</td>\n",
       "      <td>0.000000</td>\n",
       "    </tr>\n",
       "    <tr>\n",
       "      <th>4</th>\n",
       "      <td>splat_0.7_de_rq</td>\n",
       "      <td>scsorter</td>\n",
       "      <td>0.826827</td>\n",
       "      <td>0.873085</td>\n",
       "      <td>0.329412</td>\n",
       "      <td>0.000000</td>\n",
       "      <td>0.0</td>\n",
       "      <td>0.000000</td>\n",
       "    </tr>\n",
       "    <tr>\n",
       "      <th>5</th>\n",
       "      <td>splat_0.7_de_rq</td>\n",
       "      <td>scina</td>\n",
       "      <td>0.792793</td>\n",
       "      <td>0.843545</td>\n",
       "      <td>0.247059</td>\n",
       "      <td>0.000000</td>\n",
       "      <td>0.0</td>\n",
       "      <td>0.000000</td>\n",
       "    </tr>\n",
       "    <tr>\n",
       "      <th>6</th>\n",
       "      <td>splat_0.7_de_rq</td>\n",
       "      <td>singler</td>\n",
       "      <td>0.840841</td>\n",
       "      <td>0.876368</td>\n",
       "      <td>0.458824</td>\n",
       "      <td>0.000000</td>\n",
       "      <td>0.0</td>\n",
       "      <td>0.000000</td>\n",
       "    </tr>\n",
       "    <tr>\n",
       "      <th>7</th>\n",
       "      <td>splat_0.7_de_rq</td>\n",
       "      <td>scpred</td>\n",
       "      <td>0.638639</td>\n",
       "      <td>0.676149</td>\n",
       "      <td>0.235294</td>\n",
       "      <td>0.000000</td>\n",
       "      <td>0.0</td>\n",
       "      <td>0.000000</td>\n",
       "    </tr>\n",
       "    <tr>\n",
       "      <th>0</th>\n",
       "      <td>splat_0.8_de_rq</td>\n",
       "      <td>GCN</td>\n",
       "      <td>0.986186</td>\n",
       "      <td>0.990712</td>\n",
       "      <td>0.840000</td>\n",
       "      <td>0.002390</td>\n",
       "      <td>0.0</td>\n",
       "      <td>0.079582</td>\n",
       "    </tr>\n",
       "    <tr>\n",
       "      <th>1</th>\n",
       "      <td>splat_0.8_de_rq</td>\n",
       "      <td>Max Col.</td>\n",
       "      <td>0.973974</td>\n",
       "      <td>0.990712</td>\n",
       "      <td>0.433333</td>\n",
       "      <td>0.000000</td>\n",
       "      <td>0.0</td>\n",
       "      <td>0.000000</td>\n",
       "    </tr>\n",
       "    <tr>\n",
       "      <th>2</th>\n",
       "      <td>splat_0.8_de_rq</td>\n",
       "      <td>Confident Labels</td>\n",
       "      <td>NaN</td>\n",
       "      <td>0.990712</td>\n",
       "      <td>NaN</td>\n",
       "      <td>0.000000</td>\n",
       "      <td>0.0</td>\n",
       "      <td>0.000000</td>\n",
       "    </tr>\n",
       "    <tr>\n",
       "      <th>3</th>\n",
       "      <td>splat_0.8_de_rq</td>\n",
       "      <td>sctype</td>\n",
       "      <td>0.922923</td>\n",
       "      <td>0.933953</td>\n",
       "      <td>0.566667</td>\n",
       "      <td>0.000000</td>\n",
       "      <td>0.0</td>\n",
       "      <td>0.000000</td>\n",
       "    </tr>\n",
       "    <tr>\n",
       "      <th>4</th>\n",
       "      <td>splat_0.8_de_rq</td>\n",
       "      <td>scsorter</td>\n",
       "      <td>0.906907</td>\n",
       "      <td>0.923633</td>\n",
       "      <td>0.366667</td>\n",
       "      <td>0.000000</td>\n",
       "      <td>0.0</td>\n",
       "      <td>0.000000</td>\n",
       "    </tr>\n",
       "    <tr>\n",
       "      <th>5</th>\n",
       "      <td>splat_0.8_de_rq</td>\n",
       "      <td>scina</td>\n",
       "      <td>0.854855</td>\n",
       "      <td>0.879257</td>\n",
       "      <td>0.066667</td>\n",
       "      <td>0.000000</td>\n",
       "      <td>0.0</td>\n",
       "      <td>0.000000</td>\n",
       "    </tr>\n",
       "    <tr>\n",
       "      <th>6</th>\n",
       "      <td>splat_0.8_de_rq</td>\n",
       "      <td>singler</td>\n",
       "      <td>0.870871</td>\n",
       "      <td>0.887513</td>\n",
       "      <td>0.333333</td>\n",
       "      <td>0.000000</td>\n",
       "      <td>0.0</td>\n",
       "      <td>0.000000</td>\n",
       "    </tr>\n",
       "    <tr>\n",
       "      <th>7</th>\n",
       "      <td>splat_0.8_de_rq</td>\n",
       "      <td>scpred</td>\n",
       "      <td>0.769770</td>\n",
       "      <td>0.785346</td>\n",
       "      <td>0.266667</td>\n",
       "      <td>0.000000</td>\n",
       "      <td>0.0</td>\n",
       "      <td>0.000000</td>\n",
       "    </tr>\n",
       "  </tbody>\n",
       "</table>\n",
       "</div>"
      ],
      "text/plain": [
       "         data_name            method  total_accuracy  train_accuracy  \\\n",
       "0  splat_0.7_de_rq               GCN        0.955556        0.970460   \n",
       "1  splat_0.7_de_rq          Max Col.        0.930931        0.970460   \n",
       "2  splat_0.7_de_rq  Confident Labels             NaN        0.970460   \n",
       "3  splat_0.7_de_rq            sctype        0.813814        0.844639   \n",
       "4  splat_0.7_de_rq          scsorter        0.826827        0.873085   \n",
       "5  splat_0.7_de_rq             scina        0.792793        0.843545   \n",
       "6  splat_0.7_de_rq           singler        0.840841        0.876368   \n",
       "7  splat_0.7_de_rq            scpred        0.638639        0.676149   \n",
       "0  splat_0.8_de_rq               GCN        0.986186        0.990712   \n",
       "1  splat_0.8_de_rq          Max Col.        0.973974        0.990712   \n",
       "2  splat_0.8_de_rq  Confident Labels             NaN        0.990712   \n",
       "3  splat_0.8_de_rq            sctype        0.922923        0.933953   \n",
       "4  splat_0.8_de_rq          scsorter        0.906907        0.923633   \n",
       "5  splat_0.8_de_rq             scina        0.854855        0.879257   \n",
       "6  splat_0.8_de_rq           singler        0.870871        0.887513   \n",
       "7  splat_0.8_de_rq            scpred        0.769770        0.785346   \n",
       "\n",
       "   test_accuracy  total_sd  train_sd   test_sd  \n",
       "0       0.795294  0.002796       0.0  0.032857  \n",
       "1       0.505882  0.000000       0.0  0.000000  \n",
       "2            NaN  0.000000       0.0  0.000000  \n",
       "3       0.482353  0.000000       0.0  0.000000  \n",
       "4       0.329412  0.000000       0.0  0.000000  \n",
       "5       0.247059  0.000000       0.0  0.000000  \n",
       "6       0.458824  0.000000       0.0  0.000000  \n",
       "7       0.235294  0.000000       0.0  0.000000  \n",
       "0       0.840000  0.002390       0.0  0.079582  \n",
       "1       0.433333  0.000000       0.0  0.000000  \n",
       "2            NaN  0.000000       0.0  0.000000  \n",
       "3       0.566667  0.000000       0.0  0.000000  \n",
       "4       0.366667  0.000000       0.0  0.000000  \n",
       "5       0.066667  0.000000       0.0  0.000000  \n",
       "6       0.333333  0.000000       0.0  0.000000  \n",
       "7       0.266667  0.000000       0.0  0.000000  "
      ]
     },
     "execution_count": 8,
     "metadata": {},
     "output_type": "execute_result"
    }
   ],
   "source": [
    "results"
   ]
  },
  {
   "cell_type": "code",
   "execution_count": 30,
   "metadata": {},
   "outputs": [
    {
     "data": {
      "text/plain": [
       "Text(0.5, 1.0, 'Test Accuracy by Method')"
      ]
     },
     "execution_count": 30,
     "metadata": {},
     "output_type": "execute_result"
    },
    {
     "data": {
      "image/png": "[encoded data removed]",
      "text/plain": [
       "<Figure size 432x288 with 1 Axes>"
      ]
     },
     "metadata": {
      "needs_background": "light"
     },
     "output_type": "display_data"
    }
   ],
   "source": [
    "to_plot = results.loc[results['method']!=\"Confident Labels\",:]\n",
    "fig, ax = plt.subplots()\n",
    "ax.bar(to_plot['method'],  to_plot['test_accuracy'], yerr= to_plot['test_sd'], align='center')\n",
    "ax.set_xlabel(\"Tool\")\n",
    "ax.set_ylabel(\"Accuracy on Unconfident Nodes\")\n",
    "ax.set_title(\"Test Accuracy by Method\")"
   ]
  },
  {
   "cell_type": "code",
   "execution_count": 31,
   "metadata": {},
   "outputs": [
    {
     "data": {
      "text/plain": [
       "Text(0.5, 1.0, 'Total Accuracy by Method')"
      ]
     },
     "execution_count": 31,
     "metadata": {},
     "output_type": "execute_result"
    },
    {
     "data": {
      "image/png": "[encoded data removed]",
      "text/plain": [
       "<Figure size 432x288 with 1 Axes>"
      ]
     },
     "metadata": {
      "needs_background": "light"
     },
     "output_type": "display_data"
    }
   ],
   "source": [
    "fig, ax = plt.subplots()\n",
    "ax.bar(to_plot['method'],  to_plot['total_accuracy'], yerr= to_plot['total_sd'], align='center')\n",
    "ax.set_xlabel(\"Tool\")\n",
    "ax.set_ylabel(\"Accuracy on All Nodes\")\n",
    "ax.set_title(\"Total Accuracy by Method\")"
   ]
  },
  {
   "cell_type": "code",
   "execution_count": 6,
   "metadata": {},
   "outputs": [
    {
     "name": "stdout",
     "output_type": "stream",
     "text": [
      "(1000, 500)\n",
      "0.6011204719543457\n",
      "0.026691604570561273\n",
      "(999, 500)\n",
      "0.848888885974884\n",
      "0.023040499079638933\n",
      "(999, 500)\n",
      "0.7612903237342834\n",
      "0.02885248584038609\n"
     ]
    }
   ],
   "source": [
    "# test putting labels back in\n",
    "random_inits = 5\n",
    "data_folders = [\"/home/groups/ConradLab/daniel/sharp_data/sharp_sims/splat_0.6_de_rq/\", \"/home/groups/ConradLab/daniel/sharp_data/sharp_sims/splat_0.7_de_rq/\", \"/home/groups/ConradLab/daniel/sharp_data/sharp_sims/splat_0.8_de_rq/\"]\n",
    "for data_folder in data_folders:\n",
    "    data_path = data_folder + \"query_counts.csv\"\n",
    "    X = pd.read_csv(data_path, index_col=0)\n",
    "    X, keep_cells = utilities.preprocess(np.array(X), scale=False)\n",
    "    print(X.shape)\n",
    "    marker_path = data_folder + \"markers.txt\"\n",
    "    _,marker_names = utilities.read_marker_file(marker_path)\n",
    "    \n",
    "    meta_path = data_folder + \"query_meta.csv\"\n",
    "    metadata = pd.read_csv(meta_path, index_col=0)\n",
    "    real_y = pd.factorize(metadata['Group'], sort=True)[0]\n",
    "    real_y = real_y[keep_cells]\n",
    "    real_y.shape\n",
    "    \n",
    "    test_accuracy = [0]*random_inits\n",
    "    for i in range(random_inits):\n",
    "        tools = [\"sctype\",\"scsorter\",\"scina\",\"singler\", \"scpred\"]\n",
    "        #tools = [\"scsorter\",\"scina\",\"singler\"]\n",
    "        ref_path = data_folder + \"ref_counts.csv\"\n",
    "        ref_label_path = data_folder + \"ref_labels.csv\"\n",
    "        \n",
    "        if os.path.exists(data_folder + \"preds.csv\"):\n",
    "            all_labels = pd.read_csv(data_folder + \"preds.csv\", index_col=0)\n",
    "            if all_labels.shape[1] != len(tools): \n",
    "                all_labels = all_labels[tools]\n",
    "                #raise Exception(\"wrong amount of tools in file\")\n",
    "        else:\n",
    "            all_labels = utilities.label_counts(data_path,tools,ref_path,ref_label_path,marker_path)\n",
    "\n",
    "        all_labels = all_labels.loc[keep_cells,:]\n",
    "        all_labels_factored = utilities.factorize_df(all_labels, marker_names)\n",
    "        encoded_labels = utilities.encode_predictions(all_labels_factored)\n",
    "        confident_labels = utilities.get_consensus_labels(encoded_labels, necessary_vote = 3)\n",
    "        train_nodes = np.where(confident_labels != -1)[0]\n",
    "        original_test_nodes = np.where(confident_labels == -1)[0]\n",
    "\n",
    "        dataset  = torch.utils.data.TensorDataset(torch.tensor(X), torch.tensor(confident_labels))\n",
    "        dataloader = torch.utils.data.DataLoader(dataset, batch_size=20, shuffle=True)\n",
    "\n",
    "        test_dataset  = torch.utils.data.TensorDataset(torch.tensor(X), torch.tensor(real_y))\n",
    "        test_dataloader = torch.utils.data.DataLoader(test_dataset, batch_size=20, shuffle=False)\n",
    "        \n",
    "        m = GCNModel(\"configs/2_25.txt\", 2, dropout=0.0)\n",
    "        m.train(dataloader, 150, verbose = False)\n",
    "        \n",
    "        new_labels, _ = m.predict(test_dataloader)\n",
    "        new_labels = new_labels.max(dim=1)[1]\n",
    "        \n",
    "        #print(len(original_test_nodes))\n",
    "        for j in range(1,5):\n",
    "            col_name = \"gcn\" + str(j)\n",
    "            all_labels_factored[col_name] = new_labels.cpu()\n",
    "            encoded_labels = utilities.encode_predictions(all_labels_factored)\n",
    "            confident_labels = utilities.get_consensus_labels(encoded_labels, necessary_vote = 3)\n",
    "            train_nodes = np.where(confident_labels != -1)[0]\n",
    "            test_nodes = np.where(confident_labels == -1)[0]\n",
    "\n",
    "            dataset  = torch.utils.data.TensorDataset(torch.tensor(X), torch.tensor(confident_labels))\n",
    "            dataloader = torch.utils.data.DataLoader(dataset, batch_size=20, shuffle=True)\n",
    "\n",
    "            test_dataset  = torch.utils.data.TensorDataset(torch.tensor(X), torch.tensor(real_y))\n",
    "            test_dataloader = torch.utils.data.DataLoader(test_dataset, batch_size=20, shuffle=False)\n",
    "\n",
    "            #print(len(test_nodes))\n",
    "\n",
    "            #m = GCNModel(\"configs/2_15.txt\", 2, dropout=0.0)\n",
    "            m.train(dataloader, 50, verbose=False)\n",
    "            #print(m.validation_metrics(test_dataloader, train_nodes, test_nodes))\n",
    "\n",
    "            new_labels, _ = m.predict(test_dataloader)\n",
    "            new_labels = new_labels.max(dim=1)[1]\n",
    "            \n",
    "        _,_,_,_,accuracy,_ = m.validation_metrics(test_dataloader, train_nodes, original_test_nodes)\n",
    "        test_accuracy[i] = accuracy\n",
    "    print(statistics.mean(test_accuracy))\n",
    "    print(statistics.stdev(test_accuracy))"
   ]
  },
  {
   "cell_type": "code",
   "execution_count": 7,
   "metadata": {},
   "outputs": [
    {
     "name": "stdout",
     "output_type": "stream",
     "text": [
      "(1000, 500)\n",
      "0.6302521228790283\n",
      "0.014005601406097412\n",
      "(999, 500)\n",
      "0.8814814885457357\n",
      "0.03394500312454106\n",
      "(999, 500)\n",
      "0.8387096722920736\n",
      "0.08534682520664126\n"
     ]
    }
   ],
   "source": [
    "# test putting labels back in new model each time\n",
    "random_inits = 3\n",
    "data_folders = [\"/home/groups/ConradLab/daniel/sharp_data/sharp_sims/splat_0.6_de_rq/\", \"/home/groups/ConradLab/daniel/sharp_data/sharp_sims/splat_0.7_de_rq/\", \"/home/groups/ConradLab/daniel/sharp_data/sharp_sims/splat_0.8_de_rq/\"]\n",
    "for data_folder in data_folders:\n",
    "    data_path = data_folder + \"query_counts.csv\"\n",
    "    X = pd.read_csv(data_path, index_col=0)\n",
    "    X, keep_cells = utilities.preprocess(np.array(X), scale=False)\n",
    "    print(X.shape)\n",
    "    marker_path = data_folder + \"markers.txt\"\n",
    "    _,marker_names = utilities.read_marker_file(marker_path)\n",
    "    \n",
    "    meta_path = data_folder + \"query_meta.csv\"\n",
    "    metadata = pd.read_csv(meta_path, index_col=0)\n",
    "    real_y = pd.factorize(metadata['Group'], sort=True)[0]\n",
    "    real_y = real_y[keep_cells]\n",
    "    real_y.shape\n",
    "    \n",
    "    test_accuracy = [0]*random_inits\n",
    "    for i in range(random_inits):\n",
    "        tools = [\"sctype\",\"scsorter\",\"scina\",\"singler\", \"scpred\"]\n",
    "        #tools = [\"scsorter\",\"scina\",\"singler\"]\n",
    "        ref_path = data_folder + \"ref_counts.csv\"\n",
    "        ref_label_path = data_folder + \"ref_labels.csv\"\n",
    "        \n",
    "        if os.path.exists(data_folder + \"preds.csv\"):\n",
    "            all_labels = pd.read_csv(data_folder + \"preds.csv\", index_col=0)\n",
    "            if all_labels.shape[1] != len(tools): \n",
    "                all_labels = all_labels[tools]\n",
    "                #raise Exception(\"wrong amount of tools in file\")\n",
    "        else:\n",
    "            all_labels = utilities.label_counts(data_path,tools,ref_path,ref_label_path,marker_path)\n",
    "\n",
    "        all_labels = all_labels.loc[keep_cells,:]\n",
    "        all_labels_factored = utilities.factorize_df(all_labels, marker_names)\n",
    "        encoded_labels = utilities.encode_predictions(all_labels_factored)\n",
    "        confident_labels = utilities.get_consensus_labels(encoded_labels, necessary_vote = 3)\n",
    "        train_nodes = np.where(confident_labels != -1)[0]\n",
    "        original_test_nodes = np.where(confident_labels == -1)[0]\n",
    "\n",
    "        dataset  = torch.utils.data.TensorDataset(torch.tensor(X), torch.tensor(confident_labels))\n",
    "        dataloader = torch.utils.data.DataLoader(dataset, batch_size=20, shuffle=True)\n",
    "\n",
    "        test_dataset  = torch.utils.data.TensorDataset(torch.tensor(X), torch.tensor(real_y))\n",
    "        test_dataloader = torch.utils.data.DataLoader(test_dataset, batch_size=20, shuffle=False)\n",
    "        \n",
    "        m = GCNModel(\"configs/2_25.txt\", 2, dropout=0.0)\n",
    "        m.train(dataloader, 150, verbose = False)\n",
    "        \n",
    "        new_labels, _ = m.predict(test_dataloader)\n",
    "        new_labels = new_labels.max(dim=1)[1]\n",
    "        \n",
    "        #print(len(original_test_nodes))\n",
    "        for j in range(1,5):\n",
    "            col_name = \"gcn\" + str(j)\n",
    "            all_labels_factored[col_name] = new_labels.cpu()\n",
    "            encoded_labels = utilities.encode_predictions(all_labels_factored)\n",
    "            confident_labels = utilities.get_consensus_labels(encoded_labels, necessary_vote = 3)\n",
    "            train_nodes = np.where(confident_labels != -1)[0]\n",
    "            test_nodes = np.where(confident_labels == -1)[0]\n",
    "\n",
    "            dataset  = torch.utils.data.TensorDataset(torch.tensor(X), torch.tensor(confident_labels))\n",
    "            dataloader = torch.utils.data.DataLoader(dataset, batch_size=20, shuffle=True)\n",
    "\n",
    "            test_dataset  = torch.utils.data.TensorDataset(torch.tensor(X), torch.tensor(real_y))\n",
    "            test_dataloader = torch.utils.data.DataLoader(test_dataset, batch_size=20, shuffle=False)\n",
    "\n",
    "            #print(len(test_nodes))\n",
    "\n",
    "            m = GCNModel(\"configs/2_25.txt\", 2, dropout=0.0)\n",
    "            m.train(dataloader, 150, verbose=False)\n",
    "            #print(m.validation_metrics(test_dataloader, train_nodes, test_nodes))\n",
    "\n",
    "            new_labels, _ = m.predict(test_dataloader)\n",
    "            new_labels = new_labels.max(dim=1)[1]\n",
    "            \n",
    "        _,_,_,_,accuracy,_ = m.validation_metrics(test_dataloader, train_nodes, original_test_nodes)\n",
    "        test_accuracy[i] = accuracy\n",
    "    print(statistics.mean(test_accuracy))\n",
    "    print(statistics.stdev(test_accuracy))"
   ]
  }
 ],
 "metadata": {
  "kernelspec": {
   "display_name": "Python 3.9.7 ('thesis')",
   "language": "python",
   "name": "python3"
  },
  "language_info": {
   "codemirror_mode": {
    "name": "ipython",
    "version": 3
   },
   "file_extension": ".py",
   "mimetype": "text/x-python",
   "name": "python",
   "nbconvert_exporter": "python",
   "pygments_lexer": "ipython3",
   "version": "3.9.7"
  },
  "vscode": {
   "interpreter": {
    "hash": "9e461d02738fd757bc3d2933f9434d370f54d79aa7bbf71ca755487c9a10e111"
   }
  }
 },
 "nbformat": 4,
 "nbformat_minor": 2
}
