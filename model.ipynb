{
 "cells": [
  {
   "cell_type": "code",
   "execution_count": 1,
   "metadata": {},
   "outputs": [],
   "source": [
    "import numpy as np\n",
    "import pandas as pd\n",
    "import torch\n",
    "from gcn_model import GCNModel\n",
    "import utilities\n",
    "from test_model import test_model\n",
    "import os"
   ]
  },
  {
   "cell_type": "code",
   "execution_count": 2,
   "metadata": {},
   "outputs": [],
   "source": [
    "#data_folder = \"/home/groups/ConradLab/daniel/sharp_sims/splat_0.5_de_rq/\"\n",
    "data_folder = \"simulations/splat_0.7_de_rq/\""
   ]
  },
  {
   "cell_type": "code",
   "execution_count": 3,
   "metadata": {},
   "outputs": [
    {
     "data": {
      "text/plain": [
       "True"
      ]
     },
     "execution_count": 3,
     "metadata": {},
     "output_type": "execute_result"
    }
   ],
   "source": [
    "os.path.exists(data_folder + \"preds.csv\")"
   ]
  },
  {
   "cell_type": "code",
   "execution_count": 3,
   "metadata": {},
   "outputs": [],
   "source": [
    "# get labels\n",
    "data_path = data_folder + \"query_counts.csv\"\n",
    "tools = [\"sctype\",\"scsorter\",\"scina\",\"singler\", \"scpred\"]\n",
    "#tools = [\"scsorter\",\"scina\",\"singler\"]\n",
    "ref_path = data_folder + \"ref_counts.csv\"\n",
    "ref_label_path = data_folder + \"ref_labels.csv\"\n",
    "marker_path = data_folder + \"markers.txt\"\n",
    "if os.path.exists(data_folder + \"preds.csv\"):\n",
    "    all_labels = pd.read_csv(data_folder + \"preds.csv\", index_col=0)\n",
    "    if all_labels.shape[1] != len(tools): \n",
    "        all_labels = all_labels[tools]\n",
    "        #raise Exception(\"wrong amount of tools in file\")\n",
    "else:\n",
    "    all_labels = utilities.label_counts(data_path,tools,ref_path,ref_label_path,marker_path)"
   ]
  },
  {
   "cell_type": "code",
   "execution_count": 43,
   "metadata": {},
   "outputs": [
    {
     "data": {
      "text/plain": [
       "3"
      ]
     },
     "execution_count": 43,
     "metadata": {},
     "output_type": "execute_result"
    }
   ],
   "source": [
    "all_labels.shape[1]"
   ]
  },
  {
   "cell_type": "code",
   "execution_count": 4,
   "metadata": {},
   "outputs": [
    {
     "data": {
      "text/html": [
       "<div>\n",
       "<style scoped>\n",
       "    .dataframe tbody tr th:only-of-type {\n",
       "        vertical-align: middle;\n",
       "    }\n",
       "\n",
       "    .dataframe tbody tr th {\n",
       "        vertical-align: top;\n",
       "    }\n",
       "\n",
       "    .dataframe thead th {\n",
       "        text-align: right;\n",
       "    }\n",
       "</style>\n",
       "<table border=\"1\" class=\"dataframe\">\n",
       "  <thead>\n",
       "    <tr style=\"text-align: right;\">\n",
       "      <th></th>\n",
       "      <th>scina</th>\n",
       "      <th>scsorter</th>\n",
       "      <th>sctype</th>\n",
       "      <th>singler</th>\n",
       "      <th>scpred</th>\n",
       "    </tr>\n",
       "  </thead>\n",
       "  <tbody>\n",
       "    <tr>\n",
       "      <th>Cell1001</th>\n",
       "      <td>Group2</td>\n",
       "      <td>Group2</td>\n",
       "      <td>Group1</td>\n",
       "      <td>Group2</td>\n",
       "      <td>Group2</td>\n",
       "    </tr>\n",
       "    <tr>\n",
       "      <th>Cell1002</th>\n",
       "      <td>Group4</td>\n",
       "      <td>Group2</td>\n",
       "      <td>Group1</td>\n",
       "      <td>Group4</td>\n",
       "      <td>Group2</td>\n",
       "    </tr>\n",
       "    <tr>\n",
       "      <th>Cell1003</th>\n",
       "      <td>Group1</td>\n",
       "      <td>Group4</td>\n",
       "      <td>Group1</td>\n",
       "      <td>Group2</td>\n",
       "      <td>NaN</td>\n",
       "    </tr>\n",
       "    <tr>\n",
       "      <th>Cell1004</th>\n",
       "      <td>Group4</td>\n",
       "      <td>Group4</td>\n",
       "      <td>Group4</td>\n",
       "      <td>Group4</td>\n",
       "      <td>Group1</td>\n",
       "    </tr>\n",
       "    <tr>\n",
       "      <th>Cell1005</th>\n",
       "      <td>Group1</td>\n",
       "      <td>Group1</td>\n",
       "      <td>Group1</td>\n",
       "      <td>Group1</td>\n",
       "      <td>Group1</td>\n",
       "    </tr>\n",
       "    <tr>\n",
       "      <th>...</th>\n",
       "      <td>...</td>\n",
       "      <td>...</td>\n",
       "      <td>...</td>\n",
       "      <td>...</td>\n",
       "      <td>...</td>\n",
       "    </tr>\n",
       "    <tr>\n",
       "      <th>Cell1996</th>\n",
       "      <td>Group2</td>\n",
       "      <td>Group2</td>\n",
       "      <td>Group4</td>\n",
       "      <td>Group2</td>\n",
       "      <td>Group1</td>\n",
       "    </tr>\n",
       "    <tr>\n",
       "      <th>Cell1997</th>\n",
       "      <td>Group1</td>\n",
       "      <td>Group1</td>\n",
       "      <td>Group1</td>\n",
       "      <td>Group1</td>\n",
       "      <td>Group1</td>\n",
       "    </tr>\n",
       "    <tr>\n",
       "      <th>Cell1998</th>\n",
       "      <td>Group3</td>\n",
       "      <td>Group3</td>\n",
       "      <td>Group4</td>\n",
       "      <td>Group3</td>\n",
       "      <td>Group3</td>\n",
       "    </tr>\n",
       "    <tr>\n",
       "      <th>Cell1999</th>\n",
       "      <td>Group4</td>\n",
       "      <td>Group4</td>\n",
       "      <td>Group1</td>\n",
       "      <td>Group4</td>\n",
       "      <td>NaN</td>\n",
       "    </tr>\n",
       "    <tr>\n",
       "      <th>Cell2000</th>\n",
       "      <td>Group2</td>\n",
       "      <td>Group2</td>\n",
       "      <td>Group1</td>\n",
       "      <td>Group2</td>\n",
       "      <td>Group4</td>\n",
       "    </tr>\n",
       "  </tbody>\n",
       "</table>\n",
       "<p>1000 rows × 5 columns</p>\n",
       "</div>"
      ],
      "text/plain": [
       "           scina scsorter  sctype singler  scpred\n",
       "Cell1001  Group2   Group2  Group1  Group2  Group2\n",
       "Cell1002  Group4   Group2  Group1  Group4  Group2\n",
       "Cell1003  Group1   Group4  Group1  Group2     NaN\n",
       "Cell1004  Group4   Group4  Group4  Group4  Group1\n",
       "Cell1005  Group1   Group1  Group1  Group1  Group1\n",
       "...          ...      ...     ...     ...     ...\n",
       "Cell1996  Group2   Group2  Group4  Group2  Group1\n",
       "Cell1997  Group1   Group1  Group1  Group1  Group1\n",
       "Cell1998  Group3   Group3  Group4  Group3  Group3\n",
       "Cell1999  Group4   Group4  Group1  Group4     NaN\n",
       "Cell2000  Group2   Group2  Group1  Group2  Group4\n",
       "\n",
       "[1000 rows x 5 columns]"
      ]
     },
     "execution_count": 4,
     "metadata": {},
     "output_type": "execute_result"
    }
   ],
   "source": [
    "all_labels"
   ]
  },
  {
   "cell_type": "code",
   "execution_count": 5,
   "metadata": {},
   "outputs": [
    {
     "name": "stderr",
     "output_type": "stream",
     "text": [
      "/Users/daniel/miniconda3/envs/thesis/lib/python3.9/site-packages/scanpy/preprocessing/_normalization.py:170: UserWarning: Received a view of an AnnData. Making a copy.\n",
      "  view_to_actual(adata)\n",
      "/Users/daniel/miniconda3/envs/thesis/lib/python3.9/site-packages/scanpy/preprocessing/_normalization.py:170: FutureWarning: X.dtype being converted to np.float32 from int64. In the next version of anndata (0.9) conversion will not be automatic. Pass dtype explicitly to avoid this warning. Pass `AnnData(X, dtype=X.dtype, ...)` to get the future behavour.\n",
      "  view_to_actual(adata)\n"
     ]
    },
    {
     "data": {
      "text/plain": [
       "(999, 500)"
      ]
     },
     "execution_count": 5,
     "metadata": {},
     "output_type": "execute_result"
    }
   ],
   "source": [
    "# read in dataset\n",
    "X = pd.read_csv(data_path, index_col=0)\n",
    "X, keep_cells = utilities.preprocess(np.array(X), scale=False)\n",
    "X.shape"
   ]
  },
  {
   "cell_type": "code",
   "execution_count": 6,
   "metadata": {},
   "outputs": [],
   "source": [
    "all_labels = all_labels.loc[keep_cells,:]"
   ]
  },
  {
   "cell_type": "code",
   "execution_count": 7,
   "metadata": {},
   "outputs": [
    {
     "data": {
      "text/plain": [
       "['Group1', 'Group2', 'Group3', 'Group4']"
      ]
     },
     "execution_count": 7,
     "metadata": {},
     "output_type": "execute_result"
    }
   ],
   "source": [
    "_,marker_names = utilities.read_marker_file(marker_path)\n",
    "marker_names"
   ]
  },
  {
   "cell_type": "code",
   "execution_count": 58,
   "metadata": {},
   "outputs": [
    {
     "data": {
      "text/plain": [
       "Cell1001    Group3\n",
       "Cell1002    Group2\n",
       "Cell1003    Group4\n",
       "Cell1004    Group3\n",
       "Cell1005    Group4\n",
       "             ...  \n",
       "Cell1996    Group4\n",
       "Cell1997    Group3\n",
       "Cell1998    Group4\n",
       "Cell1999    Group2\n",
       "Cell2000    Group1\n",
       "Name: scsorter, Length: 999, dtype: object"
      ]
     },
     "execution_count": 58,
     "metadata": {},
     "output_type": "execute_result"
    }
   ],
   "source": [
    "all_labels['scsorter']"
   ]
  },
  {
   "cell_type": "code",
   "execution_count": 8,
   "metadata": {},
   "outputs": [
    {
     "data": {
      "text/plain": [
       "array([[1., 4., 0., 0.],\n",
       "       [1., 2., 0., 2.],\n",
       "       [2., 1., 0., 1.],\n",
       "       ...,\n",
       "       [0., 0., 4., 1.],\n",
       "       [1., 0., 0., 3.],\n",
       "       [1., 3., 0., 1.]])"
      ]
     },
     "execution_count": 8,
     "metadata": {},
     "output_type": "execute_result"
    }
   ],
   "source": [
    "all_labels_factored = utilities.factorize_df(all_labels, marker_names)\n",
    "encoded_labels = utilities.encode_predictions(all_labels_factored)\n",
    "encoded_labels"
   ]
  },
  {
   "cell_type": "code",
   "execution_count": 9,
   "metadata": {},
   "outputs": [
    {
     "data": {
      "text/plain": [
       "(999,)"
      ]
     },
     "execution_count": 9,
     "metadata": {},
     "output_type": "execute_result"
    }
   ],
   "source": [
    "meta_path = data_folder + \"query_meta.csv\"\n",
    "metadata = pd.read_csv(meta_path, index_col=0)\n",
    "real_y = pd.factorize(metadata['Group'], sort=True)[0]\n",
    "real_y = real_y[keep_cells]\n",
    "real_y.shape"
   ]
  },
  {
   "cell_type": "code",
   "execution_count": 61,
   "metadata": {},
   "outputs": [
    {
     "data": {
      "text/plain": [
       "245"
      ]
     },
     "execution_count": 61,
     "metadata": {},
     "output_type": "execute_result"
    }
   ],
   "source": [
    "len(real_y[real_y==0])"
   ]
  },
  {
   "cell_type": "code",
   "execution_count": 10,
   "metadata": {},
   "outputs": [
    {
     "name": "stdout",
     "output_type": "stream",
     "text": [
      "0.792792797088623\n",
      "0.4114114046096802\n",
      "0.826826810836792\n",
      "0.8408408164978027\n",
      "0.6026026010513306\n"
     ]
    }
   ],
   "source": [
    "print(utilities.pred_accuracy(all_labels_factored['scina'], real_y))\n",
    "print(utilities.pred_accuracy(all_labels_factored['sctype'], real_y))\n",
    "print(utilities.pred_accuracy(all_labels_factored['scsorter'], real_y))\n",
    "print(utilities.pred_accuracy(all_labels_factored['singler'], real_y))\n",
    "print(utilities.pred_accuracy(all_labels_factored['scpred'], real_y))\n"
   ]
  },
  {
   "cell_type": "code",
   "execution_count": 11,
   "metadata": {},
   "outputs": [
    {
     "name": "stderr",
     "output_type": "stream",
     "text": [
      "/Users/daniel/Desktop/conradLab/thesis/scSHARP/utilities.py:172: UserWarning: To copy construct from a tensor, it is recommended to use sourceTensor.clone().detach() or sourceTensor.clone().detach().requires_grad_(True), rather than torch.tensor(sourceTensor).\n",
      "  return float((torch.tensor(preds) == torch.tensor(real)).type(torch.FloatTensor).mean().numpy())\n"
     ]
    },
    {
     "data": {
      "text/plain": [
       "0.935935914516449"
      ]
     },
     "execution_count": 11,
     "metadata": {},
     "output_type": "execute_result"
    }
   ],
   "source": [
    "max_pred = torch.tensor(encoded_labels).max(dim=1)[1]\n",
    "utilities.pred_accuracy(max_pred, real_y)"
   ]
  },
  {
   "cell_type": "code",
   "execution_count": 12,
   "metadata": {},
   "outputs": [
    {
     "data": {
      "text/plain": [
       "array([ 1., -1., -1.,  3.,  0.,  3.,  3., -1.,  1.,  0.,  2.,  3.,  3.,\n",
       "        0.,  3.,  3.,  3.,  0.,  2.,  2.,  2.,  1.,  2.,  0.,  0.,  1.,\n",
       "        0.,  0.,  3.,  3.,  3.,  2.,  3., -1.,  0.,  0.,  0.,  3.,  0.,\n",
       "        1.,  0., -1.,  0.,  3.,  3.,  2.,  3.,  1.,  0.,  0.,  1.,  3.,\n",
       "        1.,  0.,  0., -1.,  1.,  3.,  0., -1.,  0.,  2., -1.,  0.,  2.,\n",
       "        2.,  1.,  3., -1.,  1.,  2.,  1.,  3.,  2., -1.,  3.,  3.,  2.,\n",
       "        1.,  0., -1.,  3.,  3.,  1., -1.,  3.,  1.,  3.,  2.,  2., -1.,\n",
       "        0.,  1.,  1.,  3.,  3.,  1.,  0.,  1., -1.,  3.,  3.,  1.,  3.,\n",
       "        1.,  3., -1.,  1.,  3.,  3.,  2., -1.,  3.,  3.,  0.,  3.,  1.,\n",
       "        2.,  2., -1.,  2.,  2.,  3.,  1.,  1.,  2.,  0.,  0., -1.,  1.,\n",
       "        2.,  0.,  1.,  0.,  3., -1.,  0.,  2., -1.,  1., -1.,  0.,  2.,\n",
       "        1., -1.,  3.,  3.,  3.,  3.,  0.,  3.,  3.,  3.,  3.,  2.,  3.,\n",
       "        3.,  1.,  3.,  0.,  1.,  3., -1.,  1.,  1.,  3.,  3.,  2.,  2.,\n",
       "        0.,  1.,  1.,  1., -1.,  0.,  1.,  2., -1.,  2.,  0.,  1.,  2.,\n",
       "        0.,  2.,  3.,  2.,  1.,  0.,  2.,  1.,  3.,  3.,  2.,  3.,  0.,\n",
       "        0.,  1.,  1.,  1.,  3.,  1.,  2.,  3.,  3.,  3.,  3., -1.,  0.,\n",
       "        3.,  3., -1.,  3.,  3.,  1.,  3.,  0.,  0.,  3., -1.,  2.,  0.,\n",
       "        1., -1.,  2.,  3.,  2.,  3.,  0.,  1.,  1.,  3.,  0.,  2.,  2.,\n",
       "        2., -1.,  3.,  2.,  2.,  1.,  2.,  1.,  2., -1.,  0.,  2.,  0.,\n",
       "        2.,  2.,  1.,  2.,  1.,  0.,  1.,  0.,  2.,  0.,  0., -1.,  2.,\n",
       "        3.,  2.,  1.,  0., -1.,  3.,  3.,  3.,  3.,  1., -1.,  3.,  1.,\n",
       "        0.,  0.,  3.,  2.,  3., -1.,  3.,  0., -1.,  3., -1., -1.,  1.,\n",
       "        2.,  2., -1.,  0.,  0.,  3.,  1.,  1.,  1.,  3.,  3., -1.,  1.,\n",
       "        1.,  1.,  0.,  0.,  3.,  3.,  0.,  2.,  3.,  2.,  0.,  3.,  2.,\n",
       "        2., -1.,  2.,  0.,  0.,  2.,  1.,  1.,  3.,  1.,  0., -1.,  0.,\n",
       "        0.,  1.,  1., -1.,  3.,  1.,  2.,  1.,  1.,  1.,  2.,  3.,  3.,\n",
       "        3.,  3., -1.,  1.,  3.,  0.,  0.,  3.,  2.,  1.,  1.,  3.,  3.,\n",
       "        1.,  1.,  2.,  0.,  3., -1.,  2.,  3., -1.,  1.,  3.,  0.,  2.,\n",
       "       -1.,  1.,  1.,  3.,  0.,  3.,  1.,  3.,  1.,  3., -1.,  1.,  2.,\n",
       "        0.,  1.,  1.,  3.,  0.,  3.,  3.,  3.,  1.,  3.,  0., -1.,  0.,\n",
       "        3.,  0.,  0.,  2.,  3.,  2.,  1.,  3.,  2.,  2.,  2.,  2.,  1.,\n",
       "       -1.,  2.,  3.,  0.,  0.,  1.,  1.,  2., -1., -1.,  1.,  1.,  0.,\n",
       "        1., -1.,  0., -1.,  3.,  1.,  3., -1.,  1.,  2.,  1.,  2., -1.,\n",
       "       -1.,  2.,  1.,  0.,  1.,  3., -1., -1.,  2.,  2.,  0.,  1.,  2.,\n",
       "        3.,  2.,  0.,  0., -1.,  2.,  0.,  3.,  1.,  3.,  1.,  3.,  1.,\n",
       "        0.,  2.,  3.,  2.,  2.,  2., -1.,  3.,  2.,  2.,  3., -1.,  3.,\n",
       "        2.,  3.,  1.,  3., -1.,  1., -1.,  1.,  2.,  1.,  1.,  1., -1.,\n",
       "        3.,  1.,  1., -1.,  3.,  2.,  2., -1.,  0.,  2.,  0.,  1., -1.,\n",
       "        0.,  1.,  1., -1.,  1.,  1.,  1.,  3.,  1.,  3.,  3.,  2.,  3.,\n",
       "       -1.,  2.,  0., -1.,  2., -1.,  0.,  0.,  2.,  1.,  0.,  0.,  2.,\n",
       "        1.,  2.,  3., -1.,  0.,  3.,  1.,  0.,  2.,  3.,  2.,  3.,  2.,\n",
       "        1.,  1.,  3.,  3.,  1.,  1.,  2., -1.,  2.,  3.,  3., -1.,  3.,\n",
       "        3.,  1.,  3.,  1.,  3.,  0.,  2.,  1.,  3.,  2.,  3.,  0.,  3.,\n",
       "        0.,  0.,  3.,  0.,  0.,  0.,  3., -1., -1.,  1., -1.,  2.,  3.,\n",
       "        3.,  3.,  1.,  2.,  0.,  3.,  0.,  1.,  1.,  0.,  1.,  1.,  1.,\n",
       "        0.,  0.,  0.,  3., -1., -1., -1.,  1.,  2.,  3.,  0.,  1.,  1.,\n",
       "        3.,  3.,  1., -1.,  2.,  1.,  1.,  1.,  3.,  1.,  2.,  0.,  2.,\n",
       "        3.,  1.,  0.,  2.,  3.,  1.,  0.,  1.,  2.,  3.,  3.,  2., -1.,\n",
       "        3.,  0.,  1.,  3.,  1.,  2.,  1.,  3.,  3.,  0.,  2.,  3.,  2.,\n",
       "        0.,  2.,  1.,  1.,  1.,  1., -1.,  2.,  1., -1.,  1.,  1.,  2.,\n",
       "        1.,  0.,  0.,  3.,  3.,  1., -1.,  3.,  1.,  3.,  1., -1.,  1.,\n",
       "        0.,  1.,  0.,  3., -1.,  1.,  1.,  3.,  3.,  0.,  3.,  0.,  2.,\n",
       "        1.,  1.,  2.,  2.,  1.,  1.,  1.,  3.,  1., -1.,  2.,  3.,  1.,\n",
       "       -1.,  2.,  0.,  1.,  0.,  2.,  0.,  3.,  2.,  0.,  0.,  1.,  3.,\n",
       "        1.,  1., -1.,  2.,  0.,  0.,  2., -1.,  3.,  0.,  0.,  0.,  1.,\n",
       "        0.,  2.,  2.,  0.,  0., -1.,  3.,  2.,  3.,  1.,  1.,  3.,  3.,\n",
       "        0.,  3.,  2.,  0.,  2.,  1.,  2.,  0.,  1.,  3., -1.,  1.,  3.,\n",
       "        2.,  3.,  1., -1., -1.,  2.,  2.,  1.,  1.,  3.,  2.,  2.,  3.,\n",
       "        3.,  3.,  0.,  3.,  0.,  3.,  1., -1.,  1.,  1.,  3.,  1.,  1.,\n",
       "        2.,  2.,  2.,  2., -1., -1.,  1.,  2.,  2.,  3.,  2.,  0.,  1.,\n",
       "        1., -1.,  1., -1.,  2.,  3.,  2.,  3.,  0.,  0.,  2.,  1.,  1.,\n",
       "        1.,  2.,  1.,  2.,  1.,  0.,  1.,  1., -1.,  3.,  3.,  0.,  2.,\n",
       "       -1.,  0.,  2.,  1.,  3.,  2.,  2.,  3.,  3.,  0.,  1.,  2.,  3.,\n",
       "        1.,  1.,  0.,  0.,  1.,  1.,  1.,  1.,  0., -1.,  0.,  3.,  2.,\n",
       "        3.,  1.,  2.,  1.,  0.,  1.,  1., -1.,  1.,  3.,  1.,  1.,  3.,\n",
       "        1.,  2.,  1.,  1.,  3.,  1.,  0.,  3.,  2.,  1.,  3., -1.,  2.,\n",
       "        2.,  0., -1.,  1.,  2., -1.,  2.,  1., -1.,  2., -1.,  2.,  1.,\n",
       "        3.,  1.,  2.,  3.,  3.,  0.,  2.,  0.,  1.,  3.,  2., -1.,  1.,\n",
       "       -1.,  3.,  2.,  2.,  0.,  3.,  1., -1.,  1.,  1.,  2.,  1.,  0.,\n",
       "        1.,  1.,  3.,  2.,  3.,  3.,  0.,  1., -1.,  2.,  3.,  1.,  0.,\n",
       "        3.,  1.,  2., -1., -1.,  2.,  1.,  0., -1.,  0.,  2.,  3.,  1.,\n",
       "        0.,  1.,  1.,  1.,  2.,  0.,  3.,  0.,  2., -1.,  3., -1.,  1.,\n",
       "        3.,  3., -1.,  2.,  0.,  3.,  1., -1.,  1.,  0.,  1.,  0.,  1.,\n",
       "        2.,  3.,  0.,  3.,  1.,  3.,  3., -1.,  1.,  3., -1.,  1., -1.,\n",
       "       -1.,  3.,  2.,  3., -1.,  1.,  1., -1.,  0.,  2.,  1.,  2.,  1.,\n",
       "       -1.,  0.,  3.,  3.,  1.,  2.,  3.,  0.,  3.,  3.,  0.,  3.,  3.,\n",
       "        0.,  0.,  1.,  1.,  2.,  3.,  1.,  0.,  2.,  3.,  1.])"
      ]
     },
     "execution_count": 12,
     "metadata": {},
     "output_type": "execute_result"
    }
   ],
   "source": [
    "confident_labels = utilities.get_consensus_labels(encoded_labels, necessary_vote = 3)\n",
    "confident_labels"
   ]
  },
  {
   "cell_type": "code",
   "execution_count": 13,
   "metadata": {},
   "outputs": [
    {
     "name": "stdout",
     "output_type": "stream",
     "text": [
      "[-1.  0.  1.  2.  3.]\n",
      "[0. 1. 2. 3.]\n",
      "[-1.]\n"
     ]
    }
   ],
   "source": [
    "train_nodes = np.where(confident_labels != -1)[0]\n",
    "test_nodes = np.where(confident_labels == -1)[0]\n",
    "print(np.unique(confident_labels))\n",
    "print(np.unique(confident_labels[train_nodes]))\n",
    "print(np.unique(confident_labels[test_nodes]))"
   ]
  },
  {
   "cell_type": "code",
   "execution_count": 14,
   "metadata": {},
   "outputs": [
    {
     "data": {
      "text/plain": [
       "array([3, 0, 3, 0, 0, 2, 2, 2, 3, 0, 1, 3, 0, 2, 0, 2, 1, 3, 3, 3, 0, 0,\n",
       "       3, 2, 1, 2, 1, 1, 0, 0, 3, 2, 0, 0, 1, 2, 2, 0, 1, 2, 0, 0, 0, 0,\n",
       "       0, 3, 3, 2, 2, 3, 0, 2, 1, 3, 2, 2, 1, 3, 3, 0, 2, 2, 2, 0, 2, 1,\n",
       "       0, 3, 0, 1, 2, 2, 0, 1, 0, 2, 2, 0, 0, 0, 0, 0, 2, 1, 0, 0, 2, 3,\n",
       "       0, 2, 3, 0, 1, 2, 0, 0, 2, 1, 0, 0, 2, 3, 3, 3, 2, 0, 0, 0, 2, 2,\n",
       "       0, 0, 2, 2, 2, 0, 3, 0, 0, 3, 1, 0, 2, 2, 2, 0, 0, 2])"
      ]
     },
     "execution_count": 14,
     "metadata": {},
     "output_type": "execute_result"
    }
   ],
   "source": [
    "real_y[test_nodes]"
   ]
  },
  {
   "cell_type": "code",
   "execution_count": 15,
   "metadata": {},
   "outputs": [
    {
     "name": "stdout",
     "output_type": "stream",
     "text": [
      "0.9781860113143921\n"
     ]
    }
   ],
   "source": [
    "print(utilities.pred_accuracy(confident_labels[train_nodes], real_y[train_nodes]))"
   ]
  },
  {
   "cell_type": "code",
   "execution_count": 16,
   "metadata": {},
   "outputs": [
    {
     "data": {
      "text/plain": [
       "128"
      ]
     },
     "execution_count": 16,
     "metadata": {},
     "output_type": "execute_result"
    }
   ],
   "source": [
    "len(test_nodes)"
   ]
  },
  {
   "cell_type": "code",
   "execution_count": 17,
   "metadata": {},
   "outputs": [
    {
     "name": "stdout",
     "output_type": "stream",
     "text": [
      "0.2265625\n",
      "0.375\n",
      "0.484375\n",
      "0.5390625\n",
      "0.1796875\n",
      "0.6484375\n"
     ]
    }
   ],
   "source": [
    "# tool accuracy on test\n",
    "print(utilities.pred_accuracy(np.array(all_labels_factored['scina'][test_nodes]), real_y[test_nodes]))\n",
    "print(utilities.pred_accuracy(np.array(all_labels_factored['sctype'][test_nodes]), real_y[test_nodes]))\n",
    "print(utilities.pred_accuracy(np.array(all_labels_factored['scsorter'][test_nodes]), real_y[test_nodes]))\n",
    "print(utilities.pred_accuracy(np.array(all_labels_factored['singler'][test_nodes]), real_y[test_nodes]))\n",
    "print(utilities.pred_accuracy(np.array(all_labels_factored['scpred'][test_nodes]), real_y[test_nodes]))\n",
    "max_pred = torch.tensor(encoded_labels).max(dim=1)[1]\n",
    "print(utilities.pred_accuracy(max_pred[test_nodes], real_y[test_nodes]))"
   ]
  },
  {
   "cell_type": "code",
   "execution_count": 18,
   "metadata": {},
   "outputs": [],
   "source": [
    "dataset  = torch.utils.data.TensorDataset(torch.tensor(X), torch.tensor(confident_labels))\n",
    "dataloader = torch.utils.data.DataLoader(dataset, batch_size=35, shuffle=True)\n",
    "\n",
    "test_dataset  = torch.utils.data.TensorDataset(torch.tensor(X), torch.tensor(real_y))\n",
    "test_dataloader = torch.utils.data.DataLoader(test_dataset, batch_size=35, shuffle=False)"
   ]
  },
  {
   "cell_type": "code",
   "execution_count": 19,
   "metadata": {},
   "outputs": [],
   "source": [
    "m = GCNModel(\"configs/2_8.txt\", 2, dropout=0.0)"
   ]
  },
  {
   "cell_type": "code",
   "execution_count": 20,
   "metadata": {},
   "outputs": [
    {
     "name": "stdout",
     "output_type": "stream",
     "text": [
      "Loss in epoch 0 = 37.374233\n",
      "Loss in epoch 10 = 0.193275\n",
      "Loss in epoch 20 = 0.051210\n",
      "Loss in epoch 30 = 0.018899\n",
      "Loss in epoch 40 = 0.010107\n",
      "Loss in epoch 50 = 0.005313\n",
      "Loss in epoch 60 = 0.004084\n",
      "Loss in epoch 70 = 0.002934\n",
      "Loss in epoch 80 = 0.002424\n",
      "Loss in epoch 90 = 0.001516\n"
     ]
    }
   ],
   "source": [
    "m.train(dataloader, 100)"
   ]
  },
  {
   "cell_type": "code",
   "execution_count": 21,
   "metadata": {},
   "outputs": [
    {
     "data": {
      "text/plain": [
       "(0.9629629850387573,\n",
       " array([[219,   7,   2,   4],\n",
       "        [  0, 265,   2,   1],\n",
       "        [  1,   3, 221,   9],\n",
       "        [  1,   4,   3, 257]]),\n",
       " 0.9781860113143921,\n",
       " array([[177,   4,   1,   1],\n",
       "        [  0, 249,   2,   1],\n",
       "        [  0,   2, 187,   5],\n",
       "        [  1,   1,   1, 239]]),\n",
       " 0.859375,\n",
       " array([[42,  3,  1,  3],\n",
       "        [ 0, 16,  0,  0],\n",
       "        [ 1,  1, 34,  4],\n",
       "        [ 0,  3,  2, 18]]))"
      ]
     },
     "execution_count": 21,
     "metadata": {},
     "output_type": "execute_result"
    }
   ],
   "source": [
    "m.validation_metrics(test_dataloader, train_nodes, test_nodes)"
   ]
  },
  {
   "cell_type": "code",
   "execution_count": 22,
   "metadata": {},
   "outputs": [],
   "source": [
    "#data_folders = [\"/home/groups/ConradLab/daniel/sharp_sims/splat_0.5_de_rq/\", \"/home/groups/ConradLab/daniel/sharp_sims/splat_0.6_de_rq/\", \"/home/groups/ConradLab/daniel/sharp_sims/splat_0.7_de_rq/\"]\n",
    "data_folders = [\"simulations/splat_0.6_de_rq/\", \"simulations/splat_0.7_de_rq/\", \"simulations/splat_0.8_de_rq/\"]\n",
    "tools = [\"sctype\",\"scsorter\",\"scina\",\"singler\", \"scpred\"]\n",
    "votes_necessary = 3\n",
    "model_file = \"configs/2_8.txt\"\n",
    "neighbors = 2\n",
    "batch_size=35\n",
    "training_epochs=100\n",
    "random_inits = 3"
   ]
  },
  {
   "cell_type": "code",
   "execution_count": 23,
   "metadata": {},
   "outputs": [
    {
     "name": "stderr",
     "output_type": "stream",
     "text": [
      "/Users/daniel/miniconda3/envs/thesis/lib/python3.9/site-packages/scanpy/preprocessing/_normalization.py:170: UserWarning: Received a view of an AnnData. Making a copy.\n",
      "  view_to_actual(adata)\n",
      "/Users/daniel/miniconda3/envs/thesis/lib/python3.9/site-packages/scanpy/preprocessing/_normalization.py:170: FutureWarning: X.dtype being converted to np.float32 from int64. In the next version of anndata (0.9) conversion will not be automatic. Pass dtype explicitly to avoid this warning. Pass `AnnData(X, dtype=X.dtype, ...)` to get the future behavour.\n",
      "  view_to_actual(adata)\n"
     ]
    },
    {
     "name": "stdout",
     "output_type": "stream",
     "text": [
      "[0.828000009059906, 0.8309999704360962, 0.8180000185966492]\n"
     ]
    },
    {
     "name": "stderr",
     "output_type": "stream",
     "text": [
      "/Users/daniel/Desktop/conradLab/thesis/scSHARP/utilities.py:172: UserWarning: To copy construct from a tensor, it is recommended to use sourceTensor.clone().detach() or sourceTensor.clone().detach().requires_grad_(True), rather than torch.tensor(sourceTensor).\n",
      "  return float((torch.tensor(preds) == torch.tensor(real)).type(torch.FloatTensor).mean().numpy())\n",
      "/Users/daniel/miniconda3/envs/thesis/lib/python3.9/site-packages/scanpy/preprocessing/_normalization.py:170: UserWarning: Received a view of an AnnData. Making a copy.\n",
      "  view_to_actual(adata)\n",
      "/Users/daniel/miniconda3/envs/thesis/lib/python3.9/site-packages/scanpy/preprocessing/_normalization.py:170: FutureWarning: X.dtype being converted to np.float32 from int64. In the next version of anndata (0.9) conversion will not be automatic. Pass dtype explicitly to avoid this warning. Pass `AnnData(X, dtype=X.dtype, ...)` to get the future behavour.\n",
      "  view_to_actual(adata)\n"
     ]
    },
    {
     "name": "stdout",
     "output_type": "stream",
     "text": [
      "[0.965965986251831, 0.9529529809951782, 0.9679679870605469]\n"
     ]
    },
    {
     "name": "stderr",
     "output_type": "stream",
     "text": [
      "/Users/daniel/Desktop/conradLab/thesis/scSHARP/utilities.py:172: UserWarning: To copy construct from a tensor, it is recommended to use sourceTensor.clone().detach() or sourceTensor.clone().detach().requires_grad_(True), rather than torch.tensor(sourceTensor).\n",
      "  return float((torch.tensor(preds) == torch.tensor(real)).type(torch.FloatTensor).mean().numpy())\n",
      "/Users/daniel/miniconda3/envs/thesis/lib/python3.9/site-packages/scanpy/preprocessing/_normalization.py:170: UserWarning: Received a view of an AnnData. Making a copy.\n",
      "  view_to_actual(adata)\n",
      "/Users/daniel/miniconda3/envs/thesis/lib/python3.9/site-packages/scanpy/preprocessing/_normalization.py:170: FutureWarning: X.dtype being converted to np.float32 from int64. In the next version of anndata (0.9) conversion will not be automatic. Pass dtype explicitly to avoid this warning. Pass `AnnData(X, dtype=X.dtype, ...)` to get the future behavour.\n",
      "  view_to_actual(adata)\n"
     ]
    },
    {
     "name": "stdout",
     "output_type": "stream",
     "text": [
      "[0.9829829931259155, 0.9829829931259155, 0.9859859943389893]\n"
     ]
    },
    {
     "name": "stderr",
     "output_type": "stream",
     "text": [
      "/Users/daniel/Desktop/conradLab/thesis/scSHARP/utilities.py:172: UserWarning: To copy construct from a tensor, it is recommended to use sourceTensor.clone().detach() or sourceTensor.clone().detach().requires_grad_(True), rather than torch.tensor(sourceTensor).\n",
      "  return float((torch.tensor(preds) == torch.tensor(real)).type(torch.FloatTensor).mean().numpy())\n"
     ]
    }
   ],
   "source": [
    "results = test_model(data_folders, tools, votes_necessary, model_file, neighbors, batch_size, training_epochs, random_inits)"
   ]
  },
  {
   "cell_type": "code",
   "execution_count": 24,
   "metadata": {},
   "outputs": [
    {
     "data": {
      "text/html": [
       "<div>\n",
       "<style scoped>\n",
       "    .dataframe tbody tr th:only-of-type {\n",
       "        vertical-align: middle;\n",
       "    }\n",
       "\n",
       "    .dataframe tbody tr th {\n",
       "        vertical-align: top;\n",
       "    }\n",
       "\n",
       "    .dataframe thead th {\n",
       "        text-align: right;\n",
       "    }\n",
       "</style>\n",
       "<table border=\"1\" class=\"dataframe\">\n",
       "  <thead>\n",
       "    <tr style=\"text-align: right;\">\n",
       "      <th></th>\n",
       "      <th>data_name</th>\n",
       "      <th>method</th>\n",
       "      <th>total_accuracy</th>\n",
       "      <th>train_accuracy</th>\n",
       "      <th>test_accuracy</th>\n",
       "      <th>total_sd</th>\n",
       "      <th>train_sd</th>\n",
       "      <th>test_sd</th>\n",
       "    </tr>\n",
       "  </thead>\n",
       "  <tbody>\n",
       "    <tr>\n",
       "      <th>0</th>\n",
       "      <td>splat_0.6_de_rq</td>\n",
       "      <td>GCN</td>\n",
       "      <td>0.825667</td>\n",
       "      <td>0.944708</td>\n",
       "      <td>0.620345</td>\n",
       "      <td>0.006807</td>\n",
       "      <td>0.0</td>\n",
       "      <td>0.018547</td>\n",
       "    </tr>\n",
       "    <tr>\n",
       "      <th>1</th>\n",
       "      <td>splat_0.6_de_rq</td>\n",
       "      <td>Max Col.</td>\n",
       "      <td>0.798000</td>\n",
       "      <td>0.944708</td>\n",
       "      <td>0.544959</td>\n",
       "      <td>0.000000</td>\n",
       "      <td>0.0</td>\n",
       "      <td>0.000000</td>\n",
       "    </tr>\n",
       "    <tr>\n",
       "      <th>2</th>\n",
       "      <td>splat_0.6_de_rq</td>\n",
       "      <td>Confident Labels</td>\n",
       "      <td>NaN</td>\n",
       "      <td>0.944708</td>\n",
       "      <td>NaN</td>\n",
       "      <td>0.000000</td>\n",
       "      <td>0.0</td>\n",
       "      <td>0.000000</td>\n",
       "    </tr>\n",
       "    <tr>\n",
       "      <th>3</th>\n",
       "      <td>splat_0.6_de_rq</td>\n",
       "      <td>sctype</td>\n",
       "      <td>0.232000</td>\n",
       "      <td>0.235387</td>\n",
       "      <td>0.226158</td>\n",
       "      <td>0.000000</td>\n",
       "      <td>0.0</td>\n",
       "      <td>0.000000</td>\n",
       "    </tr>\n",
       "    <tr>\n",
       "      <th>4</th>\n",
       "      <td>splat_0.6_de_rq</td>\n",
       "      <td>scsorter</td>\n",
       "      <td>0.677000</td>\n",
       "      <td>0.846761</td>\n",
       "      <td>0.384196</td>\n",
       "      <td>0.000000</td>\n",
       "      <td>0.0</td>\n",
       "      <td>0.000000</td>\n",
       "    </tr>\n",
       "    <tr>\n",
       "      <th>5</th>\n",
       "      <td>splat_0.6_de_rq</td>\n",
       "      <td>scina</td>\n",
       "      <td>0.467000</td>\n",
       "      <td>0.668246</td>\n",
       "      <td>0.119891</td>\n",
       "      <td>0.000000</td>\n",
       "      <td>0.0</td>\n",
       "      <td>0.000000</td>\n",
       "    </tr>\n",
       "    <tr>\n",
       "      <th>6</th>\n",
       "      <td>splat_0.6_de_rq</td>\n",
       "      <td>singler</td>\n",
       "      <td>0.840000</td>\n",
       "      <td>0.913112</td>\n",
       "      <td>0.713896</td>\n",
       "      <td>0.000000</td>\n",
       "      <td>0.0</td>\n",
       "      <td>0.000000</td>\n",
       "    </tr>\n",
       "    <tr>\n",
       "      <th>7</th>\n",
       "      <td>splat_0.6_de_rq</td>\n",
       "      <td>scpred</td>\n",
       "      <td>0.503000</td>\n",
       "      <td>0.663507</td>\n",
       "      <td>0.226158</td>\n",
       "      <td>0.000000</td>\n",
       "      <td>0.0</td>\n",
       "      <td>0.000000</td>\n",
       "    </tr>\n",
       "    <tr>\n",
       "      <th>0</th>\n",
       "      <td>splat_0.7_de_rq</td>\n",
       "      <td>GCN</td>\n",
       "      <td>0.962296</td>\n",
       "      <td>0.978186</td>\n",
       "      <td>0.854167</td>\n",
       "      <td>0.008153</td>\n",
       "      <td>0.0</td>\n",
       "      <td>0.063629</td>\n",
       "    </tr>\n",
       "    <tr>\n",
       "      <th>1</th>\n",
       "      <td>splat_0.7_de_rq</td>\n",
       "      <td>Max Col.</td>\n",
       "      <td>0.935936</td>\n",
       "      <td>0.978186</td>\n",
       "      <td>0.648438</td>\n",
       "      <td>0.000000</td>\n",
       "      <td>0.0</td>\n",
       "      <td>0.000000</td>\n",
       "    </tr>\n",
       "    <tr>\n",
       "      <th>2</th>\n",
       "      <td>splat_0.7_de_rq</td>\n",
       "      <td>Confident Labels</td>\n",
       "      <td>NaN</td>\n",
       "      <td>0.978186</td>\n",
       "      <td>NaN</td>\n",
       "      <td>0.000000</td>\n",
       "      <td>0.0</td>\n",
       "      <td>0.000000</td>\n",
       "    </tr>\n",
       "    <tr>\n",
       "      <th>3</th>\n",
       "      <td>splat_0.7_de_rq</td>\n",
       "      <td>sctype</td>\n",
       "      <td>0.411411</td>\n",
       "      <td>0.416762</td>\n",
       "      <td>0.375000</td>\n",
       "      <td>0.000000</td>\n",
       "      <td>0.0</td>\n",
       "      <td>0.000000</td>\n",
       "    </tr>\n",
       "    <tr>\n",
       "      <th>4</th>\n",
       "      <td>splat_0.7_de_rq</td>\n",
       "      <td>scsorter</td>\n",
       "      <td>0.826827</td>\n",
       "      <td>0.877153</td>\n",
       "      <td>0.484375</td>\n",
       "      <td>0.000000</td>\n",
       "      <td>0.0</td>\n",
       "      <td>0.000000</td>\n",
       "    </tr>\n",
       "    <tr>\n",
       "      <th>5</th>\n",
       "      <td>splat_0.7_de_rq</td>\n",
       "      <td>scina</td>\n",
       "      <td>0.792793</td>\n",
       "      <td>0.876005</td>\n",
       "      <td>0.226562</td>\n",
       "      <td>0.000000</td>\n",
       "      <td>0.0</td>\n",
       "      <td>0.000000</td>\n",
       "    </tr>\n",
       "    <tr>\n",
       "      <th>6</th>\n",
       "      <td>splat_0.7_de_rq</td>\n",
       "      <td>singler</td>\n",
       "      <td>0.840841</td>\n",
       "      <td>0.885189</td>\n",
       "      <td>0.539062</td>\n",
       "      <td>0.000000</td>\n",
       "      <td>0.0</td>\n",
       "      <td>0.000000</td>\n",
       "    </tr>\n",
       "    <tr>\n",
       "      <th>7</th>\n",
       "      <td>splat_0.7_de_rq</td>\n",
       "      <td>scpred</td>\n",
       "      <td>0.602603</td>\n",
       "      <td>0.664753</td>\n",
       "      <td>0.179688</td>\n",
       "      <td>0.000000</td>\n",
       "      <td>0.0</td>\n",
       "      <td>0.000000</td>\n",
       "    </tr>\n",
       "    <tr>\n",
       "      <th>0</th>\n",
       "      <td>splat_0.8_de_rq</td>\n",
       "      <td>GCN</td>\n",
       "      <td>0.983984</td>\n",
       "      <td>0.990674</td>\n",
       "      <td>0.794118</td>\n",
       "      <td>0.001734</td>\n",
       "      <td>0.0</td>\n",
       "      <td>0.050943</td>\n",
       "    </tr>\n",
       "    <tr>\n",
       "      <th>1</th>\n",
       "      <td>splat_0.8_de_rq</td>\n",
       "      <td>Max Col.</td>\n",
       "      <td>0.973974</td>\n",
       "      <td>0.990674</td>\n",
       "      <td>0.500000</td>\n",
       "      <td>0.000000</td>\n",
       "      <td>0.0</td>\n",
       "      <td>0.000000</td>\n",
       "    </tr>\n",
       "    <tr>\n",
       "      <th>2</th>\n",
       "      <td>splat_0.8_de_rq</td>\n",
       "      <td>Confident Labels</td>\n",
       "      <td>NaN</td>\n",
       "      <td>0.990674</td>\n",
       "      <td>NaN</td>\n",
       "      <td>0.000000</td>\n",
       "      <td>0.0</td>\n",
       "      <td>0.000000</td>\n",
       "    </tr>\n",
       "    <tr>\n",
       "      <th>3</th>\n",
       "      <td>splat_0.8_de_rq</td>\n",
       "      <td>sctype</td>\n",
       "      <td>0.922923</td>\n",
       "      <td>0.935751</td>\n",
       "      <td>0.558824</td>\n",
       "      <td>0.000000</td>\n",
       "      <td>0.0</td>\n",
       "      <td>0.000000</td>\n",
       "    </tr>\n",
       "    <tr>\n",
       "      <th>4</th>\n",
       "      <td>splat_0.8_de_rq</td>\n",
       "      <td>scsorter</td>\n",
       "      <td>0.906907</td>\n",
       "      <td>0.923316</td>\n",
       "      <td>0.441176</td>\n",
       "      <td>0.000000</td>\n",
       "      <td>0.0</td>\n",
       "      <td>0.000000</td>\n",
       "    </tr>\n",
       "    <tr>\n",
       "      <th>5</th>\n",
       "      <td>splat_0.8_de_rq</td>\n",
       "      <td>scina</td>\n",
       "      <td>0.854855</td>\n",
       "      <td>0.882902</td>\n",
       "      <td>0.058824</td>\n",
       "      <td>0.000000</td>\n",
       "      <td>0.0</td>\n",
       "      <td>0.000000</td>\n",
       "    </tr>\n",
       "    <tr>\n",
       "      <th>6</th>\n",
       "      <td>splat_0.8_de_rq</td>\n",
       "      <td>singler</td>\n",
       "      <td>0.870871</td>\n",
       "      <td>0.890155</td>\n",
       "      <td>0.323529</td>\n",
       "      <td>0.000000</td>\n",
       "      <td>0.0</td>\n",
       "      <td>0.000000</td>\n",
       "    </tr>\n",
       "    <tr>\n",
       "      <th>7</th>\n",
       "      <td>splat_0.8_de_rq</td>\n",
       "      <td>scpred</td>\n",
       "      <td>0.794795</td>\n",
       "      <td>0.811399</td>\n",
       "      <td>0.323529</td>\n",
       "      <td>0.000000</td>\n",
       "      <td>0.0</td>\n",
       "      <td>0.000000</td>\n",
       "    </tr>\n",
       "  </tbody>\n",
       "</table>\n",
       "</div>"
      ],
      "text/plain": [
       "         data_name            method  total_accuracy  train_accuracy  \\\n",
       "0  splat_0.6_de_rq               GCN        0.825667        0.944708   \n",
       "1  splat_0.6_de_rq          Max Col.        0.798000        0.944708   \n",
       "2  splat_0.6_de_rq  Confident Labels             NaN        0.944708   \n",
       "3  splat_0.6_de_rq            sctype        0.232000        0.235387   \n",
       "4  splat_0.6_de_rq          scsorter        0.677000        0.846761   \n",
       "5  splat_0.6_de_rq             scina        0.467000        0.668246   \n",
       "6  splat_0.6_de_rq           singler        0.840000        0.913112   \n",
       "7  splat_0.6_de_rq            scpred        0.503000        0.663507   \n",
       "0  splat_0.7_de_rq               GCN        0.962296        0.978186   \n",
       "1  splat_0.7_de_rq          Max Col.        0.935936        0.978186   \n",
       "2  splat_0.7_de_rq  Confident Labels             NaN        0.978186   \n",
       "3  splat_0.7_de_rq            sctype        0.411411        0.416762   \n",
       "4  splat_0.7_de_rq          scsorter        0.826827        0.877153   \n",
       "5  splat_0.7_de_rq             scina        0.792793        0.876005   \n",
       "6  splat_0.7_de_rq           singler        0.840841        0.885189   \n",
       "7  splat_0.7_de_rq            scpred        0.602603        0.664753   \n",
       "0  splat_0.8_de_rq               GCN        0.983984        0.990674   \n",
       "1  splat_0.8_de_rq          Max Col.        0.973974        0.990674   \n",
       "2  splat_0.8_de_rq  Confident Labels             NaN        0.990674   \n",
       "3  splat_0.8_de_rq            sctype        0.922923        0.935751   \n",
       "4  splat_0.8_de_rq          scsorter        0.906907        0.923316   \n",
       "5  splat_0.8_de_rq             scina        0.854855        0.882902   \n",
       "6  splat_0.8_de_rq           singler        0.870871        0.890155   \n",
       "7  splat_0.8_de_rq            scpred        0.794795        0.811399   \n",
       "\n",
       "   test_accuracy  total_sd  train_sd   test_sd  \n",
       "0       0.620345  0.006807       0.0  0.018547  \n",
       "1       0.544959  0.000000       0.0  0.000000  \n",
       "2            NaN  0.000000       0.0  0.000000  \n",
       "3       0.226158  0.000000       0.0  0.000000  \n",
       "4       0.384196  0.000000       0.0  0.000000  \n",
       "5       0.119891  0.000000       0.0  0.000000  \n",
       "6       0.713896  0.000000       0.0  0.000000  \n",
       "7       0.226158  0.000000       0.0  0.000000  \n",
       "0       0.854167  0.008153       0.0  0.063629  \n",
       "1       0.648438  0.000000       0.0  0.000000  \n",
       "2            NaN  0.000000       0.0  0.000000  \n",
       "3       0.375000  0.000000       0.0  0.000000  \n",
       "4       0.484375  0.000000       0.0  0.000000  \n",
       "5       0.226562  0.000000       0.0  0.000000  \n",
       "6       0.539062  0.000000       0.0  0.000000  \n",
       "7       0.179688  0.000000       0.0  0.000000  \n",
       "0       0.794118  0.001734       0.0  0.050943  \n",
       "1       0.500000  0.000000       0.0  0.000000  \n",
       "2            NaN  0.000000       0.0  0.000000  \n",
       "3       0.558824  0.000000       0.0  0.000000  \n",
       "4       0.441176  0.000000       0.0  0.000000  \n",
       "5       0.058824  0.000000       0.0  0.000000  \n",
       "6       0.323529  0.000000       0.0  0.000000  \n",
       "7       0.323529  0.000000       0.0  0.000000  "
      ]
     },
     "execution_count": 24,
     "metadata": {},
     "output_type": "execute_result"
    }
   ],
   "source": [
    "results"
   ]
  }
 ],
 "metadata": {
  "kernelspec": {
   "display_name": "Python 3.9.7 ('thesis')",
   "language": "python",
   "name": "python3"
  },
  "language_info": {
   "codemirror_mode": {
    "name": "ipython",
    "version": 3
   },
   "file_extension": ".py",
   "mimetype": "text/x-python",
   "name": "python",
   "nbconvert_exporter": "python",
   "pygments_lexer": "ipython3",
   "version": "3.9.7"
  },
  "vscode": {
   "interpreter": {
    "hash": "9e461d02738fd757bc3d2933f9434d370f54d79aa7bbf71ca755487c9a10e111"
   }
  }
 },
 "nbformat": 4,
 "nbformat_minor": 2
}
