{
 "cells": [
  {
   "cell_type": "code",
   "execution_count": 1,
   "metadata": {},
   "outputs": [],
   "source": [
    "from sc_sharp import scSHARP"
   ]
  },
  {
   "cell_type": "code",
   "execution_count": 4,
   "metadata": {},
   "outputs": [],
   "source": [
    "data_path = \"simulations/splat_0.7/query_counts.csv.gz\"\n",
    "tool_preds = \"simulations/splat_0.7/preds.csv\"\n",
    "tool_list = [\"scina\", \"scsorter\", \"sctype\", \"scpred\", \"singler\"]\n",
    "marker_path = \"simulations/splat_0.7/markers.txt\"\n",
    "neighbors=2\n",
    "config=\"configs/2_25.txt\"\n",
    "sharp = scSHARP(data_path, tool_preds, tool_list, marker_path, neighbors, config)"
   ]
  },
  {
   "cell_type": "code",
   "execution_count": 5,
   "metadata": {},
   "outputs": [
    {
     "name": "stdout",
     "output_type": "stream",
     "text": [
      "Loss in epoch 0 = 57.722275\n",
      "Loss in epoch 10 = 0.058696\n",
      "Loss in epoch 20 = 0.013447\n",
      "Loss in epoch 30 = 0.006554\n",
      "Loss in epoch 40 = 0.004437\n",
      "Loss in epoch 50 = 0.002099\n",
      "Loss in epoch 60 = 0.001366\n",
      "Loss in epoch 70 = 0.001172\n",
      "Loss in epoch 80 = 0.000748\n",
      "Loss in epoch 90 = 0.000405\n",
      "Loss in epoch 100 = 0.000256\n",
      "Loss in epoch 110 = 0.000273\n",
      "Loss in epoch 120 = 0.000194\n",
      "Loss in epoch 130 = 0.000132\n",
      "Loss in epoch 140 = 0.000132\n",
      "tensor([0, 0, 2, 0, 3, 3, 1, 2, 1, 2])\n",
      "tensor([1.0000, 1.0000, 1.0000, 1.0000, 1.0000, 1.0000, 1.0000, 1.0000, 1.0000,\n",
      "        1.0000], grad_fn=<SliceBackward0>)\n"
     ]
    }
   ],
   "source": [
    "preds, train_nodes, test_nodes, keep_cells, conf_scores = sharp.run_prediction(training_epochs=150, thresh=0.51, batch_size=20, seed=8)\n",
    "print(preds[0:10])\n",
    "print(conf_scores[0:10])"
   ]
  },
  {
   "cell_type": "code",
   "execution_count": 11,
   "metadata": {},
   "outputs": [],
   "source": [
    "sharp.save_model(\"/Users/daniel/Desktop/example_model\")"
   ]
  },
  {
   "cell_type": "code",
   "execution_count": 12,
   "metadata": {},
   "outputs": [],
   "source": [
    "sharp.load_model(\"/Users/daniel/Desktop/example_model\")"
   ]
  },
  {
   "cell_type": "code",
   "execution_count": 13,
   "metadata": {},
   "outputs": [
    {
     "name": "stderr",
     "output_type": "stream",
     "text": [
      "/Users/daniel/miniconda3/envs/thesis/lib/python3.9/site-packages/captum/_utils/gradient.py:57: UserWarning: Input Tensor 0 did not already require gradients, required_grads has been set automatically.\n",
      "  warnings.warn(\n",
      "/Users/daniel/miniconda3/envs/thesis/lib/python3.9/site-packages/captum/attr/_core/deep_lift.py:336: UserWarning: Setting forward, backward hooks and attributes on non-linear\n",
      "               activations. The hooks and attributes will be removed\n",
      "            after the attribution is finished\n",
      "  warnings.warn(\n"
     ]
    },
    {
     "data": {
      "text/html": [
       "<div>\n",
       "<style scoped>\n",
       "    .dataframe tbody tr th:only-of-type {\n",
       "        vertical-align: middle;\n",
       "    }\n",
       "\n",
       "    .dataframe tbody tr th {\n",
       "        vertical-align: top;\n",
       "    }\n",
       "\n",
       "    .dataframe thead th {\n",
       "        text-align: right;\n",
       "    }\n",
       "</style>\n",
       "<table border=\"1\" class=\"dataframe\">\n",
       "  <thead>\n",
       "    <tr style=\"text-align: right;\">\n",
       "      <th></th>\n",
       "      <th>Group1</th>\n",
       "      <th>Group2</th>\n",
       "      <th>Group3</th>\n",
       "      <th>Group4</th>\n",
       "    </tr>\n",
       "  </thead>\n",
       "  <tbody>\n",
       "    <tr>\n",
       "      <th>Gene1</th>\n",
       "      <td>0.000000</td>\n",
       "      <td>0.000000</td>\n",
       "      <td>5.784811e-05</td>\n",
       "      <td>0.000137</td>\n",
       "    </tr>\n",
       "    <tr>\n",
       "      <th>Gene2</th>\n",
       "      <td>-0.000007</td>\n",
       "      <td>0.000074</td>\n",
       "      <td>-2.888783e-05</td>\n",
       "      <td>0.000146</td>\n",
       "    </tr>\n",
       "    <tr>\n",
       "      <th>Gene3</th>\n",
       "      <td>0.000141</td>\n",
       "      <td>-0.000036</td>\n",
       "      <td>-1.991950e-05</td>\n",
       "      <td>0.000621</td>\n",
       "    </tr>\n",
       "    <tr>\n",
       "      <th>Gene7</th>\n",
       "      <td>0.000000</td>\n",
       "      <td>0.000011</td>\n",
       "      <td>0.000000e+00</td>\n",
       "      <td>0.000489</td>\n",
       "    </tr>\n",
       "    <tr>\n",
       "      <th>Gene9</th>\n",
       "      <td>-0.000011</td>\n",
       "      <td>-0.000058</td>\n",
       "      <td>8.071263e-05</td>\n",
       "      <td>0.000090</td>\n",
       "    </tr>\n",
       "    <tr>\n",
       "      <th>...</th>\n",
       "      <td>...</td>\n",
       "      <td>...</td>\n",
       "      <td>...</td>\n",
       "      <td>...</td>\n",
       "    </tr>\n",
       "    <tr>\n",
       "      <th>Gene33680</th>\n",
       "      <td>0.000000</td>\n",
       "      <td>0.000036</td>\n",
       "      <td>0.000000e+00</td>\n",
       "      <td>0.000402</td>\n",
       "    </tr>\n",
       "    <tr>\n",
       "      <th>Gene33681</th>\n",
       "      <td>-0.000421</td>\n",
       "      <td>0.002731</td>\n",
       "      <td>-1.562732e-04</td>\n",
       "      <td>0.000084</td>\n",
       "    </tr>\n",
       "    <tr>\n",
       "      <th>Gene33682</th>\n",
       "      <td>0.000079</td>\n",
       "      <td>-0.000100</td>\n",
       "      <td>8.683863e-07</td>\n",
       "      <td>0.000790</td>\n",
       "    </tr>\n",
       "    <tr>\n",
       "      <th>Gene33688</th>\n",
       "      <td>0.000111</td>\n",
       "      <td>-0.000008</td>\n",
       "      <td>1.275573e-04</td>\n",
       "      <td>0.000222</td>\n",
       "    </tr>\n",
       "    <tr>\n",
       "      <th>Gene33690</th>\n",
       "      <td>0.000014</td>\n",
       "      <td>0.000205</td>\n",
       "      <td>3.990675e-05</td>\n",
       "      <td>-0.000078</td>\n",
       "    </tr>\n",
       "  </tbody>\n",
       "</table>\n",
       "<p>15419 rows × 4 columns</p>\n",
       "</div>"
      ],
      "text/plain": [
       "             Group1    Group2        Group3    Group4\n",
       "Gene1      0.000000  0.000000  5.784811e-05  0.000137\n",
       "Gene2     -0.000007  0.000074 -2.888783e-05  0.000146\n",
       "Gene3      0.000141 -0.000036 -1.991950e-05  0.000621\n",
       "Gene7      0.000000  0.000011  0.000000e+00  0.000489\n",
       "Gene9     -0.000011 -0.000058  8.071263e-05  0.000090\n",
       "...             ...       ...           ...       ...\n",
       "Gene33680  0.000000  0.000036  0.000000e+00  0.000402\n",
       "Gene33681 -0.000421  0.002731 -1.562732e-04  0.000084\n",
       "Gene33682  0.000079 -0.000100  8.683863e-07  0.000790\n",
       "Gene33688  0.000111 -0.000008  1.275573e-04  0.000222\n",
       "Gene33690  0.000014  0.000205  3.990675e-05 -0.000078\n",
       "\n",
       "[15419 rows x 4 columns]"
      ]
     },
     "execution_count": 13,
     "metadata": {},
     "output_type": "execute_result"
    }
   ],
   "source": [
    "int_df = sharp.run_interpretation()\n",
    "int_df"
   ]
  }
 ],
 "metadata": {
  "kernelspec": {
   "display_name": "Python 3.9.7 ('thesis')",
   "language": "python",
   "name": "python3"
  },
  "language_info": {
   "codemirror_mode": {
    "name": "ipython",
    "version": 3
   },
   "file_extension": ".py",
   "mimetype": "text/x-python",
   "name": "python",
   "nbconvert_exporter": "python",
   "pygments_lexer": "ipython3",
   "version": "3.9.7"
  },
  "orig_nbformat": 4,
  "vscode": {
   "interpreter": {
    "hash": "9e461d02738fd757bc3d2933f9434d370f54d79aa7bbf71ca755487c9a10e111"
   }
  }
 },
 "nbformat": 4,
 "nbformat_minor": 2
}
