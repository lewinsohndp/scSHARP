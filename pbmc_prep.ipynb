{
 "cells": [
  {
   "cell_type": "code",
   "execution_count": 1,
   "id": "445fe862",
   "metadata": {},
   "outputs": [
    {
     "name": "stderr",
     "output_type": "stream",
     "text": [
      "/home/users/lewinsda/.conda/envs/daniel_thesis_2/lib/python3.9/site-packages/tqdm/auto.py:22: TqdmWarning: IProgress not found. Please update jupyter and ipywidgets. See https://ipywidgets.readthedocs.io/en/stable/user_install.html\n",
      "  from .autonotebook import tqdm as notebook_tqdm\n"
     ]
    }
   ],
   "source": [
    "import pandas as pd\n",
    "import numpy as np\n",
    "from scipy.io import mmread\n",
    "import utilities "
   ]
  },
  {
   "cell_type": "code",
   "execution_count": 2,
   "id": "f3ace47f",
   "metadata": {},
   "outputs": [],
   "source": [
    "data_path = \"/home/groups/ConradLab/daniel/sharp_data/pbmc_10x/\"\n",
    "cell_types = [\"b_cells\", \"cd14_monocytes\"]\n",
    "#cell_types = [\"b_cells\", \"cd14_monocytes\", \"cd34\", \"cd4_t_helper\", \"cd56_nk\", \"cytotoxic_t\", \"memory_t\", \"naive_cytotoxic\", \"naive_t\", \"regulatory_t\"]"
   ]
  },
  {
   "cell_type": "code",
   "execution_count": 39,
   "id": "9450b8c6",
   "metadata": {},
   "outputs": [],
   "source": [
    "data = mmread(data_path + cell_types[1] + \"_filtered_gene_bc_matrices/hg19/matrix.mtx\").toarray()"
   ]
  },
  {
   "cell_type": "code",
   "execution_count": 4,
   "id": "4d085c9f",
   "metadata": {},
   "outputs": [
    {
     "data": {
      "text/plain": [
       "(32738, 10085)"
      ]
     },
     "execution_count": 4,
     "metadata": {},
     "output_type": "execute_result"
    }
   ],
   "source": [
    "data.shape"
   ]
  },
  {
   "cell_type": "code",
   "execution_count": 5,
   "id": "8642b2ce",
   "metadata": {},
   "outputs": [
    {
     "name": "stderr",
     "output_type": "stream",
     "text": [
      "<ipython-input-5-703b0dab77a7>:1: ParserWarning: Falling back to the 'python' engine because the 'c' engine does not support regex separators (separators > 1 char and different from '\\s+' are interpreted as regex); you can avoid this warning by specifying engine='python'.\n",
      "  b_genes = pd.read_csv(data_path + cell_types[0] + \"_filtered_gene_bc_matrices/hg19/genes.tsv\", sep=\"/t\", header=None).to_numpy().flatten()\n",
      "<ipython-input-5-703b0dab77a7>:2: ParserWarning: Falling back to the 'python' engine because the 'c' engine does not support regex separators (separators > 1 char and different from '\\s+' are interpreted as regex); you can avoid this warning by specifying engine='python'.\n",
      "  b_cells = pd.read_csv(data_path + cell_types[0] + \"_filtered_gene_bc_matrices/hg19/barcodes.tsv\", sep=\"/t\", header=None).to_numpy().flatten()\n"
     ]
    }
   ],
   "source": [
    "b_genes = pd.read_csv(data_path + cell_types[0] + \"_filtered_gene_bc_matrices/hg19/genes.tsv\", sep=\"/t\", header=None).to_numpy().flatten()\n",
    "b_cells = pd.read_csv(data_path + cell_types[0] + \"_filtered_gene_bc_matrices/hg19/barcodes.tsv\", sep=\"/t\", header=None).to_numpy().flatten()"
   ]
  },
  {
   "cell_type": "code",
   "execution_count": 6,
   "id": "4024c14e",
   "metadata": {},
   "outputs": [
    {
     "name": "stderr",
     "output_type": "stream",
     "text": [
      "<ipython-input-6-937ddd0416b0>:1: ParserWarning: Falling back to the 'python' engine because the 'c' engine does not support regex separators (separators > 1 char and different from '\\s+' are interpreted as regex); you can avoid this warning by specifying engine='python'.\n",
      "  m_genes = pd.read_csv(data_path + cell_types[1] + \"_filtered_gene_bc_matrices/hg19/genes.tsv\", sep=\"/t\", header=None).to_numpy().flatten()\n",
      "<ipython-input-6-937ddd0416b0>:2: ParserWarning: Falling back to the 'python' engine because the 'c' engine does not support regex separators (separators > 1 char and different from '\\s+' are interpreted as regex); you can avoid this warning by specifying engine='python'.\n",
      "  m_cells = pd.read_csv(data_path + cell_types[1] + \"_filtered_gene_bc_matrices/hg19/barcodes.tsv\", sep=\"/t\", header=None).to_numpy().flatten()\n"
     ]
    }
   ],
   "source": [
    "m_genes = pd.read_csv(data_path + cell_types[1] + \"_filtered_gene_bc_matrices/hg19/genes.tsv\", sep=\"/t\", header=None).to_numpy().flatten()\n",
    "m_cells = pd.read_csv(data_path + cell_types[1] + \"_filtered_gene_bc_matrices/hg19/barcodes.tsv\", sep=\"/t\", header=None).to_numpy().flatten()"
   ]
  },
  {
   "cell_type": "code",
   "execution_count": 13,
   "id": "639f4a86",
   "metadata": {},
   "outputs": [
    {
     "data": {
      "text/plain": [
       "(2612,)"
      ]
     },
     "execution_count": 13,
     "metadata": {},
     "output_type": "execute_result"
    }
   ],
   "source": [
    "m_cells.shape"
   ]
  },
  {
   "cell_type": "code",
   "execution_count": 12,
   "id": "53376a18",
   "metadata": {},
   "outputs": [
    {
     "data": {
      "text/plain": [
       "(10085,)"
      ]
     },
     "execution_count": 12,
     "metadata": {},
     "output_type": "execute_result"
    }
   ],
   "source": [
    "b_cells.shape"
   ]
  },
  {
   "cell_type": "code",
   "execution_count": 27,
   "id": "163604fe",
   "metadata": {},
   "outputs": [
    {
     "data": {
      "text/plain": [
       "[[1, 2]]"
      ]
     },
     "execution_count": 27,
     "metadata": {},
     "output_type": "execute_result"
    }
   ],
   "source": [
    "labels = []\n",
    "labels.append([1,2])\n",
    "labels"
   ]
  },
  {
   "cell_type": "code",
   "execution_count": 29,
   "id": "d7caff82",
   "metadata": {},
   "outputs": [
    {
     "data": {
      "text/plain": [
       "['b_cells', 'b_cells', 'b_cells', 'b_cells', 'b_cells']"
      ]
     },
     "execution_count": 29,
     "metadata": {},
     "output_type": "execute_result"
    }
   ],
   "source": [
    "[cell_types[0]]*5"
   ]
  },
  {
   "cell_type": "code",
   "execution_count": 3,
   "id": "5ea563f5",
   "metadata": {
    "scrolled": true
   },
   "outputs": [
    {
     "name": "stderr",
     "output_type": "stream",
     "text": [
      "<ipython-input-3-f25246847ef9>:5: ParserWarning: Falling back to the 'python' engine because the 'c' engine does not support regex separators (separators > 1 char and different from '\\s+' are interpreted as regex); you can avoid this warning by specifying engine='python'.\n",
      "  temp_genes = pd.read_csv(data_path + cell_type + \"_filtered_gene_bc_matrices/hg19/genes.tsv\", sep=\"/t\", header=None).to_numpy().flatten()\n",
      "<ipython-input-3-f25246847ef9>:6: ParserWarning: Falling back to the 'python' engine because the 'c' engine does not support regex separators (separators > 1 char and different from '\\s+' are interpreted as regex); you can avoid this warning by specifying engine='python'.\n",
      "  temp_cells = pd.read_csv(data_path + cell_type + \"_filtered_gene_bc_matrices/hg19/barcodes.tsv\", sep=\"/t\", header=None).to_numpy().flatten()\n"
     ]
    }
   ],
   "source": [
    "final_df = None\n",
    "labels = []\n",
    "for i, cell_type in enumerate(cell_types):\n",
    "    temp_data = mmread(data_path + cell_type + \"_filtered_gene_bc_matrices/hg19/matrix.mtx\").toarray()\n",
    "    temp_genes = pd.read_csv(data_path + cell_type + \"_filtered_gene_bc_matrices/hg19/genes.tsv\", sep=\"/t\", header=None).to_numpy().flatten()\n",
    "    temp_cells = pd.read_csv(data_path + cell_type + \"_filtered_gene_bc_matrices/hg19/barcodes.tsv\", sep=\"/t\", header=None).to_numpy().flatten()\n",
    "    \n",
    "    if i == 0:\n",
    "        final_df = pd.DataFrame(temp_data)\n",
    "        final_df.index = temp_genes\n",
    "        final_df.columns = temp_cells\n",
    "    else:\n",
    "        temp_df = pd.DataFrame(temp_data)\n",
    "        temp_df.index = temp_genes\n",
    "        temp_df.columns = temp_cells\n",
    "        final_df = final_df.merge(temp_df, how='inner', left_index=True, right_index=True)\n",
    "    \n",
    "    labels += [cell_type]*len(temp_cells)"
   ]
  },
  {
   "cell_type": "code",
   "execution_count": 32,
   "id": "fc8cc1c8",
   "metadata": {},
   "outputs": [
    {
     "data": {
      "text/plain": [
       "(32738, 12697)"
      ]
     },
     "execution_count": 32,
     "metadata": {},
     "output_type": "execute_result"
    }
   ],
   "source": [
    "final_df.shape"
   ]
  },
  {
   "cell_type": "code",
   "execution_count": 38,
   "id": "e6038b89",
   "metadata": {},
   "outputs": [
    {
     "data": {
      "text/plain": [
       "12697"
      ]
     },
     "execution_count": 38,
     "metadata": {},
     "output_type": "execute_result"
    }
   ],
   "source": [
    "len(labels)"
   ]
  },
  {
   "cell_type": "code",
   "execution_count": 44,
   "id": "5c5a9b31",
   "metadata": {},
   "outputs": [],
   "source": [
    "final_df = final_df.T"
   ]
  },
  {
   "cell_type": "code",
   "execution_count": 45,
   "id": "1ac2875f",
   "metadata": {},
   "outputs": [
    {
     "data": {
      "text/plain": [
       "(12697, 32738)"
      ]
     },
     "execution_count": 45,
     "metadata": {},
     "output_type": "execute_result"
    }
   ],
   "source": [
    "final_df.shape"
   ]
  },
  {
   "cell_type": "code",
   "execution_count": 46,
   "id": "a9b1c20d",
   "metadata": {},
   "outputs": [],
   "source": [
    "final_df['labels'] = labels"
   ]
  },
  {
   "cell_type": "code",
   "execution_count": 56,
   "id": "9c076cd0",
   "metadata": {},
   "outputs": [],
   "source": [
    "shuffled_df = final_df.sample(frac=1, random_state=8)"
   ]
  },
  {
   "cell_type": "code",
   "execution_count": 57,
   "id": "6a13ad48",
   "metadata": {},
   "outputs": [
    {
     "data": {
      "text/plain": [
       "AGGCCTCTAACCTG-1           b_cells\n",
       "AGGCCTCTCCCTTG-1           b_cells\n",
       "TCTAAGCTAAGATG-1           b_cells\n",
       "GGTCTAGACGTGTA-1           b_cells\n",
       "TATCTGACCTAGCA-1           b_cells\n",
       "                         ...      \n",
       "GTAGCATGGTTTGG-1           b_cells\n",
       "GATCTACTGTTCTT-1    cd14_monocytes\n",
       "ACTGAGACATGTCG-1           b_cells\n",
       "GTAGCCCTATAAGG-1           b_cells\n",
       "ACTATCACCTCTAT-1           b_cells\n",
       "Name: labels, Length: 12697, dtype: object"
      ]
     },
     "execution_count": 57,
     "metadata": {},
     "output_type": "execute_result"
    }
   ],
   "source": [
    "shuffled_df['labels']"
   ]
  },
  {
   "cell_type": "code",
   "execution_count": 59,
   "id": "dce2bf4c",
   "metadata": {},
   "outputs": [],
   "source": [
    "split_one = shuffled_df.sample(frac=0.10, random_state=9)\n",
    "split_two = shuffled_df.drop(split_one.index)"
   ]
  },
  {
   "cell_type": "code",
   "execution_count": 60,
   "id": "e5628584",
   "metadata": {},
   "outputs": [
    {
     "data": {
      "text/plain": [
       "(1270, 32739)"
      ]
     },
     "execution_count": 60,
     "metadata": {},
     "output_type": "execute_result"
    }
   ],
   "source": [
    "split_one.shape"
   ]
  },
  {
   "cell_type": "code",
   "execution_count": 61,
   "id": "f4aff470",
   "metadata": {},
   "outputs": [
    {
     "data": {
      "text/plain": [
       "(11427, 32739)"
      ]
     },
     "execution_count": 61,
     "metadata": {},
     "output_type": "execute_result"
    }
   ],
   "source": [
    "split_two.shape"
   ]
  },
  {
   "cell_type": "code",
   "execution_count": 62,
   "id": "3f9cc254",
   "metadata": {},
   "outputs": [],
   "source": [
    "split_one_labels = split_one['labels']"
   ]
  },
  {
   "cell_type": "code",
   "execution_count": 65,
   "id": "16b3baec",
   "metadata": {},
   "outputs": [
    {
     "data": {
      "text/html": [
       "<div>\n",
       "<style scoped>\n",
       "    .dataframe tbody tr th:only-of-type {\n",
       "        vertical-align: middle;\n",
       "    }\n",
       "\n",
       "    .dataframe tbody tr th {\n",
       "        vertical-align: top;\n",
       "    }\n",
       "\n",
       "    .dataframe thead th {\n",
       "        text-align: right;\n",
       "    }\n",
       "</style>\n",
       "<table border=\"1\" class=\"dataframe\">\n",
       "  <thead>\n",
       "    <tr style=\"text-align: right;\">\n",
       "      <th></th>\n",
       "      <th>ENSG00000243485\\tMIR1302-10</th>\n",
       "      <th>ENSG00000237613\\tFAM138A</th>\n",
       "      <th>ENSG00000186092\\tOR4F5</th>\n",
       "      <th>ENSG00000238009\\tRP11-34P13.7</th>\n",
       "      <th>ENSG00000239945\\tRP11-34P13.8</th>\n",
       "      <th>ENSG00000237683\\tAL627309.1</th>\n",
       "      <th>ENSG00000239906\\tRP11-34P13.14</th>\n",
       "      <th>ENSG00000241599\\tRP11-34P13.9</th>\n",
       "      <th>ENSG00000228463\\tAP006222.2</th>\n",
       "      <th>ENSG00000237094\\tRP4-669L17.10</th>\n",
       "      <th>...</th>\n",
       "      <th>ENSG00000217792\\tKIR3DL2</th>\n",
       "      <th>ENSG00000268276\\tAL590523.1</th>\n",
       "      <th>ENSG00000148828\\tCT476828.1</th>\n",
       "      <th>ENSG00000215700\\tPNRC2</th>\n",
       "      <th>ENSG00000215699\\tSRSF10</th>\n",
       "      <th>ENSG00000215635\\tAC145205.1</th>\n",
       "      <th>ENSG00000268590\\tBAGE5</th>\n",
       "      <th>ENSG00000251180\\tCU459201.1</th>\n",
       "      <th>ENSG00000215616\\tAC002321.2</th>\n",
       "      <th>ENSG00000215611\\tAC002321.1</th>\n",
       "    </tr>\n",
       "  </thead>\n",
       "  <tbody>\n",
       "    <tr>\n",
       "      <th>CTGACAGACCAAGT-1</th>\n",
       "      <td>0.0</td>\n",
       "      <td>0.0</td>\n",
       "      <td>0.0</td>\n",
       "      <td>0.0</td>\n",
       "      <td>0.0</td>\n",
       "      <td>0.0</td>\n",
       "      <td>0.0</td>\n",
       "      <td>0.0</td>\n",
       "      <td>0.0</td>\n",
       "      <td>0.0</td>\n",
       "      <td>...</td>\n",
       "      <td>0.0</td>\n",
       "      <td>0.0</td>\n",
       "      <td>0.0</td>\n",
       "      <td>0.0</td>\n",
       "      <td>0.0</td>\n",
       "      <td>0.0</td>\n",
       "      <td>0.0</td>\n",
       "      <td>0.0</td>\n",
       "      <td>0.0</td>\n",
       "      <td>0.0</td>\n",
       "    </tr>\n",
       "    <tr>\n",
       "      <th>GAGCAACTGCCAAT-1</th>\n",
       "      <td>0.0</td>\n",
       "      <td>0.0</td>\n",
       "      <td>0.0</td>\n",
       "      <td>0.0</td>\n",
       "      <td>0.0</td>\n",
       "      <td>0.0</td>\n",
       "      <td>0.0</td>\n",
       "      <td>0.0</td>\n",
       "      <td>0.0</td>\n",
       "      <td>0.0</td>\n",
       "      <td>...</td>\n",
       "      <td>0.0</td>\n",
       "      <td>0.0</td>\n",
       "      <td>0.0</td>\n",
       "      <td>0.0</td>\n",
       "      <td>0.0</td>\n",
       "      <td>0.0</td>\n",
       "      <td>0.0</td>\n",
       "      <td>0.0</td>\n",
       "      <td>0.0</td>\n",
       "      <td>0.0</td>\n",
       "    </tr>\n",
       "    <tr>\n",
       "      <th>GCAACTGAAGCACT-1</th>\n",
       "      <td>0.0</td>\n",
       "      <td>0.0</td>\n",
       "      <td>0.0</td>\n",
       "      <td>0.0</td>\n",
       "      <td>0.0</td>\n",
       "      <td>0.0</td>\n",
       "      <td>0.0</td>\n",
       "      <td>0.0</td>\n",
       "      <td>0.0</td>\n",
       "      <td>0.0</td>\n",
       "      <td>...</td>\n",
       "      <td>0.0</td>\n",
       "      <td>0.0</td>\n",
       "      <td>0.0</td>\n",
       "      <td>0.0</td>\n",
       "      <td>0.0</td>\n",
       "      <td>0.0</td>\n",
       "      <td>0.0</td>\n",
       "      <td>0.0</td>\n",
       "      <td>0.0</td>\n",
       "      <td>0.0</td>\n",
       "    </tr>\n",
       "    <tr>\n",
       "      <th>ACTTGACTTTTGGG-1</th>\n",
       "      <td>0.0</td>\n",
       "      <td>0.0</td>\n",
       "      <td>0.0</td>\n",
       "      <td>0.0</td>\n",
       "      <td>0.0</td>\n",
       "      <td>0.0</td>\n",
       "      <td>0.0</td>\n",
       "      <td>0.0</td>\n",
       "      <td>0.0</td>\n",
       "      <td>0.0</td>\n",
       "      <td>...</td>\n",
       "      <td>0.0</td>\n",
       "      <td>0.0</td>\n",
       "      <td>0.0</td>\n",
       "      <td>0.0</td>\n",
       "      <td>0.0</td>\n",
       "      <td>0.0</td>\n",
       "      <td>0.0</td>\n",
       "      <td>0.0</td>\n",
       "      <td>0.0</td>\n",
       "      <td>0.0</td>\n",
       "    </tr>\n",
       "    <tr>\n",
       "      <th>CTTAAGCTTGCATG-1</th>\n",
       "      <td>0.0</td>\n",
       "      <td>0.0</td>\n",
       "      <td>0.0</td>\n",
       "      <td>0.0</td>\n",
       "      <td>0.0</td>\n",
       "      <td>0.0</td>\n",
       "      <td>0.0</td>\n",
       "      <td>0.0</td>\n",
       "      <td>0.0</td>\n",
       "      <td>0.0</td>\n",
       "      <td>...</td>\n",
       "      <td>0.0</td>\n",
       "      <td>0.0</td>\n",
       "      <td>0.0</td>\n",
       "      <td>0.0</td>\n",
       "      <td>0.0</td>\n",
       "      <td>0.0</td>\n",
       "      <td>0.0</td>\n",
       "      <td>0.0</td>\n",
       "      <td>0.0</td>\n",
       "      <td>0.0</td>\n",
       "    </tr>\n",
       "    <tr>\n",
       "      <th>...</th>\n",
       "      <td>...</td>\n",
       "      <td>...</td>\n",
       "      <td>...</td>\n",
       "      <td>...</td>\n",
       "      <td>...</td>\n",
       "      <td>...</td>\n",
       "      <td>...</td>\n",
       "      <td>...</td>\n",
       "      <td>...</td>\n",
       "      <td>...</td>\n",
       "      <td>...</td>\n",
       "      <td>...</td>\n",
       "      <td>...</td>\n",
       "      <td>...</td>\n",
       "      <td>...</td>\n",
       "      <td>...</td>\n",
       "      <td>...</td>\n",
       "      <td>...</td>\n",
       "      <td>...</td>\n",
       "      <td>...</td>\n",
       "      <td>...</td>\n",
       "    </tr>\n",
       "    <tr>\n",
       "      <th>GGGATGGATTTCGT-1</th>\n",
       "      <td>0.0</td>\n",
       "      <td>0.0</td>\n",
       "      <td>0.0</td>\n",
       "      <td>0.0</td>\n",
       "      <td>0.0</td>\n",
       "      <td>0.0</td>\n",
       "      <td>0.0</td>\n",
       "      <td>0.0</td>\n",
       "      <td>0.0</td>\n",
       "      <td>0.0</td>\n",
       "      <td>...</td>\n",
       "      <td>0.0</td>\n",
       "      <td>0.0</td>\n",
       "      <td>0.0</td>\n",
       "      <td>0.0</td>\n",
       "      <td>0.0</td>\n",
       "      <td>0.0</td>\n",
       "      <td>0.0</td>\n",
       "      <td>0.0</td>\n",
       "      <td>0.0</td>\n",
       "      <td>0.0</td>\n",
       "    </tr>\n",
       "    <tr>\n",
       "      <th>CGCACTTGCGAGTT-1</th>\n",
       "      <td>0.0</td>\n",
       "      <td>0.0</td>\n",
       "      <td>0.0</td>\n",
       "      <td>0.0</td>\n",
       "      <td>0.0</td>\n",
       "      <td>0.0</td>\n",
       "      <td>0.0</td>\n",
       "      <td>0.0</td>\n",
       "      <td>0.0</td>\n",
       "      <td>0.0</td>\n",
       "      <td>...</td>\n",
       "      <td>0.0</td>\n",
       "      <td>0.0</td>\n",
       "      <td>0.0</td>\n",
       "      <td>0.0</td>\n",
       "      <td>0.0</td>\n",
       "      <td>0.0</td>\n",
       "      <td>0.0</td>\n",
       "      <td>0.0</td>\n",
       "      <td>0.0</td>\n",
       "      <td>0.0</td>\n",
       "    </tr>\n",
       "    <tr>\n",
       "      <th>CTATGACTAACGTC-1</th>\n",
       "      <td>0.0</td>\n",
       "      <td>0.0</td>\n",
       "      <td>0.0</td>\n",
       "      <td>0.0</td>\n",
       "      <td>0.0</td>\n",
       "      <td>0.0</td>\n",
       "      <td>0.0</td>\n",
       "      <td>0.0</td>\n",
       "      <td>0.0</td>\n",
       "      <td>0.0</td>\n",
       "      <td>...</td>\n",
       "      <td>0.0</td>\n",
       "      <td>0.0</td>\n",
       "      <td>0.0</td>\n",
       "      <td>0.0</td>\n",
       "      <td>0.0</td>\n",
       "      <td>0.0</td>\n",
       "      <td>0.0</td>\n",
       "      <td>0.0</td>\n",
       "      <td>0.0</td>\n",
       "      <td>0.0</td>\n",
       "    </tr>\n",
       "    <tr>\n",
       "      <th>TCCACGTGTGAGCT-1</th>\n",
       "      <td>0.0</td>\n",
       "      <td>0.0</td>\n",
       "      <td>0.0</td>\n",
       "      <td>0.0</td>\n",
       "      <td>0.0</td>\n",
       "      <td>0.0</td>\n",
       "      <td>0.0</td>\n",
       "      <td>0.0</td>\n",
       "      <td>0.0</td>\n",
       "      <td>0.0</td>\n",
       "      <td>...</td>\n",
       "      <td>0.0</td>\n",
       "      <td>0.0</td>\n",
       "      <td>0.0</td>\n",
       "      <td>0.0</td>\n",
       "      <td>0.0</td>\n",
       "      <td>0.0</td>\n",
       "      <td>0.0</td>\n",
       "      <td>0.0</td>\n",
       "      <td>0.0</td>\n",
       "      <td>0.0</td>\n",
       "    </tr>\n",
       "    <tr>\n",
       "      <th>GTCACAGAGTACGT-1</th>\n",
       "      <td>0.0</td>\n",
       "      <td>0.0</td>\n",
       "      <td>0.0</td>\n",
       "      <td>0.0</td>\n",
       "      <td>0.0</td>\n",
       "      <td>0.0</td>\n",
       "      <td>0.0</td>\n",
       "      <td>0.0</td>\n",
       "      <td>0.0</td>\n",
       "      <td>0.0</td>\n",
       "      <td>...</td>\n",
       "      <td>0.0</td>\n",
       "      <td>0.0</td>\n",
       "      <td>0.0</td>\n",
       "      <td>0.0</td>\n",
       "      <td>0.0</td>\n",
       "      <td>0.0</td>\n",
       "      <td>0.0</td>\n",
       "      <td>0.0</td>\n",
       "      <td>0.0</td>\n",
       "      <td>0.0</td>\n",
       "    </tr>\n",
       "  </tbody>\n",
       "</table>\n",
       "<p>1270 rows × 32738 columns</p>\n",
       "</div>"
      ],
      "text/plain": [
       "                  ENSG00000243485\\tMIR1302-10  ENSG00000237613\\tFAM138A  \\\n",
       "CTGACAGACCAAGT-1                          0.0                       0.0   \n",
       "GAGCAACTGCCAAT-1                          0.0                       0.0   \n",
       "GCAACTGAAGCACT-1                          0.0                       0.0   \n",
       "ACTTGACTTTTGGG-1                          0.0                       0.0   \n",
       "CTTAAGCTTGCATG-1                          0.0                       0.0   \n",
       "...                                       ...                       ...   \n",
       "GGGATGGATTTCGT-1                          0.0                       0.0   \n",
       "CGCACTTGCGAGTT-1                          0.0                       0.0   \n",
       "CTATGACTAACGTC-1                          0.0                       0.0   \n",
       "TCCACGTGTGAGCT-1                          0.0                       0.0   \n",
       "GTCACAGAGTACGT-1                          0.0                       0.0   \n",
       "\n",
       "                  ENSG00000186092\\tOR4F5  ENSG00000238009\\tRP11-34P13.7  \\\n",
       "CTGACAGACCAAGT-1                     0.0                            0.0   \n",
       "GAGCAACTGCCAAT-1                     0.0                            0.0   \n",
       "GCAACTGAAGCACT-1                     0.0                            0.0   \n",
       "ACTTGACTTTTGGG-1                     0.0                            0.0   \n",
       "CTTAAGCTTGCATG-1                     0.0                            0.0   \n",
       "...                                  ...                            ...   \n",
       "GGGATGGATTTCGT-1                     0.0                            0.0   \n",
       "CGCACTTGCGAGTT-1                     0.0                            0.0   \n",
       "CTATGACTAACGTC-1                     0.0                            0.0   \n",
       "TCCACGTGTGAGCT-1                     0.0                            0.0   \n",
       "GTCACAGAGTACGT-1                     0.0                            0.0   \n",
       "\n",
       "                  ENSG00000239945\\tRP11-34P13.8  ENSG00000237683\\tAL627309.1  \\\n",
       "CTGACAGACCAAGT-1                            0.0                          0.0   \n",
       "GAGCAACTGCCAAT-1                            0.0                          0.0   \n",
       "GCAACTGAAGCACT-1                            0.0                          0.0   \n",
       "ACTTGACTTTTGGG-1                            0.0                          0.0   \n",
       "CTTAAGCTTGCATG-1                            0.0                          0.0   \n",
       "...                                         ...                          ...   \n",
       "GGGATGGATTTCGT-1                            0.0                          0.0   \n",
       "CGCACTTGCGAGTT-1                            0.0                          0.0   \n",
       "CTATGACTAACGTC-1                            0.0                          0.0   \n",
       "TCCACGTGTGAGCT-1                            0.0                          0.0   \n",
       "GTCACAGAGTACGT-1                            0.0                          0.0   \n",
       "\n",
       "                  ENSG00000239906\\tRP11-34P13.14  \\\n",
       "CTGACAGACCAAGT-1                             0.0   \n",
       "GAGCAACTGCCAAT-1                             0.0   \n",
       "GCAACTGAAGCACT-1                             0.0   \n",
       "ACTTGACTTTTGGG-1                             0.0   \n",
       "CTTAAGCTTGCATG-1                             0.0   \n",
       "...                                          ...   \n",
       "GGGATGGATTTCGT-1                             0.0   \n",
       "CGCACTTGCGAGTT-1                             0.0   \n",
       "CTATGACTAACGTC-1                             0.0   \n",
       "TCCACGTGTGAGCT-1                             0.0   \n",
       "GTCACAGAGTACGT-1                             0.0   \n",
       "\n",
       "                  ENSG00000241599\\tRP11-34P13.9  ENSG00000228463\\tAP006222.2  \\\n",
       "CTGACAGACCAAGT-1                            0.0                          0.0   \n",
       "GAGCAACTGCCAAT-1                            0.0                          0.0   \n",
       "GCAACTGAAGCACT-1                            0.0                          0.0   \n",
       "ACTTGACTTTTGGG-1                            0.0                          0.0   \n",
       "CTTAAGCTTGCATG-1                            0.0                          0.0   \n",
       "...                                         ...                          ...   \n",
       "GGGATGGATTTCGT-1                            0.0                          0.0   \n",
       "CGCACTTGCGAGTT-1                            0.0                          0.0   \n",
       "CTATGACTAACGTC-1                            0.0                          0.0   \n",
       "TCCACGTGTGAGCT-1                            0.0                          0.0   \n",
       "GTCACAGAGTACGT-1                            0.0                          0.0   \n",
       "\n",
       "                  ENSG00000237094\\tRP4-669L17.10  ...  \\\n",
       "CTGACAGACCAAGT-1                             0.0  ...   \n",
       "GAGCAACTGCCAAT-1                             0.0  ...   \n",
       "GCAACTGAAGCACT-1                             0.0  ...   \n",
       "ACTTGACTTTTGGG-1                             0.0  ...   \n",
       "CTTAAGCTTGCATG-1                             0.0  ...   \n",
       "...                                          ...  ...   \n",
       "GGGATGGATTTCGT-1                             0.0  ...   \n",
       "CGCACTTGCGAGTT-1                             0.0  ...   \n",
       "CTATGACTAACGTC-1                             0.0  ...   \n",
       "TCCACGTGTGAGCT-1                             0.0  ...   \n",
       "GTCACAGAGTACGT-1                             0.0  ...   \n",
       "\n",
       "                  ENSG00000217792\\tKIR3DL2  ENSG00000268276\\tAL590523.1  \\\n",
       "CTGACAGACCAAGT-1                       0.0                          0.0   \n",
       "GAGCAACTGCCAAT-1                       0.0                          0.0   \n",
       "GCAACTGAAGCACT-1                       0.0                          0.0   \n",
       "ACTTGACTTTTGGG-1                       0.0                          0.0   \n",
       "CTTAAGCTTGCATG-1                       0.0                          0.0   \n",
       "...                                    ...                          ...   \n",
       "GGGATGGATTTCGT-1                       0.0                          0.0   \n",
       "CGCACTTGCGAGTT-1                       0.0                          0.0   \n",
       "CTATGACTAACGTC-1                       0.0                          0.0   \n",
       "TCCACGTGTGAGCT-1                       0.0                          0.0   \n",
       "GTCACAGAGTACGT-1                       0.0                          0.0   \n",
       "\n",
       "                  ENSG00000148828\\tCT476828.1  ENSG00000215700\\tPNRC2  \\\n",
       "CTGACAGACCAAGT-1                          0.0                     0.0   \n",
       "GAGCAACTGCCAAT-1                          0.0                     0.0   \n",
       "GCAACTGAAGCACT-1                          0.0                     0.0   \n",
       "ACTTGACTTTTGGG-1                          0.0                     0.0   \n",
       "CTTAAGCTTGCATG-1                          0.0                     0.0   \n",
       "...                                       ...                     ...   \n",
       "GGGATGGATTTCGT-1                          0.0                     0.0   \n",
       "CGCACTTGCGAGTT-1                          0.0                     0.0   \n",
       "CTATGACTAACGTC-1                          0.0                     0.0   \n",
       "TCCACGTGTGAGCT-1                          0.0                     0.0   \n",
       "GTCACAGAGTACGT-1                          0.0                     0.0   \n",
       "\n",
       "                  ENSG00000215699\\tSRSF10  ENSG00000215635\\tAC145205.1  \\\n",
       "CTGACAGACCAAGT-1                      0.0                          0.0   \n",
       "GAGCAACTGCCAAT-1                      0.0                          0.0   \n",
       "GCAACTGAAGCACT-1                      0.0                          0.0   \n",
       "ACTTGACTTTTGGG-1                      0.0                          0.0   \n",
       "CTTAAGCTTGCATG-1                      0.0                          0.0   \n",
       "...                                   ...                          ...   \n",
       "GGGATGGATTTCGT-1                      0.0                          0.0   \n",
       "CGCACTTGCGAGTT-1                      0.0                          0.0   \n",
       "CTATGACTAACGTC-1                      0.0                          0.0   \n",
       "TCCACGTGTGAGCT-1                      0.0                          0.0   \n",
       "GTCACAGAGTACGT-1                      0.0                          0.0   \n",
       "\n",
       "                  ENSG00000268590\\tBAGE5  ENSG00000251180\\tCU459201.1  \\\n",
       "CTGACAGACCAAGT-1                     0.0                          0.0   \n",
       "GAGCAACTGCCAAT-1                     0.0                          0.0   \n",
       "GCAACTGAAGCACT-1                     0.0                          0.0   \n",
       "ACTTGACTTTTGGG-1                     0.0                          0.0   \n",
       "CTTAAGCTTGCATG-1                     0.0                          0.0   \n",
       "...                                  ...                          ...   \n",
       "GGGATGGATTTCGT-1                     0.0                          0.0   \n",
       "CGCACTTGCGAGTT-1                     0.0                          0.0   \n",
       "CTATGACTAACGTC-1                     0.0                          0.0   \n",
       "TCCACGTGTGAGCT-1                     0.0                          0.0   \n",
       "GTCACAGAGTACGT-1                     0.0                          0.0   \n",
       "\n",
       "                  ENSG00000215616\\tAC002321.2  ENSG00000215611\\tAC002321.1  \n",
       "CTGACAGACCAAGT-1                          0.0                          0.0  \n",
       "GAGCAACTGCCAAT-1                          0.0                          0.0  \n",
       "GCAACTGAAGCACT-1                          0.0                          0.0  \n",
       "ACTTGACTTTTGGG-1                          0.0                          0.0  \n",
       "CTTAAGCTTGCATG-1                          0.0                          0.0  \n",
       "...                                       ...                          ...  \n",
       "GGGATGGATTTCGT-1                          0.0                          0.0  \n",
       "CGCACTTGCGAGTT-1                          0.0                          0.0  \n",
       "CTATGACTAACGTC-1                          0.0                          0.0  \n",
       "TCCACGTGTGAGCT-1                          0.0                          0.0  \n",
       "GTCACAGAGTACGT-1                          0.0                          0.0  \n",
       "\n",
       "[1270 rows x 32738 columns]"
      ]
     },
     "execution_count": 65,
     "metadata": {},
     "output_type": "execute_result"
    }
   ],
   "source": [
    "split_one.drop(\"labels\", axis=1)"
   ]
  }
 ],
 "metadata": {
  "kernelspec": {
   "display_name": "daniel_thesis",
   "language": "python",
   "name": "daniel_thesis_2"
  },
  "language_info": {
   "codemirror_mode": {
    "name": "ipython",
    "version": 3
   },
   "file_extension": ".py",
   "mimetype": "text/x-python",
   "name": "python",
   "nbconvert_exporter": "python",
   "pygments_lexer": "ipython3",
   "version": "3.9.7"
  }
 },
 "nbformat": 4,
 "nbformat_minor": 5
}
