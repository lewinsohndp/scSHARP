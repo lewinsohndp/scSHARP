{
 "cells": [
  {
   "cell_type": "code",
   "execution_count": 42,
   "id": "7091f33c",
   "metadata": {},
   "outputs": [],
   "source": [
    "import pandas as pd\n",
    "import numpy as np\n",
    "import utilities\n",
    "import torch\n",
    "import statistics\n",
    "import matplotlib.pyplot as plt"
   ]
  },
  {
   "cell_type": "code",
   "execution_count": 43,
   "id": "2e0a2ff6",
   "metadata": {},
   "outputs": [],
   "source": [
    "data_path = \"/home/groups/ConradLab/daniel/sharp_data/sharp_sims_de_testing/\""
   ]
  },
  {
   "cell_type": "code",
   "execution_count": 44,
   "id": "75876c6f",
   "metadata": {},
   "outputs": [
    {
     "name": "stdout",
     "output_type": "stream",
     "text": [
      "0.3\n",
      "0.4\n",
      "0.5\n",
      "0.6\n",
      "0.7\n",
      "0.8\n",
      "0.9\n",
      "1\n"
     ]
    }
   ],
   "source": [
    "mean_accuracies = []\n",
    "x_vals = []\n",
    "for i in [0.3, 0.4, 0.5, 0.6, 0.7, 0.8, 0.9, 1]:\n",
    "    print(i)\n",
    "    real_path = data_path + \"splat_\" + str(i) + \"_de_rq_103122/\"\n",
    "    counts = pd.read_csv(real_path + \"query_counts.csv\", index_col=0)\n",
    "    _,keep_cells,_,_ = utilities.preprocess(np.array(counts))\n",
    "    _,marker_names = utilities.read_marker_file(real_path + \"markers.txt\")\n",
    "    preds = pd.read_csv(real_path + \"preds.csv\", index_col=0)\n",
    "    preds = utilities.factorize_df(preds, marker_names)\n",
    "    real_labels = pd.read_csv(real_path + \"query_meta.csv\", index_col=0).Group\n",
    "    real_labels = np.array(pd.factorize(real_labels, sort=True)[0])\n",
    "    real_labels = real_labels[keep_cells]\n",
    "    \n",
    "    accuracies = []\n",
    "    for col in preds.columns:\n",
    "        accuracies.append(utilities.validation_metrics(torch.tensor(real_labels), torch.tensor(preds[col]), range(len(real_labels)), range(len(real_labels)))[0])\n",
    "    \n",
    "    mean_accuracies.append(statistics.mean(accuracies))\n",
    "    x_vals.append(i)"
   ]
  },
  {
   "cell_type": "code",
   "execution_count": 48,
   "id": "0d1cdf5e",
   "metadata": {},
   "outputs": [
    {
     "data": {
      "text/plain": [
       "Text(0.5, 1.0, 'de.facScale vs Average Tool Accuracy')"
      ]
     },
     "execution_count": 48,
     "metadata": {},
     "output_type": "execute_result"
    },
    {
     "data": {
      "image/png": "[encoded data removed]",
      "text/plain": [
       "<Figure size 432x288 with 1 Axes>"
      ]
     },
     "metadata": {
      "needs_background": "light"
     },
     "output_type": "display_data"
    }
   ],
   "source": [
    "plt.scatter(x_vals, mean_accuracies)\n",
    "plt.xlabel(\"de.facScale Value\")\n",
    "plt.ylabel(\"Average Tool Accuracy\")\n",
    "plt.title(\"de.facScale vs Average Tool Accuracy\")"
   ]
  }
 ],
 "metadata": {
  "kernelspec": {
   "display_name": "daniel_thesis",
   "language": "python",
   "name": "daniel_thesis_2"
  },
  "language_info": {
   "codemirror_mode": {
    "name": "ipython",
    "version": 3
   },
   "file_extension": ".py",
   "mimetype": "text/x-python",
   "name": "python",
   "nbconvert_exporter": "python",
   "pygments_lexer": "ipython3",
   "version": "3.9.7"
  }
 },
 "nbformat": 4,
 "nbformat_minor": 5
}
